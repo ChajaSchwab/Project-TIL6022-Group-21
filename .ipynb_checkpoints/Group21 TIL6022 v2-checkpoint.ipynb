{
 "cells": [
  {
   "cell_type": "markdown",
   "metadata": {},
   "source": [
    "# Project Group - \n",
    "\n",
    "Members: Eva Lijnen, Chaja Swab, Willemijn Dietz, Veerle van Citters, Noa Zijlmans\n",
    "\n",
    "Student numbers: 4570812, 4661753, 5868130, 5871026, 4957024 "
   ]
  },
  {
   "cell_type": "markdown",
   "metadata": {},
   "source": [
    "# Research Objective\n",
    "\n",
    "*Requires data modeling and quantitative research in Transport, Infrastructure & Logistics*"
   ]
  },
  {
   "cell_type": "markdown",
   "metadata": {},
   "source": [
    "# Research Question:\n",
    "**How did Covid-19 affect the passenger air traffic in the Netherlands?**\n",
    "\n",
    "*Time scope:*\n",
    "January 2019 - August 2022\n",
    "(Covid-19 begin datum, toen nog geen meetgegevens, dus nemen data vanaf xx-xx-xxxx)\n",
    "2019 is our base case scenario, the impact of Covid on the number of passenger is measured by comparing a given month in the pandemic with the corresponding month in the base case scenario.\n",
    "\n",
    "*Spatial scope:* \n",
    "All passengers related to the following airports fall inside the scope: Amsterdam Airport Schiphol, Rotterdam The Hague Airport, Eindhoven Airport, Maastricht Aachen Airport and Groningen Airport Eelde. It has been decided to consider the number of passenger instead of flights. The reasoning behind this is that the number of flights might not be representative as airlines operated empty flights in order to keep their airport slot during Covid-19 (https://nos.nl/artikel/2412154-die-duizenden-lege-vluchten-zijn-volgens-luchthavenkoepel-helemaal-niet-nodig). \n",
    "\n",
    "*Definitions:*\n",
    "As stated in the reasearch question, only passenger air traffic is considered; cargo and mail air traffic fall outside the scope of this research. Moreover, our hypothesis is that mail and cargo air traffic have been less affected by Covid-19. Passenger air traffic is measured in number of passenger (not in number of flights). \n",
    "\n",
    "\n",
    "# Subquestions: \n",
    "**Subquestion 1**\n",
    "\n",
    "How has the number of air traffic passengers developed in the considered time and spatial scope?\n",
    "\n",
    "*Hypothesis:* It is expected that the number of passengers is dependent on the governmental regulations in place. In times of strict regulations, it is expected that the number of air passengers is low. When Covid-19 measurements where low, it is expected that the number of passengers is broadly comparable to the number of passengers before Covid-19.  \n",
    "\n",
    "\n",
    "**Subquestion 2**\n",
    "\n",
    "How has the number of new Covid-19 cases developed in the considered time in the Netherlands?\n",
    "\n",
    "*Hypothesis:* It is expected that the number of Covid infections is dependent on seasonality and the regualtions in place. \n",
    "\n",
    "\n",
    "**Subquestion 3**\n",
    "\n",
    "Are there relative differences in the development of air traffic passengers between the considered airports in the Netherlands?\n",
    "\n",
    "*Hypothesis:* Groningen airport is mainly focused on pleasure flights (BRON), therefore it is expected that the number of passengers has been less affected compared to other airports. \n",
    "\n",
    "\n",
    "**Subquestion 4**\n",
    "\n",
    "How has COVID-19 impacted air traffic from and to various regions / continents?\n",
    "\n",
    "*Hypothesis:* It is expected that number of air passengers on intercontinental flights has been more affected than EUROPEAN FLIGHTS?"
   ]
  },
  {
   "cell_type": "markdown",
   "metadata": {},
   "source": [
    "# Discussion:\n",
    "\n",
    "- Covid cases: niet bekend / betrouwbaar in begin van pandemie (definieer tijdsperiode). \n",
    "- Seasonality: take into accoutn\n",
    "- 'Yearly' growth of air traffic not incorporated between 2019-2022\n",
    "- External factors outside the scope: high costs / inflation / recession, fear of Covid, personnel shortages\n",
    "- July misschien niet representative "
   ]
  },
  {
   "cell_type": "markdown",
   "metadata": {},
   "source": [
    "# Contribution Statement\n",
    "\n",
    "*Be specific. Some of the tasks can be coding (expect everyone to do this), background research, conceptualisation, visualisation, data analysis, data modelling*"
   ]
  },
  {
   "cell_type": "markdown",
   "metadata": {},
   "source": [
    "**Author 1**:\n",
    "\n",
    "**Author 2**:\n",
    "\n",
    "**Author 3**:"
   ]
  },
  {
   "cell_type": "markdown",
   "metadata": {},
   "source": [
    "# Data Used"
   ]
  },
  {
   "cell_type": "markdown",
   "metadata": {},
   "source": []
  },
  {
   "cell_type": "markdown",
   "metadata": {},
   "source": [
    "# Data Pipeline"
   ]
  },
  {
   "cell_type": "markdown",
   "metadata": {},
   "source": []
  },
  {
   "cell_type": "code",
   "execution_count": 21,
   "metadata": {},
   "outputs": [],
   "source": [
    "%matplotlib notebook\n",
    "\n",
    "\n",
    "from urllib.request import urlopen\n",
    "from plotly.offline import init_notebook_mode\n",
    "import plotly.express as px\n",
    "import plotly.graph_objects as go\n",
    "import json\n",
    "import pandas as pd\n",
    "import numpy as np\n",
    "import itertools\n",
    "import matplotlib.pyplot as plt\n",
    "import matplotlib.animation as animation\n",
    "import plotly.io as pio\n",
    "import geopandas as gpd\n",
    "import datetime\n",
    "from plotly.graph_objs import *\n",
    "\n",
    "\n",
    "filepath = '/Users/veerlevancitters/Project-TIL6022-Group-21/Monthly_figures_on_aviation_10102022_111323.csv'\n",
    "\n",
    "airtraffic_df = pd.read_csv(filepath, sep=\";\")"
   ]
  },
  {
   "cell_type": "markdown",
   "metadata": {},
   "source": [
    "# Subquestion 1"
   ]
  },
  {
   "cell_type": "code",
   "execution_count": 22,
   "metadata": {},
   "outputs": [
    {
     "name": "stderr",
     "output_type": "stream",
     "text": [
      "<ipython-input-22-93ac14d18327>:7: FutureWarning:\n",
      "\n",
      "The default value of regex will change from True to False in a future version. In addition, single character regular expressions will*not* be treated as literal strings when regex=True.\n",
      "\n"
     ]
    },
    {
     "data": {
      "text/html": [
       "<div>\n",
       "<style scoped>\n",
       "    .dataframe tbody tr th:only-of-type {\n",
       "        vertical-align: middle;\n",
       "    }\n",
       "\n",
       "    .dataframe tbody tr th {\n",
       "        vertical-align: top;\n",
       "    }\n",
       "\n",
       "    .dataframe thead th {\n",
       "        text-align: right;\n",
       "    }\n",
       "</style>\n",
       "<table border=\"1\" class=\"dataframe\">\n",
       "  <thead>\n",
       "    <tr style=\"text-align: right;\">\n",
       "      <th></th>\n",
       "      <th>Airports</th>\n",
       "      <th>Periods</th>\n",
       "      <th>Aircraft movements/Cross-country flights (number)</th>\n",
       "      <th>Aircraft movements/Local flights (number)</th>\n",
       "      <th>Commercial air traffic/Flights/All flights/Total flights (number)</th>\n",
       "      <th>Commercial air traffic/Flights/All flights/Scheduled (number)</th>\n",
       "      <th>Commercial air traffic/Flights/All flights/Non-scheduled (number)</th>\n",
       "      <th>Commercial air traffic/Flights/Arrivals/Total arrivals flights (number)</th>\n",
       "      <th>Commercial air traffic/Flights/Arrivals/Scheduled (number)</th>\n",
       "      <th>Commercial air traffic/Flights/Arrivals/Non-scheduled (number)</th>\n",
       "      <th>...</th>\n",
       "      <th>Commercial air traffic/Mail/Country of origin/destination mail/Intercontinental mail/Africa/South Africa (ton)</th>\n",
       "      <th>Commercial air traffic/Mail/Country of origin/destination mail/Intercontinental mail/America/America (ton)</th>\n",
       "      <th>Commercial air traffic/Mail/Country of origin/destination mail/Intercontinental mail/America/North America (ton)</th>\n",
       "      <th>Commercial air traffic/Mail/Country of origin/destination mail/Intercontinental mail/America/Central America (ton)</th>\n",
       "      <th>Commercial air traffic/Mail/Country of origin/destination mail/Intercontinental mail/America/South America (ton)</th>\n",
       "      <th>Commercial air traffic/Mail/Country of origin/destination mail/Intercontinental mail/Asia/Asia (ton)</th>\n",
       "      <th>Commercial air traffic/Mail/Country of origin/destination mail/Intercontinental mail/Asia/West Asia (ton)</th>\n",
       "      <th>Commercial air traffic/Mail/Country of origin/destination mail/Intercontinental mail/Asia/South-East Asia (ton)</th>\n",
       "      <th>Commercial air traffic/Mail/Country of origin/destination mail/Intercontinental mail/Asia/North-East Asia (ton)</th>\n",
       "      <th>Commercial air traffic/Mail/Country of origin/destination mail/Intercontinental mail/Oceania (ton)</th>\n",
       "    </tr>\n",
       "  </thead>\n",
       "  <tbody>\n",
       "    <tr>\n",
       "      <th>248</th>\n",
       "      <td>Total Dutch airports</td>\n",
       "      <td>2019-01-01</td>\n",
       "      <td>43492</td>\n",
       "      <td>3547</td>\n",
       "      <td>41285</td>\n",
       "      <td>40217</td>\n",
       "      <td>1068</td>\n",
       "      <td>20634</td>\n",
       "      <td>20102</td>\n",
       "      <td>532</td>\n",
       "      <td>...</td>\n",
       "      <td>2</td>\n",
       "      <td>589</td>\n",
       "      <td>380</td>\n",
       "      <td>50</td>\n",
       "      <td>159</td>\n",
       "      <td>444</td>\n",
       "      <td>95</td>\n",
       "      <td>97</td>\n",
       "      <td>252</td>\n",
       "      <td>0</td>\n",
       "    </tr>\n",
       "    <tr>\n",
       "      <th>249</th>\n",
       "      <td>Total Dutch airports</td>\n",
       "      <td>2019-02-01</td>\n",
       "      <td>41972</td>\n",
       "      <td>3564</td>\n",
       "      <td>39204</td>\n",
       "      <td>38408</td>\n",
       "      <td>796</td>\n",
       "      <td>19595</td>\n",
       "      <td>19196</td>\n",
       "      <td>399</td>\n",
       "      <td>...</td>\n",
       "      <td>4</td>\n",
       "      <td>527</td>\n",
       "      <td>339</td>\n",
       "      <td>45</td>\n",
       "      <td>143</td>\n",
       "      <td>395</td>\n",
       "      <td>93</td>\n",
       "      <td>70</td>\n",
       "      <td>231</td>\n",
       "      <td>0</td>\n",
       "    </tr>\n",
       "    <tr>\n",
       "      <th>250</th>\n",
       "      <td>Total Dutch airports</td>\n",
       "      <td>2019-03-01</td>\n",
       "      <td>47712</td>\n",
       "      <td>3992</td>\n",
       "      <td>44649</td>\n",
       "      <td>43828</td>\n",
       "      <td>821</td>\n",
       "      <td>22326</td>\n",
       "      <td>21915</td>\n",
       "      <td>411</td>\n",
       "      <td>...</td>\n",
       "      <td>5</td>\n",
       "      <td>494</td>\n",
       "      <td>293</td>\n",
       "      <td>49</td>\n",
       "      <td>152</td>\n",
       "      <td>628</td>\n",
       "      <td>98</td>\n",
       "      <td>134</td>\n",
       "      <td>397</td>\n",
       "      <td>0</td>\n",
       "    </tr>\n",
       "    <tr>\n",
       "      <th>251</th>\n",
       "      <td>Total Dutch airports</td>\n",
       "      <td>2019-04-01</td>\n",
       "      <td>51400</td>\n",
       "      <td>4990</td>\n",
       "      <td>47934</td>\n",
       "      <td>46845</td>\n",
       "      <td>1089</td>\n",
       "      <td>23965</td>\n",
       "      <td>23363</td>\n",
       "      <td>602</td>\n",
       "      <td>...</td>\n",
       "      <td>5</td>\n",
       "      <td>490</td>\n",
       "      <td>301</td>\n",
       "      <td>50</td>\n",
       "      <td>139</td>\n",
       "      <td>579</td>\n",
       "      <td>88</td>\n",
       "      <td>106</td>\n",
       "      <td>385</td>\n",
       "      <td>0</td>\n",
       "    </tr>\n",
       "    <tr>\n",
       "      <th>252</th>\n",
       "      <td>Total Dutch airports</td>\n",
       "      <td>2019-05-01</td>\n",
       "      <td>55561</td>\n",
       "      <td>4923</td>\n",
       "      <td>51719</td>\n",
       "      <td>50253</td>\n",
       "      <td>1466</td>\n",
       "      <td>25851</td>\n",
       "      <td>25132</td>\n",
       "      <td>719</td>\n",
       "      <td>...</td>\n",
       "      <td>6</td>\n",
       "      <td>476</td>\n",
       "      <td>284</td>\n",
       "      <td>53</td>\n",
       "      <td>139</td>\n",
       "      <td>691</td>\n",
       "      <td>94</td>\n",
       "      <td>174</td>\n",
       "      <td>423</td>\n",
       "      <td>0</td>\n",
       "    </tr>\n",
       "    <tr>\n",
       "      <th>...</th>\n",
       "      <td>...</td>\n",
       "      <td>...</td>\n",
       "      <td>...</td>\n",
       "      <td>...</td>\n",
       "      <td>...</td>\n",
       "      <td>...</td>\n",
       "      <td>...</td>\n",
       "      <td>...</td>\n",
       "      <td>...</td>\n",
       "      <td>...</td>\n",
       "      <td>...</td>\n",
       "      <td>...</td>\n",
       "      <td>...</td>\n",
       "      <td>...</td>\n",
       "      <td>...</td>\n",
       "      <td>...</td>\n",
       "      <td>...</td>\n",
       "      <td>...</td>\n",
       "      <td>...</td>\n",
       "      <td>...</td>\n",
       "      <td>...</td>\n",
       "    </tr>\n",
       "    <tr>\n",
       "      <th>1765</th>\n",
       "      <td>Groningen Airport Eelde</td>\n",
       "      <td>2022-04-01</td>\n",
       "      <td>1029</td>\n",
       "      <td>4076</td>\n",
       "      <td>62</td>\n",
       "      <td>0</td>\n",
       "      <td>62</td>\n",
       "      <td>32</td>\n",
       "      <td>0</td>\n",
       "      <td>32</td>\n",
       "      <td>...</td>\n",
       "      <td>0</td>\n",
       "      <td>0</td>\n",
       "      <td>0</td>\n",
       "      <td>0</td>\n",
       "      <td>0</td>\n",
       "      <td>0</td>\n",
       "      <td>0</td>\n",
       "      <td>0</td>\n",
       "      <td>0</td>\n",
       "      <td>0</td>\n",
       "    </tr>\n",
       "    <tr>\n",
       "      <th>1766</th>\n",
       "      <td>Groningen Airport Eelde</td>\n",
       "      <td>2022-05-01</td>\n",
       "      <td>1043</td>\n",
       "      <td>4264</td>\n",
       "      <td>120</td>\n",
       "      <td>0</td>\n",
       "      <td>120</td>\n",
       "      <td>57</td>\n",
       "      <td>0</td>\n",
       "      <td>57</td>\n",
       "      <td>...</td>\n",
       "      <td>0</td>\n",
       "      <td>0</td>\n",
       "      <td>0</td>\n",
       "      <td>0</td>\n",
       "      <td>0</td>\n",
       "      <td>0</td>\n",
       "      <td>0</td>\n",
       "      <td>0</td>\n",
       "      <td>0</td>\n",
       "      <td>0</td>\n",
       "    </tr>\n",
       "    <tr>\n",
       "      <th>1767</th>\n",
       "      <td>Groningen Airport Eelde</td>\n",
       "      <td>2022-06-01</td>\n",
       "      <td>1260</td>\n",
       "      <td>5606</td>\n",
       "      <td>148</td>\n",
       "      <td>0</td>\n",
       "      <td>148</td>\n",
       "      <td>78</td>\n",
       "      <td>0</td>\n",
       "      <td>78</td>\n",
       "      <td>...</td>\n",
       "      <td>0</td>\n",
       "      <td>0</td>\n",
       "      <td>0</td>\n",
       "      <td>0</td>\n",
       "      <td>0</td>\n",
       "      <td>0</td>\n",
       "      <td>0</td>\n",
       "      <td>0</td>\n",
       "      <td>0</td>\n",
       "      <td>0</td>\n",
       "    </tr>\n",
       "    <tr>\n",
       "      <th>1768</th>\n",
       "      <td>Groningen Airport Eelde</td>\n",
       "      <td>2022-07-01</td>\n",
       "      <td>1114</td>\n",
       "      <td>5362</td>\n",
       "      <td>132</td>\n",
       "      <td>0</td>\n",
       "      <td>132</td>\n",
       "      <td>67</td>\n",
       "      <td>0</td>\n",
       "      <td>67</td>\n",
       "      <td>...</td>\n",
       "      <td>0</td>\n",
       "      <td>0</td>\n",
       "      <td>0</td>\n",
       "      <td>0</td>\n",
       "      <td>0</td>\n",
       "      <td>0</td>\n",
       "      <td>0</td>\n",
       "      <td>0</td>\n",
       "      <td>0</td>\n",
       "      <td>0</td>\n",
       "    </tr>\n",
       "    <tr>\n",
       "      <th>1769</th>\n",
       "      <td>Groningen Airport Eelde</td>\n",
       "      <td>2022-08-01</td>\n",
       "      <td>1131</td>\n",
       "      <td>5378</td>\n",
       "      <td>135</td>\n",
       "      <td>0</td>\n",
       "      <td>135</td>\n",
       "      <td>65</td>\n",
       "      <td>0</td>\n",
       "      <td>65</td>\n",
       "      <td>...</td>\n",
       "      <td>0</td>\n",
       "      <td>0</td>\n",
       "      <td>0</td>\n",
       "      <td>0</td>\n",
       "      <td>0</td>\n",
       "      <td>0</td>\n",
       "      <td>0</td>\n",
       "      <td>0</td>\n",
       "      <td>0</td>\n",
       "      <td>0</td>\n",
       "    </tr>\n",
       "  </tbody>\n",
       "</table>\n",
       "<p>264 rows × 104 columns</p>\n",
       "</div>"
      ],
      "text/plain": [
       "                     Airports    Periods  \\\n",
       "248      Total Dutch airports 2019-01-01   \n",
       "249      Total Dutch airports 2019-02-01   \n",
       "250      Total Dutch airports 2019-03-01   \n",
       "251      Total Dutch airports 2019-04-01   \n",
       "252      Total Dutch airports 2019-05-01   \n",
       "...                       ...        ...   \n",
       "1765  Groningen Airport Eelde 2022-04-01   \n",
       "1766  Groningen Airport Eelde 2022-05-01   \n",
       "1767  Groningen Airport Eelde 2022-06-01   \n",
       "1768  Groningen Airport Eelde 2022-07-01   \n",
       "1769  Groningen Airport Eelde 2022-08-01   \n",
       "\n",
       "      Aircraft movements/Cross-country flights (number)  \\\n",
       "248                                               43492   \n",
       "249                                               41972   \n",
       "250                                               47712   \n",
       "251                                               51400   \n",
       "252                                               55561   \n",
       "...                                                 ...   \n",
       "1765                                               1029   \n",
       "1766                                               1043   \n",
       "1767                                               1260   \n",
       "1768                                               1114   \n",
       "1769                                               1131   \n",
       "\n",
       "      Aircraft movements/Local flights (number)  \\\n",
       "248                                        3547   \n",
       "249                                        3564   \n",
       "250                                        3992   \n",
       "251                                        4990   \n",
       "252                                        4923   \n",
       "...                                         ...   \n",
       "1765                                       4076   \n",
       "1766                                       4264   \n",
       "1767                                       5606   \n",
       "1768                                       5362   \n",
       "1769                                       5378   \n",
       "\n",
       "      Commercial air traffic/Flights/All flights/Total flights (number)  \\\n",
       "248                                               41285                   \n",
       "249                                               39204                   \n",
       "250                                               44649                   \n",
       "251                                               47934                   \n",
       "252                                               51719                   \n",
       "...                                                 ...                   \n",
       "1765                                                 62                   \n",
       "1766                                                120                   \n",
       "1767                                                148                   \n",
       "1768                                                132                   \n",
       "1769                                                135                   \n",
       "\n",
       "     Commercial air traffic/Flights/All flights/Scheduled (number)  \\\n",
       "248                                               40217              \n",
       "249                                               38408              \n",
       "250                                               43828              \n",
       "251                                               46845              \n",
       "252                                               50253              \n",
       "...                                                 ...              \n",
       "1765                                                  0              \n",
       "1766                                                  0              \n",
       "1767                                                  0              \n",
       "1768                                                  0              \n",
       "1769                                                  0              \n",
       "\n",
       "      Commercial air traffic/Flights/All flights/Non-scheduled (number)  \\\n",
       "248                                                1068                   \n",
       "249                                                 796                   \n",
       "250                                                 821                   \n",
       "251                                                1089                   \n",
       "252                                                1466                   \n",
       "...                                                 ...                   \n",
       "1765                                                 62                   \n",
       "1766                                                120                   \n",
       "1767                                                148                   \n",
       "1768                                                132                   \n",
       "1769                                                135                   \n",
       "\n",
       "      Commercial air traffic/Flights/Arrivals/Total arrivals flights (number)  \\\n",
       "248                                               20634                         \n",
       "249                                               19595                         \n",
       "250                                               22326                         \n",
       "251                                               23965                         \n",
       "252                                               25851                         \n",
       "...                                                 ...                         \n",
       "1765                                                 32                         \n",
       "1766                                                 57                         \n",
       "1767                                                 78                         \n",
       "1768                                                 67                         \n",
       "1769                                                 65                         \n",
       "\n",
       "     Commercial air traffic/Flights/Arrivals/Scheduled (number)  \\\n",
       "248                                               20102           \n",
       "249                                               19196           \n",
       "250                                               21915           \n",
       "251                                               23363           \n",
       "252                                               25132           \n",
       "...                                                 ...           \n",
       "1765                                                  0           \n",
       "1766                                                  0           \n",
       "1767                                                  0           \n",
       "1768                                                  0           \n",
       "1769                                                  0           \n",
       "\n",
       "      Commercial air traffic/Flights/Arrivals/Non-scheduled (number)  ...  \\\n",
       "248                                                 532               ...   \n",
       "249                                                 399               ...   \n",
       "250                                                 411               ...   \n",
       "251                                                 602               ...   \n",
       "252                                                 719               ...   \n",
       "...                                                 ...               ...   \n",
       "1765                                                 32               ...   \n",
       "1766                                                 57               ...   \n",
       "1767                                                 78               ...   \n",
       "1768                                                 67               ...   \n",
       "1769                                                 65               ...   \n",
       "\n",
       "      Commercial air traffic/Mail/Country of origin/destination mail/Intercontinental mail/Africa/South Africa (ton)  \\\n",
       "248                                                   2                                                                \n",
       "249                                                   4                                                                \n",
       "250                                                   5                                                                \n",
       "251                                                   5                                                                \n",
       "252                                                   6                                                                \n",
       "...                                                 ...                                                                \n",
       "1765                                                  0                                                                \n",
       "1766                                                  0                                                                \n",
       "1767                                                  0                                                                \n",
       "1768                                                  0                                                                \n",
       "1769                                                  0                                                                \n",
       "\n",
       "     Commercial air traffic/Mail/Country of origin/destination mail/Intercontinental mail/America/America (ton)  \\\n",
       "248                                                 589                                                           \n",
       "249                                                 527                                                           \n",
       "250                                                 494                                                           \n",
       "251                                                 490                                                           \n",
       "252                                                 476                                                           \n",
       "...                                                 ...                                                           \n",
       "1765                                                  0                                                           \n",
       "1766                                                  0                                                           \n",
       "1767                                                  0                                                           \n",
       "1768                                                  0                                                           \n",
       "1769                                                  0                                                           \n",
       "\n",
       "      Commercial air traffic/Mail/Country of origin/destination mail/Intercontinental mail/America/North America (ton)  \\\n",
       "248                                                 380                                                                  \n",
       "249                                                 339                                                                  \n",
       "250                                                 293                                                                  \n",
       "251                                                 301                                                                  \n",
       "252                                                 284                                                                  \n",
       "...                                                 ...                                                                  \n",
       "1765                                                  0                                                                  \n",
       "1766                                                  0                                                                  \n",
       "1767                                                  0                                                                  \n",
       "1768                                                  0                                                                  \n",
       "1769                                                  0                                                                  \n",
       "\n",
       "      Commercial air traffic/Mail/Country of origin/destination mail/Intercontinental mail/America/Central America (ton)  \\\n",
       "248                                                  50                                                                    \n",
       "249                                                  45                                                                    \n",
       "250                                                  49                                                                    \n",
       "251                                                  50                                                                    \n",
       "252                                                  53                                                                    \n",
       "...                                                 ...                                                                    \n",
       "1765                                                  0                                                                    \n",
       "1766                                                  0                                                                    \n",
       "1767                                                  0                                                                    \n",
       "1768                                                  0                                                                    \n",
       "1769                                                  0                                                                    \n",
       "\n",
       "     Commercial air traffic/Mail/Country of origin/destination mail/Intercontinental mail/America/South America (ton)  \\\n",
       "248                                                 159                                                                 \n",
       "249                                                 143                                                                 \n",
       "250                                                 152                                                                 \n",
       "251                                                 139                                                                 \n",
       "252                                                 139                                                                 \n",
       "...                                                 ...                                                                 \n",
       "1765                                                  0                                                                 \n",
       "1766                                                  0                                                                 \n",
       "1767                                                  0                                                                 \n",
       "1768                                                  0                                                                 \n",
       "1769                                                  0                                                                 \n",
       "\n",
       "      Commercial air traffic/Mail/Country of origin/destination mail/Intercontinental mail/Asia/Asia (ton)  \\\n",
       "248                                                 444                                                      \n",
       "249                                                 395                                                      \n",
       "250                                                 628                                                      \n",
       "251                                                 579                                                      \n",
       "252                                                 691                                                      \n",
       "...                                                 ...                                                      \n",
       "1765                                                  0                                                      \n",
       "1766                                                  0                                                      \n",
       "1767                                                  0                                                      \n",
       "1768                                                  0                                                      \n",
       "1769                                                  0                                                      \n",
       "\n",
       "      Commercial air traffic/Mail/Country of origin/destination mail/Intercontinental mail/Asia/West Asia (ton)  \\\n",
       "248                                                  95                                                           \n",
       "249                                                  93                                                           \n",
       "250                                                  98                                                           \n",
       "251                                                  88                                                           \n",
       "252                                                  94                                                           \n",
       "...                                                 ...                                                           \n",
       "1765                                                  0                                                           \n",
       "1766                                                  0                                                           \n",
       "1767                                                  0                                                           \n",
       "1768                                                  0                                                           \n",
       "1769                                                  0                                                           \n",
       "\n",
       "     Commercial air traffic/Mail/Country of origin/destination mail/Intercontinental mail/Asia/South-East Asia (ton)  \\\n",
       "248                                                  97                                                                \n",
       "249                                                  70                                                                \n",
       "250                                                 134                                                                \n",
       "251                                                 106                                                                \n",
       "252                                                 174                                                                \n",
       "...                                                 ...                                                                \n",
       "1765                                                  0                                                                \n",
       "1766                                                  0                                                                \n",
       "1767                                                  0                                                                \n",
       "1768                                                  0                                                                \n",
       "1769                                                  0                                                                \n",
       "\n",
       "      Commercial air traffic/Mail/Country of origin/destination mail/Intercontinental mail/Asia/North-East Asia (ton)  \\\n",
       "248                                                 252                                                                 \n",
       "249                                                 231                                                                 \n",
       "250                                                 397                                                                 \n",
       "251                                                 385                                                                 \n",
       "252                                                 423                                                                 \n",
       "...                                                 ...                                                                 \n",
       "1765                                                  0                                                                 \n",
       "1766                                                  0                                                                 \n",
       "1767                                                  0                                                                 \n",
       "1768                                                  0                                                                 \n",
       "1769                                                  0                                                                 \n",
       "\n",
       "      Commercial air traffic/Mail/Country of origin/destination mail/Intercontinental mail/Oceania (ton)  \n",
       "248                                                   0                                                   \n",
       "249                                                   0                                                   \n",
       "250                                                   0                                                   \n",
       "251                                                   0                                                   \n",
       "252                                                   0                                                   \n",
       "...                                                 ...                                                   \n",
       "1765                                                  0                                                   \n",
       "1766                                                  0                                                   \n",
       "1767                                                  0                                                   \n",
       "1768                                                  0                                                   \n",
       "1769                                                  0                                                   \n",
       "\n",
       "[264 rows x 104 columns]"
      ]
     },
     "execution_count": 22,
     "metadata": {},
     "output_type": "execute_result"
    }
   ],
   "source": [
    "#DATA CLEANING: \n",
    "\n",
    "#SELECT CORRECT TIMESPAN\n",
    "\n",
    "#Convert Periods column to datetime\n",
    "#Deze moet je 1 keer uncommenten en daarna weer ###\n",
    "airtraffic_df['Periods'] = airtraffic_df['Periods'].str.replace('*', '')\n",
    "airtraffic_df['Periods'] = pd.to_datetime(airtraffic_df['Periods'], format = '%Y %B', errors = 'coerce') \n",
    "\n",
    "#airtraffic_df['Periods'].info()\n",
    "airtraffic_df['Periods']\n",
    "\n",
    "#Select rows that fall within our timespan\n",
    "at_df_timespan = airtraffic_df[airtraffic_df['Periods'] >= '2019-01-01']\n",
    "\n",
    "#Check for NaN values\n",
    "#There are no NaN values \n",
    "#at_df_timespan.isnull().sum().sum()\n",
    "\n",
    "at_df_timespan"
   ]
  },
  {
   "cell_type": "code",
   "execution_count": 23,
   "metadata": {},
   "outputs": [
    {
     "data": {
      "application/vnd.plotly.v1+json": {
       "config": {
        "plotlyServerURL": "https://plot.ly"
       },
       "data": [
        {
         "hovertemplate": "Airports=Total Dutch airports<br>Periods=%{x}<br>Commercial air traffic/Passengers/Total passengers/Total passengers (number)=%{y}<extra></extra>",
         "legendgroup": "Total Dutch airports",
         "line": {
          "color": "#636efa",
          "dash": "solid"
         },
         "marker": {
          "symbol": "circle"
         },
         "mode": "lines",
         "name": "Total Dutch airports",
         "orientation": "v",
         "showlegend": true,
         "type": "scatter",
         "x": [
          "2019-01-01T00:00:00",
          "2019-02-01T00:00:00",
          "2019-03-01T00:00:00",
          "2019-04-01T00:00:00",
          "2019-05-01T00:00:00",
          "2019-06-01T00:00:00",
          "2019-07-01T00:00:00",
          "2019-08-01T00:00:00",
          "2019-09-01T00:00:00",
          "2019-10-01T00:00:00",
          "2019-11-01T00:00:00",
          "2019-12-01T00:00:00",
          "2020-01-01T00:00:00",
          "2020-02-01T00:00:00",
          "2020-03-01T00:00:00",
          "2020-04-01T00:00:00",
          "2020-05-01T00:00:00",
          "2020-06-01T00:00:00",
          "2020-07-01T00:00:00",
          "2020-08-01T00:00:00",
          "2020-09-01T00:00:00",
          "2020-10-01T00:00:00",
          "2020-11-01T00:00:00",
          "2020-12-01T00:00:00",
          "2021-01-01T00:00:00",
          "2021-02-01T00:00:00",
          "2021-03-01T00:00:00",
          "2021-04-01T00:00:00",
          "2021-05-01T00:00:00",
          "2021-06-01T00:00:00",
          "2021-07-01T00:00:00",
          "2021-08-01T00:00:00",
          "2021-09-01T00:00:00",
          "2021-10-01T00:00:00",
          "2021-11-01T00:00:00",
          "2021-12-01T00:00:00",
          "2022-01-01T00:00:00",
          "2022-02-01T00:00:00",
          "2022-03-01T00:00:00",
          "2022-04-01T00:00:00",
          "2022-05-01T00:00:00",
          "2022-06-01T00:00:00",
          "2022-07-01T00:00:00",
          "2022-08-01T00:00:00"
         ],
         "xaxis": "x",
         "y": [
          5495052,
          5352301,
          6270788,
          6926059,
          7396960,
          7471334,
          7730263,
          7859458,
          7486440,
          7354352,
          5885771,
          5938523,
          5595249,
          5281600,
          2773554,
          133752,
          220120,
          526544,
          1690515,
          2242935,
          1547263,
          1303123,
          965071,
          1306018,
          909617,
          519827,
          676647,
          817876,
          1169673,
          1870330,
          3515159,
          4479180,
          4013477,
          4395945,
          3492940,
          3208864,
          2831598,
          3040193,
          4241663,
          5140680,
          6092054,
          6118527,
          6211931,
          6378969
         ],
         "yaxis": "y"
        },
        {
         "hovertemplate": "Airports=Amsterdam Airport Schiphol<br>Periods=%{x}<br>Commercial air traffic/Passengers/Total passengers/Total passengers (number)=%{y}<extra></extra>",
         "legendgroup": "Amsterdam Airport Schiphol",
         "line": {
          "color": "#EF553B",
          "dash": "solid"
         },
         "marker": {
          "symbol": "circle"
         },
         "mode": "lines",
         "name": "Amsterdam Airport Schiphol",
         "orientation": "v",
         "showlegend": true,
         "type": "scatter",
         "x": [
          "2019-01-01T00:00:00",
          "2019-02-01T00:00:00",
          "2019-03-01T00:00:00",
          "2019-04-01T00:00:00",
          "2019-05-01T00:00:00",
          "2019-06-01T00:00:00",
          "2019-07-01T00:00:00",
          "2019-08-01T00:00:00",
          "2019-09-01T00:00:00",
          "2019-10-01T00:00:00",
          "2019-11-01T00:00:00",
          "2019-12-01T00:00:00",
          "2020-01-01T00:00:00",
          "2020-02-01T00:00:00",
          "2020-03-01T00:00:00",
          "2020-04-01T00:00:00",
          "2020-05-01T00:00:00",
          "2020-06-01T00:00:00",
          "2020-07-01T00:00:00",
          "2020-08-01T00:00:00",
          "2020-09-01T00:00:00",
          "2020-10-01T00:00:00",
          "2020-11-01T00:00:00",
          "2020-12-01T00:00:00",
          "2021-01-01T00:00:00",
          "2021-02-01T00:00:00",
          "2021-03-01T00:00:00",
          "2021-04-01T00:00:00",
          "2021-05-01T00:00:00",
          "2021-06-01T00:00:00",
          "2021-07-01T00:00:00",
          "2021-08-01T00:00:00",
          "2021-09-01T00:00:00",
          "2021-10-01T00:00:00",
          "2021-11-01T00:00:00",
          "2021-12-01T00:00:00",
          "2022-01-01T00:00:00",
          "2022-02-01T00:00:00",
          "2022-03-01T00:00:00",
          "2022-04-01T00:00:00",
          "2022-05-01T00:00:00",
          "2022-06-01T00:00:00",
          "2022-07-01T00:00:00",
          "2022-08-01T00:00:00"
         ],
         "xaxis": "x",
         "y": [
          4996131,
          4836332,
          5630314,
          6104010,
          6441473,
          6502588,
          6724023,
          6810759,
          6493468,
          6431122,
          5323306,
          5386203,
          5074773,
          4719769,
          2476372,
          126015,
          207827,
          471410,
          1338857,
          1854786,
          1337741,
          1143483,
          900434,
          1233043,
          869129,
          505194,
          660176,
          786652,
          1106740,
          1678265,
          3029951,
          3786973,
          3370205,
          3745991,
          3095823,
          2855711,
          2488083,
          2660676,
          3732048,
          4434587,
          5217035,
          5232630,
          5179725,
          5327361
         ],
         "yaxis": "y"
        },
        {
         "hovertemplate": "Airports=Rotterdam The Hague Airport<br>Periods=%{x}<br>Commercial air traffic/Passengers/Total passengers/Total passengers (number)=%{y}<extra></extra>",
         "legendgroup": "Rotterdam The Hague Airport",
         "line": {
          "color": "#00cc96",
          "dash": "solid"
         },
         "marker": {
          "symbol": "circle"
         },
         "mode": "lines",
         "name": "Rotterdam The Hague Airport",
         "orientation": "v",
         "showlegend": true,
         "type": "scatter",
         "x": [
          "2019-01-01T00:00:00",
          "2019-02-01T00:00:00",
          "2019-03-01T00:00:00",
          "2019-04-01T00:00:00",
          "2019-05-01T00:00:00",
          "2019-06-01T00:00:00",
          "2019-07-01T00:00:00",
          "2019-08-01T00:00:00",
          "2019-09-01T00:00:00",
          "2019-10-01T00:00:00",
          "2019-11-01T00:00:00",
          "2019-12-01T00:00:00",
          "2020-01-01T00:00:00",
          "2020-02-01T00:00:00",
          "2020-03-01T00:00:00",
          "2020-04-01T00:00:00",
          "2020-05-01T00:00:00",
          "2020-06-01T00:00:00",
          "2020-07-01T00:00:00",
          "2020-08-01T00:00:00",
          "2020-09-01T00:00:00",
          "2020-10-01T00:00:00",
          "2020-11-01T00:00:00",
          "2020-12-01T00:00:00",
          "2021-01-01T00:00:00",
          "2021-02-01T00:00:00",
          "2021-03-01T00:00:00",
          "2021-04-01T00:00:00",
          "2021-05-01T00:00:00",
          "2021-06-01T00:00:00",
          "2021-07-01T00:00:00",
          "2021-08-01T00:00:00",
          "2021-09-01T00:00:00",
          "2021-10-01T00:00:00",
          "2021-11-01T00:00:00",
          "2021-12-01T00:00:00",
          "2022-01-01T00:00:00",
          "2022-02-01T00:00:00",
          "2022-03-01T00:00:00",
          "2022-04-01T00:00:00",
          "2022-05-01T00:00:00",
          "2022-06-01T00:00:00",
          "2022-07-01T00:00:00",
          "2022-08-01T00:00:00"
         ],
         "xaxis": "x",
         "y": [
          84056,
          95420,
          137683,
          169142,
          227437,
          240069,
          251074,
          269858,
          240606,
          198592,
          91748,
          89113,
          99080,
          104062,
          62870,
          0,
          134,
          7971,
          78468,
          74047,
          32047,
          21811,
          4761,
          4590,
          3311,
          2871,
          98,
          1945,
          8912,
          39309,
          113882,
          181957,
          167169,
          147368,
          48278,
          40295,
          58903,
          63510,
          101163,
          139308,
          224714,
          224069,
          312468,
          305371
         ],
         "yaxis": "y"
        },
        {
         "hovertemplate": "Airports=Eindhoven Airport<br>Periods=%{x}<br>Commercial air traffic/Passengers/Total passengers/Total passengers (number)=%{y}<extra></extra>",
         "legendgroup": "Eindhoven Airport",
         "line": {
          "color": "#ab63fa",
          "dash": "solid"
         },
         "marker": {
          "symbol": "circle"
         },
         "mode": "lines",
         "name": "Eindhoven Airport",
         "orientation": "v",
         "showlegend": true,
         "type": "scatter",
         "x": [
          "2019-01-01T00:00:00",
          "2019-02-01T00:00:00",
          "2019-03-01T00:00:00",
          "2019-04-01T00:00:00",
          "2019-05-01T00:00:00",
          "2019-06-01T00:00:00",
          "2019-07-01T00:00:00",
          "2019-08-01T00:00:00",
          "2019-09-01T00:00:00",
          "2019-10-01T00:00:00",
          "2019-11-01T00:00:00",
          "2019-12-01T00:00:00",
          "2020-01-01T00:00:00",
          "2020-02-01T00:00:00",
          "2020-03-01T00:00:00",
          "2020-04-01T00:00:00",
          "2020-05-01T00:00:00",
          "2020-06-01T00:00:00",
          "2020-07-01T00:00:00",
          "2020-08-01T00:00:00",
          "2020-09-01T00:00:00",
          "2020-10-01T00:00:00",
          "2020-11-01T00:00:00",
          "2020-12-01T00:00:00",
          "2021-01-01T00:00:00",
          "2021-02-01T00:00:00",
          "2021-03-01T00:00:00",
          "2021-04-01T00:00:00",
          "2021-05-01T00:00:00",
          "2021-06-01T00:00:00",
          "2021-07-01T00:00:00",
          "2021-08-01T00:00:00",
          "2021-09-01T00:00:00",
          "2021-10-01T00:00:00",
          "2021-11-01T00:00:00",
          "2021-12-01T00:00:00",
          "2022-01-01T00:00:00",
          "2022-02-01T00:00:00",
          "2022-03-01T00:00:00",
          "2022-04-01T00:00:00",
          "2022-05-01T00:00:00",
          "2022-06-01T00:00:00",
          "2022-07-01T00:00:00",
          "2022-08-01T00:00:00"
         ],
         "xaxis": "x",
         "y": [
          400481,
          404961,
          486336,
          606490,
          656099,
          657648,
          665638,
          681093,
          672355,
          662238,
          446930,
          440506,
          400991,
          438828,
          225071,
          7732,
          12108,
          46774,
          257515,
          295053,
          171375,
          133057,
          57737,
          66544,
          36128,
          11314,
          16000,
          27805,
          51798,
          147608,
          344808,
          481576,
          453527,
          479966,
          341640,
          306254,
          275066,
          309283,
          401775,
          546389,
          619540,
          631700,
          662646,
          678848
         ],
         "yaxis": "y"
        },
        {
         "hovertemplate": "Airports=Maastricht Aachen Airport<br>Periods=%{x}<br>Commercial air traffic/Passengers/Total passengers/Total passengers (number)=%{y}<extra></extra>",
         "legendgroup": "Maastricht Aachen Airport",
         "line": {
          "color": "#FFA15A",
          "dash": "solid"
         },
         "marker": {
          "symbol": "circle"
         },
         "mode": "lines",
         "name": "Maastricht Aachen Airport",
         "orientation": "v",
         "showlegend": true,
         "type": "scatter",
         "x": [
          "2019-01-01T00:00:00",
          "2019-02-01T00:00:00",
          "2019-03-01T00:00:00",
          "2019-04-01T00:00:00",
          "2019-05-01T00:00:00",
          "2019-06-01T00:00:00",
          "2019-07-01T00:00:00",
          "2019-08-01T00:00:00",
          "2019-09-01T00:00:00",
          "2019-10-01T00:00:00",
          "2019-11-01T00:00:00",
          "2019-12-01T00:00:00",
          "2020-01-01T00:00:00",
          "2020-02-01T00:00:00",
          "2020-03-01T00:00:00",
          "2020-04-01T00:00:00",
          "2020-05-01T00:00:00",
          "2020-06-01T00:00:00",
          "2020-07-01T00:00:00",
          "2020-08-01T00:00:00",
          "2020-09-01T00:00:00",
          "2020-10-01T00:00:00",
          "2020-11-01T00:00:00",
          "2020-12-01T00:00:00",
          "2021-01-01T00:00:00",
          "2021-02-01T00:00:00",
          "2021-03-01T00:00:00",
          "2021-04-01T00:00:00",
          "2021-05-01T00:00:00",
          "2021-06-01T00:00:00",
          "2021-07-01T00:00:00",
          "2021-08-01T00:00:00",
          "2021-09-01T00:00:00",
          "2021-10-01T00:00:00",
          "2021-11-01T00:00:00",
          "2021-12-01T00:00:00",
          "2022-01-01T00:00:00",
          "2022-02-01T00:00:00",
          "2022-03-01T00:00:00",
          "2022-04-01T00:00:00",
          "2022-05-01T00:00:00",
          "2022-06-01T00:00:00",
          "2022-07-01T00:00:00",
          "2022-08-01T00:00:00"
         ],
         "xaxis": "x",
         "y": [
          6140,
          6817,
          6914,
          32795,
          49734,
          50048,
          69715,
          76289,
          59255,
          46190,
          16446,
          15634,
          15115,
          14354,
          7242,
          5,
          4,
          389,
          12952,
          16818,
          5511,
          4710,
          2139,
          1841,
          1049,
          448,
          373,
          1474,
          2223,
          4454,
          22399,
          24199,
          16364,
          17826,
          3744,
          3093,
          5880,
          3288,
          3371,
          15386,
          22019,
          20728,
          45778,
          53999
         ],
         "yaxis": "y"
        },
        {
         "hovertemplate": "Airports=Groningen Airport Eelde<br>Periods=%{x}<br>Commercial air traffic/Passengers/Total passengers/Total passengers (number)=%{y}<extra></extra>",
         "legendgroup": "Groningen Airport Eelde",
         "line": {
          "color": "#19d3f3",
          "dash": "solid"
         },
         "marker": {
          "symbol": "circle"
         },
         "mode": "lines",
         "name": "Groningen Airport Eelde",
         "orientation": "v",
         "showlegend": true,
         "type": "scatter",
         "x": [
          "2019-01-01T00:00:00",
          "2019-02-01T00:00:00",
          "2019-03-01T00:00:00",
          "2019-04-01T00:00:00",
          "2019-05-01T00:00:00",
          "2019-06-01T00:00:00",
          "2019-07-01T00:00:00",
          "2019-08-01T00:00:00",
          "2019-09-01T00:00:00",
          "2019-10-01T00:00:00",
          "2019-11-01T00:00:00",
          "2019-12-01T00:00:00",
          "2020-01-01T00:00:00",
          "2020-02-01T00:00:00",
          "2020-03-01T00:00:00",
          "2020-04-01T00:00:00",
          "2020-05-01T00:00:00",
          "2020-06-01T00:00:00",
          "2020-07-01T00:00:00",
          "2020-08-01T00:00:00",
          "2020-09-01T00:00:00",
          "2020-10-01T00:00:00",
          "2020-11-01T00:00:00",
          "2020-12-01T00:00:00",
          "2021-01-01T00:00:00",
          "2021-02-01T00:00:00",
          "2021-03-01T00:00:00",
          "2021-04-01T00:00:00",
          "2021-05-01T00:00:00",
          "2021-06-01T00:00:00",
          "2021-07-01T00:00:00",
          "2021-08-01T00:00:00",
          "2021-09-01T00:00:00",
          "2021-10-01T00:00:00",
          "2021-11-01T00:00:00",
          "2021-12-01T00:00:00",
          "2022-01-01T00:00:00",
          "2022-02-01T00:00:00",
          "2022-03-01T00:00:00",
          "2022-04-01T00:00:00",
          "2022-05-01T00:00:00",
          "2022-06-01T00:00:00",
          "2022-07-01T00:00:00",
          "2022-08-01T00:00:00"
         ],
         "xaxis": "x",
         "y": [
          8244,
          8771,
          9541,
          13622,
          22217,
          20981,
          19813,
          21459,
          20756,
          16210,
          7341,
          7067,
          5290,
          4587,
          1999,
          0,
          47,
          0,
          2723,
          2231,
          589,
          62,
          0,
          0,
          0,
          0,
          0,
          0,
          0,
          694,
          4119,
          4475,
          6212,
          4794,
          3455,
          3511,
          3666,
          3436,
          3306,
          5010,
          8746,
          9400,
          11314,
          13390
         ],
         "yaxis": "y"
        }
       ],
       "layout": {
        "legend": {
         "title": {
          "text": "Airports"
         },
         "tracegroupgap": 0
        },
        "template": {
         "data": {
          "bar": [
           {
            "error_x": {
             "color": "#2a3f5f"
            },
            "error_y": {
             "color": "#2a3f5f"
            },
            "marker": {
             "line": {
              "color": "#E5ECF6",
              "width": 0.5
             },
             "pattern": {
              "fillmode": "overlay",
              "size": 10,
              "solidity": 0.2
             }
            },
            "type": "bar"
           }
          ],
          "barpolar": [
           {
            "marker": {
             "line": {
              "color": "#E5ECF6",
              "width": 0.5
             },
             "pattern": {
              "fillmode": "overlay",
              "size": 10,
              "solidity": 0.2
             }
            },
            "type": "barpolar"
           }
          ],
          "carpet": [
           {
            "aaxis": {
             "endlinecolor": "#2a3f5f",
             "gridcolor": "white",
             "linecolor": "white",
             "minorgridcolor": "white",
             "startlinecolor": "#2a3f5f"
            },
            "baxis": {
             "endlinecolor": "#2a3f5f",
             "gridcolor": "white",
             "linecolor": "white",
             "minorgridcolor": "white",
             "startlinecolor": "#2a3f5f"
            },
            "type": "carpet"
           }
          ],
          "choropleth": [
           {
            "colorbar": {
             "outlinewidth": 0,
             "ticks": ""
            },
            "type": "choropleth"
           }
          ],
          "contour": [
           {
            "colorbar": {
             "outlinewidth": 0,
             "ticks": ""
            },
            "colorscale": [
             [
              0,
              "#0d0887"
             ],
             [
              0.1111111111111111,
              "#46039f"
             ],
             [
              0.2222222222222222,
              "#7201a8"
             ],
             [
              0.3333333333333333,
              "#9c179e"
             ],
             [
              0.4444444444444444,
              "#bd3786"
             ],
             [
              0.5555555555555556,
              "#d8576b"
             ],
             [
              0.6666666666666666,
              "#ed7953"
             ],
             [
              0.7777777777777778,
              "#fb9f3a"
             ],
             [
              0.8888888888888888,
              "#fdca26"
             ],
             [
              1,
              "#f0f921"
             ]
            ],
            "type": "contour"
           }
          ],
          "contourcarpet": [
           {
            "colorbar": {
             "outlinewidth": 0,
             "ticks": ""
            },
            "type": "contourcarpet"
           }
          ],
          "heatmap": [
           {
            "colorbar": {
             "outlinewidth": 0,
             "ticks": ""
            },
            "colorscale": [
             [
              0,
              "#0d0887"
             ],
             [
              0.1111111111111111,
              "#46039f"
             ],
             [
              0.2222222222222222,
              "#7201a8"
             ],
             [
              0.3333333333333333,
              "#9c179e"
             ],
             [
              0.4444444444444444,
              "#bd3786"
             ],
             [
              0.5555555555555556,
              "#d8576b"
             ],
             [
              0.6666666666666666,
              "#ed7953"
             ],
             [
              0.7777777777777778,
              "#fb9f3a"
             ],
             [
              0.8888888888888888,
              "#fdca26"
             ],
             [
              1,
              "#f0f921"
             ]
            ],
            "type": "heatmap"
           }
          ],
          "heatmapgl": [
           {
            "colorbar": {
             "outlinewidth": 0,
             "ticks": ""
            },
            "colorscale": [
             [
              0,
              "#0d0887"
             ],
             [
              0.1111111111111111,
              "#46039f"
             ],
             [
              0.2222222222222222,
              "#7201a8"
             ],
             [
              0.3333333333333333,
              "#9c179e"
             ],
             [
              0.4444444444444444,
              "#bd3786"
             ],
             [
              0.5555555555555556,
              "#d8576b"
             ],
             [
              0.6666666666666666,
              "#ed7953"
             ],
             [
              0.7777777777777778,
              "#fb9f3a"
             ],
             [
              0.8888888888888888,
              "#fdca26"
             ],
             [
              1,
              "#f0f921"
             ]
            ],
            "type": "heatmapgl"
           }
          ],
          "histogram": [
           {
            "marker": {
             "pattern": {
              "fillmode": "overlay",
              "size": 10,
              "solidity": 0.2
             }
            },
            "type": "histogram"
           }
          ],
          "histogram2d": [
           {
            "colorbar": {
             "outlinewidth": 0,
             "ticks": ""
            },
            "colorscale": [
             [
              0,
              "#0d0887"
             ],
             [
              0.1111111111111111,
              "#46039f"
             ],
             [
              0.2222222222222222,
              "#7201a8"
             ],
             [
              0.3333333333333333,
              "#9c179e"
             ],
             [
              0.4444444444444444,
              "#bd3786"
             ],
             [
              0.5555555555555556,
              "#d8576b"
             ],
             [
              0.6666666666666666,
              "#ed7953"
             ],
             [
              0.7777777777777778,
              "#fb9f3a"
             ],
             [
              0.8888888888888888,
              "#fdca26"
             ],
             [
              1,
              "#f0f921"
             ]
            ],
            "type": "histogram2d"
           }
          ],
          "histogram2dcontour": [
           {
            "colorbar": {
             "outlinewidth": 0,
             "ticks": ""
            },
            "colorscale": [
             [
              0,
              "#0d0887"
             ],
             [
              0.1111111111111111,
              "#46039f"
             ],
             [
              0.2222222222222222,
              "#7201a8"
             ],
             [
              0.3333333333333333,
              "#9c179e"
             ],
             [
              0.4444444444444444,
              "#bd3786"
             ],
             [
              0.5555555555555556,
              "#d8576b"
             ],
             [
              0.6666666666666666,
              "#ed7953"
             ],
             [
              0.7777777777777778,
              "#fb9f3a"
             ],
             [
              0.8888888888888888,
              "#fdca26"
             ],
             [
              1,
              "#f0f921"
             ]
            ],
            "type": "histogram2dcontour"
           }
          ],
          "mesh3d": [
           {
            "colorbar": {
             "outlinewidth": 0,
             "ticks": ""
            },
            "type": "mesh3d"
           }
          ],
          "parcoords": [
           {
            "line": {
             "colorbar": {
              "outlinewidth": 0,
              "ticks": ""
             }
            },
            "type": "parcoords"
           }
          ],
          "pie": [
           {
            "automargin": true,
            "type": "pie"
           }
          ],
          "scatter": [
           {
            "fillpattern": {
             "fillmode": "overlay",
             "size": 10,
             "solidity": 0.2
            },
            "type": "scatter"
           }
          ],
          "scatter3d": [
           {
            "line": {
             "colorbar": {
              "outlinewidth": 0,
              "ticks": ""
             }
            },
            "marker": {
             "colorbar": {
              "outlinewidth": 0,
              "ticks": ""
             }
            },
            "type": "scatter3d"
           }
          ],
          "scattercarpet": [
           {
            "marker": {
             "colorbar": {
              "outlinewidth": 0,
              "ticks": ""
             }
            },
            "type": "scattercarpet"
           }
          ],
          "scattergeo": [
           {
            "marker": {
             "colorbar": {
              "outlinewidth": 0,
              "ticks": ""
             }
            },
            "type": "scattergeo"
           }
          ],
          "scattergl": [
           {
            "marker": {
             "colorbar": {
              "outlinewidth": 0,
              "ticks": ""
             }
            },
            "type": "scattergl"
           }
          ],
          "scattermapbox": [
           {
            "marker": {
             "colorbar": {
              "outlinewidth": 0,
              "ticks": ""
             }
            },
            "type": "scattermapbox"
           }
          ],
          "scatterpolar": [
           {
            "marker": {
             "colorbar": {
              "outlinewidth": 0,
              "ticks": ""
             }
            },
            "type": "scatterpolar"
           }
          ],
          "scatterpolargl": [
           {
            "marker": {
             "colorbar": {
              "outlinewidth": 0,
              "ticks": ""
             }
            },
            "type": "scatterpolargl"
           }
          ],
          "scatterternary": [
           {
            "marker": {
             "colorbar": {
              "outlinewidth": 0,
              "ticks": ""
             }
            },
            "type": "scatterternary"
           }
          ],
          "surface": [
           {
            "colorbar": {
             "outlinewidth": 0,
             "ticks": ""
            },
            "colorscale": [
             [
              0,
              "#0d0887"
             ],
             [
              0.1111111111111111,
              "#46039f"
             ],
             [
              0.2222222222222222,
              "#7201a8"
             ],
             [
              0.3333333333333333,
              "#9c179e"
             ],
             [
              0.4444444444444444,
              "#bd3786"
             ],
             [
              0.5555555555555556,
              "#d8576b"
             ],
             [
              0.6666666666666666,
              "#ed7953"
             ],
             [
              0.7777777777777778,
              "#fb9f3a"
             ],
             [
              0.8888888888888888,
              "#fdca26"
             ],
             [
              1,
              "#f0f921"
             ]
            ],
            "type": "surface"
           }
          ],
          "table": [
           {
            "cells": {
             "fill": {
              "color": "#EBF0F8"
             },
             "line": {
              "color": "white"
             }
            },
            "header": {
             "fill": {
              "color": "#C8D4E3"
             },
             "line": {
              "color": "white"
             }
            },
            "type": "table"
           }
          ]
         },
         "layout": {
          "annotationdefaults": {
           "arrowcolor": "#2a3f5f",
           "arrowhead": 0,
           "arrowwidth": 1
          },
          "autotypenumbers": "strict",
          "coloraxis": {
           "colorbar": {
            "outlinewidth": 0,
            "ticks": ""
           }
          },
          "colorscale": {
           "diverging": [
            [
             0,
             "#8e0152"
            ],
            [
             0.1,
             "#c51b7d"
            ],
            [
             0.2,
             "#de77ae"
            ],
            [
             0.3,
             "#f1b6da"
            ],
            [
             0.4,
             "#fde0ef"
            ],
            [
             0.5,
             "#f7f7f7"
            ],
            [
             0.6,
             "#e6f5d0"
            ],
            [
             0.7,
             "#b8e186"
            ],
            [
             0.8,
             "#7fbc41"
            ],
            [
             0.9,
             "#4d9221"
            ],
            [
             1,
             "#276419"
            ]
           ],
           "sequential": [
            [
             0,
             "#0d0887"
            ],
            [
             0.1111111111111111,
             "#46039f"
            ],
            [
             0.2222222222222222,
             "#7201a8"
            ],
            [
             0.3333333333333333,
             "#9c179e"
            ],
            [
             0.4444444444444444,
             "#bd3786"
            ],
            [
             0.5555555555555556,
             "#d8576b"
            ],
            [
             0.6666666666666666,
             "#ed7953"
            ],
            [
             0.7777777777777778,
             "#fb9f3a"
            ],
            [
             0.8888888888888888,
             "#fdca26"
            ],
            [
             1,
             "#f0f921"
            ]
           ],
           "sequentialminus": [
            [
             0,
             "#0d0887"
            ],
            [
             0.1111111111111111,
             "#46039f"
            ],
            [
             0.2222222222222222,
             "#7201a8"
            ],
            [
             0.3333333333333333,
             "#9c179e"
            ],
            [
             0.4444444444444444,
             "#bd3786"
            ],
            [
             0.5555555555555556,
             "#d8576b"
            ],
            [
             0.6666666666666666,
             "#ed7953"
            ],
            [
             0.7777777777777778,
             "#fb9f3a"
            ],
            [
             0.8888888888888888,
             "#fdca26"
            ],
            [
             1,
             "#f0f921"
            ]
           ]
          },
          "colorway": [
           "#636efa",
           "#EF553B",
           "#00cc96",
           "#ab63fa",
           "#FFA15A",
           "#19d3f3",
           "#FF6692",
           "#B6E880",
           "#FF97FF",
           "#FECB52"
          ],
          "font": {
           "color": "#2a3f5f"
          },
          "geo": {
           "bgcolor": "white",
           "lakecolor": "white",
           "landcolor": "#E5ECF6",
           "showlakes": true,
           "showland": true,
           "subunitcolor": "white"
          },
          "hoverlabel": {
           "align": "left"
          },
          "hovermode": "closest",
          "mapbox": {
           "style": "light"
          },
          "paper_bgcolor": "white",
          "plot_bgcolor": "#E5ECF6",
          "polar": {
           "angularaxis": {
            "gridcolor": "white",
            "linecolor": "white",
            "ticks": ""
           },
           "bgcolor": "#E5ECF6",
           "radialaxis": {
            "gridcolor": "white",
            "linecolor": "white",
            "ticks": ""
           }
          },
          "scene": {
           "xaxis": {
            "backgroundcolor": "#E5ECF6",
            "gridcolor": "white",
            "gridwidth": 2,
            "linecolor": "white",
            "showbackground": true,
            "ticks": "",
            "zerolinecolor": "white"
           },
           "yaxis": {
            "backgroundcolor": "#E5ECF6",
            "gridcolor": "white",
            "gridwidth": 2,
            "linecolor": "white",
            "showbackground": true,
            "ticks": "",
            "zerolinecolor": "white"
           },
           "zaxis": {
            "backgroundcolor": "#E5ECF6",
            "gridcolor": "white",
            "gridwidth": 2,
            "linecolor": "white",
            "showbackground": true,
            "ticks": "",
            "zerolinecolor": "white"
           }
          },
          "shapedefaults": {
           "line": {
            "color": "#2a3f5f"
           }
          },
          "ternary": {
           "aaxis": {
            "gridcolor": "white",
            "linecolor": "white",
            "ticks": ""
           },
           "baxis": {
            "gridcolor": "white",
            "linecolor": "white",
            "ticks": ""
           },
           "bgcolor": "#E5ECF6",
           "caxis": {
            "gridcolor": "white",
            "linecolor": "white",
            "ticks": ""
           }
          },
          "title": {
           "x": 0.05
          },
          "xaxis": {
           "automargin": true,
           "gridcolor": "white",
           "linecolor": "white",
           "ticks": "",
           "title": {
            "standoff": 15
           },
           "zerolinecolor": "white",
           "zerolinewidth": 2
          },
          "yaxis": {
           "automargin": true,
           "gridcolor": "white",
           "linecolor": "white",
           "ticks": "",
           "title": {
            "standoff": 15
           },
           "zerolinecolor": "white",
           "zerolinewidth": 2
          }
         }
        },
        "title": {
         "text": "Amount of air traffic passengers"
        },
        "xaxis": {
         "anchor": "y",
         "domain": [
          0,
          1
         ],
         "title": {
          "text": "Periods"
         }
        },
        "yaxis": {
         "anchor": "x",
         "domain": [
          0,
          1
         ],
         "title": {
          "text": "Commercial air traffic/Passengers/Total passengers/Total passengers (number)"
         }
        }
       }
      },
      "text/html": [
       "<div>                            <div id=\"e82483da-506e-49c4-b08f-1c8b0602af6f\" class=\"plotly-graph-div\" style=\"height:525px; width:100%;\"></div>            <script type=\"text/javascript\">                require([\"plotly\"], function(Plotly) {                    window.PLOTLYENV=window.PLOTLYENV || {};                                    if (document.getElementById(\"e82483da-506e-49c4-b08f-1c8b0602af6f\")) {                    Plotly.newPlot(                        \"e82483da-506e-49c4-b08f-1c8b0602af6f\",                        [{\"hovertemplate\":\"Airports=Total Dutch airports<br>Periods=%{x}<br>Commercial air traffic/Passengers/Total passengers/Total passengers (number)=%{y}<extra></extra>\",\"legendgroup\":\"Total Dutch airports\",\"line\":{\"color\":\"#636efa\",\"dash\":\"solid\"},\"marker\":{\"symbol\":\"circle\"},\"mode\":\"lines\",\"name\":\"Total Dutch airports\",\"orientation\":\"v\",\"showlegend\":true,\"x\":[\"2019-01-01T00:00:00\",\"2019-02-01T00:00:00\",\"2019-03-01T00:00:00\",\"2019-04-01T00:00:00\",\"2019-05-01T00:00:00\",\"2019-06-01T00:00:00\",\"2019-07-01T00:00:00\",\"2019-08-01T00:00:00\",\"2019-09-01T00:00:00\",\"2019-10-01T00:00:00\",\"2019-11-01T00:00:00\",\"2019-12-01T00:00:00\",\"2020-01-01T00:00:00\",\"2020-02-01T00:00:00\",\"2020-03-01T00:00:00\",\"2020-04-01T00:00:00\",\"2020-05-01T00:00:00\",\"2020-06-01T00:00:00\",\"2020-07-01T00:00:00\",\"2020-08-01T00:00:00\",\"2020-09-01T00:00:00\",\"2020-10-01T00:00:00\",\"2020-11-01T00:00:00\",\"2020-12-01T00:00:00\",\"2021-01-01T00:00:00\",\"2021-02-01T00:00:00\",\"2021-03-01T00:00:00\",\"2021-04-01T00:00:00\",\"2021-05-01T00:00:00\",\"2021-06-01T00:00:00\",\"2021-07-01T00:00:00\",\"2021-08-01T00:00:00\",\"2021-09-01T00:00:00\",\"2021-10-01T00:00:00\",\"2021-11-01T00:00:00\",\"2021-12-01T00:00:00\",\"2022-01-01T00:00:00\",\"2022-02-01T00:00:00\",\"2022-03-01T00:00:00\",\"2022-04-01T00:00:00\",\"2022-05-01T00:00:00\",\"2022-06-01T00:00:00\",\"2022-07-01T00:00:00\",\"2022-08-01T00:00:00\"],\"xaxis\":\"x\",\"y\":[5495052,5352301,6270788,6926059,7396960,7471334,7730263,7859458,7486440,7354352,5885771,5938523,5595249,5281600,2773554,133752,220120,526544,1690515,2242935,1547263,1303123,965071,1306018,909617,519827,676647,817876,1169673,1870330,3515159,4479180,4013477,4395945,3492940,3208864,2831598,3040193,4241663,5140680,6092054,6118527,6211931,6378969],\"yaxis\":\"y\",\"type\":\"scatter\"},{\"hovertemplate\":\"Airports=Amsterdam Airport Schiphol<br>Periods=%{x}<br>Commercial air traffic/Passengers/Total passengers/Total passengers (number)=%{y}<extra></extra>\",\"legendgroup\":\"Amsterdam Airport Schiphol\",\"line\":{\"color\":\"#EF553B\",\"dash\":\"solid\"},\"marker\":{\"symbol\":\"circle\"},\"mode\":\"lines\",\"name\":\"Amsterdam Airport Schiphol\",\"orientation\":\"v\",\"showlegend\":true,\"x\":[\"2019-01-01T00:00:00\",\"2019-02-01T00:00:00\",\"2019-03-01T00:00:00\",\"2019-04-01T00:00:00\",\"2019-05-01T00:00:00\",\"2019-06-01T00:00:00\",\"2019-07-01T00:00:00\",\"2019-08-01T00:00:00\",\"2019-09-01T00:00:00\",\"2019-10-01T00:00:00\",\"2019-11-01T00:00:00\",\"2019-12-01T00:00:00\",\"2020-01-01T00:00:00\",\"2020-02-01T00:00:00\",\"2020-03-01T00:00:00\",\"2020-04-01T00:00:00\",\"2020-05-01T00:00:00\",\"2020-06-01T00:00:00\",\"2020-07-01T00:00:00\",\"2020-08-01T00:00:00\",\"2020-09-01T00:00:00\",\"2020-10-01T00:00:00\",\"2020-11-01T00:00:00\",\"2020-12-01T00:00:00\",\"2021-01-01T00:00:00\",\"2021-02-01T00:00:00\",\"2021-03-01T00:00:00\",\"2021-04-01T00:00:00\",\"2021-05-01T00:00:00\",\"2021-06-01T00:00:00\",\"2021-07-01T00:00:00\",\"2021-08-01T00:00:00\",\"2021-09-01T00:00:00\",\"2021-10-01T00:00:00\",\"2021-11-01T00:00:00\",\"2021-12-01T00:00:00\",\"2022-01-01T00:00:00\",\"2022-02-01T00:00:00\",\"2022-03-01T00:00:00\",\"2022-04-01T00:00:00\",\"2022-05-01T00:00:00\",\"2022-06-01T00:00:00\",\"2022-07-01T00:00:00\",\"2022-08-01T00:00:00\"],\"xaxis\":\"x\",\"y\":[4996131,4836332,5630314,6104010,6441473,6502588,6724023,6810759,6493468,6431122,5323306,5386203,5074773,4719769,2476372,126015,207827,471410,1338857,1854786,1337741,1143483,900434,1233043,869129,505194,660176,786652,1106740,1678265,3029951,3786973,3370205,3745991,3095823,2855711,2488083,2660676,3732048,4434587,5217035,5232630,5179725,5327361],\"yaxis\":\"y\",\"type\":\"scatter\"},{\"hovertemplate\":\"Airports=Rotterdam The Hague Airport<br>Periods=%{x}<br>Commercial air traffic/Passengers/Total passengers/Total passengers (number)=%{y}<extra></extra>\",\"legendgroup\":\"Rotterdam The Hague Airport\",\"line\":{\"color\":\"#00cc96\",\"dash\":\"solid\"},\"marker\":{\"symbol\":\"circle\"},\"mode\":\"lines\",\"name\":\"Rotterdam The Hague Airport\",\"orientation\":\"v\",\"showlegend\":true,\"x\":[\"2019-01-01T00:00:00\",\"2019-02-01T00:00:00\",\"2019-03-01T00:00:00\",\"2019-04-01T00:00:00\",\"2019-05-01T00:00:00\",\"2019-06-01T00:00:00\",\"2019-07-01T00:00:00\",\"2019-08-01T00:00:00\",\"2019-09-01T00:00:00\",\"2019-10-01T00:00:00\",\"2019-11-01T00:00:00\",\"2019-12-01T00:00:00\",\"2020-01-01T00:00:00\",\"2020-02-01T00:00:00\",\"2020-03-01T00:00:00\",\"2020-04-01T00:00:00\",\"2020-05-01T00:00:00\",\"2020-06-01T00:00:00\",\"2020-07-01T00:00:00\",\"2020-08-01T00:00:00\",\"2020-09-01T00:00:00\",\"2020-10-01T00:00:00\",\"2020-11-01T00:00:00\",\"2020-12-01T00:00:00\",\"2021-01-01T00:00:00\",\"2021-02-01T00:00:00\",\"2021-03-01T00:00:00\",\"2021-04-01T00:00:00\",\"2021-05-01T00:00:00\",\"2021-06-01T00:00:00\",\"2021-07-01T00:00:00\",\"2021-08-01T00:00:00\",\"2021-09-01T00:00:00\",\"2021-10-01T00:00:00\",\"2021-11-01T00:00:00\",\"2021-12-01T00:00:00\",\"2022-01-01T00:00:00\",\"2022-02-01T00:00:00\",\"2022-03-01T00:00:00\",\"2022-04-01T00:00:00\",\"2022-05-01T00:00:00\",\"2022-06-01T00:00:00\",\"2022-07-01T00:00:00\",\"2022-08-01T00:00:00\"],\"xaxis\":\"x\",\"y\":[84056,95420,137683,169142,227437,240069,251074,269858,240606,198592,91748,89113,99080,104062,62870,0,134,7971,78468,74047,32047,21811,4761,4590,3311,2871,98,1945,8912,39309,113882,181957,167169,147368,48278,40295,58903,63510,101163,139308,224714,224069,312468,305371],\"yaxis\":\"y\",\"type\":\"scatter\"},{\"hovertemplate\":\"Airports=Eindhoven Airport<br>Periods=%{x}<br>Commercial air traffic/Passengers/Total passengers/Total passengers (number)=%{y}<extra></extra>\",\"legendgroup\":\"Eindhoven Airport\",\"line\":{\"color\":\"#ab63fa\",\"dash\":\"solid\"},\"marker\":{\"symbol\":\"circle\"},\"mode\":\"lines\",\"name\":\"Eindhoven Airport\",\"orientation\":\"v\",\"showlegend\":true,\"x\":[\"2019-01-01T00:00:00\",\"2019-02-01T00:00:00\",\"2019-03-01T00:00:00\",\"2019-04-01T00:00:00\",\"2019-05-01T00:00:00\",\"2019-06-01T00:00:00\",\"2019-07-01T00:00:00\",\"2019-08-01T00:00:00\",\"2019-09-01T00:00:00\",\"2019-10-01T00:00:00\",\"2019-11-01T00:00:00\",\"2019-12-01T00:00:00\",\"2020-01-01T00:00:00\",\"2020-02-01T00:00:00\",\"2020-03-01T00:00:00\",\"2020-04-01T00:00:00\",\"2020-05-01T00:00:00\",\"2020-06-01T00:00:00\",\"2020-07-01T00:00:00\",\"2020-08-01T00:00:00\",\"2020-09-01T00:00:00\",\"2020-10-01T00:00:00\",\"2020-11-01T00:00:00\",\"2020-12-01T00:00:00\",\"2021-01-01T00:00:00\",\"2021-02-01T00:00:00\",\"2021-03-01T00:00:00\",\"2021-04-01T00:00:00\",\"2021-05-01T00:00:00\",\"2021-06-01T00:00:00\",\"2021-07-01T00:00:00\",\"2021-08-01T00:00:00\",\"2021-09-01T00:00:00\",\"2021-10-01T00:00:00\",\"2021-11-01T00:00:00\",\"2021-12-01T00:00:00\",\"2022-01-01T00:00:00\",\"2022-02-01T00:00:00\",\"2022-03-01T00:00:00\",\"2022-04-01T00:00:00\",\"2022-05-01T00:00:00\",\"2022-06-01T00:00:00\",\"2022-07-01T00:00:00\",\"2022-08-01T00:00:00\"],\"xaxis\":\"x\",\"y\":[400481,404961,486336,606490,656099,657648,665638,681093,672355,662238,446930,440506,400991,438828,225071,7732,12108,46774,257515,295053,171375,133057,57737,66544,36128,11314,16000,27805,51798,147608,344808,481576,453527,479966,341640,306254,275066,309283,401775,546389,619540,631700,662646,678848],\"yaxis\":\"y\",\"type\":\"scatter\"},{\"hovertemplate\":\"Airports=Maastricht Aachen Airport<br>Periods=%{x}<br>Commercial air traffic/Passengers/Total passengers/Total passengers (number)=%{y}<extra></extra>\",\"legendgroup\":\"Maastricht Aachen Airport\",\"line\":{\"color\":\"#FFA15A\",\"dash\":\"solid\"},\"marker\":{\"symbol\":\"circle\"},\"mode\":\"lines\",\"name\":\"Maastricht Aachen Airport\",\"orientation\":\"v\",\"showlegend\":true,\"x\":[\"2019-01-01T00:00:00\",\"2019-02-01T00:00:00\",\"2019-03-01T00:00:00\",\"2019-04-01T00:00:00\",\"2019-05-01T00:00:00\",\"2019-06-01T00:00:00\",\"2019-07-01T00:00:00\",\"2019-08-01T00:00:00\",\"2019-09-01T00:00:00\",\"2019-10-01T00:00:00\",\"2019-11-01T00:00:00\",\"2019-12-01T00:00:00\",\"2020-01-01T00:00:00\",\"2020-02-01T00:00:00\",\"2020-03-01T00:00:00\",\"2020-04-01T00:00:00\",\"2020-05-01T00:00:00\",\"2020-06-01T00:00:00\",\"2020-07-01T00:00:00\",\"2020-08-01T00:00:00\",\"2020-09-01T00:00:00\",\"2020-10-01T00:00:00\",\"2020-11-01T00:00:00\",\"2020-12-01T00:00:00\",\"2021-01-01T00:00:00\",\"2021-02-01T00:00:00\",\"2021-03-01T00:00:00\",\"2021-04-01T00:00:00\",\"2021-05-01T00:00:00\",\"2021-06-01T00:00:00\",\"2021-07-01T00:00:00\",\"2021-08-01T00:00:00\",\"2021-09-01T00:00:00\",\"2021-10-01T00:00:00\",\"2021-11-01T00:00:00\",\"2021-12-01T00:00:00\",\"2022-01-01T00:00:00\",\"2022-02-01T00:00:00\",\"2022-03-01T00:00:00\",\"2022-04-01T00:00:00\",\"2022-05-01T00:00:00\",\"2022-06-01T00:00:00\",\"2022-07-01T00:00:00\",\"2022-08-01T00:00:00\"],\"xaxis\":\"x\",\"y\":[6140,6817,6914,32795,49734,50048,69715,76289,59255,46190,16446,15634,15115,14354,7242,5,4,389,12952,16818,5511,4710,2139,1841,1049,448,373,1474,2223,4454,22399,24199,16364,17826,3744,3093,5880,3288,3371,15386,22019,20728,45778,53999],\"yaxis\":\"y\",\"type\":\"scatter\"},{\"hovertemplate\":\"Airports=Groningen Airport Eelde<br>Periods=%{x}<br>Commercial air traffic/Passengers/Total passengers/Total passengers (number)=%{y}<extra></extra>\",\"legendgroup\":\"Groningen Airport Eelde\",\"line\":{\"color\":\"#19d3f3\",\"dash\":\"solid\"},\"marker\":{\"symbol\":\"circle\"},\"mode\":\"lines\",\"name\":\"Groningen Airport Eelde\",\"orientation\":\"v\",\"showlegend\":true,\"x\":[\"2019-01-01T00:00:00\",\"2019-02-01T00:00:00\",\"2019-03-01T00:00:00\",\"2019-04-01T00:00:00\",\"2019-05-01T00:00:00\",\"2019-06-01T00:00:00\",\"2019-07-01T00:00:00\",\"2019-08-01T00:00:00\",\"2019-09-01T00:00:00\",\"2019-10-01T00:00:00\",\"2019-11-01T00:00:00\",\"2019-12-01T00:00:00\",\"2020-01-01T00:00:00\",\"2020-02-01T00:00:00\",\"2020-03-01T00:00:00\",\"2020-04-01T00:00:00\",\"2020-05-01T00:00:00\",\"2020-06-01T00:00:00\",\"2020-07-01T00:00:00\",\"2020-08-01T00:00:00\",\"2020-09-01T00:00:00\",\"2020-10-01T00:00:00\",\"2020-11-01T00:00:00\",\"2020-12-01T00:00:00\",\"2021-01-01T00:00:00\",\"2021-02-01T00:00:00\",\"2021-03-01T00:00:00\",\"2021-04-01T00:00:00\",\"2021-05-01T00:00:00\",\"2021-06-01T00:00:00\",\"2021-07-01T00:00:00\",\"2021-08-01T00:00:00\",\"2021-09-01T00:00:00\",\"2021-10-01T00:00:00\",\"2021-11-01T00:00:00\",\"2021-12-01T00:00:00\",\"2022-01-01T00:00:00\",\"2022-02-01T00:00:00\",\"2022-03-01T00:00:00\",\"2022-04-01T00:00:00\",\"2022-05-01T00:00:00\",\"2022-06-01T00:00:00\",\"2022-07-01T00:00:00\",\"2022-08-01T00:00:00\"],\"xaxis\":\"x\",\"y\":[8244,8771,9541,13622,22217,20981,19813,21459,20756,16210,7341,7067,5290,4587,1999,0,47,0,2723,2231,589,62,0,0,0,0,0,0,0,694,4119,4475,6212,4794,3455,3511,3666,3436,3306,5010,8746,9400,11314,13390],\"yaxis\":\"y\",\"type\":\"scatter\"}],                        {\"template\":{\"data\":{\"histogram2dcontour\":[{\"type\":\"histogram2dcontour\",\"colorbar\":{\"outlinewidth\":0,\"ticks\":\"\"},\"colorscale\":[[0.0,\"#0d0887\"],[0.1111111111111111,\"#46039f\"],[0.2222222222222222,\"#7201a8\"],[0.3333333333333333,\"#9c179e\"],[0.4444444444444444,\"#bd3786\"],[0.5555555555555556,\"#d8576b\"],[0.6666666666666666,\"#ed7953\"],[0.7777777777777778,\"#fb9f3a\"],[0.8888888888888888,\"#fdca26\"],[1.0,\"#f0f921\"]]}],\"choropleth\":[{\"type\":\"choropleth\",\"colorbar\":{\"outlinewidth\":0,\"ticks\":\"\"}}],\"histogram2d\":[{\"type\":\"histogram2d\",\"colorbar\":{\"outlinewidth\":0,\"ticks\":\"\"},\"colorscale\":[[0.0,\"#0d0887\"],[0.1111111111111111,\"#46039f\"],[0.2222222222222222,\"#7201a8\"],[0.3333333333333333,\"#9c179e\"],[0.4444444444444444,\"#bd3786\"],[0.5555555555555556,\"#d8576b\"],[0.6666666666666666,\"#ed7953\"],[0.7777777777777778,\"#fb9f3a\"],[0.8888888888888888,\"#fdca26\"],[1.0,\"#f0f921\"]]}],\"heatmap\":[{\"type\":\"heatmap\",\"colorbar\":{\"outlinewidth\":0,\"ticks\":\"\"},\"colorscale\":[[0.0,\"#0d0887\"],[0.1111111111111111,\"#46039f\"],[0.2222222222222222,\"#7201a8\"],[0.3333333333333333,\"#9c179e\"],[0.4444444444444444,\"#bd3786\"],[0.5555555555555556,\"#d8576b\"],[0.6666666666666666,\"#ed7953\"],[0.7777777777777778,\"#fb9f3a\"],[0.8888888888888888,\"#fdca26\"],[1.0,\"#f0f921\"]]}],\"heatmapgl\":[{\"type\":\"heatmapgl\",\"colorbar\":{\"outlinewidth\":0,\"ticks\":\"\"},\"colorscale\":[[0.0,\"#0d0887\"],[0.1111111111111111,\"#46039f\"],[0.2222222222222222,\"#7201a8\"],[0.3333333333333333,\"#9c179e\"],[0.4444444444444444,\"#bd3786\"],[0.5555555555555556,\"#d8576b\"],[0.6666666666666666,\"#ed7953\"],[0.7777777777777778,\"#fb9f3a\"],[0.8888888888888888,\"#fdca26\"],[1.0,\"#f0f921\"]]}],\"contourcarpet\":[{\"type\":\"contourcarpet\",\"colorbar\":{\"outlinewidth\":0,\"ticks\":\"\"}}],\"contour\":[{\"type\":\"contour\",\"colorbar\":{\"outlinewidth\":0,\"ticks\":\"\"},\"colorscale\":[[0.0,\"#0d0887\"],[0.1111111111111111,\"#46039f\"],[0.2222222222222222,\"#7201a8\"],[0.3333333333333333,\"#9c179e\"],[0.4444444444444444,\"#bd3786\"],[0.5555555555555556,\"#d8576b\"],[0.6666666666666666,\"#ed7953\"],[0.7777777777777778,\"#fb9f3a\"],[0.8888888888888888,\"#fdca26\"],[1.0,\"#f0f921\"]]}],\"surface\":[{\"type\":\"surface\",\"colorbar\":{\"outlinewidth\":0,\"ticks\":\"\"},\"colorscale\":[[0.0,\"#0d0887\"],[0.1111111111111111,\"#46039f\"],[0.2222222222222222,\"#7201a8\"],[0.3333333333333333,\"#9c179e\"],[0.4444444444444444,\"#bd3786\"],[0.5555555555555556,\"#d8576b\"],[0.6666666666666666,\"#ed7953\"],[0.7777777777777778,\"#fb9f3a\"],[0.8888888888888888,\"#fdca26\"],[1.0,\"#f0f921\"]]}],\"mesh3d\":[{\"type\":\"mesh3d\",\"colorbar\":{\"outlinewidth\":0,\"ticks\":\"\"}}],\"scatter\":[{\"fillpattern\":{\"fillmode\":\"overlay\",\"size\":10,\"solidity\":0.2},\"type\":\"scatter\"}],\"parcoords\":[{\"type\":\"parcoords\",\"line\":{\"colorbar\":{\"outlinewidth\":0,\"ticks\":\"\"}}}],\"scatterpolargl\":[{\"type\":\"scatterpolargl\",\"marker\":{\"colorbar\":{\"outlinewidth\":0,\"ticks\":\"\"}}}],\"bar\":[{\"error_x\":{\"color\":\"#2a3f5f\"},\"error_y\":{\"color\":\"#2a3f5f\"},\"marker\":{\"line\":{\"color\":\"#E5ECF6\",\"width\":0.5},\"pattern\":{\"fillmode\":\"overlay\",\"size\":10,\"solidity\":0.2}},\"type\":\"bar\"}],\"scattergeo\":[{\"type\":\"scattergeo\",\"marker\":{\"colorbar\":{\"outlinewidth\":0,\"ticks\":\"\"}}}],\"scatterpolar\":[{\"type\":\"scatterpolar\",\"marker\":{\"colorbar\":{\"outlinewidth\":0,\"ticks\":\"\"}}}],\"histogram\":[{\"marker\":{\"pattern\":{\"fillmode\":\"overlay\",\"size\":10,\"solidity\":0.2}},\"type\":\"histogram\"}],\"scattergl\":[{\"type\":\"scattergl\",\"marker\":{\"colorbar\":{\"outlinewidth\":0,\"ticks\":\"\"}}}],\"scatter3d\":[{\"type\":\"scatter3d\",\"line\":{\"colorbar\":{\"outlinewidth\":0,\"ticks\":\"\"}},\"marker\":{\"colorbar\":{\"outlinewidth\":0,\"ticks\":\"\"}}}],\"scattermapbox\":[{\"type\":\"scattermapbox\",\"marker\":{\"colorbar\":{\"outlinewidth\":0,\"ticks\":\"\"}}}],\"scatterternary\":[{\"type\":\"scatterternary\",\"marker\":{\"colorbar\":{\"outlinewidth\":0,\"ticks\":\"\"}}}],\"scattercarpet\":[{\"type\":\"scattercarpet\",\"marker\":{\"colorbar\":{\"outlinewidth\":0,\"ticks\":\"\"}}}],\"carpet\":[{\"aaxis\":{\"endlinecolor\":\"#2a3f5f\",\"gridcolor\":\"white\",\"linecolor\":\"white\",\"minorgridcolor\":\"white\",\"startlinecolor\":\"#2a3f5f\"},\"baxis\":{\"endlinecolor\":\"#2a3f5f\",\"gridcolor\":\"white\",\"linecolor\":\"white\",\"minorgridcolor\":\"white\",\"startlinecolor\":\"#2a3f5f\"},\"type\":\"carpet\"}],\"table\":[{\"cells\":{\"fill\":{\"color\":\"#EBF0F8\"},\"line\":{\"color\":\"white\"}},\"header\":{\"fill\":{\"color\":\"#C8D4E3\"},\"line\":{\"color\":\"white\"}},\"type\":\"table\"}],\"barpolar\":[{\"marker\":{\"line\":{\"color\":\"#E5ECF6\",\"width\":0.5},\"pattern\":{\"fillmode\":\"overlay\",\"size\":10,\"solidity\":0.2}},\"type\":\"barpolar\"}],\"pie\":[{\"automargin\":true,\"type\":\"pie\"}]},\"layout\":{\"autotypenumbers\":\"strict\",\"colorway\":[\"#636efa\",\"#EF553B\",\"#00cc96\",\"#ab63fa\",\"#FFA15A\",\"#19d3f3\",\"#FF6692\",\"#B6E880\",\"#FF97FF\",\"#FECB52\"],\"font\":{\"color\":\"#2a3f5f\"},\"hovermode\":\"closest\",\"hoverlabel\":{\"align\":\"left\"},\"paper_bgcolor\":\"white\",\"plot_bgcolor\":\"#E5ECF6\",\"polar\":{\"bgcolor\":\"#E5ECF6\",\"angularaxis\":{\"gridcolor\":\"white\",\"linecolor\":\"white\",\"ticks\":\"\"},\"radialaxis\":{\"gridcolor\":\"white\",\"linecolor\":\"white\",\"ticks\":\"\"}},\"ternary\":{\"bgcolor\":\"#E5ECF6\",\"aaxis\":{\"gridcolor\":\"white\",\"linecolor\":\"white\",\"ticks\":\"\"},\"baxis\":{\"gridcolor\":\"white\",\"linecolor\":\"white\",\"ticks\":\"\"},\"caxis\":{\"gridcolor\":\"white\",\"linecolor\":\"white\",\"ticks\":\"\"}},\"coloraxis\":{\"colorbar\":{\"outlinewidth\":0,\"ticks\":\"\"}},\"colorscale\":{\"sequential\":[[0.0,\"#0d0887\"],[0.1111111111111111,\"#46039f\"],[0.2222222222222222,\"#7201a8\"],[0.3333333333333333,\"#9c179e\"],[0.4444444444444444,\"#bd3786\"],[0.5555555555555556,\"#d8576b\"],[0.6666666666666666,\"#ed7953\"],[0.7777777777777778,\"#fb9f3a\"],[0.8888888888888888,\"#fdca26\"],[1.0,\"#f0f921\"]],\"sequentialminus\":[[0.0,\"#0d0887\"],[0.1111111111111111,\"#46039f\"],[0.2222222222222222,\"#7201a8\"],[0.3333333333333333,\"#9c179e\"],[0.4444444444444444,\"#bd3786\"],[0.5555555555555556,\"#d8576b\"],[0.6666666666666666,\"#ed7953\"],[0.7777777777777778,\"#fb9f3a\"],[0.8888888888888888,\"#fdca26\"],[1.0,\"#f0f921\"]],\"diverging\":[[0,\"#8e0152\"],[0.1,\"#c51b7d\"],[0.2,\"#de77ae\"],[0.3,\"#f1b6da\"],[0.4,\"#fde0ef\"],[0.5,\"#f7f7f7\"],[0.6,\"#e6f5d0\"],[0.7,\"#b8e186\"],[0.8,\"#7fbc41\"],[0.9,\"#4d9221\"],[1,\"#276419\"]]},\"xaxis\":{\"gridcolor\":\"white\",\"linecolor\":\"white\",\"ticks\":\"\",\"title\":{\"standoff\":15},\"zerolinecolor\":\"white\",\"automargin\":true,\"zerolinewidth\":2},\"yaxis\":{\"gridcolor\":\"white\",\"linecolor\":\"white\",\"ticks\":\"\",\"title\":{\"standoff\":15},\"zerolinecolor\":\"white\",\"automargin\":true,\"zerolinewidth\":2},\"scene\":{\"xaxis\":{\"backgroundcolor\":\"#E5ECF6\",\"gridcolor\":\"white\",\"linecolor\":\"white\",\"showbackground\":true,\"ticks\":\"\",\"zerolinecolor\":\"white\",\"gridwidth\":2},\"yaxis\":{\"backgroundcolor\":\"#E5ECF6\",\"gridcolor\":\"white\",\"linecolor\":\"white\",\"showbackground\":true,\"ticks\":\"\",\"zerolinecolor\":\"white\",\"gridwidth\":2},\"zaxis\":{\"backgroundcolor\":\"#E5ECF6\",\"gridcolor\":\"white\",\"linecolor\":\"white\",\"showbackground\":true,\"ticks\":\"\",\"zerolinecolor\":\"white\",\"gridwidth\":2}},\"shapedefaults\":{\"line\":{\"color\":\"#2a3f5f\"}},\"annotationdefaults\":{\"arrowcolor\":\"#2a3f5f\",\"arrowhead\":0,\"arrowwidth\":1},\"geo\":{\"bgcolor\":\"white\",\"landcolor\":\"#E5ECF6\",\"subunitcolor\":\"white\",\"showland\":true,\"showlakes\":true,\"lakecolor\":\"white\"},\"title\":{\"x\":0.05},\"mapbox\":{\"style\":\"light\"}}},\"xaxis\":{\"anchor\":\"y\",\"domain\":[0.0,1.0],\"title\":{\"text\":\"Periods\"}},\"yaxis\":{\"anchor\":\"x\",\"domain\":[0.0,1.0],\"title\":{\"text\":\"Commercial air traffic/Passengers/Total passengers/Total passengers (number)\"}},\"legend\":{\"title\":{\"text\":\"Airports\"},\"tracegroupgap\":0},\"title\":{\"text\":\"Amount of air traffic passengers\"}},                        {\"responsive\": true}                    ).then(function(){\n",
       "                            \n",
       "var gd = document.getElementById('e82483da-506e-49c4-b08f-1c8b0602af6f');\n",
       "var x = new MutationObserver(function (mutations, observer) {{\n",
       "        var display = window.getComputedStyle(gd).display;\n",
       "        if (!display || display === 'none') {{\n",
       "            console.log([gd, 'removed!']);\n",
       "            Plotly.purge(gd);\n",
       "            observer.disconnect();\n",
       "        }}\n",
       "}});\n",
       "\n",
       "// Listen for the removal of the full notebook cells\n",
       "var notebookContainer = gd.closest('#notebook-container');\n",
       "if (notebookContainer) {{\n",
       "    x.observe(notebookContainer, {childList: true});\n",
       "}}\n",
       "\n",
       "// Listen for the clearing of the current output cell\n",
       "var outputEl = gd.closest('.output');\n",
       "if (outputEl) {{\n",
       "    x.observe(outputEl, {childList: true});\n",
       "}}\n",
       "\n",
       "                        })                };                });            </script>        </div>"
      ]
     },
     "metadata": {},
     "output_type": "display_data"
    }
   ],
   "source": [
    "\n",
    "#We need the following column:\n",
    "#Commercial air traffic/Passengers/Total passengers/Total passengers (number)\n",
    "#colors = ['#D02090', '#9AFF9A', 'red', '#33A1C9', 'orange', '#000080']\n",
    "\n",
    "fig = px.line(at_df_timespan, x=\"Periods\", y='Commercial air traffic/Passengers/Total passengers/Total passengers (number)',\n",
    "              color='Airports', title='Amount of air traffic passengers')\n",
    "#fig=px.scatter\n",
    "fig.show()\n",
    "#at_df_timespan.set_index('Periods', inplace=True)\n",
    "#fig, ax = plt.subplots(figsize=(16, 8))\n",
    "#ax = sns.lineplot(x='Periods', y='Commercial air traffic/Passengers/Total passengers/Total passengers (number)', hue='Airports', data=at_df_timespan, palette=colors)\n",
    "#ax.grid()\n",
    "\n",
    "#Color from the start of Covid-19\n",
    "\n",
    "#sns.move_legend(ax, \"upper left\", bbox_to_anchor=(1, 1))\n",
    "\n"
   ]
  },
  {
   "cell_type": "markdown",
   "metadata": {},
   "source": [
    "# Subquestion 2:\n",
    "\n",
    "Filtered and prepared the data. Use of new_cases_smoothed --> justification based on source.\n",
    "Only Covid-19 measurements that have a direct impact on travelling, have been considered in this subquestion."
   ]
  },
  {
   "cell_type": "code",
   "execution_count": 24,
   "metadata": {},
   "outputs": [
    {
     "ename": "FileNotFoundError",
     "evalue": "[Errno 2] No such file or directory: 'C:/Users/veerlevancitters/Project-TIL6022-Group-21/owid-covid-data.csv'",
     "output_type": "error",
     "traceback": [
      "\u001b[0;31m---------------------------------------------------------------------------\u001b[0m",
      "\u001b[0;31mFileNotFoundError\u001b[0m                         Traceback (most recent call last)",
      "\u001b[0;32m<ipython-input-24-fe8b7920a67b>\u001b[0m in \u001b[0;36m<module>\u001b[0;34m\u001b[0m\n\u001b[1;32m      3\u001b[0m \u001b[0mfilepath2\u001b[0m \u001b[0;34m=\u001b[0m \u001b[0;34mr\"C:/Users/veerlevancitters/Project-TIL6022-Group-21/owid-covid-data.csv\"\u001b[0m\u001b[0;34m\u001b[0m\u001b[0;34m\u001b[0m\u001b[0m\n\u001b[1;32m      4\u001b[0m \u001b[0;34m\u001b[0m\u001b[0m\n\u001b[0;32m----> 5\u001b[0;31m \u001b[0mcovid_world_df\u001b[0m \u001b[0;34m=\u001b[0m \u001b[0mpd\u001b[0m\u001b[0;34m.\u001b[0m\u001b[0mread_csv\u001b[0m\u001b[0;34m(\u001b[0m\u001b[0mfilepath2\u001b[0m\u001b[0;34m,\u001b[0m \u001b[0msep\u001b[0m\u001b[0;34m=\u001b[0m\u001b[0;34m\",\"\u001b[0m\u001b[0;34m)\u001b[0m\u001b[0;34m\u001b[0m\u001b[0;34m\u001b[0m\u001b[0m\n\u001b[0m\u001b[1;32m      6\u001b[0m \u001b[0mcovid_world_df\u001b[0m\u001b[0;34m\u001b[0m\u001b[0;34m\u001b[0m\u001b[0m\n\u001b[1;32m      7\u001b[0m \u001b[0;34m\u001b[0m\u001b[0m\n",
      "\u001b[0;32m~/opt/anaconda3/lib/python3.8/site-packages/pandas/io/parsers.py\u001b[0m in \u001b[0;36mread_csv\u001b[0;34m(filepath_or_buffer, sep, delimiter, header, names, index_col, usecols, squeeze, prefix, mangle_dupe_cols, dtype, engine, converters, true_values, false_values, skipinitialspace, skiprows, skipfooter, nrows, na_values, keep_default_na, na_filter, verbose, skip_blank_lines, parse_dates, infer_datetime_format, keep_date_col, date_parser, dayfirst, cache_dates, iterator, chunksize, compression, thousands, decimal, lineterminator, quotechar, quoting, doublequote, escapechar, comment, encoding, dialect, error_bad_lines, warn_bad_lines, delim_whitespace, low_memory, memory_map, float_precision, storage_options)\u001b[0m\n\u001b[1;32m    608\u001b[0m     \u001b[0mkwds\u001b[0m\u001b[0;34m.\u001b[0m\u001b[0mupdate\u001b[0m\u001b[0;34m(\u001b[0m\u001b[0mkwds_defaults\u001b[0m\u001b[0;34m)\u001b[0m\u001b[0;34m\u001b[0m\u001b[0;34m\u001b[0m\u001b[0m\n\u001b[1;32m    609\u001b[0m \u001b[0;34m\u001b[0m\u001b[0m\n\u001b[0;32m--> 610\u001b[0;31m     \u001b[0;32mreturn\u001b[0m \u001b[0m_read\u001b[0m\u001b[0;34m(\u001b[0m\u001b[0mfilepath_or_buffer\u001b[0m\u001b[0;34m,\u001b[0m \u001b[0mkwds\u001b[0m\u001b[0;34m)\u001b[0m\u001b[0;34m\u001b[0m\u001b[0;34m\u001b[0m\u001b[0m\n\u001b[0m\u001b[1;32m    611\u001b[0m \u001b[0;34m\u001b[0m\u001b[0m\n\u001b[1;32m    612\u001b[0m \u001b[0;34m\u001b[0m\u001b[0m\n",
      "\u001b[0;32m~/opt/anaconda3/lib/python3.8/site-packages/pandas/io/parsers.py\u001b[0m in \u001b[0;36m_read\u001b[0;34m(filepath_or_buffer, kwds)\u001b[0m\n\u001b[1;32m    460\u001b[0m \u001b[0;34m\u001b[0m\u001b[0m\n\u001b[1;32m    461\u001b[0m     \u001b[0;31m# Create the parser.\u001b[0m\u001b[0;34m\u001b[0m\u001b[0;34m\u001b[0m\u001b[0;34m\u001b[0m\u001b[0m\n\u001b[0;32m--> 462\u001b[0;31m     \u001b[0mparser\u001b[0m \u001b[0;34m=\u001b[0m \u001b[0mTextFileReader\u001b[0m\u001b[0;34m(\u001b[0m\u001b[0mfilepath_or_buffer\u001b[0m\u001b[0;34m,\u001b[0m \u001b[0;34m**\u001b[0m\u001b[0mkwds\u001b[0m\u001b[0;34m)\u001b[0m\u001b[0;34m\u001b[0m\u001b[0;34m\u001b[0m\u001b[0m\n\u001b[0m\u001b[1;32m    463\u001b[0m \u001b[0;34m\u001b[0m\u001b[0m\n\u001b[1;32m    464\u001b[0m     \u001b[0;32mif\u001b[0m \u001b[0mchunksize\u001b[0m \u001b[0;32mor\u001b[0m \u001b[0miterator\u001b[0m\u001b[0;34m:\u001b[0m\u001b[0;34m\u001b[0m\u001b[0;34m\u001b[0m\u001b[0m\n",
      "\u001b[0;32m~/opt/anaconda3/lib/python3.8/site-packages/pandas/io/parsers.py\u001b[0m in \u001b[0;36m__init__\u001b[0;34m(self, f, engine, **kwds)\u001b[0m\n\u001b[1;32m    817\u001b[0m             \u001b[0mself\u001b[0m\u001b[0;34m.\u001b[0m\u001b[0moptions\u001b[0m\u001b[0;34m[\u001b[0m\u001b[0;34m\"has_index_names\"\u001b[0m\u001b[0;34m]\u001b[0m \u001b[0;34m=\u001b[0m \u001b[0mkwds\u001b[0m\u001b[0;34m[\u001b[0m\u001b[0;34m\"has_index_names\"\u001b[0m\u001b[0;34m]\u001b[0m\u001b[0;34m\u001b[0m\u001b[0;34m\u001b[0m\u001b[0m\n\u001b[1;32m    818\u001b[0m \u001b[0;34m\u001b[0m\u001b[0m\n\u001b[0;32m--> 819\u001b[0;31m         \u001b[0mself\u001b[0m\u001b[0;34m.\u001b[0m\u001b[0m_engine\u001b[0m \u001b[0;34m=\u001b[0m \u001b[0mself\u001b[0m\u001b[0;34m.\u001b[0m\u001b[0m_make_engine\u001b[0m\u001b[0;34m(\u001b[0m\u001b[0mself\u001b[0m\u001b[0;34m.\u001b[0m\u001b[0mengine\u001b[0m\u001b[0;34m)\u001b[0m\u001b[0;34m\u001b[0m\u001b[0;34m\u001b[0m\u001b[0m\n\u001b[0m\u001b[1;32m    820\u001b[0m \u001b[0;34m\u001b[0m\u001b[0m\n\u001b[1;32m    821\u001b[0m     \u001b[0;32mdef\u001b[0m \u001b[0mclose\u001b[0m\u001b[0;34m(\u001b[0m\u001b[0mself\u001b[0m\u001b[0;34m)\u001b[0m\u001b[0;34m:\u001b[0m\u001b[0;34m\u001b[0m\u001b[0;34m\u001b[0m\u001b[0m\n",
      "\u001b[0;32m~/opt/anaconda3/lib/python3.8/site-packages/pandas/io/parsers.py\u001b[0m in \u001b[0;36m_make_engine\u001b[0;34m(self, engine)\u001b[0m\n\u001b[1;32m   1048\u001b[0m             )\n\u001b[1;32m   1049\u001b[0m         \u001b[0;31m# error: Too many arguments for \"ParserBase\"\u001b[0m\u001b[0;34m\u001b[0m\u001b[0;34m\u001b[0m\u001b[0;34m\u001b[0m\u001b[0m\n\u001b[0;32m-> 1050\u001b[0;31m         \u001b[0;32mreturn\u001b[0m \u001b[0mmapping\u001b[0m\u001b[0;34m[\u001b[0m\u001b[0mengine\u001b[0m\u001b[0;34m]\u001b[0m\u001b[0;34m(\u001b[0m\u001b[0mself\u001b[0m\u001b[0;34m.\u001b[0m\u001b[0mf\u001b[0m\u001b[0;34m,\u001b[0m \u001b[0;34m**\u001b[0m\u001b[0mself\u001b[0m\u001b[0;34m.\u001b[0m\u001b[0moptions\u001b[0m\u001b[0;34m)\u001b[0m  \u001b[0;31m# type: ignore[call-arg]\u001b[0m\u001b[0;34m\u001b[0m\u001b[0;34m\u001b[0m\u001b[0m\n\u001b[0m\u001b[1;32m   1051\u001b[0m \u001b[0;34m\u001b[0m\u001b[0m\n\u001b[1;32m   1052\u001b[0m     \u001b[0;32mdef\u001b[0m \u001b[0m_failover_to_python\u001b[0m\u001b[0;34m(\u001b[0m\u001b[0mself\u001b[0m\u001b[0;34m)\u001b[0m\u001b[0;34m:\u001b[0m\u001b[0;34m\u001b[0m\u001b[0;34m\u001b[0m\u001b[0m\n",
      "\u001b[0;32m~/opt/anaconda3/lib/python3.8/site-packages/pandas/io/parsers.py\u001b[0m in \u001b[0;36m__init__\u001b[0;34m(self, src, **kwds)\u001b[0m\n\u001b[1;32m   1865\u001b[0m \u001b[0;34m\u001b[0m\u001b[0m\n\u001b[1;32m   1866\u001b[0m         \u001b[0;31m# open handles\u001b[0m\u001b[0;34m\u001b[0m\u001b[0;34m\u001b[0m\u001b[0;34m\u001b[0m\u001b[0m\n\u001b[0;32m-> 1867\u001b[0;31m         \u001b[0mself\u001b[0m\u001b[0;34m.\u001b[0m\u001b[0m_open_handles\u001b[0m\u001b[0;34m(\u001b[0m\u001b[0msrc\u001b[0m\u001b[0;34m,\u001b[0m \u001b[0mkwds\u001b[0m\u001b[0;34m)\u001b[0m\u001b[0;34m\u001b[0m\u001b[0;34m\u001b[0m\u001b[0m\n\u001b[0m\u001b[1;32m   1868\u001b[0m         \u001b[0;32massert\u001b[0m \u001b[0mself\u001b[0m\u001b[0;34m.\u001b[0m\u001b[0mhandles\u001b[0m \u001b[0;32mis\u001b[0m \u001b[0;32mnot\u001b[0m \u001b[0;32mNone\u001b[0m\u001b[0;34m\u001b[0m\u001b[0;34m\u001b[0m\u001b[0m\n\u001b[1;32m   1869\u001b[0m         \u001b[0;32mfor\u001b[0m \u001b[0mkey\u001b[0m \u001b[0;32min\u001b[0m \u001b[0;34m(\u001b[0m\u001b[0;34m\"storage_options\"\u001b[0m\u001b[0;34m,\u001b[0m \u001b[0;34m\"encoding\"\u001b[0m\u001b[0;34m,\u001b[0m \u001b[0;34m\"memory_map\"\u001b[0m\u001b[0;34m,\u001b[0m \u001b[0;34m\"compression\"\u001b[0m\u001b[0;34m)\u001b[0m\u001b[0;34m:\u001b[0m\u001b[0;34m\u001b[0m\u001b[0;34m\u001b[0m\u001b[0m\n",
      "\u001b[0;32m~/opt/anaconda3/lib/python3.8/site-packages/pandas/io/parsers.py\u001b[0m in \u001b[0;36m_open_handles\u001b[0;34m(self, src, kwds)\u001b[0m\n\u001b[1;32m   1360\u001b[0m         \u001b[0mLet\u001b[0m \u001b[0mthe\u001b[0m \u001b[0mreaders\u001b[0m \u001b[0mopen\u001b[0m \u001b[0mIOHanldes\u001b[0m \u001b[0mafter\u001b[0m \u001b[0mthey\u001b[0m \u001b[0mare\u001b[0m \u001b[0mdone\u001b[0m \u001b[0;32mwith\u001b[0m \u001b[0mtheir\u001b[0m \u001b[0mpotential\u001b[0m \u001b[0mraises\u001b[0m\u001b[0;34m.\u001b[0m\u001b[0;34m\u001b[0m\u001b[0;34m\u001b[0m\u001b[0m\n\u001b[1;32m   1361\u001b[0m         \"\"\"\n\u001b[0;32m-> 1362\u001b[0;31m         self.handles = get_handle(\n\u001b[0m\u001b[1;32m   1363\u001b[0m             \u001b[0msrc\u001b[0m\u001b[0;34m,\u001b[0m\u001b[0;34m\u001b[0m\u001b[0;34m\u001b[0m\u001b[0m\n\u001b[1;32m   1364\u001b[0m             \u001b[0;34m\"r\"\u001b[0m\u001b[0;34m,\u001b[0m\u001b[0;34m\u001b[0m\u001b[0;34m\u001b[0m\u001b[0m\n",
      "\u001b[0;32m~/opt/anaconda3/lib/python3.8/site-packages/pandas/io/common.py\u001b[0m in \u001b[0;36mget_handle\u001b[0;34m(path_or_buf, mode, encoding, compression, memory_map, is_text, errors, storage_options)\u001b[0m\n\u001b[1;32m    640\u001b[0m                 \u001b[0merrors\u001b[0m \u001b[0;34m=\u001b[0m \u001b[0;34m\"replace\"\u001b[0m\u001b[0;34m\u001b[0m\u001b[0;34m\u001b[0m\u001b[0m\n\u001b[1;32m    641\u001b[0m             \u001b[0;31m# Encoding\u001b[0m\u001b[0;34m\u001b[0m\u001b[0;34m\u001b[0m\u001b[0;34m\u001b[0m\u001b[0m\n\u001b[0;32m--> 642\u001b[0;31m             handle = open(\n\u001b[0m\u001b[1;32m    643\u001b[0m                 \u001b[0mhandle\u001b[0m\u001b[0;34m,\u001b[0m\u001b[0;34m\u001b[0m\u001b[0;34m\u001b[0m\u001b[0m\n\u001b[1;32m    644\u001b[0m                 \u001b[0mioargs\u001b[0m\u001b[0;34m.\u001b[0m\u001b[0mmode\u001b[0m\u001b[0;34m,\u001b[0m\u001b[0;34m\u001b[0m\u001b[0;34m\u001b[0m\u001b[0m\n",
      "\u001b[0;31mFileNotFoundError\u001b[0m: [Errno 2] No such file or directory: 'C:/Users/veerlevancitters/Project-TIL6022-Group-21/owid-covid-data.csv'"
     ]
    }
   ],
   "source": [
    "# Import world Covid Data\n",
    "\n",
    "filepath2 = r\"C:/Users/veerlevancitters/Project-TIL6022-Group-21/owid-covid-data.csv\"\n",
    "\n",
    "covid_world_df = pd.read_csv(filepath2, sep=\",\")\n",
    "covid_world_df\n",
    "\n",
    "# Preparing the full data set for furhter use\n",
    "# Filtering on Covid new cases for the Netherlands\n",
    "\n",
    "covid_nl_total_df = covid_world_df[\n",
    "    covid_world_df['location'] == 'Netherlands'\n",
    "]\n",
    "\n",
    "\n",
    "# Full data set:\n",
    "# covid_nl_total_df\n",
    "\n",
    "# Filtering for relevant columns and dropping NAN cells\n",
    "covid_nl_df = covid_nl_total_df.iloc[:, [2,3,6]]\n",
    "covid_nl_clean_df = covid_nl_df.dropna()\n",
    "covid_nl_clean_df"
   ]
  },
  {
   "cell_type": "code",
   "execution_count": null,
   "metadata": {},
   "outputs": [],
   "source": [
    "fig = px.line(covid_nl_clean_df, x=\"date\", y=\"new_cases_smoothed\", animation_group=\"new_cases_smoothed\", hover_name=\"new_cases_smoothed\", range_y=[0,130000], title = \"Covid New Cases in the Netherlands\")\n",
    "fig.add_vline(x= \"2020-03-15\", line_dash = 'dash', line_width = 0.5, line_color = 'red')\n",
    "fig.add_annotation(x=\"2020-03-15\", y=1, yref=\"paper\", text=\"15 March 2020: Lockdown\")\n",
    "\n",
    "fig.add_vline(x= \"2020-06-01\", line_dash = 'dash', line_width = 0.5, line_color = 'green')\n",
    "fig.add_annotation(x=\"2020-06-01\", y=0.7, yref=\"paper\", text=\"1 June 2020: Easening of measures\")\n",
    "\n",
    "fig.add_vline(x= \"2020-10-14\", line_dash = 'dash', line_width = 0.5, line_color = 'orange')\n",
    "fig.add_annotation(x=\"2020-10-14\", y=0.87, yref=\"paper\", text=\"10 Oct 2020: Partial lockdown\")\n",
    "\n",
    "fig.add_vline(x= \"2020-12-14\", line_dash = 'dash', line_width = 0.5, line_color = 'red')\n",
    "fig.add_annotation(x=\"2020-12-14\", y=1, yref=\"paper\", text=\"14 Dec 2020: Lockdown\")\n",
    "\n",
    "fig.add_vline(x= \"2021-02-08\", line_color = 'green', line_width = 0.5, line_dash ='dash')\n",
    "fig.add_annotation(x=\"2021-02-08\", y=0.7, yref=\"paper\", text=\"8 Feb 2020: Easening of measures\")\n",
    "\n",
    "fig.add_vline(x= \"2021-12-19\", line_color = 'red', line_width = 0.5, line_dash ='dash')\n",
    "fig.add_annotation(x=\"2021-12-19\", y=1, yref=\"paper\", text=\"19 Dec 2021: Lockdown\")\n",
    "\n",
    "fig.add_vline(x= \"2022-01-10\", line_color = 'green', line_width = 0.5, line_dash ='dash')\n",
    "fig.add_annotation(x=\"2022-01-10\", y=0.7, yref=\"paper\", text=\"10 Jan 2022: Easening of measures\")\n",
    "\n",
    "fig.update_layout(xaxis_title= 'Date', yaxis_title = 'New Cases Smoothed')\n",
    "fig.layout.plot_bgcolor='#f0f5f5'\n",
    "fig.show()"
   ]
  },
  {
   "cell_type": "code",
   "execution_count": null,
   "metadata": {},
   "outputs": [],
   "source": []
  },
  {
   "cell_type": "code",
   "execution_count": null,
   "metadata": {},
   "outputs": [],
   "source": [
    "# covid_nl_clean_df=pd.to_datetime(covid_nl_clean_df, format='%Y-%m-%d')\n",
    "result = covid_nl_clean_df.dtypes\n",
    "\n",
    "print(result)\n",
    "\n",
    "covid_nl_clean_df['date'] =  pd.to_datetime(covid_nl_clean_df['date'], format=\"Your_datetime_format\")\n",
    "# pd.to_datetime(covid_nl_clean_df['date'],errors='ignore') \n",
    "\n",
    "px.scatter(covid_nl_clean_df, x=\"date\", y=\"new_cases_smoothed\", animation_frame=\"date\", animation_group=\"new_cases_smoothed\",\n",
    "           hover_name=\"new_cases_smoothed\",\n",
    "           size_max=55, range_x=[0,100000])"
   ]
  }
 ],
 "metadata": {
  "kernelspec": {
   "display_name": "Python 3",
   "language": "python",
   "name": "python3"
  },
  "language_info": {
   "codemirror_mode": {
    "name": "ipython",
    "version": 3
   },
   "file_extension": ".py",
   "mimetype": "text/x-python",
   "name": "python",
   "nbconvert_exporter": "python",
   "pygments_lexer": "ipython3",
   "version": "3.8.8"
  },
  "vscode": {
   "interpreter": {
    "hash": "0b177597af681a1a029ad119c0227f20d77b3c664fb5e24164a4814fa3c7b8f3"
   }
  }
 },
 "nbformat": 4,
 "nbformat_minor": 2
}
