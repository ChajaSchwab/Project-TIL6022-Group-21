{
 "cells": [
  {
   "cell_type": "markdown",
   "metadata": {},
   "source": [
    "# Research Question:\n",
    "**How did Covid-19 affect the passenger air traffic in the Netherlands?**\n",
    "\n",
    "*Time scope:*\n",
    "January 2019 - August 2022\n",
    "(Covid-19 begin datum, toen nog geen meetgegevens, dus nemen data vanaf xx-xx-xxxx)\n",
    "2019 is our base case scenario, the impact of Covid on the number of passenger is measured by comparing a given month in the pandemic with the corresponding month in the base case scenario.\n",
    "\n",
    "*Spatial scope:* \n",
    "All passengers related to the following airports fall inside the scope: Amsterdam Airport Schiphol, Rotterdam The Hague Airport, Eindhoven Airport, Maastricht Aachen Airport and Groningen Airport Eelde. It has been decided to consider the number of passenger instead of flights. The reasoning behind this is that the number of flights might not be representative as airlines operated empty flights in order to keep their airport slot during Covid-19 (https://nos.nl/artikel/2412154-die-duizenden-lege-vluchten-zijn-volgens-luchthavenkoepel-helemaal-niet-nodig). \n",
    "\n",
    "*Definitions:*\n",
    "As stated in the reasearch question, only passenger air traffic is considered; cargo and mail air traffic fall outside the scope of this research. Moreover, our hypothesis is that mail and cargo air traffic have been less affected by Covid-19. Passenger air traffic is measured in number of passenger (not in number of flights). \n",
    "\n",
    "\n",
    "# Subquestions: \n",
    "**Subquestion 1**\n",
    "\n",
    "How has the number of air traffic passengers developed in the considered time and spatial scope?\n",
    "\n",
    "*Hypothesis:* It is expected that the number of passengers is dependent on the governmental regulations in place. In times of strict regulations, it is expected that the number of air passengers is low. When Covid-19 measurements where low, it is expected that the number of passengers is broadly comparable to the number of passengers before Covid-19.  \n",
    "\n",
    "\n",
    "**Subquestion 2**\n",
    "\n",
    "How has the number of new Covid-19 cases developed in the considered time in the Netherlands?\n",
    "\n",
    "*Hypothesis:* It is expected that the number of Covid infections is dependent on seasonality and the regualtions in place. \n",
    "\n",
    "\n",
    "**Subquestion 3**\n",
    "\n",
    "Are there relative differences in the development of air traffic passengers between the considered airports in the Netherlands?\n",
    "\n",
    "*Hypothesis:* Groningen airport is mainly focused on pleasure flights (BRON), therefore it is expected that the number of passengers has been less affected compared to other airports. \n",
    "\n",
    "\n",
    "**Subquestion 4**\n",
    "\n",
    "How has COVID-19 impacted air traffic from and to various regions / continents?\n",
    "\n",
    "*Hypothesis:* It is expected that number of air passengers on intercontinental flights has been more affected than EUROPEAN FLIGHTS?"
   ]
  },
  {
   "cell_type": "markdown",
   "metadata": {},
   "source": [
    "# Project Group - \n",
    "\n",
    "Members: Eva Lijnen, Chaja Swab, Willemijn Dietz, Veerle van Citters, Noa Zijlmans\n",
    "\n",
    "Student numbers: 4570812, 4661753, 5868130, 5871026, 4957024 "
   ]
  },
  {
   "cell_type": "markdown",
   "metadata": {},
   "source": [
    "# Research Objective\n",
    "\n",
    "*Requires data modeling and quantitative research in Transport, Infrastructure & Logistics*"
   ]
  },
  {
   "cell_type": "markdown",
   "metadata": {},
   "source": [
    "# Discussion:\n",
    "\n",
    "- Covid cases: niet bekend / betrouwbaar in begin van pandemie (definieer tijdsperiode). \n",
    "- Seasonality: take into accoutn\n",
    "- 'Yearly' growth of air traffic not incorporated between 2019-2022\n",
    "- External factors outside the scope: high costs / inflation / recession, fear of Covid, personnel shortages\n",
    "- July misschien niet representative "
   ]
  },
  {
   "cell_type": "markdown",
   "metadata": {},
   "source": [
    "# Contribution Statement\n",
    "\n",
    "*Be specific. Some of the tasks can be coding (expect everyone to do this), background research, conceptualisation, visualisation, data analysis, data modelling*"
   ]
  },
  {
   "cell_type": "markdown",
   "metadata": {},
   "source": [
    "**Author 1**:\n",
    "\n",
    "**Author 2**:\n",
    "\n",
    "**Author 3**:"
   ]
  },
  {
   "cell_type": "markdown",
   "metadata": {},
   "source": [
    "# Data Used"
   ]
  },
  {
   "cell_type": "markdown",
   "metadata": {},
   "source": []
  },
  {
   "cell_type": "markdown",
   "metadata": {},
   "source": [
    "# Data Pipeline"
   ]
  },
  {
   "cell_type": "markdown",
   "metadata": {},
   "source": []
  },
  {
   "cell_type": "code",
   "execution_count": 16,
   "metadata": {},
   "outputs": [],
   "source": [
    "%matplotlib notebook\n",
    "\n",
    "\n",
    "from urllib.request import urlopen\n",
    "from plotly.offline import init_notebook_mode\n",
    "import plotly.express as px\n",
    "import plotly.graph_objects as go\n",
    "import json\n",
    "import pandas as pd\n",
    "import numpy as np\n",
    "import itertools\n",
    "import matplotlib.pyplot as plt\n",
    "import matplotlib.animation as animation\n",
    "import plotly.io as pio\n",
    "import geopandas as gpd\n",
    "from plotly.graph_objs import *\n",
    "\n",
    "\n",
    "filepath = '/Users/willemijndietz/Project-TIL6022-Group-21/Monthly_figures_on_aviation_10102022_111323.csv'\n",
    "\n",
    "airtraffic_df = pd.read_csv(filepath, sep=\";\")"
   ]
  },
  {
   "cell_type": "markdown",
   "metadata": {},
   "source": [
    "# Subquestion 1"
   ]
  },
  {
   "cell_type": "code",
   "execution_count": 17,
   "metadata": {},
   "outputs": [
    {
     "name": "stderr",
     "output_type": "stream",
     "text": [
      "<ipython-input-17-4fb079312c9f>:7: FutureWarning:\n",
      "\n",
      "The default value of regex will change from True to False in a future version. In addition, single character regular expressions will *not* be treated as literal strings when regex=True.\n",
      "\n"
     ]
    },
    {
     "data": {
      "text/html": [
       "<div>\n",
       "<style scoped>\n",
       "    .dataframe tbody tr th:only-of-type {\n",
       "        vertical-align: middle;\n",
       "    }\n",
       "\n",
       "    .dataframe tbody tr th {\n",
       "        vertical-align: top;\n",
       "    }\n",
       "\n",
       "    .dataframe thead th {\n",
       "        text-align: right;\n",
       "    }\n",
       "</style>\n",
       "<table border=\"1\" class=\"dataframe\">\n",
       "  <thead>\n",
       "    <tr style=\"text-align: right;\">\n",
       "      <th></th>\n",
       "      <th>Airports</th>\n",
       "      <th>Periods</th>\n",
       "      <th>Aircraft movements/Cross-country flights (number)</th>\n",
       "      <th>Aircraft movements/Local flights (number)</th>\n",
       "      <th>Commercial air traffic/Flights/All flights/Total flights (number)</th>\n",
       "      <th>Commercial air traffic/Flights/All flights/Scheduled (number)</th>\n",
       "      <th>Commercial air traffic/Flights/All flights/Non-scheduled (number)</th>\n",
       "      <th>Commercial air traffic/Flights/Arrivals/Total arrivals flights (number)</th>\n",
       "      <th>Commercial air traffic/Flights/Arrivals/Scheduled (number)</th>\n",
       "      <th>Commercial air traffic/Flights/Arrivals/Non-scheduled (number)</th>\n",
       "      <th>...</th>\n",
       "      <th>Commercial air traffic/Mail/Country of origin/destination mail/Intercontinental mail/Africa/South Africa (ton)</th>\n",
       "      <th>Commercial air traffic/Mail/Country of origin/destination mail/Intercontinental mail/America/America (ton)</th>\n",
       "      <th>Commercial air traffic/Mail/Country of origin/destination mail/Intercontinental mail/America/North America (ton)</th>\n",
       "      <th>Commercial air traffic/Mail/Country of origin/destination mail/Intercontinental mail/America/Central America (ton)</th>\n",
       "      <th>Commercial air traffic/Mail/Country of origin/destination mail/Intercontinental mail/America/South America (ton)</th>\n",
       "      <th>Commercial air traffic/Mail/Country of origin/destination mail/Intercontinental mail/Asia/Asia (ton)</th>\n",
       "      <th>Commercial air traffic/Mail/Country of origin/destination mail/Intercontinental mail/Asia/West Asia (ton)</th>\n",
       "      <th>Commercial air traffic/Mail/Country of origin/destination mail/Intercontinental mail/Asia/South-East Asia (ton)</th>\n",
       "      <th>Commercial air traffic/Mail/Country of origin/destination mail/Intercontinental mail/Asia/North-East Asia (ton)</th>\n",
       "      <th>Commercial air traffic/Mail/Country of origin/destination mail/Intercontinental mail/Oceania (ton)</th>\n",
       "    </tr>\n",
       "  </thead>\n",
       "  <tbody>\n",
       "    <tr>\n",
       "      <th>235</th>\n",
       "      <td>Total Dutch airports</td>\n",
       "      <td>2018-01-01</td>\n",
       "      <td>43441</td>\n",
       "      <td>3468</td>\n",
       "      <td>41247</td>\n",
       "      <td>40059</td>\n",
       "      <td>1188</td>\n",
       "      <td>20616</td>\n",
       "      <td>20040</td>\n",
       "      <td>576</td>\n",
       "      <td>...</td>\n",
       "      <td>6</td>\n",
       "      <td>715</td>\n",
       "      <td>483</td>\n",
       "      <td>77</td>\n",
       "      <td>155</td>\n",
       "      <td>562</td>\n",
       "      <td>84</td>\n",
       "      <td>137</td>\n",
       "      <td>341</td>\n",
       "      <td>0</td>\n",
       "    </tr>\n",
       "    <tr>\n",
       "      <th>236</th>\n",
       "      <td>Total Dutch airports</td>\n",
       "      <td>2018-02-01</td>\n",
       "      <td>41665</td>\n",
       "      <td>4709</td>\n",
       "      <td>39014</td>\n",
       "      <td>37874</td>\n",
       "      <td>1140</td>\n",
       "      <td>19513</td>\n",
       "      <td>18966</td>\n",
       "      <td>547</td>\n",
       "      <td>...</td>\n",
       "      <td>6</td>\n",
       "      <td>543</td>\n",
       "      <td>352</td>\n",
       "      <td>63</td>\n",
       "      <td>128</td>\n",
       "      <td>447</td>\n",
       "      <td>77</td>\n",
       "      <td>109</td>\n",
       "      <td>262</td>\n",
       "      <td>0</td>\n",
       "    </tr>\n",
       "    <tr>\n",
       "      <th>237</th>\n",
       "      <td>Total Dutch airports</td>\n",
       "      <td>2018-03-01</td>\n",
       "      <td>47967</td>\n",
       "      <td>4637</td>\n",
       "      <td>44687</td>\n",
       "      <td>43426</td>\n",
       "      <td>1261</td>\n",
       "      <td>22333</td>\n",
       "      <td>21712</td>\n",
       "      <td>621</td>\n",
       "      <td>...</td>\n",
       "      <td>7</td>\n",
       "      <td>665</td>\n",
       "      <td>452</td>\n",
       "      <td>71</td>\n",
       "      <td>141</td>\n",
       "      <td>552</td>\n",
       "      <td>105</td>\n",
       "      <td>122</td>\n",
       "      <td>325</td>\n",
       "      <td>0</td>\n",
       "    </tr>\n",
       "    <tr>\n",
       "      <th>238</th>\n",
       "      <td>Total Dutch airports</td>\n",
       "      <td>2018-04-01</td>\n",
       "      <td>50660</td>\n",
       "      <td>5442</td>\n",
       "      <td>47362</td>\n",
       "      <td>45456</td>\n",
       "      <td>1906</td>\n",
       "      <td>23688</td>\n",
       "      <td>22717</td>\n",
       "      <td>971</td>\n",
       "      <td>...</td>\n",
       "      <td>4</td>\n",
       "      <td>563</td>\n",
       "      <td>354</td>\n",
       "      <td>73</td>\n",
       "      <td>137</td>\n",
       "      <td>577</td>\n",
       "      <td>105</td>\n",
       "      <td>83</td>\n",
       "      <td>388</td>\n",
       "      <td>0</td>\n",
       "    </tr>\n",
       "    <tr>\n",
       "      <th>239</th>\n",
       "      <td>Total Dutch airports</td>\n",
       "      <td>2018-05-01</td>\n",
       "      <td>54882</td>\n",
       "      <td>5095</td>\n",
       "      <td>51151</td>\n",
       "      <td>48500</td>\n",
       "      <td>2651</td>\n",
       "      <td>25563</td>\n",
       "      <td>24249</td>\n",
       "      <td>1314</td>\n",
       "      <td>...</td>\n",
       "      <td>4</td>\n",
       "      <td>555</td>\n",
       "      <td>333</td>\n",
       "      <td>73</td>\n",
       "      <td>149</td>\n",
       "      <td>525</td>\n",
       "      <td>97</td>\n",
       "      <td>81</td>\n",
       "      <td>347</td>\n",
       "      <td>0</td>\n",
       "    </tr>\n",
       "    <tr>\n",
       "      <th>...</th>\n",
       "      <td>...</td>\n",
       "      <td>...</td>\n",
       "      <td>...</td>\n",
       "      <td>...</td>\n",
       "      <td>...</td>\n",
       "      <td>...</td>\n",
       "      <td>...</td>\n",
       "      <td>...</td>\n",
       "      <td>...</td>\n",
       "      <td>...</td>\n",
       "      <td>...</td>\n",
       "      <td>...</td>\n",
       "      <td>...</td>\n",
       "      <td>...</td>\n",
       "      <td>...</td>\n",
       "      <td>...</td>\n",
       "      <td>...</td>\n",
       "      <td>...</td>\n",
       "      <td>...</td>\n",
       "      <td>...</td>\n",
       "      <td>...</td>\n",
       "    </tr>\n",
       "    <tr>\n",
       "      <th>1765</th>\n",
       "      <td>Groningen Airport Eelde</td>\n",
       "      <td>2022-04-01</td>\n",
       "      <td>1029</td>\n",
       "      <td>4076</td>\n",
       "      <td>62</td>\n",
       "      <td>0</td>\n",
       "      <td>62</td>\n",
       "      <td>32</td>\n",
       "      <td>0</td>\n",
       "      <td>32</td>\n",
       "      <td>...</td>\n",
       "      <td>0</td>\n",
       "      <td>0</td>\n",
       "      <td>0</td>\n",
       "      <td>0</td>\n",
       "      <td>0</td>\n",
       "      <td>0</td>\n",
       "      <td>0</td>\n",
       "      <td>0</td>\n",
       "      <td>0</td>\n",
       "      <td>0</td>\n",
       "    </tr>\n",
       "    <tr>\n",
       "      <th>1766</th>\n",
       "      <td>Groningen Airport Eelde</td>\n",
       "      <td>2022-05-01</td>\n",
       "      <td>1043</td>\n",
       "      <td>4264</td>\n",
       "      <td>120</td>\n",
       "      <td>0</td>\n",
       "      <td>120</td>\n",
       "      <td>57</td>\n",
       "      <td>0</td>\n",
       "      <td>57</td>\n",
       "      <td>...</td>\n",
       "      <td>0</td>\n",
       "      <td>0</td>\n",
       "      <td>0</td>\n",
       "      <td>0</td>\n",
       "      <td>0</td>\n",
       "      <td>0</td>\n",
       "      <td>0</td>\n",
       "      <td>0</td>\n",
       "      <td>0</td>\n",
       "      <td>0</td>\n",
       "    </tr>\n",
       "    <tr>\n",
       "      <th>1767</th>\n",
       "      <td>Groningen Airport Eelde</td>\n",
       "      <td>2022-06-01</td>\n",
       "      <td>1260</td>\n",
       "      <td>5606</td>\n",
       "      <td>148</td>\n",
       "      <td>0</td>\n",
       "      <td>148</td>\n",
       "      <td>78</td>\n",
       "      <td>0</td>\n",
       "      <td>78</td>\n",
       "      <td>...</td>\n",
       "      <td>0</td>\n",
       "      <td>0</td>\n",
       "      <td>0</td>\n",
       "      <td>0</td>\n",
       "      <td>0</td>\n",
       "      <td>0</td>\n",
       "      <td>0</td>\n",
       "      <td>0</td>\n",
       "      <td>0</td>\n",
       "      <td>0</td>\n",
       "    </tr>\n",
       "    <tr>\n",
       "      <th>1768</th>\n",
       "      <td>Groningen Airport Eelde</td>\n",
       "      <td>2022-07-01</td>\n",
       "      <td>1114</td>\n",
       "      <td>5362</td>\n",
       "      <td>132</td>\n",
       "      <td>0</td>\n",
       "      <td>132</td>\n",
       "      <td>67</td>\n",
       "      <td>0</td>\n",
       "      <td>67</td>\n",
       "      <td>...</td>\n",
       "      <td>0</td>\n",
       "      <td>0</td>\n",
       "      <td>0</td>\n",
       "      <td>0</td>\n",
       "      <td>0</td>\n",
       "      <td>0</td>\n",
       "      <td>0</td>\n",
       "      <td>0</td>\n",
       "      <td>0</td>\n",
       "      <td>0</td>\n",
       "    </tr>\n",
       "    <tr>\n",
       "      <th>1769</th>\n",
       "      <td>Groningen Airport Eelde</td>\n",
       "      <td>2022-08-01</td>\n",
       "      <td>1131</td>\n",
       "      <td>5378</td>\n",
       "      <td>135</td>\n",
       "      <td>0</td>\n",
       "      <td>135</td>\n",
       "      <td>65</td>\n",
       "      <td>0</td>\n",
       "      <td>65</td>\n",
       "      <td>...</td>\n",
       "      <td>0</td>\n",
       "      <td>0</td>\n",
       "      <td>0</td>\n",
       "      <td>0</td>\n",
       "      <td>0</td>\n",
       "      <td>0</td>\n",
       "      <td>0</td>\n",
       "      <td>0</td>\n",
       "      <td>0</td>\n",
       "      <td>0</td>\n",
       "    </tr>\n",
       "  </tbody>\n",
       "</table>\n",
       "<p>336 rows × 104 columns</p>\n",
       "</div>"
      ],
      "text/plain": [
       "                     Airports    Periods  \\\n",
       "235      Total Dutch airports 2018-01-01   \n",
       "236      Total Dutch airports 2018-02-01   \n",
       "237      Total Dutch airports 2018-03-01   \n",
       "238      Total Dutch airports 2018-04-01   \n",
       "239      Total Dutch airports 2018-05-01   \n",
       "...                       ...        ...   \n",
       "1765  Groningen Airport Eelde 2022-04-01   \n",
       "1766  Groningen Airport Eelde 2022-05-01   \n",
       "1767  Groningen Airport Eelde 2022-06-01   \n",
       "1768  Groningen Airport Eelde 2022-07-01   \n",
       "1769  Groningen Airport Eelde 2022-08-01   \n",
       "\n",
       "      Aircraft movements/Cross-country flights (number)  \\\n",
       "235                                               43441   \n",
       "236                                               41665   \n",
       "237                                               47967   \n",
       "238                                               50660   \n",
       "239                                               54882   \n",
       "...                                                 ...   \n",
       "1765                                               1029   \n",
       "1766                                               1043   \n",
       "1767                                               1260   \n",
       "1768                                               1114   \n",
       "1769                                               1131   \n",
       "\n",
       "      Aircraft movements/Local flights (number)  \\\n",
       "235                                        3468   \n",
       "236                                        4709   \n",
       "237                                        4637   \n",
       "238                                        5442   \n",
       "239                                        5095   \n",
       "...                                         ...   \n",
       "1765                                       4076   \n",
       "1766                                       4264   \n",
       "1767                                       5606   \n",
       "1768                                       5362   \n",
       "1769                                       5378   \n",
       "\n",
       "      Commercial air traffic/Flights/All flights/Total flights (number)  \\\n",
       "235                                               41247                   \n",
       "236                                               39014                   \n",
       "237                                               44687                   \n",
       "238                                               47362                   \n",
       "239                                               51151                   \n",
       "...                                                 ...                   \n",
       "1765                                                 62                   \n",
       "1766                                                120                   \n",
       "1767                                                148                   \n",
       "1768                                                132                   \n",
       "1769                                                135                   \n",
       "\n",
       "     Commercial air traffic/Flights/All flights/Scheduled (number)  \\\n",
       "235                                               40059              \n",
       "236                                               37874              \n",
       "237                                               43426              \n",
       "238                                               45456              \n",
       "239                                               48500              \n",
       "...                                                 ...              \n",
       "1765                                                  0              \n",
       "1766                                                  0              \n",
       "1767                                                  0              \n",
       "1768                                                  0              \n",
       "1769                                                  0              \n",
       "\n",
       "      Commercial air traffic/Flights/All flights/Non-scheduled (number)  \\\n",
       "235                                                1188                   \n",
       "236                                                1140                   \n",
       "237                                                1261                   \n",
       "238                                                1906                   \n",
       "239                                                2651                   \n",
       "...                                                 ...                   \n",
       "1765                                                 62                   \n",
       "1766                                                120                   \n",
       "1767                                                148                   \n",
       "1768                                                132                   \n",
       "1769                                                135                   \n",
       "\n",
       "      Commercial air traffic/Flights/Arrivals/Total arrivals flights (number)  \\\n",
       "235                                               20616                         \n",
       "236                                               19513                         \n",
       "237                                               22333                         \n",
       "238                                               23688                         \n",
       "239                                               25563                         \n",
       "...                                                 ...                         \n",
       "1765                                                 32                         \n",
       "1766                                                 57                         \n",
       "1767                                                 78                         \n",
       "1768                                                 67                         \n",
       "1769                                                 65                         \n",
       "\n",
       "     Commercial air traffic/Flights/Arrivals/Scheduled (number)  \\\n",
       "235                                               20040           \n",
       "236                                               18966           \n",
       "237                                               21712           \n",
       "238                                               22717           \n",
       "239                                               24249           \n",
       "...                                                 ...           \n",
       "1765                                                  0           \n",
       "1766                                                  0           \n",
       "1767                                                  0           \n",
       "1768                                                  0           \n",
       "1769                                                  0           \n",
       "\n",
       "      Commercial air traffic/Flights/Arrivals/Non-scheduled (number)  ...  \\\n",
       "235                                                 576               ...   \n",
       "236                                                 547               ...   \n",
       "237                                                 621               ...   \n",
       "238                                                 971               ...   \n",
       "239                                                1314               ...   \n",
       "...                                                 ...               ...   \n",
       "1765                                                 32               ...   \n",
       "1766                                                 57               ...   \n",
       "1767                                                 78               ...   \n",
       "1768                                                 67               ...   \n",
       "1769                                                 65               ...   \n",
       "\n",
       "      Commercial air traffic/Mail/Country of origin/destination mail/Intercontinental mail/Africa/South Africa (ton)  \\\n",
       "235                                                   6                                                                \n",
       "236                                                   6                                                                \n",
       "237                                                   7                                                                \n",
       "238                                                   4                                                                \n",
       "239                                                   4                                                                \n",
       "...                                                 ...                                                                \n",
       "1765                                                  0                                                                \n",
       "1766                                                  0                                                                \n",
       "1767                                                  0                                                                \n",
       "1768                                                  0                                                                \n",
       "1769                                                  0                                                                \n",
       "\n",
       "     Commercial air traffic/Mail/Country of origin/destination mail/Intercontinental mail/America/America (ton)  \\\n",
       "235                                                 715                                                           \n",
       "236                                                 543                                                           \n",
       "237                                                 665                                                           \n",
       "238                                                 563                                                           \n",
       "239                                                 555                                                           \n",
       "...                                                 ...                                                           \n",
       "1765                                                  0                                                           \n",
       "1766                                                  0                                                           \n",
       "1767                                                  0                                                           \n",
       "1768                                                  0                                                           \n",
       "1769                                                  0                                                           \n",
       "\n",
       "      Commercial air traffic/Mail/Country of origin/destination mail/Intercontinental mail/America/North America (ton)  \\\n",
       "235                                                 483                                                                  \n",
       "236                                                 352                                                                  \n",
       "237                                                 452                                                                  \n",
       "238                                                 354                                                                  \n",
       "239                                                 333                                                                  \n",
       "...                                                 ...                                                                  \n",
       "1765                                                  0                                                                  \n",
       "1766                                                  0                                                                  \n",
       "1767                                                  0                                                                  \n",
       "1768                                                  0                                                                  \n",
       "1769                                                  0                                                                  \n",
       "\n",
       "      Commercial air traffic/Mail/Country of origin/destination mail/Intercontinental mail/America/Central America (ton)  \\\n",
       "235                                                  77                                                                    \n",
       "236                                                  63                                                                    \n",
       "237                                                  71                                                                    \n",
       "238                                                  73                                                                    \n",
       "239                                                  73                                                                    \n",
       "...                                                 ...                                                                    \n",
       "1765                                                  0                                                                    \n",
       "1766                                                  0                                                                    \n",
       "1767                                                  0                                                                    \n",
       "1768                                                  0                                                                    \n",
       "1769                                                  0                                                                    \n",
       "\n",
       "     Commercial air traffic/Mail/Country of origin/destination mail/Intercontinental mail/America/South America (ton)  \\\n",
       "235                                                 155                                                                 \n",
       "236                                                 128                                                                 \n",
       "237                                                 141                                                                 \n",
       "238                                                 137                                                                 \n",
       "239                                                 149                                                                 \n",
       "...                                                 ...                                                                 \n",
       "1765                                                  0                                                                 \n",
       "1766                                                  0                                                                 \n",
       "1767                                                  0                                                                 \n",
       "1768                                                  0                                                                 \n",
       "1769                                                  0                                                                 \n",
       "\n",
       "      Commercial air traffic/Mail/Country of origin/destination mail/Intercontinental mail/Asia/Asia (ton)  \\\n",
       "235                                                 562                                                      \n",
       "236                                                 447                                                      \n",
       "237                                                 552                                                      \n",
       "238                                                 577                                                      \n",
       "239                                                 525                                                      \n",
       "...                                                 ...                                                      \n",
       "1765                                                  0                                                      \n",
       "1766                                                  0                                                      \n",
       "1767                                                  0                                                      \n",
       "1768                                                  0                                                      \n",
       "1769                                                  0                                                      \n",
       "\n",
       "      Commercial air traffic/Mail/Country of origin/destination mail/Intercontinental mail/Asia/West Asia (ton)  \\\n",
       "235                                                  84                                                           \n",
       "236                                                  77                                                           \n",
       "237                                                 105                                                           \n",
       "238                                                 105                                                           \n",
       "239                                                  97                                                           \n",
       "...                                                 ...                                                           \n",
       "1765                                                  0                                                           \n",
       "1766                                                  0                                                           \n",
       "1767                                                  0                                                           \n",
       "1768                                                  0                                                           \n",
       "1769                                                  0                                                           \n",
       "\n",
       "     Commercial air traffic/Mail/Country of origin/destination mail/Intercontinental mail/Asia/South-East Asia (ton)  \\\n",
       "235                                                 137                                                                \n",
       "236                                                 109                                                                \n",
       "237                                                 122                                                                \n",
       "238                                                  83                                                                \n",
       "239                                                  81                                                                \n",
       "...                                                 ...                                                                \n",
       "1765                                                  0                                                                \n",
       "1766                                                  0                                                                \n",
       "1767                                                  0                                                                \n",
       "1768                                                  0                                                                \n",
       "1769                                                  0                                                                \n",
       "\n",
       "      Commercial air traffic/Mail/Country of origin/destination mail/Intercontinental mail/Asia/North-East Asia (ton)  \\\n",
       "235                                                 341                                                                 \n",
       "236                                                 262                                                                 \n",
       "237                                                 325                                                                 \n",
       "238                                                 388                                                                 \n",
       "239                                                 347                                                                 \n",
       "...                                                 ...                                                                 \n",
       "1765                                                  0                                                                 \n",
       "1766                                                  0                                                                 \n",
       "1767                                                  0                                                                 \n",
       "1768                                                  0                                                                 \n",
       "1769                                                  0                                                                 \n",
       "\n",
       "      Commercial air traffic/Mail/Country of origin/destination mail/Intercontinental mail/Oceania (ton)  \n",
       "235                                                   0                                                   \n",
       "236                                                   0                                                   \n",
       "237                                                   0                                                   \n",
       "238                                                   0                                                   \n",
       "239                                                   0                                                   \n",
       "...                                                 ...                                                   \n",
       "1765                                                  0                                                   \n",
       "1766                                                  0                                                   \n",
       "1767                                                  0                                                   \n",
       "1768                                                  0                                                   \n",
       "1769                                                  0                                                   \n",
       "\n",
       "[336 rows x 104 columns]"
      ]
     },
     "execution_count": 17,
     "metadata": {},
     "output_type": "execute_result"
    }
   ],
   "source": [
    "#DATA CLEANING: \n",
    "\n",
    "#SELECT CORRECT TIMESPAN\n",
    "\n",
    "#Convert Periods column to datetime\n",
    "#Deze moet je 1 keer uncommenten en daarna weer ###\n",
    "airtraffic_df['Periods'] = airtraffic_df['Periods'].str.replace('*', '')\n",
    "airtraffic_df['Periods'] = pd.to_datetime(airtraffic_df['Periods'], format = '%Y %B', errors = 'coerce') \n",
    "\n",
    "#airtraffic_df['Periods'].info()\n",
    "airtraffic_df['Periods']\n",
    "\n",
    "#Select rows that fall within our timespan\n",
    "at_df_timespan = airtraffic_df[airtraffic_df['Periods'] >= '2018-01-01']\n",
    "\n",
    "#Check for NaN values\n",
    "#There are no NaN values \n",
    "#at_df_timespan.isnull().sum().sum()\n",
    "\n",
    "at_df_timespan"
   ]
  },
  {
   "cell_type": "code",
   "execution_count": 19,
   "metadata": {},
   "outputs": [
    {
     "data": {
      "application/vnd.plotly.v1+json": {
       "config": {
        "plotlyServerURL": "https://plot.ly"
       },
       "data": [
        {
         "hovertemplate": "Airports=Total Dutch airports<br>Periods=%{x}<br>Commercial air traffic/Passengers/Total passengers/Total passengers (number)=%{y}<extra></extra>",
         "legendgroup": "Total Dutch airports",
         "line": {
          "color": "#636efa",
          "dash": "solid"
         },
         "marker": {
          "symbol": "circle"
         },
         "mode": "lines",
         "name": "Total Dutch airports",
         "orientation": "v",
         "showlegend": true,
         "type": "scatter",
         "x": [
          "2018-01-01T00:00:00",
          "2018-02-01T00:00:00",
          "2018-03-01T00:00:00",
          "2018-04-01T00:00:00",
          "2018-05-01T00:00:00",
          "2018-06-01T00:00:00",
          "2018-07-01T00:00:00",
          "2018-08-01T00:00:00",
          "2018-09-01T00:00:00",
          "2018-10-01T00:00:00",
          "2018-11-01T00:00:00",
          "2018-12-01T00:00:00",
          "2019-01-01T00:00:00",
          "2019-02-01T00:00:00",
          "2019-03-01T00:00:00",
          "2019-04-01T00:00:00",
          "2019-05-01T00:00:00",
          "2019-06-01T00:00:00",
          "2019-07-01T00:00:00",
          "2019-08-01T00:00:00",
          "2019-09-01T00:00:00",
          "2019-10-01T00:00:00",
          "2019-11-01T00:00:00",
          "2019-12-01T00:00:00",
          "2020-01-01T00:00:00",
          "2020-02-01T00:00:00",
          "2020-03-01T00:00:00",
          "2020-04-01T00:00:00",
          "2020-05-01T00:00:00",
          "2020-06-01T00:00:00",
          "2020-07-01T00:00:00",
          "2020-08-01T00:00:00",
          "2020-09-01T00:00:00",
          "2020-10-01T00:00:00",
          "2020-11-01T00:00:00",
          "2020-12-01T00:00:00",
          "2021-01-01T00:00:00",
          "2021-02-01T00:00:00",
          "2021-03-01T00:00:00",
          "2021-04-01T00:00:00",
          "2021-05-01T00:00:00",
          "2021-06-01T00:00:00",
          "2021-07-01T00:00:00",
          "2021-08-01T00:00:00",
          "2021-09-01T00:00:00",
          "2021-10-01T00:00:00",
          "2021-11-01T00:00:00",
          "2021-12-01T00:00:00",
          "2022-01-01T00:00:00",
          "2022-02-01T00:00:00",
          "2022-03-01T00:00:00",
          "2022-04-01T00:00:00",
          "2022-05-01T00:00:00",
          "2022-06-01T00:00:00",
          "2022-07-01T00:00:00",
          "2022-08-01T00:00:00"
         ],
         "xaxis": "x",
         "y": [
          5410899,
          5237331,
          6151187,
          6730695,
          7261667,
          7233806,
          7691695,
          7786633,
          7294410,
          7262779,
          5802548,
          5742668,
          5495052,
          5352301,
          6270788,
          6926059,
          7396960,
          7471334,
          7730263,
          7859458,
          7486440,
          7354352,
          5885771,
          5938523,
          5595249,
          5281600,
          2773554,
          133752,
          220120,
          526544,
          1690515,
          2242935,
          1547263,
          1303123,
          965071,
          1306018,
          909617,
          519827,
          676647,
          817876,
          1169673,
          1870330,
          3515159,
          4479180,
          4013477,
          4395945,
          3492940,
          3208864,
          2831598,
          3040193,
          4241663,
          5140680,
          6092054,
          6118527,
          6211931,
          6378969
         ],
         "yaxis": "y"
        },
        {
         "hovertemplate": "Airports=Amsterdam Airport Schiphol<br>Periods=%{x}<br>Commercial air traffic/Passengers/Total passengers/Total passengers (number)=%{y}<extra></extra>",
         "legendgroup": "Amsterdam Airport Schiphol",
         "line": {
          "color": "#EF553B",
          "dash": "solid"
         },
         "marker": {
          "symbol": "circle"
         },
         "mode": "lines",
         "name": "Amsterdam Airport Schiphol",
         "orientation": "v",
         "showlegend": true,
         "type": "scatter",
         "x": [
          "2018-01-01T00:00:00",
          "2018-02-01T00:00:00",
          "2018-03-01T00:00:00",
          "2018-04-01T00:00:00",
          "2018-05-01T00:00:00",
          "2018-06-01T00:00:00",
          "2018-07-01T00:00:00",
          "2018-08-01T00:00:00",
          "2018-09-01T00:00:00",
          "2018-10-01T00:00:00",
          "2018-11-01T00:00:00",
          "2018-12-01T00:00:00",
          "2019-01-01T00:00:00",
          "2019-02-01T00:00:00",
          "2019-03-01T00:00:00",
          "2019-04-01T00:00:00",
          "2019-05-01T00:00:00",
          "2019-06-01T00:00:00",
          "2019-07-01T00:00:00",
          "2019-08-01T00:00:00",
          "2019-09-01T00:00:00",
          "2019-10-01T00:00:00",
          "2019-11-01T00:00:00",
          "2019-12-01T00:00:00",
          "2020-01-01T00:00:00",
          "2020-02-01T00:00:00",
          "2020-03-01T00:00:00",
          "2020-04-01T00:00:00",
          "2020-05-01T00:00:00",
          "2020-06-01T00:00:00",
          "2020-07-01T00:00:00",
          "2020-08-01T00:00:00",
          "2020-09-01T00:00:00",
          "2020-10-01T00:00:00",
          "2020-11-01T00:00:00",
          "2020-12-01T00:00:00",
          "2021-01-01T00:00:00",
          "2021-02-01T00:00:00",
          "2021-03-01T00:00:00",
          "2021-04-01T00:00:00",
          "2021-05-01T00:00:00",
          "2021-06-01T00:00:00",
          "2021-07-01T00:00:00",
          "2021-08-01T00:00:00",
          "2021-09-01T00:00:00",
          "2021-10-01T00:00:00",
          "2021-11-01T00:00:00",
          "2021-12-01T00:00:00",
          "2022-01-01T00:00:00",
          "2022-02-01T00:00:00",
          "2022-03-01T00:00:00",
          "2022-04-01T00:00:00",
          "2022-05-01T00:00:00",
          "2022-06-01T00:00:00",
          "2022-07-01T00:00:00",
          "2022-08-01T00:00:00"
         ],
         "xaxis": "x",
         "y": [
          4908989,
          4741806,
          5559456,
          6016915,
          6393936,
          6377393,
          6765004,
          6836668,
          6396940,
          6402290,
          5296943,
          5260254,
          4996131,
          4836332,
          5630314,
          6104010,
          6441473,
          6502588,
          6724023,
          6810759,
          6493468,
          6431122,
          5323306,
          5386203,
          5074773,
          4719769,
          2476372,
          126015,
          207827,
          471410,
          1338857,
          1854786,
          1337741,
          1143483,
          900434,
          1233043,
          869129,
          505194,
          660176,
          786652,
          1106740,
          1678265,
          3029951,
          3786973,
          3370205,
          3745991,
          3095823,
          2855711,
          2488083,
          2660676,
          3732048,
          4434587,
          5217035,
          5232630,
          5179725,
          5327361
         ],
         "yaxis": "y"
        },
        {
         "hovertemplate": "Airports=Rotterdam The Hague Airport<br>Periods=%{x}<br>Commercial air traffic/Passengers/Total passengers/Total passengers (number)=%{y}<extra></extra>",
         "legendgroup": "Rotterdam The Hague Airport",
         "line": {
          "color": "#00cc96",
          "dash": "solid"
         },
         "marker": {
          "symbol": "circle"
         },
         "mode": "lines",
         "name": "Rotterdam The Hague Airport",
         "orientation": "v",
         "showlegend": true,
         "type": "scatter",
         "x": [
          "2018-01-01T00:00:00",
          "2018-02-01T00:00:00",
          "2018-03-01T00:00:00",
          "2018-04-01T00:00:00",
          "2018-05-01T00:00:00",
          "2018-06-01T00:00:00",
          "2018-07-01T00:00:00",
          "2018-08-01T00:00:00",
          "2018-09-01T00:00:00",
          "2018-10-01T00:00:00",
          "2018-11-01T00:00:00",
          "2018-12-01T00:00:00",
          "2019-01-01T00:00:00",
          "2019-02-01T00:00:00",
          "2019-03-01T00:00:00",
          "2019-04-01T00:00:00",
          "2019-05-01T00:00:00",
          "2019-06-01T00:00:00",
          "2019-07-01T00:00:00",
          "2019-08-01T00:00:00",
          "2019-09-01T00:00:00",
          "2019-10-01T00:00:00",
          "2019-11-01T00:00:00",
          "2019-12-01T00:00:00",
          "2020-01-01T00:00:00",
          "2020-02-01T00:00:00",
          "2020-03-01T00:00:00",
          "2020-04-01T00:00:00",
          "2020-05-01T00:00:00",
          "2020-06-01T00:00:00",
          "2020-07-01T00:00:00",
          "2020-08-01T00:00:00",
          "2020-09-01T00:00:00",
          "2020-10-01T00:00:00",
          "2020-11-01T00:00:00",
          "2020-12-01T00:00:00",
          "2021-01-01T00:00:00",
          "2021-02-01T00:00:00",
          "2021-03-01T00:00:00",
          "2021-04-01T00:00:00",
          "2021-05-01T00:00:00",
          "2021-06-01T00:00:00",
          "2021-07-01T00:00:00",
          "2021-08-01T00:00:00",
          "2021-09-01T00:00:00",
          "2021-10-01T00:00:00",
          "2021-11-01T00:00:00",
          "2021-12-01T00:00:00",
          "2022-01-01T00:00:00",
          "2022-02-01T00:00:00",
          "2022-03-01T00:00:00",
          "2022-04-01T00:00:00",
          "2022-05-01T00:00:00",
          "2022-06-01T00:00:00",
          "2022-07-01T00:00:00",
          "2022-08-01T00:00:00"
         ],
         "xaxis": "x",
         "y": [
          89021,
          88493,
          121533,
          144208,
          221150,
          217739,
          230635,
          232799,
          223027,
          193930,
          73245,
          72378,
          84056,
          95420,
          137683,
          169142,
          227437,
          240069,
          251074,
          269858,
          240606,
          198592,
          91748,
          89113,
          99080,
          104062,
          62870,
          0,
          134,
          7971,
          78468,
          74047,
          32047,
          21811,
          4761,
          4590,
          3311,
          2871,
          98,
          1945,
          8912,
          39309,
          113882,
          181957,
          167169,
          147368,
          48278,
          40295,
          58903,
          63510,
          101163,
          139308,
          224714,
          224069,
          312468,
          305371
         ],
         "yaxis": "y"
        },
        {
         "hovertemplate": "Airports=Eindhoven Airport<br>Periods=%{x}<br>Commercial air traffic/Passengers/Total passengers/Total passengers (number)=%{y}<extra></extra>",
         "legendgroup": "Eindhoven Airport",
         "line": {
          "color": "#ab63fa",
          "dash": "solid"
         },
         "marker": {
          "symbol": "circle"
         },
         "mode": "lines",
         "name": "Eindhoven Airport",
         "orientation": "v",
         "showlegend": true,
         "type": "scatter",
         "x": [
          "2018-01-01T00:00:00",
          "2018-02-01T00:00:00",
          "2018-03-01T00:00:00",
          "2018-04-01T00:00:00",
          "2018-05-01T00:00:00",
          "2018-06-01T00:00:00",
          "2018-07-01T00:00:00",
          "2018-08-01T00:00:00",
          "2018-09-01T00:00:00",
          "2018-10-01T00:00:00",
          "2018-11-01T00:00:00",
          "2018-12-01T00:00:00",
          "2019-01-01T00:00:00",
          "2019-02-01T00:00:00",
          "2019-03-01T00:00:00",
          "2019-04-01T00:00:00",
          "2019-05-01T00:00:00",
          "2019-06-01T00:00:00",
          "2019-07-01T00:00:00",
          "2019-08-01T00:00:00",
          "2019-09-01T00:00:00",
          "2019-10-01T00:00:00",
          "2019-11-01T00:00:00",
          "2019-12-01T00:00:00",
          "2020-01-01T00:00:00",
          "2020-02-01T00:00:00",
          "2020-03-01T00:00:00",
          "2020-04-01T00:00:00",
          "2020-05-01T00:00:00",
          "2020-06-01T00:00:00",
          "2020-07-01T00:00:00",
          "2020-08-01T00:00:00",
          "2020-09-01T00:00:00",
          "2020-10-01T00:00:00",
          "2020-11-01T00:00:00",
          "2020-12-01T00:00:00",
          "2021-01-01T00:00:00",
          "2021-02-01T00:00:00",
          "2021-03-01T00:00:00",
          "2021-04-01T00:00:00",
          "2021-05-01T00:00:00",
          "2021-06-01T00:00:00",
          "2021-07-01T00:00:00",
          "2021-08-01T00:00:00",
          "2021-09-01T00:00:00",
          "2021-10-01T00:00:00",
          "2021-11-01T00:00:00",
          "2021-12-01T00:00:00",
          "2022-01-01T00:00:00",
          "2022-02-01T00:00:00",
          "2022-03-01T00:00:00",
          "2022-04-01T00:00:00",
          "2022-05-01T00:00:00",
          "2022-06-01T00:00:00",
          "2022-07-01T00:00:00",
          "2022-08-01T00:00:00"
         ],
         "xaxis": "x",
         "y": [
          398089,
          393080,
          452090,
          537248,
          585787,
          583746,
          623708,
          635624,
          615201,
          612905,
          409628,
          390649,
          400481,
          404961,
          486336,
          606490,
          656099,
          657648,
          665638,
          681093,
          672355,
          662238,
          446930,
          440506,
          400991,
          438828,
          225071,
          7732,
          12108,
          46774,
          257515,
          295053,
          171375,
          133057,
          57737,
          66544,
          36128,
          11314,
          16000,
          27805,
          51798,
          147608,
          344808,
          481576,
          453527,
          479966,
          341640,
          306254,
          275066,
          309283,
          401775,
          546389,
          619540,
          631700,
          662646,
          678848
         ],
         "yaxis": "y"
        },
        {
         "hovertemplate": "Airports=Maastricht Aachen Airport<br>Periods=%{x}<br>Commercial air traffic/Passengers/Total passengers/Total passengers (number)=%{y}<extra></extra>",
         "legendgroup": "Maastricht Aachen Airport",
         "line": {
          "color": "#FFA15A",
          "dash": "solid"
         },
         "marker": {
          "symbol": "circle"
         },
         "mode": "lines",
         "name": "Maastricht Aachen Airport",
         "orientation": "v",
         "showlegend": true,
         "type": "scatter",
         "x": [
          "2018-01-01T00:00:00",
          "2018-02-01T00:00:00",
          "2018-03-01T00:00:00",
          "2018-04-01T00:00:00",
          "2018-05-01T00:00:00",
          "2018-06-01T00:00:00",
          "2018-07-01T00:00:00",
          "2018-08-01T00:00:00",
          "2018-09-01T00:00:00",
          "2018-10-01T00:00:00",
          "2018-11-01T00:00:00",
          "2018-12-01T00:00:00",
          "2019-01-01T00:00:00",
          "2019-02-01T00:00:00",
          "2019-03-01T00:00:00",
          "2019-04-01T00:00:00",
          "2019-05-01T00:00:00",
          "2019-06-01T00:00:00",
          "2019-07-01T00:00:00",
          "2019-08-01T00:00:00",
          "2019-09-01T00:00:00",
          "2019-10-01T00:00:00",
          "2019-11-01T00:00:00",
          "2019-12-01T00:00:00",
          "2020-01-01T00:00:00",
          "2020-02-01T00:00:00",
          "2020-03-01T00:00:00",
          "2020-04-01T00:00:00",
          "2020-05-01T00:00:00",
          "2020-06-01T00:00:00",
          "2020-07-01T00:00:00",
          "2020-08-01T00:00:00",
          "2020-09-01T00:00:00",
          "2020-10-01T00:00:00",
          "2020-11-01T00:00:00",
          "2020-12-01T00:00:00",
          "2021-01-01T00:00:00",
          "2021-02-01T00:00:00",
          "2021-03-01T00:00:00",
          "2021-04-01T00:00:00",
          "2021-05-01T00:00:00",
          "2021-06-01T00:00:00",
          "2021-07-01T00:00:00",
          "2021-08-01T00:00:00",
          "2021-09-01T00:00:00",
          "2021-10-01T00:00:00",
          "2021-11-01T00:00:00",
          "2021-12-01T00:00:00",
          "2022-01-01T00:00:00",
          "2022-02-01T00:00:00",
          "2022-03-01T00:00:00",
          "2022-04-01T00:00:00",
          "2022-05-01T00:00:00",
          "2022-06-01T00:00:00",
          "2022-07-01T00:00:00",
          "2022-08-01T00:00:00"
         ],
         "xaxis": "x",
         "y": [
          3286,
          3022,
          5502,
          17477,
          34418,
          31299,
          46636,
          53040,
          34945,
          32462,
          7528,
          5498,
          6140,
          6817,
          6914,
          32795,
          49734,
          50048,
          69715,
          76289,
          59255,
          46190,
          16446,
          15634,
          15115,
          14354,
          7242,
          5,
          4,
          389,
          12952,
          16818,
          5511,
          4710,
          2139,
          1841,
          1049,
          448,
          373,
          1474,
          2223,
          4454,
          22399,
          24199,
          16364,
          17826,
          3744,
          3093,
          5880,
          3288,
          3371,
          15386,
          22019,
          20728,
          45778,
          53999
         ],
         "yaxis": "y"
        },
        {
         "hovertemplate": "Airports=Groningen Airport Eelde<br>Periods=%{x}<br>Commercial air traffic/Passengers/Total passengers/Total passengers (number)=%{y}<extra></extra>",
         "legendgroup": "Groningen Airport Eelde",
         "line": {
          "color": "#19d3f3",
          "dash": "solid"
         },
         "marker": {
          "symbol": "circle"
         },
         "mode": "lines",
         "name": "Groningen Airport Eelde",
         "orientation": "v",
         "showlegend": true,
         "type": "scatter",
         "x": [
          "2018-01-01T00:00:00",
          "2018-02-01T00:00:00",
          "2018-03-01T00:00:00",
          "2018-04-01T00:00:00",
          "2018-05-01T00:00:00",
          "2018-06-01T00:00:00",
          "2018-07-01T00:00:00",
          "2018-08-01T00:00:00",
          "2018-09-01T00:00:00",
          "2018-10-01T00:00:00",
          "2018-11-01T00:00:00",
          "2018-12-01T00:00:00",
          "2019-01-01T00:00:00",
          "2019-02-01T00:00:00",
          "2019-03-01T00:00:00",
          "2019-04-01T00:00:00",
          "2019-05-01T00:00:00",
          "2019-06-01T00:00:00",
          "2019-07-01T00:00:00",
          "2019-08-01T00:00:00",
          "2019-09-01T00:00:00",
          "2019-10-01T00:00:00",
          "2019-11-01T00:00:00",
          "2019-12-01T00:00:00",
          "2020-01-01T00:00:00",
          "2020-02-01T00:00:00",
          "2020-03-01T00:00:00",
          "2020-04-01T00:00:00",
          "2020-05-01T00:00:00",
          "2020-06-01T00:00:00",
          "2020-07-01T00:00:00",
          "2020-08-01T00:00:00",
          "2020-09-01T00:00:00",
          "2020-10-01T00:00:00",
          "2020-11-01T00:00:00",
          "2020-12-01T00:00:00",
          "2021-01-01T00:00:00",
          "2021-02-01T00:00:00",
          "2021-03-01T00:00:00",
          "2021-04-01T00:00:00",
          "2021-05-01T00:00:00",
          "2021-06-01T00:00:00",
          "2021-07-01T00:00:00",
          "2021-08-01T00:00:00",
          "2021-09-01T00:00:00",
          "2021-10-01T00:00:00",
          "2021-11-01T00:00:00",
          "2021-12-01T00:00:00",
          "2022-01-01T00:00:00",
          "2022-02-01T00:00:00",
          "2022-03-01T00:00:00",
          "2022-04-01T00:00:00",
          "2022-05-01T00:00:00",
          "2022-06-01T00:00:00",
          "2022-07-01T00:00:00",
          "2022-08-01T00:00:00"
         ],
         "xaxis": "x",
         "y": [
          11514,
          10930,
          12606,
          14847,
          26376,
          23629,
          25712,
          28502,
          24297,
          21192,
          15204,
          13889,
          8244,
          8771,
          9541,
          13622,
          22217,
          20981,
          19813,
          21459,
          20756,
          16210,
          7341,
          7067,
          5290,
          4587,
          1999,
          0,
          47,
          0,
          2723,
          2231,
          589,
          62,
          0,
          0,
          0,
          0,
          0,
          0,
          0,
          694,
          4119,
          4475,
          6212,
          4794,
          3455,
          3511,
          3666,
          3436,
          3306,
          5010,
          8746,
          9400,
          11314,
          13390
         ],
         "yaxis": "y"
        }
       ],
       "layout": {
        "annotations": [
         {
          "ax": 90,
          "ay": -50,
          "font": {
           "size": 8
          },
          "text": "01 July 2018: Annual summer peek",
          "x": "2018-07-01",
          "y": 0.93,
          "yref": "paper"
         },
         {
          "ax": 50,
          "ay": -35,
          "font": {
           "size": 8
          },
          "text": "01 July 2019: Annual summer peek",
          "x": "2019-07-01",
          "y": 0.93,
          "yref": "paper"
         },
         {
          "ax": 70,
          "ay": -70,
          "font": {
           "size": 8
          },
          "text": "01 March 2020: COVID in the world",
          "x": "2020-03-01",
          "y": 0.32,
          "yref": "paper"
         },
         {
          "ax": 0,
          "ay": 12,
          "font": {
           "size": 8
          },
          "text": "01 April 2020: Lockdown in NL + Europe",
          "x": "2020-04-01",
          "y": 0.06,
          "yref": "paper"
         }
        ],
        "legend": {
         "title": {
          "text": "Airports"
         },
         "tracegroupgap": 0
        },
        "shapes": [
         {
          "line": {
           "color": "green",
           "dash": "dash",
           "width": 0.5
          },
          "type": "line",
          "x0": "2018-07-01",
          "x1": "2018-07-01",
          "xref": "x",
          "y0": 0,
          "y1": 1,
          "yref": "y domain"
         },
         {
          "line": {
           "color": "green",
           "dash": "dash",
           "width": 0.5
          },
          "type": "line",
          "x0": "2019-07-01",
          "x1": "2019-07-01",
          "xref": "x",
          "y0": 0,
          "y1": 1,
          "yref": "y domain"
         },
         {
          "line": {
           "color": "red",
           "dash": "dash",
           "width": 0.5
          },
          "type": "line",
          "x0": "2020-03-01",
          "x1": "2020-03-01",
          "xref": "x",
          "y0": 0,
          "y1": 1,
          "yref": "y domain"
         },
         {
          "line": {
           "color": "red",
           "dash": "dash",
           "width": 0.5
          },
          "type": "line",
          "x0": "2020-04-01",
          "x1": "2020-04-01",
          "xref": "x",
          "y0": 0,
          "y1": 1,
          "yref": "y domain"
         }
        ],
        "template": {
         "data": {
          "bar": [
           {
            "error_x": {
             "color": "#2a3f5f"
            },
            "error_y": {
             "color": "#2a3f5f"
            },
            "marker": {
             "line": {
              "color": "#E5ECF6",
              "width": 0.5
             },
             "pattern": {
              "fillmode": "overlay",
              "size": 10,
              "solidity": 0.2
             }
            },
            "type": "bar"
           }
          ],
          "barpolar": [
           {
            "marker": {
             "line": {
              "color": "#E5ECF6",
              "width": 0.5
             },
             "pattern": {
              "fillmode": "overlay",
              "size": 10,
              "solidity": 0.2
             }
            },
            "type": "barpolar"
           }
          ],
          "carpet": [
           {
            "aaxis": {
             "endlinecolor": "#2a3f5f",
             "gridcolor": "white",
             "linecolor": "white",
             "minorgridcolor": "white",
             "startlinecolor": "#2a3f5f"
            },
            "baxis": {
             "endlinecolor": "#2a3f5f",
             "gridcolor": "white",
             "linecolor": "white",
             "minorgridcolor": "white",
             "startlinecolor": "#2a3f5f"
            },
            "type": "carpet"
           }
          ],
          "choropleth": [
           {
            "colorbar": {
             "outlinewidth": 0,
             "ticks": ""
            },
            "type": "choropleth"
           }
          ],
          "contour": [
           {
            "colorbar": {
             "outlinewidth": 0,
             "ticks": ""
            },
            "colorscale": [
             [
              0,
              "#0d0887"
             ],
             [
              0.1111111111111111,
              "#46039f"
             ],
             [
              0.2222222222222222,
              "#7201a8"
             ],
             [
              0.3333333333333333,
              "#9c179e"
             ],
             [
              0.4444444444444444,
              "#bd3786"
             ],
             [
              0.5555555555555556,
              "#d8576b"
             ],
             [
              0.6666666666666666,
              "#ed7953"
             ],
             [
              0.7777777777777778,
              "#fb9f3a"
             ],
             [
              0.8888888888888888,
              "#fdca26"
             ],
             [
              1,
              "#f0f921"
             ]
            ],
            "type": "contour"
           }
          ],
          "contourcarpet": [
           {
            "colorbar": {
             "outlinewidth": 0,
             "ticks": ""
            },
            "type": "contourcarpet"
           }
          ],
          "heatmap": [
           {
            "colorbar": {
             "outlinewidth": 0,
             "ticks": ""
            },
            "colorscale": [
             [
              0,
              "#0d0887"
             ],
             [
              0.1111111111111111,
              "#46039f"
             ],
             [
              0.2222222222222222,
              "#7201a8"
             ],
             [
              0.3333333333333333,
              "#9c179e"
             ],
             [
              0.4444444444444444,
              "#bd3786"
             ],
             [
              0.5555555555555556,
              "#d8576b"
             ],
             [
              0.6666666666666666,
              "#ed7953"
             ],
             [
              0.7777777777777778,
              "#fb9f3a"
             ],
             [
              0.8888888888888888,
              "#fdca26"
             ],
             [
              1,
              "#f0f921"
             ]
            ],
            "type": "heatmap"
           }
          ],
          "heatmapgl": [
           {
            "colorbar": {
             "outlinewidth": 0,
             "ticks": ""
            },
            "colorscale": [
             [
              0,
              "#0d0887"
             ],
             [
              0.1111111111111111,
              "#46039f"
             ],
             [
              0.2222222222222222,
              "#7201a8"
             ],
             [
              0.3333333333333333,
              "#9c179e"
             ],
             [
              0.4444444444444444,
              "#bd3786"
             ],
             [
              0.5555555555555556,
              "#d8576b"
             ],
             [
              0.6666666666666666,
              "#ed7953"
             ],
             [
              0.7777777777777778,
              "#fb9f3a"
             ],
             [
              0.8888888888888888,
              "#fdca26"
             ],
             [
              1,
              "#f0f921"
             ]
            ],
            "type": "heatmapgl"
           }
          ],
          "histogram": [
           {
            "marker": {
             "pattern": {
              "fillmode": "overlay",
              "size": 10,
              "solidity": 0.2
             }
            },
            "type": "histogram"
           }
          ],
          "histogram2d": [
           {
            "colorbar": {
             "outlinewidth": 0,
             "ticks": ""
            },
            "colorscale": [
             [
              0,
              "#0d0887"
             ],
             [
              0.1111111111111111,
              "#46039f"
             ],
             [
              0.2222222222222222,
              "#7201a8"
             ],
             [
              0.3333333333333333,
              "#9c179e"
             ],
             [
              0.4444444444444444,
              "#bd3786"
             ],
             [
              0.5555555555555556,
              "#d8576b"
             ],
             [
              0.6666666666666666,
              "#ed7953"
             ],
             [
              0.7777777777777778,
              "#fb9f3a"
             ],
             [
              0.8888888888888888,
              "#fdca26"
             ],
             [
              1,
              "#f0f921"
             ]
            ],
            "type": "histogram2d"
           }
          ],
          "histogram2dcontour": [
           {
            "colorbar": {
             "outlinewidth": 0,
             "ticks": ""
            },
            "colorscale": [
             [
              0,
              "#0d0887"
             ],
             [
              0.1111111111111111,
              "#46039f"
             ],
             [
              0.2222222222222222,
              "#7201a8"
             ],
             [
              0.3333333333333333,
              "#9c179e"
             ],
             [
              0.4444444444444444,
              "#bd3786"
             ],
             [
              0.5555555555555556,
              "#d8576b"
             ],
             [
              0.6666666666666666,
              "#ed7953"
             ],
             [
              0.7777777777777778,
              "#fb9f3a"
             ],
             [
              0.8888888888888888,
              "#fdca26"
             ],
             [
              1,
              "#f0f921"
             ]
            ],
            "type": "histogram2dcontour"
           }
          ],
          "mesh3d": [
           {
            "colorbar": {
             "outlinewidth": 0,
             "ticks": ""
            },
            "type": "mesh3d"
           }
          ],
          "parcoords": [
           {
            "line": {
             "colorbar": {
              "outlinewidth": 0,
              "ticks": ""
             }
            },
            "type": "parcoords"
           }
          ],
          "pie": [
           {
            "automargin": true,
            "type": "pie"
           }
          ],
          "scatter": [
           {
            "fillpattern": {
             "fillmode": "overlay",
             "size": 10,
             "solidity": 0.2
            },
            "type": "scatter"
           }
          ],
          "scatter3d": [
           {
            "line": {
             "colorbar": {
              "outlinewidth": 0,
              "ticks": ""
             }
            },
            "marker": {
             "colorbar": {
              "outlinewidth": 0,
              "ticks": ""
             }
            },
            "type": "scatter3d"
           }
          ],
          "scattercarpet": [
           {
            "marker": {
             "colorbar": {
              "outlinewidth": 0,
              "ticks": ""
             }
            },
            "type": "scattercarpet"
           }
          ],
          "scattergeo": [
           {
            "marker": {
             "colorbar": {
              "outlinewidth": 0,
              "ticks": ""
             }
            },
            "type": "scattergeo"
           }
          ],
          "scattergl": [
           {
            "marker": {
             "colorbar": {
              "outlinewidth": 0,
              "ticks": ""
             }
            },
            "type": "scattergl"
           }
          ],
          "scattermapbox": [
           {
            "marker": {
             "colorbar": {
              "outlinewidth": 0,
              "ticks": ""
             }
            },
            "type": "scattermapbox"
           }
          ],
          "scatterpolar": [
           {
            "marker": {
             "colorbar": {
              "outlinewidth": 0,
              "ticks": ""
             }
            },
            "type": "scatterpolar"
           }
          ],
          "scatterpolargl": [
           {
            "marker": {
             "colorbar": {
              "outlinewidth": 0,
              "ticks": ""
             }
            },
            "type": "scatterpolargl"
           }
          ],
          "scatterternary": [
           {
            "marker": {
             "colorbar": {
              "outlinewidth": 0,
              "ticks": ""
             }
            },
            "type": "scatterternary"
           }
          ],
          "surface": [
           {
            "colorbar": {
             "outlinewidth": 0,
             "ticks": ""
            },
            "colorscale": [
             [
              0,
              "#0d0887"
             ],
             [
              0.1111111111111111,
              "#46039f"
             ],
             [
              0.2222222222222222,
              "#7201a8"
             ],
             [
              0.3333333333333333,
              "#9c179e"
             ],
             [
              0.4444444444444444,
              "#bd3786"
             ],
             [
              0.5555555555555556,
              "#d8576b"
             ],
             [
              0.6666666666666666,
              "#ed7953"
             ],
             [
              0.7777777777777778,
              "#fb9f3a"
             ],
             [
              0.8888888888888888,
              "#fdca26"
             ],
             [
              1,
              "#f0f921"
             ]
            ],
            "type": "surface"
           }
          ],
          "table": [
           {
            "cells": {
             "fill": {
              "color": "#EBF0F8"
             },
             "line": {
              "color": "white"
             }
            },
            "header": {
             "fill": {
              "color": "#C8D4E3"
             },
             "line": {
              "color": "white"
             }
            },
            "type": "table"
           }
          ]
         },
         "layout": {
          "annotationdefaults": {
           "arrowcolor": "#2a3f5f",
           "arrowhead": 0,
           "arrowwidth": 1
          },
          "autotypenumbers": "strict",
          "coloraxis": {
           "colorbar": {
            "outlinewidth": 0,
            "ticks": ""
           }
          },
          "colorscale": {
           "diverging": [
            [
             0,
             "#8e0152"
            ],
            [
             0.1,
             "#c51b7d"
            ],
            [
             0.2,
             "#de77ae"
            ],
            [
             0.3,
             "#f1b6da"
            ],
            [
             0.4,
             "#fde0ef"
            ],
            [
             0.5,
             "#f7f7f7"
            ],
            [
             0.6,
             "#e6f5d0"
            ],
            [
             0.7,
             "#b8e186"
            ],
            [
             0.8,
             "#7fbc41"
            ],
            [
             0.9,
             "#4d9221"
            ],
            [
             1,
             "#276419"
            ]
           ],
           "sequential": [
            [
             0,
             "#0d0887"
            ],
            [
             0.1111111111111111,
             "#46039f"
            ],
            [
             0.2222222222222222,
             "#7201a8"
            ],
            [
             0.3333333333333333,
             "#9c179e"
            ],
            [
             0.4444444444444444,
             "#bd3786"
            ],
            [
             0.5555555555555556,
             "#d8576b"
            ],
            [
             0.6666666666666666,
             "#ed7953"
            ],
            [
             0.7777777777777778,
             "#fb9f3a"
            ],
            [
             0.8888888888888888,
             "#fdca26"
            ],
            [
             1,
             "#f0f921"
            ]
           ],
           "sequentialminus": [
            [
             0,
             "#0d0887"
            ],
            [
             0.1111111111111111,
             "#46039f"
            ],
            [
             0.2222222222222222,
             "#7201a8"
            ],
            [
             0.3333333333333333,
             "#9c179e"
            ],
            [
             0.4444444444444444,
             "#bd3786"
            ],
            [
             0.5555555555555556,
             "#d8576b"
            ],
            [
             0.6666666666666666,
             "#ed7953"
            ],
            [
             0.7777777777777778,
             "#fb9f3a"
            ],
            [
             0.8888888888888888,
             "#fdca26"
            ],
            [
             1,
             "#f0f921"
            ]
           ]
          },
          "colorway": [
           "#636efa",
           "#EF553B",
           "#00cc96",
           "#ab63fa",
           "#FFA15A",
           "#19d3f3",
           "#FF6692",
           "#B6E880",
           "#FF97FF",
           "#FECB52"
          ],
          "font": {
           "color": "#2a3f5f"
          },
          "geo": {
           "bgcolor": "white",
           "lakecolor": "white",
           "landcolor": "#E5ECF6",
           "showlakes": true,
           "showland": true,
           "subunitcolor": "white"
          },
          "hoverlabel": {
           "align": "left"
          },
          "hovermode": "closest",
          "mapbox": {
           "style": "light"
          },
          "paper_bgcolor": "white",
          "plot_bgcolor": "#E5ECF6",
          "polar": {
           "angularaxis": {
            "gridcolor": "white",
            "linecolor": "white",
            "ticks": ""
           },
           "bgcolor": "#E5ECF6",
           "radialaxis": {
            "gridcolor": "white",
            "linecolor": "white",
            "ticks": ""
           }
          },
          "scene": {
           "xaxis": {
            "backgroundcolor": "#E5ECF6",
            "gridcolor": "white",
            "gridwidth": 2,
            "linecolor": "white",
            "showbackground": true,
            "ticks": "",
            "zerolinecolor": "white"
           },
           "yaxis": {
            "backgroundcolor": "#E5ECF6",
            "gridcolor": "white",
            "gridwidth": 2,
            "linecolor": "white",
            "showbackground": true,
            "ticks": "",
            "zerolinecolor": "white"
           },
           "zaxis": {
            "backgroundcolor": "#E5ECF6",
            "gridcolor": "white",
            "gridwidth": 2,
            "linecolor": "white",
            "showbackground": true,
            "ticks": "",
            "zerolinecolor": "white"
           }
          },
          "shapedefaults": {
           "line": {
            "color": "#2a3f5f"
           }
          },
          "ternary": {
           "aaxis": {
            "gridcolor": "white",
            "linecolor": "white",
            "ticks": ""
           },
           "baxis": {
            "gridcolor": "white",
            "linecolor": "white",
            "ticks": ""
           },
           "bgcolor": "#E5ECF6",
           "caxis": {
            "gridcolor": "white",
            "linecolor": "white",
            "ticks": ""
           }
          },
          "title": {
           "x": 0.05
          },
          "xaxis": {
           "automargin": true,
           "gridcolor": "white",
           "linecolor": "white",
           "ticks": "",
           "title": {
            "standoff": 15
           },
           "zerolinecolor": "white",
           "zerolinewidth": 2
          },
          "yaxis": {
           "automargin": true,
           "gridcolor": "white",
           "linecolor": "white",
           "ticks": "",
           "title": {
            "standoff": 15
           },
           "zerolinecolor": "white",
           "zerolinewidth": 2
          }
         }
        },
        "title": {
         "text": "Amount of air traffic passengers"
        },
        "xaxis": {
         "anchor": "y",
         "domain": [
          0,
          1
         ],
         "title": {
          "text": "Periods"
         }
        },
        "yaxis": {
         "anchor": "x",
         "domain": [
          0,
          1
         ],
         "title": {
          "text": "Commercial air traffic/Passengers/Total passengers/Total passengers (number)"
         }
        }
       }
      }
     },
     "metadata": {},
     "output_type": "display_data"
    }
   ],
   "source": [
    "\n",
    "#Hier uitleggen dat de data elke eerste vd maand verzameld is en dat het daarom op die punten wordt toegelicht\n",
    "\n",
    "%matplotlib inline\n",
    "#Show basic figure via plotly for the amount of air traffic passengers over time\n",
    "fig = px.line(at_df_timespan, x=\"Periods\", y='Commercial air traffic/Passengers/Total passengers/Total passengers (number)',\n",
    "              color='Airports', title='Amount of air traffic passengers')\n",
    "\n",
    "fig.add_vline(x='2018-07-01', line_dash = 'dash', line_width = 0.5, line_color = 'green')\n",
    "fig.add_annotation(x='2018-07-01', y=0.93, yref='paper', text='01 July 2018: Annual summer peek', font_size=8, ax=90, ay=-50)\n",
    "\n",
    "fig.add_vline(x='2019-07-01', line_dash = 'dash', line_width = 0.5, line_color = 'green')\n",
    "fig.add_annotation(x='2019-07-01', y=0.93, yref='paper', text='01 July 2019: Annual summer peek', font_size=8, ax=50, ay=-35)\n",
    "\n",
    "\n",
    "fig.add_vline(x='2020-03-01', line_dash = 'dash', line_width = 0.5, line_color = 'red')\n",
    "fig.add_annotation(x='2020-03-01', y=0.32, yref='paper', text='01 March 2020: COVID in the world', font_size=8, ax=70, ay=-70)\n",
    "#hier ff bronnetje bijgooien\n",
    "\n",
    "fig.add_vline(x='2020-04-01', line_dash = 'dash', line_width = 0.5, line_color = 'red')\n",
    "fig.add_annotation(x='2020-04-01', y=0.06, yref='paper', text='01 April 2020: Lockdown in NL + Europe', font_size=8, ax=0, ay=12)\n",
    "\n",
    "fig.show()"
   ]
  },
  {
   "cell_type": "markdown",
   "metadata": {},
   "source": [
    "# Subquestion 2:\n",
    "\n",
    "Filtered and prepared the data. Use of new_cases_smoothed --> justification based on source.\n",
    "Only Covid-19 measurements that have a direct impact on travelling, have been considered in this subquestion."
   ]
  },
  {
   "cell_type": "code",
   "execution_count": 20,
   "metadata": {},
   "outputs": [
    {
     "data": {
      "text/html": [
       "<div>\n",
       "<style scoped>\n",
       "    .dataframe tbody tr th:only-of-type {\n",
       "        vertical-align: middle;\n",
       "    }\n",
       "\n",
       "    .dataframe tbody tr th {\n",
       "        vertical-align: top;\n",
       "    }\n",
       "\n",
       "    .dataframe thead th {\n",
       "        text-align: right;\n",
       "    }\n",
       "</style>\n",
       "<table border=\"1\" class=\"dataframe\">\n",
       "  <thead>\n",
       "    <tr style=\"text-align: right;\">\n",
       "      <th></th>\n",
       "      <th>location</th>\n",
       "      <th>date</th>\n",
       "      <th>new_cases_smoothed</th>\n",
       "    </tr>\n",
       "  </thead>\n",
       "  <tbody>\n",
       "    <tr>\n",
       "      <th>139328</th>\n",
       "      <td>Netherlands</td>\n",
       "      <td>2020-03-03</td>\n",
       "      <td>5.429</td>\n",
       "    </tr>\n",
       "    <tr>\n",
       "      <th>139329</th>\n",
       "      <td>Netherlands</td>\n",
       "      <td>2020-03-04</td>\n",
       "      <td>11.714</td>\n",
       "    </tr>\n",
       "    <tr>\n",
       "      <th>139330</th>\n",
       "      <td>Netherlands</td>\n",
       "      <td>2020-03-05</td>\n",
       "      <td>18.143</td>\n",
       "    </tr>\n",
       "    <tr>\n",
       "      <th>139331</th>\n",
       "      <td>Netherlands</td>\n",
       "      <td>2020-03-06</td>\n",
       "      <td>26.000</td>\n",
       "    </tr>\n",
       "    <tr>\n",
       "      <th>139332</th>\n",
       "      <td>Netherlands</td>\n",
       "      <td>2020-03-07</td>\n",
       "      <td>36.429</td>\n",
       "    </tr>\n",
       "    <tr>\n",
       "      <th>...</th>\n",
       "      <td>...</td>\n",
       "      <td>...</td>\n",
       "      <td>...</td>\n",
       "    </tr>\n",
       "    <tr>\n",
       "      <th>140268</th>\n",
       "      <td>Netherlands</td>\n",
       "      <td>2022-09-29</td>\n",
       "      <td>1751.857</td>\n",
       "    </tr>\n",
       "    <tr>\n",
       "      <th>140269</th>\n",
       "      <td>Netherlands</td>\n",
       "      <td>2022-09-30</td>\n",
       "      <td>2200.857</td>\n",
       "    </tr>\n",
       "    <tr>\n",
       "      <th>140270</th>\n",
       "      <td>Netherlands</td>\n",
       "      <td>2022-10-01</td>\n",
       "      <td>2200.857</td>\n",
       "    </tr>\n",
       "    <tr>\n",
       "      <th>140271</th>\n",
       "      <td>Netherlands</td>\n",
       "      <td>2022-10-02</td>\n",
       "      <td>2200.857</td>\n",
       "    </tr>\n",
       "    <tr>\n",
       "      <th>140272</th>\n",
       "      <td>Netherlands</td>\n",
       "      <td>2022-10-03</td>\n",
       "      <td>2200.571</td>\n",
       "    </tr>\n",
       "  </tbody>\n",
       "</table>\n",
       "<p>945 rows × 3 columns</p>\n",
       "</div>"
      ],
      "text/plain": [
       "           location       date  new_cases_smoothed\n",
       "139328  Netherlands 2020-03-03               5.429\n",
       "139329  Netherlands 2020-03-04              11.714\n",
       "139330  Netherlands 2020-03-05              18.143\n",
       "139331  Netherlands 2020-03-06              26.000\n",
       "139332  Netherlands 2020-03-07              36.429\n",
       "...             ...        ...                 ...\n",
       "140268  Netherlands 2022-09-29            1751.857\n",
       "140269  Netherlands 2022-09-30            2200.857\n",
       "140270  Netherlands 2022-10-01            2200.857\n",
       "140271  Netherlands 2022-10-02            2200.857\n",
       "140272  Netherlands 2022-10-03            2200.571\n",
       "\n",
       "[945 rows x 3 columns]"
      ]
     },
     "execution_count": 20,
     "metadata": {},
     "output_type": "execute_result"
    }
   ],
   "source": [
    "# Import world Covid Data\n",
    "\n",
    "filepath2 = '/Users/willemijndietz/Project-TIL6022-Group-21/owid-covid-data.csv'\n",
    "\n",
    "\n",
    "\n",
    "covid_world_df = pd.read_csv(filepath2, sep=\",\")\n",
    "covid_world_df['date'] = pd.to_datetime(covid_world_df['date'], format='%Y-%m-%d %H:%M:%S')\n",
    "covid_world_df\n",
    "\n",
    "# Preparing the full data set for furhter use\n",
    "# Filtering on Covid new cases for the Netherlands\n",
    "\n",
    "covid_nl_total_df = covid_world_df[\n",
    "    covid_world_df['location'] == 'Netherlands'\n",
    "]\n",
    "\n",
    "# Full data set:\n",
    "# covid_nl_total_df\n",
    "\n",
    "# Filtering for relevant columns and dropping NAN cells\n",
    "covid_nl_df = covid_nl_total_df.iloc[:, [2,3,6]]\n",
    "covid_nl_clean_df = covid_nl_df.dropna()\n",
    "covid_nl_clean_df"
   ]
  },
  {
   "cell_type": "code",
   "execution_count": 21,
   "metadata": {},
   "outputs": [
    {
     "data": {
      "application/vnd.plotly.v1+json": {
       "config": {
        "plotlyServerURL": "https://plot.ly"
       },
       "data": [
        {
         "hovertemplate": "<b>%{hovertext}</b><br><br>date=%{x}<br>new_cases_smoothed=%{y}<extra></extra>",
         "hovertext": [
          5.429,
          11.714,
          18.143,
          26,
          36.429,
          43.286,
          51.143,
          66.429,
          74.429,
          96.571,
          110.143,
          124.286,
          156,
          189,
          221.143,
          265.286,
          312.857,
          381.857,
          438.571,
          476.714,
          551,
          623.286,
          710.571,
          801.714,
          876.143,
          952,
          1000.857,
          1005.571,
          1029.429,
          1039.857,
          1019.286,
          983.571,
          1000.714,
          1010.286,
          1002.286,
          995.571,
          1012.714,
          1057,
          1116.143,
          1109,
          1110.429,
          1121.714,
          1088,
          1066.429,
          1052.286,
          1026.143,
          1011.714,
          981.571,
          961.714,
          957.714,
          933.286,
          871.714,
          802.429,
          742.714,
          692.429,
          612.714,
          566.857,
          513,
          465.429,
          435.571,
          389.857,
          361,
          381.857,
          359.714,
          351.286,
          329,
          306.571,
          293.714,
          288.286,
          271,
          270.286,
          243.857,
          226.857,
          212.571,
          195.571,
          193.429,
          180.857,
          176.714,
          174.286,
          172.571,
          170.714,
          177.286,
          186.286,
          189.857,
          188.714,
          178.571,
          176.857,
          170.429,
          172.286,
          157.143,
          152.714,
          137.857,
          141.714,
          146.571,
          154,
          161.714,
          170.571,
          179.429,
          193.429,
          187,
          187,
          186.429,
          172.714,
          172.714,
          169.143,
          159.571,
          152.571,
          137.857,
          123.143,
          115.714,
          101.429,
          90.714,
          85.714,
          85,
          82.714,
          81.714,
          79.143,
          80.714,
          78.714,
          75.857,
          71.143,
          68.857,
          67.714,
          67.857,
          62.143,
          60.286,
          58.857,
          55.286,
          50.571,
          53.429,
          57.286,
          62.286,
          64.571,
          72.286,
          79,
          87.714,
          94.429,
          100.571,
          116.857,
          132.571,
          141.429,
          150.571,
          163.429,
          165.143,
          184.857,
          182.286,
          190.857,
          202.143,
          227.857,
          250.143,
          292,
          304,
          335.857,
          373.857,
          399.429,
          437.143,
          464.286,
          471.857,
          502.143,
          538.143,
          501.143,
          614.429,
          616.286,
          632.286,
          657.286,
          651.571,
          631.143,
          669.429,
          575.143,
          564.286,
          548.429,
          526.571,
          517.143,
          531.857,
          521.714,
          523.429,
          523.429,
          519,
          518,
          523.143,
          514.714,
          522,
          546.143,
          556.143,
          591,
          613.857,
          673.429,
          709.714,
          779.857,
          838.571,
          868.857,
          942.714,
          1024.286,
          1047.714,
          1121.857,
          1180.429,
          1236.286,
          1369.857,
          1471.571,
          1566.429,
          1675.714,
          1804.429,
          1929.143,
          2046,
          2161,
          2274.857,
          2392.857,
          2556.714,
          2657.857,
          2766.429,
          2901.857,
          3001,
          3150.571,
          3329.286,
          3473,
          3709.429,
          3927,
          4167.571,
          4534.857,
          4841.429,
          5202.857,
          5541.429,
          5865.429,
          6271.571,
          6600.714,
          6882.143,
          7170.714,
          7402.143,
          7660.429,
          7824.429,
          7937.286,
          8144,
          8355.857,
          8642.143,
          8718.571,
          9007.286,
          9343.143,
          9647.286,
          9556.143,
          9698,
          9858.429,
          10024.571,
          9807.571,
          9513.857,
          9150.857,
          9085.571,
          8614,
          8061.143,
          7611.143,
          7180.571,
          6665.286,
          6224.857,
          5906.429,
          5715,
          5550.143,
          5443.286,
          5406.143,
          5428.429,
          5376.286,
          5262.714,
          5265.429,
          5243.571,
          5266,
          5264.286,
          5313,
          5259.143,
          5301,
          5134,
          5106.286,
          4876.429,
          4904,
          4816.429,
          4833.286,
          4834.286,
          4994.714,
          5017.429,
          5312.429,
          5484.429,
          5841.429,
          6143.286,
          6373.286,
          6821.143,
          7242.143,
          7609,
          8050.857,
          8249.429,
          8319.143,
          8984.143,
          9561.571,
          10003.714,
          10451.429,
          10901.286,
          11289.286,
          11742.143,
          11631.143,
          11448.429,
          11384.571,
          11044.286,
          10478.571,
          9941.714,
          9613.143,
          9470,
          9210.714,
          8739.714,
          8560.714,
          8321,
          8199.286,
          8030.857,
          7706.286,
          7698.143,
          7689.286,
          7509.429,
          7396.571,
          7232.857,
          7025.857,
          6877.571,
          6427.429,
          6125.714,
          5829.714,
          5684.857,
          5592.286,
          5505.571,
          5425.286,
          5327.571,
          5287.286,
          5309.857,
          5208.857,
          5105.571,
          5053.714,
          4939,
          4781.714,
          4584,
          4408,
          4238.714,
          4116.143,
          4067,
          3966,
          3895.714,
          3891.143,
          3875,
          3908.571,
          3770.429,
          3509.857,
          3391.143,
          3420.714,
          3423.714,
          3440.143,
          3370,
          3454.714,
          3590.429,
          3615.571,
          3631.571,
          3685.571,
          3738.571,
          3913.429,
          4106,
          4263.429,
          4405.429,
          4475.143,
          4529.714,
          4582.286,
          4581.857,
          4525,
          4550.429,
          4640.571,
          4512.571,
          4449.143,
          4506,
          4485.714,
          4495.714,
          4540.429,
          4579.857,
          4752,
          4945.857,
          5097.714,
          5304.143,
          5537.714,
          5624.571,
          5717.857,
          5833.143,
          6025.714,
          6197,
          6338.857,
          6452,
          6546,
          6782.571,
          7008,
          7035.286,
          7206.571,
          7274.429,
          7339.714,
          7378.143,
          7385.286,
          7404.143,
          7360,
          7192.857,
          7104.286,
          6904.571,
          6863,
          6681,
          6674.286,
          6728.286,
          6736.286,
          6936.143,
          7129.714,
          7293.143,
          7154.571,
          7290.143,
          7471,
          7557.286,
          7598.286,
          7661.429,
          7681.286,
          8122.143,
          8246.429,
          8290.571,
          8258.286,
          8187.714,
          8056.714,
          7845,
          7869.857,
          7536.286,
          7328.857,
          6999.857,
          6641.857,
          7068.571,
          7410.429,
          7213.857,
          7144.571,
          7105.571,
          7340.286,
          7491,
          7015.429,
          6699.143,
          6568.857,
          6458.143,
          6176.714,
          5755.143,
          5452,
          5019.286,
          4992.857,
          4736.143,
          4541,
          4348.571,
          4165.857,
          4020.286,
          4001.857,
          3591.286,
          3335.571,
          3147.714,
          3104,
          3134.857,
          3034.429,
          2940.857,
          2920.571,
          2884.429,
          2798.571,
          2589.286,
          2409.143,
          2241.714,
          2147.429,
          2019.429,
          1905.714,
          1739.143,
          1594.571,
          1463.857,
          1392.143,
          1316,
          1261.429,
          1161.714,
          1091.143,
          1021.143,
          946.429,
          898.143,
          856.286,
          806.143,
          753.571,
          700.429,
          665.429,
          646.857,
          617,
          616.714,
          596.571,
          593.143,
          611.143,
          652.714,
          733.571,
          836.286,
          973.714,
          1211.714,
          1642.286,
          2300,
          3155.143,
          4463.429,
          5621.429,
          6610.286,
          7411.429,
          8380.857,
          9173.571,
          9798.286,
          9905.857,
          10022.571,
          10084.429,
          9925.571,
          9421.571,
          8744.286,
          8044,
          7220.143,
          6427.714,
          5710.143,
          5318.857,
          4826.571,
          4567.714,
          4140,
          3806.571,
          3479.571,
          3228.571,
          2973,
          2881,
          2731.429,
          2666.571,
          2593.714,
          2595.714,
          2586,
          2582.714,
          2489.286,
          2378.571,
          2345.714,
          2334,
          2329.857,
          2361.714,
          2382.429,
          2476.143,
          2471.429,
          2406,
          2419.286,
          2442.714,
          2462.857,
          2481.571,
          2494,
          2503.714,
          2591.286,
          2593.286,
          2575,
          2547.286,
          2534.857,
          2529.286,
          2551.857,
          2508.143,
          2545.714,
          2552.714,
          2541.143,
          2559.857,
          2553.143,
          2495.286,
          2515.857,
          2442.286,
          2106.286,
          2351.429,
          2286.857,
          2223.429,
          2181,
          2103.429,
          2077.571,
          2312,
          1957.143,
          1908.714,
          1844.857,
          1807.714,
          1740.286,
          1682.286,
          1675.143,
          1680.857,
          1686.429,
          1665.571,
          1646.286,
          1651.286,
          1659.143,
          1660,
          1695.857,
          1720.714,
          1736.714,
          1887.571,
          2038.857,
          2159.429,
          2250.714,
          2405.143,
          2545.714,
          2808.286,
          2933.286,
          3065.286,
          3235.714,
          3438.429,
          3529.143,
          3673.714,
          3795,
          4019.571,
          4327.143,
          4609.571,
          4983.714,
          5261.143,
          5525.429,
          5908.571,
          6262.714,
          6480.143,
          6803.857,
          7072.143,
          7414.714,
          7697.857,
          7961.857,
          8323.143,
          8826,
          9399.714,
          9853.286,
          10440.571,
          10948.857,
          11454,
          12322.857,
          13079,
          13348.429,
          13445.714,
          14501.714,
          15771.571,
          16931,
          17973.429,
          18663.143,
          19798.857,
          21029.714,
          21573.286,
          21970.143,
          22391.429,
          22190.857,
          22226.429,
          22259.714,
          22472.429,
          22249.714,
          22136.429,
          21394.429,
          21517.143,
          21552.571,
          21635.857,
          21771.143,
          21702.857,
          21096.857,
          21032.286,
          20563.571,
          19984.857,
          19285.143,
          18357.429,
          17332,
          16594.714,
          15941.286,
          15450.143,
          15148.857,
          14706,
          14233.286,
          14000,
          13508,
          13488,
          13064.143,
          12645.143,
          12355.714,
          12156.714,
          12053.571,
          12033.429,
          12385.429,
          12587.714,
          13213,
          13659.143,
          14472.857,
          14916.286,
          16249.286,
          17546.429,
          18979.857,
          21559.714,
          23366,
          25494.857,
          27442.714,
          28947.429,
          29997,
          31286,
          31492.571,
          31992,
          32567.286,
          34593.143,
          30444.714,
          35794.857,
          36681,
          39717,
          41759,
          45881.286,
          49070.571,
          56807.714,
          55237,
          58739.429,
          61099.143,
          60141.571,
          61549.143,
          68342,
          75721.714,
          76907.286,
          79526,
          78790,
          78888.714,
          81699.286,
          76755.286,
          115981.143,
          118775.429,
          119333,
          121003.571,
          125321,
          120359.714,
          117130,
          70432.857,
          67193,
          62848.571,
          58371.286,
          53121.571,
          49732.286,
          47014.571,
          44322.143,
          35196.714,
          32938.571,
          31780.714,
          32342.571,
          31836.571,
          30607.429,
          29778.143,
          34991.571,
          36122.714,
          38565.571,
          42961.286,
          47862.714,
          53493.571,
          58577.429,
          62825.714,
          66505.286,
          68824.429,
          68949.286,
          67926.571,
          65861.286,
          63210.714,
          61305.429,
          59308.143,
          56329.714,
          54191.714,
          51536.143,
          49033.429,
          47036.429,
          45273.714,
          42777,
          40695.429,
          37948.857,
          36046.714,
          34646,
          33159.714,
          31751,
          29607.429,
          27656.857,
          25765.143,
          24166,
          22360.143,
          20825.286,
          18445.571,
          16339.571,
          14544.857,
          12990.714,
          11984.571,
          11241.857,
          10650.857,
          9546.429,
          8389.714,
          7220.286,
          6258.286,
          5342.143,
          4722.143,
          4070.571,
          3527.286,
          3324.143,
          3087.143,
          2869.714,
          2662.571,
          2484.286,
          2388.714,
          2296.857,
          2044.714,
          1789.286,
          1654.857,
          1590.714,
          1548,
          1534.429,
          1518,
          1507,
          1567.143,
          1513.857,
          1497.571,
          1489.429,
          1457.571,
          1434.143,
          1393.429,
          1359,
          1353.429,
          1331.286,
          1299,
          1260.857,
          1222.143,
          1194,
          1195.143,
          1163.429,
          1142.143,
          1107.286,
          1095.286,
          1077.857,
          1058,
          1003.857,
          984,
          943,
          951.857,
          987.571,
          995.714,
          1040.571,
          1108.857,
          1188.429,
          1266.714,
          1325.714,
          1324.286,
          1360.714,
          1418.429,
          1546.143,
          1656.857,
          1451.286,
          1274.286,
          2017.143,
          2213.143,
          2447.143,
          2695.286,
          2927.143,
          2927.143,
          2927.143,
          3509.286,
          3783.429,
          3985,
          4176.571,
          4363.429,
          4363.429,
          4363.429,
          4738.714,
          4879.429,
          5085.857,
          5229.429,
          5359.429,
          5359.429,
          5359.429,
          5485.429,
          5610.429,
          5633.143,
          5745.143,
          5834.571,
          5834.571,
          5834.571,
          6070.571,
          6179.143,
          6232.857,
          6198.571,
          6172,
          6172,
          6172,
          5831.857,
          5496,
          5167,
          4801,
          4531.429,
          4531.429,
          4531.429,
          4088,
          4004.571,
          3949.429,
          3833.714,
          3634.143,
          3634.143,
          3634.143,
          3262.571,
          3097.429,
          2925.857,
          2747.857,
          2639,
          2639,
          2639,
          2288.857,
          2126.857,
          2013,
          1916.429,
          1832.143,
          1832.143,
          1832.143,
          1708.429,
          1670.857,
          1608.143,
          1404.857,
          1487.714,
          1487.714,
          1487.714,
          1352.571,
          1274.143,
          1215.286,
          1338.286,
          1151.714,
          1151.714,
          1151.714,
          1117.571,
          1104.714,
          1094.571,
          1261,
          1096.143,
          1259.143,
          1385.429,
          1096.286,
          1121.714,
          950.714,
          612.857,
          1187.857,
          1024.857,
          898.571,
          784.143,
          1189.429,
          1189.429,
          1189.429,
          1229.857,
          1229.857,
          1229.857,
          1229.857,
          1258.286,
          1258.286,
          1258.286,
          1411.714,
          1411.714,
          1411.714,
          1412.286,
          1751.857,
          1751.857,
          1751.857,
          2200.857,
          2200.857,
          2200.857,
          2200.571
         ],
         "ids": [
          5.429,
          11.714,
          18.143,
          26,
          36.429,
          43.286,
          51.143,
          66.429,
          74.429,
          96.571,
          110.143,
          124.286,
          156,
          189,
          221.143,
          265.286,
          312.857,
          381.857,
          438.571,
          476.714,
          551,
          623.286,
          710.571,
          801.714,
          876.143,
          952,
          1000.857,
          1005.571,
          1029.429,
          1039.857,
          1019.286,
          983.571,
          1000.714,
          1010.286,
          1002.286,
          995.571,
          1012.714,
          1057,
          1116.143,
          1109,
          1110.429,
          1121.714,
          1088,
          1066.429,
          1052.286,
          1026.143,
          1011.714,
          981.571,
          961.714,
          957.714,
          933.286,
          871.714,
          802.429,
          742.714,
          692.429,
          612.714,
          566.857,
          513,
          465.429,
          435.571,
          389.857,
          361,
          381.857,
          359.714,
          351.286,
          329,
          306.571,
          293.714,
          288.286,
          271,
          270.286,
          243.857,
          226.857,
          212.571,
          195.571,
          193.429,
          180.857,
          176.714,
          174.286,
          172.571,
          170.714,
          177.286,
          186.286,
          189.857,
          188.714,
          178.571,
          176.857,
          170.429,
          172.286,
          157.143,
          152.714,
          137.857,
          141.714,
          146.571,
          154,
          161.714,
          170.571,
          179.429,
          193.429,
          187,
          187,
          186.429,
          172.714,
          172.714,
          169.143,
          159.571,
          152.571,
          137.857,
          123.143,
          115.714,
          101.429,
          90.714,
          85.714,
          85,
          82.714,
          81.714,
          79.143,
          80.714,
          78.714,
          75.857,
          71.143,
          68.857,
          67.714,
          67.857,
          62.143,
          60.286,
          58.857,
          55.286,
          50.571,
          53.429,
          57.286,
          62.286,
          64.571,
          72.286,
          79,
          87.714,
          94.429,
          100.571,
          116.857,
          132.571,
          141.429,
          150.571,
          163.429,
          165.143,
          184.857,
          182.286,
          190.857,
          202.143,
          227.857,
          250.143,
          292,
          304,
          335.857,
          373.857,
          399.429,
          437.143,
          464.286,
          471.857,
          502.143,
          538.143,
          501.143,
          614.429,
          616.286,
          632.286,
          657.286,
          651.571,
          631.143,
          669.429,
          575.143,
          564.286,
          548.429,
          526.571,
          517.143,
          531.857,
          521.714,
          523.429,
          523.429,
          519,
          518,
          523.143,
          514.714,
          522,
          546.143,
          556.143,
          591,
          613.857,
          673.429,
          709.714,
          779.857,
          838.571,
          868.857,
          942.714,
          1024.286,
          1047.714,
          1121.857,
          1180.429,
          1236.286,
          1369.857,
          1471.571,
          1566.429,
          1675.714,
          1804.429,
          1929.143,
          2046,
          2161,
          2274.857,
          2392.857,
          2556.714,
          2657.857,
          2766.429,
          2901.857,
          3001,
          3150.571,
          3329.286,
          3473,
          3709.429,
          3927,
          4167.571,
          4534.857,
          4841.429,
          5202.857,
          5541.429,
          5865.429,
          6271.571,
          6600.714,
          6882.143,
          7170.714,
          7402.143,
          7660.429,
          7824.429,
          7937.286,
          8144,
          8355.857,
          8642.143,
          8718.571,
          9007.286,
          9343.143,
          9647.286,
          9556.143,
          9698,
          9858.429,
          10024.571,
          9807.571,
          9513.857,
          9150.857,
          9085.571,
          8614,
          8061.143,
          7611.143,
          7180.571,
          6665.286,
          6224.857,
          5906.429,
          5715,
          5550.143,
          5443.286,
          5406.143,
          5428.429,
          5376.286,
          5262.714,
          5265.429,
          5243.571,
          5266,
          5264.286,
          5313,
          5259.143,
          5301,
          5134,
          5106.286,
          4876.429,
          4904,
          4816.429,
          4833.286,
          4834.286,
          4994.714,
          5017.429,
          5312.429,
          5484.429,
          5841.429,
          6143.286,
          6373.286,
          6821.143,
          7242.143,
          7609,
          8050.857,
          8249.429,
          8319.143,
          8984.143,
          9561.571,
          10003.714,
          10451.429,
          10901.286,
          11289.286,
          11742.143,
          11631.143,
          11448.429,
          11384.571,
          11044.286,
          10478.571,
          9941.714,
          9613.143,
          9470,
          9210.714,
          8739.714,
          8560.714,
          8321,
          8199.286,
          8030.857,
          7706.286,
          7698.143,
          7689.286,
          7509.429,
          7396.571,
          7232.857,
          7025.857,
          6877.571,
          6427.429,
          6125.714,
          5829.714,
          5684.857,
          5592.286,
          5505.571,
          5425.286,
          5327.571,
          5287.286,
          5309.857,
          5208.857,
          5105.571,
          5053.714,
          4939,
          4781.714,
          4584,
          4408,
          4238.714,
          4116.143,
          4067,
          3966,
          3895.714,
          3891.143,
          3875,
          3908.571,
          3770.429,
          3509.857,
          3391.143,
          3420.714,
          3423.714,
          3440.143,
          3370,
          3454.714,
          3590.429,
          3615.571,
          3631.571,
          3685.571,
          3738.571,
          3913.429,
          4106,
          4263.429,
          4405.429,
          4475.143,
          4529.714,
          4582.286,
          4581.857,
          4525,
          4550.429,
          4640.571,
          4512.571,
          4449.143,
          4506,
          4485.714,
          4495.714,
          4540.429,
          4579.857,
          4752,
          4945.857,
          5097.714,
          5304.143,
          5537.714,
          5624.571,
          5717.857,
          5833.143,
          6025.714,
          6197,
          6338.857,
          6452,
          6546,
          6782.571,
          7008,
          7035.286,
          7206.571,
          7274.429,
          7339.714,
          7378.143,
          7385.286,
          7404.143,
          7360,
          7192.857,
          7104.286,
          6904.571,
          6863,
          6681,
          6674.286,
          6728.286,
          6736.286,
          6936.143,
          7129.714,
          7293.143,
          7154.571,
          7290.143,
          7471,
          7557.286,
          7598.286,
          7661.429,
          7681.286,
          8122.143,
          8246.429,
          8290.571,
          8258.286,
          8187.714,
          8056.714,
          7845,
          7869.857,
          7536.286,
          7328.857,
          6999.857,
          6641.857,
          7068.571,
          7410.429,
          7213.857,
          7144.571,
          7105.571,
          7340.286,
          7491,
          7015.429,
          6699.143,
          6568.857,
          6458.143,
          6176.714,
          5755.143,
          5452,
          5019.286,
          4992.857,
          4736.143,
          4541,
          4348.571,
          4165.857,
          4020.286,
          4001.857,
          3591.286,
          3335.571,
          3147.714,
          3104,
          3134.857,
          3034.429,
          2940.857,
          2920.571,
          2884.429,
          2798.571,
          2589.286,
          2409.143,
          2241.714,
          2147.429,
          2019.429,
          1905.714,
          1739.143,
          1594.571,
          1463.857,
          1392.143,
          1316,
          1261.429,
          1161.714,
          1091.143,
          1021.143,
          946.429,
          898.143,
          856.286,
          806.143,
          753.571,
          700.429,
          665.429,
          646.857,
          617,
          616.714,
          596.571,
          593.143,
          611.143,
          652.714,
          733.571,
          836.286,
          973.714,
          1211.714,
          1642.286,
          2300,
          3155.143,
          4463.429,
          5621.429,
          6610.286,
          7411.429,
          8380.857,
          9173.571,
          9798.286,
          9905.857,
          10022.571,
          10084.429,
          9925.571,
          9421.571,
          8744.286,
          8044,
          7220.143,
          6427.714,
          5710.143,
          5318.857,
          4826.571,
          4567.714,
          4140,
          3806.571,
          3479.571,
          3228.571,
          2973,
          2881,
          2731.429,
          2666.571,
          2593.714,
          2595.714,
          2586,
          2582.714,
          2489.286,
          2378.571,
          2345.714,
          2334,
          2329.857,
          2361.714,
          2382.429,
          2476.143,
          2471.429,
          2406,
          2419.286,
          2442.714,
          2462.857,
          2481.571,
          2494,
          2503.714,
          2591.286,
          2593.286,
          2575,
          2547.286,
          2534.857,
          2529.286,
          2551.857,
          2508.143,
          2545.714,
          2552.714,
          2541.143,
          2559.857,
          2553.143,
          2495.286,
          2515.857,
          2442.286,
          2106.286,
          2351.429,
          2286.857,
          2223.429,
          2181,
          2103.429,
          2077.571,
          2312,
          1957.143,
          1908.714,
          1844.857,
          1807.714,
          1740.286,
          1682.286,
          1675.143,
          1680.857,
          1686.429,
          1665.571,
          1646.286,
          1651.286,
          1659.143,
          1660,
          1695.857,
          1720.714,
          1736.714,
          1887.571,
          2038.857,
          2159.429,
          2250.714,
          2405.143,
          2545.714,
          2808.286,
          2933.286,
          3065.286,
          3235.714,
          3438.429,
          3529.143,
          3673.714,
          3795,
          4019.571,
          4327.143,
          4609.571,
          4983.714,
          5261.143,
          5525.429,
          5908.571,
          6262.714,
          6480.143,
          6803.857,
          7072.143,
          7414.714,
          7697.857,
          7961.857,
          8323.143,
          8826,
          9399.714,
          9853.286,
          10440.571,
          10948.857,
          11454,
          12322.857,
          13079,
          13348.429,
          13445.714,
          14501.714,
          15771.571,
          16931,
          17973.429,
          18663.143,
          19798.857,
          21029.714,
          21573.286,
          21970.143,
          22391.429,
          22190.857,
          22226.429,
          22259.714,
          22472.429,
          22249.714,
          22136.429,
          21394.429,
          21517.143,
          21552.571,
          21635.857,
          21771.143,
          21702.857,
          21096.857,
          21032.286,
          20563.571,
          19984.857,
          19285.143,
          18357.429,
          17332,
          16594.714,
          15941.286,
          15450.143,
          15148.857,
          14706,
          14233.286,
          14000,
          13508,
          13488,
          13064.143,
          12645.143,
          12355.714,
          12156.714,
          12053.571,
          12033.429,
          12385.429,
          12587.714,
          13213,
          13659.143,
          14472.857,
          14916.286,
          16249.286,
          17546.429,
          18979.857,
          21559.714,
          23366,
          25494.857,
          27442.714,
          28947.429,
          29997,
          31286,
          31492.571,
          31992,
          32567.286,
          34593.143,
          30444.714,
          35794.857,
          36681,
          39717,
          41759,
          45881.286,
          49070.571,
          56807.714,
          55237,
          58739.429,
          61099.143,
          60141.571,
          61549.143,
          68342,
          75721.714,
          76907.286,
          79526,
          78790,
          78888.714,
          81699.286,
          76755.286,
          115981.143,
          118775.429,
          119333,
          121003.571,
          125321,
          120359.714,
          117130,
          70432.857,
          67193,
          62848.571,
          58371.286,
          53121.571,
          49732.286,
          47014.571,
          44322.143,
          35196.714,
          32938.571,
          31780.714,
          32342.571,
          31836.571,
          30607.429,
          29778.143,
          34991.571,
          36122.714,
          38565.571,
          42961.286,
          47862.714,
          53493.571,
          58577.429,
          62825.714,
          66505.286,
          68824.429,
          68949.286,
          67926.571,
          65861.286,
          63210.714,
          61305.429,
          59308.143,
          56329.714,
          54191.714,
          51536.143,
          49033.429,
          47036.429,
          45273.714,
          42777,
          40695.429,
          37948.857,
          36046.714,
          34646,
          33159.714,
          31751,
          29607.429,
          27656.857,
          25765.143,
          24166,
          22360.143,
          20825.286,
          18445.571,
          16339.571,
          14544.857,
          12990.714,
          11984.571,
          11241.857,
          10650.857,
          9546.429,
          8389.714,
          7220.286,
          6258.286,
          5342.143,
          4722.143,
          4070.571,
          3527.286,
          3324.143,
          3087.143,
          2869.714,
          2662.571,
          2484.286,
          2388.714,
          2296.857,
          2044.714,
          1789.286,
          1654.857,
          1590.714,
          1548,
          1534.429,
          1518,
          1507,
          1567.143,
          1513.857,
          1497.571,
          1489.429,
          1457.571,
          1434.143,
          1393.429,
          1359,
          1353.429,
          1331.286,
          1299,
          1260.857,
          1222.143,
          1194,
          1195.143,
          1163.429,
          1142.143,
          1107.286,
          1095.286,
          1077.857,
          1058,
          1003.857,
          984,
          943,
          951.857,
          987.571,
          995.714,
          1040.571,
          1108.857,
          1188.429,
          1266.714,
          1325.714,
          1324.286,
          1360.714,
          1418.429,
          1546.143,
          1656.857,
          1451.286,
          1274.286,
          2017.143,
          2213.143,
          2447.143,
          2695.286,
          2927.143,
          2927.143,
          2927.143,
          3509.286,
          3783.429,
          3985,
          4176.571,
          4363.429,
          4363.429,
          4363.429,
          4738.714,
          4879.429,
          5085.857,
          5229.429,
          5359.429,
          5359.429,
          5359.429,
          5485.429,
          5610.429,
          5633.143,
          5745.143,
          5834.571,
          5834.571,
          5834.571,
          6070.571,
          6179.143,
          6232.857,
          6198.571,
          6172,
          6172,
          6172,
          5831.857,
          5496,
          5167,
          4801,
          4531.429,
          4531.429,
          4531.429,
          4088,
          4004.571,
          3949.429,
          3833.714,
          3634.143,
          3634.143,
          3634.143,
          3262.571,
          3097.429,
          2925.857,
          2747.857,
          2639,
          2639,
          2639,
          2288.857,
          2126.857,
          2013,
          1916.429,
          1832.143,
          1832.143,
          1832.143,
          1708.429,
          1670.857,
          1608.143,
          1404.857,
          1487.714,
          1487.714,
          1487.714,
          1352.571,
          1274.143,
          1215.286,
          1338.286,
          1151.714,
          1151.714,
          1151.714,
          1117.571,
          1104.714,
          1094.571,
          1261,
          1096.143,
          1259.143,
          1385.429,
          1096.286,
          1121.714,
          950.714,
          612.857,
          1187.857,
          1024.857,
          898.571,
          784.143,
          1189.429,
          1189.429,
          1189.429,
          1229.857,
          1229.857,
          1229.857,
          1229.857,
          1258.286,
          1258.286,
          1258.286,
          1411.714,
          1411.714,
          1411.714,
          1412.286,
          1751.857,
          1751.857,
          1751.857,
          2200.857,
          2200.857,
          2200.857,
          2200.571
         ],
         "legendgroup": "",
         "line": {
          "color": "#636efa",
          "dash": "solid"
         },
         "marker": {
          "symbol": "circle"
         },
         "mode": "lines",
         "name": "",
         "orientation": "v",
         "showlegend": false,
         "type": "scatter",
         "x": [
          "2020-03-03T00:00:00",
          "2020-03-04T00:00:00",
          "2020-03-05T00:00:00",
          "2020-03-06T00:00:00",
          "2020-03-07T00:00:00",
          "2020-03-08T00:00:00",
          "2020-03-09T00:00:00",
          "2020-03-10T00:00:00",
          "2020-03-11T00:00:00",
          "2020-03-12T00:00:00",
          "2020-03-13T00:00:00",
          "2020-03-14T00:00:00",
          "2020-03-15T00:00:00",
          "2020-03-16T00:00:00",
          "2020-03-17T00:00:00",
          "2020-03-18T00:00:00",
          "2020-03-19T00:00:00",
          "2020-03-20T00:00:00",
          "2020-03-21T00:00:00",
          "2020-03-22T00:00:00",
          "2020-03-23T00:00:00",
          "2020-03-24T00:00:00",
          "2020-03-25T00:00:00",
          "2020-03-26T00:00:00",
          "2020-03-27T00:00:00",
          "2020-03-28T00:00:00",
          "2020-03-29T00:00:00",
          "2020-03-30T00:00:00",
          "2020-03-31T00:00:00",
          "2020-04-01T00:00:00",
          "2020-04-02T00:00:00",
          "2020-04-03T00:00:00",
          "2020-04-04T00:00:00",
          "2020-04-05T00:00:00",
          "2020-04-06T00:00:00",
          "2020-04-07T00:00:00",
          "2020-04-08T00:00:00",
          "2020-04-09T00:00:00",
          "2020-04-10T00:00:00",
          "2020-04-11T00:00:00",
          "2020-04-12T00:00:00",
          "2020-04-13T00:00:00",
          "2020-04-14T00:00:00",
          "2020-04-15T00:00:00",
          "2020-04-16T00:00:00",
          "2020-04-17T00:00:00",
          "2020-04-18T00:00:00",
          "2020-04-19T00:00:00",
          "2020-04-20T00:00:00",
          "2020-04-21T00:00:00",
          "2020-04-22T00:00:00",
          "2020-04-23T00:00:00",
          "2020-04-24T00:00:00",
          "2020-04-25T00:00:00",
          "2020-04-26T00:00:00",
          "2020-04-27T00:00:00",
          "2020-04-28T00:00:00",
          "2020-04-29T00:00:00",
          "2020-04-30T00:00:00",
          "2020-05-01T00:00:00",
          "2020-05-02T00:00:00",
          "2020-05-03T00:00:00",
          "2020-05-04T00:00:00",
          "2020-05-05T00:00:00",
          "2020-05-06T00:00:00",
          "2020-05-07T00:00:00",
          "2020-05-08T00:00:00",
          "2020-05-09T00:00:00",
          "2020-05-10T00:00:00",
          "2020-05-11T00:00:00",
          "2020-05-12T00:00:00",
          "2020-05-13T00:00:00",
          "2020-05-14T00:00:00",
          "2020-05-15T00:00:00",
          "2020-05-16T00:00:00",
          "2020-05-17T00:00:00",
          "2020-05-18T00:00:00",
          "2020-05-19T00:00:00",
          "2020-05-20T00:00:00",
          "2020-05-21T00:00:00",
          "2020-05-22T00:00:00",
          "2020-05-23T00:00:00",
          "2020-05-24T00:00:00",
          "2020-05-25T00:00:00",
          "2020-05-26T00:00:00",
          "2020-05-27T00:00:00",
          "2020-05-28T00:00:00",
          "2020-05-29T00:00:00",
          "2020-05-30T00:00:00",
          "2020-05-31T00:00:00",
          "2020-06-01T00:00:00",
          "2020-06-02T00:00:00",
          "2020-06-03T00:00:00",
          "2020-06-04T00:00:00",
          "2020-06-05T00:00:00",
          "2020-06-06T00:00:00",
          "2020-06-07T00:00:00",
          "2020-06-08T00:00:00",
          "2020-06-09T00:00:00",
          "2020-06-10T00:00:00",
          "2020-06-11T00:00:00",
          "2020-06-12T00:00:00",
          "2020-06-13T00:00:00",
          "2020-06-14T00:00:00",
          "2020-06-15T00:00:00",
          "2020-06-16T00:00:00",
          "2020-06-17T00:00:00",
          "2020-06-18T00:00:00",
          "2020-06-19T00:00:00",
          "2020-06-20T00:00:00",
          "2020-06-21T00:00:00",
          "2020-06-22T00:00:00",
          "2020-06-23T00:00:00",
          "2020-06-24T00:00:00",
          "2020-06-25T00:00:00",
          "2020-06-26T00:00:00",
          "2020-06-27T00:00:00",
          "2020-06-28T00:00:00",
          "2020-06-29T00:00:00",
          "2020-06-30T00:00:00",
          "2020-07-01T00:00:00",
          "2020-07-02T00:00:00",
          "2020-07-03T00:00:00",
          "2020-07-04T00:00:00",
          "2020-07-05T00:00:00",
          "2020-07-06T00:00:00",
          "2020-07-07T00:00:00",
          "2020-07-08T00:00:00",
          "2020-07-09T00:00:00",
          "2020-07-10T00:00:00",
          "2020-07-11T00:00:00",
          "2020-07-12T00:00:00",
          "2020-07-13T00:00:00",
          "2020-07-14T00:00:00",
          "2020-07-15T00:00:00",
          "2020-07-16T00:00:00",
          "2020-07-17T00:00:00",
          "2020-07-18T00:00:00",
          "2020-07-19T00:00:00",
          "2020-07-20T00:00:00",
          "2020-07-21T00:00:00",
          "2020-07-22T00:00:00",
          "2020-07-23T00:00:00",
          "2020-07-24T00:00:00",
          "2020-07-25T00:00:00",
          "2020-07-26T00:00:00",
          "2020-07-27T00:00:00",
          "2020-07-28T00:00:00",
          "2020-07-29T00:00:00",
          "2020-07-30T00:00:00",
          "2020-07-31T00:00:00",
          "2020-08-01T00:00:00",
          "2020-08-02T00:00:00",
          "2020-08-03T00:00:00",
          "2020-08-04T00:00:00",
          "2020-08-05T00:00:00",
          "2020-08-06T00:00:00",
          "2020-08-07T00:00:00",
          "2020-08-08T00:00:00",
          "2020-08-09T00:00:00",
          "2020-08-10T00:00:00",
          "2020-08-11T00:00:00",
          "2020-08-12T00:00:00",
          "2020-08-13T00:00:00",
          "2020-08-14T00:00:00",
          "2020-08-15T00:00:00",
          "2020-08-16T00:00:00",
          "2020-08-17T00:00:00",
          "2020-08-18T00:00:00",
          "2020-08-19T00:00:00",
          "2020-08-20T00:00:00",
          "2020-08-21T00:00:00",
          "2020-08-22T00:00:00",
          "2020-08-23T00:00:00",
          "2020-08-24T00:00:00",
          "2020-08-25T00:00:00",
          "2020-08-26T00:00:00",
          "2020-08-27T00:00:00",
          "2020-08-28T00:00:00",
          "2020-08-29T00:00:00",
          "2020-08-30T00:00:00",
          "2020-08-31T00:00:00",
          "2020-09-01T00:00:00",
          "2020-09-02T00:00:00",
          "2020-09-03T00:00:00",
          "2020-09-04T00:00:00",
          "2020-09-05T00:00:00",
          "2020-09-06T00:00:00",
          "2020-09-07T00:00:00",
          "2020-09-08T00:00:00",
          "2020-09-09T00:00:00",
          "2020-09-10T00:00:00",
          "2020-09-11T00:00:00",
          "2020-09-12T00:00:00",
          "2020-09-13T00:00:00",
          "2020-09-14T00:00:00",
          "2020-09-15T00:00:00",
          "2020-09-16T00:00:00",
          "2020-09-17T00:00:00",
          "2020-09-18T00:00:00",
          "2020-09-19T00:00:00",
          "2020-09-20T00:00:00",
          "2020-09-21T00:00:00",
          "2020-09-22T00:00:00",
          "2020-09-23T00:00:00",
          "2020-09-24T00:00:00",
          "2020-09-25T00:00:00",
          "2020-09-26T00:00:00",
          "2020-09-27T00:00:00",
          "2020-09-28T00:00:00",
          "2020-09-29T00:00:00",
          "2020-09-30T00:00:00",
          "2020-10-01T00:00:00",
          "2020-10-02T00:00:00",
          "2020-10-03T00:00:00",
          "2020-10-04T00:00:00",
          "2020-10-05T00:00:00",
          "2020-10-06T00:00:00",
          "2020-10-07T00:00:00",
          "2020-10-08T00:00:00",
          "2020-10-09T00:00:00",
          "2020-10-10T00:00:00",
          "2020-10-11T00:00:00",
          "2020-10-12T00:00:00",
          "2020-10-13T00:00:00",
          "2020-10-14T00:00:00",
          "2020-10-15T00:00:00",
          "2020-10-16T00:00:00",
          "2020-10-17T00:00:00",
          "2020-10-18T00:00:00",
          "2020-10-19T00:00:00",
          "2020-10-20T00:00:00",
          "2020-10-21T00:00:00",
          "2020-10-22T00:00:00",
          "2020-10-23T00:00:00",
          "2020-10-24T00:00:00",
          "2020-10-25T00:00:00",
          "2020-10-26T00:00:00",
          "2020-10-27T00:00:00",
          "2020-10-28T00:00:00",
          "2020-10-29T00:00:00",
          "2020-10-30T00:00:00",
          "2020-10-31T00:00:00",
          "2020-11-01T00:00:00",
          "2020-11-02T00:00:00",
          "2020-11-03T00:00:00",
          "2020-11-04T00:00:00",
          "2020-11-05T00:00:00",
          "2020-11-06T00:00:00",
          "2020-11-07T00:00:00",
          "2020-11-08T00:00:00",
          "2020-11-09T00:00:00",
          "2020-11-10T00:00:00",
          "2020-11-11T00:00:00",
          "2020-11-12T00:00:00",
          "2020-11-13T00:00:00",
          "2020-11-14T00:00:00",
          "2020-11-15T00:00:00",
          "2020-11-16T00:00:00",
          "2020-11-17T00:00:00",
          "2020-11-18T00:00:00",
          "2020-11-19T00:00:00",
          "2020-11-20T00:00:00",
          "2020-11-21T00:00:00",
          "2020-11-22T00:00:00",
          "2020-11-23T00:00:00",
          "2020-11-24T00:00:00",
          "2020-11-25T00:00:00",
          "2020-11-26T00:00:00",
          "2020-11-27T00:00:00",
          "2020-11-28T00:00:00",
          "2020-11-29T00:00:00",
          "2020-11-30T00:00:00",
          "2020-12-01T00:00:00",
          "2020-12-02T00:00:00",
          "2020-12-03T00:00:00",
          "2020-12-04T00:00:00",
          "2020-12-05T00:00:00",
          "2020-12-06T00:00:00",
          "2020-12-07T00:00:00",
          "2020-12-08T00:00:00",
          "2020-12-09T00:00:00",
          "2020-12-10T00:00:00",
          "2020-12-11T00:00:00",
          "2020-12-12T00:00:00",
          "2020-12-13T00:00:00",
          "2020-12-14T00:00:00",
          "2020-12-15T00:00:00",
          "2020-12-16T00:00:00",
          "2020-12-17T00:00:00",
          "2020-12-18T00:00:00",
          "2020-12-19T00:00:00",
          "2020-12-20T00:00:00",
          "2020-12-21T00:00:00",
          "2020-12-22T00:00:00",
          "2020-12-23T00:00:00",
          "2020-12-24T00:00:00",
          "2020-12-25T00:00:00",
          "2020-12-26T00:00:00",
          "2020-12-27T00:00:00",
          "2020-12-28T00:00:00",
          "2020-12-29T00:00:00",
          "2020-12-30T00:00:00",
          "2020-12-31T00:00:00",
          "2021-01-01T00:00:00",
          "2021-01-02T00:00:00",
          "2021-01-03T00:00:00",
          "2021-01-04T00:00:00",
          "2021-01-05T00:00:00",
          "2021-01-06T00:00:00",
          "2021-01-07T00:00:00",
          "2021-01-08T00:00:00",
          "2021-01-09T00:00:00",
          "2021-01-10T00:00:00",
          "2021-01-11T00:00:00",
          "2021-01-12T00:00:00",
          "2021-01-13T00:00:00",
          "2021-01-14T00:00:00",
          "2021-01-15T00:00:00",
          "2021-01-16T00:00:00",
          "2021-01-17T00:00:00",
          "2021-01-18T00:00:00",
          "2021-01-19T00:00:00",
          "2021-01-20T00:00:00",
          "2021-01-21T00:00:00",
          "2021-01-22T00:00:00",
          "2021-01-23T00:00:00",
          "2021-01-24T00:00:00",
          "2021-01-25T00:00:00",
          "2021-01-26T00:00:00",
          "2021-01-27T00:00:00",
          "2021-01-28T00:00:00",
          "2021-01-29T00:00:00",
          "2021-01-30T00:00:00",
          "2021-01-31T00:00:00",
          "2021-02-01T00:00:00",
          "2021-02-02T00:00:00",
          "2021-02-03T00:00:00",
          "2021-02-04T00:00:00",
          "2021-02-05T00:00:00",
          "2021-02-06T00:00:00",
          "2021-02-07T00:00:00",
          "2021-02-08T00:00:00",
          "2021-02-09T00:00:00",
          "2021-02-10T00:00:00",
          "2021-02-11T00:00:00",
          "2021-02-12T00:00:00",
          "2021-02-13T00:00:00",
          "2021-02-14T00:00:00",
          "2021-02-15T00:00:00",
          "2021-02-16T00:00:00",
          "2021-02-17T00:00:00",
          "2021-02-18T00:00:00",
          "2021-02-19T00:00:00",
          "2021-02-20T00:00:00",
          "2021-02-21T00:00:00",
          "2021-02-22T00:00:00",
          "2021-02-23T00:00:00",
          "2021-02-24T00:00:00",
          "2021-02-25T00:00:00",
          "2021-02-26T00:00:00",
          "2021-02-27T00:00:00",
          "2021-02-28T00:00:00",
          "2021-03-01T00:00:00",
          "2021-03-02T00:00:00",
          "2021-03-03T00:00:00",
          "2021-03-04T00:00:00",
          "2021-03-05T00:00:00",
          "2021-03-06T00:00:00",
          "2021-03-07T00:00:00",
          "2021-03-08T00:00:00",
          "2021-03-09T00:00:00",
          "2021-03-10T00:00:00",
          "2021-03-11T00:00:00",
          "2021-03-12T00:00:00",
          "2021-03-13T00:00:00",
          "2021-03-14T00:00:00",
          "2021-03-15T00:00:00",
          "2021-03-16T00:00:00",
          "2021-03-17T00:00:00",
          "2021-03-18T00:00:00",
          "2021-03-19T00:00:00",
          "2021-03-20T00:00:00",
          "2021-03-21T00:00:00",
          "2021-03-22T00:00:00",
          "2021-03-23T00:00:00",
          "2021-03-24T00:00:00",
          "2021-03-25T00:00:00",
          "2021-03-26T00:00:00",
          "2021-03-27T00:00:00",
          "2021-03-28T00:00:00",
          "2021-03-29T00:00:00",
          "2021-03-30T00:00:00",
          "2021-03-31T00:00:00",
          "2021-04-01T00:00:00",
          "2021-04-02T00:00:00",
          "2021-04-03T00:00:00",
          "2021-04-04T00:00:00",
          "2021-04-05T00:00:00",
          "2021-04-06T00:00:00",
          "2021-04-07T00:00:00",
          "2021-04-08T00:00:00",
          "2021-04-09T00:00:00",
          "2021-04-10T00:00:00",
          "2021-04-11T00:00:00",
          "2021-04-12T00:00:00",
          "2021-04-13T00:00:00",
          "2021-04-14T00:00:00",
          "2021-04-15T00:00:00",
          "2021-04-16T00:00:00",
          "2021-04-17T00:00:00",
          "2021-04-18T00:00:00",
          "2021-04-19T00:00:00",
          "2021-04-20T00:00:00",
          "2021-04-21T00:00:00",
          "2021-04-22T00:00:00",
          "2021-04-23T00:00:00",
          "2021-04-24T00:00:00",
          "2021-04-25T00:00:00",
          "2021-04-26T00:00:00",
          "2021-04-27T00:00:00",
          "2021-04-28T00:00:00",
          "2021-04-29T00:00:00",
          "2021-04-30T00:00:00",
          "2021-05-01T00:00:00",
          "2021-05-02T00:00:00",
          "2021-05-03T00:00:00",
          "2021-05-04T00:00:00",
          "2021-05-05T00:00:00",
          "2021-05-06T00:00:00",
          "2021-05-07T00:00:00",
          "2021-05-08T00:00:00",
          "2021-05-09T00:00:00",
          "2021-05-10T00:00:00",
          "2021-05-11T00:00:00",
          "2021-05-12T00:00:00",
          "2021-05-13T00:00:00",
          "2021-05-14T00:00:00",
          "2021-05-15T00:00:00",
          "2021-05-16T00:00:00",
          "2021-05-17T00:00:00",
          "2021-05-18T00:00:00",
          "2021-05-19T00:00:00",
          "2021-05-20T00:00:00",
          "2021-05-21T00:00:00",
          "2021-05-22T00:00:00",
          "2021-05-23T00:00:00",
          "2021-05-24T00:00:00",
          "2021-05-25T00:00:00",
          "2021-05-26T00:00:00",
          "2021-05-27T00:00:00",
          "2021-05-28T00:00:00",
          "2021-05-29T00:00:00",
          "2021-05-30T00:00:00",
          "2021-05-31T00:00:00",
          "2021-06-01T00:00:00",
          "2021-06-02T00:00:00",
          "2021-06-03T00:00:00",
          "2021-06-04T00:00:00",
          "2021-06-05T00:00:00",
          "2021-06-06T00:00:00",
          "2021-06-07T00:00:00",
          "2021-06-08T00:00:00",
          "2021-06-09T00:00:00",
          "2021-06-10T00:00:00",
          "2021-06-11T00:00:00",
          "2021-06-12T00:00:00",
          "2021-06-13T00:00:00",
          "2021-06-14T00:00:00",
          "2021-06-15T00:00:00",
          "2021-06-16T00:00:00",
          "2021-06-17T00:00:00",
          "2021-06-18T00:00:00",
          "2021-06-19T00:00:00",
          "2021-06-20T00:00:00",
          "2021-06-21T00:00:00",
          "2021-06-22T00:00:00",
          "2021-06-23T00:00:00",
          "2021-06-24T00:00:00",
          "2021-06-25T00:00:00",
          "2021-06-26T00:00:00",
          "2021-06-27T00:00:00",
          "2021-06-28T00:00:00",
          "2021-06-29T00:00:00",
          "2021-06-30T00:00:00",
          "2021-07-01T00:00:00",
          "2021-07-02T00:00:00",
          "2021-07-03T00:00:00",
          "2021-07-04T00:00:00",
          "2021-07-05T00:00:00",
          "2021-07-06T00:00:00",
          "2021-07-07T00:00:00",
          "2021-07-08T00:00:00",
          "2021-07-09T00:00:00",
          "2021-07-10T00:00:00",
          "2021-07-11T00:00:00",
          "2021-07-12T00:00:00",
          "2021-07-13T00:00:00",
          "2021-07-14T00:00:00",
          "2021-07-15T00:00:00",
          "2021-07-16T00:00:00",
          "2021-07-17T00:00:00",
          "2021-07-18T00:00:00",
          "2021-07-19T00:00:00",
          "2021-07-20T00:00:00",
          "2021-07-21T00:00:00",
          "2021-07-22T00:00:00",
          "2021-07-23T00:00:00",
          "2021-07-24T00:00:00",
          "2021-07-25T00:00:00",
          "2021-07-26T00:00:00",
          "2021-07-27T00:00:00",
          "2021-07-28T00:00:00",
          "2021-07-29T00:00:00",
          "2021-07-30T00:00:00",
          "2021-07-31T00:00:00",
          "2021-08-01T00:00:00",
          "2021-08-02T00:00:00",
          "2021-08-03T00:00:00",
          "2021-08-04T00:00:00",
          "2021-08-05T00:00:00",
          "2021-08-06T00:00:00",
          "2021-08-07T00:00:00",
          "2021-08-08T00:00:00",
          "2021-08-09T00:00:00",
          "2021-08-10T00:00:00",
          "2021-08-11T00:00:00",
          "2021-08-12T00:00:00",
          "2021-08-13T00:00:00",
          "2021-08-14T00:00:00",
          "2021-08-15T00:00:00",
          "2021-08-16T00:00:00",
          "2021-08-17T00:00:00",
          "2021-08-18T00:00:00",
          "2021-08-19T00:00:00",
          "2021-08-20T00:00:00",
          "2021-08-21T00:00:00",
          "2021-08-22T00:00:00",
          "2021-08-23T00:00:00",
          "2021-08-24T00:00:00",
          "2021-08-25T00:00:00",
          "2021-08-26T00:00:00",
          "2021-08-27T00:00:00",
          "2021-08-28T00:00:00",
          "2021-08-29T00:00:00",
          "2021-08-30T00:00:00",
          "2021-08-31T00:00:00",
          "2021-09-01T00:00:00",
          "2021-09-02T00:00:00",
          "2021-09-03T00:00:00",
          "2021-09-04T00:00:00",
          "2021-09-05T00:00:00",
          "2021-09-06T00:00:00",
          "2021-09-07T00:00:00",
          "2021-09-08T00:00:00",
          "2021-09-09T00:00:00",
          "2021-09-10T00:00:00",
          "2021-09-11T00:00:00",
          "2021-09-12T00:00:00",
          "2021-09-13T00:00:00",
          "2021-09-14T00:00:00",
          "2021-09-15T00:00:00",
          "2021-09-16T00:00:00",
          "2021-09-17T00:00:00",
          "2021-09-18T00:00:00",
          "2021-09-19T00:00:00",
          "2021-09-20T00:00:00",
          "2021-09-21T00:00:00",
          "2021-09-22T00:00:00",
          "2021-09-23T00:00:00",
          "2021-09-24T00:00:00",
          "2021-09-25T00:00:00",
          "2021-09-26T00:00:00",
          "2021-09-27T00:00:00",
          "2021-09-28T00:00:00",
          "2021-09-29T00:00:00",
          "2021-09-30T00:00:00",
          "2021-10-01T00:00:00",
          "2021-10-02T00:00:00",
          "2021-10-03T00:00:00",
          "2021-10-04T00:00:00",
          "2021-10-05T00:00:00",
          "2021-10-06T00:00:00",
          "2021-10-07T00:00:00",
          "2021-10-08T00:00:00",
          "2021-10-09T00:00:00",
          "2021-10-10T00:00:00",
          "2021-10-11T00:00:00",
          "2021-10-12T00:00:00",
          "2021-10-13T00:00:00",
          "2021-10-14T00:00:00",
          "2021-10-15T00:00:00",
          "2021-10-16T00:00:00",
          "2021-10-17T00:00:00",
          "2021-10-18T00:00:00",
          "2021-10-19T00:00:00",
          "2021-10-20T00:00:00",
          "2021-10-21T00:00:00",
          "2021-10-22T00:00:00",
          "2021-10-23T00:00:00",
          "2021-10-24T00:00:00",
          "2021-10-25T00:00:00",
          "2021-10-26T00:00:00",
          "2021-10-27T00:00:00",
          "2021-10-28T00:00:00",
          "2021-10-29T00:00:00",
          "2021-10-30T00:00:00",
          "2021-10-31T00:00:00",
          "2021-11-01T00:00:00",
          "2021-11-02T00:00:00",
          "2021-11-03T00:00:00",
          "2021-11-04T00:00:00",
          "2021-11-05T00:00:00",
          "2021-11-06T00:00:00",
          "2021-11-07T00:00:00",
          "2021-11-08T00:00:00",
          "2021-11-09T00:00:00",
          "2021-11-10T00:00:00",
          "2021-11-11T00:00:00",
          "2021-11-12T00:00:00",
          "2021-11-13T00:00:00",
          "2021-11-14T00:00:00",
          "2021-11-15T00:00:00",
          "2021-11-16T00:00:00",
          "2021-11-17T00:00:00",
          "2021-11-18T00:00:00",
          "2021-11-19T00:00:00",
          "2021-11-20T00:00:00",
          "2021-11-21T00:00:00",
          "2021-11-22T00:00:00",
          "2021-11-23T00:00:00",
          "2021-11-24T00:00:00",
          "2021-11-25T00:00:00",
          "2021-11-26T00:00:00",
          "2021-11-27T00:00:00",
          "2021-11-28T00:00:00",
          "2021-11-29T00:00:00",
          "2021-11-30T00:00:00",
          "2021-12-01T00:00:00",
          "2021-12-02T00:00:00",
          "2021-12-03T00:00:00",
          "2021-12-04T00:00:00",
          "2021-12-05T00:00:00",
          "2021-12-06T00:00:00",
          "2021-12-07T00:00:00",
          "2021-12-08T00:00:00",
          "2021-12-09T00:00:00",
          "2021-12-10T00:00:00",
          "2021-12-11T00:00:00",
          "2021-12-12T00:00:00",
          "2021-12-13T00:00:00",
          "2021-12-14T00:00:00",
          "2021-12-15T00:00:00",
          "2021-12-16T00:00:00",
          "2021-12-17T00:00:00",
          "2021-12-18T00:00:00",
          "2021-12-19T00:00:00",
          "2021-12-20T00:00:00",
          "2021-12-21T00:00:00",
          "2021-12-22T00:00:00",
          "2021-12-23T00:00:00",
          "2021-12-24T00:00:00",
          "2021-12-25T00:00:00",
          "2021-12-26T00:00:00",
          "2021-12-27T00:00:00",
          "2021-12-28T00:00:00",
          "2021-12-29T00:00:00",
          "2021-12-30T00:00:00",
          "2021-12-31T00:00:00",
          "2022-01-01T00:00:00",
          "2022-01-02T00:00:00",
          "2022-01-03T00:00:00",
          "2022-01-04T00:00:00",
          "2022-01-05T00:00:00",
          "2022-01-06T00:00:00",
          "2022-01-07T00:00:00",
          "2022-01-08T00:00:00",
          "2022-01-09T00:00:00",
          "2022-01-10T00:00:00",
          "2022-01-11T00:00:00",
          "2022-01-12T00:00:00",
          "2022-01-13T00:00:00",
          "2022-01-14T00:00:00",
          "2022-01-15T00:00:00",
          "2022-01-16T00:00:00",
          "2022-01-17T00:00:00",
          "2022-01-18T00:00:00",
          "2022-01-19T00:00:00",
          "2022-01-20T00:00:00",
          "2022-01-21T00:00:00",
          "2022-01-22T00:00:00",
          "2022-01-23T00:00:00",
          "2022-01-24T00:00:00",
          "2022-01-25T00:00:00",
          "2022-01-26T00:00:00",
          "2022-01-27T00:00:00",
          "2022-01-28T00:00:00",
          "2022-01-29T00:00:00",
          "2022-01-30T00:00:00",
          "2022-01-31T00:00:00",
          "2022-02-01T00:00:00",
          "2022-02-02T00:00:00",
          "2022-02-03T00:00:00",
          "2022-02-04T00:00:00",
          "2022-02-05T00:00:00",
          "2022-02-06T00:00:00",
          "2022-02-07T00:00:00",
          "2022-02-08T00:00:00",
          "2022-02-09T00:00:00",
          "2022-02-10T00:00:00",
          "2022-02-11T00:00:00",
          "2022-02-12T00:00:00",
          "2022-02-13T00:00:00",
          "2022-02-14T00:00:00",
          "2022-02-15T00:00:00",
          "2022-02-16T00:00:00",
          "2022-02-17T00:00:00",
          "2022-02-18T00:00:00",
          "2022-02-19T00:00:00",
          "2022-02-20T00:00:00",
          "2022-02-21T00:00:00",
          "2022-02-22T00:00:00",
          "2022-02-23T00:00:00",
          "2022-02-24T00:00:00",
          "2022-02-25T00:00:00",
          "2022-02-26T00:00:00",
          "2022-02-27T00:00:00",
          "2022-02-28T00:00:00",
          "2022-03-01T00:00:00",
          "2022-03-02T00:00:00",
          "2022-03-03T00:00:00",
          "2022-03-04T00:00:00",
          "2022-03-05T00:00:00",
          "2022-03-06T00:00:00",
          "2022-03-07T00:00:00",
          "2022-03-08T00:00:00",
          "2022-03-09T00:00:00",
          "2022-03-10T00:00:00",
          "2022-03-11T00:00:00",
          "2022-03-12T00:00:00",
          "2022-03-13T00:00:00",
          "2022-03-14T00:00:00",
          "2022-03-15T00:00:00",
          "2022-03-16T00:00:00",
          "2022-03-17T00:00:00",
          "2022-03-18T00:00:00",
          "2022-03-19T00:00:00",
          "2022-03-20T00:00:00",
          "2022-03-21T00:00:00",
          "2022-03-22T00:00:00",
          "2022-03-23T00:00:00",
          "2022-03-24T00:00:00",
          "2022-03-25T00:00:00",
          "2022-03-26T00:00:00",
          "2022-03-27T00:00:00",
          "2022-03-28T00:00:00",
          "2022-03-29T00:00:00",
          "2022-03-30T00:00:00",
          "2022-03-31T00:00:00",
          "2022-04-01T00:00:00",
          "2022-04-02T00:00:00",
          "2022-04-03T00:00:00",
          "2022-04-04T00:00:00",
          "2022-04-05T00:00:00",
          "2022-04-06T00:00:00",
          "2022-04-07T00:00:00",
          "2022-04-08T00:00:00",
          "2022-04-09T00:00:00",
          "2022-04-10T00:00:00",
          "2022-04-11T00:00:00",
          "2022-04-12T00:00:00",
          "2022-04-13T00:00:00",
          "2022-04-14T00:00:00",
          "2022-04-15T00:00:00",
          "2022-04-16T00:00:00",
          "2022-04-17T00:00:00",
          "2022-04-18T00:00:00",
          "2022-04-19T00:00:00",
          "2022-04-20T00:00:00",
          "2022-04-21T00:00:00",
          "2022-04-22T00:00:00",
          "2022-04-23T00:00:00",
          "2022-04-24T00:00:00",
          "2022-04-25T00:00:00",
          "2022-04-26T00:00:00",
          "2022-04-27T00:00:00",
          "2022-04-28T00:00:00",
          "2022-04-29T00:00:00",
          "2022-04-30T00:00:00",
          "2022-05-01T00:00:00",
          "2022-05-02T00:00:00",
          "2022-05-03T00:00:00",
          "2022-05-04T00:00:00",
          "2022-05-05T00:00:00",
          "2022-05-06T00:00:00",
          "2022-05-07T00:00:00",
          "2022-05-08T00:00:00",
          "2022-05-09T00:00:00",
          "2022-05-10T00:00:00",
          "2022-05-11T00:00:00",
          "2022-05-12T00:00:00",
          "2022-05-13T00:00:00",
          "2022-05-14T00:00:00",
          "2022-05-15T00:00:00",
          "2022-05-16T00:00:00",
          "2022-05-17T00:00:00",
          "2022-05-18T00:00:00",
          "2022-05-19T00:00:00",
          "2022-05-20T00:00:00",
          "2022-05-21T00:00:00",
          "2022-05-22T00:00:00",
          "2022-05-23T00:00:00",
          "2022-05-24T00:00:00",
          "2022-05-25T00:00:00",
          "2022-05-26T00:00:00",
          "2022-05-27T00:00:00",
          "2022-05-28T00:00:00",
          "2022-05-29T00:00:00",
          "2022-05-30T00:00:00",
          "2022-05-31T00:00:00",
          "2022-06-01T00:00:00",
          "2022-06-02T00:00:00",
          "2022-06-03T00:00:00",
          "2022-06-04T00:00:00",
          "2022-06-05T00:00:00",
          "2022-06-06T00:00:00",
          "2022-06-07T00:00:00",
          "2022-06-08T00:00:00",
          "2022-06-09T00:00:00",
          "2022-06-10T00:00:00",
          "2022-06-11T00:00:00",
          "2022-06-12T00:00:00",
          "2022-06-13T00:00:00",
          "2022-06-14T00:00:00",
          "2022-06-15T00:00:00",
          "2022-06-16T00:00:00",
          "2022-06-17T00:00:00",
          "2022-06-18T00:00:00",
          "2022-06-19T00:00:00",
          "2022-06-20T00:00:00",
          "2022-06-21T00:00:00",
          "2022-06-22T00:00:00",
          "2022-06-23T00:00:00",
          "2022-06-24T00:00:00",
          "2022-06-25T00:00:00",
          "2022-06-26T00:00:00",
          "2022-06-27T00:00:00",
          "2022-06-28T00:00:00",
          "2022-06-29T00:00:00",
          "2022-06-30T00:00:00",
          "2022-07-01T00:00:00",
          "2022-07-02T00:00:00",
          "2022-07-03T00:00:00",
          "2022-07-04T00:00:00",
          "2022-07-05T00:00:00",
          "2022-07-06T00:00:00",
          "2022-07-07T00:00:00",
          "2022-07-08T00:00:00",
          "2022-07-09T00:00:00",
          "2022-07-10T00:00:00",
          "2022-07-11T00:00:00",
          "2022-07-12T00:00:00",
          "2022-07-13T00:00:00",
          "2022-07-14T00:00:00",
          "2022-07-15T00:00:00",
          "2022-07-16T00:00:00",
          "2022-07-17T00:00:00",
          "2022-07-18T00:00:00",
          "2022-07-19T00:00:00",
          "2022-07-20T00:00:00",
          "2022-07-21T00:00:00",
          "2022-07-22T00:00:00",
          "2022-07-23T00:00:00",
          "2022-07-24T00:00:00",
          "2022-07-25T00:00:00",
          "2022-07-26T00:00:00",
          "2022-07-27T00:00:00",
          "2022-07-28T00:00:00",
          "2022-07-29T00:00:00",
          "2022-07-30T00:00:00",
          "2022-07-31T00:00:00",
          "2022-08-01T00:00:00",
          "2022-08-02T00:00:00",
          "2022-08-03T00:00:00",
          "2022-08-04T00:00:00",
          "2022-08-05T00:00:00",
          "2022-08-06T00:00:00",
          "2022-08-07T00:00:00",
          "2022-08-08T00:00:00",
          "2022-08-09T00:00:00",
          "2022-08-10T00:00:00",
          "2022-08-11T00:00:00",
          "2022-08-12T00:00:00",
          "2022-08-13T00:00:00",
          "2022-08-14T00:00:00",
          "2022-08-15T00:00:00",
          "2022-08-16T00:00:00",
          "2022-08-17T00:00:00",
          "2022-08-18T00:00:00",
          "2022-08-19T00:00:00",
          "2022-08-20T00:00:00",
          "2022-08-21T00:00:00",
          "2022-08-22T00:00:00",
          "2022-08-23T00:00:00",
          "2022-08-24T00:00:00",
          "2022-08-25T00:00:00",
          "2022-08-26T00:00:00",
          "2022-08-27T00:00:00",
          "2022-08-28T00:00:00",
          "2022-08-29T00:00:00",
          "2022-08-30T00:00:00",
          "2022-08-31T00:00:00",
          "2022-09-01T00:00:00",
          "2022-09-02T00:00:00",
          "2022-09-03T00:00:00",
          "2022-09-04T00:00:00",
          "2022-09-05T00:00:00",
          "2022-09-06T00:00:00",
          "2022-09-07T00:00:00",
          "2022-09-08T00:00:00",
          "2022-09-09T00:00:00",
          "2022-09-10T00:00:00",
          "2022-09-11T00:00:00",
          "2022-09-12T00:00:00",
          "2022-09-13T00:00:00",
          "2022-09-14T00:00:00",
          "2022-09-15T00:00:00",
          "2022-09-16T00:00:00",
          "2022-09-17T00:00:00",
          "2022-09-18T00:00:00",
          "2022-09-19T00:00:00",
          "2022-09-20T00:00:00",
          "2022-09-21T00:00:00",
          "2022-09-22T00:00:00",
          "2022-09-23T00:00:00",
          "2022-09-24T00:00:00",
          "2022-09-25T00:00:00",
          "2022-09-26T00:00:00",
          "2022-09-27T00:00:00",
          "2022-09-28T00:00:00",
          "2022-09-29T00:00:00",
          "2022-09-30T00:00:00",
          "2022-10-01T00:00:00",
          "2022-10-02T00:00:00",
          "2022-10-03T00:00:00"
         ],
         "xaxis": "x",
         "y": [
          5.429,
          11.714,
          18.143,
          26,
          36.429,
          43.286,
          51.143,
          66.429,
          74.429,
          96.571,
          110.143,
          124.286,
          156,
          189,
          221.143,
          265.286,
          312.857,
          381.857,
          438.571,
          476.714,
          551,
          623.286,
          710.571,
          801.714,
          876.143,
          952,
          1000.857,
          1005.571,
          1029.429,
          1039.857,
          1019.286,
          983.571,
          1000.714,
          1010.286,
          1002.286,
          995.571,
          1012.714,
          1057,
          1116.143,
          1109,
          1110.429,
          1121.714,
          1088,
          1066.429,
          1052.286,
          1026.143,
          1011.714,
          981.571,
          961.714,
          957.714,
          933.286,
          871.714,
          802.429,
          742.714,
          692.429,
          612.714,
          566.857,
          513,
          465.429,
          435.571,
          389.857,
          361,
          381.857,
          359.714,
          351.286,
          329,
          306.571,
          293.714,
          288.286,
          271,
          270.286,
          243.857,
          226.857,
          212.571,
          195.571,
          193.429,
          180.857,
          176.714,
          174.286,
          172.571,
          170.714,
          177.286,
          186.286,
          189.857,
          188.714,
          178.571,
          176.857,
          170.429,
          172.286,
          157.143,
          152.714,
          137.857,
          141.714,
          146.571,
          154,
          161.714,
          170.571,
          179.429,
          193.429,
          187,
          187,
          186.429,
          172.714,
          172.714,
          169.143,
          159.571,
          152.571,
          137.857,
          123.143,
          115.714,
          101.429,
          90.714,
          85.714,
          85,
          82.714,
          81.714,
          79.143,
          80.714,
          78.714,
          75.857,
          71.143,
          68.857,
          67.714,
          67.857,
          62.143,
          60.286,
          58.857,
          55.286,
          50.571,
          53.429,
          57.286,
          62.286,
          64.571,
          72.286,
          79,
          87.714,
          94.429,
          100.571,
          116.857,
          132.571,
          141.429,
          150.571,
          163.429,
          165.143,
          184.857,
          182.286,
          190.857,
          202.143,
          227.857,
          250.143,
          292,
          304,
          335.857,
          373.857,
          399.429,
          437.143,
          464.286,
          471.857,
          502.143,
          538.143,
          501.143,
          614.429,
          616.286,
          632.286,
          657.286,
          651.571,
          631.143,
          669.429,
          575.143,
          564.286,
          548.429,
          526.571,
          517.143,
          531.857,
          521.714,
          523.429,
          523.429,
          519,
          518,
          523.143,
          514.714,
          522,
          546.143,
          556.143,
          591,
          613.857,
          673.429,
          709.714,
          779.857,
          838.571,
          868.857,
          942.714,
          1024.286,
          1047.714,
          1121.857,
          1180.429,
          1236.286,
          1369.857,
          1471.571,
          1566.429,
          1675.714,
          1804.429,
          1929.143,
          2046,
          2161,
          2274.857,
          2392.857,
          2556.714,
          2657.857,
          2766.429,
          2901.857,
          3001,
          3150.571,
          3329.286,
          3473,
          3709.429,
          3927,
          4167.571,
          4534.857,
          4841.429,
          5202.857,
          5541.429,
          5865.429,
          6271.571,
          6600.714,
          6882.143,
          7170.714,
          7402.143,
          7660.429,
          7824.429,
          7937.286,
          8144,
          8355.857,
          8642.143,
          8718.571,
          9007.286,
          9343.143,
          9647.286,
          9556.143,
          9698,
          9858.429,
          10024.571,
          9807.571,
          9513.857,
          9150.857,
          9085.571,
          8614,
          8061.143,
          7611.143,
          7180.571,
          6665.286,
          6224.857,
          5906.429,
          5715,
          5550.143,
          5443.286,
          5406.143,
          5428.429,
          5376.286,
          5262.714,
          5265.429,
          5243.571,
          5266,
          5264.286,
          5313,
          5259.143,
          5301,
          5134,
          5106.286,
          4876.429,
          4904,
          4816.429,
          4833.286,
          4834.286,
          4994.714,
          5017.429,
          5312.429,
          5484.429,
          5841.429,
          6143.286,
          6373.286,
          6821.143,
          7242.143,
          7609,
          8050.857,
          8249.429,
          8319.143,
          8984.143,
          9561.571,
          10003.714,
          10451.429,
          10901.286,
          11289.286,
          11742.143,
          11631.143,
          11448.429,
          11384.571,
          11044.286,
          10478.571,
          9941.714,
          9613.143,
          9470,
          9210.714,
          8739.714,
          8560.714,
          8321,
          8199.286,
          8030.857,
          7706.286,
          7698.143,
          7689.286,
          7509.429,
          7396.571,
          7232.857,
          7025.857,
          6877.571,
          6427.429,
          6125.714,
          5829.714,
          5684.857,
          5592.286,
          5505.571,
          5425.286,
          5327.571,
          5287.286,
          5309.857,
          5208.857,
          5105.571,
          5053.714,
          4939,
          4781.714,
          4584,
          4408,
          4238.714,
          4116.143,
          4067,
          3966,
          3895.714,
          3891.143,
          3875,
          3908.571,
          3770.429,
          3509.857,
          3391.143,
          3420.714,
          3423.714,
          3440.143,
          3370,
          3454.714,
          3590.429,
          3615.571,
          3631.571,
          3685.571,
          3738.571,
          3913.429,
          4106,
          4263.429,
          4405.429,
          4475.143,
          4529.714,
          4582.286,
          4581.857,
          4525,
          4550.429,
          4640.571,
          4512.571,
          4449.143,
          4506,
          4485.714,
          4495.714,
          4540.429,
          4579.857,
          4752,
          4945.857,
          5097.714,
          5304.143,
          5537.714,
          5624.571,
          5717.857,
          5833.143,
          6025.714,
          6197,
          6338.857,
          6452,
          6546,
          6782.571,
          7008,
          7035.286,
          7206.571,
          7274.429,
          7339.714,
          7378.143,
          7385.286,
          7404.143,
          7360,
          7192.857,
          7104.286,
          6904.571,
          6863,
          6681,
          6674.286,
          6728.286,
          6736.286,
          6936.143,
          7129.714,
          7293.143,
          7154.571,
          7290.143,
          7471,
          7557.286,
          7598.286,
          7661.429,
          7681.286,
          8122.143,
          8246.429,
          8290.571,
          8258.286,
          8187.714,
          8056.714,
          7845,
          7869.857,
          7536.286,
          7328.857,
          6999.857,
          6641.857,
          7068.571,
          7410.429,
          7213.857,
          7144.571,
          7105.571,
          7340.286,
          7491,
          7015.429,
          6699.143,
          6568.857,
          6458.143,
          6176.714,
          5755.143,
          5452,
          5019.286,
          4992.857,
          4736.143,
          4541,
          4348.571,
          4165.857,
          4020.286,
          4001.857,
          3591.286,
          3335.571,
          3147.714,
          3104,
          3134.857,
          3034.429,
          2940.857,
          2920.571,
          2884.429,
          2798.571,
          2589.286,
          2409.143,
          2241.714,
          2147.429,
          2019.429,
          1905.714,
          1739.143,
          1594.571,
          1463.857,
          1392.143,
          1316,
          1261.429,
          1161.714,
          1091.143,
          1021.143,
          946.429,
          898.143,
          856.286,
          806.143,
          753.571,
          700.429,
          665.429,
          646.857,
          617,
          616.714,
          596.571,
          593.143,
          611.143,
          652.714,
          733.571,
          836.286,
          973.714,
          1211.714,
          1642.286,
          2300,
          3155.143,
          4463.429,
          5621.429,
          6610.286,
          7411.429,
          8380.857,
          9173.571,
          9798.286,
          9905.857,
          10022.571,
          10084.429,
          9925.571,
          9421.571,
          8744.286,
          8044,
          7220.143,
          6427.714,
          5710.143,
          5318.857,
          4826.571,
          4567.714,
          4140,
          3806.571,
          3479.571,
          3228.571,
          2973,
          2881,
          2731.429,
          2666.571,
          2593.714,
          2595.714,
          2586,
          2582.714,
          2489.286,
          2378.571,
          2345.714,
          2334,
          2329.857,
          2361.714,
          2382.429,
          2476.143,
          2471.429,
          2406,
          2419.286,
          2442.714,
          2462.857,
          2481.571,
          2494,
          2503.714,
          2591.286,
          2593.286,
          2575,
          2547.286,
          2534.857,
          2529.286,
          2551.857,
          2508.143,
          2545.714,
          2552.714,
          2541.143,
          2559.857,
          2553.143,
          2495.286,
          2515.857,
          2442.286,
          2106.286,
          2351.429,
          2286.857,
          2223.429,
          2181,
          2103.429,
          2077.571,
          2312,
          1957.143,
          1908.714,
          1844.857,
          1807.714,
          1740.286,
          1682.286,
          1675.143,
          1680.857,
          1686.429,
          1665.571,
          1646.286,
          1651.286,
          1659.143,
          1660,
          1695.857,
          1720.714,
          1736.714,
          1887.571,
          2038.857,
          2159.429,
          2250.714,
          2405.143,
          2545.714,
          2808.286,
          2933.286,
          3065.286,
          3235.714,
          3438.429,
          3529.143,
          3673.714,
          3795,
          4019.571,
          4327.143,
          4609.571,
          4983.714,
          5261.143,
          5525.429,
          5908.571,
          6262.714,
          6480.143,
          6803.857,
          7072.143,
          7414.714,
          7697.857,
          7961.857,
          8323.143,
          8826,
          9399.714,
          9853.286,
          10440.571,
          10948.857,
          11454,
          12322.857,
          13079,
          13348.429,
          13445.714,
          14501.714,
          15771.571,
          16931,
          17973.429,
          18663.143,
          19798.857,
          21029.714,
          21573.286,
          21970.143,
          22391.429,
          22190.857,
          22226.429,
          22259.714,
          22472.429,
          22249.714,
          22136.429,
          21394.429,
          21517.143,
          21552.571,
          21635.857,
          21771.143,
          21702.857,
          21096.857,
          21032.286,
          20563.571,
          19984.857,
          19285.143,
          18357.429,
          17332,
          16594.714,
          15941.286,
          15450.143,
          15148.857,
          14706,
          14233.286,
          14000,
          13508,
          13488,
          13064.143,
          12645.143,
          12355.714,
          12156.714,
          12053.571,
          12033.429,
          12385.429,
          12587.714,
          13213,
          13659.143,
          14472.857,
          14916.286,
          16249.286,
          17546.429,
          18979.857,
          21559.714,
          23366,
          25494.857,
          27442.714,
          28947.429,
          29997,
          31286,
          31492.571,
          31992,
          32567.286,
          34593.143,
          30444.714,
          35794.857,
          36681,
          39717,
          41759,
          45881.286,
          49070.571,
          56807.714,
          55237,
          58739.429,
          61099.143,
          60141.571,
          61549.143,
          68342,
          75721.714,
          76907.286,
          79526,
          78790,
          78888.714,
          81699.286,
          76755.286,
          115981.143,
          118775.429,
          119333,
          121003.571,
          125321,
          120359.714,
          117130,
          70432.857,
          67193,
          62848.571,
          58371.286,
          53121.571,
          49732.286,
          47014.571,
          44322.143,
          35196.714,
          32938.571,
          31780.714,
          32342.571,
          31836.571,
          30607.429,
          29778.143,
          34991.571,
          36122.714,
          38565.571,
          42961.286,
          47862.714,
          53493.571,
          58577.429,
          62825.714,
          66505.286,
          68824.429,
          68949.286,
          67926.571,
          65861.286,
          63210.714,
          61305.429,
          59308.143,
          56329.714,
          54191.714,
          51536.143,
          49033.429,
          47036.429,
          45273.714,
          42777,
          40695.429,
          37948.857,
          36046.714,
          34646,
          33159.714,
          31751,
          29607.429,
          27656.857,
          25765.143,
          24166,
          22360.143,
          20825.286,
          18445.571,
          16339.571,
          14544.857,
          12990.714,
          11984.571,
          11241.857,
          10650.857,
          9546.429,
          8389.714,
          7220.286,
          6258.286,
          5342.143,
          4722.143,
          4070.571,
          3527.286,
          3324.143,
          3087.143,
          2869.714,
          2662.571,
          2484.286,
          2388.714,
          2296.857,
          2044.714,
          1789.286,
          1654.857,
          1590.714,
          1548,
          1534.429,
          1518,
          1507,
          1567.143,
          1513.857,
          1497.571,
          1489.429,
          1457.571,
          1434.143,
          1393.429,
          1359,
          1353.429,
          1331.286,
          1299,
          1260.857,
          1222.143,
          1194,
          1195.143,
          1163.429,
          1142.143,
          1107.286,
          1095.286,
          1077.857,
          1058,
          1003.857,
          984,
          943,
          951.857,
          987.571,
          995.714,
          1040.571,
          1108.857,
          1188.429,
          1266.714,
          1325.714,
          1324.286,
          1360.714,
          1418.429,
          1546.143,
          1656.857,
          1451.286,
          1274.286,
          2017.143,
          2213.143,
          2447.143,
          2695.286,
          2927.143,
          2927.143,
          2927.143,
          3509.286,
          3783.429,
          3985,
          4176.571,
          4363.429,
          4363.429,
          4363.429,
          4738.714,
          4879.429,
          5085.857,
          5229.429,
          5359.429,
          5359.429,
          5359.429,
          5485.429,
          5610.429,
          5633.143,
          5745.143,
          5834.571,
          5834.571,
          5834.571,
          6070.571,
          6179.143,
          6232.857,
          6198.571,
          6172,
          6172,
          6172,
          5831.857,
          5496,
          5167,
          4801,
          4531.429,
          4531.429,
          4531.429,
          4088,
          4004.571,
          3949.429,
          3833.714,
          3634.143,
          3634.143,
          3634.143,
          3262.571,
          3097.429,
          2925.857,
          2747.857,
          2639,
          2639,
          2639,
          2288.857,
          2126.857,
          2013,
          1916.429,
          1832.143,
          1832.143,
          1832.143,
          1708.429,
          1670.857,
          1608.143,
          1404.857,
          1487.714,
          1487.714,
          1487.714,
          1352.571,
          1274.143,
          1215.286,
          1338.286,
          1151.714,
          1151.714,
          1151.714,
          1117.571,
          1104.714,
          1094.571,
          1261,
          1096.143,
          1259.143,
          1385.429,
          1096.286,
          1121.714,
          950.714,
          612.857,
          1187.857,
          1024.857,
          898.571,
          784.143,
          1189.429,
          1189.429,
          1189.429,
          1229.857,
          1229.857,
          1229.857,
          1229.857,
          1258.286,
          1258.286,
          1258.286,
          1411.714,
          1411.714,
          1411.714,
          1412.286,
          1751.857,
          1751.857,
          1751.857,
          2200.857,
          2200.857,
          2200.857,
          2200.571
         ],
         "yaxis": "y"
        }
       ],
       "layout": {
        "annotations": [
         {
          "text": "15 March 2020: Lockdown",
          "x": "2020-03-15",
          "y": 1,
          "yref": "paper"
         },
         {
          "text": "1 June 2020: Easening of measures",
          "x": "2020-06-01",
          "y": 0.7,
          "yref": "paper"
         },
         {
          "text": "10 Oct 2020: Partial lockdown",
          "x": "2020-10-14",
          "y": 0.87,
          "yref": "paper"
         },
         {
          "text": "14 Dec 2020: Lockdown",
          "x": "2020-12-14",
          "y": 1,
          "yref": "paper"
         },
         {
          "text": "8 Feb 2020: Easening of measures",
          "x": "2021-02-08",
          "y": 0.7,
          "yref": "paper"
         },
         {
          "text": "19 Dec 2021: Lockdown",
          "x": "2021-12-19",
          "y": 1,
          "yref": "paper"
         },
         {
          "text": "10 Jan 2022: Easening of measures",
          "x": "2022-01-10",
          "y": 0.7,
          "yref": "paper"
         }
        ],
        "legend": {
         "tracegroupgap": 0
        },
        "plot_bgcolor": "#f0f5f5",
        "shapes": [
         {
          "line": {
           "color": "red",
           "dash": "dash",
           "width": 0.5
          },
          "name": "Lockdown",
          "type": "line",
          "x0": "2020-03-15",
          "x1": "2020-03-15",
          "xref": "x",
          "y0": 0,
          "y1": 1,
          "yref": "y domain"
         },
         {
          "line": {
           "color": "green",
           "dash": "dash",
           "width": 0.5
          },
          "name": "Easening of measures",
          "type": "line",
          "x0": "2020-06-01",
          "x1": "2020-06-01",
          "xref": "x",
          "y0": 0,
          "y1": 1,
          "yref": "y domain"
         },
         {
          "line": {
           "color": "orange",
           "dash": "dash",
           "width": 0.5
          },
          "name": "Partial lockdown",
          "type": "line",
          "x0": "2020-10-14",
          "x1": "2020-10-14",
          "xref": "x",
          "y0": 0,
          "y1": 1,
          "yref": "y domain"
         },
         {
          "line": {
           "color": "red",
           "dash": "dash",
           "width": 0.5
          },
          "type": "line",
          "x0": "2020-12-14",
          "x1": "2020-12-14",
          "xref": "x",
          "y0": 0,
          "y1": 1,
          "yref": "y domain"
         },
         {
          "line": {
           "color": "green",
           "dash": "dash",
           "width": 0.5
          },
          "type": "line",
          "x0": "2021-02-08",
          "x1": "2021-02-08",
          "xref": "x",
          "y0": 0,
          "y1": 1,
          "yref": "y domain"
         },
         {
          "line": {
           "color": "red",
           "dash": "dash",
           "width": 0.5
          },
          "type": "line",
          "x0": "2021-12-19",
          "x1": "2021-12-19",
          "xref": "x",
          "y0": 0,
          "y1": 1,
          "yref": "y domain"
         },
         {
          "line": {
           "color": "green",
           "dash": "dash",
           "width": 0.5
          },
          "type": "line",
          "x0": "2022-01-10",
          "x1": "2022-01-10",
          "xref": "x",
          "y0": 0,
          "y1": 1,
          "yref": "y domain"
         }
        ],
        "template": {
         "data": {
          "bar": [
           {
            "error_x": {
             "color": "#2a3f5f"
            },
            "error_y": {
             "color": "#2a3f5f"
            },
            "marker": {
             "line": {
              "color": "#E5ECF6",
              "width": 0.5
             },
             "pattern": {
              "fillmode": "overlay",
              "size": 10,
              "solidity": 0.2
             }
            },
            "type": "bar"
           }
          ],
          "barpolar": [
           {
            "marker": {
             "line": {
              "color": "#E5ECF6",
              "width": 0.5
             },
             "pattern": {
              "fillmode": "overlay",
              "size": 10,
              "solidity": 0.2
             }
            },
            "type": "barpolar"
           }
          ],
          "carpet": [
           {
            "aaxis": {
             "endlinecolor": "#2a3f5f",
             "gridcolor": "white",
             "linecolor": "white",
             "minorgridcolor": "white",
             "startlinecolor": "#2a3f5f"
            },
            "baxis": {
             "endlinecolor": "#2a3f5f",
             "gridcolor": "white",
             "linecolor": "white",
             "minorgridcolor": "white",
             "startlinecolor": "#2a3f5f"
            },
            "type": "carpet"
           }
          ],
          "choropleth": [
           {
            "colorbar": {
             "outlinewidth": 0,
             "ticks": ""
            },
            "type": "choropleth"
           }
          ],
          "contour": [
           {
            "colorbar": {
             "outlinewidth": 0,
             "ticks": ""
            },
            "colorscale": [
             [
              0,
              "#0d0887"
             ],
             [
              0.1111111111111111,
              "#46039f"
             ],
             [
              0.2222222222222222,
              "#7201a8"
             ],
             [
              0.3333333333333333,
              "#9c179e"
             ],
             [
              0.4444444444444444,
              "#bd3786"
             ],
             [
              0.5555555555555556,
              "#d8576b"
             ],
             [
              0.6666666666666666,
              "#ed7953"
             ],
             [
              0.7777777777777778,
              "#fb9f3a"
             ],
             [
              0.8888888888888888,
              "#fdca26"
             ],
             [
              1,
              "#f0f921"
             ]
            ],
            "type": "contour"
           }
          ],
          "contourcarpet": [
           {
            "colorbar": {
             "outlinewidth": 0,
             "ticks": ""
            },
            "type": "contourcarpet"
           }
          ],
          "heatmap": [
           {
            "colorbar": {
             "outlinewidth": 0,
             "ticks": ""
            },
            "colorscale": [
             [
              0,
              "#0d0887"
             ],
             [
              0.1111111111111111,
              "#46039f"
             ],
             [
              0.2222222222222222,
              "#7201a8"
             ],
             [
              0.3333333333333333,
              "#9c179e"
             ],
             [
              0.4444444444444444,
              "#bd3786"
             ],
             [
              0.5555555555555556,
              "#d8576b"
             ],
             [
              0.6666666666666666,
              "#ed7953"
             ],
             [
              0.7777777777777778,
              "#fb9f3a"
             ],
             [
              0.8888888888888888,
              "#fdca26"
             ],
             [
              1,
              "#f0f921"
             ]
            ],
            "type": "heatmap"
           }
          ],
          "heatmapgl": [
           {
            "colorbar": {
             "outlinewidth": 0,
             "ticks": ""
            },
            "colorscale": [
             [
              0,
              "#0d0887"
             ],
             [
              0.1111111111111111,
              "#46039f"
             ],
             [
              0.2222222222222222,
              "#7201a8"
             ],
             [
              0.3333333333333333,
              "#9c179e"
             ],
             [
              0.4444444444444444,
              "#bd3786"
             ],
             [
              0.5555555555555556,
              "#d8576b"
             ],
             [
              0.6666666666666666,
              "#ed7953"
             ],
             [
              0.7777777777777778,
              "#fb9f3a"
             ],
             [
              0.8888888888888888,
              "#fdca26"
             ],
             [
              1,
              "#f0f921"
             ]
            ],
            "type": "heatmapgl"
           }
          ],
          "histogram": [
           {
            "marker": {
             "pattern": {
              "fillmode": "overlay",
              "size": 10,
              "solidity": 0.2
             }
            },
            "type": "histogram"
           }
          ],
          "histogram2d": [
           {
            "colorbar": {
             "outlinewidth": 0,
             "ticks": ""
            },
            "colorscale": [
             [
              0,
              "#0d0887"
             ],
             [
              0.1111111111111111,
              "#46039f"
             ],
             [
              0.2222222222222222,
              "#7201a8"
             ],
             [
              0.3333333333333333,
              "#9c179e"
             ],
             [
              0.4444444444444444,
              "#bd3786"
             ],
             [
              0.5555555555555556,
              "#d8576b"
             ],
             [
              0.6666666666666666,
              "#ed7953"
             ],
             [
              0.7777777777777778,
              "#fb9f3a"
             ],
             [
              0.8888888888888888,
              "#fdca26"
             ],
             [
              1,
              "#f0f921"
             ]
            ],
            "type": "histogram2d"
           }
          ],
          "histogram2dcontour": [
           {
            "colorbar": {
             "outlinewidth": 0,
             "ticks": ""
            },
            "colorscale": [
             [
              0,
              "#0d0887"
             ],
             [
              0.1111111111111111,
              "#46039f"
             ],
             [
              0.2222222222222222,
              "#7201a8"
             ],
             [
              0.3333333333333333,
              "#9c179e"
             ],
             [
              0.4444444444444444,
              "#bd3786"
             ],
             [
              0.5555555555555556,
              "#d8576b"
             ],
             [
              0.6666666666666666,
              "#ed7953"
             ],
             [
              0.7777777777777778,
              "#fb9f3a"
             ],
             [
              0.8888888888888888,
              "#fdca26"
             ],
             [
              1,
              "#f0f921"
             ]
            ],
            "type": "histogram2dcontour"
           }
          ],
          "mesh3d": [
           {
            "colorbar": {
             "outlinewidth": 0,
             "ticks": ""
            },
            "type": "mesh3d"
           }
          ],
          "parcoords": [
           {
            "line": {
             "colorbar": {
              "outlinewidth": 0,
              "ticks": ""
             }
            },
            "type": "parcoords"
           }
          ],
          "pie": [
           {
            "automargin": true,
            "type": "pie"
           }
          ],
          "scatter": [
           {
            "fillpattern": {
             "fillmode": "overlay",
             "size": 10,
             "solidity": 0.2
            },
            "type": "scatter"
           }
          ],
          "scatter3d": [
           {
            "line": {
             "colorbar": {
              "outlinewidth": 0,
              "ticks": ""
             }
            },
            "marker": {
             "colorbar": {
              "outlinewidth": 0,
              "ticks": ""
             }
            },
            "type": "scatter3d"
           }
          ],
          "scattercarpet": [
           {
            "marker": {
             "colorbar": {
              "outlinewidth": 0,
              "ticks": ""
             }
            },
            "type": "scattercarpet"
           }
          ],
          "scattergeo": [
           {
            "marker": {
             "colorbar": {
              "outlinewidth": 0,
              "ticks": ""
             }
            },
            "type": "scattergeo"
           }
          ],
          "scattergl": [
           {
            "marker": {
             "colorbar": {
              "outlinewidth": 0,
              "ticks": ""
             }
            },
            "type": "scattergl"
           }
          ],
          "scattermapbox": [
           {
            "marker": {
             "colorbar": {
              "outlinewidth": 0,
              "ticks": ""
             }
            },
            "type": "scattermapbox"
           }
          ],
          "scatterpolar": [
           {
            "marker": {
             "colorbar": {
              "outlinewidth": 0,
              "ticks": ""
             }
            },
            "type": "scatterpolar"
           }
          ],
          "scatterpolargl": [
           {
            "marker": {
             "colorbar": {
              "outlinewidth": 0,
              "ticks": ""
             }
            },
            "type": "scatterpolargl"
           }
          ],
          "scatterternary": [
           {
            "marker": {
             "colorbar": {
              "outlinewidth": 0,
              "ticks": ""
             }
            },
            "type": "scatterternary"
           }
          ],
          "surface": [
           {
            "colorbar": {
             "outlinewidth": 0,
             "ticks": ""
            },
            "colorscale": [
             [
              0,
              "#0d0887"
             ],
             [
              0.1111111111111111,
              "#46039f"
             ],
             [
              0.2222222222222222,
              "#7201a8"
             ],
             [
              0.3333333333333333,
              "#9c179e"
             ],
             [
              0.4444444444444444,
              "#bd3786"
             ],
             [
              0.5555555555555556,
              "#d8576b"
             ],
             [
              0.6666666666666666,
              "#ed7953"
             ],
             [
              0.7777777777777778,
              "#fb9f3a"
             ],
             [
              0.8888888888888888,
              "#fdca26"
             ],
             [
              1,
              "#f0f921"
             ]
            ],
            "type": "surface"
           }
          ],
          "table": [
           {
            "cells": {
             "fill": {
              "color": "#EBF0F8"
             },
             "line": {
              "color": "white"
             }
            },
            "header": {
             "fill": {
              "color": "#C8D4E3"
             },
             "line": {
              "color": "white"
             }
            },
            "type": "table"
           }
          ]
         },
         "layout": {
          "annotationdefaults": {
           "arrowcolor": "#2a3f5f",
           "arrowhead": 0,
           "arrowwidth": 1
          },
          "autotypenumbers": "strict",
          "coloraxis": {
           "colorbar": {
            "outlinewidth": 0,
            "ticks": ""
           }
          },
          "colorscale": {
           "diverging": [
            [
             0,
             "#8e0152"
            ],
            [
             0.1,
             "#c51b7d"
            ],
            [
             0.2,
             "#de77ae"
            ],
            [
             0.3,
             "#f1b6da"
            ],
            [
             0.4,
             "#fde0ef"
            ],
            [
             0.5,
             "#f7f7f7"
            ],
            [
             0.6,
             "#e6f5d0"
            ],
            [
             0.7,
             "#b8e186"
            ],
            [
             0.8,
             "#7fbc41"
            ],
            [
             0.9,
             "#4d9221"
            ],
            [
             1,
             "#276419"
            ]
           ],
           "sequential": [
            [
             0,
             "#0d0887"
            ],
            [
             0.1111111111111111,
             "#46039f"
            ],
            [
             0.2222222222222222,
             "#7201a8"
            ],
            [
             0.3333333333333333,
             "#9c179e"
            ],
            [
             0.4444444444444444,
             "#bd3786"
            ],
            [
             0.5555555555555556,
             "#d8576b"
            ],
            [
             0.6666666666666666,
             "#ed7953"
            ],
            [
             0.7777777777777778,
             "#fb9f3a"
            ],
            [
             0.8888888888888888,
             "#fdca26"
            ],
            [
             1,
             "#f0f921"
            ]
           ],
           "sequentialminus": [
            [
             0,
             "#0d0887"
            ],
            [
             0.1111111111111111,
             "#46039f"
            ],
            [
             0.2222222222222222,
             "#7201a8"
            ],
            [
             0.3333333333333333,
             "#9c179e"
            ],
            [
             0.4444444444444444,
             "#bd3786"
            ],
            [
             0.5555555555555556,
             "#d8576b"
            ],
            [
             0.6666666666666666,
             "#ed7953"
            ],
            [
             0.7777777777777778,
             "#fb9f3a"
            ],
            [
             0.8888888888888888,
             "#fdca26"
            ],
            [
             1,
             "#f0f921"
            ]
           ]
          },
          "colorway": [
           "#636efa",
           "#EF553B",
           "#00cc96",
           "#ab63fa",
           "#FFA15A",
           "#19d3f3",
           "#FF6692",
           "#B6E880",
           "#FF97FF",
           "#FECB52"
          ],
          "font": {
           "color": "#2a3f5f"
          },
          "geo": {
           "bgcolor": "white",
           "lakecolor": "white",
           "landcolor": "#E5ECF6",
           "showlakes": true,
           "showland": true,
           "subunitcolor": "white"
          },
          "hoverlabel": {
           "align": "left"
          },
          "hovermode": "closest",
          "mapbox": {
           "style": "light"
          },
          "paper_bgcolor": "white",
          "plot_bgcolor": "#E5ECF6",
          "polar": {
           "angularaxis": {
            "gridcolor": "white",
            "linecolor": "white",
            "ticks": ""
           },
           "bgcolor": "#E5ECF6",
           "radialaxis": {
            "gridcolor": "white",
            "linecolor": "white",
            "ticks": ""
           }
          },
          "scene": {
           "xaxis": {
            "backgroundcolor": "#E5ECF6",
            "gridcolor": "white",
            "gridwidth": 2,
            "linecolor": "white",
            "showbackground": true,
            "ticks": "",
            "zerolinecolor": "white"
           },
           "yaxis": {
            "backgroundcolor": "#E5ECF6",
            "gridcolor": "white",
            "gridwidth": 2,
            "linecolor": "white",
            "showbackground": true,
            "ticks": "",
            "zerolinecolor": "white"
           },
           "zaxis": {
            "backgroundcolor": "#E5ECF6",
            "gridcolor": "white",
            "gridwidth": 2,
            "linecolor": "white",
            "showbackground": true,
            "ticks": "",
            "zerolinecolor": "white"
           }
          },
          "shapedefaults": {
           "line": {
            "color": "#2a3f5f"
           }
          },
          "ternary": {
           "aaxis": {
            "gridcolor": "white",
            "linecolor": "white",
            "ticks": ""
           },
           "baxis": {
            "gridcolor": "white",
            "linecolor": "white",
            "ticks": ""
           },
           "bgcolor": "#E5ECF6",
           "caxis": {
            "gridcolor": "white",
            "linecolor": "white",
            "ticks": ""
           }
          },
          "title": {
           "x": 0.05
          },
          "xaxis": {
           "automargin": true,
           "gridcolor": "white",
           "linecolor": "white",
           "ticks": "",
           "title": {
            "standoff": 15
           },
           "zerolinecolor": "white",
           "zerolinewidth": 2
          },
          "yaxis": {
           "automargin": true,
           "gridcolor": "white",
           "linecolor": "white",
           "ticks": "",
           "title": {
            "standoff": 15
           },
           "zerolinecolor": "white",
           "zerolinewidth": 2
          }
         }
        },
        "title": {
         "text": "Covid New Cases in the Netherlands"
        },
        "xaxis": {
         "anchor": "y",
         "domain": [
          0,
          1
         ],
         "title": {
          "text": "Date"
         }
        },
        "yaxis": {
         "anchor": "x",
         "domain": [
          0,
          1
         ],
         "range": [
          0,
          130000
         ],
         "title": {
          "text": "New Cases Smoothed"
         }
        }
       }
      }
     },
     "metadata": {},
     "output_type": "display_data"
    }
   ],
   "source": [
    "fig = px.line(covid_nl_clean_df, x=\"date\", y=\"new_cases_smoothed\", animation_group=\"new_cases_smoothed\", hover_name=\"new_cases_smoothed\", range_y=[0,130000], title = \"Covid New Cases in the Netherlands\")\n",
    "fig.add_vline(x= \"2020-03-15\", line_dash = 'dash', line_width = 0.5, line_color = 'red', name='Lockdown')\n",
    "fig.add_annotation(x=\"2020-03-15\", y=1, yref=\"paper\", text=\"15 March 2020: Lockdown\")\n",
    "\n",
    "fig.add_vline(x= \"2020-06-01\", line_dash = 'dash', line_width = 0.5, line_color = 'green', name='Easening of measures')\n",
    "fig.add_annotation(x=\"2020-06-01\", y=0.7, yref=\"paper\", text=\"1 June 2020: Easening of measures\")\n",
    "\n",
    "fig.add_vline(x= \"2020-10-14\", line_dash = 'dash', line_width = 0.5, line_color = 'orange', name='Partial lockdown')\n",
    "fig.add_annotation(x=\"2020-10-14\", y=0.87, yref=\"paper\", text=\"10 Oct 2020: Partial lockdown\")\n",
    "\n",
    "fig.add_vline(x= \"2020-12-14\", line_dash = 'dash', line_width = 0.5, line_color = 'red')\n",
    "fig.add_annotation(x=\"2020-12-14\", y=1, yref=\"paper\", text=\"14 Dec 2020: Lockdown\")\n",
    "\n",
    "fig.add_vline(x= \"2021-02-08\", line_color = 'green', line_width = 0.5, line_dash ='dash')\n",
    "fig.add_annotation(x=\"2021-02-08\", y=0.7, yref=\"paper\", text=\"8 Feb 2020: Easening of measures\")\n",
    "\n",
    "fig.add_vline(x= \"2021-12-19\", line_color = 'red', line_width = 0.5, line_dash ='dash')\n",
    "fig.add_annotation(x=\"2021-12-19\", y=1, yref=\"paper\", text=\"19 Dec 2021: Lockdown\")\n",
    "\n",
    "fig.add_vline(x= \"2022-01-10\", line_color = 'green', line_width = 0.5, line_dash ='dash')\n",
    "fig.add_annotation(x=\"2022-01-10\", y=0.7, yref=\"paper\", text=\"10 Jan 2022: Easening of measures\")\n",
    "\n",
    "fig.update_layout(xaxis_title= 'Date', yaxis_title = 'New Cases Smoothed')\n",
    "fig.layout.plot_bgcolor='#f0f5f5'\n",
    "fig.show()"
   ]
  },
  {
   "cell_type": "code",
   "execution_count": 22,
   "metadata": {},
   "outputs": [
    {
     "data": {
      "application/vnd.plotly.v1+json": {
       "config": {
        "plotlyServerURL": "https://plot.ly"
       },
       "data": [
        {
         "line": {
          "color": "blue",
          "width": 2
         },
         "mode": "lines",
         "type": "scatter",
         "x": [
          "2020-03-03T00:00:00",
          "2020-03-04T00:00:00",
          "2020-03-05T00:00:00",
          "2020-03-06T00:00:00",
          "2020-03-07T00:00:00",
          "2020-03-08T00:00:00",
          "2020-03-09T00:00:00",
          "2020-03-10T00:00:00",
          "2020-03-11T00:00:00",
          "2020-03-12T00:00:00",
          "2020-03-13T00:00:00",
          "2020-03-14T00:00:00",
          "2020-03-15T00:00:00",
          "2020-03-16T00:00:00",
          "2020-03-17T00:00:00",
          "2020-03-18T00:00:00",
          "2020-03-19T00:00:00",
          "2020-03-20T00:00:00",
          "2020-03-21T00:00:00",
          "2020-03-22T00:00:00",
          "2020-03-23T00:00:00",
          "2020-03-24T00:00:00",
          "2020-03-25T00:00:00",
          "2020-03-26T00:00:00",
          "2020-03-27T00:00:00",
          "2020-03-28T00:00:00",
          "2020-03-29T00:00:00",
          "2020-03-30T00:00:00",
          "2020-03-31T00:00:00",
          "2020-04-01T00:00:00",
          "2020-04-02T00:00:00",
          "2020-04-03T00:00:00",
          "2020-04-04T00:00:00",
          "2020-04-05T00:00:00",
          "2020-04-06T00:00:00",
          "2020-04-07T00:00:00",
          "2020-04-08T00:00:00",
          "2020-04-09T00:00:00",
          "2020-04-10T00:00:00",
          "2020-04-11T00:00:00",
          "2020-04-12T00:00:00",
          "2020-04-13T00:00:00",
          "2020-04-14T00:00:00",
          "2020-04-15T00:00:00",
          "2020-04-16T00:00:00",
          "2020-04-17T00:00:00",
          "2020-04-18T00:00:00",
          "2020-04-19T00:00:00",
          "2020-04-20T00:00:00",
          "2020-04-21T00:00:00",
          "2020-04-22T00:00:00",
          "2020-04-23T00:00:00",
          "2020-04-24T00:00:00",
          "2020-04-25T00:00:00",
          "2020-04-26T00:00:00",
          "2020-04-27T00:00:00",
          "2020-04-28T00:00:00",
          "2020-04-29T00:00:00",
          "2020-04-30T00:00:00",
          "2020-05-01T00:00:00",
          "2020-05-02T00:00:00",
          "2020-05-03T00:00:00",
          "2020-05-04T00:00:00",
          "2020-05-05T00:00:00",
          "2020-05-06T00:00:00",
          "2020-05-07T00:00:00",
          "2020-05-08T00:00:00",
          "2020-05-09T00:00:00",
          "2020-05-10T00:00:00",
          "2020-05-11T00:00:00",
          "2020-05-12T00:00:00",
          "2020-05-13T00:00:00",
          "2020-05-14T00:00:00",
          "2020-05-15T00:00:00",
          "2020-05-16T00:00:00",
          "2020-05-17T00:00:00",
          "2020-05-18T00:00:00",
          "2020-05-19T00:00:00",
          "2020-05-20T00:00:00",
          "2020-05-21T00:00:00",
          "2020-05-22T00:00:00",
          "2020-05-23T00:00:00",
          "2020-05-24T00:00:00",
          "2020-05-25T00:00:00",
          "2020-05-26T00:00:00",
          "2020-05-27T00:00:00",
          "2020-05-28T00:00:00",
          "2020-05-29T00:00:00",
          "2020-05-30T00:00:00",
          "2020-05-31T00:00:00",
          "2020-06-01T00:00:00",
          "2020-06-02T00:00:00",
          "2020-06-03T00:00:00",
          "2020-06-04T00:00:00",
          "2020-06-05T00:00:00",
          "2020-06-06T00:00:00",
          "2020-06-07T00:00:00",
          "2020-06-08T00:00:00",
          "2020-06-09T00:00:00",
          "2020-06-10T00:00:00",
          "2020-06-11T00:00:00",
          "2020-06-12T00:00:00",
          "2020-06-13T00:00:00",
          "2020-06-14T00:00:00",
          "2020-06-15T00:00:00",
          "2020-06-16T00:00:00",
          "2020-06-17T00:00:00",
          "2020-06-18T00:00:00",
          "2020-06-19T00:00:00",
          "2020-06-20T00:00:00",
          "2020-06-21T00:00:00",
          "2020-06-22T00:00:00",
          "2020-06-23T00:00:00",
          "2020-06-24T00:00:00",
          "2020-06-25T00:00:00",
          "2020-06-26T00:00:00",
          "2020-06-27T00:00:00",
          "2020-06-28T00:00:00",
          "2020-06-29T00:00:00",
          "2020-06-30T00:00:00",
          "2020-07-01T00:00:00",
          "2020-07-02T00:00:00",
          "2020-07-03T00:00:00",
          "2020-07-04T00:00:00",
          "2020-07-05T00:00:00",
          "2020-07-06T00:00:00",
          "2020-07-07T00:00:00",
          "2020-07-08T00:00:00",
          "2020-07-09T00:00:00",
          "2020-07-10T00:00:00",
          "2020-07-11T00:00:00",
          "2020-07-12T00:00:00",
          "2020-07-13T00:00:00",
          "2020-07-14T00:00:00",
          "2020-07-15T00:00:00",
          "2020-07-16T00:00:00",
          "2020-07-17T00:00:00",
          "2020-07-18T00:00:00",
          "2020-07-19T00:00:00",
          "2020-07-20T00:00:00",
          "2020-07-21T00:00:00",
          "2020-07-22T00:00:00",
          "2020-07-23T00:00:00",
          "2020-07-24T00:00:00",
          "2020-07-25T00:00:00",
          "2020-07-26T00:00:00",
          "2020-07-27T00:00:00",
          "2020-07-28T00:00:00",
          "2020-07-29T00:00:00",
          "2020-07-30T00:00:00",
          "2020-07-31T00:00:00",
          "2020-08-01T00:00:00",
          "2020-08-02T00:00:00",
          "2020-08-03T00:00:00",
          "2020-08-04T00:00:00",
          "2020-08-05T00:00:00",
          "2020-08-06T00:00:00",
          "2020-08-07T00:00:00",
          "2020-08-08T00:00:00",
          "2020-08-09T00:00:00",
          "2020-08-10T00:00:00",
          "2020-08-11T00:00:00",
          "2020-08-12T00:00:00",
          "2020-08-13T00:00:00",
          "2020-08-14T00:00:00",
          "2020-08-15T00:00:00",
          "2020-08-16T00:00:00",
          "2020-08-17T00:00:00",
          "2020-08-18T00:00:00",
          "2020-08-19T00:00:00",
          "2020-08-20T00:00:00",
          "2020-08-21T00:00:00",
          "2020-08-22T00:00:00",
          "2020-08-23T00:00:00",
          "2020-08-24T00:00:00",
          "2020-08-25T00:00:00",
          "2020-08-26T00:00:00",
          "2020-08-27T00:00:00",
          "2020-08-28T00:00:00",
          "2020-08-29T00:00:00",
          "2020-08-30T00:00:00",
          "2020-08-31T00:00:00",
          "2020-09-01T00:00:00",
          "2020-09-02T00:00:00",
          "2020-09-03T00:00:00",
          "2020-09-04T00:00:00",
          "2020-09-05T00:00:00",
          "2020-09-06T00:00:00",
          "2020-09-07T00:00:00",
          "2020-09-08T00:00:00",
          "2020-09-09T00:00:00",
          "2020-09-10T00:00:00",
          "2020-09-11T00:00:00",
          "2020-09-12T00:00:00",
          "2020-09-13T00:00:00",
          "2020-09-14T00:00:00",
          "2020-09-15T00:00:00",
          "2020-09-16T00:00:00",
          "2020-09-17T00:00:00",
          "2020-09-18T00:00:00",
          "2020-09-19T00:00:00",
          "2020-09-20T00:00:00",
          "2020-09-21T00:00:00",
          "2020-09-22T00:00:00",
          "2020-09-23T00:00:00",
          "2020-09-24T00:00:00",
          "2020-09-25T00:00:00",
          "2020-09-26T00:00:00",
          "2020-09-27T00:00:00",
          "2020-09-28T00:00:00",
          "2020-09-29T00:00:00",
          "2020-09-30T00:00:00",
          "2020-10-01T00:00:00",
          "2020-10-02T00:00:00",
          "2020-10-03T00:00:00",
          "2020-10-04T00:00:00",
          "2020-10-05T00:00:00",
          "2020-10-06T00:00:00",
          "2020-10-07T00:00:00",
          "2020-10-08T00:00:00",
          "2020-10-09T00:00:00",
          "2020-10-10T00:00:00",
          "2020-10-11T00:00:00",
          "2020-10-12T00:00:00",
          "2020-10-13T00:00:00",
          "2020-10-14T00:00:00",
          "2020-10-15T00:00:00",
          "2020-10-16T00:00:00",
          "2020-10-17T00:00:00",
          "2020-10-18T00:00:00",
          "2020-10-19T00:00:00",
          "2020-10-20T00:00:00",
          "2020-10-21T00:00:00",
          "2020-10-22T00:00:00",
          "2020-10-23T00:00:00",
          "2020-10-24T00:00:00",
          "2020-10-25T00:00:00",
          "2020-10-26T00:00:00",
          "2020-10-27T00:00:00",
          "2020-10-28T00:00:00",
          "2020-10-29T00:00:00",
          "2020-10-30T00:00:00",
          "2020-10-31T00:00:00",
          "2020-11-01T00:00:00",
          "2020-11-02T00:00:00",
          "2020-11-03T00:00:00",
          "2020-11-04T00:00:00",
          "2020-11-05T00:00:00",
          "2020-11-06T00:00:00",
          "2020-11-07T00:00:00",
          "2020-11-08T00:00:00",
          "2020-11-09T00:00:00",
          "2020-11-10T00:00:00",
          "2020-11-11T00:00:00",
          "2020-11-12T00:00:00",
          "2020-11-13T00:00:00",
          "2020-11-14T00:00:00",
          "2020-11-15T00:00:00",
          "2020-11-16T00:00:00",
          "2020-11-17T00:00:00",
          "2020-11-18T00:00:00",
          "2020-11-19T00:00:00",
          "2020-11-20T00:00:00",
          "2020-11-21T00:00:00",
          "2020-11-22T00:00:00",
          "2020-11-23T00:00:00",
          "2020-11-24T00:00:00",
          "2020-11-25T00:00:00",
          "2020-11-26T00:00:00",
          "2020-11-27T00:00:00",
          "2020-11-28T00:00:00",
          "2020-11-29T00:00:00",
          "2020-11-30T00:00:00",
          "2020-12-01T00:00:00",
          "2020-12-02T00:00:00",
          "2020-12-03T00:00:00",
          "2020-12-04T00:00:00",
          "2020-12-05T00:00:00",
          "2020-12-06T00:00:00",
          "2020-12-07T00:00:00",
          "2020-12-08T00:00:00",
          "2020-12-09T00:00:00",
          "2020-12-10T00:00:00",
          "2020-12-11T00:00:00",
          "2020-12-12T00:00:00",
          "2020-12-13T00:00:00",
          "2020-12-14T00:00:00",
          "2020-12-15T00:00:00",
          "2020-12-16T00:00:00",
          "2020-12-17T00:00:00",
          "2020-12-18T00:00:00",
          "2020-12-19T00:00:00",
          "2020-12-20T00:00:00",
          "2020-12-21T00:00:00",
          "2020-12-22T00:00:00",
          "2020-12-23T00:00:00",
          "2020-12-24T00:00:00",
          "2020-12-25T00:00:00",
          "2020-12-26T00:00:00",
          "2020-12-27T00:00:00",
          "2020-12-28T00:00:00",
          "2020-12-29T00:00:00",
          "2020-12-30T00:00:00",
          "2020-12-31T00:00:00",
          "2021-01-01T00:00:00",
          "2021-01-02T00:00:00",
          "2021-01-03T00:00:00",
          "2021-01-04T00:00:00",
          "2021-01-05T00:00:00",
          "2021-01-06T00:00:00",
          "2021-01-07T00:00:00",
          "2021-01-08T00:00:00",
          "2021-01-09T00:00:00",
          "2021-01-10T00:00:00",
          "2021-01-11T00:00:00",
          "2021-01-12T00:00:00",
          "2021-01-13T00:00:00",
          "2021-01-14T00:00:00",
          "2021-01-15T00:00:00",
          "2021-01-16T00:00:00",
          "2021-01-17T00:00:00",
          "2021-01-18T00:00:00",
          "2021-01-19T00:00:00",
          "2021-01-20T00:00:00",
          "2021-01-21T00:00:00",
          "2021-01-22T00:00:00",
          "2021-01-23T00:00:00",
          "2021-01-24T00:00:00",
          "2021-01-25T00:00:00",
          "2021-01-26T00:00:00",
          "2021-01-27T00:00:00",
          "2021-01-28T00:00:00",
          "2021-01-29T00:00:00",
          "2021-01-30T00:00:00",
          "2021-01-31T00:00:00",
          "2021-02-01T00:00:00",
          "2021-02-02T00:00:00",
          "2021-02-03T00:00:00",
          "2021-02-04T00:00:00",
          "2021-02-05T00:00:00",
          "2021-02-06T00:00:00",
          "2021-02-07T00:00:00",
          "2021-02-08T00:00:00",
          "2021-02-09T00:00:00",
          "2021-02-10T00:00:00",
          "2021-02-11T00:00:00",
          "2021-02-12T00:00:00",
          "2021-02-13T00:00:00",
          "2021-02-14T00:00:00",
          "2021-02-15T00:00:00",
          "2021-02-16T00:00:00",
          "2021-02-17T00:00:00",
          "2021-02-18T00:00:00",
          "2021-02-19T00:00:00",
          "2021-02-20T00:00:00",
          "2021-02-21T00:00:00",
          "2021-02-22T00:00:00",
          "2021-02-23T00:00:00",
          "2021-02-24T00:00:00",
          "2021-02-25T00:00:00",
          "2021-02-26T00:00:00",
          "2021-02-27T00:00:00",
          "2021-02-28T00:00:00",
          "2021-03-01T00:00:00",
          "2021-03-02T00:00:00",
          "2021-03-03T00:00:00",
          "2021-03-04T00:00:00",
          "2021-03-05T00:00:00",
          "2021-03-06T00:00:00",
          "2021-03-07T00:00:00",
          "2021-03-08T00:00:00",
          "2021-03-09T00:00:00",
          "2021-03-10T00:00:00",
          "2021-03-11T00:00:00",
          "2021-03-12T00:00:00",
          "2021-03-13T00:00:00",
          "2021-03-14T00:00:00",
          "2021-03-15T00:00:00",
          "2021-03-16T00:00:00",
          "2021-03-17T00:00:00",
          "2021-03-18T00:00:00",
          "2021-03-19T00:00:00",
          "2021-03-20T00:00:00",
          "2021-03-21T00:00:00",
          "2021-03-22T00:00:00",
          "2021-03-23T00:00:00",
          "2021-03-24T00:00:00",
          "2021-03-25T00:00:00",
          "2021-03-26T00:00:00",
          "2021-03-27T00:00:00",
          "2021-03-28T00:00:00",
          "2021-03-29T00:00:00",
          "2021-03-30T00:00:00",
          "2021-03-31T00:00:00",
          "2021-04-01T00:00:00",
          "2021-04-02T00:00:00",
          "2021-04-03T00:00:00",
          "2021-04-04T00:00:00",
          "2021-04-05T00:00:00",
          "2021-04-06T00:00:00",
          "2021-04-07T00:00:00",
          "2021-04-08T00:00:00",
          "2021-04-09T00:00:00",
          "2021-04-10T00:00:00",
          "2021-04-11T00:00:00",
          "2021-04-12T00:00:00",
          "2021-04-13T00:00:00",
          "2021-04-14T00:00:00",
          "2021-04-15T00:00:00",
          "2021-04-16T00:00:00",
          "2021-04-17T00:00:00",
          "2021-04-18T00:00:00",
          "2021-04-19T00:00:00",
          "2021-04-20T00:00:00",
          "2021-04-21T00:00:00",
          "2021-04-22T00:00:00",
          "2021-04-23T00:00:00",
          "2021-04-24T00:00:00",
          "2021-04-25T00:00:00",
          "2021-04-26T00:00:00",
          "2021-04-27T00:00:00",
          "2021-04-28T00:00:00",
          "2021-04-29T00:00:00",
          "2021-04-30T00:00:00",
          "2021-05-01T00:00:00",
          "2021-05-02T00:00:00",
          "2021-05-03T00:00:00",
          "2021-05-04T00:00:00",
          "2021-05-05T00:00:00",
          "2021-05-06T00:00:00",
          "2021-05-07T00:00:00",
          "2021-05-08T00:00:00",
          "2021-05-09T00:00:00",
          "2021-05-10T00:00:00",
          "2021-05-11T00:00:00",
          "2021-05-12T00:00:00",
          "2021-05-13T00:00:00",
          "2021-05-14T00:00:00",
          "2021-05-15T00:00:00",
          "2021-05-16T00:00:00",
          "2021-05-17T00:00:00",
          "2021-05-18T00:00:00",
          "2021-05-19T00:00:00",
          "2021-05-20T00:00:00",
          "2021-05-21T00:00:00",
          "2021-05-22T00:00:00",
          "2021-05-23T00:00:00",
          "2021-05-24T00:00:00",
          "2021-05-25T00:00:00",
          "2021-05-26T00:00:00",
          "2021-05-27T00:00:00",
          "2021-05-28T00:00:00",
          "2021-05-29T00:00:00",
          "2021-05-30T00:00:00",
          "2021-05-31T00:00:00",
          "2021-06-01T00:00:00",
          "2021-06-02T00:00:00",
          "2021-06-03T00:00:00",
          "2021-06-04T00:00:00",
          "2021-06-05T00:00:00",
          "2021-06-06T00:00:00",
          "2021-06-07T00:00:00",
          "2021-06-08T00:00:00",
          "2021-06-09T00:00:00",
          "2021-06-10T00:00:00",
          "2021-06-11T00:00:00",
          "2021-06-12T00:00:00",
          "2021-06-13T00:00:00",
          "2021-06-14T00:00:00",
          "2021-06-15T00:00:00",
          "2021-06-16T00:00:00",
          "2021-06-17T00:00:00",
          "2021-06-18T00:00:00",
          "2021-06-19T00:00:00",
          "2021-06-20T00:00:00",
          "2021-06-21T00:00:00",
          "2021-06-22T00:00:00",
          "2021-06-23T00:00:00",
          "2021-06-24T00:00:00",
          "2021-06-25T00:00:00",
          "2021-06-26T00:00:00",
          "2021-06-27T00:00:00",
          "2021-06-28T00:00:00",
          "2021-06-29T00:00:00",
          "2021-06-30T00:00:00",
          "2021-07-01T00:00:00",
          "2021-07-02T00:00:00",
          "2021-07-03T00:00:00",
          "2021-07-04T00:00:00",
          "2021-07-05T00:00:00",
          "2021-07-06T00:00:00",
          "2021-07-07T00:00:00",
          "2021-07-08T00:00:00",
          "2021-07-09T00:00:00",
          "2021-07-10T00:00:00",
          "2021-07-11T00:00:00",
          "2021-07-12T00:00:00",
          "2021-07-13T00:00:00",
          "2021-07-14T00:00:00",
          "2021-07-15T00:00:00",
          "2021-07-16T00:00:00",
          "2021-07-17T00:00:00",
          "2021-07-18T00:00:00",
          "2021-07-19T00:00:00",
          "2021-07-20T00:00:00",
          "2021-07-21T00:00:00",
          "2021-07-22T00:00:00",
          "2021-07-23T00:00:00",
          "2021-07-24T00:00:00",
          "2021-07-25T00:00:00",
          "2021-07-26T00:00:00",
          "2021-07-27T00:00:00",
          "2021-07-28T00:00:00",
          "2021-07-29T00:00:00",
          "2021-07-30T00:00:00",
          "2021-07-31T00:00:00",
          "2021-08-01T00:00:00",
          "2021-08-02T00:00:00",
          "2021-08-03T00:00:00",
          "2021-08-04T00:00:00",
          "2021-08-05T00:00:00",
          "2021-08-06T00:00:00",
          "2021-08-07T00:00:00",
          "2021-08-08T00:00:00",
          "2021-08-09T00:00:00",
          "2021-08-10T00:00:00",
          "2021-08-11T00:00:00",
          "2021-08-12T00:00:00",
          "2021-08-13T00:00:00",
          "2021-08-14T00:00:00",
          "2021-08-15T00:00:00",
          "2021-08-16T00:00:00",
          "2021-08-17T00:00:00",
          "2021-08-18T00:00:00",
          "2021-08-19T00:00:00",
          "2021-08-20T00:00:00",
          "2021-08-21T00:00:00",
          "2021-08-22T00:00:00",
          "2021-08-23T00:00:00",
          "2021-08-24T00:00:00",
          "2021-08-25T00:00:00",
          "2021-08-26T00:00:00",
          "2021-08-27T00:00:00",
          "2021-08-28T00:00:00",
          "2021-08-29T00:00:00",
          "2021-08-30T00:00:00",
          "2021-08-31T00:00:00",
          "2021-09-01T00:00:00",
          "2021-09-02T00:00:00",
          "2021-09-03T00:00:00",
          "2021-09-04T00:00:00",
          "2021-09-05T00:00:00",
          "2021-09-06T00:00:00",
          "2021-09-07T00:00:00",
          "2021-09-08T00:00:00",
          "2021-09-09T00:00:00",
          "2021-09-10T00:00:00",
          "2021-09-11T00:00:00",
          "2021-09-12T00:00:00",
          "2021-09-13T00:00:00",
          "2021-09-14T00:00:00",
          "2021-09-15T00:00:00",
          "2021-09-16T00:00:00",
          "2021-09-17T00:00:00",
          "2021-09-18T00:00:00",
          "2021-09-19T00:00:00",
          "2021-09-20T00:00:00",
          "2021-09-21T00:00:00",
          "2021-09-22T00:00:00",
          "2021-09-23T00:00:00",
          "2021-09-24T00:00:00",
          "2021-09-25T00:00:00",
          "2021-09-26T00:00:00",
          "2021-09-27T00:00:00",
          "2021-09-28T00:00:00",
          "2021-09-29T00:00:00",
          "2021-09-30T00:00:00",
          "2021-10-01T00:00:00",
          "2021-10-02T00:00:00",
          "2021-10-03T00:00:00",
          "2021-10-04T00:00:00",
          "2021-10-05T00:00:00",
          "2021-10-06T00:00:00",
          "2021-10-07T00:00:00",
          "2021-10-08T00:00:00",
          "2021-10-09T00:00:00",
          "2021-10-10T00:00:00",
          "2021-10-11T00:00:00",
          "2021-10-12T00:00:00",
          "2021-10-13T00:00:00",
          "2021-10-14T00:00:00",
          "2021-10-15T00:00:00",
          "2021-10-16T00:00:00",
          "2021-10-17T00:00:00",
          "2021-10-18T00:00:00",
          "2021-10-19T00:00:00",
          "2021-10-20T00:00:00",
          "2021-10-21T00:00:00",
          "2021-10-22T00:00:00",
          "2021-10-23T00:00:00",
          "2021-10-24T00:00:00",
          "2021-10-25T00:00:00",
          "2021-10-26T00:00:00",
          "2021-10-27T00:00:00",
          "2021-10-28T00:00:00",
          "2021-10-29T00:00:00",
          "2021-10-30T00:00:00",
          "2021-10-31T00:00:00",
          "2021-11-01T00:00:00",
          "2021-11-02T00:00:00",
          "2021-11-03T00:00:00",
          "2021-11-04T00:00:00",
          "2021-11-05T00:00:00",
          "2021-11-06T00:00:00",
          "2021-11-07T00:00:00",
          "2021-11-08T00:00:00",
          "2021-11-09T00:00:00",
          "2021-11-10T00:00:00",
          "2021-11-11T00:00:00",
          "2021-11-12T00:00:00",
          "2021-11-13T00:00:00",
          "2021-11-14T00:00:00",
          "2021-11-15T00:00:00",
          "2021-11-16T00:00:00",
          "2021-11-17T00:00:00",
          "2021-11-18T00:00:00",
          "2021-11-19T00:00:00",
          "2021-11-20T00:00:00",
          "2021-11-21T00:00:00",
          "2021-11-22T00:00:00",
          "2021-11-23T00:00:00",
          "2021-11-24T00:00:00",
          "2021-11-25T00:00:00",
          "2021-11-26T00:00:00",
          "2021-11-27T00:00:00",
          "2021-11-28T00:00:00",
          "2021-11-29T00:00:00",
          "2021-11-30T00:00:00",
          "2021-12-01T00:00:00",
          "2021-12-02T00:00:00",
          "2021-12-03T00:00:00",
          "2021-12-04T00:00:00",
          "2021-12-05T00:00:00",
          "2021-12-06T00:00:00",
          "2021-12-07T00:00:00",
          "2021-12-08T00:00:00",
          "2021-12-09T00:00:00",
          "2021-12-10T00:00:00",
          "2021-12-11T00:00:00",
          "2021-12-12T00:00:00",
          "2021-12-13T00:00:00",
          "2021-12-14T00:00:00",
          "2021-12-15T00:00:00",
          "2021-12-16T00:00:00",
          "2021-12-17T00:00:00",
          "2021-12-18T00:00:00",
          "2021-12-19T00:00:00",
          "2021-12-20T00:00:00",
          "2021-12-21T00:00:00",
          "2021-12-22T00:00:00",
          "2021-12-23T00:00:00",
          "2021-12-24T00:00:00",
          "2021-12-25T00:00:00",
          "2021-12-26T00:00:00",
          "2021-12-27T00:00:00",
          "2021-12-28T00:00:00",
          "2021-12-29T00:00:00",
          "2021-12-30T00:00:00",
          "2021-12-31T00:00:00",
          "2022-01-01T00:00:00",
          "2022-01-02T00:00:00",
          "2022-01-03T00:00:00",
          "2022-01-04T00:00:00",
          "2022-01-05T00:00:00",
          "2022-01-06T00:00:00",
          "2022-01-07T00:00:00",
          "2022-01-08T00:00:00",
          "2022-01-09T00:00:00",
          "2022-01-10T00:00:00",
          "2022-01-11T00:00:00",
          "2022-01-12T00:00:00",
          "2022-01-13T00:00:00",
          "2022-01-14T00:00:00",
          "2022-01-15T00:00:00",
          "2022-01-16T00:00:00",
          "2022-01-17T00:00:00",
          "2022-01-18T00:00:00",
          "2022-01-19T00:00:00",
          "2022-01-20T00:00:00",
          "2022-01-21T00:00:00",
          "2022-01-22T00:00:00",
          "2022-01-23T00:00:00",
          "2022-01-24T00:00:00",
          "2022-01-25T00:00:00",
          "2022-01-26T00:00:00",
          "2022-01-27T00:00:00",
          "2022-01-28T00:00:00",
          "2022-01-29T00:00:00",
          "2022-01-30T00:00:00",
          "2022-01-31T00:00:00",
          "2022-02-01T00:00:00",
          "2022-02-02T00:00:00",
          "2022-02-03T00:00:00",
          "2022-02-04T00:00:00",
          "2022-02-05T00:00:00",
          "2022-02-06T00:00:00",
          "2022-02-07T00:00:00",
          "2022-02-08T00:00:00",
          "2022-02-09T00:00:00",
          "2022-02-10T00:00:00",
          "2022-02-11T00:00:00",
          "2022-02-12T00:00:00",
          "2022-02-13T00:00:00",
          "2022-02-14T00:00:00",
          "2022-02-15T00:00:00",
          "2022-02-16T00:00:00",
          "2022-02-17T00:00:00",
          "2022-02-18T00:00:00",
          "2022-02-19T00:00:00",
          "2022-02-20T00:00:00",
          "2022-02-21T00:00:00",
          "2022-02-22T00:00:00",
          "2022-02-23T00:00:00",
          "2022-02-24T00:00:00",
          "2022-02-25T00:00:00",
          "2022-02-26T00:00:00",
          "2022-02-27T00:00:00",
          "2022-02-28T00:00:00",
          "2022-03-01T00:00:00",
          "2022-03-02T00:00:00",
          "2022-03-03T00:00:00",
          "2022-03-04T00:00:00",
          "2022-03-05T00:00:00",
          "2022-03-06T00:00:00",
          "2022-03-07T00:00:00",
          "2022-03-08T00:00:00",
          "2022-03-09T00:00:00",
          "2022-03-10T00:00:00",
          "2022-03-11T00:00:00",
          "2022-03-12T00:00:00",
          "2022-03-13T00:00:00",
          "2022-03-14T00:00:00",
          "2022-03-15T00:00:00",
          "2022-03-16T00:00:00",
          "2022-03-17T00:00:00",
          "2022-03-18T00:00:00",
          "2022-03-19T00:00:00",
          "2022-03-20T00:00:00",
          "2022-03-21T00:00:00",
          "2022-03-22T00:00:00",
          "2022-03-23T00:00:00",
          "2022-03-24T00:00:00",
          "2022-03-25T00:00:00",
          "2022-03-26T00:00:00",
          "2022-03-27T00:00:00",
          "2022-03-28T00:00:00",
          "2022-03-29T00:00:00",
          "2022-03-30T00:00:00",
          "2022-03-31T00:00:00",
          "2022-04-01T00:00:00",
          "2022-04-02T00:00:00",
          "2022-04-03T00:00:00",
          "2022-04-04T00:00:00",
          "2022-04-05T00:00:00",
          "2022-04-06T00:00:00",
          "2022-04-07T00:00:00",
          "2022-04-08T00:00:00",
          "2022-04-09T00:00:00",
          "2022-04-10T00:00:00",
          "2022-04-11T00:00:00",
          "2022-04-12T00:00:00",
          "2022-04-13T00:00:00",
          "2022-04-14T00:00:00",
          "2022-04-15T00:00:00",
          "2022-04-16T00:00:00",
          "2022-04-17T00:00:00",
          "2022-04-18T00:00:00",
          "2022-04-19T00:00:00",
          "2022-04-20T00:00:00",
          "2022-04-21T00:00:00",
          "2022-04-22T00:00:00",
          "2022-04-23T00:00:00",
          "2022-04-24T00:00:00",
          "2022-04-25T00:00:00",
          "2022-04-26T00:00:00",
          "2022-04-27T00:00:00",
          "2022-04-28T00:00:00",
          "2022-04-29T00:00:00",
          "2022-04-30T00:00:00",
          "2022-05-01T00:00:00",
          "2022-05-02T00:00:00",
          "2022-05-03T00:00:00",
          "2022-05-04T00:00:00",
          "2022-05-05T00:00:00",
          "2022-05-06T00:00:00",
          "2022-05-07T00:00:00",
          "2022-05-08T00:00:00",
          "2022-05-09T00:00:00",
          "2022-05-10T00:00:00",
          "2022-05-11T00:00:00",
          "2022-05-12T00:00:00",
          "2022-05-13T00:00:00",
          "2022-05-14T00:00:00",
          "2022-05-15T00:00:00",
          "2022-05-16T00:00:00",
          "2022-05-17T00:00:00",
          "2022-05-18T00:00:00",
          "2022-05-19T00:00:00",
          "2022-05-20T00:00:00",
          "2022-05-21T00:00:00",
          "2022-05-22T00:00:00",
          "2022-05-23T00:00:00",
          "2022-05-24T00:00:00",
          "2022-05-25T00:00:00",
          "2022-05-26T00:00:00",
          "2022-05-27T00:00:00",
          "2022-05-28T00:00:00",
          "2022-05-29T00:00:00",
          "2022-05-30T00:00:00",
          "2022-05-31T00:00:00",
          "2022-06-01T00:00:00",
          "2022-06-02T00:00:00",
          "2022-06-03T00:00:00",
          "2022-06-04T00:00:00",
          "2022-06-05T00:00:00",
          "2022-06-06T00:00:00",
          "2022-06-07T00:00:00",
          "2022-06-08T00:00:00",
          "2022-06-09T00:00:00",
          "2022-06-10T00:00:00",
          "2022-06-11T00:00:00",
          "2022-06-12T00:00:00",
          "2022-06-13T00:00:00",
          "2022-06-14T00:00:00",
          "2022-06-15T00:00:00",
          "2022-06-16T00:00:00",
          "2022-06-17T00:00:00",
          "2022-06-18T00:00:00",
          "2022-06-19T00:00:00",
          "2022-06-20T00:00:00",
          "2022-06-21T00:00:00",
          "2022-06-22T00:00:00",
          "2022-06-23T00:00:00",
          "2022-06-24T00:00:00",
          "2022-06-25T00:00:00",
          "2022-06-26T00:00:00",
          "2022-06-27T00:00:00",
          "2022-06-28T00:00:00",
          "2022-06-29T00:00:00",
          "2022-06-30T00:00:00",
          "2022-07-01T00:00:00",
          "2022-07-02T00:00:00",
          "2022-07-03T00:00:00",
          "2022-07-04T00:00:00",
          "2022-07-05T00:00:00",
          "2022-07-06T00:00:00",
          "2022-07-07T00:00:00",
          "2022-07-08T00:00:00",
          "2022-07-09T00:00:00",
          "2022-07-10T00:00:00",
          "2022-07-11T00:00:00",
          "2022-07-12T00:00:00",
          "2022-07-13T00:00:00",
          "2022-07-14T00:00:00",
          "2022-07-15T00:00:00",
          "2022-07-16T00:00:00",
          "2022-07-17T00:00:00",
          "2022-07-18T00:00:00",
          "2022-07-19T00:00:00",
          "2022-07-20T00:00:00",
          "2022-07-21T00:00:00",
          "2022-07-22T00:00:00",
          "2022-07-23T00:00:00",
          "2022-07-24T00:00:00",
          "2022-07-25T00:00:00",
          "2022-07-26T00:00:00",
          "2022-07-27T00:00:00",
          "2022-07-28T00:00:00",
          "2022-07-29T00:00:00",
          "2022-07-30T00:00:00",
          "2022-07-31T00:00:00",
          "2022-08-01T00:00:00",
          "2022-08-02T00:00:00",
          "2022-08-03T00:00:00",
          "2022-08-04T00:00:00",
          "2022-08-05T00:00:00",
          "2022-08-06T00:00:00",
          "2022-08-07T00:00:00",
          "2022-08-08T00:00:00",
          "2022-08-09T00:00:00",
          "2022-08-10T00:00:00",
          "2022-08-11T00:00:00",
          "2022-08-12T00:00:00",
          "2022-08-13T00:00:00",
          "2022-08-14T00:00:00",
          "2022-08-15T00:00:00",
          "2022-08-16T00:00:00",
          "2022-08-17T00:00:00",
          "2022-08-18T00:00:00",
          "2022-08-19T00:00:00",
          "2022-08-20T00:00:00",
          "2022-08-21T00:00:00",
          "2022-08-22T00:00:00",
          "2022-08-23T00:00:00",
          "2022-08-24T00:00:00",
          "2022-08-25T00:00:00",
          "2022-08-26T00:00:00",
          "2022-08-27T00:00:00",
          "2022-08-28T00:00:00",
          "2022-08-29T00:00:00",
          "2022-08-30T00:00:00",
          "2022-08-31T00:00:00",
          "2022-09-01T00:00:00",
          "2022-09-02T00:00:00",
          "2022-09-03T00:00:00",
          "2022-09-04T00:00:00",
          "2022-09-05T00:00:00",
          "2022-09-06T00:00:00",
          "2022-09-07T00:00:00",
          "2022-09-08T00:00:00",
          "2022-09-09T00:00:00",
          "2022-09-10T00:00:00",
          "2022-09-11T00:00:00",
          "2022-09-12T00:00:00",
          "2022-09-13T00:00:00",
          "2022-09-14T00:00:00",
          "2022-09-15T00:00:00",
          "2022-09-16T00:00:00",
          "2022-09-17T00:00:00",
          "2022-09-18T00:00:00",
          "2022-09-19T00:00:00",
          "2022-09-20T00:00:00",
          "2022-09-21T00:00:00",
          "2022-09-22T00:00:00",
          "2022-09-23T00:00:00",
          "2022-09-24T00:00:00",
          "2022-09-25T00:00:00",
          "2022-09-26T00:00:00",
          "2022-09-27T00:00:00",
          "2022-09-28T00:00:00",
          "2022-09-29T00:00:00",
          "2022-09-30T00:00:00",
          "2022-10-01T00:00:00",
          "2022-10-02T00:00:00",
          "2022-10-03T00:00:00"
         ],
         "y": [
          5.429,
          11.714,
          18.143,
          26,
          36.429,
          43.286,
          51.143,
          66.429,
          74.429,
          96.571,
          110.143,
          124.286,
          156,
          189,
          221.143,
          265.286,
          312.857,
          381.857,
          438.571,
          476.714,
          551,
          623.286,
          710.571,
          801.714,
          876.143,
          952,
          1000.857,
          1005.571,
          1029.429,
          1039.857,
          1019.286,
          983.571,
          1000.714,
          1010.286,
          1002.286,
          995.571,
          1012.714,
          1057,
          1116.143,
          1109,
          1110.429,
          1121.714,
          1088,
          1066.429,
          1052.286,
          1026.143,
          1011.714,
          981.571,
          961.714,
          957.714,
          933.286,
          871.714,
          802.429,
          742.714,
          692.429,
          612.714,
          566.857,
          513,
          465.429,
          435.571,
          389.857,
          361,
          381.857,
          359.714,
          351.286,
          329,
          306.571,
          293.714,
          288.286,
          271,
          270.286,
          243.857,
          226.857,
          212.571,
          195.571,
          193.429,
          180.857,
          176.714,
          174.286,
          172.571,
          170.714,
          177.286,
          186.286,
          189.857,
          188.714,
          178.571,
          176.857,
          170.429,
          172.286,
          157.143,
          152.714,
          137.857,
          141.714,
          146.571,
          154,
          161.714,
          170.571,
          179.429,
          193.429,
          187,
          187,
          186.429,
          172.714,
          172.714,
          169.143,
          159.571,
          152.571,
          137.857,
          123.143,
          115.714,
          101.429,
          90.714,
          85.714,
          85,
          82.714,
          81.714,
          79.143,
          80.714,
          78.714,
          75.857,
          71.143,
          68.857,
          67.714,
          67.857,
          62.143,
          60.286,
          58.857,
          55.286,
          50.571,
          53.429,
          57.286,
          62.286,
          64.571,
          72.286,
          79,
          87.714,
          94.429,
          100.571,
          116.857,
          132.571,
          141.429,
          150.571,
          163.429,
          165.143,
          184.857,
          182.286,
          190.857,
          202.143,
          227.857,
          250.143,
          292,
          304,
          335.857,
          373.857,
          399.429,
          437.143,
          464.286,
          471.857,
          502.143,
          538.143,
          501.143,
          614.429,
          616.286,
          632.286,
          657.286,
          651.571,
          631.143,
          669.429,
          575.143,
          564.286,
          548.429,
          526.571,
          517.143,
          531.857,
          521.714,
          523.429,
          523.429,
          519,
          518,
          523.143,
          514.714,
          522,
          546.143,
          556.143,
          591,
          613.857,
          673.429,
          709.714,
          779.857,
          838.571,
          868.857,
          942.714,
          1024.286,
          1047.714,
          1121.857,
          1180.429,
          1236.286,
          1369.857,
          1471.571,
          1566.429,
          1675.714,
          1804.429,
          1929.143,
          2046,
          2161,
          2274.857,
          2392.857,
          2556.714,
          2657.857,
          2766.429,
          2901.857,
          3001,
          3150.571,
          3329.286,
          3473,
          3709.429,
          3927,
          4167.571,
          4534.857,
          4841.429,
          5202.857,
          5541.429,
          5865.429,
          6271.571,
          6600.714,
          6882.143,
          7170.714,
          7402.143,
          7660.429,
          7824.429,
          7937.286,
          8144,
          8355.857,
          8642.143,
          8718.571,
          9007.286,
          9343.143,
          9647.286,
          9556.143,
          9698,
          9858.429,
          10024.571,
          9807.571,
          9513.857,
          9150.857,
          9085.571,
          8614,
          8061.143,
          7611.143,
          7180.571,
          6665.286,
          6224.857,
          5906.429,
          5715,
          5550.143,
          5443.286,
          5406.143,
          5428.429,
          5376.286,
          5262.714,
          5265.429,
          5243.571,
          5266,
          5264.286,
          5313,
          5259.143,
          5301,
          5134,
          5106.286,
          4876.429,
          4904,
          4816.429,
          4833.286,
          4834.286,
          4994.714,
          5017.429,
          5312.429,
          5484.429,
          5841.429,
          6143.286,
          6373.286,
          6821.143,
          7242.143,
          7609,
          8050.857,
          8249.429,
          8319.143,
          8984.143,
          9561.571,
          10003.714,
          10451.429,
          10901.286,
          11289.286,
          11742.143,
          11631.143,
          11448.429,
          11384.571,
          11044.286,
          10478.571,
          9941.714,
          9613.143,
          9470,
          9210.714,
          8739.714,
          8560.714,
          8321,
          8199.286,
          8030.857,
          7706.286,
          7698.143,
          7689.286,
          7509.429,
          7396.571,
          7232.857,
          7025.857,
          6877.571,
          6427.429,
          6125.714,
          5829.714,
          5684.857,
          5592.286,
          5505.571,
          5425.286,
          5327.571,
          5287.286,
          5309.857,
          5208.857,
          5105.571,
          5053.714,
          4939,
          4781.714,
          4584,
          4408,
          4238.714,
          4116.143,
          4067,
          3966,
          3895.714,
          3891.143,
          3875,
          3908.571,
          3770.429,
          3509.857,
          3391.143,
          3420.714,
          3423.714,
          3440.143,
          3370,
          3454.714,
          3590.429,
          3615.571,
          3631.571,
          3685.571,
          3738.571,
          3913.429,
          4106,
          4263.429,
          4405.429,
          4475.143,
          4529.714,
          4582.286,
          4581.857,
          4525,
          4550.429,
          4640.571,
          4512.571,
          4449.143,
          4506,
          4485.714,
          4495.714,
          4540.429,
          4579.857,
          4752,
          4945.857,
          5097.714,
          5304.143,
          5537.714,
          5624.571,
          5717.857,
          5833.143,
          6025.714,
          6197,
          6338.857,
          6452,
          6546,
          6782.571,
          7008,
          7035.286,
          7206.571,
          7274.429,
          7339.714,
          7378.143,
          7385.286,
          7404.143,
          7360,
          7192.857,
          7104.286,
          6904.571,
          6863,
          6681,
          6674.286,
          6728.286,
          6736.286,
          6936.143,
          7129.714,
          7293.143,
          7154.571,
          7290.143,
          7471,
          7557.286,
          7598.286,
          7661.429,
          7681.286,
          8122.143,
          8246.429,
          8290.571,
          8258.286,
          8187.714,
          8056.714,
          7845,
          7869.857,
          7536.286,
          7328.857,
          6999.857,
          6641.857,
          7068.571,
          7410.429,
          7213.857,
          7144.571,
          7105.571,
          7340.286,
          7491,
          7015.429,
          6699.143,
          6568.857,
          6458.143,
          6176.714,
          5755.143,
          5452,
          5019.286,
          4992.857,
          4736.143,
          4541,
          4348.571,
          4165.857,
          4020.286,
          4001.857,
          3591.286,
          3335.571,
          3147.714,
          3104,
          3134.857,
          3034.429,
          2940.857,
          2920.571,
          2884.429,
          2798.571,
          2589.286,
          2409.143,
          2241.714,
          2147.429,
          2019.429,
          1905.714,
          1739.143,
          1594.571,
          1463.857,
          1392.143,
          1316,
          1261.429,
          1161.714,
          1091.143,
          1021.143,
          946.429,
          898.143,
          856.286,
          806.143,
          753.571,
          700.429,
          665.429,
          646.857,
          617,
          616.714,
          596.571,
          593.143,
          611.143,
          652.714,
          733.571,
          836.286,
          973.714,
          1211.714,
          1642.286,
          2300,
          3155.143,
          4463.429,
          5621.429,
          6610.286,
          7411.429,
          8380.857,
          9173.571,
          9798.286,
          9905.857,
          10022.571,
          10084.429,
          9925.571,
          9421.571,
          8744.286,
          8044,
          7220.143,
          6427.714,
          5710.143,
          5318.857,
          4826.571,
          4567.714,
          4140,
          3806.571,
          3479.571,
          3228.571,
          2973,
          2881,
          2731.429,
          2666.571,
          2593.714,
          2595.714,
          2586,
          2582.714,
          2489.286,
          2378.571,
          2345.714,
          2334,
          2329.857,
          2361.714,
          2382.429,
          2476.143,
          2471.429,
          2406,
          2419.286,
          2442.714,
          2462.857,
          2481.571,
          2494,
          2503.714,
          2591.286,
          2593.286,
          2575,
          2547.286,
          2534.857,
          2529.286,
          2551.857,
          2508.143,
          2545.714,
          2552.714,
          2541.143,
          2559.857,
          2553.143,
          2495.286,
          2515.857,
          2442.286,
          2106.286,
          2351.429,
          2286.857,
          2223.429,
          2181,
          2103.429,
          2077.571,
          2312,
          1957.143,
          1908.714,
          1844.857,
          1807.714,
          1740.286,
          1682.286,
          1675.143,
          1680.857,
          1686.429,
          1665.571,
          1646.286,
          1651.286,
          1659.143,
          1660,
          1695.857,
          1720.714,
          1736.714,
          1887.571,
          2038.857,
          2159.429,
          2250.714,
          2405.143,
          2545.714,
          2808.286,
          2933.286,
          3065.286,
          3235.714,
          3438.429,
          3529.143,
          3673.714,
          3795,
          4019.571,
          4327.143,
          4609.571,
          4983.714,
          5261.143,
          5525.429,
          5908.571,
          6262.714,
          6480.143,
          6803.857,
          7072.143,
          7414.714,
          7697.857,
          7961.857,
          8323.143,
          8826,
          9399.714,
          9853.286,
          10440.571,
          10948.857,
          11454,
          12322.857,
          13079,
          13348.429,
          13445.714,
          14501.714,
          15771.571,
          16931,
          17973.429,
          18663.143,
          19798.857,
          21029.714,
          21573.286,
          21970.143,
          22391.429,
          22190.857,
          22226.429,
          22259.714,
          22472.429,
          22249.714,
          22136.429,
          21394.429,
          21517.143,
          21552.571,
          21635.857,
          21771.143,
          21702.857,
          21096.857,
          21032.286,
          20563.571,
          19984.857,
          19285.143,
          18357.429,
          17332,
          16594.714,
          15941.286,
          15450.143,
          15148.857,
          14706,
          14233.286,
          14000,
          13508,
          13488,
          13064.143,
          12645.143,
          12355.714,
          12156.714,
          12053.571,
          12033.429,
          12385.429,
          12587.714,
          13213,
          13659.143,
          14472.857,
          14916.286,
          16249.286,
          17546.429,
          18979.857,
          21559.714,
          23366,
          25494.857,
          27442.714,
          28947.429,
          29997,
          31286,
          31492.571,
          31992,
          32567.286,
          34593.143,
          30444.714,
          35794.857,
          36681,
          39717,
          41759,
          45881.286,
          49070.571,
          56807.714,
          55237,
          58739.429,
          61099.143,
          60141.571,
          61549.143,
          68342,
          75721.714,
          76907.286,
          79526,
          78790,
          78888.714,
          81699.286,
          76755.286,
          115981.143,
          118775.429,
          119333,
          121003.571,
          125321,
          120359.714,
          117130,
          70432.857,
          67193,
          62848.571,
          58371.286,
          53121.571,
          49732.286,
          47014.571,
          44322.143,
          35196.714,
          32938.571,
          31780.714,
          32342.571,
          31836.571,
          30607.429,
          29778.143,
          34991.571,
          36122.714,
          38565.571,
          42961.286,
          47862.714,
          53493.571,
          58577.429,
          62825.714,
          66505.286,
          68824.429,
          68949.286,
          67926.571,
          65861.286,
          63210.714,
          61305.429,
          59308.143,
          56329.714,
          54191.714,
          51536.143,
          49033.429,
          47036.429,
          45273.714,
          42777,
          40695.429,
          37948.857,
          36046.714,
          34646,
          33159.714,
          31751,
          29607.429,
          27656.857,
          25765.143,
          24166,
          22360.143,
          20825.286,
          18445.571,
          16339.571,
          14544.857,
          12990.714,
          11984.571,
          11241.857,
          10650.857,
          9546.429,
          8389.714,
          7220.286,
          6258.286,
          5342.143,
          4722.143,
          4070.571,
          3527.286,
          3324.143,
          3087.143,
          2869.714,
          2662.571,
          2484.286,
          2388.714,
          2296.857,
          2044.714,
          1789.286,
          1654.857,
          1590.714,
          1548,
          1534.429,
          1518,
          1507,
          1567.143,
          1513.857,
          1497.571,
          1489.429,
          1457.571,
          1434.143,
          1393.429,
          1359,
          1353.429,
          1331.286,
          1299,
          1260.857,
          1222.143,
          1194,
          1195.143,
          1163.429,
          1142.143,
          1107.286,
          1095.286,
          1077.857,
          1058,
          1003.857,
          984,
          943,
          951.857,
          987.571,
          995.714,
          1040.571,
          1108.857,
          1188.429,
          1266.714,
          1325.714,
          1324.286,
          1360.714,
          1418.429,
          1546.143,
          1656.857,
          1451.286,
          1274.286,
          2017.143,
          2213.143,
          2447.143,
          2695.286,
          2927.143,
          2927.143,
          2927.143,
          3509.286,
          3783.429,
          3985,
          4176.571,
          4363.429,
          4363.429,
          4363.429,
          4738.714,
          4879.429,
          5085.857,
          5229.429,
          5359.429,
          5359.429,
          5359.429,
          5485.429,
          5610.429,
          5633.143,
          5745.143,
          5834.571,
          5834.571,
          5834.571,
          6070.571,
          6179.143,
          6232.857,
          6198.571,
          6172,
          6172,
          6172,
          5831.857,
          5496,
          5167,
          4801,
          4531.429,
          4531.429,
          4531.429,
          4088,
          4004.571,
          3949.429,
          3833.714,
          3634.143,
          3634.143,
          3634.143,
          3262.571,
          3097.429,
          2925.857,
          2747.857,
          2639,
          2639,
          2639,
          2288.857,
          2126.857,
          2013,
          1916.429,
          1832.143,
          1832.143,
          1832.143,
          1708.429,
          1670.857,
          1608.143,
          1404.857,
          1487.714,
          1487.714,
          1487.714,
          1352.571,
          1274.143,
          1215.286,
          1338.286,
          1151.714,
          1151.714,
          1151.714,
          1117.571,
          1104.714,
          1094.571,
          1261,
          1096.143,
          1259.143,
          1385.429,
          1096.286,
          1121.714,
          950.714,
          612.857,
          1187.857,
          1024.857,
          898.571,
          784.143,
          1189.429,
          1189.429,
          1189.429,
          1229.857,
          1229.857,
          1229.857,
          1229.857,
          1258.286,
          1258.286,
          1258.286,
          1411.714,
          1411.714,
          1411.714,
          1412.286,
          1751.857,
          1751.857,
          1751.857,
          2200.857,
          2200.857,
          2200.857,
          2200.571
         ]
        },
        {
         "line": {
          "color": "blue",
          "width": 2
         },
         "mode": "lines",
         "type": "scatter",
         "x": [
          "2020-03-03T00:00:00",
          "2020-03-04T00:00:00",
          "2020-03-05T00:00:00",
          "2020-03-06T00:00:00",
          "2020-03-07T00:00:00",
          "2020-03-08T00:00:00",
          "2020-03-09T00:00:00",
          "2020-03-10T00:00:00",
          "2020-03-11T00:00:00",
          "2020-03-12T00:00:00",
          "2020-03-13T00:00:00",
          "2020-03-14T00:00:00",
          "2020-03-15T00:00:00",
          "2020-03-16T00:00:00",
          "2020-03-17T00:00:00",
          "2020-03-18T00:00:00",
          "2020-03-19T00:00:00",
          "2020-03-20T00:00:00",
          "2020-03-21T00:00:00",
          "2020-03-22T00:00:00",
          "2020-03-23T00:00:00",
          "2020-03-24T00:00:00",
          "2020-03-25T00:00:00",
          "2020-03-26T00:00:00",
          "2020-03-27T00:00:00",
          "2020-03-28T00:00:00",
          "2020-03-29T00:00:00",
          "2020-03-30T00:00:00",
          "2020-03-31T00:00:00",
          "2020-04-01T00:00:00",
          "2020-04-02T00:00:00",
          "2020-04-03T00:00:00",
          "2020-04-04T00:00:00",
          "2020-04-05T00:00:00",
          "2020-04-06T00:00:00",
          "2020-04-07T00:00:00",
          "2020-04-08T00:00:00",
          "2020-04-09T00:00:00",
          "2020-04-10T00:00:00",
          "2020-04-11T00:00:00",
          "2020-04-12T00:00:00",
          "2020-04-13T00:00:00",
          "2020-04-14T00:00:00",
          "2020-04-15T00:00:00",
          "2020-04-16T00:00:00",
          "2020-04-17T00:00:00",
          "2020-04-18T00:00:00",
          "2020-04-19T00:00:00",
          "2020-04-20T00:00:00",
          "2020-04-21T00:00:00",
          "2020-04-22T00:00:00",
          "2020-04-23T00:00:00",
          "2020-04-24T00:00:00",
          "2020-04-25T00:00:00",
          "2020-04-26T00:00:00",
          "2020-04-27T00:00:00",
          "2020-04-28T00:00:00",
          "2020-04-29T00:00:00",
          "2020-04-30T00:00:00",
          "2020-05-01T00:00:00",
          "2020-05-02T00:00:00",
          "2020-05-03T00:00:00",
          "2020-05-04T00:00:00",
          "2020-05-05T00:00:00",
          "2020-05-06T00:00:00",
          "2020-05-07T00:00:00",
          "2020-05-08T00:00:00",
          "2020-05-09T00:00:00",
          "2020-05-10T00:00:00",
          "2020-05-11T00:00:00",
          "2020-05-12T00:00:00",
          "2020-05-13T00:00:00",
          "2020-05-14T00:00:00",
          "2020-05-15T00:00:00",
          "2020-05-16T00:00:00",
          "2020-05-17T00:00:00",
          "2020-05-18T00:00:00",
          "2020-05-19T00:00:00",
          "2020-05-20T00:00:00",
          "2020-05-21T00:00:00",
          "2020-05-22T00:00:00",
          "2020-05-23T00:00:00",
          "2020-05-24T00:00:00",
          "2020-05-25T00:00:00",
          "2020-05-26T00:00:00",
          "2020-05-27T00:00:00",
          "2020-05-28T00:00:00",
          "2020-05-29T00:00:00",
          "2020-05-30T00:00:00",
          "2020-05-31T00:00:00",
          "2020-06-01T00:00:00",
          "2020-06-02T00:00:00",
          "2020-06-03T00:00:00",
          "2020-06-04T00:00:00",
          "2020-06-05T00:00:00",
          "2020-06-06T00:00:00",
          "2020-06-07T00:00:00",
          "2020-06-08T00:00:00",
          "2020-06-09T00:00:00",
          "2020-06-10T00:00:00",
          "2020-06-11T00:00:00",
          "2020-06-12T00:00:00",
          "2020-06-13T00:00:00",
          "2020-06-14T00:00:00",
          "2020-06-15T00:00:00",
          "2020-06-16T00:00:00",
          "2020-06-17T00:00:00",
          "2020-06-18T00:00:00",
          "2020-06-19T00:00:00",
          "2020-06-20T00:00:00",
          "2020-06-21T00:00:00",
          "2020-06-22T00:00:00",
          "2020-06-23T00:00:00",
          "2020-06-24T00:00:00",
          "2020-06-25T00:00:00",
          "2020-06-26T00:00:00",
          "2020-06-27T00:00:00",
          "2020-06-28T00:00:00",
          "2020-06-29T00:00:00",
          "2020-06-30T00:00:00",
          "2020-07-01T00:00:00",
          "2020-07-02T00:00:00",
          "2020-07-03T00:00:00",
          "2020-07-04T00:00:00",
          "2020-07-05T00:00:00",
          "2020-07-06T00:00:00",
          "2020-07-07T00:00:00",
          "2020-07-08T00:00:00",
          "2020-07-09T00:00:00",
          "2020-07-10T00:00:00",
          "2020-07-11T00:00:00",
          "2020-07-12T00:00:00",
          "2020-07-13T00:00:00",
          "2020-07-14T00:00:00",
          "2020-07-15T00:00:00",
          "2020-07-16T00:00:00",
          "2020-07-17T00:00:00",
          "2020-07-18T00:00:00",
          "2020-07-19T00:00:00",
          "2020-07-20T00:00:00",
          "2020-07-21T00:00:00",
          "2020-07-22T00:00:00",
          "2020-07-23T00:00:00",
          "2020-07-24T00:00:00",
          "2020-07-25T00:00:00",
          "2020-07-26T00:00:00",
          "2020-07-27T00:00:00",
          "2020-07-28T00:00:00",
          "2020-07-29T00:00:00",
          "2020-07-30T00:00:00",
          "2020-07-31T00:00:00",
          "2020-08-01T00:00:00",
          "2020-08-02T00:00:00",
          "2020-08-03T00:00:00",
          "2020-08-04T00:00:00",
          "2020-08-05T00:00:00",
          "2020-08-06T00:00:00",
          "2020-08-07T00:00:00",
          "2020-08-08T00:00:00",
          "2020-08-09T00:00:00",
          "2020-08-10T00:00:00",
          "2020-08-11T00:00:00",
          "2020-08-12T00:00:00",
          "2020-08-13T00:00:00",
          "2020-08-14T00:00:00",
          "2020-08-15T00:00:00",
          "2020-08-16T00:00:00",
          "2020-08-17T00:00:00",
          "2020-08-18T00:00:00",
          "2020-08-19T00:00:00",
          "2020-08-20T00:00:00",
          "2020-08-21T00:00:00",
          "2020-08-22T00:00:00",
          "2020-08-23T00:00:00",
          "2020-08-24T00:00:00",
          "2020-08-25T00:00:00",
          "2020-08-26T00:00:00",
          "2020-08-27T00:00:00",
          "2020-08-28T00:00:00",
          "2020-08-29T00:00:00",
          "2020-08-30T00:00:00",
          "2020-08-31T00:00:00",
          "2020-09-01T00:00:00",
          "2020-09-02T00:00:00",
          "2020-09-03T00:00:00",
          "2020-09-04T00:00:00",
          "2020-09-05T00:00:00",
          "2020-09-06T00:00:00",
          "2020-09-07T00:00:00",
          "2020-09-08T00:00:00",
          "2020-09-09T00:00:00",
          "2020-09-10T00:00:00",
          "2020-09-11T00:00:00",
          "2020-09-12T00:00:00",
          "2020-09-13T00:00:00",
          "2020-09-14T00:00:00",
          "2020-09-15T00:00:00",
          "2020-09-16T00:00:00",
          "2020-09-17T00:00:00",
          "2020-09-18T00:00:00",
          "2020-09-19T00:00:00",
          "2020-09-20T00:00:00",
          "2020-09-21T00:00:00",
          "2020-09-22T00:00:00",
          "2020-09-23T00:00:00",
          "2020-09-24T00:00:00",
          "2020-09-25T00:00:00",
          "2020-09-26T00:00:00",
          "2020-09-27T00:00:00",
          "2020-09-28T00:00:00",
          "2020-09-29T00:00:00",
          "2020-09-30T00:00:00",
          "2020-10-01T00:00:00",
          "2020-10-02T00:00:00",
          "2020-10-03T00:00:00",
          "2020-10-04T00:00:00",
          "2020-10-05T00:00:00",
          "2020-10-06T00:00:00",
          "2020-10-07T00:00:00",
          "2020-10-08T00:00:00",
          "2020-10-09T00:00:00",
          "2020-10-10T00:00:00",
          "2020-10-11T00:00:00",
          "2020-10-12T00:00:00",
          "2020-10-13T00:00:00",
          "2020-10-14T00:00:00",
          "2020-10-15T00:00:00",
          "2020-10-16T00:00:00",
          "2020-10-17T00:00:00",
          "2020-10-18T00:00:00",
          "2020-10-19T00:00:00",
          "2020-10-20T00:00:00",
          "2020-10-21T00:00:00",
          "2020-10-22T00:00:00",
          "2020-10-23T00:00:00",
          "2020-10-24T00:00:00",
          "2020-10-25T00:00:00",
          "2020-10-26T00:00:00",
          "2020-10-27T00:00:00",
          "2020-10-28T00:00:00",
          "2020-10-29T00:00:00",
          "2020-10-30T00:00:00",
          "2020-10-31T00:00:00",
          "2020-11-01T00:00:00",
          "2020-11-02T00:00:00",
          "2020-11-03T00:00:00",
          "2020-11-04T00:00:00",
          "2020-11-05T00:00:00",
          "2020-11-06T00:00:00",
          "2020-11-07T00:00:00",
          "2020-11-08T00:00:00",
          "2020-11-09T00:00:00",
          "2020-11-10T00:00:00",
          "2020-11-11T00:00:00",
          "2020-11-12T00:00:00",
          "2020-11-13T00:00:00",
          "2020-11-14T00:00:00",
          "2020-11-15T00:00:00",
          "2020-11-16T00:00:00",
          "2020-11-17T00:00:00",
          "2020-11-18T00:00:00",
          "2020-11-19T00:00:00",
          "2020-11-20T00:00:00",
          "2020-11-21T00:00:00",
          "2020-11-22T00:00:00",
          "2020-11-23T00:00:00",
          "2020-11-24T00:00:00",
          "2020-11-25T00:00:00",
          "2020-11-26T00:00:00",
          "2020-11-27T00:00:00",
          "2020-11-28T00:00:00",
          "2020-11-29T00:00:00",
          "2020-11-30T00:00:00",
          "2020-12-01T00:00:00",
          "2020-12-02T00:00:00",
          "2020-12-03T00:00:00",
          "2020-12-04T00:00:00",
          "2020-12-05T00:00:00",
          "2020-12-06T00:00:00",
          "2020-12-07T00:00:00",
          "2020-12-08T00:00:00",
          "2020-12-09T00:00:00",
          "2020-12-10T00:00:00",
          "2020-12-11T00:00:00",
          "2020-12-12T00:00:00",
          "2020-12-13T00:00:00",
          "2020-12-14T00:00:00",
          "2020-12-15T00:00:00",
          "2020-12-16T00:00:00",
          "2020-12-17T00:00:00",
          "2020-12-18T00:00:00",
          "2020-12-19T00:00:00",
          "2020-12-20T00:00:00",
          "2020-12-21T00:00:00",
          "2020-12-22T00:00:00",
          "2020-12-23T00:00:00",
          "2020-12-24T00:00:00",
          "2020-12-25T00:00:00",
          "2020-12-26T00:00:00",
          "2020-12-27T00:00:00",
          "2020-12-28T00:00:00",
          "2020-12-29T00:00:00",
          "2020-12-30T00:00:00",
          "2020-12-31T00:00:00",
          "2021-01-01T00:00:00",
          "2021-01-02T00:00:00",
          "2021-01-03T00:00:00",
          "2021-01-04T00:00:00",
          "2021-01-05T00:00:00",
          "2021-01-06T00:00:00",
          "2021-01-07T00:00:00",
          "2021-01-08T00:00:00",
          "2021-01-09T00:00:00",
          "2021-01-10T00:00:00",
          "2021-01-11T00:00:00",
          "2021-01-12T00:00:00",
          "2021-01-13T00:00:00",
          "2021-01-14T00:00:00",
          "2021-01-15T00:00:00",
          "2021-01-16T00:00:00",
          "2021-01-17T00:00:00",
          "2021-01-18T00:00:00",
          "2021-01-19T00:00:00",
          "2021-01-20T00:00:00",
          "2021-01-21T00:00:00",
          "2021-01-22T00:00:00",
          "2021-01-23T00:00:00",
          "2021-01-24T00:00:00",
          "2021-01-25T00:00:00",
          "2021-01-26T00:00:00",
          "2021-01-27T00:00:00",
          "2021-01-28T00:00:00",
          "2021-01-29T00:00:00",
          "2021-01-30T00:00:00",
          "2021-01-31T00:00:00",
          "2021-02-01T00:00:00",
          "2021-02-02T00:00:00",
          "2021-02-03T00:00:00",
          "2021-02-04T00:00:00",
          "2021-02-05T00:00:00",
          "2021-02-06T00:00:00",
          "2021-02-07T00:00:00",
          "2021-02-08T00:00:00",
          "2021-02-09T00:00:00",
          "2021-02-10T00:00:00",
          "2021-02-11T00:00:00",
          "2021-02-12T00:00:00",
          "2021-02-13T00:00:00",
          "2021-02-14T00:00:00",
          "2021-02-15T00:00:00",
          "2021-02-16T00:00:00",
          "2021-02-17T00:00:00",
          "2021-02-18T00:00:00",
          "2021-02-19T00:00:00",
          "2021-02-20T00:00:00",
          "2021-02-21T00:00:00",
          "2021-02-22T00:00:00",
          "2021-02-23T00:00:00",
          "2021-02-24T00:00:00",
          "2021-02-25T00:00:00",
          "2021-02-26T00:00:00",
          "2021-02-27T00:00:00",
          "2021-02-28T00:00:00",
          "2021-03-01T00:00:00",
          "2021-03-02T00:00:00",
          "2021-03-03T00:00:00",
          "2021-03-04T00:00:00",
          "2021-03-05T00:00:00",
          "2021-03-06T00:00:00",
          "2021-03-07T00:00:00",
          "2021-03-08T00:00:00",
          "2021-03-09T00:00:00",
          "2021-03-10T00:00:00",
          "2021-03-11T00:00:00",
          "2021-03-12T00:00:00",
          "2021-03-13T00:00:00",
          "2021-03-14T00:00:00",
          "2021-03-15T00:00:00",
          "2021-03-16T00:00:00",
          "2021-03-17T00:00:00",
          "2021-03-18T00:00:00",
          "2021-03-19T00:00:00",
          "2021-03-20T00:00:00",
          "2021-03-21T00:00:00",
          "2021-03-22T00:00:00",
          "2021-03-23T00:00:00",
          "2021-03-24T00:00:00",
          "2021-03-25T00:00:00",
          "2021-03-26T00:00:00",
          "2021-03-27T00:00:00",
          "2021-03-28T00:00:00",
          "2021-03-29T00:00:00",
          "2021-03-30T00:00:00",
          "2021-03-31T00:00:00",
          "2021-04-01T00:00:00",
          "2021-04-02T00:00:00",
          "2021-04-03T00:00:00",
          "2021-04-04T00:00:00",
          "2021-04-05T00:00:00",
          "2021-04-06T00:00:00",
          "2021-04-07T00:00:00",
          "2021-04-08T00:00:00",
          "2021-04-09T00:00:00",
          "2021-04-10T00:00:00",
          "2021-04-11T00:00:00",
          "2021-04-12T00:00:00",
          "2021-04-13T00:00:00",
          "2021-04-14T00:00:00",
          "2021-04-15T00:00:00",
          "2021-04-16T00:00:00",
          "2021-04-17T00:00:00",
          "2021-04-18T00:00:00",
          "2021-04-19T00:00:00",
          "2021-04-20T00:00:00",
          "2021-04-21T00:00:00",
          "2021-04-22T00:00:00",
          "2021-04-23T00:00:00",
          "2021-04-24T00:00:00",
          "2021-04-25T00:00:00",
          "2021-04-26T00:00:00",
          "2021-04-27T00:00:00",
          "2021-04-28T00:00:00",
          "2021-04-29T00:00:00",
          "2021-04-30T00:00:00",
          "2021-05-01T00:00:00",
          "2021-05-02T00:00:00",
          "2021-05-03T00:00:00",
          "2021-05-04T00:00:00",
          "2021-05-05T00:00:00",
          "2021-05-06T00:00:00",
          "2021-05-07T00:00:00",
          "2021-05-08T00:00:00",
          "2021-05-09T00:00:00",
          "2021-05-10T00:00:00",
          "2021-05-11T00:00:00",
          "2021-05-12T00:00:00",
          "2021-05-13T00:00:00",
          "2021-05-14T00:00:00",
          "2021-05-15T00:00:00",
          "2021-05-16T00:00:00",
          "2021-05-17T00:00:00",
          "2021-05-18T00:00:00",
          "2021-05-19T00:00:00",
          "2021-05-20T00:00:00",
          "2021-05-21T00:00:00",
          "2021-05-22T00:00:00",
          "2021-05-23T00:00:00",
          "2021-05-24T00:00:00",
          "2021-05-25T00:00:00",
          "2021-05-26T00:00:00",
          "2021-05-27T00:00:00",
          "2021-05-28T00:00:00",
          "2021-05-29T00:00:00",
          "2021-05-30T00:00:00",
          "2021-05-31T00:00:00",
          "2021-06-01T00:00:00",
          "2021-06-02T00:00:00",
          "2021-06-03T00:00:00",
          "2021-06-04T00:00:00",
          "2021-06-05T00:00:00",
          "2021-06-06T00:00:00",
          "2021-06-07T00:00:00",
          "2021-06-08T00:00:00",
          "2021-06-09T00:00:00",
          "2021-06-10T00:00:00",
          "2021-06-11T00:00:00",
          "2021-06-12T00:00:00",
          "2021-06-13T00:00:00",
          "2021-06-14T00:00:00",
          "2021-06-15T00:00:00",
          "2021-06-16T00:00:00",
          "2021-06-17T00:00:00",
          "2021-06-18T00:00:00",
          "2021-06-19T00:00:00",
          "2021-06-20T00:00:00",
          "2021-06-21T00:00:00",
          "2021-06-22T00:00:00",
          "2021-06-23T00:00:00",
          "2021-06-24T00:00:00",
          "2021-06-25T00:00:00",
          "2021-06-26T00:00:00",
          "2021-06-27T00:00:00",
          "2021-06-28T00:00:00",
          "2021-06-29T00:00:00",
          "2021-06-30T00:00:00",
          "2021-07-01T00:00:00",
          "2021-07-02T00:00:00",
          "2021-07-03T00:00:00",
          "2021-07-04T00:00:00",
          "2021-07-05T00:00:00",
          "2021-07-06T00:00:00",
          "2021-07-07T00:00:00",
          "2021-07-08T00:00:00",
          "2021-07-09T00:00:00",
          "2021-07-10T00:00:00",
          "2021-07-11T00:00:00",
          "2021-07-12T00:00:00",
          "2021-07-13T00:00:00",
          "2021-07-14T00:00:00",
          "2021-07-15T00:00:00",
          "2021-07-16T00:00:00",
          "2021-07-17T00:00:00",
          "2021-07-18T00:00:00",
          "2021-07-19T00:00:00",
          "2021-07-20T00:00:00",
          "2021-07-21T00:00:00",
          "2021-07-22T00:00:00",
          "2021-07-23T00:00:00",
          "2021-07-24T00:00:00",
          "2021-07-25T00:00:00",
          "2021-07-26T00:00:00",
          "2021-07-27T00:00:00",
          "2021-07-28T00:00:00",
          "2021-07-29T00:00:00",
          "2021-07-30T00:00:00",
          "2021-07-31T00:00:00",
          "2021-08-01T00:00:00",
          "2021-08-02T00:00:00",
          "2021-08-03T00:00:00",
          "2021-08-04T00:00:00",
          "2021-08-05T00:00:00",
          "2021-08-06T00:00:00",
          "2021-08-07T00:00:00",
          "2021-08-08T00:00:00",
          "2021-08-09T00:00:00",
          "2021-08-10T00:00:00",
          "2021-08-11T00:00:00",
          "2021-08-12T00:00:00",
          "2021-08-13T00:00:00",
          "2021-08-14T00:00:00",
          "2021-08-15T00:00:00",
          "2021-08-16T00:00:00",
          "2021-08-17T00:00:00",
          "2021-08-18T00:00:00",
          "2021-08-19T00:00:00",
          "2021-08-20T00:00:00",
          "2021-08-21T00:00:00",
          "2021-08-22T00:00:00",
          "2021-08-23T00:00:00",
          "2021-08-24T00:00:00",
          "2021-08-25T00:00:00",
          "2021-08-26T00:00:00",
          "2021-08-27T00:00:00",
          "2021-08-28T00:00:00",
          "2021-08-29T00:00:00",
          "2021-08-30T00:00:00",
          "2021-08-31T00:00:00",
          "2021-09-01T00:00:00",
          "2021-09-02T00:00:00",
          "2021-09-03T00:00:00",
          "2021-09-04T00:00:00",
          "2021-09-05T00:00:00",
          "2021-09-06T00:00:00",
          "2021-09-07T00:00:00",
          "2021-09-08T00:00:00",
          "2021-09-09T00:00:00",
          "2021-09-10T00:00:00",
          "2021-09-11T00:00:00",
          "2021-09-12T00:00:00",
          "2021-09-13T00:00:00",
          "2021-09-14T00:00:00",
          "2021-09-15T00:00:00",
          "2021-09-16T00:00:00",
          "2021-09-17T00:00:00",
          "2021-09-18T00:00:00",
          "2021-09-19T00:00:00",
          "2021-09-20T00:00:00",
          "2021-09-21T00:00:00",
          "2021-09-22T00:00:00",
          "2021-09-23T00:00:00",
          "2021-09-24T00:00:00",
          "2021-09-25T00:00:00",
          "2021-09-26T00:00:00",
          "2021-09-27T00:00:00",
          "2021-09-28T00:00:00",
          "2021-09-29T00:00:00",
          "2021-09-30T00:00:00",
          "2021-10-01T00:00:00",
          "2021-10-02T00:00:00",
          "2021-10-03T00:00:00",
          "2021-10-04T00:00:00",
          "2021-10-05T00:00:00",
          "2021-10-06T00:00:00",
          "2021-10-07T00:00:00",
          "2021-10-08T00:00:00",
          "2021-10-09T00:00:00",
          "2021-10-10T00:00:00",
          "2021-10-11T00:00:00",
          "2021-10-12T00:00:00",
          "2021-10-13T00:00:00",
          "2021-10-14T00:00:00",
          "2021-10-15T00:00:00",
          "2021-10-16T00:00:00",
          "2021-10-17T00:00:00",
          "2021-10-18T00:00:00",
          "2021-10-19T00:00:00",
          "2021-10-20T00:00:00",
          "2021-10-21T00:00:00",
          "2021-10-22T00:00:00",
          "2021-10-23T00:00:00",
          "2021-10-24T00:00:00",
          "2021-10-25T00:00:00",
          "2021-10-26T00:00:00",
          "2021-10-27T00:00:00",
          "2021-10-28T00:00:00",
          "2021-10-29T00:00:00",
          "2021-10-30T00:00:00",
          "2021-10-31T00:00:00",
          "2021-11-01T00:00:00",
          "2021-11-02T00:00:00",
          "2021-11-03T00:00:00",
          "2021-11-04T00:00:00",
          "2021-11-05T00:00:00",
          "2021-11-06T00:00:00",
          "2021-11-07T00:00:00",
          "2021-11-08T00:00:00",
          "2021-11-09T00:00:00",
          "2021-11-10T00:00:00",
          "2021-11-11T00:00:00",
          "2021-11-12T00:00:00",
          "2021-11-13T00:00:00",
          "2021-11-14T00:00:00",
          "2021-11-15T00:00:00",
          "2021-11-16T00:00:00",
          "2021-11-17T00:00:00",
          "2021-11-18T00:00:00",
          "2021-11-19T00:00:00",
          "2021-11-20T00:00:00",
          "2021-11-21T00:00:00",
          "2021-11-22T00:00:00",
          "2021-11-23T00:00:00",
          "2021-11-24T00:00:00",
          "2021-11-25T00:00:00",
          "2021-11-26T00:00:00",
          "2021-11-27T00:00:00",
          "2021-11-28T00:00:00",
          "2021-11-29T00:00:00",
          "2021-11-30T00:00:00",
          "2021-12-01T00:00:00",
          "2021-12-02T00:00:00",
          "2021-12-03T00:00:00",
          "2021-12-04T00:00:00",
          "2021-12-05T00:00:00",
          "2021-12-06T00:00:00",
          "2021-12-07T00:00:00",
          "2021-12-08T00:00:00",
          "2021-12-09T00:00:00",
          "2021-12-10T00:00:00",
          "2021-12-11T00:00:00",
          "2021-12-12T00:00:00",
          "2021-12-13T00:00:00",
          "2021-12-14T00:00:00",
          "2021-12-15T00:00:00",
          "2021-12-16T00:00:00",
          "2021-12-17T00:00:00",
          "2021-12-18T00:00:00",
          "2021-12-19T00:00:00",
          "2021-12-20T00:00:00",
          "2021-12-21T00:00:00",
          "2021-12-22T00:00:00",
          "2021-12-23T00:00:00",
          "2021-12-24T00:00:00",
          "2021-12-25T00:00:00",
          "2021-12-26T00:00:00",
          "2021-12-27T00:00:00",
          "2021-12-28T00:00:00",
          "2021-12-29T00:00:00",
          "2021-12-30T00:00:00",
          "2021-12-31T00:00:00",
          "2022-01-01T00:00:00",
          "2022-01-02T00:00:00",
          "2022-01-03T00:00:00",
          "2022-01-04T00:00:00",
          "2022-01-05T00:00:00",
          "2022-01-06T00:00:00",
          "2022-01-07T00:00:00",
          "2022-01-08T00:00:00",
          "2022-01-09T00:00:00",
          "2022-01-10T00:00:00",
          "2022-01-11T00:00:00",
          "2022-01-12T00:00:00",
          "2022-01-13T00:00:00",
          "2022-01-14T00:00:00",
          "2022-01-15T00:00:00",
          "2022-01-16T00:00:00",
          "2022-01-17T00:00:00",
          "2022-01-18T00:00:00",
          "2022-01-19T00:00:00",
          "2022-01-20T00:00:00",
          "2022-01-21T00:00:00",
          "2022-01-22T00:00:00",
          "2022-01-23T00:00:00",
          "2022-01-24T00:00:00",
          "2022-01-25T00:00:00",
          "2022-01-26T00:00:00",
          "2022-01-27T00:00:00",
          "2022-01-28T00:00:00",
          "2022-01-29T00:00:00",
          "2022-01-30T00:00:00",
          "2022-01-31T00:00:00",
          "2022-02-01T00:00:00",
          "2022-02-02T00:00:00",
          "2022-02-03T00:00:00",
          "2022-02-04T00:00:00",
          "2022-02-05T00:00:00",
          "2022-02-06T00:00:00",
          "2022-02-07T00:00:00",
          "2022-02-08T00:00:00",
          "2022-02-09T00:00:00",
          "2022-02-10T00:00:00",
          "2022-02-11T00:00:00",
          "2022-02-12T00:00:00",
          "2022-02-13T00:00:00",
          "2022-02-14T00:00:00",
          "2022-02-15T00:00:00",
          "2022-02-16T00:00:00",
          "2022-02-17T00:00:00",
          "2022-02-18T00:00:00",
          "2022-02-19T00:00:00",
          "2022-02-20T00:00:00",
          "2022-02-21T00:00:00",
          "2022-02-22T00:00:00",
          "2022-02-23T00:00:00",
          "2022-02-24T00:00:00",
          "2022-02-25T00:00:00",
          "2022-02-26T00:00:00",
          "2022-02-27T00:00:00",
          "2022-02-28T00:00:00",
          "2022-03-01T00:00:00",
          "2022-03-02T00:00:00",
          "2022-03-03T00:00:00",
          "2022-03-04T00:00:00",
          "2022-03-05T00:00:00",
          "2022-03-06T00:00:00",
          "2022-03-07T00:00:00",
          "2022-03-08T00:00:00",
          "2022-03-09T00:00:00",
          "2022-03-10T00:00:00",
          "2022-03-11T00:00:00",
          "2022-03-12T00:00:00",
          "2022-03-13T00:00:00",
          "2022-03-14T00:00:00",
          "2022-03-15T00:00:00",
          "2022-03-16T00:00:00",
          "2022-03-17T00:00:00",
          "2022-03-18T00:00:00",
          "2022-03-19T00:00:00",
          "2022-03-20T00:00:00",
          "2022-03-21T00:00:00",
          "2022-03-22T00:00:00",
          "2022-03-23T00:00:00",
          "2022-03-24T00:00:00",
          "2022-03-25T00:00:00",
          "2022-03-26T00:00:00",
          "2022-03-27T00:00:00",
          "2022-03-28T00:00:00",
          "2022-03-29T00:00:00",
          "2022-03-30T00:00:00",
          "2022-03-31T00:00:00",
          "2022-04-01T00:00:00",
          "2022-04-02T00:00:00",
          "2022-04-03T00:00:00",
          "2022-04-04T00:00:00",
          "2022-04-05T00:00:00",
          "2022-04-06T00:00:00",
          "2022-04-07T00:00:00",
          "2022-04-08T00:00:00",
          "2022-04-09T00:00:00",
          "2022-04-10T00:00:00",
          "2022-04-11T00:00:00",
          "2022-04-12T00:00:00",
          "2022-04-13T00:00:00",
          "2022-04-14T00:00:00",
          "2022-04-15T00:00:00",
          "2022-04-16T00:00:00",
          "2022-04-17T00:00:00",
          "2022-04-18T00:00:00",
          "2022-04-19T00:00:00",
          "2022-04-20T00:00:00",
          "2022-04-21T00:00:00",
          "2022-04-22T00:00:00",
          "2022-04-23T00:00:00",
          "2022-04-24T00:00:00",
          "2022-04-25T00:00:00",
          "2022-04-26T00:00:00",
          "2022-04-27T00:00:00",
          "2022-04-28T00:00:00",
          "2022-04-29T00:00:00",
          "2022-04-30T00:00:00",
          "2022-05-01T00:00:00",
          "2022-05-02T00:00:00",
          "2022-05-03T00:00:00",
          "2022-05-04T00:00:00",
          "2022-05-05T00:00:00",
          "2022-05-06T00:00:00",
          "2022-05-07T00:00:00",
          "2022-05-08T00:00:00",
          "2022-05-09T00:00:00",
          "2022-05-10T00:00:00",
          "2022-05-11T00:00:00",
          "2022-05-12T00:00:00",
          "2022-05-13T00:00:00",
          "2022-05-14T00:00:00",
          "2022-05-15T00:00:00",
          "2022-05-16T00:00:00",
          "2022-05-17T00:00:00",
          "2022-05-18T00:00:00",
          "2022-05-19T00:00:00",
          "2022-05-20T00:00:00",
          "2022-05-21T00:00:00",
          "2022-05-22T00:00:00",
          "2022-05-23T00:00:00",
          "2022-05-24T00:00:00",
          "2022-05-25T00:00:00",
          "2022-05-26T00:00:00",
          "2022-05-27T00:00:00",
          "2022-05-28T00:00:00",
          "2022-05-29T00:00:00",
          "2022-05-30T00:00:00",
          "2022-05-31T00:00:00",
          "2022-06-01T00:00:00",
          "2022-06-02T00:00:00",
          "2022-06-03T00:00:00",
          "2022-06-04T00:00:00",
          "2022-06-05T00:00:00",
          "2022-06-06T00:00:00",
          "2022-06-07T00:00:00",
          "2022-06-08T00:00:00",
          "2022-06-09T00:00:00",
          "2022-06-10T00:00:00",
          "2022-06-11T00:00:00",
          "2022-06-12T00:00:00",
          "2022-06-13T00:00:00",
          "2022-06-14T00:00:00",
          "2022-06-15T00:00:00",
          "2022-06-16T00:00:00",
          "2022-06-17T00:00:00",
          "2022-06-18T00:00:00",
          "2022-06-19T00:00:00",
          "2022-06-20T00:00:00",
          "2022-06-21T00:00:00",
          "2022-06-22T00:00:00",
          "2022-06-23T00:00:00",
          "2022-06-24T00:00:00",
          "2022-06-25T00:00:00",
          "2022-06-26T00:00:00",
          "2022-06-27T00:00:00",
          "2022-06-28T00:00:00",
          "2022-06-29T00:00:00",
          "2022-06-30T00:00:00",
          "2022-07-01T00:00:00",
          "2022-07-02T00:00:00",
          "2022-07-03T00:00:00",
          "2022-07-04T00:00:00",
          "2022-07-05T00:00:00",
          "2022-07-06T00:00:00",
          "2022-07-07T00:00:00",
          "2022-07-08T00:00:00",
          "2022-07-09T00:00:00",
          "2022-07-10T00:00:00",
          "2022-07-11T00:00:00",
          "2022-07-12T00:00:00",
          "2022-07-13T00:00:00",
          "2022-07-14T00:00:00",
          "2022-07-15T00:00:00",
          "2022-07-16T00:00:00",
          "2022-07-17T00:00:00",
          "2022-07-18T00:00:00",
          "2022-07-19T00:00:00",
          "2022-07-20T00:00:00",
          "2022-07-21T00:00:00",
          "2022-07-22T00:00:00",
          "2022-07-23T00:00:00",
          "2022-07-24T00:00:00",
          "2022-07-25T00:00:00",
          "2022-07-26T00:00:00",
          "2022-07-27T00:00:00",
          "2022-07-28T00:00:00",
          "2022-07-29T00:00:00",
          "2022-07-30T00:00:00",
          "2022-07-31T00:00:00",
          "2022-08-01T00:00:00",
          "2022-08-02T00:00:00",
          "2022-08-03T00:00:00",
          "2022-08-04T00:00:00",
          "2022-08-05T00:00:00",
          "2022-08-06T00:00:00",
          "2022-08-07T00:00:00",
          "2022-08-08T00:00:00",
          "2022-08-09T00:00:00",
          "2022-08-10T00:00:00",
          "2022-08-11T00:00:00",
          "2022-08-12T00:00:00",
          "2022-08-13T00:00:00",
          "2022-08-14T00:00:00",
          "2022-08-15T00:00:00",
          "2022-08-16T00:00:00",
          "2022-08-17T00:00:00",
          "2022-08-18T00:00:00",
          "2022-08-19T00:00:00",
          "2022-08-20T00:00:00",
          "2022-08-21T00:00:00",
          "2022-08-22T00:00:00",
          "2022-08-23T00:00:00",
          "2022-08-24T00:00:00",
          "2022-08-25T00:00:00",
          "2022-08-26T00:00:00",
          "2022-08-27T00:00:00",
          "2022-08-28T00:00:00",
          "2022-08-29T00:00:00",
          "2022-08-30T00:00:00",
          "2022-08-31T00:00:00",
          "2022-09-01T00:00:00",
          "2022-09-02T00:00:00",
          "2022-09-03T00:00:00",
          "2022-09-04T00:00:00",
          "2022-09-05T00:00:00",
          "2022-09-06T00:00:00",
          "2022-09-07T00:00:00",
          "2022-09-08T00:00:00",
          "2022-09-09T00:00:00",
          "2022-09-10T00:00:00",
          "2022-09-11T00:00:00",
          "2022-09-12T00:00:00",
          "2022-09-13T00:00:00",
          "2022-09-14T00:00:00",
          "2022-09-15T00:00:00",
          "2022-09-16T00:00:00",
          "2022-09-17T00:00:00",
          "2022-09-18T00:00:00",
          "2022-09-19T00:00:00",
          "2022-09-20T00:00:00",
          "2022-09-21T00:00:00",
          "2022-09-22T00:00:00",
          "2022-09-23T00:00:00",
          "2022-09-24T00:00:00",
          "2022-09-25T00:00:00",
          "2022-09-26T00:00:00",
          "2022-09-27T00:00:00",
          "2022-09-28T00:00:00",
          "2022-09-29T00:00:00",
          "2022-09-30T00:00:00",
          "2022-10-01T00:00:00",
          "2022-10-02T00:00:00",
          "2022-10-03T00:00:00"
         ],
         "y": [
          5.429,
          11.714,
          18.143,
          26,
          36.429,
          43.286,
          51.143,
          66.429,
          74.429,
          96.571,
          110.143,
          124.286,
          156,
          189,
          221.143,
          265.286,
          312.857,
          381.857,
          438.571,
          476.714,
          551,
          623.286,
          710.571,
          801.714,
          876.143,
          952,
          1000.857,
          1005.571,
          1029.429,
          1039.857,
          1019.286,
          983.571,
          1000.714,
          1010.286,
          1002.286,
          995.571,
          1012.714,
          1057,
          1116.143,
          1109,
          1110.429,
          1121.714,
          1088,
          1066.429,
          1052.286,
          1026.143,
          1011.714,
          981.571,
          961.714,
          957.714,
          933.286,
          871.714,
          802.429,
          742.714,
          692.429,
          612.714,
          566.857,
          513,
          465.429,
          435.571,
          389.857,
          361,
          381.857,
          359.714,
          351.286,
          329,
          306.571,
          293.714,
          288.286,
          271,
          270.286,
          243.857,
          226.857,
          212.571,
          195.571,
          193.429,
          180.857,
          176.714,
          174.286,
          172.571,
          170.714,
          177.286,
          186.286,
          189.857,
          188.714,
          178.571,
          176.857,
          170.429,
          172.286,
          157.143,
          152.714,
          137.857,
          141.714,
          146.571,
          154,
          161.714,
          170.571,
          179.429,
          193.429,
          187,
          187,
          186.429,
          172.714,
          172.714,
          169.143,
          159.571,
          152.571,
          137.857,
          123.143,
          115.714,
          101.429,
          90.714,
          85.714,
          85,
          82.714,
          81.714,
          79.143,
          80.714,
          78.714,
          75.857,
          71.143,
          68.857,
          67.714,
          67.857,
          62.143,
          60.286,
          58.857,
          55.286,
          50.571,
          53.429,
          57.286,
          62.286,
          64.571,
          72.286,
          79,
          87.714,
          94.429,
          100.571,
          116.857,
          132.571,
          141.429,
          150.571,
          163.429,
          165.143,
          184.857,
          182.286,
          190.857,
          202.143,
          227.857,
          250.143,
          292,
          304,
          335.857,
          373.857,
          399.429,
          437.143,
          464.286,
          471.857,
          502.143,
          538.143,
          501.143,
          614.429,
          616.286,
          632.286,
          657.286,
          651.571,
          631.143,
          669.429,
          575.143,
          564.286,
          548.429,
          526.571,
          517.143,
          531.857,
          521.714,
          523.429,
          523.429,
          519,
          518,
          523.143,
          514.714,
          522,
          546.143,
          556.143,
          591,
          613.857,
          673.429,
          709.714,
          779.857,
          838.571,
          868.857,
          942.714,
          1024.286,
          1047.714,
          1121.857,
          1180.429,
          1236.286,
          1369.857,
          1471.571,
          1566.429,
          1675.714,
          1804.429,
          1929.143,
          2046,
          2161,
          2274.857,
          2392.857,
          2556.714,
          2657.857,
          2766.429,
          2901.857,
          3001,
          3150.571,
          3329.286,
          3473,
          3709.429,
          3927,
          4167.571,
          4534.857,
          4841.429,
          5202.857,
          5541.429,
          5865.429,
          6271.571,
          6600.714,
          6882.143,
          7170.714,
          7402.143,
          7660.429,
          7824.429,
          7937.286,
          8144,
          8355.857,
          8642.143,
          8718.571,
          9007.286,
          9343.143,
          9647.286,
          9556.143,
          9698,
          9858.429,
          10024.571,
          9807.571,
          9513.857,
          9150.857,
          9085.571,
          8614,
          8061.143,
          7611.143,
          7180.571,
          6665.286,
          6224.857,
          5906.429,
          5715,
          5550.143,
          5443.286,
          5406.143,
          5428.429,
          5376.286,
          5262.714,
          5265.429,
          5243.571,
          5266,
          5264.286,
          5313,
          5259.143,
          5301,
          5134,
          5106.286,
          4876.429,
          4904,
          4816.429,
          4833.286,
          4834.286,
          4994.714,
          5017.429,
          5312.429,
          5484.429,
          5841.429,
          6143.286,
          6373.286,
          6821.143,
          7242.143,
          7609,
          8050.857,
          8249.429,
          8319.143,
          8984.143,
          9561.571,
          10003.714,
          10451.429,
          10901.286,
          11289.286,
          11742.143,
          11631.143,
          11448.429,
          11384.571,
          11044.286,
          10478.571,
          9941.714,
          9613.143,
          9470,
          9210.714,
          8739.714,
          8560.714,
          8321,
          8199.286,
          8030.857,
          7706.286,
          7698.143,
          7689.286,
          7509.429,
          7396.571,
          7232.857,
          7025.857,
          6877.571,
          6427.429,
          6125.714,
          5829.714,
          5684.857,
          5592.286,
          5505.571,
          5425.286,
          5327.571,
          5287.286,
          5309.857,
          5208.857,
          5105.571,
          5053.714,
          4939,
          4781.714,
          4584,
          4408,
          4238.714,
          4116.143,
          4067,
          3966,
          3895.714,
          3891.143,
          3875,
          3908.571,
          3770.429,
          3509.857,
          3391.143,
          3420.714,
          3423.714,
          3440.143,
          3370,
          3454.714,
          3590.429,
          3615.571,
          3631.571,
          3685.571,
          3738.571,
          3913.429,
          4106,
          4263.429,
          4405.429,
          4475.143,
          4529.714,
          4582.286,
          4581.857,
          4525,
          4550.429,
          4640.571,
          4512.571,
          4449.143,
          4506,
          4485.714,
          4495.714,
          4540.429,
          4579.857,
          4752,
          4945.857,
          5097.714,
          5304.143,
          5537.714,
          5624.571,
          5717.857,
          5833.143,
          6025.714,
          6197,
          6338.857,
          6452,
          6546,
          6782.571,
          7008,
          7035.286,
          7206.571,
          7274.429,
          7339.714,
          7378.143,
          7385.286,
          7404.143,
          7360,
          7192.857,
          7104.286,
          6904.571,
          6863,
          6681,
          6674.286,
          6728.286,
          6736.286,
          6936.143,
          7129.714,
          7293.143,
          7154.571,
          7290.143,
          7471,
          7557.286,
          7598.286,
          7661.429,
          7681.286,
          8122.143,
          8246.429,
          8290.571,
          8258.286,
          8187.714,
          8056.714,
          7845,
          7869.857,
          7536.286,
          7328.857,
          6999.857,
          6641.857,
          7068.571,
          7410.429,
          7213.857,
          7144.571,
          7105.571,
          7340.286,
          7491,
          7015.429,
          6699.143,
          6568.857,
          6458.143,
          6176.714,
          5755.143,
          5452,
          5019.286,
          4992.857,
          4736.143,
          4541,
          4348.571,
          4165.857,
          4020.286,
          4001.857,
          3591.286,
          3335.571,
          3147.714,
          3104,
          3134.857,
          3034.429,
          2940.857,
          2920.571,
          2884.429,
          2798.571,
          2589.286,
          2409.143,
          2241.714,
          2147.429,
          2019.429,
          1905.714,
          1739.143,
          1594.571,
          1463.857,
          1392.143,
          1316,
          1261.429,
          1161.714,
          1091.143,
          1021.143,
          946.429,
          898.143,
          856.286,
          806.143,
          753.571,
          700.429,
          665.429,
          646.857,
          617,
          616.714,
          596.571,
          593.143,
          611.143,
          652.714,
          733.571,
          836.286,
          973.714,
          1211.714,
          1642.286,
          2300,
          3155.143,
          4463.429,
          5621.429,
          6610.286,
          7411.429,
          8380.857,
          9173.571,
          9798.286,
          9905.857,
          10022.571,
          10084.429,
          9925.571,
          9421.571,
          8744.286,
          8044,
          7220.143,
          6427.714,
          5710.143,
          5318.857,
          4826.571,
          4567.714,
          4140,
          3806.571,
          3479.571,
          3228.571,
          2973,
          2881,
          2731.429,
          2666.571,
          2593.714,
          2595.714,
          2586,
          2582.714,
          2489.286,
          2378.571,
          2345.714,
          2334,
          2329.857,
          2361.714,
          2382.429,
          2476.143,
          2471.429,
          2406,
          2419.286,
          2442.714,
          2462.857,
          2481.571,
          2494,
          2503.714,
          2591.286,
          2593.286,
          2575,
          2547.286,
          2534.857,
          2529.286,
          2551.857,
          2508.143,
          2545.714,
          2552.714,
          2541.143,
          2559.857,
          2553.143,
          2495.286,
          2515.857,
          2442.286,
          2106.286,
          2351.429,
          2286.857,
          2223.429,
          2181,
          2103.429,
          2077.571,
          2312,
          1957.143,
          1908.714,
          1844.857,
          1807.714,
          1740.286,
          1682.286,
          1675.143,
          1680.857,
          1686.429,
          1665.571,
          1646.286,
          1651.286,
          1659.143,
          1660,
          1695.857,
          1720.714,
          1736.714,
          1887.571,
          2038.857,
          2159.429,
          2250.714,
          2405.143,
          2545.714,
          2808.286,
          2933.286,
          3065.286,
          3235.714,
          3438.429,
          3529.143,
          3673.714,
          3795,
          4019.571,
          4327.143,
          4609.571,
          4983.714,
          5261.143,
          5525.429,
          5908.571,
          6262.714,
          6480.143,
          6803.857,
          7072.143,
          7414.714,
          7697.857,
          7961.857,
          8323.143,
          8826,
          9399.714,
          9853.286,
          10440.571,
          10948.857,
          11454,
          12322.857,
          13079,
          13348.429,
          13445.714,
          14501.714,
          15771.571,
          16931,
          17973.429,
          18663.143,
          19798.857,
          21029.714,
          21573.286,
          21970.143,
          22391.429,
          22190.857,
          22226.429,
          22259.714,
          22472.429,
          22249.714,
          22136.429,
          21394.429,
          21517.143,
          21552.571,
          21635.857,
          21771.143,
          21702.857,
          21096.857,
          21032.286,
          20563.571,
          19984.857,
          19285.143,
          18357.429,
          17332,
          16594.714,
          15941.286,
          15450.143,
          15148.857,
          14706,
          14233.286,
          14000,
          13508,
          13488,
          13064.143,
          12645.143,
          12355.714,
          12156.714,
          12053.571,
          12033.429,
          12385.429,
          12587.714,
          13213,
          13659.143,
          14472.857,
          14916.286,
          16249.286,
          17546.429,
          18979.857,
          21559.714,
          23366,
          25494.857,
          27442.714,
          28947.429,
          29997,
          31286,
          31492.571,
          31992,
          32567.286,
          34593.143,
          30444.714,
          35794.857,
          36681,
          39717,
          41759,
          45881.286,
          49070.571,
          56807.714,
          55237,
          58739.429,
          61099.143,
          60141.571,
          61549.143,
          68342,
          75721.714,
          76907.286,
          79526,
          78790,
          78888.714,
          81699.286,
          76755.286,
          115981.143,
          118775.429,
          119333,
          121003.571,
          125321,
          120359.714,
          117130,
          70432.857,
          67193,
          62848.571,
          58371.286,
          53121.571,
          49732.286,
          47014.571,
          44322.143,
          35196.714,
          32938.571,
          31780.714,
          32342.571,
          31836.571,
          30607.429,
          29778.143,
          34991.571,
          36122.714,
          38565.571,
          42961.286,
          47862.714,
          53493.571,
          58577.429,
          62825.714,
          66505.286,
          68824.429,
          68949.286,
          67926.571,
          65861.286,
          63210.714,
          61305.429,
          59308.143,
          56329.714,
          54191.714,
          51536.143,
          49033.429,
          47036.429,
          45273.714,
          42777,
          40695.429,
          37948.857,
          36046.714,
          34646,
          33159.714,
          31751,
          29607.429,
          27656.857,
          25765.143,
          24166,
          22360.143,
          20825.286,
          18445.571,
          16339.571,
          14544.857,
          12990.714,
          11984.571,
          11241.857,
          10650.857,
          9546.429,
          8389.714,
          7220.286,
          6258.286,
          5342.143,
          4722.143,
          4070.571,
          3527.286,
          3324.143,
          3087.143,
          2869.714,
          2662.571,
          2484.286,
          2388.714,
          2296.857,
          2044.714,
          1789.286,
          1654.857,
          1590.714,
          1548,
          1534.429,
          1518,
          1507,
          1567.143,
          1513.857,
          1497.571,
          1489.429,
          1457.571,
          1434.143,
          1393.429,
          1359,
          1353.429,
          1331.286,
          1299,
          1260.857,
          1222.143,
          1194,
          1195.143,
          1163.429,
          1142.143,
          1107.286,
          1095.286,
          1077.857,
          1058,
          1003.857,
          984,
          943,
          951.857,
          987.571,
          995.714,
          1040.571,
          1108.857,
          1188.429,
          1266.714,
          1325.714,
          1324.286,
          1360.714,
          1418.429,
          1546.143,
          1656.857,
          1451.286,
          1274.286,
          2017.143,
          2213.143,
          2447.143,
          2695.286,
          2927.143,
          2927.143,
          2927.143,
          3509.286,
          3783.429,
          3985,
          4176.571,
          4363.429,
          4363.429,
          4363.429,
          4738.714,
          4879.429,
          5085.857,
          5229.429,
          5359.429,
          5359.429,
          5359.429,
          5485.429,
          5610.429,
          5633.143,
          5745.143,
          5834.571,
          5834.571,
          5834.571,
          6070.571,
          6179.143,
          6232.857,
          6198.571,
          6172,
          6172,
          6172,
          5831.857,
          5496,
          5167,
          4801,
          4531.429,
          4531.429,
          4531.429,
          4088,
          4004.571,
          3949.429,
          3833.714,
          3634.143,
          3634.143,
          3634.143,
          3262.571,
          3097.429,
          2925.857,
          2747.857,
          2639,
          2639,
          2639,
          2288.857,
          2126.857,
          2013,
          1916.429,
          1832.143,
          1832.143,
          1832.143,
          1708.429,
          1670.857,
          1608.143,
          1404.857,
          1487.714,
          1487.714,
          1487.714,
          1352.571,
          1274.143,
          1215.286,
          1338.286,
          1151.714,
          1151.714,
          1151.714,
          1117.571,
          1104.714,
          1094.571,
          1261,
          1096.143,
          1259.143,
          1385.429,
          1096.286,
          1121.714,
          950.714,
          612.857,
          1187.857,
          1024.857,
          898.571,
          784.143,
          1189.429,
          1189.429,
          1189.429,
          1229.857,
          1229.857,
          1229.857,
          1229.857,
          1258.286,
          1258.286,
          1258.286,
          1411.714,
          1411.714,
          1411.714,
          1412.286,
          1751.857,
          1751.857,
          1751.857,
          2200.857,
          2200.857,
          2200.857,
          2200.571
         ]
        }
       ],
       "frames": [
        {
         "data": [
          {
           "marker": {
            "color": "red",
            "size": 15
           },
           "mode": "markers",
           "type": "scatter",
           "x": [
            "2020-03-03T00:00:00"
           ],
           "y": [
            5.429
           ]
          }
         ]
        },
        {
         "data": [
          {
           "marker": {
            "color": "red",
            "size": 15
           },
           "mode": "markers",
           "type": "scatter",
           "x": [
            "2020-03-04T00:00:00"
           ],
           "y": [
            11.714
           ]
          }
         ]
        },
        {
         "data": [
          {
           "marker": {
            "color": "red",
            "size": 15
           },
           "mode": "markers",
           "type": "scatter",
           "x": [
            "2020-03-05T00:00:00"
           ],
           "y": [
            18.143
           ]
          }
         ]
        },
        {
         "data": [
          {
           "marker": {
            "color": "red",
            "size": 15
           },
           "mode": "markers",
           "type": "scatter",
           "x": [
            "2020-03-06T00:00:00"
           ],
           "y": [
            26
           ]
          }
         ]
        },
        {
         "data": [
          {
           "marker": {
            "color": "red",
            "size": 15
           },
           "mode": "markers",
           "type": "scatter",
           "x": [
            "2020-03-07T00:00:00"
           ],
           "y": [
            36.429
           ]
          }
         ]
        },
        {
         "data": [
          {
           "marker": {
            "color": "red",
            "size": 15
           },
           "mode": "markers",
           "type": "scatter",
           "x": [
            "2020-03-08T00:00:00"
           ],
           "y": [
            43.286
           ]
          }
         ]
        },
        {
         "data": [
          {
           "marker": {
            "color": "red",
            "size": 15
           },
           "mode": "markers",
           "type": "scatter",
           "x": [
            "2020-03-09T00:00:00"
           ],
           "y": [
            51.143
           ]
          }
         ]
        },
        {
         "data": [
          {
           "marker": {
            "color": "red",
            "size": 15
           },
           "mode": "markers",
           "type": "scatter",
           "x": [
            "2020-03-10T00:00:00"
           ],
           "y": [
            66.429
           ]
          }
         ]
        },
        {
         "data": [
          {
           "marker": {
            "color": "red",
            "size": 15
           },
           "mode": "markers",
           "type": "scatter",
           "x": [
            "2020-03-11T00:00:00"
           ],
           "y": [
            74.429
           ]
          }
         ]
        },
        {
         "data": [
          {
           "marker": {
            "color": "red",
            "size": 15
           },
           "mode": "markers",
           "type": "scatter",
           "x": [
            "2020-03-12T00:00:00"
           ],
           "y": [
            96.571
           ]
          }
         ]
        },
        {
         "data": [
          {
           "marker": {
            "color": "red",
            "size": 15
           },
           "mode": "markers",
           "type": "scatter",
           "x": [
            "2020-03-13T00:00:00"
           ],
           "y": [
            110.143
           ]
          }
         ]
        },
        {
         "data": [
          {
           "marker": {
            "color": "red",
            "size": 15
           },
           "mode": "markers",
           "type": "scatter",
           "x": [
            "2020-03-14T00:00:00"
           ],
           "y": [
            124.286
           ]
          }
         ]
        },
        {
         "data": [
          {
           "marker": {
            "color": "red",
            "size": 15
           },
           "mode": "markers",
           "type": "scatter",
           "x": [
            "2020-03-15T00:00:00"
           ],
           "y": [
            156
           ]
          }
         ]
        },
        {
         "data": [
          {
           "marker": {
            "color": "red",
            "size": 15
           },
           "mode": "markers",
           "type": "scatter",
           "x": [
            "2020-03-16T00:00:00"
           ],
           "y": [
            189
           ]
          }
         ]
        },
        {
         "data": [
          {
           "marker": {
            "color": "red",
            "size": 15
           },
           "mode": "markers",
           "type": "scatter",
           "x": [
            "2020-03-17T00:00:00"
           ],
           "y": [
            221.143
           ]
          }
         ]
        },
        {
         "data": [
          {
           "marker": {
            "color": "red",
            "size": 15
           },
           "mode": "markers",
           "type": "scatter",
           "x": [
            "2020-03-18T00:00:00"
           ],
           "y": [
            265.286
           ]
          }
         ]
        },
        {
         "data": [
          {
           "marker": {
            "color": "red",
            "size": 15
           },
           "mode": "markers",
           "type": "scatter",
           "x": [
            "2020-03-19T00:00:00"
           ],
           "y": [
            312.857
           ]
          }
         ]
        },
        {
         "data": [
          {
           "marker": {
            "color": "red",
            "size": 15
           },
           "mode": "markers",
           "type": "scatter",
           "x": [
            "2020-03-20T00:00:00"
           ],
           "y": [
            381.857
           ]
          }
         ]
        },
        {
         "data": [
          {
           "marker": {
            "color": "red",
            "size": 15
           },
           "mode": "markers",
           "type": "scatter",
           "x": [
            "2020-03-21T00:00:00"
           ],
           "y": [
            438.571
           ]
          }
         ]
        },
        {
         "data": [
          {
           "marker": {
            "color": "red",
            "size": 15
           },
           "mode": "markers",
           "type": "scatter",
           "x": [
            "2020-03-22T00:00:00"
           ],
           "y": [
            476.714
           ]
          }
         ]
        },
        {
         "data": [
          {
           "marker": {
            "color": "red",
            "size": 15
           },
           "mode": "markers",
           "type": "scatter",
           "x": [
            "2020-03-23T00:00:00"
           ],
           "y": [
            551
           ]
          }
         ]
        },
        {
         "data": [
          {
           "marker": {
            "color": "red",
            "size": 15
           },
           "mode": "markers",
           "type": "scatter",
           "x": [
            "2020-03-24T00:00:00"
           ],
           "y": [
            623.286
           ]
          }
         ]
        },
        {
         "data": [
          {
           "marker": {
            "color": "red",
            "size": 15
           },
           "mode": "markers",
           "type": "scatter",
           "x": [
            "2020-03-25T00:00:00"
           ],
           "y": [
            710.571
           ]
          }
         ]
        },
        {
         "data": [
          {
           "marker": {
            "color": "red",
            "size": 15
           },
           "mode": "markers",
           "type": "scatter",
           "x": [
            "2020-03-26T00:00:00"
           ],
           "y": [
            801.714
           ]
          }
         ]
        },
        {
         "data": [
          {
           "marker": {
            "color": "red",
            "size": 15
           },
           "mode": "markers",
           "type": "scatter",
           "x": [
            "2020-03-27T00:00:00"
           ],
           "y": [
            876.143
           ]
          }
         ]
        },
        {
         "data": [
          {
           "marker": {
            "color": "red",
            "size": 15
           },
           "mode": "markers",
           "type": "scatter",
           "x": [
            "2020-03-28T00:00:00"
           ],
           "y": [
            952
           ]
          }
         ]
        },
        {
         "data": [
          {
           "marker": {
            "color": "red",
            "size": 15
           },
           "mode": "markers",
           "type": "scatter",
           "x": [
            "2020-03-29T00:00:00"
           ],
           "y": [
            1000.857
           ]
          }
         ]
        },
        {
         "data": [
          {
           "marker": {
            "color": "red",
            "size": 15
           },
           "mode": "markers",
           "type": "scatter",
           "x": [
            "2020-03-30T00:00:00"
           ],
           "y": [
            1005.571
           ]
          }
         ]
        },
        {
         "data": [
          {
           "marker": {
            "color": "red",
            "size": 15
           },
           "mode": "markers",
           "type": "scatter",
           "x": [
            "2020-03-31T00:00:00"
           ],
           "y": [
            1029.429
           ]
          }
         ]
        },
        {
         "data": [
          {
           "marker": {
            "color": "red",
            "size": 15
           },
           "mode": "markers",
           "type": "scatter",
           "x": [
            "2020-04-01T00:00:00"
           ],
           "y": [
            1039.857
           ]
          }
         ]
        },
        {
         "data": [
          {
           "marker": {
            "color": "red",
            "size": 15
           },
           "mode": "markers",
           "type": "scatter",
           "x": [
            "2020-04-02T00:00:00"
           ],
           "y": [
            1019.286
           ]
          }
         ]
        },
        {
         "data": [
          {
           "marker": {
            "color": "red",
            "size": 15
           },
           "mode": "markers",
           "type": "scatter",
           "x": [
            "2020-04-03T00:00:00"
           ],
           "y": [
            983.571
           ]
          }
         ]
        },
        {
         "data": [
          {
           "marker": {
            "color": "red",
            "size": 15
           },
           "mode": "markers",
           "type": "scatter",
           "x": [
            "2020-04-04T00:00:00"
           ],
           "y": [
            1000.714
           ]
          }
         ]
        },
        {
         "data": [
          {
           "marker": {
            "color": "red",
            "size": 15
           },
           "mode": "markers",
           "type": "scatter",
           "x": [
            "2020-04-05T00:00:00"
           ],
           "y": [
            1010.286
           ]
          }
         ]
        },
        {
         "data": [
          {
           "marker": {
            "color": "red",
            "size": 15
           },
           "mode": "markers",
           "type": "scatter",
           "x": [
            "2020-04-06T00:00:00"
           ],
           "y": [
            1002.286
           ]
          }
         ]
        },
        {
         "data": [
          {
           "marker": {
            "color": "red",
            "size": 15
           },
           "mode": "markers",
           "type": "scatter",
           "x": [
            "2020-04-07T00:00:00"
           ],
           "y": [
            995.571
           ]
          }
         ]
        },
        {
         "data": [
          {
           "marker": {
            "color": "red",
            "size": 15
           },
           "mode": "markers",
           "type": "scatter",
           "x": [
            "2020-04-08T00:00:00"
           ],
           "y": [
            1012.714
           ]
          }
         ]
        },
        {
         "data": [
          {
           "marker": {
            "color": "red",
            "size": 15
           },
           "mode": "markers",
           "type": "scatter",
           "x": [
            "2020-04-09T00:00:00"
           ],
           "y": [
            1057
           ]
          }
         ]
        },
        {
         "data": [
          {
           "marker": {
            "color": "red",
            "size": 15
           },
           "mode": "markers",
           "type": "scatter",
           "x": [
            "2020-04-10T00:00:00"
           ],
           "y": [
            1116.143
           ]
          }
         ]
        },
        {
         "data": [
          {
           "marker": {
            "color": "red",
            "size": 15
           },
           "mode": "markers",
           "type": "scatter",
           "x": [
            "2020-04-11T00:00:00"
           ],
           "y": [
            1109
           ]
          }
         ]
        },
        {
         "data": [
          {
           "marker": {
            "color": "red",
            "size": 15
           },
           "mode": "markers",
           "type": "scatter",
           "x": [
            "2020-04-12T00:00:00"
           ],
           "y": [
            1110.429
           ]
          }
         ]
        },
        {
         "data": [
          {
           "marker": {
            "color": "red",
            "size": 15
           },
           "mode": "markers",
           "type": "scatter",
           "x": [
            "2020-04-13T00:00:00"
           ],
           "y": [
            1121.714
           ]
          }
         ]
        },
        {
         "data": [
          {
           "marker": {
            "color": "red",
            "size": 15
           },
           "mode": "markers",
           "type": "scatter",
           "x": [
            "2020-04-14T00:00:00"
           ],
           "y": [
            1088
           ]
          }
         ]
        },
        {
         "data": [
          {
           "marker": {
            "color": "red",
            "size": 15
           },
           "mode": "markers",
           "type": "scatter",
           "x": [
            "2020-04-15T00:00:00"
           ],
           "y": [
            1066.429
           ]
          }
         ]
        },
        {
         "data": [
          {
           "marker": {
            "color": "red",
            "size": 15
           },
           "mode": "markers",
           "type": "scatter",
           "x": [
            "2020-04-16T00:00:00"
           ],
           "y": [
            1052.286
           ]
          }
         ]
        },
        {
         "data": [
          {
           "marker": {
            "color": "red",
            "size": 15
           },
           "mode": "markers",
           "type": "scatter",
           "x": [
            "2020-04-17T00:00:00"
           ],
           "y": [
            1026.143
           ]
          }
         ]
        },
        {
         "data": [
          {
           "marker": {
            "color": "red",
            "size": 15
           },
           "mode": "markers",
           "type": "scatter",
           "x": [
            "2020-04-18T00:00:00"
           ],
           "y": [
            1011.714
           ]
          }
         ]
        },
        {
         "data": [
          {
           "marker": {
            "color": "red",
            "size": 15
           },
           "mode": "markers",
           "type": "scatter",
           "x": [
            "2020-04-19T00:00:00"
           ],
           "y": [
            981.571
           ]
          }
         ]
        },
        {
         "data": [
          {
           "marker": {
            "color": "red",
            "size": 15
           },
           "mode": "markers",
           "type": "scatter",
           "x": [
            "2020-04-20T00:00:00"
           ],
           "y": [
            961.714
           ]
          }
         ]
        },
        {
         "data": [
          {
           "marker": {
            "color": "red",
            "size": 15
           },
           "mode": "markers",
           "type": "scatter",
           "x": [
            "2020-04-21T00:00:00"
           ],
           "y": [
            957.714
           ]
          }
         ]
        },
        {
         "data": [
          {
           "marker": {
            "color": "red",
            "size": 15
           },
           "mode": "markers",
           "type": "scatter",
           "x": [
            "2020-04-22T00:00:00"
           ],
           "y": [
            933.286
           ]
          }
         ]
        },
        {
         "data": [
          {
           "marker": {
            "color": "red",
            "size": 15
           },
           "mode": "markers",
           "type": "scatter",
           "x": [
            "2020-04-23T00:00:00"
           ],
           "y": [
            871.714
           ]
          }
         ]
        },
        {
         "data": [
          {
           "marker": {
            "color": "red",
            "size": 15
           },
           "mode": "markers",
           "type": "scatter",
           "x": [
            "2020-04-24T00:00:00"
           ],
           "y": [
            802.429
           ]
          }
         ]
        },
        {
         "data": [
          {
           "marker": {
            "color": "red",
            "size": 15
           },
           "mode": "markers",
           "type": "scatter",
           "x": [
            "2020-04-25T00:00:00"
           ],
           "y": [
            742.714
           ]
          }
         ]
        },
        {
         "data": [
          {
           "marker": {
            "color": "red",
            "size": 15
           },
           "mode": "markers",
           "type": "scatter",
           "x": [
            "2020-04-26T00:00:00"
           ],
           "y": [
            692.429
           ]
          }
         ]
        },
        {
         "data": [
          {
           "marker": {
            "color": "red",
            "size": 15
           },
           "mode": "markers",
           "type": "scatter",
           "x": [
            "2020-04-27T00:00:00"
           ],
           "y": [
            612.714
           ]
          }
         ]
        },
        {
         "data": [
          {
           "marker": {
            "color": "red",
            "size": 15
           },
           "mode": "markers",
           "type": "scatter",
           "x": [
            "2020-04-28T00:00:00"
           ],
           "y": [
            566.857
           ]
          }
         ]
        },
        {
         "data": [
          {
           "marker": {
            "color": "red",
            "size": 15
           },
           "mode": "markers",
           "type": "scatter",
           "x": [
            "2020-04-29T00:00:00"
           ],
           "y": [
            513
           ]
          }
         ]
        },
        {
         "data": [
          {
           "marker": {
            "color": "red",
            "size": 15
           },
           "mode": "markers",
           "type": "scatter",
           "x": [
            "2020-04-30T00:00:00"
           ],
           "y": [
            465.429
           ]
          }
         ]
        },
        {
         "data": [
          {
           "marker": {
            "color": "red",
            "size": 15
           },
           "mode": "markers",
           "type": "scatter",
           "x": [
            "2020-05-01T00:00:00"
           ],
           "y": [
            435.571
           ]
          }
         ]
        },
        {
         "data": [
          {
           "marker": {
            "color": "red",
            "size": 15
           },
           "mode": "markers",
           "type": "scatter",
           "x": [
            "2020-05-02T00:00:00"
           ],
           "y": [
            389.857
           ]
          }
         ]
        },
        {
         "data": [
          {
           "marker": {
            "color": "red",
            "size": 15
           },
           "mode": "markers",
           "type": "scatter",
           "x": [
            "2020-05-03T00:00:00"
           ],
           "y": [
            361
           ]
          }
         ]
        },
        {
         "data": [
          {
           "marker": {
            "color": "red",
            "size": 15
           },
           "mode": "markers",
           "type": "scatter",
           "x": [
            "2020-05-04T00:00:00"
           ],
           "y": [
            381.857
           ]
          }
         ]
        },
        {
         "data": [
          {
           "marker": {
            "color": "red",
            "size": 15
           },
           "mode": "markers",
           "type": "scatter",
           "x": [
            "2020-05-05T00:00:00"
           ],
           "y": [
            359.714
           ]
          }
         ]
        },
        {
         "data": [
          {
           "marker": {
            "color": "red",
            "size": 15
           },
           "mode": "markers",
           "type": "scatter",
           "x": [
            "2020-05-06T00:00:00"
           ],
           "y": [
            351.286
           ]
          }
         ]
        },
        {
         "data": [
          {
           "marker": {
            "color": "red",
            "size": 15
           },
           "mode": "markers",
           "type": "scatter",
           "x": [
            "2020-05-07T00:00:00"
           ],
           "y": [
            329
           ]
          }
         ]
        },
        {
         "data": [
          {
           "marker": {
            "color": "red",
            "size": 15
           },
           "mode": "markers",
           "type": "scatter",
           "x": [
            "2020-05-08T00:00:00"
           ],
           "y": [
            306.571
           ]
          }
         ]
        },
        {
         "data": [
          {
           "marker": {
            "color": "red",
            "size": 15
           },
           "mode": "markers",
           "type": "scatter",
           "x": [
            "2020-05-09T00:00:00"
           ],
           "y": [
            293.714
           ]
          }
         ]
        },
        {
         "data": [
          {
           "marker": {
            "color": "red",
            "size": 15
           },
           "mode": "markers",
           "type": "scatter",
           "x": [
            "2020-05-10T00:00:00"
           ],
           "y": [
            288.286
           ]
          }
         ]
        },
        {
         "data": [
          {
           "marker": {
            "color": "red",
            "size": 15
           },
           "mode": "markers",
           "type": "scatter",
           "x": [
            "2020-05-11T00:00:00"
           ],
           "y": [
            271
           ]
          }
         ]
        },
        {
         "data": [
          {
           "marker": {
            "color": "red",
            "size": 15
           },
           "mode": "markers",
           "type": "scatter",
           "x": [
            "2020-05-12T00:00:00"
           ],
           "y": [
            270.286
           ]
          }
         ]
        },
        {
         "data": [
          {
           "marker": {
            "color": "red",
            "size": 15
           },
           "mode": "markers",
           "type": "scatter",
           "x": [
            "2020-05-13T00:00:00"
           ],
           "y": [
            243.857
           ]
          }
         ]
        },
        {
         "data": [
          {
           "marker": {
            "color": "red",
            "size": 15
           },
           "mode": "markers",
           "type": "scatter",
           "x": [
            "2020-05-14T00:00:00"
           ],
           "y": [
            226.857
           ]
          }
         ]
        },
        {
         "data": [
          {
           "marker": {
            "color": "red",
            "size": 15
           },
           "mode": "markers",
           "type": "scatter",
           "x": [
            "2020-05-15T00:00:00"
           ],
           "y": [
            212.571
           ]
          }
         ]
        },
        {
         "data": [
          {
           "marker": {
            "color": "red",
            "size": 15
           },
           "mode": "markers",
           "type": "scatter",
           "x": [
            "2020-05-16T00:00:00"
           ],
           "y": [
            195.571
           ]
          }
         ]
        },
        {
         "data": [
          {
           "marker": {
            "color": "red",
            "size": 15
           },
           "mode": "markers",
           "type": "scatter",
           "x": [
            "2020-05-17T00:00:00"
           ],
           "y": [
            193.429
           ]
          }
         ]
        },
        {
         "data": [
          {
           "marker": {
            "color": "red",
            "size": 15
           },
           "mode": "markers",
           "type": "scatter",
           "x": [
            "2020-05-18T00:00:00"
           ],
           "y": [
            180.857
           ]
          }
         ]
        },
        {
         "data": [
          {
           "marker": {
            "color": "red",
            "size": 15
           },
           "mode": "markers",
           "type": "scatter",
           "x": [
            "2020-05-19T00:00:00"
           ],
           "y": [
            176.714
           ]
          }
         ]
        },
        {
         "data": [
          {
           "marker": {
            "color": "red",
            "size": 15
           },
           "mode": "markers",
           "type": "scatter",
           "x": [
            "2020-05-20T00:00:00"
           ],
           "y": [
            174.286
           ]
          }
         ]
        },
        {
         "data": [
          {
           "marker": {
            "color": "red",
            "size": 15
           },
           "mode": "markers",
           "type": "scatter",
           "x": [
            "2020-05-21T00:00:00"
           ],
           "y": [
            172.571
           ]
          }
         ]
        },
        {
         "data": [
          {
           "marker": {
            "color": "red",
            "size": 15
           },
           "mode": "markers",
           "type": "scatter",
           "x": [
            "2020-05-22T00:00:00"
           ],
           "y": [
            170.714
           ]
          }
         ]
        },
        {
         "data": [
          {
           "marker": {
            "color": "red",
            "size": 15
           },
           "mode": "markers",
           "type": "scatter",
           "x": [
            "2020-05-23T00:00:00"
           ],
           "y": [
            177.286
           ]
          }
         ]
        },
        {
         "data": [
          {
           "marker": {
            "color": "red",
            "size": 15
           },
           "mode": "markers",
           "type": "scatter",
           "x": [
            "2020-05-24T00:00:00"
           ],
           "y": [
            186.286
           ]
          }
         ]
        },
        {
         "data": [
          {
           "marker": {
            "color": "red",
            "size": 15
           },
           "mode": "markers",
           "type": "scatter",
           "x": [
            "2020-05-25T00:00:00"
           ],
           "y": [
            189.857
           ]
          }
         ]
        },
        {
         "data": [
          {
           "marker": {
            "color": "red",
            "size": 15
           },
           "mode": "markers",
           "type": "scatter",
           "x": [
            "2020-05-26T00:00:00"
           ],
           "y": [
            188.714
           ]
          }
         ]
        },
        {
         "data": [
          {
           "marker": {
            "color": "red",
            "size": 15
           },
           "mode": "markers",
           "type": "scatter",
           "x": [
            "2020-05-27T00:00:00"
           ],
           "y": [
            178.571
           ]
          }
         ]
        },
        {
         "data": [
          {
           "marker": {
            "color": "red",
            "size": 15
           },
           "mode": "markers",
           "type": "scatter",
           "x": [
            "2020-05-28T00:00:00"
           ],
           "y": [
            176.857
           ]
          }
         ]
        },
        {
         "data": [
          {
           "marker": {
            "color": "red",
            "size": 15
           },
           "mode": "markers",
           "type": "scatter",
           "x": [
            "2020-05-29T00:00:00"
           ],
           "y": [
            170.429
           ]
          }
         ]
        },
        {
         "data": [
          {
           "marker": {
            "color": "red",
            "size": 15
           },
           "mode": "markers",
           "type": "scatter",
           "x": [
            "2020-05-30T00:00:00"
           ],
           "y": [
            172.286
           ]
          }
         ]
        },
        {
         "data": [
          {
           "marker": {
            "color": "red",
            "size": 15
           },
           "mode": "markers",
           "type": "scatter",
           "x": [
            "2020-05-31T00:00:00"
           ],
           "y": [
            157.143
           ]
          }
         ]
        },
        {
         "data": [
          {
           "marker": {
            "color": "red",
            "size": 15
           },
           "mode": "markers",
           "type": "scatter",
           "x": [
            "2020-06-01T00:00:00"
           ],
           "y": [
            152.714
           ]
          }
         ]
        },
        {
         "data": [
          {
           "marker": {
            "color": "red",
            "size": 15
           },
           "mode": "markers",
           "type": "scatter",
           "x": [
            "2020-06-02T00:00:00"
           ],
           "y": [
            137.857
           ]
          }
         ]
        },
        {
         "data": [
          {
           "marker": {
            "color": "red",
            "size": 15
           },
           "mode": "markers",
           "type": "scatter",
           "x": [
            "2020-06-03T00:00:00"
           ],
           "y": [
            141.714
           ]
          }
         ]
        },
        {
         "data": [
          {
           "marker": {
            "color": "red",
            "size": 15
           },
           "mode": "markers",
           "type": "scatter",
           "x": [
            "2020-06-04T00:00:00"
           ],
           "y": [
            146.571
           ]
          }
         ]
        },
        {
         "data": [
          {
           "marker": {
            "color": "red",
            "size": 15
           },
           "mode": "markers",
           "type": "scatter",
           "x": [
            "2020-06-05T00:00:00"
           ],
           "y": [
            154
           ]
          }
         ]
        },
        {
         "data": [
          {
           "marker": {
            "color": "red",
            "size": 15
           },
           "mode": "markers",
           "type": "scatter",
           "x": [
            "2020-06-06T00:00:00"
           ],
           "y": [
            161.714
           ]
          }
         ]
        },
        {
         "data": [
          {
           "marker": {
            "color": "red",
            "size": 15
           },
           "mode": "markers",
           "type": "scatter",
           "x": [
            "2020-06-07T00:00:00"
           ],
           "y": [
            170.571
           ]
          }
         ]
        },
        {
         "data": [
          {
           "marker": {
            "color": "red",
            "size": 15
           },
           "mode": "markers",
           "type": "scatter",
           "x": [
            "2020-06-08T00:00:00"
           ],
           "y": [
            179.429
           ]
          }
         ]
        },
        {
         "data": [
          {
           "marker": {
            "color": "red",
            "size": 15
           },
           "mode": "markers",
           "type": "scatter",
           "x": [
            "2020-06-09T00:00:00"
           ],
           "y": [
            193.429
           ]
          }
         ]
        },
        {
         "data": [
          {
           "marker": {
            "color": "red",
            "size": 15
           },
           "mode": "markers",
           "type": "scatter",
           "x": [
            "2020-06-10T00:00:00"
           ],
           "y": [
            187
           ]
          }
         ]
        },
        {
         "data": [
          {
           "marker": {
            "color": "red",
            "size": 15
           },
           "mode": "markers",
           "type": "scatter",
           "x": [
            "2020-06-11T00:00:00"
           ],
           "y": [
            187
           ]
          }
         ]
        },
        {
         "data": [
          {
           "marker": {
            "color": "red",
            "size": 15
           },
           "mode": "markers",
           "type": "scatter",
           "x": [
            "2020-06-12T00:00:00"
           ],
           "y": [
            186.429
           ]
          }
         ]
        },
        {
         "data": [
          {
           "marker": {
            "color": "red",
            "size": 15
           },
           "mode": "markers",
           "type": "scatter",
           "x": [
            "2020-06-13T00:00:00"
           ],
           "y": [
            172.714
           ]
          }
         ]
        },
        {
         "data": [
          {
           "marker": {
            "color": "red",
            "size": 15
           },
           "mode": "markers",
           "type": "scatter",
           "x": [
            "2020-06-14T00:00:00"
           ],
           "y": [
            172.714
           ]
          }
         ]
        },
        {
         "data": [
          {
           "marker": {
            "color": "red",
            "size": 15
           },
           "mode": "markers",
           "type": "scatter",
           "x": [
            "2020-06-15T00:00:00"
           ],
           "y": [
            169.143
           ]
          }
         ]
        },
        {
         "data": [
          {
           "marker": {
            "color": "red",
            "size": 15
           },
           "mode": "markers",
           "type": "scatter",
           "x": [
            "2020-06-16T00:00:00"
           ],
           "y": [
            159.571
           ]
          }
         ]
        },
        {
         "data": [
          {
           "marker": {
            "color": "red",
            "size": 15
           },
           "mode": "markers",
           "type": "scatter",
           "x": [
            "2020-06-17T00:00:00"
           ],
           "y": [
            152.571
           ]
          }
         ]
        },
        {
         "data": [
          {
           "marker": {
            "color": "red",
            "size": 15
           },
           "mode": "markers",
           "type": "scatter",
           "x": [
            "2020-06-18T00:00:00"
           ],
           "y": [
            137.857
           ]
          }
         ]
        },
        {
         "data": [
          {
           "marker": {
            "color": "red",
            "size": 15
           },
           "mode": "markers",
           "type": "scatter",
           "x": [
            "2020-06-19T00:00:00"
           ],
           "y": [
            123.143
           ]
          }
         ]
        },
        {
         "data": [
          {
           "marker": {
            "color": "red",
            "size": 15
           },
           "mode": "markers",
           "type": "scatter",
           "x": [
            "2020-06-20T00:00:00"
           ],
           "y": [
            115.714
           ]
          }
         ]
        },
        {
         "data": [
          {
           "marker": {
            "color": "red",
            "size": 15
           },
           "mode": "markers",
           "type": "scatter",
           "x": [
            "2020-06-21T00:00:00"
           ],
           "y": [
            101.429
           ]
          }
         ]
        },
        {
         "data": [
          {
           "marker": {
            "color": "red",
            "size": 15
           },
           "mode": "markers",
           "type": "scatter",
           "x": [
            "2020-06-22T00:00:00"
           ],
           "y": [
            90.714
           ]
          }
         ]
        },
        {
         "data": [
          {
           "marker": {
            "color": "red",
            "size": 15
           },
           "mode": "markers",
           "type": "scatter",
           "x": [
            "2020-06-23T00:00:00"
           ],
           "y": [
            85.714
           ]
          }
         ]
        },
        {
         "data": [
          {
           "marker": {
            "color": "red",
            "size": 15
           },
           "mode": "markers",
           "type": "scatter",
           "x": [
            "2020-06-24T00:00:00"
           ],
           "y": [
            85
           ]
          }
         ]
        },
        {
         "data": [
          {
           "marker": {
            "color": "red",
            "size": 15
           },
           "mode": "markers",
           "type": "scatter",
           "x": [
            "2020-06-25T00:00:00"
           ],
           "y": [
            82.714
           ]
          }
         ]
        },
        {
         "data": [
          {
           "marker": {
            "color": "red",
            "size": 15
           },
           "mode": "markers",
           "type": "scatter",
           "x": [
            "2020-06-26T00:00:00"
           ],
           "y": [
            81.714
           ]
          }
         ]
        },
        {
         "data": [
          {
           "marker": {
            "color": "red",
            "size": 15
           },
           "mode": "markers",
           "type": "scatter",
           "x": [
            "2020-06-27T00:00:00"
           ],
           "y": [
            79.143
           ]
          }
         ]
        },
        {
         "data": [
          {
           "marker": {
            "color": "red",
            "size": 15
           },
           "mode": "markers",
           "type": "scatter",
           "x": [
            "2020-06-28T00:00:00"
           ],
           "y": [
            80.714
           ]
          }
         ]
        },
        {
         "data": [
          {
           "marker": {
            "color": "red",
            "size": 15
           },
           "mode": "markers",
           "type": "scatter",
           "x": [
            "2020-06-29T00:00:00"
           ],
           "y": [
            78.714
           ]
          }
         ]
        },
        {
         "data": [
          {
           "marker": {
            "color": "red",
            "size": 15
           },
           "mode": "markers",
           "type": "scatter",
           "x": [
            "2020-06-30T00:00:00"
           ],
           "y": [
            75.857
           ]
          }
         ]
        },
        {
         "data": [
          {
           "marker": {
            "color": "red",
            "size": 15
           },
           "mode": "markers",
           "type": "scatter",
           "x": [
            "2020-07-01T00:00:00"
           ],
           "y": [
            71.143
           ]
          }
         ]
        },
        {
         "data": [
          {
           "marker": {
            "color": "red",
            "size": 15
           },
           "mode": "markers",
           "type": "scatter",
           "x": [
            "2020-07-02T00:00:00"
           ],
           "y": [
            68.857
           ]
          }
         ]
        },
        {
         "data": [
          {
           "marker": {
            "color": "red",
            "size": 15
           },
           "mode": "markers",
           "type": "scatter",
           "x": [
            "2020-07-03T00:00:00"
           ],
           "y": [
            67.714
           ]
          }
         ]
        },
        {
         "data": [
          {
           "marker": {
            "color": "red",
            "size": 15
           },
           "mode": "markers",
           "type": "scatter",
           "x": [
            "2020-07-04T00:00:00"
           ],
           "y": [
            67.857
           ]
          }
         ]
        },
        {
         "data": [
          {
           "marker": {
            "color": "red",
            "size": 15
           },
           "mode": "markers",
           "type": "scatter",
           "x": [
            "2020-07-05T00:00:00"
           ],
           "y": [
            62.143
           ]
          }
         ]
        },
        {
         "data": [
          {
           "marker": {
            "color": "red",
            "size": 15
           },
           "mode": "markers",
           "type": "scatter",
           "x": [
            "2020-07-06T00:00:00"
           ],
           "y": [
            60.286
           ]
          }
         ]
        },
        {
         "data": [
          {
           "marker": {
            "color": "red",
            "size": 15
           },
           "mode": "markers",
           "type": "scatter",
           "x": [
            "2020-07-07T00:00:00"
           ],
           "y": [
            58.857
           ]
          }
         ]
        },
        {
         "data": [
          {
           "marker": {
            "color": "red",
            "size": 15
           },
           "mode": "markers",
           "type": "scatter",
           "x": [
            "2020-07-08T00:00:00"
           ],
           "y": [
            55.286
           ]
          }
         ]
        },
        {
         "data": [
          {
           "marker": {
            "color": "red",
            "size": 15
           },
           "mode": "markers",
           "type": "scatter",
           "x": [
            "2020-07-09T00:00:00"
           ],
           "y": [
            50.571
           ]
          }
         ]
        },
        {
         "data": [
          {
           "marker": {
            "color": "red",
            "size": 15
           },
           "mode": "markers",
           "type": "scatter",
           "x": [
            "2020-07-10T00:00:00"
           ],
           "y": [
            53.429
           ]
          }
         ]
        },
        {
         "data": [
          {
           "marker": {
            "color": "red",
            "size": 15
           },
           "mode": "markers",
           "type": "scatter",
           "x": [
            "2020-07-11T00:00:00"
           ],
           "y": [
            57.286
           ]
          }
         ]
        },
        {
         "data": [
          {
           "marker": {
            "color": "red",
            "size": 15
           },
           "mode": "markers",
           "type": "scatter",
           "x": [
            "2020-07-12T00:00:00"
           ],
           "y": [
            62.286
           ]
          }
         ]
        },
        {
         "data": [
          {
           "marker": {
            "color": "red",
            "size": 15
           },
           "mode": "markers",
           "type": "scatter",
           "x": [
            "2020-07-13T00:00:00"
           ],
           "y": [
            64.571
           ]
          }
         ]
        },
        {
         "data": [
          {
           "marker": {
            "color": "red",
            "size": 15
           },
           "mode": "markers",
           "type": "scatter",
           "x": [
            "2020-07-14T00:00:00"
           ],
           "y": [
            72.286
           ]
          }
         ]
        },
        {
         "data": [
          {
           "marker": {
            "color": "red",
            "size": 15
           },
           "mode": "markers",
           "type": "scatter",
           "x": [
            "2020-07-15T00:00:00"
           ],
           "y": [
            79
           ]
          }
         ]
        },
        {
         "data": [
          {
           "marker": {
            "color": "red",
            "size": 15
           },
           "mode": "markers",
           "type": "scatter",
           "x": [
            "2020-07-16T00:00:00"
           ],
           "y": [
            87.714
           ]
          }
         ]
        },
        {
         "data": [
          {
           "marker": {
            "color": "red",
            "size": 15
           },
           "mode": "markers",
           "type": "scatter",
           "x": [
            "2020-07-17T00:00:00"
           ],
           "y": [
            94.429
           ]
          }
         ]
        },
        {
         "data": [
          {
           "marker": {
            "color": "red",
            "size": 15
           },
           "mode": "markers",
           "type": "scatter",
           "x": [
            "2020-07-18T00:00:00"
           ],
           "y": [
            100.571
           ]
          }
         ]
        },
        {
         "data": [
          {
           "marker": {
            "color": "red",
            "size": 15
           },
           "mode": "markers",
           "type": "scatter",
           "x": [
            "2020-07-19T00:00:00"
           ],
           "y": [
            116.857
           ]
          }
         ]
        },
        {
         "data": [
          {
           "marker": {
            "color": "red",
            "size": 15
           },
           "mode": "markers",
           "type": "scatter",
           "x": [
            "2020-07-20T00:00:00"
           ],
           "y": [
            132.571
           ]
          }
         ]
        },
        {
         "data": [
          {
           "marker": {
            "color": "red",
            "size": 15
           },
           "mode": "markers",
           "type": "scatter",
           "x": [
            "2020-07-21T00:00:00"
           ],
           "y": [
            141.429
           ]
          }
         ]
        },
        {
         "data": [
          {
           "marker": {
            "color": "red",
            "size": 15
           },
           "mode": "markers",
           "type": "scatter",
           "x": [
            "2020-07-22T00:00:00"
           ],
           "y": [
            150.571
           ]
          }
         ]
        },
        {
         "data": [
          {
           "marker": {
            "color": "red",
            "size": 15
           },
           "mode": "markers",
           "type": "scatter",
           "x": [
            "2020-07-23T00:00:00"
           ],
           "y": [
            163.429
           ]
          }
         ]
        },
        {
         "data": [
          {
           "marker": {
            "color": "red",
            "size": 15
           },
           "mode": "markers",
           "type": "scatter",
           "x": [
            "2020-07-24T00:00:00"
           ],
           "y": [
            165.143
           ]
          }
         ]
        },
        {
         "data": [
          {
           "marker": {
            "color": "red",
            "size": 15
           },
           "mode": "markers",
           "type": "scatter",
           "x": [
            "2020-07-25T00:00:00"
           ],
           "y": [
            184.857
           ]
          }
         ]
        },
        {
         "data": [
          {
           "marker": {
            "color": "red",
            "size": 15
           },
           "mode": "markers",
           "type": "scatter",
           "x": [
            "2020-07-26T00:00:00"
           ],
           "y": [
            182.286
           ]
          }
         ]
        },
        {
         "data": [
          {
           "marker": {
            "color": "red",
            "size": 15
           },
           "mode": "markers",
           "type": "scatter",
           "x": [
            "2020-07-27T00:00:00"
           ],
           "y": [
            190.857
           ]
          }
         ]
        },
        {
         "data": [
          {
           "marker": {
            "color": "red",
            "size": 15
           },
           "mode": "markers",
           "type": "scatter",
           "x": [
            "2020-07-28T00:00:00"
           ],
           "y": [
            202.143
           ]
          }
         ]
        },
        {
         "data": [
          {
           "marker": {
            "color": "red",
            "size": 15
           },
           "mode": "markers",
           "type": "scatter",
           "x": [
            "2020-07-29T00:00:00"
           ],
           "y": [
            227.857
           ]
          }
         ]
        },
        {
         "data": [
          {
           "marker": {
            "color": "red",
            "size": 15
           },
           "mode": "markers",
           "type": "scatter",
           "x": [
            "2020-07-30T00:00:00"
           ],
           "y": [
            250.143
           ]
          }
         ]
        },
        {
         "data": [
          {
           "marker": {
            "color": "red",
            "size": 15
           },
           "mode": "markers",
           "type": "scatter",
           "x": [
            "2020-07-31T00:00:00"
           ],
           "y": [
            292
           ]
          }
         ]
        },
        {
         "data": [
          {
           "marker": {
            "color": "red",
            "size": 15
           },
           "mode": "markers",
           "type": "scatter",
           "x": [
            "2020-08-01T00:00:00"
           ],
           "y": [
            304
           ]
          }
         ]
        },
        {
         "data": [
          {
           "marker": {
            "color": "red",
            "size": 15
           },
           "mode": "markers",
           "type": "scatter",
           "x": [
            "2020-08-02T00:00:00"
           ],
           "y": [
            335.857
           ]
          }
         ]
        },
        {
         "data": [
          {
           "marker": {
            "color": "red",
            "size": 15
           },
           "mode": "markers",
           "type": "scatter",
           "x": [
            "2020-08-03T00:00:00"
           ],
           "y": [
            373.857
           ]
          }
         ]
        },
        {
         "data": [
          {
           "marker": {
            "color": "red",
            "size": 15
           },
           "mode": "markers",
           "type": "scatter",
           "x": [
            "2020-08-04T00:00:00"
           ],
           "y": [
            399.429
           ]
          }
         ]
        },
        {
         "data": [
          {
           "marker": {
            "color": "red",
            "size": 15
           },
           "mode": "markers",
           "type": "scatter",
           "x": [
            "2020-08-05T00:00:00"
           ],
           "y": [
            437.143
           ]
          }
         ]
        },
        {
         "data": [
          {
           "marker": {
            "color": "red",
            "size": 15
           },
           "mode": "markers",
           "type": "scatter",
           "x": [
            "2020-08-06T00:00:00"
           ],
           "y": [
            464.286
           ]
          }
         ]
        },
        {
         "data": [
          {
           "marker": {
            "color": "red",
            "size": 15
           },
           "mode": "markers",
           "type": "scatter",
           "x": [
            "2020-08-07T00:00:00"
           ],
           "y": [
            471.857
           ]
          }
         ]
        },
        {
         "data": [
          {
           "marker": {
            "color": "red",
            "size": 15
           },
           "mode": "markers",
           "type": "scatter",
           "x": [
            "2020-08-08T00:00:00"
           ],
           "y": [
            502.143
           ]
          }
         ]
        },
        {
         "data": [
          {
           "marker": {
            "color": "red",
            "size": 15
           },
           "mode": "markers",
           "type": "scatter",
           "x": [
            "2020-08-09T00:00:00"
           ],
           "y": [
            538.143
           ]
          }
         ]
        },
        {
         "data": [
          {
           "marker": {
            "color": "red",
            "size": 15
           },
           "mode": "markers",
           "type": "scatter",
           "x": [
            "2020-08-10T00:00:00"
           ],
           "y": [
            501.143
           ]
          }
         ]
        },
        {
         "data": [
          {
           "marker": {
            "color": "red",
            "size": 15
           },
           "mode": "markers",
           "type": "scatter",
           "x": [
            "2020-08-11T00:00:00"
           ],
           "y": [
            614.429
           ]
          }
         ]
        },
        {
         "data": [
          {
           "marker": {
            "color": "red",
            "size": 15
           },
           "mode": "markers",
           "type": "scatter",
           "x": [
            "2020-08-12T00:00:00"
           ],
           "y": [
            616.286
           ]
          }
         ]
        },
        {
         "data": [
          {
           "marker": {
            "color": "red",
            "size": 15
           },
           "mode": "markers",
           "type": "scatter",
           "x": [
            "2020-08-13T00:00:00"
           ],
           "y": [
            632.286
           ]
          }
         ]
        },
        {
         "data": [
          {
           "marker": {
            "color": "red",
            "size": 15
           },
           "mode": "markers",
           "type": "scatter",
           "x": [
            "2020-08-14T00:00:00"
           ],
           "y": [
            657.286
           ]
          }
         ]
        },
        {
         "data": [
          {
           "marker": {
            "color": "red",
            "size": 15
           },
           "mode": "markers",
           "type": "scatter",
           "x": [
            "2020-08-15T00:00:00"
           ],
           "y": [
            651.571
           ]
          }
         ]
        },
        {
         "data": [
          {
           "marker": {
            "color": "red",
            "size": 15
           },
           "mode": "markers",
           "type": "scatter",
           "x": [
            "2020-08-16T00:00:00"
           ],
           "y": [
            631.143
           ]
          }
         ]
        },
        {
         "data": [
          {
           "marker": {
            "color": "red",
            "size": 15
           },
           "mode": "markers",
           "type": "scatter",
           "x": [
            "2020-08-17T00:00:00"
           ],
           "y": [
            669.429
           ]
          }
         ]
        },
        {
         "data": [
          {
           "marker": {
            "color": "red",
            "size": 15
           },
           "mode": "markers",
           "type": "scatter",
           "x": [
            "2020-08-18T00:00:00"
           ],
           "y": [
            575.143
           ]
          }
         ]
        },
        {
         "data": [
          {
           "marker": {
            "color": "red",
            "size": 15
           },
           "mode": "markers",
           "type": "scatter",
           "x": [
            "2020-08-19T00:00:00"
           ],
           "y": [
            564.286
           ]
          }
         ]
        },
        {
         "data": [
          {
           "marker": {
            "color": "red",
            "size": 15
           },
           "mode": "markers",
           "type": "scatter",
           "x": [
            "2020-08-20T00:00:00"
           ],
           "y": [
            548.429
           ]
          }
         ]
        },
        {
         "data": [
          {
           "marker": {
            "color": "red",
            "size": 15
           },
           "mode": "markers",
           "type": "scatter",
           "x": [
            "2020-08-21T00:00:00"
           ],
           "y": [
            526.571
           ]
          }
         ]
        },
        {
         "data": [
          {
           "marker": {
            "color": "red",
            "size": 15
           },
           "mode": "markers",
           "type": "scatter",
           "x": [
            "2020-08-22T00:00:00"
           ],
           "y": [
            517.143
           ]
          }
         ]
        },
        {
         "data": [
          {
           "marker": {
            "color": "red",
            "size": 15
           },
           "mode": "markers",
           "type": "scatter",
           "x": [
            "2020-08-23T00:00:00"
           ],
           "y": [
            531.857
           ]
          }
         ]
        },
        {
         "data": [
          {
           "marker": {
            "color": "red",
            "size": 15
           },
           "mode": "markers",
           "type": "scatter",
           "x": [
            "2020-08-24T00:00:00"
           ],
           "y": [
            521.714
           ]
          }
         ]
        },
        {
         "data": [
          {
           "marker": {
            "color": "red",
            "size": 15
           },
           "mode": "markers",
           "type": "scatter",
           "x": [
            "2020-08-25T00:00:00"
           ],
           "y": [
            523.429
           ]
          }
         ]
        },
        {
         "data": [
          {
           "marker": {
            "color": "red",
            "size": 15
           },
           "mode": "markers",
           "type": "scatter",
           "x": [
            "2020-08-26T00:00:00"
           ],
           "y": [
            523.429
           ]
          }
         ]
        },
        {
         "data": [
          {
           "marker": {
            "color": "red",
            "size": 15
           },
           "mode": "markers",
           "type": "scatter",
           "x": [
            "2020-08-27T00:00:00"
           ],
           "y": [
            519
           ]
          }
         ]
        },
        {
         "data": [
          {
           "marker": {
            "color": "red",
            "size": 15
           },
           "mode": "markers",
           "type": "scatter",
           "x": [
            "2020-08-28T00:00:00"
           ],
           "y": [
            518
           ]
          }
         ]
        },
        {
         "data": [
          {
           "marker": {
            "color": "red",
            "size": 15
           },
           "mode": "markers",
           "type": "scatter",
           "x": [
            "2020-08-29T00:00:00"
           ],
           "y": [
            523.143
           ]
          }
         ]
        },
        {
         "data": [
          {
           "marker": {
            "color": "red",
            "size": 15
           },
           "mode": "markers",
           "type": "scatter",
           "x": [
            "2020-08-30T00:00:00"
           ],
           "y": [
            514.714
           ]
          }
         ]
        },
        {
         "data": [
          {
           "marker": {
            "color": "red",
            "size": 15
           },
           "mode": "markers",
           "type": "scatter",
           "x": [
            "2020-08-31T00:00:00"
           ],
           "y": [
            522
           ]
          }
         ]
        },
        {
         "data": [
          {
           "marker": {
            "color": "red",
            "size": 15
           },
           "mode": "markers",
           "type": "scatter",
           "x": [
            "2020-09-01T00:00:00"
           ],
           "y": [
            546.143
           ]
          }
         ]
        },
        {
         "data": [
          {
           "marker": {
            "color": "red",
            "size": 15
           },
           "mode": "markers",
           "type": "scatter",
           "x": [
            "2020-09-02T00:00:00"
           ],
           "y": [
            556.143
           ]
          }
         ]
        },
        {
         "data": [
          {
           "marker": {
            "color": "red",
            "size": 15
           },
           "mode": "markers",
           "type": "scatter",
           "x": [
            "2020-09-03T00:00:00"
           ],
           "y": [
            591
           ]
          }
         ]
        },
        {
         "data": [
          {
           "marker": {
            "color": "red",
            "size": 15
           },
           "mode": "markers",
           "type": "scatter",
           "x": [
            "2020-09-04T00:00:00"
           ],
           "y": [
            613.857
           ]
          }
         ]
        },
        {
         "data": [
          {
           "marker": {
            "color": "red",
            "size": 15
           },
           "mode": "markers",
           "type": "scatter",
           "x": [
            "2020-09-05T00:00:00"
           ],
           "y": [
            673.429
           ]
          }
         ]
        },
        {
         "data": [
          {
           "marker": {
            "color": "red",
            "size": 15
           },
           "mode": "markers",
           "type": "scatter",
           "x": [
            "2020-09-06T00:00:00"
           ],
           "y": [
            709.714
           ]
          }
         ]
        },
        {
         "data": [
          {
           "marker": {
            "color": "red",
            "size": 15
           },
           "mode": "markers",
           "type": "scatter",
           "x": [
            "2020-09-07T00:00:00"
           ],
           "y": [
            779.857
           ]
          }
         ]
        },
        {
         "data": [
          {
           "marker": {
            "color": "red",
            "size": 15
           },
           "mode": "markers",
           "type": "scatter",
           "x": [
            "2020-09-08T00:00:00"
           ],
           "y": [
            838.571
           ]
          }
         ]
        },
        {
         "data": [
          {
           "marker": {
            "color": "red",
            "size": 15
           },
           "mode": "markers",
           "type": "scatter",
           "x": [
            "2020-09-09T00:00:00"
           ],
           "y": [
            868.857
           ]
          }
         ]
        },
        {
         "data": [
          {
           "marker": {
            "color": "red",
            "size": 15
           },
           "mode": "markers",
           "type": "scatter",
           "x": [
            "2020-09-10T00:00:00"
           ],
           "y": [
            942.714
           ]
          }
         ]
        },
        {
         "data": [
          {
           "marker": {
            "color": "red",
            "size": 15
           },
           "mode": "markers",
           "type": "scatter",
           "x": [
            "2020-09-11T00:00:00"
           ],
           "y": [
            1024.286
           ]
          }
         ]
        },
        {
         "data": [
          {
           "marker": {
            "color": "red",
            "size": 15
           },
           "mode": "markers",
           "type": "scatter",
           "x": [
            "2020-09-12T00:00:00"
           ],
           "y": [
            1047.714
           ]
          }
         ]
        },
        {
         "data": [
          {
           "marker": {
            "color": "red",
            "size": 15
           },
           "mode": "markers",
           "type": "scatter",
           "x": [
            "2020-09-13T00:00:00"
           ],
           "y": [
            1121.857
           ]
          }
         ]
        },
        {
         "data": [
          {
           "marker": {
            "color": "red",
            "size": 15
           },
           "mode": "markers",
           "type": "scatter",
           "x": [
            "2020-09-14T00:00:00"
           ],
           "y": [
            1180.429
           ]
          }
         ]
        },
        {
         "data": [
          {
           "marker": {
            "color": "red",
            "size": 15
           },
           "mode": "markers",
           "type": "scatter",
           "x": [
            "2020-09-15T00:00:00"
           ],
           "y": [
            1236.286
           ]
          }
         ]
        },
        {
         "data": [
          {
           "marker": {
            "color": "red",
            "size": 15
           },
           "mode": "markers",
           "type": "scatter",
           "x": [
            "2020-09-16T00:00:00"
           ],
           "y": [
            1369.857
           ]
          }
         ]
        },
        {
         "data": [
          {
           "marker": {
            "color": "red",
            "size": 15
           },
           "mode": "markers",
           "type": "scatter",
           "x": [
            "2020-09-17T00:00:00"
           ],
           "y": [
            1471.571
           ]
          }
         ]
        },
        {
         "data": [
          {
           "marker": {
            "color": "red",
            "size": 15
           },
           "mode": "markers",
           "type": "scatter",
           "x": [
            "2020-09-18T00:00:00"
           ],
           "y": [
            1566.429
           ]
          }
         ]
        },
        {
         "data": [
          {
           "marker": {
            "color": "red",
            "size": 15
           },
           "mode": "markers",
           "type": "scatter",
           "x": [
            "2020-09-19T00:00:00"
           ],
           "y": [
            1675.714
           ]
          }
         ]
        },
        {
         "data": [
          {
           "marker": {
            "color": "red",
            "size": 15
           },
           "mode": "markers",
           "type": "scatter",
           "x": [
            "2020-09-20T00:00:00"
           ],
           "y": [
            1804.429
           ]
          }
         ]
        },
        {
         "data": [
          {
           "marker": {
            "color": "red",
            "size": 15
           },
           "mode": "markers",
           "type": "scatter",
           "x": [
            "2020-09-21T00:00:00"
           ],
           "y": [
            1929.143
           ]
          }
         ]
        },
        {
         "data": [
          {
           "marker": {
            "color": "red",
            "size": 15
           },
           "mode": "markers",
           "type": "scatter",
           "x": [
            "2020-09-22T00:00:00"
           ],
           "y": [
            2046
           ]
          }
         ]
        },
        {
         "data": [
          {
           "marker": {
            "color": "red",
            "size": 15
           },
           "mode": "markers",
           "type": "scatter",
           "x": [
            "2020-09-23T00:00:00"
           ],
           "y": [
            2161
           ]
          }
         ]
        },
        {
         "data": [
          {
           "marker": {
            "color": "red",
            "size": 15
           },
           "mode": "markers",
           "type": "scatter",
           "x": [
            "2020-09-24T00:00:00"
           ],
           "y": [
            2274.857
           ]
          }
         ]
        },
        {
         "data": [
          {
           "marker": {
            "color": "red",
            "size": 15
           },
           "mode": "markers",
           "type": "scatter",
           "x": [
            "2020-09-25T00:00:00"
           ],
           "y": [
            2392.857
           ]
          }
         ]
        },
        {
         "data": [
          {
           "marker": {
            "color": "red",
            "size": 15
           },
           "mode": "markers",
           "type": "scatter",
           "x": [
            "2020-09-26T00:00:00"
           ],
           "y": [
            2556.714
           ]
          }
         ]
        },
        {
         "data": [
          {
           "marker": {
            "color": "red",
            "size": 15
           },
           "mode": "markers",
           "type": "scatter",
           "x": [
            "2020-09-27T00:00:00"
           ],
           "y": [
            2657.857
           ]
          }
         ]
        },
        {
         "data": [
          {
           "marker": {
            "color": "red",
            "size": 15
           },
           "mode": "markers",
           "type": "scatter",
           "x": [
            "2020-09-28T00:00:00"
           ],
           "y": [
            2766.429
           ]
          }
         ]
        },
        {
         "data": [
          {
           "marker": {
            "color": "red",
            "size": 15
           },
           "mode": "markers",
           "type": "scatter",
           "x": [
            "2020-09-29T00:00:00"
           ],
           "y": [
            2901.857
           ]
          }
         ]
        },
        {
         "data": [
          {
           "marker": {
            "color": "red",
            "size": 15
           },
           "mode": "markers",
           "type": "scatter",
           "x": [
            "2020-09-30T00:00:00"
           ],
           "y": [
            3001
           ]
          }
         ]
        },
        {
         "data": [
          {
           "marker": {
            "color": "red",
            "size": 15
           },
           "mode": "markers",
           "type": "scatter",
           "x": [
            "2020-10-01T00:00:00"
           ],
           "y": [
            3150.571
           ]
          }
         ]
        },
        {
         "data": [
          {
           "marker": {
            "color": "red",
            "size": 15
           },
           "mode": "markers",
           "type": "scatter",
           "x": [
            "2020-10-02T00:00:00"
           ],
           "y": [
            3329.286
           ]
          }
         ]
        },
        {
         "data": [
          {
           "marker": {
            "color": "red",
            "size": 15
           },
           "mode": "markers",
           "type": "scatter",
           "x": [
            "2020-10-03T00:00:00"
           ],
           "y": [
            3473
           ]
          }
         ]
        },
        {
         "data": [
          {
           "marker": {
            "color": "red",
            "size": 15
           },
           "mode": "markers",
           "type": "scatter",
           "x": [
            "2020-10-04T00:00:00"
           ],
           "y": [
            3709.429
           ]
          }
         ]
        },
        {
         "data": [
          {
           "marker": {
            "color": "red",
            "size": 15
           },
           "mode": "markers",
           "type": "scatter",
           "x": [
            "2020-10-05T00:00:00"
           ],
           "y": [
            3927
           ]
          }
         ]
        },
        {
         "data": [
          {
           "marker": {
            "color": "red",
            "size": 15
           },
           "mode": "markers",
           "type": "scatter",
           "x": [
            "2020-10-06T00:00:00"
           ],
           "y": [
            4167.571
           ]
          }
         ]
        },
        {
         "data": [
          {
           "marker": {
            "color": "red",
            "size": 15
           },
           "mode": "markers",
           "type": "scatter",
           "x": [
            "2020-10-07T00:00:00"
           ],
           "y": [
            4534.857
           ]
          }
         ]
        },
        {
         "data": [
          {
           "marker": {
            "color": "red",
            "size": 15
           },
           "mode": "markers",
           "type": "scatter",
           "x": [
            "2020-10-08T00:00:00"
           ],
           "y": [
            4841.429
           ]
          }
         ]
        },
        {
         "data": [
          {
           "marker": {
            "color": "red",
            "size": 15
           },
           "mode": "markers",
           "type": "scatter",
           "x": [
            "2020-10-09T00:00:00"
           ],
           "y": [
            5202.857
           ]
          }
         ]
        },
        {
         "data": [
          {
           "marker": {
            "color": "red",
            "size": 15
           },
           "mode": "markers",
           "type": "scatter",
           "x": [
            "2020-10-10T00:00:00"
           ],
           "y": [
            5541.429
           ]
          }
         ]
        },
        {
         "data": [
          {
           "marker": {
            "color": "red",
            "size": 15
           },
           "mode": "markers",
           "type": "scatter",
           "x": [
            "2020-10-11T00:00:00"
           ],
           "y": [
            5865.429
           ]
          }
         ]
        },
        {
         "data": [
          {
           "marker": {
            "color": "red",
            "size": 15
           },
           "mode": "markers",
           "type": "scatter",
           "x": [
            "2020-10-12T00:00:00"
           ],
           "y": [
            6271.571
           ]
          }
         ]
        },
        {
         "data": [
          {
           "marker": {
            "color": "red",
            "size": 15
           },
           "mode": "markers",
           "type": "scatter",
           "x": [
            "2020-10-13T00:00:00"
           ],
           "y": [
            6600.714
           ]
          }
         ]
        },
        {
         "data": [
          {
           "marker": {
            "color": "red",
            "size": 15
           },
           "mode": "markers",
           "type": "scatter",
           "x": [
            "2020-10-14T00:00:00"
           ],
           "y": [
            6882.143
           ]
          }
         ]
        },
        {
         "data": [
          {
           "marker": {
            "color": "red",
            "size": 15
           },
           "mode": "markers",
           "type": "scatter",
           "x": [
            "2020-10-15T00:00:00"
           ],
           "y": [
            7170.714
           ]
          }
         ]
        },
        {
         "data": [
          {
           "marker": {
            "color": "red",
            "size": 15
           },
           "mode": "markers",
           "type": "scatter",
           "x": [
            "2020-10-16T00:00:00"
           ],
           "y": [
            7402.143
           ]
          }
         ]
        },
        {
         "data": [
          {
           "marker": {
            "color": "red",
            "size": 15
           },
           "mode": "markers",
           "type": "scatter",
           "x": [
            "2020-10-17T00:00:00"
           ],
           "y": [
            7660.429
           ]
          }
         ]
        },
        {
         "data": [
          {
           "marker": {
            "color": "red",
            "size": 15
           },
           "mode": "markers",
           "type": "scatter",
           "x": [
            "2020-10-18T00:00:00"
           ],
           "y": [
            7824.429
           ]
          }
         ]
        },
        {
         "data": [
          {
           "marker": {
            "color": "red",
            "size": 15
           },
           "mode": "markers",
           "type": "scatter",
           "x": [
            "2020-10-19T00:00:00"
           ],
           "y": [
            7937.286
           ]
          }
         ]
        },
        {
         "data": [
          {
           "marker": {
            "color": "red",
            "size": 15
           },
           "mode": "markers",
           "type": "scatter",
           "x": [
            "2020-10-20T00:00:00"
           ],
           "y": [
            8144
           ]
          }
         ]
        },
        {
         "data": [
          {
           "marker": {
            "color": "red",
            "size": 15
           },
           "mode": "markers",
           "type": "scatter",
           "x": [
            "2020-10-21T00:00:00"
           ],
           "y": [
            8355.857
           ]
          }
         ]
        },
        {
         "data": [
          {
           "marker": {
            "color": "red",
            "size": 15
           },
           "mode": "markers",
           "type": "scatter",
           "x": [
            "2020-10-22T00:00:00"
           ],
           "y": [
            8642.143
           ]
          }
         ]
        },
        {
         "data": [
          {
           "marker": {
            "color": "red",
            "size": 15
           },
           "mode": "markers",
           "type": "scatter",
           "x": [
            "2020-10-23T00:00:00"
           ],
           "y": [
            8718.571
           ]
          }
         ]
        },
        {
         "data": [
          {
           "marker": {
            "color": "red",
            "size": 15
           },
           "mode": "markers",
           "type": "scatter",
           "x": [
            "2020-10-24T00:00:00"
           ],
           "y": [
            9007.286
           ]
          }
         ]
        },
        {
         "data": [
          {
           "marker": {
            "color": "red",
            "size": 15
           },
           "mode": "markers",
           "type": "scatter",
           "x": [
            "2020-10-25T00:00:00"
           ],
           "y": [
            9343.143
           ]
          }
         ]
        },
        {
         "data": [
          {
           "marker": {
            "color": "red",
            "size": 15
           },
           "mode": "markers",
           "type": "scatter",
           "x": [
            "2020-10-26T00:00:00"
           ],
           "y": [
            9647.286
           ]
          }
         ]
        },
        {
         "data": [
          {
           "marker": {
            "color": "red",
            "size": 15
           },
           "mode": "markers",
           "type": "scatter",
           "x": [
            "2020-10-27T00:00:00"
           ],
           "y": [
            9556.143
           ]
          }
         ]
        },
        {
         "data": [
          {
           "marker": {
            "color": "red",
            "size": 15
           },
           "mode": "markers",
           "type": "scatter",
           "x": [
            "2020-10-28T00:00:00"
           ],
           "y": [
            9698
           ]
          }
         ]
        },
        {
         "data": [
          {
           "marker": {
            "color": "red",
            "size": 15
           },
           "mode": "markers",
           "type": "scatter",
           "x": [
            "2020-10-29T00:00:00"
           ],
           "y": [
            9858.429
           ]
          }
         ]
        },
        {
         "data": [
          {
           "marker": {
            "color": "red",
            "size": 15
           },
           "mode": "markers",
           "type": "scatter",
           "x": [
            "2020-10-30T00:00:00"
           ],
           "y": [
            10024.571
           ]
          }
         ]
        },
        {
         "data": [
          {
           "marker": {
            "color": "red",
            "size": 15
           },
           "mode": "markers",
           "type": "scatter",
           "x": [
            "2020-10-31T00:00:00"
           ],
           "y": [
            9807.571
           ]
          }
         ]
        },
        {
         "data": [
          {
           "marker": {
            "color": "red",
            "size": 15
           },
           "mode": "markers",
           "type": "scatter",
           "x": [
            "2020-11-01T00:00:00"
           ],
           "y": [
            9513.857
           ]
          }
         ]
        },
        {
         "data": [
          {
           "marker": {
            "color": "red",
            "size": 15
           },
           "mode": "markers",
           "type": "scatter",
           "x": [
            "2020-11-02T00:00:00"
           ],
           "y": [
            9150.857
           ]
          }
         ]
        },
        {
         "data": [
          {
           "marker": {
            "color": "red",
            "size": 15
           },
           "mode": "markers",
           "type": "scatter",
           "x": [
            "2020-11-03T00:00:00"
           ],
           "y": [
            9085.571
           ]
          }
         ]
        },
        {
         "data": [
          {
           "marker": {
            "color": "red",
            "size": 15
           },
           "mode": "markers",
           "type": "scatter",
           "x": [
            "2020-11-04T00:00:00"
           ],
           "y": [
            8614
           ]
          }
         ]
        },
        {
         "data": [
          {
           "marker": {
            "color": "red",
            "size": 15
           },
           "mode": "markers",
           "type": "scatter",
           "x": [
            "2020-11-05T00:00:00"
           ],
           "y": [
            8061.143
           ]
          }
         ]
        },
        {
         "data": [
          {
           "marker": {
            "color": "red",
            "size": 15
           },
           "mode": "markers",
           "type": "scatter",
           "x": [
            "2020-11-06T00:00:00"
           ],
           "y": [
            7611.143
           ]
          }
         ]
        },
        {
         "data": [
          {
           "marker": {
            "color": "red",
            "size": 15
           },
           "mode": "markers",
           "type": "scatter",
           "x": [
            "2020-11-07T00:00:00"
           ],
           "y": [
            7180.571
           ]
          }
         ]
        },
        {
         "data": [
          {
           "marker": {
            "color": "red",
            "size": 15
           },
           "mode": "markers",
           "type": "scatter",
           "x": [
            "2020-11-08T00:00:00"
           ],
           "y": [
            6665.286
           ]
          }
         ]
        },
        {
         "data": [
          {
           "marker": {
            "color": "red",
            "size": 15
           },
           "mode": "markers",
           "type": "scatter",
           "x": [
            "2020-11-09T00:00:00"
           ],
           "y": [
            6224.857
           ]
          }
         ]
        },
        {
         "data": [
          {
           "marker": {
            "color": "red",
            "size": 15
           },
           "mode": "markers",
           "type": "scatter",
           "x": [
            "2020-11-10T00:00:00"
           ],
           "y": [
            5906.429
           ]
          }
         ]
        },
        {
         "data": [
          {
           "marker": {
            "color": "red",
            "size": 15
           },
           "mode": "markers",
           "type": "scatter",
           "x": [
            "2020-11-11T00:00:00"
           ],
           "y": [
            5715
           ]
          }
         ]
        },
        {
         "data": [
          {
           "marker": {
            "color": "red",
            "size": 15
           },
           "mode": "markers",
           "type": "scatter",
           "x": [
            "2020-11-12T00:00:00"
           ],
           "y": [
            5550.143
           ]
          }
         ]
        },
        {
         "data": [
          {
           "marker": {
            "color": "red",
            "size": 15
           },
           "mode": "markers",
           "type": "scatter",
           "x": [
            "2020-11-13T00:00:00"
           ],
           "y": [
            5443.286
           ]
          }
         ]
        },
        {
         "data": [
          {
           "marker": {
            "color": "red",
            "size": 15
           },
           "mode": "markers",
           "type": "scatter",
           "x": [
            "2020-11-14T00:00:00"
           ],
           "y": [
            5406.143
           ]
          }
         ]
        },
        {
         "data": [
          {
           "marker": {
            "color": "red",
            "size": 15
           },
           "mode": "markers",
           "type": "scatter",
           "x": [
            "2020-11-15T00:00:00"
           ],
           "y": [
            5428.429
           ]
          }
         ]
        },
        {
         "data": [
          {
           "marker": {
            "color": "red",
            "size": 15
           },
           "mode": "markers",
           "type": "scatter",
           "x": [
            "2020-11-16T00:00:00"
           ],
           "y": [
            5376.286
           ]
          }
         ]
        },
        {
         "data": [
          {
           "marker": {
            "color": "red",
            "size": 15
           },
           "mode": "markers",
           "type": "scatter",
           "x": [
            "2020-11-17T00:00:00"
           ],
           "y": [
            5262.714
           ]
          }
         ]
        },
        {
         "data": [
          {
           "marker": {
            "color": "red",
            "size": 15
           },
           "mode": "markers",
           "type": "scatter",
           "x": [
            "2020-11-18T00:00:00"
           ],
           "y": [
            5265.429
           ]
          }
         ]
        },
        {
         "data": [
          {
           "marker": {
            "color": "red",
            "size": 15
           },
           "mode": "markers",
           "type": "scatter",
           "x": [
            "2020-11-19T00:00:00"
           ],
           "y": [
            5243.571
           ]
          }
         ]
        },
        {
         "data": [
          {
           "marker": {
            "color": "red",
            "size": 15
           },
           "mode": "markers",
           "type": "scatter",
           "x": [
            "2020-11-20T00:00:00"
           ],
           "y": [
            5266
           ]
          }
         ]
        },
        {
         "data": [
          {
           "marker": {
            "color": "red",
            "size": 15
           },
           "mode": "markers",
           "type": "scatter",
           "x": [
            "2020-11-21T00:00:00"
           ],
           "y": [
            5264.286
           ]
          }
         ]
        },
        {
         "data": [
          {
           "marker": {
            "color": "red",
            "size": 15
           },
           "mode": "markers",
           "type": "scatter",
           "x": [
            "2020-11-22T00:00:00"
           ],
           "y": [
            5313
           ]
          }
         ]
        },
        {
         "data": [
          {
           "marker": {
            "color": "red",
            "size": 15
           },
           "mode": "markers",
           "type": "scatter",
           "x": [
            "2020-11-23T00:00:00"
           ],
           "y": [
            5259.143
           ]
          }
         ]
        },
        {
         "data": [
          {
           "marker": {
            "color": "red",
            "size": 15
           },
           "mode": "markers",
           "type": "scatter",
           "x": [
            "2020-11-24T00:00:00"
           ],
           "y": [
            5301
           ]
          }
         ]
        },
        {
         "data": [
          {
           "marker": {
            "color": "red",
            "size": 15
           },
           "mode": "markers",
           "type": "scatter",
           "x": [
            "2020-11-25T00:00:00"
           ],
           "y": [
            5134
           ]
          }
         ]
        },
        {
         "data": [
          {
           "marker": {
            "color": "red",
            "size": 15
           },
           "mode": "markers",
           "type": "scatter",
           "x": [
            "2020-11-26T00:00:00"
           ],
           "y": [
            5106.286
           ]
          }
         ]
        },
        {
         "data": [
          {
           "marker": {
            "color": "red",
            "size": 15
           },
           "mode": "markers",
           "type": "scatter",
           "x": [
            "2020-11-27T00:00:00"
           ],
           "y": [
            4876.429
           ]
          }
         ]
        },
        {
         "data": [
          {
           "marker": {
            "color": "red",
            "size": 15
           },
           "mode": "markers",
           "type": "scatter",
           "x": [
            "2020-11-28T00:00:00"
           ],
           "y": [
            4904
           ]
          }
         ]
        },
        {
         "data": [
          {
           "marker": {
            "color": "red",
            "size": 15
           },
           "mode": "markers",
           "type": "scatter",
           "x": [
            "2020-11-29T00:00:00"
           ],
           "y": [
            4816.429
           ]
          }
         ]
        },
        {
         "data": [
          {
           "marker": {
            "color": "red",
            "size": 15
           },
           "mode": "markers",
           "type": "scatter",
           "x": [
            "2020-11-30T00:00:00"
           ],
           "y": [
            4833.286
           ]
          }
         ]
        },
        {
         "data": [
          {
           "marker": {
            "color": "red",
            "size": 15
           },
           "mode": "markers",
           "type": "scatter",
           "x": [
            "2020-12-01T00:00:00"
           ],
           "y": [
            4834.286
           ]
          }
         ]
        },
        {
         "data": [
          {
           "marker": {
            "color": "red",
            "size": 15
           },
           "mode": "markers",
           "type": "scatter",
           "x": [
            "2020-12-02T00:00:00"
           ],
           "y": [
            4994.714
           ]
          }
         ]
        },
        {
         "data": [
          {
           "marker": {
            "color": "red",
            "size": 15
           },
           "mode": "markers",
           "type": "scatter",
           "x": [
            "2020-12-03T00:00:00"
           ],
           "y": [
            5017.429
           ]
          }
         ]
        },
        {
         "data": [
          {
           "marker": {
            "color": "red",
            "size": 15
           },
           "mode": "markers",
           "type": "scatter",
           "x": [
            "2020-12-04T00:00:00"
           ],
           "y": [
            5312.429
           ]
          }
         ]
        },
        {
         "data": [
          {
           "marker": {
            "color": "red",
            "size": 15
           },
           "mode": "markers",
           "type": "scatter",
           "x": [
            "2020-12-05T00:00:00"
           ],
           "y": [
            5484.429
           ]
          }
         ]
        },
        {
         "data": [
          {
           "marker": {
            "color": "red",
            "size": 15
           },
           "mode": "markers",
           "type": "scatter",
           "x": [
            "2020-12-06T00:00:00"
           ],
           "y": [
            5841.429
           ]
          }
         ]
        },
        {
         "data": [
          {
           "marker": {
            "color": "red",
            "size": 15
           },
           "mode": "markers",
           "type": "scatter",
           "x": [
            "2020-12-07T00:00:00"
           ],
           "y": [
            6143.286
           ]
          }
         ]
        },
        {
         "data": [
          {
           "marker": {
            "color": "red",
            "size": 15
           },
           "mode": "markers",
           "type": "scatter",
           "x": [
            "2020-12-08T00:00:00"
           ],
           "y": [
            6373.286
           ]
          }
         ]
        },
        {
         "data": [
          {
           "marker": {
            "color": "red",
            "size": 15
           },
           "mode": "markers",
           "type": "scatter",
           "x": [
            "2020-12-09T00:00:00"
           ],
           "y": [
            6821.143
           ]
          }
         ]
        },
        {
         "data": [
          {
           "marker": {
            "color": "red",
            "size": 15
           },
           "mode": "markers",
           "type": "scatter",
           "x": [
            "2020-12-10T00:00:00"
           ],
           "y": [
            7242.143
           ]
          }
         ]
        },
        {
         "data": [
          {
           "marker": {
            "color": "red",
            "size": 15
           },
           "mode": "markers",
           "type": "scatter",
           "x": [
            "2020-12-11T00:00:00"
           ],
           "y": [
            7609
           ]
          }
         ]
        },
        {
         "data": [
          {
           "marker": {
            "color": "red",
            "size": 15
           },
           "mode": "markers",
           "type": "scatter",
           "x": [
            "2020-12-12T00:00:00"
           ],
           "y": [
            8050.857
           ]
          }
         ]
        },
        {
         "data": [
          {
           "marker": {
            "color": "red",
            "size": 15
           },
           "mode": "markers",
           "type": "scatter",
           "x": [
            "2020-12-13T00:00:00"
           ],
           "y": [
            8249.429
           ]
          }
         ]
        },
        {
         "data": [
          {
           "marker": {
            "color": "red",
            "size": 15
           },
           "mode": "markers",
           "type": "scatter",
           "x": [
            "2020-12-14T00:00:00"
           ],
           "y": [
            8319.143
           ]
          }
         ]
        },
        {
         "data": [
          {
           "marker": {
            "color": "red",
            "size": 15
           },
           "mode": "markers",
           "type": "scatter",
           "x": [
            "2020-12-15T00:00:00"
           ],
           "y": [
            8984.143
           ]
          }
         ]
        },
        {
         "data": [
          {
           "marker": {
            "color": "red",
            "size": 15
           },
           "mode": "markers",
           "type": "scatter",
           "x": [
            "2020-12-16T00:00:00"
           ],
           "y": [
            9561.571
           ]
          }
         ]
        },
        {
         "data": [
          {
           "marker": {
            "color": "red",
            "size": 15
           },
           "mode": "markers",
           "type": "scatter",
           "x": [
            "2020-12-17T00:00:00"
           ],
           "y": [
            10003.714
           ]
          }
         ]
        },
        {
         "data": [
          {
           "marker": {
            "color": "red",
            "size": 15
           },
           "mode": "markers",
           "type": "scatter",
           "x": [
            "2020-12-18T00:00:00"
           ],
           "y": [
            10451.429
           ]
          }
         ]
        },
        {
         "data": [
          {
           "marker": {
            "color": "red",
            "size": 15
           },
           "mode": "markers",
           "type": "scatter",
           "x": [
            "2020-12-19T00:00:00"
           ],
           "y": [
            10901.286
           ]
          }
         ]
        },
        {
         "data": [
          {
           "marker": {
            "color": "red",
            "size": 15
           },
           "mode": "markers",
           "type": "scatter",
           "x": [
            "2020-12-20T00:00:00"
           ],
           "y": [
            11289.286
           ]
          }
         ]
        },
        {
         "data": [
          {
           "marker": {
            "color": "red",
            "size": 15
           },
           "mode": "markers",
           "type": "scatter",
           "x": [
            "2020-12-21T00:00:00"
           ],
           "y": [
            11742.143
           ]
          }
         ]
        },
        {
         "data": [
          {
           "marker": {
            "color": "red",
            "size": 15
           },
           "mode": "markers",
           "type": "scatter",
           "x": [
            "2020-12-22T00:00:00"
           ],
           "y": [
            11631.143
           ]
          }
         ]
        },
        {
         "data": [
          {
           "marker": {
            "color": "red",
            "size": 15
           },
           "mode": "markers",
           "type": "scatter",
           "x": [
            "2020-12-23T00:00:00"
           ],
           "y": [
            11448.429
           ]
          }
         ]
        },
        {
         "data": [
          {
           "marker": {
            "color": "red",
            "size": 15
           },
           "mode": "markers",
           "type": "scatter",
           "x": [
            "2020-12-24T00:00:00"
           ],
           "y": [
            11384.571
           ]
          }
         ]
        },
        {
         "data": [
          {
           "marker": {
            "color": "red",
            "size": 15
           },
           "mode": "markers",
           "type": "scatter",
           "x": [
            "2020-12-25T00:00:00"
           ],
           "y": [
            11044.286
           ]
          }
         ]
        },
        {
         "data": [
          {
           "marker": {
            "color": "red",
            "size": 15
           },
           "mode": "markers",
           "type": "scatter",
           "x": [
            "2020-12-26T00:00:00"
           ],
           "y": [
            10478.571
           ]
          }
         ]
        },
        {
         "data": [
          {
           "marker": {
            "color": "red",
            "size": 15
           },
           "mode": "markers",
           "type": "scatter",
           "x": [
            "2020-12-27T00:00:00"
           ],
           "y": [
            9941.714
           ]
          }
         ]
        },
        {
         "data": [
          {
           "marker": {
            "color": "red",
            "size": 15
           },
           "mode": "markers",
           "type": "scatter",
           "x": [
            "2020-12-28T00:00:00"
           ],
           "y": [
            9613.143
           ]
          }
         ]
        },
        {
         "data": [
          {
           "marker": {
            "color": "red",
            "size": 15
           },
           "mode": "markers",
           "type": "scatter",
           "x": [
            "2020-12-29T00:00:00"
           ],
           "y": [
            9470
           ]
          }
         ]
        },
        {
         "data": [
          {
           "marker": {
            "color": "red",
            "size": 15
           },
           "mode": "markers",
           "type": "scatter",
           "x": [
            "2020-12-30T00:00:00"
           ],
           "y": [
            9210.714
           ]
          }
         ]
        },
        {
         "data": [
          {
           "marker": {
            "color": "red",
            "size": 15
           },
           "mode": "markers",
           "type": "scatter",
           "x": [
            "2020-12-31T00:00:00"
           ],
           "y": [
            8739.714
           ]
          }
         ]
        },
        {
         "data": [
          {
           "marker": {
            "color": "red",
            "size": 15
           },
           "mode": "markers",
           "type": "scatter",
           "x": [
            "2021-01-01T00:00:00"
           ],
           "y": [
            8560.714
           ]
          }
         ]
        },
        {
         "data": [
          {
           "marker": {
            "color": "red",
            "size": 15
           },
           "mode": "markers",
           "type": "scatter",
           "x": [
            "2021-01-02T00:00:00"
           ],
           "y": [
            8321
           ]
          }
         ]
        },
        {
         "data": [
          {
           "marker": {
            "color": "red",
            "size": 15
           },
           "mode": "markers",
           "type": "scatter",
           "x": [
            "2021-01-03T00:00:00"
           ],
           "y": [
            8199.286
           ]
          }
         ]
        },
        {
         "data": [
          {
           "marker": {
            "color": "red",
            "size": 15
           },
           "mode": "markers",
           "type": "scatter",
           "x": [
            "2021-01-04T00:00:00"
           ],
           "y": [
            8030.857
           ]
          }
         ]
        },
        {
         "data": [
          {
           "marker": {
            "color": "red",
            "size": 15
           },
           "mode": "markers",
           "type": "scatter",
           "x": [
            "2021-01-05T00:00:00"
           ],
           "y": [
            7706.286
           ]
          }
         ]
        },
        {
         "data": [
          {
           "marker": {
            "color": "red",
            "size": 15
           },
           "mode": "markers",
           "type": "scatter",
           "x": [
            "2021-01-06T00:00:00"
           ],
           "y": [
            7698.143
           ]
          }
         ]
        },
        {
         "data": [
          {
           "marker": {
            "color": "red",
            "size": 15
           },
           "mode": "markers",
           "type": "scatter",
           "x": [
            "2021-01-07T00:00:00"
           ],
           "y": [
            7689.286
           ]
          }
         ]
        },
        {
         "data": [
          {
           "marker": {
            "color": "red",
            "size": 15
           },
           "mode": "markers",
           "type": "scatter",
           "x": [
            "2021-01-08T00:00:00"
           ],
           "y": [
            7509.429
           ]
          }
         ]
        },
        {
         "data": [
          {
           "marker": {
            "color": "red",
            "size": 15
           },
           "mode": "markers",
           "type": "scatter",
           "x": [
            "2021-01-09T00:00:00"
           ],
           "y": [
            7396.571
           ]
          }
         ]
        },
        {
         "data": [
          {
           "marker": {
            "color": "red",
            "size": 15
           },
           "mode": "markers",
           "type": "scatter",
           "x": [
            "2021-01-10T00:00:00"
           ],
           "y": [
            7232.857
           ]
          }
         ]
        },
        {
         "data": [
          {
           "marker": {
            "color": "red",
            "size": 15
           },
           "mode": "markers",
           "type": "scatter",
           "x": [
            "2021-01-11T00:00:00"
           ],
           "y": [
            7025.857
           ]
          }
         ]
        },
        {
         "data": [
          {
           "marker": {
            "color": "red",
            "size": 15
           },
           "mode": "markers",
           "type": "scatter",
           "x": [
            "2021-01-12T00:00:00"
           ],
           "y": [
            6877.571
           ]
          }
         ]
        },
        {
         "data": [
          {
           "marker": {
            "color": "red",
            "size": 15
           },
           "mode": "markers",
           "type": "scatter",
           "x": [
            "2021-01-13T00:00:00"
           ],
           "y": [
            6427.429
           ]
          }
         ]
        },
        {
         "data": [
          {
           "marker": {
            "color": "red",
            "size": 15
           },
           "mode": "markers",
           "type": "scatter",
           "x": [
            "2021-01-14T00:00:00"
           ],
           "y": [
            6125.714
           ]
          }
         ]
        },
        {
         "data": [
          {
           "marker": {
            "color": "red",
            "size": 15
           },
           "mode": "markers",
           "type": "scatter",
           "x": [
            "2021-01-15T00:00:00"
           ],
           "y": [
            5829.714
           ]
          }
         ]
        },
        {
         "data": [
          {
           "marker": {
            "color": "red",
            "size": 15
           },
           "mode": "markers",
           "type": "scatter",
           "x": [
            "2021-01-16T00:00:00"
           ],
           "y": [
            5684.857
           ]
          }
         ]
        },
        {
         "data": [
          {
           "marker": {
            "color": "red",
            "size": 15
           },
           "mode": "markers",
           "type": "scatter",
           "x": [
            "2021-01-17T00:00:00"
           ],
           "y": [
            5592.286
           ]
          }
         ]
        },
        {
         "data": [
          {
           "marker": {
            "color": "red",
            "size": 15
           },
           "mode": "markers",
           "type": "scatter",
           "x": [
            "2021-01-18T00:00:00"
           ],
           "y": [
            5505.571
           ]
          }
         ]
        },
        {
         "data": [
          {
           "marker": {
            "color": "red",
            "size": 15
           },
           "mode": "markers",
           "type": "scatter",
           "x": [
            "2021-01-19T00:00:00"
           ],
           "y": [
            5425.286
           ]
          }
         ]
        },
        {
         "data": [
          {
           "marker": {
            "color": "red",
            "size": 15
           },
           "mode": "markers",
           "type": "scatter",
           "x": [
            "2021-01-20T00:00:00"
           ],
           "y": [
            5327.571
           ]
          }
         ]
        },
        {
         "data": [
          {
           "marker": {
            "color": "red",
            "size": 15
           },
           "mode": "markers",
           "type": "scatter",
           "x": [
            "2021-01-21T00:00:00"
           ],
           "y": [
            5287.286
           ]
          }
         ]
        },
        {
         "data": [
          {
           "marker": {
            "color": "red",
            "size": 15
           },
           "mode": "markers",
           "type": "scatter",
           "x": [
            "2021-01-22T00:00:00"
           ],
           "y": [
            5309.857
           ]
          }
         ]
        },
        {
         "data": [
          {
           "marker": {
            "color": "red",
            "size": 15
           },
           "mode": "markers",
           "type": "scatter",
           "x": [
            "2021-01-23T00:00:00"
           ],
           "y": [
            5208.857
           ]
          }
         ]
        },
        {
         "data": [
          {
           "marker": {
            "color": "red",
            "size": 15
           },
           "mode": "markers",
           "type": "scatter",
           "x": [
            "2021-01-24T00:00:00"
           ],
           "y": [
            5105.571
           ]
          }
         ]
        },
        {
         "data": [
          {
           "marker": {
            "color": "red",
            "size": 15
           },
           "mode": "markers",
           "type": "scatter",
           "x": [
            "2021-01-25T00:00:00"
           ],
           "y": [
            5053.714
           ]
          }
         ]
        },
        {
         "data": [
          {
           "marker": {
            "color": "red",
            "size": 15
           },
           "mode": "markers",
           "type": "scatter",
           "x": [
            "2021-01-26T00:00:00"
           ],
           "y": [
            4939
           ]
          }
         ]
        },
        {
         "data": [
          {
           "marker": {
            "color": "red",
            "size": 15
           },
           "mode": "markers",
           "type": "scatter",
           "x": [
            "2021-01-27T00:00:00"
           ],
           "y": [
            4781.714
           ]
          }
         ]
        },
        {
         "data": [
          {
           "marker": {
            "color": "red",
            "size": 15
           },
           "mode": "markers",
           "type": "scatter",
           "x": [
            "2021-01-28T00:00:00"
           ],
           "y": [
            4584
           ]
          }
         ]
        },
        {
         "data": [
          {
           "marker": {
            "color": "red",
            "size": 15
           },
           "mode": "markers",
           "type": "scatter",
           "x": [
            "2021-01-29T00:00:00"
           ],
           "y": [
            4408
           ]
          }
         ]
        },
        {
         "data": [
          {
           "marker": {
            "color": "red",
            "size": 15
           },
           "mode": "markers",
           "type": "scatter",
           "x": [
            "2021-01-30T00:00:00"
           ],
           "y": [
            4238.714
           ]
          }
         ]
        },
        {
         "data": [
          {
           "marker": {
            "color": "red",
            "size": 15
           },
           "mode": "markers",
           "type": "scatter",
           "x": [
            "2021-01-31T00:00:00"
           ],
           "y": [
            4116.143
           ]
          }
         ]
        },
        {
         "data": [
          {
           "marker": {
            "color": "red",
            "size": 15
           },
           "mode": "markers",
           "type": "scatter",
           "x": [
            "2021-02-01T00:00:00"
           ],
           "y": [
            4067
           ]
          }
         ]
        },
        {
         "data": [
          {
           "marker": {
            "color": "red",
            "size": 15
           },
           "mode": "markers",
           "type": "scatter",
           "x": [
            "2021-02-02T00:00:00"
           ],
           "y": [
            3966
           ]
          }
         ]
        },
        {
         "data": [
          {
           "marker": {
            "color": "red",
            "size": 15
           },
           "mode": "markers",
           "type": "scatter",
           "x": [
            "2021-02-03T00:00:00"
           ],
           "y": [
            3895.714
           ]
          }
         ]
        },
        {
         "data": [
          {
           "marker": {
            "color": "red",
            "size": 15
           },
           "mode": "markers",
           "type": "scatter",
           "x": [
            "2021-02-04T00:00:00"
           ],
           "y": [
            3891.143
           ]
          }
         ]
        },
        {
         "data": [
          {
           "marker": {
            "color": "red",
            "size": 15
           },
           "mode": "markers",
           "type": "scatter",
           "x": [
            "2021-02-05T00:00:00"
           ],
           "y": [
            3875
           ]
          }
         ]
        },
        {
         "data": [
          {
           "marker": {
            "color": "red",
            "size": 15
           },
           "mode": "markers",
           "type": "scatter",
           "x": [
            "2021-02-06T00:00:00"
           ],
           "y": [
            3908.571
           ]
          }
         ]
        },
        {
         "data": [
          {
           "marker": {
            "color": "red",
            "size": 15
           },
           "mode": "markers",
           "type": "scatter",
           "x": [
            "2021-02-07T00:00:00"
           ],
           "y": [
            3770.429
           ]
          }
         ]
        },
        {
         "data": [
          {
           "marker": {
            "color": "red",
            "size": 15
           },
           "mode": "markers",
           "type": "scatter",
           "x": [
            "2021-02-08T00:00:00"
           ],
           "y": [
            3509.857
           ]
          }
         ]
        },
        {
         "data": [
          {
           "marker": {
            "color": "red",
            "size": 15
           },
           "mode": "markers",
           "type": "scatter",
           "x": [
            "2021-02-09T00:00:00"
           ],
           "y": [
            3391.143
           ]
          }
         ]
        },
        {
         "data": [
          {
           "marker": {
            "color": "red",
            "size": 15
           },
           "mode": "markers",
           "type": "scatter",
           "x": [
            "2021-02-10T00:00:00"
           ],
           "y": [
            3420.714
           ]
          }
         ]
        },
        {
         "data": [
          {
           "marker": {
            "color": "red",
            "size": 15
           },
           "mode": "markers",
           "type": "scatter",
           "x": [
            "2021-02-11T00:00:00"
           ],
           "y": [
            3423.714
           ]
          }
         ]
        },
        {
         "data": [
          {
           "marker": {
            "color": "red",
            "size": 15
           },
           "mode": "markers",
           "type": "scatter",
           "x": [
            "2021-02-12T00:00:00"
           ],
           "y": [
            3440.143
           ]
          }
         ]
        },
        {
         "data": [
          {
           "marker": {
            "color": "red",
            "size": 15
           },
           "mode": "markers",
           "type": "scatter",
           "x": [
            "2021-02-13T00:00:00"
           ],
           "y": [
            3370
           ]
          }
         ]
        },
        {
         "data": [
          {
           "marker": {
            "color": "red",
            "size": 15
           },
           "mode": "markers",
           "type": "scatter",
           "x": [
            "2021-02-14T00:00:00"
           ],
           "y": [
            3454.714
           ]
          }
         ]
        },
        {
         "data": [
          {
           "marker": {
            "color": "red",
            "size": 15
           },
           "mode": "markers",
           "type": "scatter",
           "x": [
            "2021-02-15T00:00:00"
           ],
           "y": [
            3590.429
           ]
          }
         ]
        },
        {
         "data": [
          {
           "marker": {
            "color": "red",
            "size": 15
           },
           "mode": "markers",
           "type": "scatter",
           "x": [
            "2021-02-16T00:00:00"
           ],
           "y": [
            3615.571
           ]
          }
         ]
        },
        {
         "data": [
          {
           "marker": {
            "color": "red",
            "size": 15
           },
           "mode": "markers",
           "type": "scatter",
           "x": [
            "2021-02-17T00:00:00"
           ],
           "y": [
            3631.571
           ]
          }
         ]
        },
        {
         "data": [
          {
           "marker": {
            "color": "red",
            "size": 15
           },
           "mode": "markers",
           "type": "scatter",
           "x": [
            "2021-02-18T00:00:00"
           ],
           "y": [
            3685.571
           ]
          }
         ]
        },
        {
         "data": [
          {
           "marker": {
            "color": "red",
            "size": 15
           },
           "mode": "markers",
           "type": "scatter",
           "x": [
            "2021-02-19T00:00:00"
           ],
           "y": [
            3738.571
           ]
          }
         ]
        },
        {
         "data": [
          {
           "marker": {
            "color": "red",
            "size": 15
           },
           "mode": "markers",
           "type": "scatter",
           "x": [
            "2021-02-20T00:00:00"
           ],
           "y": [
            3913.429
           ]
          }
         ]
        },
        {
         "data": [
          {
           "marker": {
            "color": "red",
            "size": 15
           },
           "mode": "markers",
           "type": "scatter",
           "x": [
            "2021-02-21T00:00:00"
           ],
           "y": [
            4106
           ]
          }
         ]
        },
        {
         "data": [
          {
           "marker": {
            "color": "red",
            "size": 15
           },
           "mode": "markers",
           "type": "scatter",
           "x": [
            "2021-02-22T00:00:00"
           ],
           "y": [
            4263.429
           ]
          }
         ]
        },
        {
         "data": [
          {
           "marker": {
            "color": "red",
            "size": 15
           },
           "mode": "markers",
           "type": "scatter",
           "x": [
            "2021-02-23T00:00:00"
           ],
           "y": [
            4405.429
           ]
          }
         ]
        },
        {
         "data": [
          {
           "marker": {
            "color": "red",
            "size": 15
           },
           "mode": "markers",
           "type": "scatter",
           "x": [
            "2021-02-24T00:00:00"
           ],
           "y": [
            4475.143
           ]
          }
         ]
        },
        {
         "data": [
          {
           "marker": {
            "color": "red",
            "size": 15
           },
           "mode": "markers",
           "type": "scatter",
           "x": [
            "2021-02-25T00:00:00"
           ],
           "y": [
            4529.714
           ]
          }
         ]
        },
        {
         "data": [
          {
           "marker": {
            "color": "red",
            "size": 15
           },
           "mode": "markers",
           "type": "scatter",
           "x": [
            "2021-02-26T00:00:00"
           ],
           "y": [
            4582.286
           ]
          }
         ]
        },
        {
         "data": [
          {
           "marker": {
            "color": "red",
            "size": 15
           },
           "mode": "markers",
           "type": "scatter",
           "x": [
            "2021-02-27T00:00:00"
           ],
           "y": [
            4581.857
           ]
          }
         ]
        },
        {
         "data": [
          {
           "marker": {
            "color": "red",
            "size": 15
           },
           "mode": "markers",
           "type": "scatter",
           "x": [
            "2021-02-28T00:00:00"
           ],
           "y": [
            4525
           ]
          }
         ]
        },
        {
         "data": [
          {
           "marker": {
            "color": "red",
            "size": 15
           },
           "mode": "markers",
           "type": "scatter",
           "x": [
            "2021-03-01T00:00:00"
           ],
           "y": [
            4550.429
           ]
          }
         ]
        },
        {
         "data": [
          {
           "marker": {
            "color": "red",
            "size": 15
           },
           "mode": "markers",
           "type": "scatter",
           "x": [
            "2021-03-02T00:00:00"
           ],
           "y": [
            4640.571
           ]
          }
         ]
        },
        {
         "data": [
          {
           "marker": {
            "color": "red",
            "size": 15
           },
           "mode": "markers",
           "type": "scatter",
           "x": [
            "2021-03-03T00:00:00"
           ],
           "y": [
            4512.571
           ]
          }
         ]
        },
        {
         "data": [
          {
           "marker": {
            "color": "red",
            "size": 15
           },
           "mode": "markers",
           "type": "scatter",
           "x": [
            "2021-03-04T00:00:00"
           ],
           "y": [
            4449.143
           ]
          }
         ]
        },
        {
         "data": [
          {
           "marker": {
            "color": "red",
            "size": 15
           },
           "mode": "markers",
           "type": "scatter",
           "x": [
            "2021-03-05T00:00:00"
           ],
           "y": [
            4506
           ]
          }
         ]
        },
        {
         "data": [
          {
           "marker": {
            "color": "red",
            "size": 15
           },
           "mode": "markers",
           "type": "scatter",
           "x": [
            "2021-03-06T00:00:00"
           ],
           "y": [
            4485.714
           ]
          }
         ]
        },
        {
         "data": [
          {
           "marker": {
            "color": "red",
            "size": 15
           },
           "mode": "markers",
           "type": "scatter",
           "x": [
            "2021-03-07T00:00:00"
           ],
           "y": [
            4495.714
           ]
          }
         ]
        },
        {
         "data": [
          {
           "marker": {
            "color": "red",
            "size": 15
           },
           "mode": "markers",
           "type": "scatter",
           "x": [
            "2021-03-08T00:00:00"
           ],
           "y": [
            4540.429
           ]
          }
         ]
        },
        {
         "data": [
          {
           "marker": {
            "color": "red",
            "size": 15
           },
           "mode": "markers",
           "type": "scatter",
           "x": [
            "2021-03-09T00:00:00"
           ],
           "y": [
            4579.857
           ]
          }
         ]
        },
        {
         "data": [
          {
           "marker": {
            "color": "red",
            "size": 15
           },
           "mode": "markers",
           "type": "scatter",
           "x": [
            "2021-03-10T00:00:00"
           ],
           "y": [
            4752
           ]
          }
         ]
        },
        {
         "data": [
          {
           "marker": {
            "color": "red",
            "size": 15
           },
           "mode": "markers",
           "type": "scatter",
           "x": [
            "2021-03-11T00:00:00"
           ],
           "y": [
            4945.857
           ]
          }
         ]
        },
        {
         "data": [
          {
           "marker": {
            "color": "red",
            "size": 15
           },
           "mode": "markers",
           "type": "scatter",
           "x": [
            "2021-03-12T00:00:00"
           ],
           "y": [
            5097.714
           ]
          }
         ]
        },
        {
         "data": [
          {
           "marker": {
            "color": "red",
            "size": 15
           },
           "mode": "markers",
           "type": "scatter",
           "x": [
            "2021-03-13T00:00:00"
           ],
           "y": [
            5304.143
           ]
          }
         ]
        },
        {
         "data": [
          {
           "marker": {
            "color": "red",
            "size": 15
           },
           "mode": "markers",
           "type": "scatter",
           "x": [
            "2021-03-14T00:00:00"
           ],
           "y": [
            5537.714
           ]
          }
         ]
        },
        {
         "data": [
          {
           "marker": {
            "color": "red",
            "size": 15
           },
           "mode": "markers",
           "type": "scatter",
           "x": [
            "2021-03-15T00:00:00"
           ],
           "y": [
            5624.571
           ]
          }
         ]
        },
        {
         "data": [
          {
           "marker": {
            "color": "red",
            "size": 15
           },
           "mode": "markers",
           "type": "scatter",
           "x": [
            "2021-03-16T00:00:00"
           ],
           "y": [
            5717.857
           ]
          }
         ]
        },
        {
         "data": [
          {
           "marker": {
            "color": "red",
            "size": 15
           },
           "mode": "markers",
           "type": "scatter",
           "x": [
            "2021-03-17T00:00:00"
           ],
           "y": [
            5833.143
           ]
          }
         ]
        },
        {
         "data": [
          {
           "marker": {
            "color": "red",
            "size": 15
           },
           "mode": "markers",
           "type": "scatter",
           "x": [
            "2021-03-18T00:00:00"
           ],
           "y": [
            6025.714
           ]
          }
         ]
        },
        {
         "data": [
          {
           "marker": {
            "color": "red",
            "size": 15
           },
           "mode": "markers",
           "type": "scatter",
           "x": [
            "2021-03-19T00:00:00"
           ],
           "y": [
            6197
           ]
          }
         ]
        },
        {
         "data": [
          {
           "marker": {
            "color": "red",
            "size": 15
           },
           "mode": "markers",
           "type": "scatter",
           "x": [
            "2021-03-20T00:00:00"
           ],
           "y": [
            6338.857
           ]
          }
         ]
        },
        {
         "data": [
          {
           "marker": {
            "color": "red",
            "size": 15
           },
           "mode": "markers",
           "type": "scatter",
           "x": [
            "2021-03-21T00:00:00"
           ],
           "y": [
            6452
           ]
          }
         ]
        },
        {
         "data": [
          {
           "marker": {
            "color": "red",
            "size": 15
           },
           "mode": "markers",
           "type": "scatter",
           "x": [
            "2021-03-22T00:00:00"
           ],
           "y": [
            6546
           ]
          }
         ]
        },
        {
         "data": [
          {
           "marker": {
            "color": "red",
            "size": 15
           },
           "mode": "markers",
           "type": "scatter",
           "x": [
            "2021-03-23T00:00:00"
           ],
           "y": [
            6782.571
           ]
          }
         ]
        },
        {
         "data": [
          {
           "marker": {
            "color": "red",
            "size": 15
           },
           "mode": "markers",
           "type": "scatter",
           "x": [
            "2021-03-24T00:00:00"
           ],
           "y": [
            7008
           ]
          }
         ]
        },
        {
         "data": [
          {
           "marker": {
            "color": "red",
            "size": 15
           },
           "mode": "markers",
           "type": "scatter",
           "x": [
            "2021-03-25T00:00:00"
           ],
           "y": [
            7035.286
           ]
          }
         ]
        },
        {
         "data": [
          {
           "marker": {
            "color": "red",
            "size": 15
           },
           "mode": "markers",
           "type": "scatter",
           "x": [
            "2021-03-26T00:00:00"
           ],
           "y": [
            7206.571
           ]
          }
         ]
        },
        {
         "data": [
          {
           "marker": {
            "color": "red",
            "size": 15
           },
           "mode": "markers",
           "type": "scatter",
           "x": [
            "2021-03-27T00:00:00"
           ],
           "y": [
            7274.429
           ]
          }
         ]
        },
        {
         "data": [
          {
           "marker": {
            "color": "red",
            "size": 15
           },
           "mode": "markers",
           "type": "scatter",
           "x": [
            "2021-03-28T00:00:00"
           ],
           "y": [
            7339.714
           ]
          }
         ]
        },
        {
         "data": [
          {
           "marker": {
            "color": "red",
            "size": 15
           },
           "mode": "markers",
           "type": "scatter",
           "x": [
            "2021-03-29T00:00:00"
           ],
           "y": [
            7378.143
           ]
          }
         ]
        },
        {
         "data": [
          {
           "marker": {
            "color": "red",
            "size": 15
           },
           "mode": "markers",
           "type": "scatter",
           "x": [
            "2021-03-30T00:00:00"
           ],
           "y": [
            7385.286
           ]
          }
         ]
        },
        {
         "data": [
          {
           "marker": {
            "color": "red",
            "size": 15
           },
           "mode": "markers",
           "type": "scatter",
           "x": [
            "2021-03-31T00:00:00"
           ],
           "y": [
            7404.143
           ]
          }
         ]
        },
        {
         "data": [
          {
           "marker": {
            "color": "red",
            "size": 15
           },
           "mode": "markers",
           "type": "scatter",
           "x": [
            "2021-04-01T00:00:00"
           ],
           "y": [
            7360
           ]
          }
         ]
        },
        {
         "data": [
          {
           "marker": {
            "color": "red",
            "size": 15
           },
           "mode": "markers",
           "type": "scatter",
           "x": [
            "2021-04-02T00:00:00"
           ],
           "y": [
            7192.857
           ]
          }
         ]
        },
        {
         "data": [
          {
           "marker": {
            "color": "red",
            "size": 15
           },
           "mode": "markers",
           "type": "scatter",
           "x": [
            "2021-04-03T00:00:00"
           ],
           "y": [
            7104.286
           ]
          }
         ]
        },
        {
         "data": [
          {
           "marker": {
            "color": "red",
            "size": 15
           },
           "mode": "markers",
           "type": "scatter",
           "x": [
            "2021-04-04T00:00:00"
           ],
           "y": [
            6904.571
           ]
          }
         ]
        },
        {
         "data": [
          {
           "marker": {
            "color": "red",
            "size": 15
           },
           "mode": "markers",
           "type": "scatter",
           "x": [
            "2021-04-05T00:00:00"
           ],
           "y": [
            6863
           ]
          }
         ]
        },
        {
         "data": [
          {
           "marker": {
            "color": "red",
            "size": 15
           },
           "mode": "markers",
           "type": "scatter",
           "x": [
            "2021-04-06T00:00:00"
           ],
           "y": [
            6681
           ]
          }
         ]
        },
        {
         "data": [
          {
           "marker": {
            "color": "red",
            "size": 15
           },
           "mode": "markers",
           "type": "scatter",
           "x": [
            "2021-04-07T00:00:00"
           ],
           "y": [
            6674.286
           ]
          }
         ]
        },
        {
         "data": [
          {
           "marker": {
            "color": "red",
            "size": 15
           },
           "mode": "markers",
           "type": "scatter",
           "x": [
            "2021-04-08T00:00:00"
           ],
           "y": [
            6728.286
           ]
          }
         ]
        },
        {
         "data": [
          {
           "marker": {
            "color": "red",
            "size": 15
           },
           "mode": "markers",
           "type": "scatter",
           "x": [
            "2021-04-09T00:00:00"
           ],
           "y": [
            6736.286
           ]
          }
         ]
        },
        {
         "data": [
          {
           "marker": {
            "color": "red",
            "size": 15
           },
           "mode": "markers",
           "type": "scatter",
           "x": [
            "2021-04-10T00:00:00"
           ],
           "y": [
            6936.143
           ]
          }
         ]
        },
        {
         "data": [
          {
           "marker": {
            "color": "red",
            "size": 15
           },
           "mode": "markers",
           "type": "scatter",
           "x": [
            "2021-04-11T00:00:00"
           ],
           "y": [
            7129.714
           ]
          }
         ]
        },
        {
         "data": [
          {
           "marker": {
            "color": "red",
            "size": 15
           },
           "mode": "markers",
           "type": "scatter",
           "x": [
            "2021-04-12T00:00:00"
           ],
           "y": [
            7293.143
           ]
          }
         ]
        },
        {
         "data": [
          {
           "marker": {
            "color": "red",
            "size": 15
           },
           "mode": "markers",
           "type": "scatter",
           "x": [
            "2021-04-13T00:00:00"
           ],
           "y": [
            7154.571
           ]
          }
         ]
        },
        {
         "data": [
          {
           "marker": {
            "color": "red",
            "size": 15
           },
           "mode": "markers",
           "type": "scatter",
           "x": [
            "2021-04-14T00:00:00"
           ],
           "y": [
            7290.143
           ]
          }
         ]
        },
        {
         "data": [
          {
           "marker": {
            "color": "red",
            "size": 15
           },
           "mode": "markers",
           "type": "scatter",
           "x": [
            "2021-04-15T00:00:00"
           ],
           "y": [
            7471
           ]
          }
         ]
        },
        {
         "data": [
          {
           "marker": {
            "color": "red",
            "size": 15
           },
           "mode": "markers",
           "type": "scatter",
           "x": [
            "2021-04-16T00:00:00"
           ],
           "y": [
            7557.286
           ]
          }
         ]
        },
        {
         "data": [
          {
           "marker": {
            "color": "red",
            "size": 15
           },
           "mode": "markers",
           "type": "scatter",
           "x": [
            "2021-04-17T00:00:00"
           ],
           "y": [
            7598.286
           ]
          }
         ]
        },
        {
         "data": [
          {
           "marker": {
            "color": "red",
            "size": 15
           },
           "mode": "markers",
           "type": "scatter",
           "x": [
            "2021-04-18T00:00:00"
           ],
           "y": [
            7661.429
           ]
          }
         ]
        },
        {
         "data": [
          {
           "marker": {
            "color": "red",
            "size": 15
           },
           "mode": "markers",
           "type": "scatter",
           "x": [
            "2021-04-19T00:00:00"
           ],
           "y": [
            7681.286
           ]
          }
         ]
        },
        {
         "data": [
          {
           "marker": {
            "color": "red",
            "size": 15
           },
           "mode": "markers",
           "type": "scatter",
           "x": [
            "2021-04-20T00:00:00"
           ],
           "y": [
            8122.143
           ]
          }
         ]
        },
        {
         "data": [
          {
           "marker": {
            "color": "red",
            "size": 15
           },
           "mode": "markers",
           "type": "scatter",
           "x": [
            "2021-04-21T00:00:00"
           ],
           "y": [
            8246.429
           ]
          }
         ]
        },
        {
         "data": [
          {
           "marker": {
            "color": "red",
            "size": 15
           },
           "mode": "markers",
           "type": "scatter",
           "x": [
            "2021-04-22T00:00:00"
           ],
           "y": [
            8290.571
           ]
          }
         ]
        },
        {
         "data": [
          {
           "marker": {
            "color": "red",
            "size": 15
           },
           "mode": "markers",
           "type": "scatter",
           "x": [
            "2021-04-23T00:00:00"
           ],
           "y": [
            8258.286
           ]
          }
         ]
        },
        {
         "data": [
          {
           "marker": {
            "color": "red",
            "size": 15
           },
           "mode": "markers",
           "type": "scatter",
           "x": [
            "2021-04-24T00:00:00"
           ],
           "y": [
            8187.714
           ]
          }
         ]
        },
        {
         "data": [
          {
           "marker": {
            "color": "red",
            "size": 15
           },
           "mode": "markers",
           "type": "scatter",
           "x": [
            "2021-04-25T00:00:00"
           ],
           "y": [
            8056.714
           ]
          }
         ]
        },
        {
         "data": [
          {
           "marker": {
            "color": "red",
            "size": 15
           },
           "mode": "markers",
           "type": "scatter",
           "x": [
            "2021-04-26T00:00:00"
           ],
           "y": [
            7845
           ]
          }
         ]
        },
        {
         "data": [
          {
           "marker": {
            "color": "red",
            "size": 15
           },
           "mode": "markers",
           "type": "scatter",
           "x": [
            "2021-04-27T00:00:00"
           ],
           "y": [
            7869.857
           ]
          }
         ]
        },
        {
         "data": [
          {
           "marker": {
            "color": "red",
            "size": 15
           },
           "mode": "markers",
           "type": "scatter",
           "x": [
            "2021-04-28T00:00:00"
           ],
           "y": [
            7536.286
           ]
          }
         ]
        },
        {
         "data": [
          {
           "marker": {
            "color": "red",
            "size": 15
           },
           "mode": "markers",
           "type": "scatter",
           "x": [
            "2021-04-29T00:00:00"
           ],
           "y": [
            7328.857
           ]
          }
         ]
        },
        {
         "data": [
          {
           "marker": {
            "color": "red",
            "size": 15
           },
           "mode": "markers",
           "type": "scatter",
           "x": [
            "2021-04-30T00:00:00"
           ],
           "y": [
            6999.857
           ]
          }
         ]
        },
        {
         "data": [
          {
           "marker": {
            "color": "red",
            "size": 15
           },
           "mode": "markers",
           "type": "scatter",
           "x": [
            "2021-05-01T00:00:00"
           ],
           "y": [
            6641.857
           ]
          }
         ]
        },
        {
         "data": [
          {
           "marker": {
            "color": "red",
            "size": 15
           },
           "mode": "markers",
           "type": "scatter",
           "x": [
            "2021-05-02T00:00:00"
           ],
           "y": [
            7068.571
           ]
          }
         ]
        },
        {
         "data": [
          {
           "marker": {
            "color": "red",
            "size": 15
           },
           "mode": "markers",
           "type": "scatter",
           "x": [
            "2021-05-03T00:00:00"
           ],
           "y": [
            7410.429
           ]
          }
         ]
        },
        {
         "data": [
          {
           "marker": {
            "color": "red",
            "size": 15
           },
           "mode": "markers",
           "type": "scatter",
           "x": [
            "2021-05-04T00:00:00"
           ],
           "y": [
            7213.857
           ]
          }
         ]
        },
        {
         "data": [
          {
           "marker": {
            "color": "red",
            "size": 15
           },
           "mode": "markers",
           "type": "scatter",
           "x": [
            "2021-05-05T00:00:00"
           ],
           "y": [
            7144.571
           ]
          }
         ]
        },
        {
         "data": [
          {
           "marker": {
            "color": "red",
            "size": 15
           },
           "mode": "markers",
           "type": "scatter",
           "x": [
            "2021-05-06T00:00:00"
           ],
           "y": [
            7105.571
           ]
          }
         ]
        },
        {
         "data": [
          {
           "marker": {
            "color": "red",
            "size": 15
           },
           "mode": "markers",
           "type": "scatter",
           "x": [
            "2021-05-07T00:00:00"
           ],
           "y": [
            7340.286
           ]
          }
         ]
        },
        {
         "data": [
          {
           "marker": {
            "color": "red",
            "size": 15
           },
           "mode": "markers",
           "type": "scatter",
           "x": [
            "2021-05-08T00:00:00"
           ],
           "y": [
            7491
           ]
          }
         ]
        },
        {
         "data": [
          {
           "marker": {
            "color": "red",
            "size": 15
           },
           "mode": "markers",
           "type": "scatter",
           "x": [
            "2021-05-09T00:00:00"
           ],
           "y": [
            7015.429
           ]
          }
         ]
        },
        {
         "data": [
          {
           "marker": {
            "color": "red",
            "size": 15
           },
           "mode": "markers",
           "type": "scatter",
           "x": [
            "2021-05-10T00:00:00"
           ],
           "y": [
            6699.143
           ]
          }
         ]
        },
        {
         "data": [
          {
           "marker": {
            "color": "red",
            "size": 15
           },
           "mode": "markers",
           "type": "scatter",
           "x": [
            "2021-05-11T00:00:00"
           ],
           "y": [
            6568.857
           ]
          }
         ]
        },
        {
         "data": [
          {
           "marker": {
            "color": "red",
            "size": 15
           },
           "mode": "markers",
           "type": "scatter",
           "x": [
            "2021-05-12T00:00:00"
           ],
           "y": [
            6458.143
           ]
          }
         ]
        },
        {
         "data": [
          {
           "marker": {
            "color": "red",
            "size": 15
           },
           "mode": "markers",
           "type": "scatter",
           "x": [
            "2021-05-13T00:00:00"
           ],
           "y": [
            6176.714
           ]
          }
         ]
        },
        {
         "data": [
          {
           "marker": {
            "color": "red",
            "size": 15
           },
           "mode": "markers",
           "type": "scatter",
           "x": [
            "2021-05-14T00:00:00"
           ],
           "y": [
            5755.143
           ]
          }
         ]
        },
        {
         "data": [
          {
           "marker": {
            "color": "red",
            "size": 15
           },
           "mode": "markers",
           "type": "scatter",
           "x": [
            "2021-05-15T00:00:00"
           ],
           "y": [
            5452
           ]
          }
         ]
        },
        {
         "data": [
          {
           "marker": {
            "color": "red",
            "size": 15
           },
           "mode": "markers",
           "type": "scatter",
           "x": [
            "2021-05-16T00:00:00"
           ],
           "y": [
            5019.286
           ]
          }
         ]
        },
        {
         "data": [
          {
           "marker": {
            "color": "red",
            "size": 15
           },
           "mode": "markers",
           "type": "scatter",
           "x": [
            "2021-05-17T00:00:00"
           ],
           "y": [
            4992.857
           ]
          }
         ]
        },
        {
         "data": [
          {
           "marker": {
            "color": "red",
            "size": 15
           },
           "mode": "markers",
           "type": "scatter",
           "x": [
            "2021-05-18T00:00:00"
           ],
           "y": [
            4736.143
           ]
          }
         ]
        },
        {
         "data": [
          {
           "marker": {
            "color": "red",
            "size": 15
           },
           "mode": "markers",
           "type": "scatter",
           "x": [
            "2021-05-19T00:00:00"
           ],
           "y": [
            4541
           ]
          }
         ]
        },
        {
         "data": [
          {
           "marker": {
            "color": "red",
            "size": 15
           },
           "mode": "markers",
           "type": "scatter",
           "x": [
            "2021-05-20T00:00:00"
           ],
           "y": [
            4348.571
           ]
          }
         ]
        },
        {
         "data": [
          {
           "marker": {
            "color": "red",
            "size": 15
           },
           "mode": "markers",
           "type": "scatter",
           "x": [
            "2021-05-21T00:00:00"
           ],
           "y": [
            4165.857
           ]
          }
         ]
        },
        {
         "data": [
          {
           "marker": {
            "color": "red",
            "size": 15
           },
           "mode": "markers",
           "type": "scatter",
           "x": [
            "2021-05-22T00:00:00"
           ],
           "y": [
            4020.286
           ]
          }
         ]
        },
        {
         "data": [
          {
           "marker": {
            "color": "red",
            "size": 15
           },
           "mode": "markers",
           "type": "scatter",
           "x": [
            "2021-05-23T00:00:00"
           ],
           "y": [
            4001.857
           ]
          }
         ]
        },
        {
         "data": [
          {
           "marker": {
            "color": "red",
            "size": 15
           },
           "mode": "markers",
           "type": "scatter",
           "x": [
            "2021-05-24T00:00:00"
           ],
           "y": [
            3591.286
           ]
          }
         ]
        },
        {
         "data": [
          {
           "marker": {
            "color": "red",
            "size": 15
           },
           "mode": "markers",
           "type": "scatter",
           "x": [
            "2021-05-25T00:00:00"
           ],
           "y": [
            3335.571
           ]
          }
         ]
        },
        {
         "data": [
          {
           "marker": {
            "color": "red",
            "size": 15
           },
           "mode": "markers",
           "type": "scatter",
           "x": [
            "2021-05-26T00:00:00"
           ],
           "y": [
            3147.714
           ]
          }
         ]
        },
        {
         "data": [
          {
           "marker": {
            "color": "red",
            "size": 15
           },
           "mode": "markers",
           "type": "scatter",
           "x": [
            "2021-05-27T00:00:00"
           ],
           "y": [
            3104
           ]
          }
         ]
        },
        {
         "data": [
          {
           "marker": {
            "color": "red",
            "size": 15
           },
           "mode": "markers",
           "type": "scatter",
           "x": [
            "2021-05-28T00:00:00"
           ],
           "y": [
            3134.857
           ]
          }
         ]
        },
        {
         "data": [
          {
           "marker": {
            "color": "red",
            "size": 15
           },
           "mode": "markers",
           "type": "scatter",
           "x": [
            "2021-05-29T00:00:00"
           ],
           "y": [
            3034.429
           ]
          }
         ]
        },
        {
         "data": [
          {
           "marker": {
            "color": "red",
            "size": 15
           },
           "mode": "markers",
           "type": "scatter",
           "x": [
            "2021-05-30T00:00:00"
           ],
           "y": [
            2940.857
           ]
          }
         ]
        },
        {
         "data": [
          {
           "marker": {
            "color": "red",
            "size": 15
           },
           "mode": "markers",
           "type": "scatter",
           "x": [
            "2021-05-31T00:00:00"
           ],
           "y": [
            2920.571
           ]
          }
         ]
        },
        {
         "data": [
          {
           "marker": {
            "color": "red",
            "size": 15
           },
           "mode": "markers",
           "type": "scatter",
           "x": [
            "2021-06-01T00:00:00"
           ],
           "y": [
            2884.429
           ]
          }
         ]
        },
        {
         "data": [
          {
           "marker": {
            "color": "red",
            "size": 15
           },
           "mode": "markers",
           "type": "scatter",
           "x": [
            "2021-06-02T00:00:00"
           ],
           "y": [
            2798.571
           ]
          }
         ]
        },
        {
         "data": [
          {
           "marker": {
            "color": "red",
            "size": 15
           },
           "mode": "markers",
           "type": "scatter",
           "x": [
            "2021-06-03T00:00:00"
           ],
           "y": [
            2589.286
           ]
          }
         ]
        },
        {
         "data": [
          {
           "marker": {
            "color": "red",
            "size": 15
           },
           "mode": "markers",
           "type": "scatter",
           "x": [
            "2021-06-04T00:00:00"
           ],
           "y": [
            2409.143
           ]
          }
         ]
        },
        {
         "data": [
          {
           "marker": {
            "color": "red",
            "size": 15
           },
           "mode": "markers",
           "type": "scatter",
           "x": [
            "2021-06-05T00:00:00"
           ],
           "y": [
            2241.714
           ]
          }
         ]
        },
        {
         "data": [
          {
           "marker": {
            "color": "red",
            "size": 15
           },
           "mode": "markers",
           "type": "scatter",
           "x": [
            "2021-06-06T00:00:00"
           ],
           "y": [
            2147.429
           ]
          }
         ]
        },
        {
         "data": [
          {
           "marker": {
            "color": "red",
            "size": 15
           },
           "mode": "markers",
           "type": "scatter",
           "x": [
            "2021-06-07T00:00:00"
           ],
           "y": [
            2019.429
           ]
          }
         ]
        },
        {
         "data": [
          {
           "marker": {
            "color": "red",
            "size": 15
           },
           "mode": "markers",
           "type": "scatter",
           "x": [
            "2021-06-08T00:00:00"
           ],
           "y": [
            1905.714
           ]
          }
         ]
        },
        {
         "data": [
          {
           "marker": {
            "color": "red",
            "size": 15
           },
           "mode": "markers",
           "type": "scatter",
           "x": [
            "2021-06-09T00:00:00"
           ],
           "y": [
            1739.143
           ]
          }
         ]
        },
        {
         "data": [
          {
           "marker": {
            "color": "red",
            "size": 15
           },
           "mode": "markers",
           "type": "scatter",
           "x": [
            "2021-06-10T00:00:00"
           ],
           "y": [
            1594.571
           ]
          }
         ]
        },
        {
         "data": [
          {
           "marker": {
            "color": "red",
            "size": 15
           },
           "mode": "markers",
           "type": "scatter",
           "x": [
            "2021-06-11T00:00:00"
           ],
           "y": [
            1463.857
           ]
          }
         ]
        },
        {
         "data": [
          {
           "marker": {
            "color": "red",
            "size": 15
           },
           "mode": "markers",
           "type": "scatter",
           "x": [
            "2021-06-12T00:00:00"
           ],
           "y": [
            1392.143
           ]
          }
         ]
        },
        {
         "data": [
          {
           "marker": {
            "color": "red",
            "size": 15
           },
           "mode": "markers",
           "type": "scatter",
           "x": [
            "2021-06-13T00:00:00"
           ],
           "y": [
            1316
           ]
          }
         ]
        },
        {
         "data": [
          {
           "marker": {
            "color": "red",
            "size": 15
           },
           "mode": "markers",
           "type": "scatter",
           "x": [
            "2021-06-14T00:00:00"
           ],
           "y": [
            1261.429
           ]
          }
         ]
        },
        {
         "data": [
          {
           "marker": {
            "color": "red",
            "size": 15
           },
           "mode": "markers",
           "type": "scatter",
           "x": [
            "2021-06-15T00:00:00"
           ],
           "y": [
            1161.714
           ]
          }
         ]
        },
        {
         "data": [
          {
           "marker": {
            "color": "red",
            "size": 15
           },
           "mode": "markers",
           "type": "scatter",
           "x": [
            "2021-06-16T00:00:00"
           ],
           "y": [
            1091.143
           ]
          }
         ]
        },
        {
         "data": [
          {
           "marker": {
            "color": "red",
            "size": 15
           },
           "mode": "markers",
           "type": "scatter",
           "x": [
            "2021-06-17T00:00:00"
           ],
           "y": [
            1021.143
           ]
          }
         ]
        },
        {
         "data": [
          {
           "marker": {
            "color": "red",
            "size": 15
           },
           "mode": "markers",
           "type": "scatter",
           "x": [
            "2021-06-18T00:00:00"
           ],
           "y": [
            946.429
           ]
          }
         ]
        },
        {
         "data": [
          {
           "marker": {
            "color": "red",
            "size": 15
           },
           "mode": "markers",
           "type": "scatter",
           "x": [
            "2021-06-19T00:00:00"
           ],
           "y": [
            898.143
           ]
          }
         ]
        },
        {
         "data": [
          {
           "marker": {
            "color": "red",
            "size": 15
           },
           "mode": "markers",
           "type": "scatter",
           "x": [
            "2021-06-20T00:00:00"
           ],
           "y": [
            856.286
           ]
          }
         ]
        },
        {
         "data": [
          {
           "marker": {
            "color": "red",
            "size": 15
           },
           "mode": "markers",
           "type": "scatter",
           "x": [
            "2021-06-21T00:00:00"
           ],
           "y": [
            806.143
           ]
          }
         ]
        },
        {
         "data": [
          {
           "marker": {
            "color": "red",
            "size": 15
           },
           "mode": "markers",
           "type": "scatter",
           "x": [
            "2021-06-22T00:00:00"
           ],
           "y": [
            753.571
           ]
          }
         ]
        },
        {
         "data": [
          {
           "marker": {
            "color": "red",
            "size": 15
           },
           "mode": "markers",
           "type": "scatter",
           "x": [
            "2021-06-23T00:00:00"
           ],
           "y": [
            700.429
           ]
          }
         ]
        },
        {
         "data": [
          {
           "marker": {
            "color": "red",
            "size": 15
           },
           "mode": "markers",
           "type": "scatter",
           "x": [
            "2021-06-24T00:00:00"
           ],
           "y": [
            665.429
           ]
          }
         ]
        },
        {
         "data": [
          {
           "marker": {
            "color": "red",
            "size": 15
           },
           "mode": "markers",
           "type": "scatter",
           "x": [
            "2021-06-25T00:00:00"
           ],
           "y": [
            646.857
           ]
          }
         ]
        },
        {
         "data": [
          {
           "marker": {
            "color": "red",
            "size": 15
           },
           "mode": "markers",
           "type": "scatter",
           "x": [
            "2021-06-26T00:00:00"
           ],
           "y": [
            617
           ]
          }
         ]
        },
        {
         "data": [
          {
           "marker": {
            "color": "red",
            "size": 15
           },
           "mode": "markers",
           "type": "scatter",
           "x": [
            "2021-06-27T00:00:00"
           ],
           "y": [
            616.714
           ]
          }
         ]
        },
        {
         "data": [
          {
           "marker": {
            "color": "red",
            "size": 15
           },
           "mode": "markers",
           "type": "scatter",
           "x": [
            "2021-06-28T00:00:00"
           ],
           "y": [
            596.571
           ]
          }
         ]
        },
        {
         "data": [
          {
           "marker": {
            "color": "red",
            "size": 15
           },
           "mode": "markers",
           "type": "scatter",
           "x": [
            "2021-06-29T00:00:00"
           ],
           "y": [
            593.143
           ]
          }
         ]
        },
        {
         "data": [
          {
           "marker": {
            "color": "red",
            "size": 15
           },
           "mode": "markers",
           "type": "scatter",
           "x": [
            "2021-06-30T00:00:00"
           ],
           "y": [
            611.143
           ]
          }
         ]
        },
        {
         "data": [
          {
           "marker": {
            "color": "red",
            "size": 15
           },
           "mode": "markers",
           "type": "scatter",
           "x": [
            "2021-07-01T00:00:00"
           ],
           "y": [
            652.714
           ]
          }
         ]
        },
        {
         "data": [
          {
           "marker": {
            "color": "red",
            "size": 15
           },
           "mode": "markers",
           "type": "scatter",
           "x": [
            "2021-07-02T00:00:00"
           ],
           "y": [
            733.571
           ]
          }
         ]
        },
        {
         "data": [
          {
           "marker": {
            "color": "red",
            "size": 15
           },
           "mode": "markers",
           "type": "scatter",
           "x": [
            "2021-07-03T00:00:00"
           ],
           "y": [
            836.286
           ]
          }
         ]
        },
        {
         "data": [
          {
           "marker": {
            "color": "red",
            "size": 15
           },
           "mode": "markers",
           "type": "scatter",
           "x": [
            "2021-07-04T00:00:00"
           ],
           "y": [
            973.714
           ]
          }
         ]
        },
        {
         "data": [
          {
           "marker": {
            "color": "red",
            "size": 15
           },
           "mode": "markers",
           "type": "scatter",
           "x": [
            "2021-07-05T00:00:00"
           ],
           "y": [
            1211.714
           ]
          }
         ]
        },
        {
         "data": [
          {
           "marker": {
            "color": "red",
            "size": 15
           },
           "mode": "markers",
           "type": "scatter",
           "x": [
            "2021-07-06T00:00:00"
           ],
           "y": [
            1642.286
           ]
          }
         ]
        },
        {
         "data": [
          {
           "marker": {
            "color": "red",
            "size": 15
           },
           "mode": "markers",
           "type": "scatter",
           "x": [
            "2021-07-07T00:00:00"
           ],
           "y": [
            2300
           ]
          }
         ]
        },
        {
         "data": [
          {
           "marker": {
            "color": "red",
            "size": 15
           },
           "mode": "markers",
           "type": "scatter",
           "x": [
            "2021-07-08T00:00:00"
           ],
           "y": [
            3155.143
           ]
          }
         ]
        },
        {
         "data": [
          {
           "marker": {
            "color": "red",
            "size": 15
           },
           "mode": "markers",
           "type": "scatter",
           "x": [
            "2021-07-09T00:00:00"
           ],
           "y": [
            4463.429
           ]
          }
         ]
        },
        {
         "data": [
          {
           "marker": {
            "color": "red",
            "size": 15
           },
           "mode": "markers",
           "type": "scatter",
           "x": [
            "2021-07-10T00:00:00"
           ],
           "y": [
            5621.429
           ]
          }
         ]
        },
        {
         "data": [
          {
           "marker": {
            "color": "red",
            "size": 15
           },
           "mode": "markers",
           "type": "scatter",
           "x": [
            "2021-07-11T00:00:00"
           ],
           "y": [
            6610.286
           ]
          }
         ]
        },
        {
         "data": [
          {
           "marker": {
            "color": "red",
            "size": 15
           },
           "mode": "markers",
           "type": "scatter",
           "x": [
            "2021-07-12T00:00:00"
           ],
           "y": [
            7411.429
           ]
          }
         ]
        },
        {
         "data": [
          {
           "marker": {
            "color": "red",
            "size": 15
           },
           "mode": "markers",
           "type": "scatter",
           "x": [
            "2021-07-13T00:00:00"
           ],
           "y": [
            8380.857
           ]
          }
         ]
        },
        {
         "data": [
          {
           "marker": {
            "color": "red",
            "size": 15
           },
           "mode": "markers",
           "type": "scatter",
           "x": [
            "2021-07-14T00:00:00"
           ],
           "y": [
            9173.571
           ]
          }
         ]
        },
        {
         "data": [
          {
           "marker": {
            "color": "red",
            "size": 15
           },
           "mode": "markers",
           "type": "scatter",
           "x": [
            "2021-07-15T00:00:00"
           ],
           "y": [
            9798.286
           ]
          }
         ]
        },
        {
         "data": [
          {
           "marker": {
            "color": "red",
            "size": 15
           },
           "mode": "markers",
           "type": "scatter",
           "x": [
            "2021-07-16T00:00:00"
           ],
           "y": [
            9905.857
           ]
          }
         ]
        },
        {
         "data": [
          {
           "marker": {
            "color": "red",
            "size": 15
           },
           "mode": "markers",
           "type": "scatter",
           "x": [
            "2021-07-17T00:00:00"
           ],
           "y": [
            10022.571
           ]
          }
         ]
        },
        {
         "data": [
          {
           "marker": {
            "color": "red",
            "size": 15
           },
           "mode": "markers",
           "type": "scatter",
           "x": [
            "2021-07-18T00:00:00"
           ],
           "y": [
            10084.429
           ]
          }
         ]
        },
        {
         "data": [
          {
           "marker": {
            "color": "red",
            "size": 15
           },
           "mode": "markers",
           "type": "scatter",
           "x": [
            "2021-07-19T00:00:00"
           ],
           "y": [
            9925.571
           ]
          }
         ]
        },
        {
         "data": [
          {
           "marker": {
            "color": "red",
            "size": 15
           },
           "mode": "markers",
           "type": "scatter",
           "x": [
            "2021-07-20T00:00:00"
           ],
           "y": [
            9421.571
           ]
          }
         ]
        },
        {
         "data": [
          {
           "marker": {
            "color": "red",
            "size": 15
           },
           "mode": "markers",
           "type": "scatter",
           "x": [
            "2021-07-21T00:00:00"
           ],
           "y": [
            8744.286
           ]
          }
         ]
        },
        {
         "data": [
          {
           "marker": {
            "color": "red",
            "size": 15
           },
           "mode": "markers",
           "type": "scatter",
           "x": [
            "2021-07-22T00:00:00"
           ],
           "y": [
            8044
           ]
          }
         ]
        },
        {
         "data": [
          {
           "marker": {
            "color": "red",
            "size": 15
           },
           "mode": "markers",
           "type": "scatter",
           "x": [
            "2021-07-23T00:00:00"
           ],
           "y": [
            7220.143
           ]
          }
         ]
        },
        {
         "data": [
          {
           "marker": {
            "color": "red",
            "size": 15
           },
           "mode": "markers",
           "type": "scatter",
           "x": [
            "2021-07-24T00:00:00"
           ],
           "y": [
            6427.714
           ]
          }
         ]
        },
        {
         "data": [
          {
           "marker": {
            "color": "red",
            "size": 15
           },
           "mode": "markers",
           "type": "scatter",
           "x": [
            "2021-07-25T00:00:00"
           ],
           "y": [
            5710.143
           ]
          }
         ]
        },
        {
         "data": [
          {
           "marker": {
            "color": "red",
            "size": 15
           },
           "mode": "markers",
           "type": "scatter",
           "x": [
            "2021-07-26T00:00:00"
           ],
           "y": [
            5318.857
           ]
          }
         ]
        },
        {
         "data": [
          {
           "marker": {
            "color": "red",
            "size": 15
           },
           "mode": "markers",
           "type": "scatter",
           "x": [
            "2021-07-27T00:00:00"
           ],
           "y": [
            4826.571
           ]
          }
         ]
        },
        {
         "data": [
          {
           "marker": {
            "color": "red",
            "size": 15
           },
           "mode": "markers",
           "type": "scatter",
           "x": [
            "2021-07-28T00:00:00"
           ],
           "y": [
            4567.714
           ]
          }
         ]
        },
        {
         "data": [
          {
           "marker": {
            "color": "red",
            "size": 15
           },
           "mode": "markers",
           "type": "scatter",
           "x": [
            "2021-07-29T00:00:00"
           ],
           "y": [
            4140
           ]
          }
         ]
        },
        {
         "data": [
          {
           "marker": {
            "color": "red",
            "size": 15
           },
           "mode": "markers",
           "type": "scatter",
           "x": [
            "2021-07-30T00:00:00"
           ],
           "y": [
            3806.571
           ]
          }
         ]
        },
        {
         "data": [
          {
           "marker": {
            "color": "red",
            "size": 15
           },
           "mode": "markers",
           "type": "scatter",
           "x": [
            "2021-07-31T00:00:00"
           ],
           "y": [
            3479.571
           ]
          }
         ]
        },
        {
         "data": [
          {
           "marker": {
            "color": "red",
            "size": 15
           },
           "mode": "markers",
           "type": "scatter",
           "x": [
            "2021-08-01T00:00:00"
           ],
           "y": [
            3228.571
           ]
          }
         ]
        },
        {
         "data": [
          {
           "marker": {
            "color": "red",
            "size": 15
           },
           "mode": "markers",
           "type": "scatter",
           "x": [
            "2021-08-02T00:00:00"
           ],
           "y": [
            2973
           ]
          }
         ]
        },
        {
         "data": [
          {
           "marker": {
            "color": "red",
            "size": 15
           },
           "mode": "markers",
           "type": "scatter",
           "x": [
            "2021-08-03T00:00:00"
           ],
           "y": [
            2881
           ]
          }
         ]
        },
        {
         "data": [
          {
           "marker": {
            "color": "red",
            "size": 15
           },
           "mode": "markers",
           "type": "scatter",
           "x": [
            "2021-08-04T00:00:00"
           ],
           "y": [
            2731.429
           ]
          }
         ]
        },
        {
         "data": [
          {
           "marker": {
            "color": "red",
            "size": 15
           },
           "mode": "markers",
           "type": "scatter",
           "x": [
            "2021-08-05T00:00:00"
           ],
           "y": [
            2666.571
           ]
          }
         ]
        },
        {
         "data": [
          {
           "marker": {
            "color": "red",
            "size": 15
           },
           "mode": "markers",
           "type": "scatter",
           "x": [
            "2021-08-06T00:00:00"
           ],
           "y": [
            2593.714
           ]
          }
         ]
        },
        {
         "data": [
          {
           "marker": {
            "color": "red",
            "size": 15
           },
           "mode": "markers",
           "type": "scatter",
           "x": [
            "2021-08-07T00:00:00"
           ],
           "y": [
            2595.714
           ]
          }
         ]
        },
        {
         "data": [
          {
           "marker": {
            "color": "red",
            "size": 15
           },
           "mode": "markers",
           "type": "scatter",
           "x": [
            "2021-08-08T00:00:00"
           ],
           "y": [
            2586
           ]
          }
         ]
        },
        {
         "data": [
          {
           "marker": {
            "color": "red",
            "size": 15
           },
           "mode": "markers",
           "type": "scatter",
           "x": [
            "2021-08-09T00:00:00"
           ],
           "y": [
            2582.714
           ]
          }
         ]
        },
        {
         "data": [
          {
           "marker": {
            "color": "red",
            "size": 15
           },
           "mode": "markers",
           "type": "scatter",
           "x": [
            "2021-08-10T00:00:00"
           ],
           "y": [
            2489.286
           ]
          }
         ]
        },
        {
         "data": [
          {
           "marker": {
            "color": "red",
            "size": 15
           },
           "mode": "markers",
           "type": "scatter",
           "x": [
            "2021-08-11T00:00:00"
           ],
           "y": [
            2378.571
           ]
          }
         ]
        },
        {
         "data": [
          {
           "marker": {
            "color": "red",
            "size": 15
           },
           "mode": "markers",
           "type": "scatter",
           "x": [
            "2021-08-12T00:00:00"
           ],
           "y": [
            2345.714
           ]
          }
         ]
        },
        {
         "data": [
          {
           "marker": {
            "color": "red",
            "size": 15
           },
           "mode": "markers",
           "type": "scatter",
           "x": [
            "2021-08-13T00:00:00"
           ],
           "y": [
            2334
           ]
          }
         ]
        },
        {
         "data": [
          {
           "marker": {
            "color": "red",
            "size": 15
           },
           "mode": "markers",
           "type": "scatter",
           "x": [
            "2021-08-14T00:00:00"
           ],
           "y": [
            2329.857
           ]
          }
         ]
        },
        {
         "data": [
          {
           "marker": {
            "color": "red",
            "size": 15
           },
           "mode": "markers",
           "type": "scatter",
           "x": [
            "2021-08-15T00:00:00"
           ],
           "y": [
            2361.714
           ]
          }
         ]
        },
        {
         "data": [
          {
           "marker": {
            "color": "red",
            "size": 15
           },
           "mode": "markers",
           "type": "scatter",
           "x": [
            "2021-08-16T00:00:00"
           ],
           "y": [
            2382.429
           ]
          }
         ]
        },
        {
         "data": [
          {
           "marker": {
            "color": "red",
            "size": 15
           },
           "mode": "markers",
           "type": "scatter",
           "x": [
            "2021-08-17T00:00:00"
           ],
           "y": [
            2476.143
           ]
          }
         ]
        },
        {
         "data": [
          {
           "marker": {
            "color": "red",
            "size": 15
           },
           "mode": "markers",
           "type": "scatter",
           "x": [
            "2021-08-18T00:00:00"
           ],
           "y": [
            2471.429
           ]
          }
         ]
        },
        {
         "data": [
          {
           "marker": {
            "color": "red",
            "size": 15
           },
           "mode": "markers",
           "type": "scatter",
           "x": [
            "2021-08-19T00:00:00"
           ],
           "y": [
            2406
           ]
          }
         ]
        },
        {
         "data": [
          {
           "marker": {
            "color": "red",
            "size": 15
           },
           "mode": "markers",
           "type": "scatter",
           "x": [
            "2021-08-20T00:00:00"
           ],
           "y": [
            2419.286
           ]
          }
         ]
        },
        {
         "data": [
          {
           "marker": {
            "color": "red",
            "size": 15
           },
           "mode": "markers",
           "type": "scatter",
           "x": [
            "2021-08-21T00:00:00"
           ],
           "y": [
            2442.714
           ]
          }
         ]
        },
        {
         "data": [
          {
           "marker": {
            "color": "red",
            "size": 15
           },
           "mode": "markers",
           "type": "scatter",
           "x": [
            "2021-08-22T00:00:00"
           ],
           "y": [
            2462.857
           ]
          }
         ]
        },
        {
         "data": [
          {
           "marker": {
            "color": "red",
            "size": 15
           },
           "mode": "markers",
           "type": "scatter",
           "x": [
            "2021-08-23T00:00:00"
           ],
           "y": [
            2481.571
           ]
          }
         ]
        },
        {
         "data": [
          {
           "marker": {
            "color": "red",
            "size": 15
           },
           "mode": "markers",
           "type": "scatter",
           "x": [
            "2021-08-24T00:00:00"
           ],
           "y": [
            2494
           ]
          }
         ]
        },
        {
         "data": [
          {
           "marker": {
            "color": "red",
            "size": 15
           },
           "mode": "markers",
           "type": "scatter",
           "x": [
            "2021-08-25T00:00:00"
           ],
           "y": [
            2503.714
           ]
          }
         ]
        },
        {
         "data": [
          {
           "marker": {
            "color": "red",
            "size": 15
           },
           "mode": "markers",
           "type": "scatter",
           "x": [
            "2021-08-26T00:00:00"
           ],
           "y": [
            2591.286
           ]
          }
         ]
        },
        {
         "data": [
          {
           "marker": {
            "color": "red",
            "size": 15
           },
           "mode": "markers",
           "type": "scatter",
           "x": [
            "2021-08-27T00:00:00"
           ],
           "y": [
            2593.286
           ]
          }
         ]
        },
        {
         "data": [
          {
           "marker": {
            "color": "red",
            "size": 15
           },
           "mode": "markers",
           "type": "scatter",
           "x": [
            "2021-08-28T00:00:00"
           ],
           "y": [
            2575
           ]
          }
         ]
        },
        {
         "data": [
          {
           "marker": {
            "color": "red",
            "size": 15
           },
           "mode": "markers",
           "type": "scatter",
           "x": [
            "2021-08-29T00:00:00"
           ],
           "y": [
            2547.286
           ]
          }
         ]
        },
        {
         "data": [
          {
           "marker": {
            "color": "red",
            "size": 15
           },
           "mode": "markers",
           "type": "scatter",
           "x": [
            "2021-08-30T00:00:00"
           ],
           "y": [
            2534.857
           ]
          }
         ]
        },
        {
         "data": [
          {
           "marker": {
            "color": "red",
            "size": 15
           },
           "mode": "markers",
           "type": "scatter",
           "x": [
            "2021-08-31T00:00:00"
           ],
           "y": [
            2529.286
           ]
          }
         ]
        },
        {
         "data": [
          {
           "marker": {
            "color": "red",
            "size": 15
           },
           "mode": "markers",
           "type": "scatter",
           "x": [
            "2021-09-01T00:00:00"
           ],
           "y": [
            2551.857
           ]
          }
         ]
        },
        {
         "data": [
          {
           "marker": {
            "color": "red",
            "size": 15
           },
           "mode": "markers",
           "type": "scatter",
           "x": [
            "2021-09-02T00:00:00"
           ],
           "y": [
            2508.143
           ]
          }
         ]
        },
        {
         "data": [
          {
           "marker": {
            "color": "red",
            "size": 15
           },
           "mode": "markers",
           "type": "scatter",
           "x": [
            "2021-09-03T00:00:00"
           ],
           "y": [
            2545.714
           ]
          }
         ]
        },
        {
         "data": [
          {
           "marker": {
            "color": "red",
            "size": 15
           },
           "mode": "markers",
           "type": "scatter",
           "x": [
            "2021-09-04T00:00:00"
           ],
           "y": [
            2552.714
           ]
          }
         ]
        },
        {
         "data": [
          {
           "marker": {
            "color": "red",
            "size": 15
           },
           "mode": "markers",
           "type": "scatter",
           "x": [
            "2021-09-05T00:00:00"
           ],
           "y": [
            2541.143
           ]
          }
         ]
        },
        {
         "data": [
          {
           "marker": {
            "color": "red",
            "size": 15
           },
           "mode": "markers",
           "type": "scatter",
           "x": [
            "2021-09-06T00:00:00"
           ],
           "y": [
            2559.857
           ]
          }
         ]
        },
        {
         "data": [
          {
           "marker": {
            "color": "red",
            "size": 15
           },
           "mode": "markers",
           "type": "scatter",
           "x": [
            "2021-09-07T00:00:00"
           ],
           "y": [
            2553.143
           ]
          }
         ]
        },
        {
         "data": [
          {
           "marker": {
            "color": "red",
            "size": 15
           },
           "mode": "markers",
           "type": "scatter",
           "x": [
            "2021-09-08T00:00:00"
           ],
           "y": [
            2495.286
           ]
          }
         ]
        },
        {
         "data": [
          {
           "marker": {
            "color": "red",
            "size": 15
           },
           "mode": "markers",
           "type": "scatter",
           "x": [
            "2021-09-09T00:00:00"
           ],
           "y": [
            2515.857
           ]
          }
         ]
        },
        {
         "data": [
          {
           "marker": {
            "color": "red",
            "size": 15
           },
           "mode": "markers",
           "type": "scatter",
           "x": [
            "2021-09-10T00:00:00"
           ],
           "y": [
            2442.286
           ]
          }
         ]
        },
        {
         "data": [
          {
           "marker": {
            "color": "red",
            "size": 15
           },
           "mode": "markers",
           "type": "scatter",
           "x": [
            "2021-09-11T00:00:00"
           ],
           "y": [
            2106.286
           ]
          }
         ]
        },
        {
         "data": [
          {
           "marker": {
            "color": "red",
            "size": 15
           },
           "mode": "markers",
           "type": "scatter",
           "x": [
            "2021-09-12T00:00:00"
           ],
           "y": [
            2351.429
           ]
          }
         ]
        },
        {
         "data": [
          {
           "marker": {
            "color": "red",
            "size": 15
           },
           "mode": "markers",
           "type": "scatter",
           "x": [
            "2021-09-13T00:00:00"
           ],
           "y": [
            2286.857
           ]
          }
         ]
        },
        {
         "data": [
          {
           "marker": {
            "color": "red",
            "size": 15
           },
           "mode": "markers",
           "type": "scatter",
           "x": [
            "2021-09-14T00:00:00"
           ],
           "y": [
            2223.429
           ]
          }
         ]
        },
        {
         "data": [
          {
           "marker": {
            "color": "red",
            "size": 15
           },
           "mode": "markers",
           "type": "scatter",
           "x": [
            "2021-09-15T00:00:00"
           ],
           "y": [
            2181
           ]
          }
         ]
        },
        {
         "data": [
          {
           "marker": {
            "color": "red",
            "size": 15
           },
           "mode": "markers",
           "type": "scatter",
           "x": [
            "2021-09-16T00:00:00"
           ],
           "y": [
            2103.429
           ]
          }
         ]
        },
        {
         "data": [
          {
           "marker": {
            "color": "red",
            "size": 15
           },
           "mode": "markers",
           "type": "scatter",
           "x": [
            "2021-09-17T00:00:00"
           ],
           "y": [
            2077.571
           ]
          }
         ]
        },
        {
         "data": [
          {
           "marker": {
            "color": "red",
            "size": 15
           },
           "mode": "markers",
           "type": "scatter",
           "x": [
            "2021-09-18T00:00:00"
           ],
           "y": [
            2312
           ]
          }
         ]
        },
        {
         "data": [
          {
           "marker": {
            "color": "red",
            "size": 15
           },
           "mode": "markers",
           "type": "scatter",
           "x": [
            "2021-09-19T00:00:00"
           ],
           "y": [
            1957.143
           ]
          }
         ]
        },
        {
         "data": [
          {
           "marker": {
            "color": "red",
            "size": 15
           },
           "mode": "markers",
           "type": "scatter",
           "x": [
            "2021-09-20T00:00:00"
           ],
           "y": [
            1908.714
           ]
          }
         ]
        },
        {
         "data": [
          {
           "marker": {
            "color": "red",
            "size": 15
           },
           "mode": "markers",
           "type": "scatter",
           "x": [
            "2021-09-21T00:00:00"
           ],
           "y": [
            1844.857
           ]
          }
         ]
        },
        {
         "data": [
          {
           "marker": {
            "color": "red",
            "size": 15
           },
           "mode": "markers",
           "type": "scatter",
           "x": [
            "2021-09-22T00:00:00"
           ],
           "y": [
            1807.714
           ]
          }
         ]
        },
        {
         "data": [
          {
           "marker": {
            "color": "red",
            "size": 15
           },
           "mode": "markers",
           "type": "scatter",
           "x": [
            "2021-09-23T00:00:00"
           ],
           "y": [
            1740.286
           ]
          }
         ]
        },
        {
         "data": [
          {
           "marker": {
            "color": "red",
            "size": 15
           },
           "mode": "markers",
           "type": "scatter",
           "x": [
            "2021-09-24T00:00:00"
           ],
           "y": [
            1682.286
           ]
          }
         ]
        },
        {
         "data": [
          {
           "marker": {
            "color": "red",
            "size": 15
           },
           "mode": "markers",
           "type": "scatter",
           "x": [
            "2021-09-25T00:00:00"
           ],
           "y": [
            1675.143
           ]
          }
         ]
        },
        {
         "data": [
          {
           "marker": {
            "color": "red",
            "size": 15
           },
           "mode": "markers",
           "type": "scatter",
           "x": [
            "2021-09-26T00:00:00"
           ],
           "y": [
            1680.857
           ]
          }
         ]
        },
        {
         "data": [
          {
           "marker": {
            "color": "red",
            "size": 15
           },
           "mode": "markers",
           "type": "scatter",
           "x": [
            "2021-09-27T00:00:00"
           ],
           "y": [
            1686.429
           ]
          }
         ]
        },
        {
         "data": [
          {
           "marker": {
            "color": "red",
            "size": 15
           },
           "mode": "markers",
           "type": "scatter",
           "x": [
            "2021-09-28T00:00:00"
           ],
           "y": [
            1665.571
           ]
          }
         ]
        },
        {
         "data": [
          {
           "marker": {
            "color": "red",
            "size": 15
           },
           "mode": "markers",
           "type": "scatter",
           "x": [
            "2021-09-29T00:00:00"
           ],
           "y": [
            1646.286
           ]
          }
         ]
        },
        {
         "data": [
          {
           "marker": {
            "color": "red",
            "size": 15
           },
           "mode": "markers",
           "type": "scatter",
           "x": [
            "2021-09-30T00:00:00"
           ],
           "y": [
            1651.286
           ]
          }
         ]
        },
        {
         "data": [
          {
           "marker": {
            "color": "red",
            "size": 15
           },
           "mode": "markers",
           "type": "scatter",
           "x": [
            "2021-10-01T00:00:00"
           ],
           "y": [
            1659.143
           ]
          }
         ]
        },
        {
         "data": [
          {
           "marker": {
            "color": "red",
            "size": 15
           },
           "mode": "markers",
           "type": "scatter",
           "x": [
            "2021-10-02T00:00:00"
           ],
           "y": [
            1660
           ]
          }
         ]
        },
        {
         "data": [
          {
           "marker": {
            "color": "red",
            "size": 15
           },
           "mode": "markers",
           "type": "scatter",
           "x": [
            "2021-10-03T00:00:00"
           ],
           "y": [
            1695.857
           ]
          }
         ]
        },
        {
         "data": [
          {
           "marker": {
            "color": "red",
            "size": 15
           },
           "mode": "markers",
           "type": "scatter",
           "x": [
            "2021-10-04T00:00:00"
           ],
           "y": [
            1720.714
           ]
          }
         ]
        },
        {
         "data": [
          {
           "marker": {
            "color": "red",
            "size": 15
           },
           "mode": "markers",
           "type": "scatter",
           "x": [
            "2021-10-05T00:00:00"
           ],
           "y": [
            1736.714
           ]
          }
         ]
        },
        {
         "data": [
          {
           "marker": {
            "color": "red",
            "size": 15
           },
           "mode": "markers",
           "type": "scatter",
           "x": [
            "2021-10-06T00:00:00"
           ],
           "y": [
            1887.571
           ]
          }
         ]
        },
        {
         "data": [
          {
           "marker": {
            "color": "red",
            "size": 15
           },
           "mode": "markers",
           "type": "scatter",
           "x": [
            "2021-10-07T00:00:00"
           ],
           "y": [
            2038.857
           ]
          }
         ]
        },
        {
         "data": [
          {
           "marker": {
            "color": "red",
            "size": 15
           },
           "mode": "markers",
           "type": "scatter",
           "x": [
            "2021-10-08T00:00:00"
           ],
           "y": [
            2159.429
           ]
          }
         ]
        },
        {
         "data": [
          {
           "marker": {
            "color": "red",
            "size": 15
           },
           "mode": "markers",
           "type": "scatter",
           "x": [
            "2021-10-09T00:00:00"
           ],
           "y": [
            2250.714
           ]
          }
         ]
        },
        {
         "data": [
          {
           "marker": {
            "color": "red",
            "size": 15
           },
           "mode": "markers",
           "type": "scatter",
           "x": [
            "2021-10-10T00:00:00"
           ],
           "y": [
            2405.143
           ]
          }
         ]
        },
        {
         "data": [
          {
           "marker": {
            "color": "red",
            "size": 15
           },
           "mode": "markers",
           "type": "scatter",
           "x": [
            "2021-10-11T00:00:00"
           ],
           "y": [
            2545.714
           ]
          }
         ]
        },
        {
         "data": [
          {
           "marker": {
            "color": "red",
            "size": 15
           },
           "mode": "markers",
           "type": "scatter",
           "x": [
            "2021-10-12T00:00:00"
           ],
           "y": [
            2808.286
           ]
          }
         ]
        },
        {
         "data": [
          {
           "marker": {
            "color": "red",
            "size": 15
           },
           "mode": "markers",
           "type": "scatter",
           "x": [
            "2021-10-13T00:00:00"
           ],
           "y": [
            2933.286
           ]
          }
         ]
        },
        {
         "data": [
          {
           "marker": {
            "color": "red",
            "size": 15
           },
           "mode": "markers",
           "type": "scatter",
           "x": [
            "2021-10-14T00:00:00"
           ],
           "y": [
            3065.286
           ]
          }
         ]
        },
        {
         "data": [
          {
           "marker": {
            "color": "red",
            "size": 15
           },
           "mode": "markers",
           "type": "scatter",
           "x": [
            "2021-10-15T00:00:00"
           ],
           "y": [
            3235.714
           ]
          }
         ]
        },
        {
         "data": [
          {
           "marker": {
            "color": "red",
            "size": 15
           },
           "mode": "markers",
           "type": "scatter",
           "x": [
            "2021-10-16T00:00:00"
           ],
           "y": [
            3438.429
           ]
          }
         ]
        },
        {
         "data": [
          {
           "marker": {
            "color": "red",
            "size": 15
           },
           "mode": "markers",
           "type": "scatter",
           "x": [
            "2021-10-17T00:00:00"
           ],
           "y": [
            3529.143
           ]
          }
         ]
        },
        {
         "data": [
          {
           "marker": {
            "color": "red",
            "size": 15
           },
           "mode": "markers",
           "type": "scatter",
           "x": [
            "2021-10-18T00:00:00"
           ],
           "y": [
            3673.714
           ]
          }
         ]
        },
        {
         "data": [
          {
           "marker": {
            "color": "red",
            "size": 15
           },
           "mode": "markers",
           "type": "scatter",
           "x": [
            "2021-10-19T00:00:00"
           ],
           "y": [
            3795
           ]
          }
         ]
        },
        {
         "data": [
          {
           "marker": {
            "color": "red",
            "size": 15
           },
           "mode": "markers",
           "type": "scatter",
           "x": [
            "2021-10-20T00:00:00"
           ],
           "y": [
            4019.571
           ]
          }
         ]
        },
        {
         "data": [
          {
           "marker": {
            "color": "red",
            "size": 15
           },
           "mode": "markers",
           "type": "scatter",
           "x": [
            "2021-10-21T00:00:00"
           ],
           "y": [
            4327.143
           ]
          }
         ]
        },
        {
         "data": [
          {
           "marker": {
            "color": "red",
            "size": 15
           },
           "mode": "markers",
           "type": "scatter",
           "x": [
            "2021-10-22T00:00:00"
           ],
           "y": [
            4609.571
           ]
          }
         ]
        },
        {
         "data": [
          {
           "marker": {
            "color": "red",
            "size": 15
           },
           "mode": "markers",
           "type": "scatter",
           "x": [
            "2021-10-23T00:00:00"
           ],
           "y": [
            4983.714
           ]
          }
         ]
        },
        {
         "data": [
          {
           "marker": {
            "color": "red",
            "size": 15
           },
           "mode": "markers",
           "type": "scatter",
           "x": [
            "2021-10-24T00:00:00"
           ],
           "y": [
            5261.143
           ]
          }
         ]
        },
        {
         "data": [
          {
           "marker": {
            "color": "red",
            "size": 15
           },
           "mode": "markers",
           "type": "scatter",
           "x": [
            "2021-10-25T00:00:00"
           ],
           "y": [
            5525.429
           ]
          }
         ]
        },
        {
         "data": [
          {
           "marker": {
            "color": "red",
            "size": 15
           },
           "mode": "markers",
           "type": "scatter",
           "x": [
            "2021-10-26T00:00:00"
           ],
           "y": [
            5908.571
           ]
          }
         ]
        },
        {
         "data": [
          {
           "marker": {
            "color": "red",
            "size": 15
           },
           "mode": "markers",
           "type": "scatter",
           "x": [
            "2021-10-27T00:00:00"
           ],
           "y": [
            6262.714
           ]
          }
         ]
        },
        {
         "data": [
          {
           "marker": {
            "color": "red",
            "size": 15
           },
           "mode": "markers",
           "type": "scatter",
           "x": [
            "2021-10-28T00:00:00"
           ],
           "y": [
            6480.143
           ]
          }
         ]
        },
        {
         "data": [
          {
           "marker": {
            "color": "red",
            "size": 15
           },
           "mode": "markers",
           "type": "scatter",
           "x": [
            "2021-10-29T00:00:00"
           ],
           "y": [
            6803.857
           ]
          }
         ]
        },
        {
         "data": [
          {
           "marker": {
            "color": "red",
            "size": 15
           },
           "mode": "markers",
           "type": "scatter",
           "x": [
            "2021-10-30T00:00:00"
           ],
           "y": [
            7072.143
           ]
          }
         ]
        },
        {
         "data": [
          {
           "marker": {
            "color": "red",
            "size": 15
           },
           "mode": "markers",
           "type": "scatter",
           "x": [
            "2021-10-31T00:00:00"
           ],
           "y": [
            7414.714
           ]
          }
         ]
        },
        {
         "data": [
          {
           "marker": {
            "color": "red",
            "size": 15
           },
           "mode": "markers",
           "type": "scatter",
           "x": [
            "2021-11-01T00:00:00"
           ],
           "y": [
            7697.857
           ]
          }
         ]
        },
        {
         "data": [
          {
           "marker": {
            "color": "red",
            "size": 15
           },
           "mode": "markers",
           "type": "scatter",
           "x": [
            "2021-11-02T00:00:00"
           ],
           "y": [
            7961.857
           ]
          }
         ]
        },
        {
         "data": [
          {
           "marker": {
            "color": "red",
            "size": 15
           },
           "mode": "markers",
           "type": "scatter",
           "x": [
            "2021-11-03T00:00:00"
           ],
           "y": [
            8323.143
           ]
          }
         ]
        },
        {
         "data": [
          {
           "marker": {
            "color": "red",
            "size": 15
           },
           "mode": "markers",
           "type": "scatter",
           "x": [
            "2021-11-04T00:00:00"
           ],
           "y": [
            8826
           ]
          }
         ]
        },
        {
         "data": [
          {
           "marker": {
            "color": "red",
            "size": 15
           },
           "mode": "markers",
           "type": "scatter",
           "x": [
            "2021-11-05T00:00:00"
           ],
           "y": [
            9399.714
           ]
          }
         ]
        },
        {
         "data": [
          {
           "marker": {
            "color": "red",
            "size": 15
           },
           "mode": "markers",
           "type": "scatter",
           "x": [
            "2021-11-06T00:00:00"
           ],
           "y": [
            9853.286
           ]
          }
         ]
        },
        {
         "data": [
          {
           "marker": {
            "color": "red",
            "size": 15
           },
           "mode": "markers",
           "type": "scatter",
           "x": [
            "2021-11-07T00:00:00"
           ],
           "y": [
            10440.571
           ]
          }
         ]
        },
        {
         "data": [
          {
           "marker": {
            "color": "red",
            "size": 15
           },
           "mode": "markers",
           "type": "scatter",
           "x": [
            "2021-11-08T00:00:00"
           ],
           "y": [
            10948.857
           ]
          }
         ]
        },
        {
         "data": [
          {
           "marker": {
            "color": "red",
            "size": 15
           },
           "mode": "markers",
           "type": "scatter",
           "x": [
            "2021-11-09T00:00:00"
           ],
           "y": [
            11454
           ]
          }
         ]
        },
        {
         "data": [
          {
           "marker": {
            "color": "red",
            "size": 15
           },
           "mode": "markers",
           "type": "scatter",
           "x": [
            "2021-11-10T00:00:00"
           ],
           "y": [
            12322.857
           ]
          }
         ]
        },
        {
         "data": [
          {
           "marker": {
            "color": "red",
            "size": 15
           },
           "mode": "markers",
           "type": "scatter",
           "x": [
            "2021-11-11T00:00:00"
           ],
           "y": [
            13079
           ]
          }
         ]
        },
        {
         "data": [
          {
           "marker": {
            "color": "red",
            "size": 15
           },
           "mode": "markers",
           "type": "scatter",
           "x": [
            "2021-11-12T00:00:00"
           ],
           "y": [
            13348.429
           ]
          }
         ]
        },
        {
         "data": [
          {
           "marker": {
            "color": "red",
            "size": 15
           },
           "mode": "markers",
           "type": "scatter",
           "x": [
            "2021-11-13T00:00:00"
           ],
           "y": [
            13445.714
           ]
          }
         ]
        },
        {
         "data": [
          {
           "marker": {
            "color": "red",
            "size": 15
           },
           "mode": "markers",
           "type": "scatter",
           "x": [
            "2021-11-14T00:00:00"
           ],
           "y": [
            14501.714
           ]
          }
         ]
        },
        {
         "data": [
          {
           "marker": {
            "color": "red",
            "size": 15
           },
           "mode": "markers",
           "type": "scatter",
           "x": [
            "2021-11-15T00:00:00"
           ],
           "y": [
            15771.571
           ]
          }
         ]
        },
        {
         "data": [
          {
           "marker": {
            "color": "red",
            "size": 15
           },
           "mode": "markers",
           "type": "scatter",
           "x": [
            "2021-11-16T00:00:00"
           ],
           "y": [
            16931
           ]
          }
         ]
        },
        {
         "data": [
          {
           "marker": {
            "color": "red",
            "size": 15
           },
           "mode": "markers",
           "type": "scatter",
           "x": [
            "2021-11-17T00:00:00"
           ],
           "y": [
            17973.429
           ]
          }
         ]
        },
        {
         "data": [
          {
           "marker": {
            "color": "red",
            "size": 15
           },
           "mode": "markers",
           "type": "scatter",
           "x": [
            "2021-11-18T00:00:00"
           ],
           "y": [
            18663.143
           ]
          }
         ]
        },
        {
         "data": [
          {
           "marker": {
            "color": "red",
            "size": 15
           },
           "mode": "markers",
           "type": "scatter",
           "x": [
            "2021-11-19T00:00:00"
           ],
           "y": [
            19798.857
           ]
          }
         ]
        },
        {
         "data": [
          {
           "marker": {
            "color": "red",
            "size": 15
           },
           "mode": "markers",
           "type": "scatter",
           "x": [
            "2021-11-20T00:00:00"
           ],
           "y": [
            21029.714
           ]
          }
         ]
        },
        {
         "data": [
          {
           "marker": {
            "color": "red",
            "size": 15
           },
           "mode": "markers",
           "type": "scatter",
           "x": [
            "2021-11-21T00:00:00"
           ],
           "y": [
            21573.286
           ]
          }
         ]
        },
        {
         "data": [
          {
           "marker": {
            "color": "red",
            "size": 15
           },
           "mode": "markers",
           "type": "scatter",
           "x": [
            "2021-11-22T00:00:00"
           ],
           "y": [
            21970.143
           ]
          }
         ]
        },
        {
         "data": [
          {
           "marker": {
            "color": "red",
            "size": 15
           },
           "mode": "markers",
           "type": "scatter",
           "x": [
            "2021-11-23T00:00:00"
           ],
           "y": [
            22391.429
           ]
          }
         ]
        },
        {
         "data": [
          {
           "marker": {
            "color": "red",
            "size": 15
           },
           "mode": "markers",
           "type": "scatter",
           "x": [
            "2021-11-24T00:00:00"
           ],
           "y": [
            22190.857
           ]
          }
         ]
        },
        {
         "data": [
          {
           "marker": {
            "color": "red",
            "size": 15
           },
           "mode": "markers",
           "type": "scatter",
           "x": [
            "2021-11-25T00:00:00"
           ],
           "y": [
            22226.429
           ]
          }
         ]
        },
        {
         "data": [
          {
           "marker": {
            "color": "red",
            "size": 15
           },
           "mode": "markers",
           "type": "scatter",
           "x": [
            "2021-11-26T00:00:00"
           ],
           "y": [
            22259.714
           ]
          }
         ]
        },
        {
         "data": [
          {
           "marker": {
            "color": "red",
            "size": 15
           },
           "mode": "markers",
           "type": "scatter",
           "x": [
            "2021-11-27T00:00:00"
           ],
           "y": [
            22472.429
           ]
          }
         ]
        },
        {
         "data": [
          {
           "marker": {
            "color": "red",
            "size": 15
           },
           "mode": "markers",
           "type": "scatter",
           "x": [
            "2021-11-28T00:00:00"
           ],
           "y": [
            22249.714
           ]
          }
         ]
        },
        {
         "data": [
          {
           "marker": {
            "color": "red",
            "size": 15
           },
           "mode": "markers",
           "type": "scatter",
           "x": [
            "2021-11-29T00:00:00"
           ],
           "y": [
            22136.429
           ]
          }
         ]
        },
        {
         "data": [
          {
           "marker": {
            "color": "red",
            "size": 15
           },
           "mode": "markers",
           "type": "scatter",
           "x": [
            "2021-11-30T00:00:00"
           ],
           "y": [
            21394.429
           ]
          }
         ]
        },
        {
         "data": [
          {
           "marker": {
            "color": "red",
            "size": 15
           },
           "mode": "markers",
           "type": "scatter",
           "x": [
            "2021-12-01T00:00:00"
           ],
           "y": [
            21517.143
           ]
          }
         ]
        },
        {
         "data": [
          {
           "marker": {
            "color": "red",
            "size": 15
           },
           "mode": "markers",
           "type": "scatter",
           "x": [
            "2021-12-02T00:00:00"
           ],
           "y": [
            21552.571
           ]
          }
         ]
        },
        {
         "data": [
          {
           "marker": {
            "color": "red",
            "size": 15
           },
           "mode": "markers",
           "type": "scatter",
           "x": [
            "2021-12-03T00:00:00"
           ],
           "y": [
            21635.857
           ]
          }
         ]
        },
        {
         "data": [
          {
           "marker": {
            "color": "red",
            "size": 15
           },
           "mode": "markers",
           "type": "scatter",
           "x": [
            "2021-12-04T00:00:00"
           ],
           "y": [
            21771.143
           ]
          }
         ]
        },
        {
         "data": [
          {
           "marker": {
            "color": "red",
            "size": 15
           },
           "mode": "markers",
           "type": "scatter",
           "x": [
            "2021-12-05T00:00:00"
           ],
           "y": [
            21702.857
           ]
          }
         ]
        },
        {
         "data": [
          {
           "marker": {
            "color": "red",
            "size": 15
           },
           "mode": "markers",
           "type": "scatter",
           "x": [
            "2021-12-06T00:00:00"
           ],
           "y": [
            21096.857
           ]
          }
         ]
        },
        {
         "data": [
          {
           "marker": {
            "color": "red",
            "size": 15
           },
           "mode": "markers",
           "type": "scatter",
           "x": [
            "2021-12-07T00:00:00"
           ],
           "y": [
            21032.286
           ]
          }
         ]
        },
        {
         "data": [
          {
           "marker": {
            "color": "red",
            "size": 15
           },
           "mode": "markers",
           "type": "scatter",
           "x": [
            "2021-12-08T00:00:00"
           ],
           "y": [
            20563.571
           ]
          }
         ]
        },
        {
         "data": [
          {
           "marker": {
            "color": "red",
            "size": 15
           },
           "mode": "markers",
           "type": "scatter",
           "x": [
            "2021-12-09T00:00:00"
           ],
           "y": [
            19984.857
           ]
          }
         ]
        },
        {
         "data": [
          {
           "marker": {
            "color": "red",
            "size": 15
           },
           "mode": "markers",
           "type": "scatter",
           "x": [
            "2021-12-10T00:00:00"
           ],
           "y": [
            19285.143
           ]
          }
         ]
        },
        {
         "data": [
          {
           "marker": {
            "color": "red",
            "size": 15
           },
           "mode": "markers",
           "type": "scatter",
           "x": [
            "2021-12-11T00:00:00"
           ],
           "y": [
            18357.429
           ]
          }
         ]
        },
        {
         "data": [
          {
           "marker": {
            "color": "red",
            "size": 15
           },
           "mode": "markers",
           "type": "scatter",
           "x": [
            "2021-12-12T00:00:00"
           ],
           "y": [
            17332
           ]
          }
         ]
        },
        {
         "data": [
          {
           "marker": {
            "color": "red",
            "size": 15
           },
           "mode": "markers",
           "type": "scatter",
           "x": [
            "2021-12-13T00:00:00"
           ],
           "y": [
            16594.714
           ]
          }
         ]
        },
        {
         "data": [
          {
           "marker": {
            "color": "red",
            "size": 15
           },
           "mode": "markers",
           "type": "scatter",
           "x": [
            "2021-12-14T00:00:00"
           ],
           "y": [
            15941.286
           ]
          }
         ]
        },
        {
         "data": [
          {
           "marker": {
            "color": "red",
            "size": 15
           },
           "mode": "markers",
           "type": "scatter",
           "x": [
            "2021-12-15T00:00:00"
           ],
           "y": [
            15450.143
           ]
          }
         ]
        },
        {
         "data": [
          {
           "marker": {
            "color": "red",
            "size": 15
           },
           "mode": "markers",
           "type": "scatter",
           "x": [
            "2021-12-16T00:00:00"
           ],
           "y": [
            15148.857
           ]
          }
         ]
        },
        {
         "data": [
          {
           "marker": {
            "color": "red",
            "size": 15
           },
           "mode": "markers",
           "type": "scatter",
           "x": [
            "2021-12-17T00:00:00"
           ],
           "y": [
            14706
           ]
          }
         ]
        },
        {
         "data": [
          {
           "marker": {
            "color": "red",
            "size": 15
           },
           "mode": "markers",
           "type": "scatter",
           "x": [
            "2021-12-18T00:00:00"
           ],
           "y": [
            14233.286
           ]
          }
         ]
        },
        {
         "data": [
          {
           "marker": {
            "color": "red",
            "size": 15
           },
           "mode": "markers",
           "type": "scatter",
           "x": [
            "2021-12-19T00:00:00"
           ],
           "y": [
            14000
           ]
          }
         ]
        },
        {
         "data": [
          {
           "marker": {
            "color": "red",
            "size": 15
           },
           "mode": "markers",
           "type": "scatter",
           "x": [
            "2021-12-20T00:00:00"
           ],
           "y": [
            13508
           ]
          }
         ]
        },
        {
         "data": [
          {
           "marker": {
            "color": "red",
            "size": 15
           },
           "mode": "markers",
           "type": "scatter",
           "x": [
            "2021-12-21T00:00:00"
           ],
           "y": [
            13488
           ]
          }
         ]
        },
        {
         "data": [
          {
           "marker": {
            "color": "red",
            "size": 15
           },
           "mode": "markers",
           "type": "scatter",
           "x": [
            "2021-12-22T00:00:00"
           ],
           "y": [
            13064.143
           ]
          }
         ]
        },
        {
         "data": [
          {
           "marker": {
            "color": "red",
            "size": 15
           },
           "mode": "markers",
           "type": "scatter",
           "x": [
            "2021-12-23T00:00:00"
           ],
           "y": [
            12645.143
           ]
          }
         ]
        },
        {
         "data": [
          {
           "marker": {
            "color": "red",
            "size": 15
           },
           "mode": "markers",
           "type": "scatter",
           "x": [
            "2021-12-24T00:00:00"
           ],
           "y": [
            12355.714
           ]
          }
         ]
        },
        {
         "data": [
          {
           "marker": {
            "color": "red",
            "size": 15
           },
           "mode": "markers",
           "type": "scatter",
           "x": [
            "2021-12-25T00:00:00"
           ],
           "y": [
            12156.714
           ]
          }
         ]
        },
        {
         "data": [
          {
           "marker": {
            "color": "red",
            "size": 15
           },
           "mode": "markers",
           "type": "scatter",
           "x": [
            "2021-12-26T00:00:00"
           ],
           "y": [
            12053.571
           ]
          }
         ]
        },
        {
         "data": [
          {
           "marker": {
            "color": "red",
            "size": 15
           },
           "mode": "markers",
           "type": "scatter",
           "x": [
            "2021-12-27T00:00:00"
           ],
           "y": [
            12033.429
           ]
          }
         ]
        },
        {
         "data": [
          {
           "marker": {
            "color": "red",
            "size": 15
           },
           "mode": "markers",
           "type": "scatter",
           "x": [
            "2021-12-28T00:00:00"
           ],
           "y": [
            12385.429
           ]
          }
         ]
        },
        {
         "data": [
          {
           "marker": {
            "color": "red",
            "size": 15
           },
           "mode": "markers",
           "type": "scatter",
           "x": [
            "2021-12-29T00:00:00"
           ],
           "y": [
            12587.714
           ]
          }
         ]
        },
        {
         "data": [
          {
           "marker": {
            "color": "red",
            "size": 15
           },
           "mode": "markers",
           "type": "scatter",
           "x": [
            "2021-12-30T00:00:00"
           ],
           "y": [
            13213
           ]
          }
         ]
        },
        {
         "data": [
          {
           "marker": {
            "color": "red",
            "size": 15
           },
           "mode": "markers",
           "type": "scatter",
           "x": [
            "2021-12-31T00:00:00"
           ],
           "y": [
            13659.143
           ]
          }
         ]
        },
        {
         "data": [
          {
           "marker": {
            "color": "red",
            "size": 15
           },
           "mode": "markers",
           "type": "scatter",
           "x": [
            "2022-01-01T00:00:00"
           ],
           "y": [
            14472.857
           ]
          }
         ]
        },
        {
         "data": [
          {
           "marker": {
            "color": "red",
            "size": 15
           },
           "mode": "markers",
           "type": "scatter",
           "x": [
            "2022-01-02T00:00:00"
           ],
           "y": [
            14916.286
           ]
          }
         ]
        },
        {
         "data": [
          {
           "marker": {
            "color": "red",
            "size": 15
           },
           "mode": "markers",
           "type": "scatter",
           "x": [
            "2022-01-03T00:00:00"
           ],
           "y": [
            16249.286
           ]
          }
         ]
        },
        {
         "data": [
          {
           "marker": {
            "color": "red",
            "size": 15
           },
           "mode": "markers",
           "type": "scatter",
           "x": [
            "2022-01-04T00:00:00"
           ],
           "y": [
            17546.429
           ]
          }
         ]
        },
        {
         "data": [
          {
           "marker": {
            "color": "red",
            "size": 15
           },
           "mode": "markers",
           "type": "scatter",
           "x": [
            "2022-01-05T00:00:00"
           ],
           "y": [
            18979.857
           ]
          }
         ]
        },
        {
         "data": [
          {
           "marker": {
            "color": "red",
            "size": 15
           },
           "mode": "markers",
           "type": "scatter",
           "x": [
            "2022-01-06T00:00:00"
           ],
           "y": [
            21559.714
           ]
          }
         ]
        },
        {
         "data": [
          {
           "marker": {
            "color": "red",
            "size": 15
           },
           "mode": "markers",
           "type": "scatter",
           "x": [
            "2022-01-07T00:00:00"
           ],
           "y": [
            23366
           ]
          }
         ]
        },
        {
         "data": [
          {
           "marker": {
            "color": "red",
            "size": 15
           },
           "mode": "markers",
           "type": "scatter",
           "x": [
            "2022-01-08T00:00:00"
           ],
           "y": [
            25494.857
           ]
          }
         ]
        },
        {
         "data": [
          {
           "marker": {
            "color": "red",
            "size": 15
           },
           "mode": "markers",
           "type": "scatter",
           "x": [
            "2022-01-09T00:00:00"
           ],
           "y": [
            27442.714
           ]
          }
         ]
        },
        {
         "data": [
          {
           "marker": {
            "color": "red",
            "size": 15
           },
           "mode": "markers",
           "type": "scatter",
           "x": [
            "2022-01-10T00:00:00"
           ],
           "y": [
            28947.429
           ]
          }
         ]
        },
        {
         "data": [
          {
           "marker": {
            "color": "red",
            "size": 15
           },
           "mode": "markers",
           "type": "scatter",
           "x": [
            "2022-01-11T00:00:00"
           ],
           "y": [
            29997
           ]
          }
         ]
        },
        {
         "data": [
          {
           "marker": {
            "color": "red",
            "size": 15
           },
           "mode": "markers",
           "type": "scatter",
           "x": [
            "2022-01-12T00:00:00"
           ],
           "y": [
            31286
           ]
          }
         ]
        },
        {
         "data": [
          {
           "marker": {
            "color": "red",
            "size": 15
           },
           "mode": "markers",
           "type": "scatter",
           "x": [
            "2022-01-13T00:00:00"
           ],
           "y": [
            31492.571
           ]
          }
         ]
        },
        {
         "data": [
          {
           "marker": {
            "color": "red",
            "size": 15
           },
           "mode": "markers",
           "type": "scatter",
           "x": [
            "2022-01-14T00:00:00"
           ],
           "y": [
            31992
           ]
          }
         ]
        },
        {
         "data": [
          {
           "marker": {
            "color": "red",
            "size": 15
           },
           "mode": "markers",
           "type": "scatter",
           "x": [
            "2022-01-15T00:00:00"
           ],
           "y": [
            32567.286
           ]
          }
         ]
        },
        {
         "data": [
          {
           "marker": {
            "color": "red",
            "size": 15
           },
           "mode": "markers",
           "type": "scatter",
           "x": [
            "2022-01-16T00:00:00"
           ],
           "y": [
            34593.143
           ]
          }
         ]
        },
        {
         "data": [
          {
           "marker": {
            "color": "red",
            "size": 15
           },
           "mode": "markers",
           "type": "scatter",
           "x": [
            "2022-01-17T00:00:00"
           ],
           "y": [
            30444.714
           ]
          }
         ]
        },
        {
         "data": [
          {
           "marker": {
            "color": "red",
            "size": 15
           },
           "mode": "markers",
           "type": "scatter",
           "x": [
            "2022-01-18T00:00:00"
           ],
           "y": [
            35794.857
           ]
          }
         ]
        },
        {
         "data": [
          {
           "marker": {
            "color": "red",
            "size": 15
           },
           "mode": "markers",
           "type": "scatter",
           "x": [
            "2022-01-19T00:00:00"
           ],
           "y": [
            36681
           ]
          }
         ]
        },
        {
         "data": [
          {
           "marker": {
            "color": "red",
            "size": 15
           },
           "mode": "markers",
           "type": "scatter",
           "x": [
            "2022-01-20T00:00:00"
           ],
           "y": [
            39717
           ]
          }
         ]
        },
        {
         "data": [
          {
           "marker": {
            "color": "red",
            "size": 15
           },
           "mode": "markers",
           "type": "scatter",
           "x": [
            "2022-01-21T00:00:00"
           ],
           "y": [
            41759
           ]
          }
         ]
        },
        {
         "data": [
          {
           "marker": {
            "color": "red",
            "size": 15
           },
           "mode": "markers",
           "type": "scatter",
           "x": [
            "2022-01-22T00:00:00"
           ],
           "y": [
            45881.286
           ]
          }
         ]
        },
        {
         "data": [
          {
           "marker": {
            "color": "red",
            "size": 15
           },
           "mode": "markers",
           "type": "scatter",
           "x": [
            "2022-01-23T00:00:00"
           ],
           "y": [
            49070.571
           ]
          }
         ]
        },
        {
         "data": [
          {
           "marker": {
            "color": "red",
            "size": 15
           },
           "mode": "markers",
           "type": "scatter",
           "x": [
            "2022-01-24T00:00:00"
           ],
           "y": [
            56807.714
           ]
          }
         ]
        },
        {
         "data": [
          {
           "marker": {
            "color": "red",
            "size": 15
           },
           "mode": "markers",
           "type": "scatter",
           "x": [
            "2022-01-25T00:00:00"
           ],
           "y": [
            55237
           ]
          }
         ]
        },
        {
         "data": [
          {
           "marker": {
            "color": "red",
            "size": 15
           },
           "mode": "markers",
           "type": "scatter",
           "x": [
            "2022-01-26T00:00:00"
           ],
           "y": [
            58739.429
           ]
          }
         ]
        },
        {
         "data": [
          {
           "marker": {
            "color": "red",
            "size": 15
           },
           "mode": "markers",
           "type": "scatter",
           "x": [
            "2022-01-27T00:00:00"
           ],
           "y": [
            61099.143
           ]
          }
         ]
        },
        {
         "data": [
          {
           "marker": {
            "color": "red",
            "size": 15
           },
           "mode": "markers",
           "type": "scatter",
           "x": [
            "2022-01-28T00:00:00"
           ],
           "y": [
            60141.571
           ]
          }
         ]
        },
        {
         "data": [
          {
           "marker": {
            "color": "red",
            "size": 15
           },
           "mode": "markers",
           "type": "scatter",
           "x": [
            "2022-01-29T00:00:00"
           ],
           "y": [
            61549.143
           ]
          }
         ]
        },
        {
         "data": [
          {
           "marker": {
            "color": "red",
            "size": 15
           },
           "mode": "markers",
           "type": "scatter",
           "x": [
            "2022-01-30T00:00:00"
           ],
           "y": [
            68342
           ]
          }
         ]
        },
        {
         "data": [
          {
           "marker": {
            "color": "red",
            "size": 15
           },
           "mode": "markers",
           "type": "scatter",
           "x": [
            "2022-01-31T00:00:00"
           ],
           "y": [
            75721.714
           ]
          }
         ]
        },
        {
         "data": [
          {
           "marker": {
            "color": "red",
            "size": 15
           },
           "mode": "markers",
           "type": "scatter",
           "x": [
            "2022-02-01T00:00:00"
           ],
           "y": [
            76907.286
           ]
          }
         ]
        },
        {
         "data": [
          {
           "marker": {
            "color": "red",
            "size": 15
           },
           "mode": "markers",
           "type": "scatter",
           "x": [
            "2022-02-02T00:00:00"
           ],
           "y": [
            79526
           ]
          }
         ]
        },
        {
         "data": [
          {
           "marker": {
            "color": "red",
            "size": 15
           },
           "mode": "markers",
           "type": "scatter",
           "x": [
            "2022-02-03T00:00:00"
           ],
           "y": [
            78790
           ]
          }
         ]
        },
        {
         "data": [
          {
           "marker": {
            "color": "red",
            "size": 15
           },
           "mode": "markers",
           "type": "scatter",
           "x": [
            "2022-02-04T00:00:00"
           ],
           "y": [
            78888.714
           ]
          }
         ]
        },
        {
         "data": [
          {
           "marker": {
            "color": "red",
            "size": 15
           },
           "mode": "markers",
           "type": "scatter",
           "x": [
            "2022-02-05T00:00:00"
           ],
           "y": [
            81699.286
           ]
          }
         ]
        },
        {
         "data": [
          {
           "marker": {
            "color": "red",
            "size": 15
           },
           "mode": "markers",
           "type": "scatter",
           "x": [
            "2022-02-06T00:00:00"
           ],
           "y": [
            76755.286
           ]
          }
         ]
        },
        {
         "data": [
          {
           "marker": {
            "color": "red",
            "size": 15
           },
           "mode": "markers",
           "type": "scatter",
           "x": [
            "2022-02-07T00:00:00"
           ],
           "y": [
            115981.143
           ]
          }
         ]
        },
        {
         "data": [
          {
           "marker": {
            "color": "red",
            "size": 15
           },
           "mode": "markers",
           "type": "scatter",
           "x": [
            "2022-02-08T00:00:00"
           ],
           "y": [
            118775.429
           ]
          }
         ]
        },
        {
         "data": [
          {
           "marker": {
            "color": "red",
            "size": 15
           },
           "mode": "markers",
           "type": "scatter",
           "x": [
            "2022-02-09T00:00:00"
           ],
           "y": [
            119333
           ]
          }
         ]
        },
        {
         "data": [
          {
           "marker": {
            "color": "red",
            "size": 15
           },
           "mode": "markers",
           "type": "scatter",
           "x": [
            "2022-02-10T00:00:00"
           ],
           "y": [
            121003.571
           ]
          }
         ]
        },
        {
         "data": [
          {
           "marker": {
            "color": "red",
            "size": 15
           },
           "mode": "markers",
           "type": "scatter",
           "x": [
            "2022-02-11T00:00:00"
           ],
           "y": [
            125321
           ]
          }
         ]
        },
        {
         "data": [
          {
           "marker": {
            "color": "red",
            "size": 15
           },
           "mode": "markers",
           "type": "scatter",
           "x": [
            "2022-02-12T00:00:00"
           ],
           "y": [
            120359.714
           ]
          }
         ]
        },
        {
         "data": [
          {
           "marker": {
            "color": "red",
            "size": 15
           },
           "mode": "markers",
           "type": "scatter",
           "x": [
            "2022-02-13T00:00:00"
           ],
           "y": [
            117130
           ]
          }
         ]
        },
        {
         "data": [
          {
           "marker": {
            "color": "red",
            "size": 15
           },
           "mode": "markers",
           "type": "scatter",
           "x": [
            "2022-02-14T00:00:00"
           ],
           "y": [
            70432.857
           ]
          }
         ]
        },
        {
         "data": [
          {
           "marker": {
            "color": "red",
            "size": 15
           },
           "mode": "markers",
           "type": "scatter",
           "x": [
            "2022-02-15T00:00:00"
           ],
           "y": [
            67193
           ]
          }
         ]
        },
        {
         "data": [
          {
           "marker": {
            "color": "red",
            "size": 15
           },
           "mode": "markers",
           "type": "scatter",
           "x": [
            "2022-02-16T00:00:00"
           ],
           "y": [
            62848.571
           ]
          }
         ]
        },
        {
         "data": [
          {
           "marker": {
            "color": "red",
            "size": 15
           },
           "mode": "markers",
           "type": "scatter",
           "x": [
            "2022-02-17T00:00:00"
           ],
           "y": [
            58371.286
           ]
          }
         ]
        },
        {
         "data": [
          {
           "marker": {
            "color": "red",
            "size": 15
           },
           "mode": "markers",
           "type": "scatter",
           "x": [
            "2022-02-18T00:00:00"
           ],
           "y": [
            53121.571
           ]
          }
         ]
        },
        {
         "data": [
          {
           "marker": {
            "color": "red",
            "size": 15
           },
           "mode": "markers",
           "type": "scatter",
           "x": [
            "2022-02-19T00:00:00"
           ],
           "y": [
            49732.286
           ]
          }
         ]
        },
        {
         "data": [
          {
           "marker": {
            "color": "red",
            "size": 15
           },
           "mode": "markers",
           "type": "scatter",
           "x": [
            "2022-02-20T00:00:00"
           ],
           "y": [
            47014.571
           ]
          }
         ]
        },
        {
         "data": [
          {
           "marker": {
            "color": "red",
            "size": 15
           },
           "mode": "markers",
           "type": "scatter",
           "x": [
            "2022-02-21T00:00:00"
           ],
           "y": [
            44322.143
           ]
          }
         ]
        },
        {
         "data": [
          {
           "marker": {
            "color": "red",
            "size": 15
           },
           "mode": "markers",
           "type": "scatter",
           "x": [
            "2022-02-22T00:00:00"
           ],
           "y": [
            35196.714
           ]
          }
         ]
        },
        {
         "data": [
          {
           "marker": {
            "color": "red",
            "size": 15
           },
           "mode": "markers",
           "type": "scatter",
           "x": [
            "2022-02-23T00:00:00"
           ],
           "y": [
            32938.571
           ]
          }
         ]
        },
        {
         "data": [
          {
           "marker": {
            "color": "red",
            "size": 15
           },
           "mode": "markers",
           "type": "scatter",
           "x": [
            "2022-02-24T00:00:00"
           ],
           "y": [
            31780.714
           ]
          }
         ]
        },
        {
         "data": [
          {
           "marker": {
            "color": "red",
            "size": 15
           },
           "mode": "markers",
           "type": "scatter",
           "x": [
            "2022-02-25T00:00:00"
           ],
           "y": [
            32342.571
           ]
          }
         ]
        },
        {
         "data": [
          {
           "marker": {
            "color": "red",
            "size": 15
           },
           "mode": "markers",
           "type": "scatter",
           "x": [
            "2022-02-26T00:00:00"
           ],
           "y": [
            31836.571
           ]
          }
         ]
        },
        {
         "data": [
          {
           "marker": {
            "color": "red",
            "size": 15
           },
           "mode": "markers",
           "type": "scatter",
           "x": [
            "2022-02-27T00:00:00"
           ],
           "y": [
            30607.429
           ]
          }
         ]
        },
        {
         "data": [
          {
           "marker": {
            "color": "red",
            "size": 15
           },
           "mode": "markers",
           "type": "scatter",
           "x": [
            "2022-02-28T00:00:00"
           ],
           "y": [
            29778.143
           ]
          }
         ]
        },
        {
         "data": [
          {
           "marker": {
            "color": "red",
            "size": 15
           },
           "mode": "markers",
           "type": "scatter",
           "x": [
            "2022-03-01T00:00:00"
           ],
           "y": [
            34991.571
           ]
          }
         ]
        },
        {
         "data": [
          {
           "marker": {
            "color": "red",
            "size": 15
           },
           "mode": "markers",
           "type": "scatter",
           "x": [
            "2022-03-02T00:00:00"
           ],
           "y": [
            36122.714
           ]
          }
         ]
        },
        {
         "data": [
          {
           "marker": {
            "color": "red",
            "size": 15
           },
           "mode": "markers",
           "type": "scatter",
           "x": [
            "2022-03-03T00:00:00"
           ],
           "y": [
            38565.571
           ]
          }
         ]
        },
        {
         "data": [
          {
           "marker": {
            "color": "red",
            "size": 15
           },
           "mode": "markers",
           "type": "scatter",
           "x": [
            "2022-03-04T00:00:00"
           ],
           "y": [
            42961.286
           ]
          }
         ]
        },
        {
         "data": [
          {
           "marker": {
            "color": "red",
            "size": 15
           },
           "mode": "markers",
           "type": "scatter",
           "x": [
            "2022-03-05T00:00:00"
           ],
           "y": [
            47862.714
           ]
          }
         ]
        },
        {
         "data": [
          {
           "marker": {
            "color": "red",
            "size": 15
           },
           "mode": "markers",
           "type": "scatter",
           "x": [
            "2022-03-06T00:00:00"
           ],
           "y": [
            53493.571
           ]
          }
         ]
        },
        {
         "data": [
          {
           "marker": {
            "color": "red",
            "size": 15
           },
           "mode": "markers",
           "type": "scatter",
           "x": [
            "2022-03-07T00:00:00"
           ],
           "y": [
            58577.429
           ]
          }
         ]
        },
        {
         "data": [
          {
           "marker": {
            "color": "red",
            "size": 15
           },
           "mode": "markers",
           "type": "scatter",
           "x": [
            "2022-03-08T00:00:00"
           ],
           "y": [
            62825.714
           ]
          }
         ]
        },
        {
         "data": [
          {
           "marker": {
            "color": "red",
            "size": 15
           },
           "mode": "markers",
           "type": "scatter",
           "x": [
            "2022-03-09T00:00:00"
           ],
           "y": [
            66505.286
           ]
          }
         ]
        },
        {
         "data": [
          {
           "marker": {
            "color": "red",
            "size": 15
           },
           "mode": "markers",
           "type": "scatter",
           "x": [
            "2022-03-10T00:00:00"
           ],
           "y": [
            68824.429
           ]
          }
         ]
        },
        {
         "data": [
          {
           "marker": {
            "color": "red",
            "size": 15
           },
           "mode": "markers",
           "type": "scatter",
           "x": [
            "2022-03-11T00:00:00"
           ],
           "y": [
            68949.286
           ]
          }
         ]
        },
        {
         "data": [
          {
           "marker": {
            "color": "red",
            "size": 15
           },
           "mode": "markers",
           "type": "scatter",
           "x": [
            "2022-03-12T00:00:00"
           ],
           "y": [
            67926.571
           ]
          }
         ]
        },
        {
         "data": [
          {
           "marker": {
            "color": "red",
            "size": 15
           },
           "mode": "markers",
           "type": "scatter",
           "x": [
            "2022-03-13T00:00:00"
           ],
           "y": [
            65861.286
           ]
          }
         ]
        },
        {
         "data": [
          {
           "marker": {
            "color": "red",
            "size": 15
           },
           "mode": "markers",
           "type": "scatter",
           "x": [
            "2022-03-14T00:00:00"
           ],
           "y": [
            63210.714
           ]
          }
         ]
        },
        {
         "data": [
          {
           "marker": {
            "color": "red",
            "size": 15
           },
           "mode": "markers",
           "type": "scatter",
           "x": [
            "2022-03-15T00:00:00"
           ],
           "y": [
            61305.429
           ]
          }
         ]
        },
        {
         "data": [
          {
           "marker": {
            "color": "red",
            "size": 15
           },
           "mode": "markers",
           "type": "scatter",
           "x": [
            "2022-03-16T00:00:00"
           ],
           "y": [
            59308.143
           ]
          }
         ]
        },
        {
         "data": [
          {
           "marker": {
            "color": "red",
            "size": 15
           },
           "mode": "markers",
           "type": "scatter",
           "x": [
            "2022-03-17T00:00:00"
           ],
           "y": [
            56329.714
           ]
          }
         ]
        },
        {
         "data": [
          {
           "marker": {
            "color": "red",
            "size": 15
           },
           "mode": "markers",
           "type": "scatter",
           "x": [
            "2022-03-18T00:00:00"
           ],
           "y": [
            54191.714
           ]
          }
         ]
        },
        {
         "data": [
          {
           "marker": {
            "color": "red",
            "size": 15
           },
           "mode": "markers",
           "type": "scatter",
           "x": [
            "2022-03-19T00:00:00"
           ],
           "y": [
            51536.143
           ]
          }
         ]
        },
        {
         "data": [
          {
           "marker": {
            "color": "red",
            "size": 15
           },
           "mode": "markers",
           "type": "scatter",
           "x": [
            "2022-03-20T00:00:00"
           ],
           "y": [
            49033.429
           ]
          }
         ]
        },
        {
         "data": [
          {
           "marker": {
            "color": "red",
            "size": 15
           },
           "mode": "markers",
           "type": "scatter",
           "x": [
            "2022-03-21T00:00:00"
           ],
           "y": [
            47036.429
           ]
          }
         ]
        },
        {
         "data": [
          {
           "marker": {
            "color": "red",
            "size": 15
           },
           "mode": "markers",
           "type": "scatter",
           "x": [
            "2022-03-22T00:00:00"
           ],
           "y": [
            45273.714
           ]
          }
         ]
        },
        {
         "data": [
          {
           "marker": {
            "color": "red",
            "size": 15
           },
           "mode": "markers",
           "type": "scatter",
           "x": [
            "2022-03-23T00:00:00"
           ],
           "y": [
            42777
           ]
          }
         ]
        },
        {
         "data": [
          {
           "marker": {
            "color": "red",
            "size": 15
           },
           "mode": "markers",
           "type": "scatter",
           "x": [
            "2022-03-24T00:00:00"
           ],
           "y": [
            40695.429
           ]
          }
         ]
        },
        {
         "data": [
          {
           "marker": {
            "color": "red",
            "size": 15
           },
           "mode": "markers",
           "type": "scatter",
           "x": [
            "2022-03-25T00:00:00"
           ],
           "y": [
            37948.857
           ]
          }
         ]
        },
        {
         "data": [
          {
           "marker": {
            "color": "red",
            "size": 15
           },
           "mode": "markers",
           "type": "scatter",
           "x": [
            "2022-03-26T00:00:00"
           ],
           "y": [
            36046.714
           ]
          }
         ]
        },
        {
         "data": [
          {
           "marker": {
            "color": "red",
            "size": 15
           },
           "mode": "markers",
           "type": "scatter",
           "x": [
            "2022-03-27T00:00:00"
           ],
           "y": [
            34646
           ]
          }
         ]
        },
        {
         "data": [
          {
           "marker": {
            "color": "red",
            "size": 15
           },
           "mode": "markers",
           "type": "scatter",
           "x": [
            "2022-03-28T00:00:00"
           ],
           "y": [
            33159.714
           ]
          }
         ]
        },
        {
         "data": [
          {
           "marker": {
            "color": "red",
            "size": 15
           },
           "mode": "markers",
           "type": "scatter",
           "x": [
            "2022-03-29T00:00:00"
           ],
           "y": [
            31751
           ]
          }
         ]
        },
        {
         "data": [
          {
           "marker": {
            "color": "red",
            "size": 15
           },
           "mode": "markers",
           "type": "scatter",
           "x": [
            "2022-03-30T00:00:00"
           ],
           "y": [
            29607.429
           ]
          }
         ]
        },
        {
         "data": [
          {
           "marker": {
            "color": "red",
            "size": 15
           },
           "mode": "markers",
           "type": "scatter",
           "x": [
            "2022-03-31T00:00:00"
           ],
           "y": [
            27656.857
           ]
          }
         ]
        },
        {
         "data": [
          {
           "marker": {
            "color": "red",
            "size": 15
           },
           "mode": "markers",
           "type": "scatter",
           "x": [
            "2022-04-01T00:00:00"
           ],
           "y": [
            25765.143
           ]
          }
         ]
        },
        {
         "data": [
          {
           "marker": {
            "color": "red",
            "size": 15
           },
           "mode": "markers",
           "type": "scatter",
           "x": [
            "2022-04-02T00:00:00"
           ],
           "y": [
            24166
           ]
          }
         ]
        },
        {
         "data": [
          {
           "marker": {
            "color": "red",
            "size": 15
           },
           "mode": "markers",
           "type": "scatter",
           "x": [
            "2022-04-03T00:00:00"
           ],
           "y": [
            22360.143
           ]
          }
         ]
        },
        {
         "data": [
          {
           "marker": {
            "color": "red",
            "size": 15
           },
           "mode": "markers",
           "type": "scatter",
           "x": [
            "2022-04-04T00:00:00"
           ],
           "y": [
            20825.286
           ]
          }
         ]
        },
        {
         "data": [
          {
           "marker": {
            "color": "red",
            "size": 15
           },
           "mode": "markers",
           "type": "scatter",
           "x": [
            "2022-04-05T00:00:00"
           ],
           "y": [
            18445.571
           ]
          }
         ]
        },
        {
         "data": [
          {
           "marker": {
            "color": "red",
            "size": 15
           },
           "mode": "markers",
           "type": "scatter",
           "x": [
            "2022-04-06T00:00:00"
           ],
           "y": [
            16339.571
           ]
          }
         ]
        },
        {
         "data": [
          {
           "marker": {
            "color": "red",
            "size": 15
           },
           "mode": "markers",
           "type": "scatter",
           "x": [
            "2022-04-07T00:00:00"
           ],
           "y": [
            14544.857
           ]
          }
         ]
        },
        {
         "data": [
          {
           "marker": {
            "color": "red",
            "size": 15
           },
           "mode": "markers",
           "type": "scatter",
           "x": [
            "2022-04-08T00:00:00"
           ],
           "y": [
            12990.714
           ]
          }
         ]
        },
        {
         "data": [
          {
           "marker": {
            "color": "red",
            "size": 15
           },
           "mode": "markers",
           "type": "scatter",
           "x": [
            "2022-04-09T00:00:00"
           ],
           "y": [
            11984.571
           ]
          }
         ]
        },
        {
         "data": [
          {
           "marker": {
            "color": "red",
            "size": 15
           },
           "mode": "markers",
           "type": "scatter",
           "x": [
            "2022-04-10T00:00:00"
           ],
           "y": [
            11241.857
           ]
          }
         ]
        },
        {
         "data": [
          {
           "marker": {
            "color": "red",
            "size": 15
           },
           "mode": "markers",
           "type": "scatter",
           "x": [
            "2022-04-11T00:00:00"
           ],
           "y": [
            10650.857
           ]
          }
         ]
        },
        {
         "data": [
          {
           "marker": {
            "color": "red",
            "size": 15
           },
           "mode": "markers",
           "type": "scatter",
           "x": [
            "2022-04-12T00:00:00"
           ],
           "y": [
            9546.429
           ]
          }
         ]
        },
        {
         "data": [
          {
           "marker": {
            "color": "red",
            "size": 15
           },
           "mode": "markers",
           "type": "scatter",
           "x": [
            "2022-04-13T00:00:00"
           ],
           "y": [
            8389.714
           ]
          }
         ]
        },
        {
         "data": [
          {
           "marker": {
            "color": "red",
            "size": 15
           },
           "mode": "markers",
           "type": "scatter",
           "x": [
            "2022-04-14T00:00:00"
           ],
           "y": [
            7220.286
           ]
          }
         ]
        },
        {
         "data": [
          {
           "marker": {
            "color": "red",
            "size": 15
           },
           "mode": "markers",
           "type": "scatter",
           "x": [
            "2022-04-15T00:00:00"
           ],
           "y": [
            6258.286
           ]
          }
         ]
        },
        {
         "data": [
          {
           "marker": {
            "color": "red",
            "size": 15
           },
           "mode": "markers",
           "type": "scatter",
           "x": [
            "2022-04-16T00:00:00"
           ],
           "y": [
            5342.143
           ]
          }
         ]
        },
        {
         "data": [
          {
           "marker": {
            "color": "red",
            "size": 15
           },
           "mode": "markers",
           "type": "scatter",
           "x": [
            "2022-04-17T00:00:00"
           ],
           "y": [
            4722.143
           ]
          }
         ]
        },
        {
         "data": [
          {
           "marker": {
            "color": "red",
            "size": 15
           },
           "mode": "markers",
           "type": "scatter",
           "x": [
            "2022-04-18T00:00:00"
           ],
           "y": [
            4070.571
           ]
          }
         ]
        },
        {
         "data": [
          {
           "marker": {
            "color": "red",
            "size": 15
           },
           "mode": "markers",
           "type": "scatter",
           "x": [
            "2022-04-19T00:00:00"
           ],
           "y": [
            3527.286
           ]
          }
         ]
        },
        {
         "data": [
          {
           "marker": {
            "color": "red",
            "size": 15
           },
           "mode": "markers",
           "type": "scatter",
           "x": [
            "2022-04-20T00:00:00"
           ],
           "y": [
            3324.143
           ]
          }
         ]
        },
        {
         "data": [
          {
           "marker": {
            "color": "red",
            "size": 15
           },
           "mode": "markers",
           "type": "scatter",
           "x": [
            "2022-04-21T00:00:00"
           ],
           "y": [
            3087.143
           ]
          }
         ]
        },
        {
         "data": [
          {
           "marker": {
            "color": "red",
            "size": 15
           },
           "mode": "markers",
           "type": "scatter",
           "x": [
            "2022-04-22T00:00:00"
           ],
           "y": [
            2869.714
           ]
          }
         ]
        },
        {
         "data": [
          {
           "marker": {
            "color": "red",
            "size": 15
           },
           "mode": "markers",
           "type": "scatter",
           "x": [
            "2022-04-23T00:00:00"
           ],
           "y": [
            2662.571
           ]
          }
         ]
        },
        {
         "data": [
          {
           "marker": {
            "color": "red",
            "size": 15
           },
           "mode": "markers",
           "type": "scatter",
           "x": [
            "2022-04-24T00:00:00"
           ],
           "y": [
            2484.286
           ]
          }
         ]
        },
        {
         "data": [
          {
           "marker": {
            "color": "red",
            "size": 15
           },
           "mode": "markers",
           "type": "scatter",
           "x": [
            "2022-04-25T00:00:00"
           ],
           "y": [
            2388.714
           ]
          }
         ]
        },
        {
         "data": [
          {
           "marker": {
            "color": "red",
            "size": 15
           },
           "mode": "markers",
           "type": "scatter",
           "x": [
            "2022-04-26T00:00:00"
           ],
           "y": [
            2296.857
           ]
          }
         ]
        },
        {
         "data": [
          {
           "marker": {
            "color": "red",
            "size": 15
           },
           "mode": "markers",
           "type": "scatter",
           "x": [
            "2022-04-27T00:00:00"
           ],
           "y": [
            2044.714
           ]
          }
         ]
        },
        {
         "data": [
          {
           "marker": {
            "color": "red",
            "size": 15
           },
           "mode": "markers",
           "type": "scatter",
           "x": [
            "2022-04-28T00:00:00"
           ],
           "y": [
            1789.286
           ]
          }
         ]
        },
        {
         "data": [
          {
           "marker": {
            "color": "red",
            "size": 15
           },
           "mode": "markers",
           "type": "scatter",
           "x": [
            "2022-04-29T00:00:00"
           ],
           "y": [
            1654.857
           ]
          }
         ]
        },
        {
         "data": [
          {
           "marker": {
            "color": "red",
            "size": 15
           },
           "mode": "markers",
           "type": "scatter",
           "x": [
            "2022-04-30T00:00:00"
           ],
           "y": [
            1590.714
           ]
          }
         ]
        },
        {
         "data": [
          {
           "marker": {
            "color": "red",
            "size": 15
           },
           "mode": "markers",
           "type": "scatter",
           "x": [
            "2022-05-01T00:00:00"
           ],
           "y": [
            1548
           ]
          }
         ]
        },
        {
         "data": [
          {
           "marker": {
            "color": "red",
            "size": 15
           },
           "mode": "markers",
           "type": "scatter",
           "x": [
            "2022-05-02T00:00:00"
           ],
           "y": [
            1534.429
           ]
          }
         ]
        },
        {
         "data": [
          {
           "marker": {
            "color": "red",
            "size": 15
           },
           "mode": "markers",
           "type": "scatter",
           "x": [
            "2022-05-03T00:00:00"
           ],
           "y": [
            1518
           ]
          }
         ]
        },
        {
         "data": [
          {
           "marker": {
            "color": "red",
            "size": 15
           },
           "mode": "markers",
           "type": "scatter",
           "x": [
            "2022-05-04T00:00:00"
           ],
           "y": [
            1507
           ]
          }
         ]
        },
        {
         "data": [
          {
           "marker": {
            "color": "red",
            "size": 15
           },
           "mode": "markers",
           "type": "scatter",
           "x": [
            "2022-05-05T00:00:00"
           ],
           "y": [
            1567.143
           ]
          }
         ]
        },
        {
         "data": [
          {
           "marker": {
            "color": "red",
            "size": 15
           },
           "mode": "markers",
           "type": "scatter",
           "x": [
            "2022-05-06T00:00:00"
           ],
           "y": [
            1513.857
           ]
          }
         ]
        },
        {
         "data": [
          {
           "marker": {
            "color": "red",
            "size": 15
           },
           "mode": "markers",
           "type": "scatter",
           "x": [
            "2022-05-07T00:00:00"
           ],
           "y": [
            1497.571
           ]
          }
         ]
        },
        {
         "data": [
          {
           "marker": {
            "color": "red",
            "size": 15
           },
           "mode": "markers",
           "type": "scatter",
           "x": [
            "2022-05-08T00:00:00"
           ],
           "y": [
            1489.429
           ]
          }
         ]
        },
        {
         "data": [
          {
           "marker": {
            "color": "red",
            "size": 15
           },
           "mode": "markers",
           "type": "scatter",
           "x": [
            "2022-05-09T00:00:00"
           ],
           "y": [
            1457.571
           ]
          }
         ]
        },
        {
         "data": [
          {
           "marker": {
            "color": "red",
            "size": 15
           },
           "mode": "markers",
           "type": "scatter",
           "x": [
            "2022-05-10T00:00:00"
           ],
           "y": [
            1434.143
           ]
          }
         ]
        },
        {
         "data": [
          {
           "marker": {
            "color": "red",
            "size": 15
           },
           "mode": "markers",
           "type": "scatter",
           "x": [
            "2022-05-11T00:00:00"
           ],
           "y": [
            1393.429
           ]
          }
         ]
        },
        {
         "data": [
          {
           "marker": {
            "color": "red",
            "size": 15
           },
           "mode": "markers",
           "type": "scatter",
           "x": [
            "2022-05-12T00:00:00"
           ],
           "y": [
            1359
           ]
          }
         ]
        },
        {
         "data": [
          {
           "marker": {
            "color": "red",
            "size": 15
           },
           "mode": "markers",
           "type": "scatter",
           "x": [
            "2022-05-13T00:00:00"
           ],
           "y": [
            1353.429
           ]
          }
         ]
        },
        {
         "data": [
          {
           "marker": {
            "color": "red",
            "size": 15
           },
           "mode": "markers",
           "type": "scatter",
           "x": [
            "2022-05-14T00:00:00"
           ],
           "y": [
            1331.286
           ]
          }
         ]
        },
        {
         "data": [
          {
           "marker": {
            "color": "red",
            "size": 15
           },
           "mode": "markers",
           "type": "scatter",
           "x": [
            "2022-05-15T00:00:00"
           ],
           "y": [
            1299
           ]
          }
         ]
        },
        {
         "data": [
          {
           "marker": {
            "color": "red",
            "size": 15
           },
           "mode": "markers",
           "type": "scatter",
           "x": [
            "2022-05-16T00:00:00"
           ],
           "y": [
            1260.857
           ]
          }
         ]
        },
        {
         "data": [
          {
           "marker": {
            "color": "red",
            "size": 15
           },
           "mode": "markers",
           "type": "scatter",
           "x": [
            "2022-05-17T00:00:00"
           ],
           "y": [
            1222.143
           ]
          }
         ]
        },
        {
         "data": [
          {
           "marker": {
            "color": "red",
            "size": 15
           },
           "mode": "markers",
           "type": "scatter",
           "x": [
            "2022-05-18T00:00:00"
           ],
           "y": [
            1194
           ]
          }
         ]
        },
        {
         "data": [
          {
           "marker": {
            "color": "red",
            "size": 15
           },
           "mode": "markers",
           "type": "scatter",
           "x": [
            "2022-05-19T00:00:00"
           ],
           "y": [
            1195.143
           ]
          }
         ]
        },
        {
         "data": [
          {
           "marker": {
            "color": "red",
            "size": 15
           },
           "mode": "markers",
           "type": "scatter",
           "x": [
            "2022-05-20T00:00:00"
           ],
           "y": [
            1163.429
           ]
          }
         ]
        },
        {
         "data": [
          {
           "marker": {
            "color": "red",
            "size": 15
           },
           "mode": "markers",
           "type": "scatter",
           "x": [
            "2022-05-21T00:00:00"
           ],
           "y": [
            1142.143
           ]
          }
         ]
        },
        {
         "data": [
          {
           "marker": {
            "color": "red",
            "size": 15
           },
           "mode": "markers",
           "type": "scatter",
           "x": [
            "2022-05-22T00:00:00"
           ],
           "y": [
            1107.286
           ]
          }
         ]
        },
        {
         "data": [
          {
           "marker": {
            "color": "red",
            "size": 15
           },
           "mode": "markers",
           "type": "scatter",
           "x": [
            "2022-05-23T00:00:00"
           ],
           "y": [
            1095.286
           ]
          }
         ]
        },
        {
         "data": [
          {
           "marker": {
            "color": "red",
            "size": 15
           },
           "mode": "markers",
           "type": "scatter",
           "x": [
            "2022-05-24T00:00:00"
           ],
           "y": [
            1077.857
           ]
          }
         ]
        },
        {
         "data": [
          {
           "marker": {
            "color": "red",
            "size": 15
           },
           "mode": "markers",
           "type": "scatter",
           "x": [
            "2022-05-25T00:00:00"
           ],
           "y": [
            1058
           ]
          }
         ]
        },
        {
         "data": [
          {
           "marker": {
            "color": "red",
            "size": 15
           },
           "mode": "markers",
           "type": "scatter",
           "x": [
            "2022-05-26T00:00:00"
           ],
           "y": [
            1003.857
           ]
          }
         ]
        },
        {
         "data": [
          {
           "marker": {
            "color": "red",
            "size": 15
           },
           "mode": "markers",
           "type": "scatter",
           "x": [
            "2022-05-27T00:00:00"
           ],
           "y": [
            984
           ]
          }
         ]
        },
        {
         "data": [
          {
           "marker": {
            "color": "red",
            "size": 15
           },
           "mode": "markers",
           "type": "scatter",
           "x": [
            "2022-05-28T00:00:00"
           ],
           "y": [
            943
           ]
          }
         ]
        },
        {
         "data": [
          {
           "marker": {
            "color": "red",
            "size": 15
           },
           "mode": "markers",
           "type": "scatter",
           "x": [
            "2022-05-29T00:00:00"
           ],
           "y": [
            951.857
           ]
          }
         ]
        },
        {
         "data": [
          {
           "marker": {
            "color": "red",
            "size": 15
           },
           "mode": "markers",
           "type": "scatter",
           "x": [
            "2022-05-30T00:00:00"
           ],
           "y": [
            987.571
           ]
          }
         ]
        },
        {
         "data": [
          {
           "marker": {
            "color": "red",
            "size": 15
           },
           "mode": "markers",
           "type": "scatter",
           "x": [
            "2022-05-31T00:00:00"
           ],
           "y": [
            995.714
           ]
          }
         ]
        },
        {
         "data": [
          {
           "marker": {
            "color": "red",
            "size": 15
           },
           "mode": "markers",
           "type": "scatter",
           "x": [
            "2022-06-01T00:00:00"
           ],
           "y": [
            1040.571
           ]
          }
         ]
        },
        {
         "data": [
          {
           "marker": {
            "color": "red",
            "size": 15
           },
           "mode": "markers",
           "type": "scatter",
           "x": [
            "2022-06-02T00:00:00"
           ],
           "y": [
            1108.857
           ]
          }
         ]
        },
        {
         "data": [
          {
           "marker": {
            "color": "red",
            "size": 15
           },
           "mode": "markers",
           "type": "scatter",
           "x": [
            "2022-06-03T00:00:00"
           ],
           "y": [
            1188.429
           ]
          }
         ]
        },
        {
         "data": [
          {
           "marker": {
            "color": "red",
            "size": 15
           },
           "mode": "markers",
           "type": "scatter",
           "x": [
            "2022-06-04T00:00:00"
           ],
           "y": [
            1266.714
           ]
          }
         ]
        },
        {
         "data": [
          {
           "marker": {
            "color": "red",
            "size": 15
           },
           "mode": "markers",
           "type": "scatter",
           "x": [
            "2022-06-05T00:00:00"
           ],
           "y": [
            1325.714
           ]
          }
         ]
        },
        {
         "data": [
          {
           "marker": {
            "color": "red",
            "size": 15
           },
           "mode": "markers",
           "type": "scatter",
           "x": [
            "2022-06-06T00:00:00"
           ],
           "y": [
            1324.286
           ]
          }
         ]
        },
        {
         "data": [
          {
           "marker": {
            "color": "red",
            "size": 15
           },
           "mode": "markers",
           "type": "scatter",
           "x": [
            "2022-06-07T00:00:00"
           ],
           "y": [
            1360.714
           ]
          }
         ]
        },
        {
         "data": [
          {
           "marker": {
            "color": "red",
            "size": 15
           },
           "mode": "markers",
           "type": "scatter",
           "x": [
            "2022-06-08T00:00:00"
           ],
           "y": [
            1418.429
           ]
          }
         ]
        },
        {
         "data": [
          {
           "marker": {
            "color": "red",
            "size": 15
           },
           "mode": "markers",
           "type": "scatter",
           "x": [
            "2022-06-09T00:00:00"
           ],
           "y": [
            1546.143
           ]
          }
         ]
        },
        {
         "data": [
          {
           "marker": {
            "color": "red",
            "size": 15
           },
           "mode": "markers",
           "type": "scatter",
           "x": [
            "2022-06-10T00:00:00"
           ],
           "y": [
            1656.857
           ]
          }
         ]
        },
        {
         "data": [
          {
           "marker": {
            "color": "red",
            "size": 15
           },
           "mode": "markers",
           "type": "scatter",
           "x": [
            "2022-06-11T00:00:00"
           ],
           "y": [
            1451.286
           ]
          }
         ]
        },
        {
         "data": [
          {
           "marker": {
            "color": "red",
            "size": 15
           },
           "mode": "markers",
           "type": "scatter",
           "x": [
            "2022-06-12T00:00:00"
           ],
           "y": [
            1274.286
           ]
          }
         ]
        },
        {
         "data": [
          {
           "marker": {
            "color": "red",
            "size": 15
           },
           "mode": "markers",
           "type": "scatter",
           "x": [
            "2022-06-13T00:00:00"
           ],
           "y": [
            2017.143
           ]
          }
         ]
        },
        {
         "data": [
          {
           "marker": {
            "color": "red",
            "size": 15
           },
           "mode": "markers",
           "type": "scatter",
           "x": [
            "2022-06-14T00:00:00"
           ],
           "y": [
            2213.143
           ]
          }
         ]
        },
        {
         "data": [
          {
           "marker": {
            "color": "red",
            "size": 15
           },
           "mode": "markers",
           "type": "scatter",
           "x": [
            "2022-06-15T00:00:00"
           ],
           "y": [
            2447.143
           ]
          }
         ]
        },
        {
         "data": [
          {
           "marker": {
            "color": "red",
            "size": 15
           },
           "mode": "markers",
           "type": "scatter",
           "x": [
            "2022-06-16T00:00:00"
           ],
           "y": [
            2695.286
           ]
          }
         ]
        },
        {
         "data": [
          {
           "marker": {
            "color": "red",
            "size": 15
           },
           "mode": "markers",
           "type": "scatter",
           "x": [
            "2022-06-17T00:00:00"
           ],
           "y": [
            2927.143
           ]
          }
         ]
        },
        {
         "data": [
          {
           "marker": {
            "color": "red",
            "size": 15
           },
           "mode": "markers",
           "type": "scatter",
           "x": [
            "2022-06-18T00:00:00"
           ],
           "y": [
            2927.143
           ]
          }
         ]
        },
        {
         "data": [
          {
           "marker": {
            "color": "red",
            "size": 15
           },
           "mode": "markers",
           "type": "scatter",
           "x": [
            "2022-06-19T00:00:00"
           ],
           "y": [
            2927.143
           ]
          }
         ]
        },
        {
         "data": [
          {
           "marker": {
            "color": "red",
            "size": 15
           },
           "mode": "markers",
           "type": "scatter",
           "x": [
            "2022-06-20T00:00:00"
           ],
           "y": [
            3509.286
           ]
          }
         ]
        },
        {
         "data": [
          {
           "marker": {
            "color": "red",
            "size": 15
           },
           "mode": "markers",
           "type": "scatter",
           "x": [
            "2022-06-21T00:00:00"
           ],
           "y": [
            3783.429
           ]
          }
         ]
        },
        {
         "data": [
          {
           "marker": {
            "color": "red",
            "size": 15
           },
           "mode": "markers",
           "type": "scatter",
           "x": [
            "2022-06-22T00:00:00"
           ],
           "y": [
            3985
           ]
          }
         ]
        },
        {
         "data": [
          {
           "marker": {
            "color": "red",
            "size": 15
           },
           "mode": "markers",
           "type": "scatter",
           "x": [
            "2022-06-23T00:00:00"
           ],
           "y": [
            4176.571
           ]
          }
         ]
        },
        {
         "data": [
          {
           "marker": {
            "color": "red",
            "size": 15
           },
           "mode": "markers",
           "type": "scatter",
           "x": [
            "2022-06-24T00:00:00"
           ],
           "y": [
            4363.429
           ]
          }
         ]
        },
        {
         "data": [
          {
           "marker": {
            "color": "red",
            "size": 15
           },
           "mode": "markers",
           "type": "scatter",
           "x": [
            "2022-06-25T00:00:00"
           ],
           "y": [
            4363.429
           ]
          }
         ]
        },
        {
         "data": [
          {
           "marker": {
            "color": "red",
            "size": 15
           },
           "mode": "markers",
           "type": "scatter",
           "x": [
            "2022-06-26T00:00:00"
           ],
           "y": [
            4363.429
           ]
          }
         ]
        },
        {
         "data": [
          {
           "marker": {
            "color": "red",
            "size": 15
           },
           "mode": "markers",
           "type": "scatter",
           "x": [
            "2022-06-27T00:00:00"
           ],
           "y": [
            4738.714
           ]
          }
         ]
        },
        {
         "data": [
          {
           "marker": {
            "color": "red",
            "size": 15
           },
           "mode": "markers",
           "type": "scatter",
           "x": [
            "2022-06-28T00:00:00"
           ],
           "y": [
            4879.429
           ]
          }
         ]
        },
        {
         "data": [
          {
           "marker": {
            "color": "red",
            "size": 15
           },
           "mode": "markers",
           "type": "scatter",
           "x": [
            "2022-06-29T00:00:00"
           ],
           "y": [
            5085.857
           ]
          }
         ]
        },
        {
         "data": [
          {
           "marker": {
            "color": "red",
            "size": 15
           },
           "mode": "markers",
           "type": "scatter",
           "x": [
            "2022-06-30T00:00:00"
           ],
           "y": [
            5229.429
           ]
          }
         ]
        },
        {
         "data": [
          {
           "marker": {
            "color": "red",
            "size": 15
           },
           "mode": "markers",
           "type": "scatter",
           "x": [
            "2022-07-01T00:00:00"
           ],
           "y": [
            5359.429
           ]
          }
         ]
        },
        {
         "data": [
          {
           "marker": {
            "color": "red",
            "size": 15
           },
           "mode": "markers",
           "type": "scatter",
           "x": [
            "2022-07-02T00:00:00"
           ],
           "y": [
            5359.429
           ]
          }
         ]
        },
        {
         "data": [
          {
           "marker": {
            "color": "red",
            "size": 15
           },
           "mode": "markers",
           "type": "scatter",
           "x": [
            "2022-07-03T00:00:00"
           ],
           "y": [
            5359.429
           ]
          }
         ]
        },
        {
         "data": [
          {
           "marker": {
            "color": "red",
            "size": 15
           },
           "mode": "markers",
           "type": "scatter",
           "x": [
            "2022-07-04T00:00:00"
           ],
           "y": [
            5485.429
           ]
          }
         ]
        },
        {
         "data": [
          {
           "marker": {
            "color": "red",
            "size": 15
           },
           "mode": "markers",
           "type": "scatter",
           "x": [
            "2022-07-05T00:00:00"
           ],
           "y": [
            5610.429
           ]
          }
         ]
        },
        {
         "data": [
          {
           "marker": {
            "color": "red",
            "size": 15
           },
           "mode": "markers",
           "type": "scatter",
           "x": [
            "2022-07-06T00:00:00"
           ],
           "y": [
            5633.143
           ]
          }
         ]
        },
        {
         "data": [
          {
           "marker": {
            "color": "red",
            "size": 15
           },
           "mode": "markers",
           "type": "scatter",
           "x": [
            "2022-07-07T00:00:00"
           ],
           "y": [
            5745.143
           ]
          }
         ]
        },
        {
         "data": [
          {
           "marker": {
            "color": "red",
            "size": 15
           },
           "mode": "markers",
           "type": "scatter",
           "x": [
            "2022-07-08T00:00:00"
           ],
           "y": [
            5834.571
           ]
          }
         ]
        },
        {
         "data": [
          {
           "marker": {
            "color": "red",
            "size": 15
           },
           "mode": "markers",
           "type": "scatter",
           "x": [
            "2022-07-09T00:00:00"
           ],
           "y": [
            5834.571
           ]
          }
         ]
        },
        {
         "data": [
          {
           "marker": {
            "color": "red",
            "size": 15
           },
           "mode": "markers",
           "type": "scatter",
           "x": [
            "2022-07-10T00:00:00"
           ],
           "y": [
            5834.571
           ]
          }
         ]
        },
        {
         "data": [
          {
           "marker": {
            "color": "red",
            "size": 15
           },
           "mode": "markers",
           "type": "scatter",
           "x": [
            "2022-07-11T00:00:00"
           ],
           "y": [
            6070.571
           ]
          }
         ]
        },
        {
         "data": [
          {
           "marker": {
            "color": "red",
            "size": 15
           },
           "mode": "markers",
           "type": "scatter",
           "x": [
            "2022-07-12T00:00:00"
           ],
           "y": [
            6179.143
           ]
          }
         ]
        },
        {
         "data": [
          {
           "marker": {
            "color": "red",
            "size": 15
           },
           "mode": "markers",
           "type": "scatter",
           "x": [
            "2022-07-13T00:00:00"
           ],
           "y": [
            6232.857
           ]
          }
         ]
        },
        {
         "data": [
          {
           "marker": {
            "color": "red",
            "size": 15
           },
           "mode": "markers",
           "type": "scatter",
           "x": [
            "2022-07-14T00:00:00"
           ],
           "y": [
            6198.571
           ]
          }
         ]
        },
        {
         "data": [
          {
           "marker": {
            "color": "red",
            "size": 15
           },
           "mode": "markers",
           "type": "scatter",
           "x": [
            "2022-07-15T00:00:00"
           ],
           "y": [
            6172
           ]
          }
         ]
        },
        {
         "data": [
          {
           "marker": {
            "color": "red",
            "size": 15
           },
           "mode": "markers",
           "type": "scatter",
           "x": [
            "2022-07-16T00:00:00"
           ],
           "y": [
            6172
           ]
          }
         ]
        },
        {
         "data": [
          {
           "marker": {
            "color": "red",
            "size": 15
           },
           "mode": "markers",
           "type": "scatter",
           "x": [
            "2022-07-17T00:00:00"
           ],
           "y": [
            6172
           ]
          }
         ]
        },
        {
         "data": [
          {
           "marker": {
            "color": "red",
            "size": 15
           },
           "mode": "markers",
           "type": "scatter",
           "x": [
            "2022-07-18T00:00:00"
           ],
           "y": [
            5831.857
           ]
          }
         ]
        },
        {
         "data": [
          {
           "marker": {
            "color": "red",
            "size": 15
           },
           "mode": "markers",
           "type": "scatter",
           "x": [
            "2022-07-19T00:00:00"
           ],
           "y": [
            5496
           ]
          }
         ]
        },
        {
         "data": [
          {
           "marker": {
            "color": "red",
            "size": 15
           },
           "mode": "markers",
           "type": "scatter",
           "x": [
            "2022-07-20T00:00:00"
           ],
           "y": [
            5167
           ]
          }
         ]
        },
        {
         "data": [
          {
           "marker": {
            "color": "red",
            "size": 15
           },
           "mode": "markers",
           "type": "scatter",
           "x": [
            "2022-07-21T00:00:00"
           ],
           "y": [
            4801
           ]
          }
         ]
        },
        {
         "data": [
          {
           "marker": {
            "color": "red",
            "size": 15
           },
           "mode": "markers",
           "type": "scatter",
           "x": [
            "2022-07-22T00:00:00"
           ],
           "y": [
            4531.429
           ]
          }
         ]
        },
        {
         "data": [
          {
           "marker": {
            "color": "red",
            "size": 15
           },
           "mode": "markers",
           "type": "scatter",
           "x": [
            "2022-07-23T00:00:00"
           ],
           "y": [
            4531.429
           ]
          }
         ]
        },
        {
         "data": [
          {
           "marker": {
            "color": "red",
            "size": 15
           },
           "mode": "markers",
           "type": "scatter",
           "x": [
            "2022-07-24T00:00:00"
           ],
           "y": [
            4531.429
           ]
          }
         ]
        },
        {
         "data": [
          {
           "marker": {
            "color": "red",
            "size": 15
           },
           "mode": "markers",
           "type": "scatter",
           "x": [
            "2022-07-25T00:00:00"
           ],
           "y": [
            4088
           ]
          }
         ]
        },
        {
         "data": [
          {
           "marker": {
            "color": "red",
            "size": 15
           },
           "mode": "markers",
           "type": "scatter",
           "x": [
            "2022-07-26T00:00:00"
           ],
           "y": [
            4004.571
           ]
          }
         ]
        },
        {
         "data": [
          {
           "marker": {
            "color": "red",
            "size": 15
           },
           "mode": "markers",
           "type": "scatter",
           "x": [
            "2022-07-27T00:00:00"
           ],
           "y": [
            3949.429
           ]
          }
         ]
        },
        {
         "data": [
          {
           "marker": {
            "color": "red",
            "size": 15
           },
           "mode": "markers",
           "type": "scatter",
           "x": [
            "2022-07-28T00:00:00"
           ],
           "y": [
            3833.714
           ]
          }
         ]
        },
        {
         "data": [
          {
           "marker": {
            "color": "red",
            "size": 15
           },
           "mode": "markers",
           "type": "scatter",
           "x": [
            "2022-07-29T00:00:00"
           ],
           "y": [
            3634.143
           ]
          }
         ]
        },
        {
         "data": [
          {
           "marker": {
            "color": "red",
            "size": 15
           },
           "mode": "markers",
           "type": "scatter",
           "x": [
            "2022-07-30T00:00:00"
           ],
           "y": [
            3634.143
           ]
          }
         ]
        },
        {
         "data": [
          {
           "marker": {
            "color": "red",
            "size": 15
           },
           "mode": "markers",
           "type": "scatter",
           "x": [
            "2022-07-31T00:00:00"
           ],
           "y": [
            3634.143
           ]
          }
         ]
        },
        {
         "data": [
          {
           "marker": {
            "color": "red",
            "size": 15
           },
           "mode": "markers",
           "type": "scatter",
           "x": [
            "2022-08-01T00:00:00"
           ],
           "y": [
            3262.571
           ]
          }
         ]
        },
        {
         "data": [
          {
           "marker": {
            "color": "red",
            "size": 15
           },
           "mode": "markers",
           "type": "scatter",
           "x": [
            "2022-08-02T00:00:00"
           ],
           "y": [
            3097.429
           ]
          }
         ]
        },
        {
         "data": [
          {
           "marker": {
            "color": "red",
            "size": 15
           },
           "mode": "markers",
           "type": "scatter",
           "x": [
            "2022-08-03T00:00:00"
           ],
           "y": [
            2925.857
           ]
          }
         ]
        },
        {
         "data": [
          {
           "marker": {
            "color": "red",
            "size": 15
           },
           "mode": "markers",
           "type": "scatter",
           "x": [
            "2022-08-04T00:00:00"
           ],
           "y": [
            2747.857
           ]
          }
         ]
        },
        {
         "data": [
          {
           "marker": {
            "color": "red",
            "size": 15
           },
           "mode": "markers",
           "type": "scatter",
           "x": [
            "2022-08-05T00:00:00"
           ],
           "y": [
            2639
           ]
          }
         ]
        },
        {
         "data": [
          {
           "marker": {
            "color": "red",
            "size": 15
           },
           "mode": "markers",
           "type": "scatter",
           "x": [
            "2022-08-06T00:00:00"
           ],
           "y": [
            2639
           ]
          }
         ]
        },
        {
         "data": [
          {
           "marker": {
            "color": "red",
            "size": 15
           },
           "mode": "markers",
           "type": "scatter",
           "x": [
            "2022-08-07T00:00:00"
           ],
           "y": [
            2639
           ]
          }
         ]
        },
        {
         "data": [
          {
           "marker": {
            "color": "red",
            "size": 15
           },
           "mode": "markers",
           "type": "scatter",
           "x": [
            "2022-08-08T00:00:00"
           ],
           "y": [
            2288.857
           ]
          }
         ]
        },
        {
         "data": [
          {
           "marker": {
            "color": "red",
            "size": 15
           },
           "mode": "markers",
           "type": "scatter",
           "x": [
            "2022-08-09T00:00:00"
           ],
           "y": [
            2126.857
           ]
          }
         ]
        },
        {
         "data": [
          {
           "marker": {
            "color": "red",
            "size": 15
           },
           "mode": "markers",
           "type": "scatter",
           "x": [
            "2022-08-10T00:00:00"
           ],
           "y": [
            2013
           ]
          }
         ]
        },
        {
         "data": [
          {
           "marker": {
            "color": "red",
            "size": 15
           },
           "mode": "markers",
           "type": "scatter",
           "x": [
            "2022-08-11T00:00:00"
           ],
           "y": [
            1916.429
           ]
          }
         ]
        },
        {
         "data": [
          {
           "marker": {
            "color": "red",
            "size": 15
           },
           "mode": "markers",
           "type": "scatter",
           "x": [
            "2022-08-12T00:00:00"
           ],
           "y": [
            1832.143
           ]
          }
         ]
        },
        {
         "data": [
          {
           "marker": {
            "color": "red",
            "size": 15
           },
           "mode": "markers",
           "type": "scatter",
           "x": [
            "2022-08-13T00:00:00"
           ],
           "y": [
            1832.143
           ]
          }
         ]
        },
        {
         "data": [
          {
           "marker": {
            "color": "red",
            "size": 15
           },
           "mode": "markers",
           "type": "scatter",
           "x": [
            "2022-08-14T00:00:00"
           ],
           "y": [
            1832.143
           ]
          }
         ]
        },
        {
         "data": [
          {
           "marker": {
            "color": "red",
            "size": 15
           },
           "mode": "markers",
           "type": "scatter",
           "x": [
            "2022-08-15T00:00:00"
           ],
           "y": [
            1708.429
           ]
          }
         ]
        },
        {
         "data": [
          {
           "marker": {
            "color": "red",
            "size": 15
           },
           "mode": "markers",
           "type": "scatter",
           "x": [
            "2022-08-16T00:00:00"
           ],
           "y": [
            1670.857
           ]
          }
         ]
        },
        {
         "data": [
          {
           "marker": {
            "color": "red",
            "size": 15
           },
           "mode": "markers",
           "type": "scatter",
           "x": [
            "2022-08-17T00:00:00"
           ],
           "y": [
            1608.143
           ]
          }
         ]
        },
        {
         "data": [
          {
           "marker": {
            "color": "red",
            "size": 15
           },
           "mode": "markers",
           "type": "scatter",
           "x": [
            "2022-08-18T00:00:00"
           ],
           "y": [
            1404.857
           ]
          }
         ]
        },
        {
         "data": [
          {
           "marker": {
            "color": "red",
            "size": 15
           },
           "mode": "markers",
           "type": "scatter",
           "x": [
            "2022-08-19T00:00:00"
           ],
           "y": [
            1487.714
           ]
          }
         ]
        },
        {
         "data": [
          {
           "marker": {
            "color": "red",
            "size": 15
           },
           "mode": "markers",
           "type": "scatter",
           "x": [
            "2022-08-20T00:00:00"
           ],
           "y": [
            1487.714
           ]
          }
         ]
        },
        {
         "data": [
          {
           "marker": {
            "color": "red",
            "size": 15
           },
           "mode": "markers",
           "type": "scatter",
           "x": [
            "2022-08-21T00:00:00"
           ],
           "y": [
            1487.714
           ]
          }
         ]
        },
        {
         "data": [
          {
           "marker": {
            "color": "red",
            "size": 15
           },
           "mode": "markers",
           "type": "scatter",
           "x": [
            "2022-08-22T00:00:00"
           ],
           "y": [
            1352.571
           ]
          }
         ]
        },
        {
         "data": [
          {
           "marker": {
            "color": "red",
            "size": 15
           },
           "mode": "markers",
           "type": "scatter",
           "x": [
            "2022-08-23T00:00:00"
           ],
           "y": [
            1274.143
           ]
          }
         ]
        },
        {
         "data": [
          {
           "marker": {
            "color": "red",
            "size": 15
           },
           "mode": "markers",
           "type": "scatter",
           "x": [
            "2022-08-24T00:00:00"
           ],
           "y": [
            1215.286
           ]
          }
         ]
        },
        {
         "data": [
          {
           "marker": {
            "color": "red",
            "size": 15
           },
           "mode": "markers",
           "type": "scatter",
           "x": [
            "2022-08-25T00:00:00"
           ],
           "y": [
            1338.286
           ]
          }
         ]
        },
        {
         "data": [
          {
           "marker": {
            "color": "red",
            "size": 15
           },
           "mode": "markers",
           "type": "scatter",
           "x": [
            "2022-08-26T00:00:00"
           ],
           "y": [
            1151.714
           ]
          }
         ]
        },
        {
         "data": [
          {
           "marker": {
            "color": "red",
            "size": 15
           },
           "mode": "markers",
           "type": "scatter",
           "x": [
            "2022-08-27T00:00:00"
           ],
           "y": [
            1151.714
           ]
          }
         ]
        },
        {
         "data": [
          {
           "marker": {
            "color": "red",
            "size": 15
           },
           "mode": "markers",
           "type": "scatter",
           "x": [
            "2022-08-28T00:00:00"
           ],
           "y": [
            1151.714
           ]
          }
         ]
        },
        {
         "data": [
          {
           "marker": {
            "color": "red",
            "size": 15
           },
           "mode": "markers",
           "type": "scatter",
           "x": [
            "2022-08-29T00:00:00"
           ],
           "y": [
            1117.571
           ]
          }
         ]
        },
        {
         "data": [
          {
           "marker": {
            "color": "red",
            "size": 15
           },
           "mode": "markers",
           "type": "scatter",
           "x": [
            "2022-08-30T00:00:00"
           ],
           "y": [
            1104.714
           ]
          }
         ]
        },
        {
         "data": [
          {
           "marker": {
            "color": "red",
            "size": 15
           },
           "mode": "markers",
           "type": "scatter",
           "x": [
            "2022-08-31T00:00:00"
           ],
           "y": [
            1094.571
           ]
          }
         ]
        },
        {
         "data": [
          {
           "marker": {
            "color": "red",
            "size": 15
           },
           "mode": "markers",
           "type": "scatter",
           "x": [
            "2022-09-01T00:00:00"
           ],
           "y": [
            1261
           ]
          }
         ]
        },
        {
         "data": [
          {
           "marker": {
            "color": "red",
            "size": 15
           },
           "mode": "markers",
           "type": "scatter",
           "x": [
            "2022-09-02T00:00:00"
           ],
           "y": [
            1096.143
           ]
          }
         ]
        },
        {
         "data": [
          {
           "marker": {
            "color": "red",
            "size": 15
           },
           "mode": "markers",
           "type": "scatter",
           "x": [
            "2022-09-03T00:00:00"
           ],
           "y": [
            1259.143
           ]
          }
         ]
        },
        {
         "data": [
          {
           "marker": {
            "color": "red",
            "size": 15
           },
           "mode": "markers",
           "type": "scatter",
           "x": [
            "2022-09-04T00:00:00"
           ],
           "y": [
            1385.429
           ]
          }
         ]
        },
        {
         "data": [
          {
           "marker": {
            "color": "red",
            "size": 15
           },
           "mode": "markers",
           "type": "scatter",
           "x": [
            "2022-09-05T00:00:00"
           ],
           "y": [
            1096.286
           ]
          }
         ]
        },
        {
         "data": [
          {
           "marker": {
            "color": "red",
            "size": 15
           },
           "mode": "markers",
           "type": "scatter",
           "x": [
            "2022-09-06T00:00:00"
           ],
           "y": [
            1121.714
           ]
          }
         ]
        },
        {
         "data": [
          {
           "marker": {
            "color": "red",
            "size": 15
           },
           "mode": "markers",
           "type": "scatter",
           "x": [
            "2022-09-07T00:00:00"
           ],
           "y": [
            950.714
           ]
          }
         ]
        },
        {
         "data": [
          {
           "marker": {
            "color": "red",
            "size": 15
           },
           "mode": "markers",
           "type": "scatter",
           "x": [
            "2022-09-08T00:00:00"
           ],
           "y": [
            612.857
           ]
          }
         ]
        },
        {
         "data": [
          {
           "marker": {
            "color": "red",
            "size": 15
           },
           "mode": "markers",
           "type": "scatter",
           "x": [
            "2022-09-09T00:00:00"
           ],
           "y": [
            1187.857
           ]
          }
         ]
        },
        {
         "data": [
          {
           "marker": {
            "color": "red",
            "size": 15
           },
           "mode": "markers",
           "type": "scatter",
           "x": [
            "2022-09-10T00:00:00"
           ],
           "y": [
            1024.857
           ]
          }
         ]
        },
        {
         "data": [
          {
           "marker": {
            "color": "red",
            "size": 15
           },
           "mode": "markers",
           "type": "scatter",
           "x": [
            "2022-09-11T00:00:00"
           ],
           "y": [
            898.571
           ]
          }
         ]
        },
        {
         "data": [
          {
           "marker": {
            "color": "red",
            "size": 15
           },
           "mode": "markers",
           "type": "scatter",
           "x": [
            "2022-09-12T00:00:00"
           ],
           "y": [
            784.143
           ]
          }
         ]
        },
        {
         "data": [
          {
           "marker": {
            "color": "red",
            "size": 15
           },
           "mode": "markers",
           "type": "scatter",
           "x": [
            "2022-09-13T00:00:00"
           ],
           "y": [
            1189.429
           ]
          }
         ]
        },
        {
         "data": [
          {
           "marker": {
            "color": "red",
            "size": 15
           },
           "mode": "markers",
           "type": "scatter",
           "x": [
            "2022-09-14T00:00:00"
           ],
           "y": [
            1189.429
           ]
          }
         ]
        },
        {
         "data": [
          {
           "marker": {
            "color": "red",
            "size": 15
           },
           "mode": "markers",
           "type": "scatter",
           "x": [
            "2022-09-15T00:00:00"
           ],
           "y": [
            1189.429
           ]
          }
         ]
        },
        {
         "data": [
          {
           "marker": {
            "color": "red",
            "size": 15
           },
           "mode": "markers",
           "type": "scatter",
           "x": [
            "2022-09-16T00:00:00"
           ],
           "y": [
            1229.857
           ]
          }
         ]
        },
        {
         "data": [
          {
           "marker": {
            "color": "red",
            "size": 15
           },
           "mode": "markers",
           "type": "scatter",
           "x": [
            "2022-09-17T00:00:00"
           ],
           "y": [
            1229.857
           ]
          }
         ]
        },
        {
         "data": [
          {
           "marker": {
            "color": "red",
            "size": 15
           },
           "mode": "markers",
           "type": "scatter",
           "x": [
            "2022-09-18T00:00:00"
           ],
           "y": [
            1229.857
           ]
          }
         ]
        },
        {
         "data": [
          {
           "marker": {
            "color": "red",
            "size": 15
           },
           "mode": "markers",
           "type": "scatter",
           "x": [
            "2022-09-19T00:00:00"
           ],
           "y": [
            1229.857
           ]
          }
         ]
        },
        {
         "data": [
          {
           "marker": {
            "color": "red",
            "size": 15
           },
           "mode": "markers",
           "type": "scatter",
           "x": [
            "2022-09-20T00:00:00"
           ],
           "y": [
            1258.286
           ]
          }
         ]
        },
        {
         "data": [
          {
           "marker": {
            "color": "red",
            "size": 15
           },
           "mode": "markers",
           "type": "scatter",
           "x": [
            "2022-09-21T00:00:00"
           ],
           "y": [
            1258.286
           ]
          }
         ]
        },
        {
         "data": [
          {
           "marker": {
            "color": "red",
            "size": 15
           },
           "mode": "markers",
           "type": "scatter",
           "x": [
            "2022-09-22T00:00:00"
           ],
           "y": [
            1258.286
           ]
          }
         ]
        },
        {
         "data": [
          {
           "marker": {
            "color": "red",
            "size": 15
           },
           "mode": "markers",
           "type": "scatter",
           "x": [
            "2022-09-23T00:00:00"
           ],
           "y": [
            1411.714
           ]
          }
         ]
        },
        {
         "data": [
          {
           "marker": {
            "color": "red",
            "size": 15
           },
           "mode": "markers",
           "type": "scatter",
           "x": [
            "2022-09-24T00:00:00"
           ],
           "y": [
            1411.714
           ]
          }
         ]
        },
        {
         "data": [
          {
           "marker": {
            "color": "red",
            "size": 15
           },
           "mode": "markers",
           "type": "scatter",
           "x": [
            "2022-09-25T00:00:00"
           ],
           "y": [
            1411.714
           ]
          }
         ]
        },
        {
         "data": [
          {
           "marker": {
            "color": "red",
            "size": 15
           },
           "mode": "markers",
           "type": "scatter",
           "x": [
            "2022-09-26T00:00:00"
           ],
           "y": [
            1412.286
           ]
          }
         ]
        },
        {
         "data": [
          {
           "marker": {
            "color": "red",
            "size": 15
           },
           "mode": "markers",
           "type": "scatter",
           "x": [
            "2022-09-27T00:00:00"
           ],
           "y": [
            1751.857
           ]
          }
         ]
        },
        {
         "data": [
          {
           "marker": {
            "color": "red",
            "size": 15
           },
           "mode": "markers",
           "type": "scatter",
           "x": [
            "2022-09-28T00:00:00"
           ],
           "y": [
            1751.857
           ]
          }
         ]
        },
        {
         "data": [
          {
           "marker": {
            "color": "red",
            "size": 15
           },
           "mode": "markers",
           "type": "scatter",
           "x": [
            "2022-09-29T00:00:00"
           ],
           "y": [
            1751.857
           ]
          }
         ]
        },
        {
         "data": [
          {
           "marker": {
            "color": "red",
            "size": 15
           },
           "mode": "markers",
           "type": "scatter",
           "x": [
            "2022-09-30T00:00:00"
           ],
           "y": [
            2200.857
           ]
          }
         ]
        },
        {
         "data": [
          {
           "marker": {
            "color": "red",
            "size": 15
           },
           "mode": "markers",
           "type": "scatter",
           "x": [
            "2022-10-01T00:00:00"
           ],
           "y": [
            2200.857
           ]
          }
         ]
        },
        {
         "data": [
          {
           "marker": {
            "color": "red",
            "size": 15
           },
           "mode": "markers",
           "type": "scatter",
           "x": [
            "2022-10-02T00:00:00"
           ],
           "y": [
            2200.857
           ]
          }
         ]
        }
       ],
       "layout": {
        "annotations": [
         {
          "text": "15 March 2020: Lockdown",
          "x": "2020-03-15",
          "y": 1,
          "yref": "paper"
         },
         {
          "text": "1 June 2020: Easening of measures",
          "x": "2020-06-01",
          "y": 0.7,
          "yref": "paper"
         },
         {
          "text": "10 Oct 2020: Partial lockdown",
          "x": "2020-10-14",
          "y": 0.87,
          "yref": "paper"
         },
         {
          "text": "14 Dec 2020: Lockdown",
          "x": "2020-12-14",
          "y": 1,
          "yref": "paper"
         },
         {
          "text": "8 Feb 2021: Easening of measures",
          "x": "2021-02-08",
          "y": 0.7,
          "yref": "paper"
         },
         {
          "text": "19 Dec 2021: Lockdown",
          "x": "2021-12-19",
          "y": 1,
          "yref": "paper"
         },
         {
          "text": "10 Jan 2022: Easening of measures",
          "x": "2022-01-10",
          "y": 0.7,
          "yref": "paper"
         }
        ],
        "hovermode": "closest",
        "plot_bgcolor": "#f0f5f5",
        "shapes": [
         {
          "line": {
           "color": "red",
           "dash": "dash",
           "width": 0.5
          },
          "name": "Lockdown",
          "type": "line",
          "x0": "2020-03-15",
          "x1": "2020-03-15",
          "xref": "x",
          "y0": 0,
          "y1": 1,
          "yref": "y domain"
         },
         {
          "line": {
           "color": "green",
           "dash": "dash",
           "width": 0.5
          },
          "name": "Easening of measures",
          "type": "line",
          "x0": "2020-06-01",
          "x1": "2020-06-01",
          "xref": "x",
          "y0": 0,
          "y1": 1,
          "yref": "y domain"
         },
         {
          "line": {
           "color": "orange",
           "dash": "dash",
           "width": 0.5
          },
          "name": "Partial lockdown",
          "type": "line",
          "x0": "2020-10-14",
          "x1": "2020-10-14",
          "xref": "x",
          "y0": 0,
          "y1": 1,
          "yref": "y domain"
         },
         {
          "line": {
           "color": "red",
           "dash": "dash",
           "width": 0.5
          },
          "type": "line",
          "x0": "2020-12-14",
          "x1": "2020-12-14",
          "xref": "x",
          "y0": 0,
          "y1": 1,
          "yref": "y domain"
         },
         {
          "line": {
           "color": "green",
           "dash": "dash",
           "width": 0.5
          },
          "type": "line",
          "x0": "2021-02-08",
          "x1": "2021-02-08",
          "xref": "x",
          "y0": 0,
          "y1": 1,
          "yref": "y domain"
         },
         {
          "line": {
           "color": "red",
           "dash": "dash",
           "width": 0.5
          },
          "type": "line",
          "x0": "2021-12-19",
          "x1": "2021-12-19",
          "xref": "x",
          "y0": 0,
          "y1": 1,
          "yref": "y domain"
         },
         {
          "line": {
           "color": "green",
           "dash": "dash",
           "width": 0.5
          },
          "type": "line",
          "x0": "2022-01-10",
          "x1": "2022-01-10",
          "xref": "x",
          "y0": 0,
          "y1": 1,
          "yref": "y domain"
         }
        ],
        "template": {
         "data": {
          "bar": [
           {
            "error_x": {
             "color": "#2a3f5f"
            },
            "error_y": {
             "color": "#2a3f5f"
            },
            "marker": {
             "line": {
              "color": "#E5ECF6",
              "width": 0.5
             },
             "pattern": {
              "fillmode": "overlay",
              "size": 10,
              "solidity": 0.2
             }
            },
            "type": "bar"
           }
          ],
          "barpolar": [
           {
            "marker": {
             "line": {
              "color": "#E5ECF6",
              "width": 0.5
             },
             "pattern": {
              "fillmode": "overlay",
              "size": 10,
              "solidity": 0.2
             }
            },
            "type": "barpolar"
           }
          ],
          "carpet": [
           {
            "aaxis": {
             "endlinecolor": "#2a3f5f",
             "gridcolor": "white",
             "linecolor": "white",
             "minorgridcolor": "white",
             "startlinecolor": "#2a3f5f"
            },
            "baxis": {
             "endlinecolor": "#2a3f5f",
             "gridcolor": "white",
             "linecolor": "white",
             "minorgridcolor": "white",
             "startlinecolor": "#2a3f5f"
            },
            "type": "carpet"
           }
          ],
          "choropleth": [
           {
            "colorbar": {
             "outlinewidth": 0,
             "ticks": ""
            },
            "type": "choropleth"
           }
          ],
          "contour": [
           {
            "colorbar": {
             "outlinewidth": 0,
             "ticks": ""
            },
            "colorscale": [
             [
              0,
              "#0d0887"
             ],
             [
              0.1111111111111111,
              "#46039f"
             ],
             [
              0.2222222222222222,
              "#7201a8"
             ],
             [
              0.3333333333333333,
              "#9c179e"
             ],
             [
              0.4444444444444444,
              "#bd3786"
             ],
             [
              0.5555555555555556,
              "#d8576b"
             ],
             [
              0.6666666666666666,
              "#ed7953"
             ],
             [
              0.7777777777777778,
              "#fb9f3a"
             ],
             [
              0.8888888888888888,
              "#fdca26"
             ],
             [
              1,
              "#f0f921"
             ]
            ],
            "type": "contour"
           }
          ],
          "contourcarpet": [
           {
            "colorbar": {
             "outlinewidth": 0,
             "ticks": ""
            },
            "type": "contourcarpet"
           }
          ],
          "heatmap": [
           {
            "colorbar": {
             "outlinewidth": 0,
             "ticks": ""
            },
            "colorscale": [
             [
              0,
              "#0d0887"
             ],
             [
              0.1111111111111111,
              "#46039f"
             ],
             [
              0.2222222222222222,
              "#7201a8"
             ],
             [
              0.3333333333333333,
              "#9c179e"
             ],
             [
              0.4444444444444444,
              "#bd3786"
             ],
             [
              0.5555555555555556,
              "#d8576b"
             ],
             [
              0.6666666666666666,
              "#ed7953"
             ],
             [
              0.7777777777777778,
              "#fb9f3a"
             ],
             [
              0.8888888888888888,
              "#fdca26"
             ],
             [
              1,
              "#f0f921"
             ]
            ],
            "type": "heatmap"
           }
          ],
          "heatmapgl": [
           {
            "colorbar": {
             "outlinewidth": 0,
             "ticks": ""
            },
            "colorscale": [
             [
              0,
              "#0d0887"
             ],
             [
              0.1111111111111111,
              "#46039f"
             ],
             [
              0.2222222222222222,
              "#7201a8"
             ],
             [
              0.3333333333333333,
              "#9c179e"
             ],
             [
              0.4444444444444444,
              "#bd3786"
             ],
             [
              0.5555555555555556,
              "#d8576b"
             ],
             [
              0.6666666666666666,
              "#ed7953"
             ],
             [
              0.7777777777777778,
              "#fb9f3a"
             ],
             [
              0.8888888888888888,
              "#fdca26"
             ],
             [
              1,
              "#f0f921"
             ]
            ],
            "type": "heatmapgl"
           }
          ],
          "histogram": [
           {
            "marker": {
             "pattern": {
              "fillmode": "overlay",
              "size": 10,
              "solidity": 0.2
             }
            },
            "type": "histogram"
           }
          ],
          "histogram2d": [
           {
            "colorbar": {
             "outlinewidth": 0,
             "ticks": ""
            },
            "colorscale": [
             [
              0,
              "#0d0887"
             ],
             [
              0.1111111111111111,
              "#46039f"
             ],
             [
              0.2222222222222222,
              "#7201a8"
             ],
             [
              0.3333333333333333,
              "#9c179e"
             ],
             [
              0.4444444444444444,
              "#bd3786"
             ],
             [
              0.5555555555555556,
              "#d8576b"
             ],
             [
              0.6666666666666666,
              "#ed7953"
             ],
             [
              0.7777777777777778,
              "#fb9f3a"
             ],
             [
              0.8888888888888888,
              "#fdca26"
             ],
             [
              1,
              "#f0f921"
             ]
            ],
            "type": "histogram2d"
           }
          ],
          "histogram2dcontour": [
           {
            "colorbar": {
             "outlinewidth": 0,
             "ticks": ""
            },
            "colorscale": [
             [
              0,
              "#0d0887"
             ],
             [
              0.1111111111111111,
              "#46039f"
             ],
             [
              0.2222222222222222,
              "#7201a8"
             ],
             [
              0.3333333333333333,
              "#9c179e"
             ],
             [
              0.4444444444444444,
              "#bd3786"
             ],
             [
              0.5555555555555556,
              "#d8576b"
             ],
             [
              0.6666666666666666,
              "#ed7953"
             ],
             [
              0.7777777777777778,
              "#fb9f3a"
             ],
             [
              0.8888888888888888,
              "#fdca26"
             ],
             [
              1,
              "#f0f921"
             ]
            ],
            "type": "histogram2dcontour"
           }
          ],
          "mesh3d": [
           {
            "colorbar": {
             "outlinewidth": 0,
             "ticks": ""
            },
            "type": "mesh3d"
           }
          ],
          "parcoords": [
           {
            "line": {
             "colorbar": {
              "outlinewidth": 0,
              "ticks": ""
             }
            },
            "type": "parcoords"
           }
          ],
          "pie": [
           {
            "automargin": true,
            "type": "pie"
           }
          ],
          "scatter": [
           {
            "fillpattern": {
             "fillmode": "overlay",
             "size": 10,
             "solidity": 0.2
            },
            "type": "scatter"
           }
          ],
          "scatter3d": [
           {
            "line": {
             "colorbar": {
              "outlinewidth": 0,
              "ticks": ""
             }
            },
            "marker": {
             "colorbar": {
              "outlinewidth": 0,
              "ticks": ""
             }
            },
            "type": "scatter3d"
           }
          ],
          "scattercarpet": [
           {
            "marker": {
             "colorbar": {
              "outlinewidth": 0,
              "ticks": ""
             }
            },
            "type": "scattercarpet"
           }
          ],
          "scattergeo": [
           {
            "marker": {
             "colorbar": {
              "outlinewidth": 0,
              "ticks": ""
             }
            },
            "type": "scattergeo"
           }
          ],
          "scattergl": [
           {
            "marker": {
             "colorbar": {
              "outlinewidth": 0,
              "ticks": ""
             }
            },
            "type": "scattergl"
           }
          ],
          "scattermapbox": [
           {
            "marker": {
             "colorbar": {
              "outlinewidth": 0,
              "ticks": ""
             }
            },
            "type": "scattermapbox"
           }
          ],
          "scatterpolar": [
           {
            "marker": {
             "colorbar": {
              "outlinewidth": 0,
              "ticks": ""
             }
            },
            "type": "scatterpolar"
           }
          ],
          "scatterpolargl": [
           {
            "marker": {
             "colorbar": {
              "outlinewidth": 0,
              "ticks": ""
             }
            },
            "type": "scatterpolargl"
           }
          ],
          "scatterternary": [
           {
            "marker": {
             "colorbar": {
              "outlinewidth": 0,
              "ticks": ""
             }
            },
            "type": "scatterternary"
           }
          ],
          "surface": [
           {
            "colorbar": {
             "outlinewidth": 0,
             "ticks": ""
            },
            "colorscale": [
             [
              0,
              "#0d0887"
             ],
             [
              0.1111111111111111,
              "#46039f"
             ],
             [
              0.2222222222222222,
              "#7201a8"
             ],
             [
              0.3333333333333333,
              "#9c179e"
             ],
             [
              0.4444444444444444,
              "#bd3786"
             ],
             [
              0.5555555555555556,
              "#d8576b"
             ],
             [
              0.6666666666666666,
              "#ed7953"
             ],
             [
              0.7777777777777778,
              "#fb9f3a"
             ],
             [
              0.8888888888888888,
              "#fdca26"
             ],
             [
              1,
              "#f0f921"
             ]
            ],
            "type": "surface"
           }
          ],
          "table": [
           {
            "cells": {
             "fill": {
              "color": "#EBF0F8"
             },
             "line": {
              "color": "white"
             }
            },
            "header": {
             "fill": {
              "color": "#C8D4E3"
             },
             "line": {
              "color": "white"
             }
            },
            "type": "table"
           }
          ]
         },
         "layout": {
          "annotationdefaults": {
           "arrowcolor": "#2a3f5f",
           "arrowhead": 0,
           "arrowwidth": 1
          },
          "autotypenumbers": "strict",
          "coloraxis": {
           "colorbar": {
            "outlinewidth": 0,
            "ticks": ""
           }
          },
          "colorscale": {
           "diverging": [
            [
             0,
             "#8e0152"
            ],
            [
             0.1,
             "#c51b7d"
            ],
            [
             0.2,
             "#de77ae"
            ],
            [
             0.3,
             "#f1b6da"
            ],
            [
             0.4,
             "#fde0ef"
            ],
            [
             0.5,
             "#f7f7f7"
            ],
            [
             0.6,
             "#e6f5d0"
            ],
            [
             0.7,
             "#b8e186"
            ],
            [
             0.8,
             "#7fbc41"
            ],
            [
             0.9,
             "#4d9221"
            ],
            [
             1,
             "#276419"
            ]
           ],
           "sequential": [
            [
             0,
             "#0d0887"
            ],
            [
             0.1111111111111111,
             "#46039f"
            ],
            [
             0.2222222222222222,
             "#7201a8"
            ],
            [
             0.3333333333333333,
             "#9c179e"
            ],
            [
             0.4444444444444444,
             "#bd3786"
            ],
            [
             0.5555555555555556,
             "#d8576b"
            ],
            [
             0.6666666666666666,
             "#ed7953"
            ],
            [
             0.7777777777777778,
             "#fb9f3a"
            ],
            [
             0.8888888888888888,
             "#fdca26"
            ],
            [
             1,
             "#f0f921"
            ]
           ],
           "sequentialminus": [
            [
             0,
             "#0d0887"
            ],
            [
             0.1111111111111111,
             "#46039f"
            ],
            [
             0.2222222222222222,
             "#7201a8"
            ],
            [
             0.3333333333333333,
             "#9c179e"
            ],
            [
             0.4444444444444444,
             "#bd3786"
            ],
            [
             0.5555555555555556,
             "#d8576b"
            ],
            [
             0.6666666666666666,
             "#ed7953"
            ],
            [
             0.7777777777777778,
             "#fb9f3a"
            ],
            [
             0.8888888888888888,
             "#fdca26"
            ],
            [
             1,
             "#f0f921"
            ]
           ]
          },
          "colorway": [
           "#636efa",
           "#EF553B",
           "#00cc96",
           "#ab63fa",
           "#FFA15A",
           "#19d3f3",
           "#FF6692",
           "#B6E880",
           "#FF97FF",
           "#FECB52"
          ],
          "font": {
           "color": "#2a3f5f"
          },
          "geo": {
           "bgcolor": "white",
           "lakecolor": "white",
           "landcolor": "#E5ECF6",
           "showlakes": true,
           "showland": true,
           "subunitcolor": "white"
          },
          "hoverlabel": {
           "align": "left"
          },
          "hovermode": "closest",
          "mapbox": {
           "style": "light"
          },
          "paper_bgcolor": "white",
          "plot_bgcolor": "#E5ECF6",
          "polar": {
           "angularaxis": {
            "gridcolor": "white",
            "linecolor": "white",
            "ticks": ""
           },
           "bgcolor": "#E5ECF6",
           "radialaxis": {
            "gridcolor": "white",
            "linecolor": "white",
            "ticks": ""
           }
          },
          "scene": {
           "xaxis": {
            "backgroundcolor": "#E5ECF6",
            "gridcolor": "white",
            "gridwidth": 2,
            "linecolor": "white",
            "showbackground": true,
            "ticks": "",
            "zerolinecolor": "white"
           },
           "yaxis": {
            "backgroundcolor": "#E5ECF6",
            "gridcolor": "white",
            "gridwidth": 2,
            "linecolor": "white",
            "showbackground": true,
            "ticks": "",
            "zerolinecolor": "white"
           },
           "zaxis": {
            "backgroundcolor": "#E5ECF6",
            "gridcolor": "white",
            "gridwidth": 2,
            "linecolor": "white",
            "showbackground": true,
            "ticks": "",
            "zerolinecolor": "white"
           }
          },
          "shapedefaults": {
           "line": {
            "color": "#2a3f5f"
           }
          },
          "ternary": {
           "aaxis": {
            "gridcolor": "white",
            "linecolor": "white",
            "ticks": ""
           },
           "baxis": {
            "gridcolor": "white",
            "linecolor": "white",
            "ticks": ""
           },
           "bgcolor": "#E5ECF6",
           "caxis": {
            "gridcolor": "white",
            "linecolor": "white",
            "ticks": ""
           }
          },
          "title": {
           "x": 0.05
          },
          "xaxis": {
           "automargin": true,
           "gridcolor": "white",
           "linecolor": "white",
           "ticks": "",
           "title": {
            "standoff": 15
           },
           "zerolinecolor": "white",
           "zerolinewidth": 2
          },
          "yaxis": {
           "automargin": true,
           "gridcolor": "white",
           "linecolor": "white",
           "ticks": "",
           "title": {
            "standoff": 15
           },
           "zerolinecolor": "white",
           "zerolinewidth": 2
          }
         }
        },
        "title": {
         "text": "Covid Cases"
        },
        "updatemenus": [
         {
          "buttons": [
           {
            "args": [
             null
            ],
            "label": "Play",
            "method": "animate"
           }
          ],
          "type": "buttons"
         }
        ],
        "xaxis": {
         "autorange": false,
         "range": [
          "2020-03-03T00:00:00",
          "2022-10-03T00:00:00"
         ],
         "title": {
          "text": "Date"
         },
         "zeroline": false
        },
        "yaxis": {
         "autorange": false,
         "range": [
          5.429,
          125321
         ],
         "title": {
          "text": "New Cases Smoothed"
         },
         "zeroline": false
        }
       }
      }
     },
     "metadata": {},
     "output_type": "display_data"
    }
   ],
   "source": [
    "N = 944\n",
    "s = np.linspace(-1, 1, N)\n",
    "xx = s + s ** 2\n",
    "yy = s - s ** 2\n",
    "\n",
    "fig = go.Figure(\n",
    "    data=[go.Scatter(x=covid_nl_clean_df['date'], y=covid_nl_clean_df['new_cases_smoothed'],\n",
    "                     mode=\"lines\",\n",
    "                     line=dict(width=2, color=\"blue\")),\n",
    "          go.Scatter(x=covid_nl_clean_df['date'], y=covid_nl_clean_df['new_cases_smoothed'],\n",
    "                     mode=\"lines\",\n",
    "                     line=dict(width=2, color=\"blue\"))],\n",
    "    layout=go.Layout(\n",
    "        xaxis=dict(range=[np.min(covid_nl_clean_df['date']),np.max(covid_nl_clean_df['date']) ], autorange=False, zeroline=False),\n",
    "        yaxis=dict(range=[np.min(covid_nl_clean_df['new_cases_smoothed']),np.max(covid_nl_clean_df['new_cases_smoothed']) ], autorange=False, zeroline=False),\n",
    "        title_text=\"Covid Cases\", hovermode=\"closest\",\n",
    "        updatemenus=[dict(type=\"buttons\",\n",
    "                          buttons=[dict(label=\"Play\",\n",
    "                                        method=\"animate\",\n",
    "                                        args=[None])])]),\n",
    "    frames=[go.Frame(\n",
    "        data=[go.Scatter(\n",
    "            x=[covid_nl_clean_df.iloc[k,1]],\n",
    "            y=[covid_nl_clean_df.iloc[k,2]],\n",
    "            mode=\"markers\",\n",
    "            marker=dict(color=\"red\", size=15))])\n",
    "\n",
    "        for k in range(N)]\n",
    ")\n",
    "\n",
    "# fig.show()\n",
    "\n",
    "fig.add_vline(x= \"2020-03-15\", line_dash = 'dash', line_width = 0.5, line_color = 'red', name='Lockdown')\n",
    "fig.add_annotation(x=\"2020-03-15\", y=1, yref=\"paper\", text=\"15 March 2020: Lockdown\")\n",
    "\n",
    "fig.add_vline(x= \"2020-06-01\", line_dash = 'dash', line_width = 0.5, line_color = 'green', name='Easening of measures')\n",
    "fig.add_annotation(x=\"2020-06-01\", y=0.7, yref=\"paper\", text=\"1 June 2020: Easening of measures\")\n",
    "\n",
    "fig.add_vline(x= \"2020-10-14\", line_dash = 'dash', line_width = 0.5, line_color = 'orange', name='Partial lockdown')\n",
    "fig.add_annotation(x=\"2020-10-14\", y=0.87, yref=\"paper\", text=\"10 Oct 2020: Partial lockdown\")\n",
    "\n",
    "fig.add_vline(x= \"2020-12-14\", line_dash = 'dash', line_width = 0.5, line_color = 'red')\n",
    "fig.add_annotation(x=\"2020-12-14\", y=1, yref=\"paper\", text=\"14 Dec 2020: Lockdown\")\n",
    "\n",
    "fig.add_vline(x= \"2021-02-08\", line_color = 'green', line_width = 0.5, line_dash ='dash')\n",
    "fig.add_annotation(x=\"2021-02-08\", y=0.7, yref=\"paper\", text=\"8 Feb 2021: Easening of measures\")\n",
    "\n",
    "fig.add_vline(x= \"2021-12-19\", line_color = 'red', line_width = 0.5, line_dash ='dash')\n",
    "fig.add_annotation(x=\"2021-12-19\", y=1, yref=\"paper\", text=\"19 Dec 2021: Lockdown\")\n",
    "\n",
    "fig.add_vline(x= \"2022-01-10\", line_color = 'green', line_width = 0.5, line_dash ='dash')\n",
    "fig.add_annotation(x=\"2022-01-10\", y=0.7, yref=\"paper\", text=\"10 Jan 2022: Easening of measures\")\n",
    "\n",
    "fig.update_layout(xaxis_title= 'Date', yaxis_title = 'New Cases Smoothed')\n",
    "fig.layout.plot_bgcolor='#f0f5f5'\n",
    "fig.show()"
   ]
  },
  {
   "cell_type": "code",
   "execution_count": 23,
   "metadata": {},
   "outputs": [
    {
     "data": {
      "application/vnd.plotly.v1+json": {
       "config": {
        "plotlyServerURL": "https://plot.ly"
       },
       "data": [
        {
         "hovertemplate": "Date: %{x: \"%m/%d/%Y}<br>New Cases: %{y: \"%m/%d/%Y}",
         "mode": "lines",
         "name": "New Covid Cases NL",
         "type": "scatter",
         "x": [
          "2020-03-03T00:00:00",
          "2020-03-04T00:00:00",
          "2020-03-05T00:00:00",
          "2020-03-06T00:00:00",
          "2020-03-07T00:00:00",
          "2020-03-08T00:00:00",
          "2020-03-09T00:00:00",
          "2020-03-10T00:00:00",
          "2020-03-11T00:00:00",
          "2020-03-12T00:00:00",
          "2020-03-13T00:00:00",
          "2020-03-14T00:00:00",
          "2020-03-15T00:00:00",
          "2020-03-16T00:00:00",
          "2020-03-17T00:00:00",
          "2020-03-18T00:00:00",
          "2020-03-19T00:00:00",
          "2020-03-20T00:00:00",
          "2020-03-21T00:00:00",
          "2020-03-22T00:00:00",
          "2020-03-23T00:00:00",
          "2020-03-24T00:00:00",
          "2020-03-25T00:00:00",
          "2020-03-26T00:00:00",
          "2020-03-27T00:00:00",
          "2020-03-28T00:00:00",
          "2020-03-29T00:00:00",
          "2020-03-30T00:00:00",
          "2020-03-31T00:00:00",
          "2020-04-01T00:00:00",
          "2020-04-02T00:00:00",
          "2020-04-03T00:00:00",
          "2020-04-04T00:00:00",
          "2020-04-05T00:00:00",
          "2020-04-06T00:00:00",
          "2020-04-07T00:00:00",
          "2020-04-08T00:00:00",
          "2020-04-09T00:00:00",
          "2020-04-10T00:00:00",
          "2020-04-11T00:00:00",
          "2020-04-12T00:00:00",
          "2020-04-13T00:00:00",
          "2020-04-14T00:00:00",
          "2020-04-15T00:00:00",
          "2020-04-16T00:00:00",
          "2020-04-17T00:00:00",
          "2020-04-18T00:00:00",
          "2020-04-19T00:00:00",
          "2020-04-20T00:00:00",
          "2020-04-21T00:00:00",
          "2020-04-22T00:00:00",
          "2020-04-23T00:00:00",
          "2020-04-24T00:00:00",
          "2020-04-25T00:00:00",
          "2020-04-26T00:00:00",
          "2020-04-27T00:00:00",
          "2020-04-28T00:00:00",
          "2020-04-29T00:00:00",
          "2020-04-30T00:00:00",
          "2020-05-01T00:00:00",
          "2020-05-02T00:00:00",
          "2020-05-03T00:00:00",
          "2020-05-04T00:00:00",
          "2020-05-05T00:00:00",
          "2020-05-06T00:00:00",
          "2020-05-07T00:00:00",
          "2020-05-08T00:00:00",
          "2020-05-09T00:00:00",
          "2020-05-10T00:00:00",
          "2020-05-11T00:00:00",
          "2020-05-12T00:00:00",
          "2020-05-13T00:00:00",
          "2020-05-14T00:00:00",
          "2020-05-15T00:00:00",
          "2020-05-16T00:00:00",
          "2020-05-17T00:00:00",
          "2020-05-18T00:00:00",
          "2020-05-19T00:00:00",
          "2020-05-20T00:00:00",
          "2020-05-21T00:00:00",
          "2020-05-22T00:00:00",
          "2020-05-23T00:00:00",
          "2020-05-24T00:00:00",
          "2020-05-25T00:00:00",
          "2020-05-26T00:00:00",
          "2020-05-27T00:00:00",
          "2020-05-28T00:00:00",
          "2020-05-29T00:00:00",
          "2020-05-30T00:00:00",
          "2020-05-31T00:00:00",
          "2020-06-01T00:00:00",
          "2020-06-02T00:00:00",
          "2020-06-03T00:00:00",
          "2020-06-04T00:00:00",
          "2020-06-05T00:00:00",
          "2020-06-06T00:00:00",
          "2020-06-07T00:00:00",
          "2020-06-08T00:00:00",
          "2020-06-09T00:00:00",
          "2020-06-10T00:00:00",
          "2020-06-11T00:00:00",
          "2020-06-12T00:00:00",
          "2020-06-13T00:00:00",
          "2020-06-14T00:00:00",
          "2020-06-15T00:00:00",
          "2020-06-16T00:00:00",
          "2020-06-17T00:00:00",
          "2020-06-18T00:00:00",
          "2020-06-19T00:00:00",
          "2020-06-20T00:00:00",
          "2020-06-21T00:00:00",
          "2020-06-22T00:00:00",
          "2020-06-23T00:00:00",
          "2020-06-24T00:00:00",
          "2020-06-25T00:00:00",
          "2020-06-26T00:00:00",
          "2020-06-27T00:00:00",
          "2020-06-28T00:00:00",
          "2020-06-29T00:00:00",
          "2020-06-30T00:00:00",
          "2020-07-01T00:00:00",
          "2020-07-02T00:00:00",
          "2020-07-03T00:00:00",
          "2020-07-04T00:00:00",
          "2020-07-05T00:00:00",
          "2020-07-06T00:00:00",
          "2020-07-07T00:00:00",
          "2020-07-08T00:00:00",
          "2020-07-09T00:00:00",
          "2020-07-10T00:00:00",
          "2020-07-11T00:00:00",
          "2020-07-12T00:00:00",
          "2020-07-13T00:00:00",
          "2020-07-14T00:00:00",
          "2020-07-15T00:00:00",
          "2020-07-16T00:00:00",
          "2020-07-17T00:00:00",
          "2020-07-18T00:00:00",
          "2020-07-19T00:00:00",
          "2020-07-20T00:00:00",
          "2020-07-21T00:00:00",
          "2020-07-22T00:00:00",
          "2020-07-23T00:00:00",
          "2020-07-24T00:00:00",
          "2020-07-25T00:00:00",
          "2020-07-26T00:00:00",
          "2020-07-27T00:00:00",
          "2020-07-28T00:00:00",
          "2020-07-29T00:00:00",
          "2020-07-30T00:00:00",
          "2020-07-31T00:00:00",
          "2020-08-01T00:00:00",
          "2020-08-02T00:00:00",
          "2020-08-03T00:00:00",
          "2020-08-04T00:00:00",
          "2020-08-05T00:00:00",
          "2020-08-06T00:00:00",
          "2020-08-07T00:00:00",
          "2020-08-08T00:00:00",
          "2020-08-09T00:00:00",
          "2020-08-10T00:00:00",
          "2020-08-11T00:00:00",
          "2020-08-12T00:00:00",
          "2020-08-13T00:00:00",
          "2020-08-14T00:00:00",
          "2020-08-15T00:00:00",
          "2020-08-16T00:00:00",
          "2020-08-17T00:00:00",
          "2020-08-18T00:00:00",
          "2020-08-19T00:00:00",
          "2020-08-20T00:00:00",
          "2020-08-21T00:00:00",
          "2020-08-22T00:00:00",
          "2020-08-23T00:00:00",
          "2020-08-24T00:00:00",
          "2020-08-25T00:00:00",
          "2020-08-26T00:00:00",
          "2020-08-27T00:00:00",
          "2020-08-28T00:00:00",
          "2020-08-29T00:00:00",
          "2020-08-30T00:00:00",
          "2020-08-31T00:00:00",
          "2020-09-01T00:00:00",
          "2020-09-02T00:00:00",
          "2020-09-03T00:00:00",
          "2020-09-04T00:00:00",
          "2020-09-05T00:00:00",
          "2020-09-06T00:00:00",
          "2020-09-07T00:00:00",
          "2020-09-08T00:00:00",
          "2020-09-09T00:00:00",
          "2020-09-10T00:00:00",
          "2020-09-11T00:00:00",
          "2020-09-12T00:00:00",
          "2020-09-13T00:00:00",
          "2020-09-14T00:00:00",
          "2020-09-15T00:00:00",
          "2020-09-16T00:00:00",
          "2020-09-17T00:00:00",
          "2020-09-18T00:00:00",
          "2020-09-19T00:00:00",
          "2020-09-20T00:00:00",
          "2020-09-21T00:00:00",
          "2020-09-22T00:00:00",
          "2020-09-23T00:00:00",
          "2020-09-24T00:00:00",
          "2020-09-25T00:00:00",
          "2020-09-26T00:00:00",
          "2020-09-27T00:00:00",
          "2020-09-28T00:00:00",
          "2020-09-29T00:00:00",
          "2020-09-30T00:00:00",
          "2020-10-01T00:00:00",
          "2020-10-02T00:00:00",
          "2020-10-03T00:00:00",
          "2020-10-04T00:00:00",
          "2020-10-05T00:00:00",
          "2020-10-06T00:00:00",
          "2020-10-07T00:00:00",
          "2020-10-08T00:00:00",
          "2020-10-09T00:00:00",
          "2020-10-10T00:00:00",
          "2020-10-11T00:00:00",
          "2020-10-12T00:00:00",
          "2020-10-13T00:00:00",
          "2020-10-14T00:00:00",
          "2020-10-15T00:00:00",
          "2020-10-16T00:00:00",
          "2020-10-17T00:00:00",
          "2020-10-18T00:00:00",
          "2020-10-19T00:00:00",
          "2020-10-20T00:00:00",
          "2020-10-21T00:00:00",
          "2020-10-22T00:00:00",
          "2020-10-23T00:00:00",
          "2020-10-24T00:00:00",
          "2020-10-25T00:00:00",
          "2020-10-26T00:00:00",
          "2020-10-27T00:00:00",
          "2020-10-28T00:00:00",
          "2020-10-29T00:00:00",
          "2020-10-30T00:00:00",
          "2020-10-31T00:00:00",
          "2020-11-01T00:00:00",
          "2020-11-02T00:00:00",
          "2020-11-03T00:00:00",
          "2020-11-04T00:00:00",
          "2020-11-05T00:00:00",
          "2020-11-06T00:00:00",
          "2020-11-07T00:00:00",
          "2020-11-08T00:00:00",
          "2020-11-09T00:00:00",
          "2020-11-10T00:00:00",
          "2020-11-11T00:00:00",
          "2020-11-12T00:00:00",
          "2020-11-13T00:00:00",
          "2020-11-14T00:00:00",
          "2020-11-15T00:00:00",
          "2020-11-16T00:00:00",
          "2020-11-17T00:00:00",
          "2020-11-18T00:00:00",
          "2020-11-19T00:00:00",
          "2020-11-20T00:00:00",
          "2020-11-21T00:00:00",
          "2020-11-22T00:00:00",
          "2020-11-23T00:00:00",
          "2020-11-24T00:00:00",
          "2020-11-25T00:00:00",
          "2020-11-26T00:00:00",
          "2020-11-27T00:00:00",
          "2020-11-28T00:00:00",
          "2020-11-29T00:00:00",
          "2020-11-30T00:00:00",
          "2020-12-01T00:00:00",
          "2020-12-02T00:00:00",
          "2020-12-03T00:00:00",
          "2020-12-04T00:00:00",
          "2020-12-05T00:00:00",
          "2020-12-06T00:00:00",
          "2020-12-07T00:00:00",
          "2020-12-08T00:00:00",
          "2020-12-09T00:00:00",
          "2020-12-10T00:00:00",
          "2020-12-11T00:00:00",
          "2020-12-12T00:00:00",
          "2020-12-13T00:00:00",
          "2020-12-14T00:00:00",
          "2020-12-15T00:00:00",
          "2020-12-16T00:00:00",
          "2020-12-17T00:00:00",
          "2020-12-18T00:00:00",
          "2020-12-19T00:00:00",
          "2020-12-20T00:00:00",
          "2020-12-21T00:00:00",
          "2020-12-22T00:00:00",
          "2020-12-23T00:00:00",
          "2020-12-24T00:00:00",
          "2020-12-25T00:00:00",
          "2020-12-26T00:00:00",
          "2020-12-27T00:00:00",
          "2020-12-28T00:00:00",
          "2020-12-29T00:00:00",
          "2020-12-30T00:00:00",
          "2020-12-31T00:00:00",
          "2021-01-01T00:00:00",
          "2021-01-02T00:00:00",
          "2021-01-03T00:00:00",
          "2021-01-04T00:00:00",
          "2021-01-05T00:00:00",
          "2021-01-06T00:00:00",
          "2021-01-07T00:00:00",
          "2021-01-08T00:00:00",
          "2021-01-09T00:00:00",
          "2021-01-10T00:00:00",
          "2021-01-11T00:00:00",
          "2021-01-12T00:00:00",
          "2021-01-13T00:00:00",
          "2021-01-14T00:00:00",
          "2021-01-15T00:00:00",
          "2021-01-16T00:00:00",
          "2021-01-17T00:00:00",
          "2021-01-18T00:00:00",
          "2021-01-19T00:00:00",
          "2021-01-20T00:00:00",
          "2021-01-21T00:00:00",
          "2021-01-22T00:00:00",
          "2021-01-23T00:00:00",
          "2021-01-24T00:00:00",
          "2021-01-25T00:00:00",
          "2021-01-26T00:00:00",
          "2021-01-27T00:00:00",
          "2021-01-28T00:00:00",
          "2021-01-29T00:00:00",
          "2021-01-30T00:00:00",
          "2021-01-31T00:00:00",
          "2021-02-01T00:00:00",
          "2021-02-02T00:00:00",
          "2021-02-03T00:00:00",
          "2021-02-04T00:00:00",
          "2021-02-05T00:00:00",
          "2021-02-06T00:00:00",
          "2021-02-07T00:00:00",
          "2021-02-08T00:00:00",
          "2021-02-09T00:00:00",
          "2021-02-10T00:00:00",
          "2021-02-11T00:00:00",
          "2021-02-12T00:00:00",
          "2021-02-13T00:00:00",
          "2021-02-14T00:00:00",
          "2021-02-15T00:00:00",
          "2021-02-16T00:00:00",
          "2021-02-17T00:00:00",
          "2021-02-18T00:00:00",
          "2021-02-19T00:00:00",
          "2021-02-20T00:00:00",
          "2021-02-21T00:00:00",
          "2021-02-22T00:00:00",
          "2021-02-23T00:00:00",
          "2021-02-24T00:00:00",
          "2021-02-25T00:00:00",
          "2021-02-26T00:00:00",
          "2021-02-27T00:00:00",
          "2021-02-28T00:00:00",
          "2021-03-01T00:00:00",
          "2021-03-02T00:00:00",
          "2021-03-03T00:00:00",
          "2021-03-04T00:00:00",
          "2021-03-05T00:00:00",
          "2021-03-06T00:00:00",
          "2021-03-07T00:00:00",
          "2021-03-08T00:00:00",
          "2021-03-09T00:00:00",
          "2021-03-10T00:00:00",
          "2021-03-11T00:00:00",
          "2021-03-12T00:00:00",
          "2021-03-13T00:00:00",
          "2021-03-14T00:00:00",
          "2021-03-15T00:00:00",
          "2021-03-16T00:00:00",
          "2021-03-17T00:00:00",
          "2021-03-18T00:00:00",
          "2021-03-19T00:00:00",
          "2021-03-20T00:00:00",
          "2021-03-21T00:00:00",
          "2021-03-22T00:00:00",
          "2021-03-23T00:00:00",
          "2021-03-24T00:00:00",
          "2021-03-25T00:00:00",
          "2021-03-26T00:00:00",
          "2021-03-27T00:00:00",
          "2021-03-28T00:00:00",
          "2021-03-29T00:00:00",
          "2021-03-30T00:00:00",
          "2021-03-31T00:00:00",
          "2021-04-01T00:00:00",
          "2021-04-02T00:00:00",
          "2021-04-03T00:00:00",
          "2021-04-04T00:00:00",
          "2021-04-05T00:00:00",
          "2021-04-06T00:00:00",
          "2021-04-07T00:00:00",
          "2021-04-08T00:00:00",
          "2021-04-09T00:00:00",
          "2021-04-10T00:00:00",
          "2021-04-11T00:00:00",
          "2021-04-12T00:00:00",
          "2021-04-13T00:00:00",
          "2021-04-14T00:00:00",
          "2021-04-15T00:00:00",
          "2021-04-16T00:00:00",
          "2021-04-17T00:00:00",
          "2021-04-18T00:00:00",
          "2021-04-19T00:00:00",
          "2021-04-20T00:00:00",
          "2021-04-21T00:00:00",
          "2021-04-22T00:00:00",
          "2021-04-23T00:00:00",
          "2021-04-24T00:00:00",
          "2021-04-25T00:00:00",
          "2021-04-26T00:00:00",
          "2021-04-27T00:00:00",
          "2021-04-28T00:00:00",
          "2021-04-29T00:00:00",
          "2021-04-30T00:00:00",
          "2021-05-01T00:00:00",
          "2021-05-02T00:00:00",
          "2021-05-03T00:00:00",
          "2021-05-04T00:00:00",
          "2021-05-05T00:00:00",
          "2021-05-06T00:00:00",
          "2021-05-07T00:00:00",
          "2021-05-08T00:00:00",
          "2021-05-09T00:00:00",
          "2021-05-10T00:00:00",
          "2021-05-11T00:00:00",
          "2021-05-12T00:00:00",
          "2021-05-13T00:00:00",
          "2021-05-14T00:00:00",
          "2021-05-15T00:00:00",
          "2021-05-16T00:00:00",
          "2021-05-17T00:00:00",
          "2021-05-18T00:00:00",
          "2021-05-19T00:00:00",
          "2021-05-20T00:00:00",
          "2021-05-21T00:00:00",
          "2021-05-22T00:00:00",
          "2021-05-23T00:00:00",
          "2021-05-24T00:00:00",
          "2021-05-25T00:00:00",
          "2021-05-26T00:00:00",
          "2021-05-27T00:00:00",
          "2021-05-28T00:00:00",
          "2021-05-29T00:00:00",
          "2021-05-30T00:00:00",
          "2021-05-31T00:00:00",
          "2021-06-01T00:00:00",
          "2021-06-02T00:00:00",
          "2021-06-03T00:00:00",
          "2021-06-04T00:00:00",
          "2021-06-05T00:00:00",
          "2021-06-06T00:00:00",
          "2021-06-07T00:00:00",
          "2021-06-08T00:00:00",
          "2021-06-09T00:00:00",
          "2021-06-10T00:00:00",
          "2021-06-11T00:00:00",
          "2021-06-12T00:00:00",
          "2021-06-13T00:00:00",
          "2021-06-14T00:00:00",
          "2021-06-15T00:00:00",
          "2021-06-16T00:00:00",
          "2021-06-17T00:00:00",
          "2021-06-18T00:00:00",
          "2021-06-19T00:00:00",
          "2021-06-20T00:00:00",
          "2021-06-21T00:00:00",
          "2021-06-22T00:00:00",
          "2021-06-23T00:00:00",
          "2021-06-24T00:00:00",
          "2021-06-25T00:00:00",
          "2021-06-26T00:00:00",
          "2021-06-27T00:00:00",
          "2021-06-28T00:00:00",
          "2021-06-29T00:00:00",
          "2021-06-30T00:00:00",
          "2021-07-01T00:00:00",
          "2021-07-02T00:00:00",
          "2021-07-03T00:00:00",
          "2021-07-04T00:00:00",
          "2021-07-05T00:00:00",
          "2021-07-06T00:00:00",
          "2021-07-07T00:00:00",
          "2021-07-08T00:00:00",
          "2021-07-09T00:00:00",
          "2021-07-10T00:00:00",
          "2021-07-11T00:00:00",
          "2021-07-12T00:00:00",
          "2021-07-13T00:00:00",
          "2021-07-14T00:00:00",
          "2021-07-15T00:00:00",
          "2021-07-16T00:00:00",
          "2021-07-17T00:00:00",
          "2021-07-18T00:00:00",
          "2021-07-19T00:00:00",
          "2021-07-20T00:00:00",
          "2021-07-21T00:00:00",
          "2021-07-22T00:00:00",
          "2021-07-23T00:00:00",
          "2021-07-24T00:00:00",
          "2021-07-25T00:00:00",
          "2021-07-26T00:00:00",
          "2021-07-27T00:00:00",
          "2021-07-28T00:00:00",
          "2021-07-29T00:00:00",
          "2021-07-30T00:00:00",
          "2021-07-31T00:00:00",
          "2021-08-01T00:00:00",
          "2021-08-02T00:00:00",
          "2021-08-03T00:00:00",
          "2021-08-04T00:00:00",
          "2021-08-05T00:00:00",
          "2021-08-06T00:00:00",
          "2021-08-07T00:00:00",
          "2021-08-08T00:00:00",
          "2021-08-09T00:00:00",
          "2021-08-10T00:00:00",
          "2021-08-11T00:00:00",
          "2021-08-12T00:00:00",
          "2021-08-13T00:00:00",
          "2021-08-14T00:00:00",
          "2021-08-15T00:00:00",
          "2021-08-16T00:00:00",
          "2021-08-17T00:00:00",
          "2021-08-18T00:00:00",
          "2021-08-19T00:00:00",
          "2021-08-20T00:00:00",
          "2021-08-21T00:00:00",
          "2021-08-22T00:00:00",
          "2021-08-23T00:00:00",
          "2021-08-24T00:00:00",
          "2021-08-25T00:00:00",
          "2021-08-26T00:00:00",
          "2021-08-27T00:00:00",
          "2021-08-28T00:00:00",
          "2021-08-29T00:00:00",
          "2021-08-30T00:00:00",
          "2021-08-31T00:00:00",
          "2021-09-01T00:00:00",
          "2021-09-02T00:00:00",
          "2021-09-03T00:00:00",
          "2021-09-04T00:00:00",
          "2021-09-05T00:00:00",
          "2021-09-06T00:00:00",
          "2021-09-07T00:00:00",
          "2021-09-08T00:00:00",
          "2021-09-09T00:00:00",
          "2021-09-10T00:00:00",
          "2021-09-11T00:00:00",
          "2021-09-12T00:00:00",
          "2021-09-13T00:00:00",
          "2021-09-14T00:00:00",
          "2021-09-15T00:00:00",
          "2021-09-16T00:00:00",
          "2021-09-17T00:00:00",
          "2021-09-18T00:00:00",
          "2021-09-19T00:00:00",
          "2021-09-20T00:00:00",
          "2021-09-21T00:00:00",
          "2021-09-22T00:00:00",
          "2021-09-23T00:00:00",
          "2021-09-24T00:00:00",
          "2021-09-25T00:00:00",
          "2021-09-26T00:00:00",
          "2021-09-27T00:00:00",
          "2021-09-28T00:00:00",
          "2021-09-29T00:00:00",
          "2021-09-30T00:00:00",
          "2021-10-01T00:00:00",
          "2021-10-02T00:00:00",
          "2021-10-03T00:00:00",
          "2021-10-04T00:00:00",
          "2021-10-05T00:00:00",
          "2021-10-06T00:00:00",
          "2021-10-07T00:00:00",
          "2021-10-08T00:00:00",
          "2021-10-09T00:00:00",
          "2021-10-10T00:00:00",
          "2021-10-11T00:00:00",
          "2021-10-12T00:00:00",
          "2021-10-13T00:00:00",
          "2021-10-14T00:00:00",
          "2021-10-15T00:00:00",
          "2021-10-16T00:00:00",
          "2021-10-17T00:00:00",
          "2021-10-18T00:00:00",
          "2021-10-19T00:00:00",
          "2021-10-20T00:00:00",
          "2021-10-21T00:00:00",
          "2021-10-22T00:00:00",
          "2021-10-23T00:00:00",
          "2021-10-24T00:00:00",
          "2021-10-25T00:00:00",
          "2021-10-26T00:00:00",
          "2021-10-27T00:00:00",
          "2021-10-28T00:00:00",
          "2021-10-29T00:00:00",
          "2021-10-30T00:00:00",
          "2021-10-31T00:00:00",
          "2021-11-01T00:00:00",
          "2021-11-02T00:00:00",
          "2021-11-03T00:00:00",
          "2021-11-04T00:00:00",
          "2021-11-05T00:00:00",
          "2021-11-06T00:00:00",
          "2021-11-07T00:00:00",
          "2021-11-08T00:00:00",
          "2021-11-09T00:00:00",
          "2021-11-10T00:00:00",
          "2021-11-11T00:00:00",
          "2021-11-12T00:00:00",
          "2021-11-13T00:00:00",
          "2021-11-14T00:00:00",
          "2021-11-15T00:00:00",
          "2021-11-16T00:00:00",
          "2021-11-17T00:00:00",
          "2021-11-18T00:00:00",
          "2021-11-19T00:00:00",
          "2021-11-20T00:00:00",
          "2021-11-21T00:00:00",
          "2021-11-22T00:00:00",
          "2021-11-23T00:00:00",
          "2021-11-24T00:00:00",
          "2021-11-25T00:00:00",
          "2021-11-26T00:00:00",
          "2021-11-27T00:00:00",
          "2021-11-28T00:00:00",
          "2021-11-29T00:00:00",
          "2021-11-30T00:00:00",
          "2021-12-01T00:00:00",
          "2021-12-02T00:00:00",
          "2021-12-03T00:00:00",
          "2021-12-04T00:00:00",
          "2021-12-05T00:00:00",
          "2021-12-06T00:00:00",
          "2021-12-07T00:00:00",
          "2021-12-08T00:00:00",
          "2021-12-09T00:00:00",
          "2021-12-10T00:00:00",
          "2021-12-11T00:00:00",
          "2021-12-12T00:00:00",
          "2021-12-13T00:00:00",
          "2021-12-14T00:00:00",
          "2021-12-15T00:00:00",
          "2021-12-16T00:00:00",
          "2021-12-17T00:00:00",
          "2021-12-18T00:00:00",
          "2021-12-19T00:00:00",
          "2021-12-20T00:00:00",
          "2021-12-21T00:00:00",
          "2021-12-22T00:00:00",
          "2021-12-23T00:00:00",
          "2021-12-24T00:00:00",
          "2021-12-25T00:00:00",
          "2021-12-26T00:00:00",
          "2021-12-27T00:00:00",
          "2021-12-28T00:00:00",
          "2021-12-29T00:00:00",
          "2021-12-30T00:00:00",
          "2021-12-31T00:00:00",
          "2022-01-01T00:00:00",
          "2022-01-02T00:00:00",
          "2022-01-03T00:00:00",
          "2022-01-04T00:00:00",
          "2022-01-05T00:00:00",
          "2022-01-06T00:00:00",
          "2022-01-07T00:00:00",
          "2022-01-08T00:00:00",
          "2022-01-09T00:00:00",
          "2022-01-10T00:00:00",
          "2022-01-11T00:00:00",
          "2022-01-12T00:00:00",
          "2022-01-13T00:00:00",
          "2022-01-14T00:00:00",
          "2022-01-15T00:00:00",
          "2022-01-16T00:00:00",
          "2022-01-17T00:00:00",
          "2022-01-18T00:00:00",
          "2022-01-19T00:00:00",
          "2022-01-20T00:00:00",
          "2022-01-21T00:00:00",
          "2022-01-22T00:00:00",
          "2022-01-23T00:00:00",
          "2022-01-24T00:00:00",
          "2022-01-25T00:00:00",
          "2022-01-26T00:00:00",
          "2022-01-27T00:00:00",
          "2022-01-28T00:00:00",
          "2022-01-29T00:00:00",
          "2022-01-30T00:00:00",
          "2022-01-31T00:00:00",
          "2022-02-01T00:00:00",
          "2022-02-02T00:00:00",
          "2022-02-03T00:00:00",
          "2022-02-04T00:00:00",
          "2022-02-05T00:00:00",
          "2022-02-06T00:00:00",
          "2022-02-07T00:00:00",
          "2022-02-08T00:00:00",
          "2022-02-09T00:00:00",
          "2022-02-10T00:00:00",
          "2022-02-11T00:00:00",
          "2022-02-12T00:00:00",
          "2022-02-13T00:00:00",
          "2022-02-14T00:00:00",
          "2022-02-15T00:00:00",
          "2022-02-16T00:00:00",
          "2022-02-17T00:00:00",
          "2022-02-18T00:00:00",
          "2022-02-19T00:00:00",
          "2022-02-20T00:00:00",
          "2022-02-21T00:00:00",
          "2022-02-22T00:00:00",
          "2022-02-23T00:00:00",
          "2022-02-24T00:00:00",
          "2022-02-25T00:00:00",
          "2022-02-26T00:00:00",
          "2022-02-27T00:00:00",
          "2022-02-28T00:00:00",
          "2022-03-01T00:00:00",
          "2022-03-02T00:00:00",
          "2022-03-03T00:00:00",
          "2022-03-04T00:00:00",
          "2022-03-05T00:00:00",
          "2022-03-06T00:00:00",
          "2022-03-07T00:00:00",
          "2022-03-08T00:00:00",
          "2022-03-09T00:00:00",
          "2022-03-10T00:00:00",
          "2022-03-11T00:00:00",
          "2022-03-12T00:00:00",
          "2022-03-13T00:00:00",
          "2022-03-14T00:00:00",
          "2022-03-15T00:00:00",
          "2022-03-16T00:00:00",
          "2022-03-17T00:00:00",
          "2022-03-18T00:00:00",
          "2022-03-19T00:00:00",
          "2022-03-20T00:00:00",
          "2022-03-21T00:00:00",
          "2022-03-22T00:00:00",
          "2022-03-23T00:00:00",
          "2022-03-24T00:00:00",
          "2022-03-25T00:00:00",
          "2022-03-26T00:00:00",
          "2022-03-27T00:00:00",
          "2022-03-28T00:00:00",
          "2022-03-29T00:00:00",
          "2022-03-30T00:00:00",
          "2022-03-31T00:00:00",
          "2022-04-01T00:00:00",
          "2022-04-02T00:00:00",
          "2022-04-03T00:00:00",
          "2022-04-04T00:00:00",
          "2022-04-05T00:00:00",
          "2022-04-06T00:00:00",
          "2022-04-07T00:00:00",
          "2022-04-08T00:00:00",
          "2022-04-09T00:00:00",
          "2022-04-10T00:00:00",
          "2022-04-11T00:00:00",
          "2022-04-12T00:00:00",
          "2022-04-13T00:00:00",
          "2022-04-14T00:00:00",
          "2022-04-15T00:00:00",
          "2022-04-16T00:00:00",
          "2022-04-17T00:00:00",
          "2022-04-18T00:00:00",
          "2022-04-19T00:00:00",
          "2022-04-20T00:00:00",
          "2022-04-21T00:00:00",
          "2022-04-22T00:00:00",
          "2022-04-23T00:00:00",
          "2022-04-24T00:00:00",
          "2022-04-25T00:00:00",
          "2022-04-26T00:00:00",
          "2022-04-27T00:00:00",
          "2022-04-28T00:00:00",
          "2022-04-29T00:00:00",
          "2022-04-30T00:00:00",
          "2022-05-01T00:00:00",
          "2022-05-02T00:00:00",
          "2022-05-03T00:00:00",
          "2022-05-04T00:00:00",
          "2022-05-05T00:00:00",
          "2022-05-06T00:00:00",
          "2022-05-07T00:00:00",
          "2022-05-08T00:00:00",
          "2022-05-09T00:00:00",
          "2022-05-10T00:00:00",
          "2022-05-11T00:00:00",
          "2022-05-12T00:00:00",
          "2022-05-13T00:00:00",
          "2022-05-14T00:00:00",
          "2022-05-15T00:00:00",
          "2022-05-16T00:00:00",
          "2022-05-17T00:00:00",
          "2022-05-18T00:00:00",
          "2022-05-19T00:00:00",
          "2022-05-20T00:00:00",
          "2022-05-21T00:00:00",
          "2022-05-22T00:00:00",
          "2022-05-23T00:00:00",
          "2022-05-24T00:00:00",
          "2022-05-25T00:00:00",
          "2022-05-26T00:00:00",
          "2022-05-27T00:00:00",
          "2022-05-28T00:00:00",
          "2022-05-29T00:00:00",
          "2022-05-30T00:00:00",
          "2022-05-31T00:00:00",
          "2022-06-01T00:00:00",
          "2022-06-02T00:00:00",
          "2022-06-03T00:00:00",
          "2022-06-04T00:00:00",
          "2022-06-05T00:00:00",
          "2022-06-06T00:00:00",
          "2022-06-07T00:00:00",
          "2022-06-08T00:00:00",
          "2022-06-09T00:00:00",
          "2022-06-10T00:00:00",
          "2022-06-11T00:00:00",
          "2022-06-12T00:00:00",
          "2022-06-13T00:00:00",
          "2022-06-14T00:00:00",
          "2022-06-15T00:00:00",
          "2022-06-16T00:00:00",
          "2022-06-17T00:00:00",
          "2022-06-18T00:00:00",
          "2022-06-19T00:00:00",
          "2022-06-20T00:00:00",
          "2022-06-21T00:00:00",
          "2022-06-22T00:00:00",
          "2022-06-23T00:00:00",
          "2022-06-24T00:00:00",
          "2022-06-25T00:00:00",
          "2022-06-26T00:00:00",
          "2022-06-27T00:00:00",
          "2022-06-28T00:00:00",
          "2022-06-29T00:00:00",
          "2022-06-30T00:00:00",
          "2022-07-01T00:00:00",
          "2022-07-02T00:00:00",
          "2022-07-03T00:00:00",
          "2022-07-04T00:00:00",
          "2022-07-05T00:00:00",
          "2022-07-06T00:00:00",
          "2022-07-07T00:00:00",
          "2022-07-08T00:00:00",
          "2022-07-09T00:00:00",
          "2022-07-10T00:00:00",
          "2022-07-11T00:00:00",
          "2022-07-12T00:00:00",
          "2022-07-13T00:00:00",
          "2022-07-14T00:00:00",
          "2022-07-15T00:00:00",
          "2022-07-16T00:00:00",
          "2022-07-17T00:00:00",
          "2022-07-18T00:00:00",
          "2022-07-19T00:00:00",
          "2022-07-20T00:00:00",
          "2022-07-21T00:00:00",
          "2022-07-22T00:00:00",
          "2022-07-23T00:00:00",
          "2022-07-24T00:00:00",
          "2022-07-25T00:00:00",
          "2022-07-26T00:00:00",
          "2022-07-27T00:00:00",
          "2022-07-28T00:00:00",
          "2022-07-29T00:00:00",
          "2022-07-30T00:00:00",
          "2022-07-31T00:00:00",
          "2022-08-01T00:00:00",
          "2022-08-02T00:00:00",
          "2022-08-03T00:00:00",
          "2022-08-04T00:00:00",
          "2022-08-05T00:00:00",
          "2022-08-06T00:00:00",
          "2022-08-07T00:00:00",
          "2022-08-08T00:00:00",
          "2022-08-09T00:00:00",
          "2022-08-10T00:00:00",
          "2022-08-11T00:00:00",
          "2022-08-12T00:00:00",
          "2022-08-13T00:00:00",
          "2022-08-14T00:00:00",
          "2022-08-15T00:00:00",
          "2022-08-16T00:00:00",
          "2022-08-17T00:00:00",
          "2022-08-18T00:00:00",
          "2022-08-19T00:00:00",
          "2022-08-20T00:00:00",
          "2022-08-21T00:00:00",
          "2022-08-22T00:00:00",
          "2022-08-23T00:00:00",
          "2022-08-24T00:00:00",
          "2022-08-25T00:00:00",
          "2022-08-26T00:00:00",
          "2022-08-27T00:00:00",
          "2022-08-28T00:00:00",
          "2022-08-29T00:00:00",
          "2022-08-30T00:00:00",
          "2022-08-31T00:00:00",
          "2022-09-01T00:00:00",
          "2022-09-02T00:00:00",
          "2022-09-03T00:00:00",
          "2022-09-04T00:00:00",
          "2022-09-05T00:00:00",
          "2022-09-06T00:00:00",
          "2022-09-07T00:00:00",
          "2022-09-08T00:00:00",
          "2022-09-09T00:00:00",
          "2022-09-10T00:00:00",
          "2022-09-11T00:00:00",
          "2022-09-12T00:00:00",
          "2022-09-13T00:00:00",
          "2022-09-14T00:00:00",
          "2022-09-15T00:00:00",
          "2022-09-16T00:00:00",
          "2022-09-17T00:00:00",
          "2022-09-18T00:00:00",
          "2022-09-19T00:00:00",
          "2022-09-20T00:00:00",
          "2022-09-21T00:00:00",
          "2022-09-22T00:00:00",
          "2022-09-23T00:00:00",
          "2022-09-24T00:00:00",
          "2022-09-25T00:00:00",
          "2022-09-26T00:00:00",
          "2022-09-27T00:00:00",
          "2022-09-28T00:00:00",
          "2022-09-29T00:00:00",
          "2022-09-30T00:00:00",
          "2022-10-01T00:00:00",
          "2022-10-02T00:00:00",
          "2022-10-03T00:00:00"
         ],
         "y": [
          5.429,
          11.714,
          18.143,
          26,
          36.429,
          43.286,
          51.143,
          66.429,
          74.429,
          96.571,
          110.143,
          124.286,
          156,
          189,
          221.143,
          265.286,
          312.857,
          381.857,
          438.571,
          476.714,
          551,
          623.286,
          710.571,
          801.714,
          876.143,
          952,
          1000.857,
          1005.571,
          1029.429,
          1039.857,
          1019.286,
          983.571,
          1000.714,
          1010.286,
          1002.286,
          995.571,
          1012.714,
          1057,
          1116.143,
          1109,
          1110.429,
          1121.714,
          1088,
          1066.429,
          1052.286,
          1026.143,
          1011.714,
          981.571,
          961.714,
          957.714,
          933.286,
          871.714,
          802.429,
          742.714,
          692.429,
          612.714,
          566.857,
          513,
          465.429,
          435.571,
          389.857,
          361,
          381.857,
          359.714,
          351.286,
          329,
          306.571,
          293.714,
          288.286,
          271,
          270.286,
          243.857,
          226.857,
          212.571,
          195.571,
          193.429,
          180.857,
          176.714,
          174.286,
          172.571,
          170.714,
          177.286,
          186.286,
          189.857,
          188.714,
          178.571,
          176.857,
          170.429,
          172.286,
          157.143,
          152.714,
          137.857,
          141.714,
          146.571,
          154,
          161.714,
          170.571,
          179.429,
          193.429,
          187,
          187,
          186.429,
          172.714,
          172.714,
          169.143,
          159.571,
          152.571,
          137.857,
          123.143,
          115.714,
          101.429,
          90.714,
          85.714,
          85,
          82.714,
          81.714,
          79.143,
          80.714,
          78.714,
          75.857,
          71.143,
          68.857,
          67.714,
          67.857,
          62.143,
          60.286,
          58.857,
          55.286,
          50.571,
          53.429,
          57.286,
          62.286,
          64.571,
          72.286,
          79,
          87.714,
          94.429,
          100.571,
          116.857,
          132.571,
          141.429,
          150.571,
          163.429,
          165.143,
          184.857,
          182.286,
          190.857,
          202.143,
          227.857,
          250.143,
          292,
          304,
          335.857,
          373.857,
          399.429,
          437.143,
          464.286,
          471.857,
          502.143,
          538.143,
          501.143,
          614.429,
          616.286,
          632.286,
          657.286,
          651.571,
          631.143,
          669.429,
          575.143,
          564.286,
          548.429,
          526.571,
          517.143,
          531.857,
          521.714,
          523.429,
          523.429,
          519,
          518,
          523.143,
          514.714,
          522,
          546.143,
          556.143,
          591,
          613.857,
          673.429,
          709.714,
          779.857,
          838.571,
          868.857,
          942.714,
          1024.286,
          1047.714,
          1121.857,
          1180.429,
          1236.286,
          1369.857,
          1471.571,
          1566.429,
          1675.714,
          1804.429,
          1929.143,
          2046,
          2161,
          2274.857,
          2392.857,
          2556.714,
          2657.857,
          2766.429,
          2901.857,
          3001,
          3150.571,
          3329.286,
          3473,
          3709.429,
          3927,
          4167.571,
          4534.857,
          4841.429,
          5202.857,
          5541.429,
          5865.429,
          6271.571,
          6600.714,
          6882.143,
          7170.714,
          7402.143,
          7660.429,
          7824.429,
          7937.286,
          8144,
          8355.857,
          8642.143,
          8718.571,
          9007.286,
          9343.143,
          9647.286,
          9556.143,
          9698,
          9858.429,
          10024.571,
          9807.571,
          9513.857,
          9150.857,
          9085.571,
          8614,
          8061.143,
          7611.143,
          7180.571,
          6665.286,
          6224.857,
          5906.429,
          5715,
          5550.143,
          5443.286,
          5406.143,
          5428.429,
          5376.286,
          5262.714,
          5265.429,
          5243.571,
          5266,
          5264.286,
          5313,
          5259.143,
          5301,
          5134,
          5106.286,
          4876.429,
          4904,
          4816.429,
          4833.286,
          4834.286,
          4994.714,
          5017.429,
          5312.429,
          5484.429,
          5841.429,
          6143.286,
          6373.286,
          6821.143,
          7242.143,
          7609,
          8050.857,
          8249.429,
          8319.143,
          8984.143,
          9561.571,
          10003.714,
          10451.429,
          10901.286,
          11289.286,
          11742.143,
          11631.143,
          11448.429,
          11384.571,
          11044.286,
          10478.571,
          9941.714,
          9613.143,
          9470,
          9210.714,
          8739.714,
          8560.714,
          8321,
          8199.286,
          8030.857,
          7706.286,
          7698.143,
          7689.286,
          7509.429,
          7396.571,
          7232.857,
          7025.857,
          6877.571,
          6427.429,
          6125.714,
          5829.714,
          5684.857,
          5592.286,
          5505.571,
          5425.286,
          5327.571,
          5287.286,
          5309.857,
          5208.857,
          5105.571,
          5053.714,
          4939,
          4781.714,
          4584,
          4408,
          4238.714,
          4116.143,
          4067,
          3966,
          3895.714,
          3891.143,
          3875,
          3908.571,
          3770.429,
          3509.857,
          3391.143,
          3420.714,
          3423.714,
          3440.143,
          3370,
          3454.714,
          3590.429,
          3615.571,
          3631.571,
          3685.571,
          3738.571,
          3913.429,
          4106,
          4263.429,
          4405.429,
          4475.143,
          4529.714,
          4582.286,
          4581.857,
          4525,
          4550.429,
          4640.571,
          4512.571,
          4449.143,
          4506,
          4485.714,
          4495.714,
          4540.429,
          4579.857,
          4752,
          4945.857,
          5097.714,
          5304.143,
          5537.714,
          5624.571,
          5717.857,
          5833.143,
          6025.714,
          6197,
          6338.857,
          6452,
          6546,
          6782.571,
          7008,
          7035.286,
          7206.571,
          7274.429,
          7339.714,
          7378.143,
          7385.286,
          7404.143,
          7360,
          7192.857,
          7104.286,
          6904.571,
          6863,
          6681,
          6674.286,
          6728.286,
          6736.286,
          6936.143,
          7129.714,
          7293.143,
          7154.571,
          7290.143,
          7471,
          7557.286,
          7598.286,
          7661.429,
          7681.286,
          8122.143,
          8246.429,
          8290.571,
          8258.286,
          8187.714,
          8056.714,
          7845,
          7869.857,
          7536.286,
          7328.857,
          6999.857,
          6641.857,
          7068.571,
          7410.429,
          7213.857,
          7144.571,
          7105.571,
          7340.286,
          7491,
          7015.429,
          6699.143,
          6568.857,
          6458.143,
          6176.714,
          5755.143,
          5452,
          5019.286,
          4992.857,
          4736.143,
          4541,
          4348.571,
          4165.857,
          4020.286,
          4001.857,
          3591.286,
          3335.571,
          3147.714,
          3104,
          3134.857,
          3034.429,
          2940.857,
          2920.571,
          2884.429,
          2798.571,
          2589.286,
          2409.143,
          2241.714,
          2147.429,
          2019.429,
          1905.714,
          1739.143,
          1594.571,
          1463.857,
          1392.143,
          1316,
          1261.429,
          1161.714,
          1091.143,
          1021.143,
          946.429,
          898.143,
          856.286,
          806.143,
          753.571,
          700.429,
          665.429,
          646.857,
          617,
          616.714,
          596.571,
          593.143,
          611.143,
          652.714,
          733.571,
          836.286,
          973.714,
          1211.714,
          1642.286,
          2300,
          3155.143,
          4463.429,
          5621.429,
          6610.286,
          7411.429,
          8380.857,
          9173.571,
          9798.286,
          9905.857,
          10022.571,
          10084.429,
          9925.571,
          9421.571,
          8744.286,
          8044,
          7220.143,
          6427.714,
          5710.143,
          5318.857,
          4826.571,
          4567.714,
          4140,
          3806.571,
          3479.571,
          3228.571,
          2973,
          2881,
          2731.429,
          2666.571,
          2593.714,
          2595.714,
          2586,
          2582.714,
          2489.286,
          2378.571,
          2345.714,
          2334,
          2329.857,
          2361.714,
          2382.429,
          2476.143,
          2471.429,
          2406,
          2419.286,
          2442.714,
          2462.857,
          2481.571,
          2494,
          2503.714,
          2591.286,
          2593.286,
          2575,
          2547.286,
          2534.857,
          2529.286,
          2551.857,
          2508.143,
          2545.714,
          2552.714,
          2541.143,
          2559.857,
          2553.143,
          2495.286,
          2515.857,
          2442.286,
          2106.286,
          2351.429,
          2286.857,
          2223.429,
          2181,
          2103.429,
          2077.571,
          2312,
          1957.143,
          1908.714,
          1844.857,
          1807.714,
          1740.286,
          1682.286,
          1675.143,
          1680.857,
          1686.429,
          1665.571,
          1646.286,
          1651.286,
          1659.143,
          1660,
          1695.857,
          1720.714,
          1736.714,
          1887.571,
          2038.857,
          2159.429,
          2250.714,
          2405.143,
          2545.714,
          2808.286,
          2933.286,
          3065.286,
          3235.714,
          3438.429,
          3529.143,
          3673.714,
          3795,
          4019.571,
          4327.143,
          4609.571,
          4983.714,
          5261.143,
          5525.429,
          5908.571,
          6262.714,
          6480.143,
          6803.857,
          7072.143,
          7414.714,
          7697.857,
          7961.857,
          8323.143,
          8826,
          9399.714,
          9853.286,
          10440.571,
          10948.857,
          11454,
          12322.857,
          13079,
          13348.429,
          13445.714,
          14501.714,
          15771.571,
          16931,
          17973.429,
          18663.143,
          19798.857,
          21029.714,
          21573.286,
          21970.143,
          22391.429,
          22190.857,
          22226.429,
          22259.714,
          22472.429,
          22249.714,
          22136.429,
          21394.429,
          21517.143,
          21552.571,
          21635.857,
          21771.143,
          21702.857,
          21096.857,
          21032.286,
          20563.571,
          19984.857,
          19285.143,
          18357.429,
          17332,
          16594.714,
          15941.286,
          15450.143,
          15148.857,
          14706,
          14233.286,
          14000,
          13508,
          13488,
          13064.143,
          12645.143,
          12355.714,
          12156.714,
          12053.571,
          12033.429,
          12385.429,
          12587.714,
          13213,
          13659.143,
          14472.857,
          14916.286,
          16249.286,
          17546.429,
          18979.857,
          21559.714,
          23366,
          25494.857,
          27442.714,
          28947.429,
          29997,
          31286,
          31492.571,
          31992,
          32567.286,
          34593.143,
          30444.714,
          35794.857,
          36681,
          39717,
          41759,
          45881.286,
          49070.571,
          56807.714,
          55237,
          58739.429,
          61099.143,
          60141.571,
          61549.143,
          68342,
          75721.714,
          76907.286,
          79526,
          78790,
          78888.714,
          81699.286,
          76755.286,
          115981.143,
          118775.429,
          119333,
          121003.571,
          125321,
          120359.714,
          117130,
          70432.857,
          67193,
          62848.571,
          58371.286,
          53121.571,
          49732.286,
          47014.571,
          44322.143,
          35196.714,
          32938.571,
          31780.714,
          32342.571,
          31836.571,
          30607.429,
          29778.143,
          34991.571,
          36122.714,
          38565.571,
          42961.286,
          47862.714,
          53493.571,
          58577.429,
          62825.714,
          66505.286,
          68824.429,
          68949.286,
          67926.571,
          65861.286,
          63210.714,
          61305.429,
          59308.143,
          56329.714,
          54191.714,
          51536.143,
          49033.429,
          47036.429,
          45273.714,
          42777,
          40695.429,
          37948.857,
          36046.714,
          34646,
          33159.714,
          31751,
          29607.429,
          27656.857,
          25765.143,
          24166,
          22360.143,
          20825.286,
          18445.571,
          16339.571,
          14544.857,
          12990.714,
          11984.571,
          11241.857,
          10650.857,
          9546.429,
          8389.714,
          7220.286,
          6258.286,
          5342.143,
          4722.143,
          4070.571,
          3527.286,
          3324.143,
          3087.143,
          2869.714,
          2662.571,
          2484.286,
          2388.714,
          2296.857,
          2044.714,
          1789.286,
          1654.857,
          1590.714,
          1548,
          1534.429,
          1518,
          1507,
          1567.143,
          1513.857,
          1497.571,
          1489.429,
          1457.571,
          1434.143,
          1393.429,
          1359,
          1353.429,
          1331.286,
          1299,
          1260.857,
          1222.143,
          1194,
          1195.143,
          1163.429,
          1142.143,
          1107.286,
          1095.286,
          1077.857,
          1058,
          1003.857,
          984,
          943,
          951.857,
          987.571,
          995.714,
          1040.571,
          1108.857,
          1188.429,
          1266.714,
          1325.714,
          1324.286,
          1360.714,
          1418.429,
          1546.143,
          1656.857,
          1451.286,
          1274.286,
          2017.143,
          2213.143,
          2447.143,
          2695.286,
          2927.143,
          2927.143,
          2927.143,
          3509.286,
          3783.429,
          3985,
          4176.571,
          4363.429,
          4363.429,
          4363.429,
          4738.714,
          4879.429,
          5085.857,
          5229.429,
          5359.429,
          5359.429,
          5359.429,
          5485.429,
          5610.429,
          5633.143,
          5745.143,
          5834.571,
          5834.571,
          5834.571,
          6070.571,
          6179.143,
          6232.857,
          6198.571,
          6172,
          6172,
          6172,
          5831.857,
          5496,
          5167,
          4801,
          4531.429,
          4531.429,
          4531.429,
          4088,
          4004.571,
          3949.429,
          3833.714,
          3634.143,
          3634.143,
          3634.143,
          3262.571,
          3097.429,
          2925.857,
          2747.857,
          2639,
          2639,
          2639,
          2288.857,
          2126.857,
          2013,
          1916.429,
          1832.143,
          1832.143,
          1832.143,
          1708.429,
          1670.857,
          1608.143,
          1404.857,
          1487.714,
          1487.714,
          1487.714,
          1352.571,
          1274.143,
          1215.286,
          1338.286,
          1151.714,
          1151.714,
          1151.714,
          1117.571,
          1104.714,
          1094.571,
          1261,
          1096.143,
          1259.143,
          1385.429,
          1096.286,
          1121.714,
          950.714,
          612.857,
          1187.857,
          1024.857,
          898.571,
          784.143,
          1189.429,
          1189.429,
          1189.429,
          1229.857,
          1229.857,
          1229.857,
          1229.857,
          1258.286,
          1258.286,
          1258.286,
          1411.714,
          1411.714,
          1411.714,
          1412.286,
          1751.857,
          1751.857,
          1751.857,
          2200.857,
          2200.857,
          2200.857,
          2200.571
         ]
        },
        {
         "hovertemplate": "Date: %{x: \"%m/%d/%Y}",
         "legendgroup": "Lockdown",
         "line": {
          "color": "red",
          "dash": "dash",
          "width": 2
         },
         "mode": "lines",
         "name": "Lockdown",
         "type": "scatter",
         "x": [
          "2020-03-15",
          "2020-03-15"
         ],
         "y": [
          5.429,
          125321
         ]
        },
        {
         "hovertemplate": "Date: %{x: \"%m/%d/%Y}",
         "legendgroup": "Lockdown",
         "line": {
          "color": "red",
          "dash": "dash",
          "width": 2
         },
         "mode": "lines",
         "name": "Lockdown",
         "showlegend": false,
         "type": "scatter",
         "x": [
          "2020-12-14",
          "2020-12-14"
         ],
         "y": [
          5.429,
          125321
         ]
        },
        {
         "hovertemplate": "Date: %{x: \"%m/%d/%Y}",
         "legendgroup": "Lockdown",
         "line": {
          "color": "red",
          "dash": "dash",
          "width": 2
         },
         "mode": "lines",
         "name": "Lockdown",
         "showlegend": false,
         "type": "scatter",
         "x": [
          "2021-12-19",
          "2021-12-19"
         ],
         "y": [
          5.429,
          125321
         ]
        },
        {
         "hovertemplate": "Date: %{x: \"%m/%d/%Y}",
         "legendgroup": "Partial Lockdown",
         "line": {
          "color": "orange",
          "dash": "dash",
          "width": 2
         },
         "mode": "lines",
         "name": "Partial Lockdown",
         "type": "scatter",
         "x": [
          "2020-10-10",
          "2020-10-10"
         ],
         "y": [
          5.429,
          125321
         ]
        },
        {
         "hovertemplate": "Date: %{x: \"%m/%d/%Y}",
         "legendgroup": "Easening of Measures",
         "line": {
          "color": "green",
          "dash": "dash",
          "width": 2
         },
         "mode": "lines",
         "name": "Easening of Measures",
         "type": "scatter",
         "x": [
          "2020-06-01",
          "2020-06-01"
         ],
         "y": [
          5.429,
          125321
         ]
        },
        {
         "hovertemplate": "Date: %{x: \"%m/%d/%Y}",
         "legendgroup": "Easening of Measures",
         "line": {
          "color": "green",
          "dash": "dash",
          "width": 2
         },
         "mode": "lines",
         "name": "Easening of Measures",
         "showlegend": false,
         "type": "scatter",
         "x": [
          "2021-02-08",
          "2021-02-08"
         ],
         "y": [
          5.429,
          125321
         ]
        },
        {
         "hovertemplate": "Date: %{x: \"%m/%d/%Y}",
         "legendgroup": "Easening of Measures",
         "line": {
          "color": "green",
          "dash": "dash",
          "width": 2
         },
         "mode": "lines",
         "name": "Easening of Measures",
         "showlegend": false,
         "type": "scatter",
         "x": [
          "2022-01-10",
          "2022-01-10"
         ],
         "y": [
          5.429,
          125321
         ]
        }
       ],
       "layout": {
        "legend": {
         "groupclick": "toggleitem"
        },
        "plot_bgcolor": "#f0f5f5",
        "template": {
         "data": {
          "bar": [
           {
            "error_x": {
             "color": "#2a3f5f"
            },
            "error_y": {
             "color": "#2a3f5f"
            },
            "marker": {
             "line": {
              "color": "#E5ECF6",
              "width": 0.5
             },
             "pattern": {
              "fillmode": "overlay",
              "size": 10,
              "solidity": 0.2
             }
            },
            "type": "bar"
           }
          ],
          "barpolar": [
           {
            "marker": {
             "line": {
              "color": "#E5ECF6",
              "width": 0.5
             },
             "pattern": {
              "fillmode": "overlay",
              "size": 10,
              "solidity": 0.2
             }
            },
            "type": "barpolar"
           }
          ],
          "carpet": [
           {
            "aaxis": {
             "endlinecolor": "#2a3f5f",
             "gridcolor": "white",
             "linecolor": "white",
             "minorgridcolor": "white",
             "startlinecolor": "#2a3f5f"
            },
            "baxis": {
             "endlinecolor": "#2a3f5f",
             "gridcolor": "white",
             "linecolor": "white",
             "minorgridcolor": "white",
             "startlinecolor": "#2a3f5f"
            },
            "type": "carpet"
           }
          ],
          "choropleth": [
           {
            "colorbar": {
             "outlinewidth": 0,
             "ticks": ""
            },
            "type": "choropleth"
           }
          ],
          "contour": [
           {
            "colorbar": {
             "outlinewidth": 0,
             "ticks": ""
            },
            "colorscale": [
             [
              0,
              "#0d0887"
             ],
             [
              0.1111111111111111,
              "#46039f"
             ],
             [
              0.2222222222222222,
              "#7201a8"
             ],
             [
              0.3333333333333333,
              "#9c179e"
             ],
             [
              0.4444444444444444,
              "#bd3786"
             ],
             [
              0.5555555555555556,
              "#d8576b"
             ],
             [
              0.6666666666666666,
              "#ed7953"
             ],
             [
              0.7777777777777778,
              "#fb9f3a"
             ],
             [
              0.8888888888888888,
              "#fdca26"
             ],
             [
              1,
              "#f0f921"
             ]
            ],
            "type": "contour"
           }
          ],
          "contourcarpet": [
           {
            "colorbar": {
             "outlinewidth": 0,
             "ticks": ""
            },
            "type": "contourcarpet"
           }
          ],
          "heatmap": [
           {
            "colorbar": {
             "outlinewidth": 0,
             "ticks": ""
            },
            "colorscale": [
             [
              0,
              "#0d0887"
             ],
             [
              0.1111111111111111,
              "#46039f"
             ],
             [
              0.2222222222222222,
              "#7201a8"
             ],
             [
              0.3333333333333333,
              "#9c179e"
             ],
             [
              0.4444444444444444,
              "#bd3786"
             ],
             [
              0.5555555555555556,
              "#d8576b"
             ],
             [
              0.6666666666666666,
              "#ed7953"
             ],
             [
              0.7777777777777778,
              "#fb9f3a"
             ],
             [
              0.8888888888888888,
              "#fdca26"
             ],
             [
              1,
              "#f0f921"
             ]
            ],
            "type": "heatmap"
           }
          ],
          "heatmapgl": [
           {
            "colorbar": {
             "outlinewidth": 0,
             "ticks": ""
            },
            "colorscale": [
             [
              0,
              "#0d0887"
             ],
             [
              0.1111111111111111,
              "#46039f"
             ],
             [
              0.2222222222222222,
              "#7201a8"
             ],
             [
              0.3333333333333333,
              "#9c179e"
             ],
             [
              0.4444444444444444,
              "#bd3786"
             ],
             [
              0.5555555555555556,
              "#d8576b"
             ],
             [
              0.6666666666666666,
              "#ed7953"
             ],
             [
              0.7777777777777778,
              "#fb9f3a"
             ],
             [
              0.8888888888888888,
              "#fdca26"
             ],
             [
              1,
              "#f0f921"
             ]
            ],
            "type": "heatmapgl"
           }
          ],
          "histogram": [
           {
            "marker": {
             "pattern": {
              "fillmode": "overlay",
              "size": 10,
              "solidity": 0.2
             }
            },
            "type": "histogram"
           }
          ],
          "histogram2d": [
           {
            "colorbar": {
             "outlinewidth": 0,
             "ticks": ""
            },
            "colorscale": [
             [
              0,
              "#0d0887"
             ],
             [
              0.1111111111111111,
              "#46039f"
             ],
             [
              0.2222222222222222,
              "#7201a8"
             ],
             [
              0.3333333333333333,
              "#9c179e"
             ],
             [
              0.4444444444444444,
              "#bd3786"
             ],
             [
              0.5555555555555556,
              "#d8576b"
             ],
             [
              0.6666666666666666,
              "#ed7953"
             ],
             [
              0.7777777777777778,
              "#fb9f3a"
             ],
             [
              0.8888888888888888,
              "#fdca26"
             ],
             [
              1,
              "#f0f921"
             ]
            ],
            "type": "histogram2d"
           }
          ],
          "histogram2dcontour": [
           {
            "colorbar": {
             "outlinewidth": 0,
             "ticks": ""
            },
            "colorscale": [
             [
              0,
              "#0d0887"
             ],
             [
              0.1111111111111111,
              "#46039f"
             ],
             [
              0.2222222222222222,
              "#7201a8"
             ],
             [
              0.3333333333333333,
              "#9c179e"
             ],
             [
              0.4444444444444444,
              "#bd3786"
             ],
             [
              0.5555555555555556,
              "#d8576b"
             ],
             [
              0.6666666666666666,
              "#ed7953"
             ],
             [
              0.7777777777777778,
              "#fb9f3a"
             ],
             [
              0.8888888888888888,
              "#fdca26"
             ],
             [
              1,
              "#f0f921"
             ]
            ],
            "type": "histogram2dcontour"
           }
          ],
          "mesh3d": [
           {
            "colorbar": {
             "outlinewidth": 0,
             "ticks": ""
            },
            "type": "mesh3d"
           }
          ],
          "parcoords": [
           {
            "line": {
             "colorbar": {
              "outlinewidth": 0,
              "ticks": ""
             }
            },
            "type": "parcoords"
           }
          ],
          "pie": [
           {
            "automargin": true,
            "type": "pie"
           }
          ],
          "scatter": [
           {
            "fillpattern": {
             "fillmode": "overlay",
             "size": 10,
             "solidity": 0.2
            },
            "type": "scatter"
           }
          ],
          "scatter3d": [
           {
            "line": {
             "colorbar": {
              "outlinewidth": 0,
              "ticks": ""
             }
            },
            "marker": {
             "colorbar": {
              "outlinewidth": 0,
              "ticks": ""
             }
            },
            "type": "scatter3d"
           }
          ],
          "scattercarpet": [
           {
            "marker": {
             "colorbar": {
              "outlinewidth": 0,
              "ticks": ""
             }
            },
            "type": "scattercarpet"
           }
          ],
          "scattergeo": [
           {
            "marker": {
             "colorbar": {
              "outlinewidth": 0,
              "ticks": ""
             }
            },
            "type": "scattergeo"
           }
          ],
          "scattergl": [
           {
            "marker": {
             "colorbar": {
              "outlinewidth": 0,
              "ticks": ""
             }
            },
            "type": "scattergl"
           }
          ],
          "scattermapbox": [
           {
            "marker": {
             "colorbar": {
              "outlinewidth": 0,
              "ticks": ""
             }
            },
            "type": "scattermapbox"
           }
          ],
          "scatterpolar": [
           {
            "marker": {
             "colorbar": {
              "outlinewidth": 0,
              "ticks": ""
             }
            },
            "type": "scatterpolar"
           }
          ],
          "scatterpolargl": [
           {
            "marker": {
             "colorbar": {
              "outlinewidth": 0,
              "ticks": ""
             }
            },
            "type": "scatterpolargl"
           }
          ],
          "scatterternary": [
           {
            "marker": {
             "colorbar": {
              "outlinewidth": 0,
              "ticks": ""
             }
            },
            "type": "scatterternary"
           }
          ],
          "surface": [
           {
            "colorbar": {
             "outlinewidth": 0,
             "ticks": ""
            },
            "colorscale": [
             [
              0,
              "#0d0887"
             ],
             [
              0.1111111111111111,
              "#46039f"
             ],
             [
              0.2222222222222222,
              "#7201a8"
             ],
             [
              0.3333333333333333,
              "#9c179e"
             ],
             [
              0.4444444444444444,
              "#bd3786"
             ],
             [
              0.5555555555555556,
              "#d8576b"
             ],
             [
              0.6666666666666666,
              "#ed7953"
             ],
             [
              0.7777777777777778,
              "#fb9f3a"
             ],
             [
              0.8888888888888888,
              "#fdca26"
             ],
             [
              1,
              "#f0f921"
             ]
            ],
            "type": "surface"
           }
          ],
          "table": [
           {
            "cells": {
             "fill": {
              "color": "#EBF0F8"
             },
             "line": {
              "color": "white"
             }
            },
            "header": {
             "fill": {
              "color": "#C8D4E3"
             },
             "line": {
              "color": "white"
             }
            },
            "type": "table"
           }
          ]
         },
         "layout": {
          "annotationdefaults": {
           "arrowcolor": "#2a3f5f",
           "arrowhead": 0,
           "arrowwidth": 1
          },
          "autotypenumbers": "strict",
          "coloraxis": {
           "colorbar": {
            "outlinewidth": 0,
            "ticks": ""
           }
          },
          "colorscale": {
           "diverging": [
            [
             0,
             "#8e0152"
            ],
            [
             0.1,
             "#c51b7d"
            ],
            [
             0.2,
             "#de77ae"
            ],
            [
             0.3,
             "#f1b6da"
            ],
            [
             0.4,
             "#fde0ef"
            ],
            [
             0.5,
             "#f7f7f7"
            ],
            [
             0.6,
             "#e6f5d0"
            ],
            [
             0.7,
             "#b8e186"
            ],
            [
             0.8,
             "#7fbc41"
            ],
            [
             0.9,
             "#4d9221"
            ],
            [
             1,
             "#276419"
            ]
           ],
           "sequential": [
            [
             0,
             "#0d0887"
            ],
            [
             0.1111111111111111,
             "#46039f"
            ],
            [
             0.2222222222222222,
             "#7201a8"
            ],
            [
             0.3333333333333333,
             "#9c179e"
            ],
            [
             0.4444444444444444,
             "#bd3786"
            ],
            [
             0.5555555555555556,
             "#d8576b"
            ],
            [
             0.6666666666666666,
             "#ed7953"
            ],
            [
             0.7777777777777778,
             "#fb9f3a"
            ],
            [
             0.8888888888888888,
             "#fdca26"
            ],
            [
             1,
             "#f0f921"
            ]
           ],
           "sequentialminus": [
            [
             0,
             "#0d0887"
            ],
            [
             0.1111111111111111,
             "#46039f"
            ],
            [
             0.2222222222222222,
             "#7201a8"
            ],
            [
             0.3333333333333333,
             "#9c179e"
            ],
            [
             0.4444444444444444,
             "#bd3786"
            ],
            [
             0.5555555555555556,
             "#d8576b"
            ],
            [
             0.6666666666666666,
             "#ed7953"
            ],
            [
             0.7777777777777778,
             "#fb9f3a"
            ],
            [
             0.8888888888888888,
             "#fdca26"
            ],
            [
             1,
             "#f0f921"
            ]
           ]
          },
          "colorway": [
           "#636efa",
           "#EF553B",
           "#00cc96",
           "#ab63fa",
           "#FFA15A",
           "#19d3f3",
           "#FF6692",
           "#B6E880",
           "#FF97FF",
           "#FECB52"
          ],
          "font": {
           "color": "#2a3f5f"
          },
          "geo": {
           "bgcolor": "white",
           "lakecolor": "white",
           "landcolor": "#E5ECF6",
           "showlakes": true,
           "showland": true,
           "subunitcolor": "white"
          },
          "hoverlabel": {
           "align": "left"
          },
          "hovermode": "closest",
          "mapbox": {
           "style": "light"
          },
          "paper_bgcolor": "white",
          "plot_bgcolor": "#E5ECF6",
          "polar": {
           "angularaxis": {
            "gridcolor": "white",
            "linecolor": "white",
            "ticks": ""
           },
           "bgcolor": "#E5ECF6",
           "radialaxis": {
            "gridcolor": "white",
            "linecolor": "white",
            "ticks": ""
           }
          },
          "scene": {
           "xaxis": {
            "backgroundcolor": "#E5ECF6",
            "gridcolor": "white",
            "gridwidth": 2,
            "linecolor": "white",
            "showbackground": true,
            "ticks": "",
            "zerolinecolor": "white"
           },
           "yaxis": {
            "backgroundcolor": "#E5ECF6",
            "gridcolor": "white",
            "gridwidth": 2,
            "linecolor": "white",
            "showbackground": true,
            "ticks": "",
            "zerolinecolor": "white"
           },
           "zaxis": {
            "backgroundcolor": "#E5ECF6",
            "gridcolor": "white",
            "gridwidth": 2,
            "linecolor": "white",
            "showbackground": true,
            "ticks": "",
            "zerolinecolor": "white"
           }
          },
          "shapedefaults": {
           "line": {
            "color": "#2a3f5f"
           }
          },
          "ternary": {
           "aaxis": {
            "gridcolor": "white",
            "linecolor": "white",
            "ticks": ""
           },
           "baxis": {
            "gridcolor": "white",
            "linecolor": "white",
            "ticks": ""
           },
           "bgcolor": "#E5ECF6",
           "caxis": {
            "gridcolor": "white",
            "linecolor": "white",
            "ticks": ""
           }
          },
          "title": {
           "x": 0.05
          },
          "xaxis": {
           "automargin": true,
           "gridcolor": "white",
           "linecolor": "white",
           "ticks": "",
           "title": {
            "standoff": 15
           },
           "zerolinecolor": "white",
           "zerolinewidth": 2
          },
          "yaxis": {
           "automargin": true,
           "gridcolor": "white",
           "linecolor": "white",
           "ticks": "",
           "title": {
            "standoff": 15
           },
           "zerolinecolor": "white",
           "zerolinewidth": 2
          }
         }
        },
        "title": {
         "text": "New Covid Cases in the Netherlands"
        },
        "xaxis": {
         "title": {
          "text": "Date"
         }
        },
        "yaxis": {
         "title": {
          "text": "New Cases Smoothed"
         }
        }
       }
      }
     },
     "metadata": {},
     "output_type": "display_data"
    }
   ],
   "source": [
    "import plotly.express as px\n",
    "import plotly.graph_objects as go\n",
    "df = px.data.stocks()\n",
    "dmax = covid_nl_clean_df['new_cases_smoothed'].values.max()\n",
    "dmin = covid_nl_clean_df['new_cases_smoothed'].values.min()\n",
    "fig = go.Figure()\n",
    "\n",
    "fig.add_trace(go.Scatter(x=covid_nl_clean_df.date, y=covid_nl_clean_df['new_cases_smoothed'], mode='lines', name='New Covid Cases NL', hovertemplate =\n",
    "                        'Date: %{x: \"%m/%d/%Y}'+'<br>New Cases: %{y: \"%m/%d/%Y}'))\n",
    "fig.add_trace(go.Scatter(x=['2020-03-15','2020-03-15'], \n",
    "                         y=[dmin,dmax], \n",
    "                         mode='lines', \n",
    "                         line=dict(color='red', width=2, dash='dash'),\n",
    "                         legendgroup = 'Lockdown', name='Lockdown', hovertemplate =\n",
    "                        'Date: %{x: \"%m/%d/%Y}'))\n",
    "fig.add_trace(go.Scatter(x=['2020-12-14','2020-12-14'], \n",
    "                         y=[dmin,dmax], \n",
    "                         mode='lines', \n",
    "                         line=dict(color='red', width=2, dash='dash'),\n",
    "                         legendgroup='Lockdown', name='Lockdown', hovertemplate =\n",
    "                        'Date: %{x: \"%m/%d/%Y}', showlegend=False))\n",
    "fig.add_trace(go.Scatter(x=['2021-12-19','2021-12-19'], \n",
    "                         y=[dmin,dmax], \n",
    "                         mode='lines', \n",
    "                         line=dict(color='red', width=2, dash='dash'),\n",
    "                         legendgroup='Lockdown', name='Lockdown', hovertemplate =\n",
    "                        'Date: %{x: \"%m/%d/%Y}',showlegend=False))\n",
    "\n",
    "fig.add_trace(go.Scatter(x=['2020-10-10','2020-10-10'], \n",
    "                         y=[dmin,dmax], \n",
    "                         mode='lines', \n",
    "                         line=dict(color='orange', width=2, dash='dash'),\n",
    "                         legendgroup='Partial Lockdown', hovertemplate =\n",
    "                        'Date: %{x: \"%m/%d/%Y}',name='Partial Lockdown'))                         \n",
    "\n",
    "fig.add_trace(go.Scatter(x=['2020-06-01','2020-06-01'], \n",
    "                         y=[dmin,dmax], \n",
    "                         mode='lines', \n",
    "                         line=dict(color='green', width=2, dash='dash'),\n",
    "                         legendgroup='Easening of Measures', hovertemplate =\n",
    "                        'Date: %{x: \"%m/%d/%Y}',name='Easening of Measures'))\n",
    "fig.add_trace(go.Scatter(x=['2021-02-08','2021-02-08'], \n",
    "                         y=[dmin,dmax], \n",
    "                         mode='lines', \n",
    "                         line=dict(color='green', width=2, dash='dash'),\n",
    "                         legendgroup='Easening of Measures', name='Easening of Measures',hovertemplate =\n",
    "                        'Date: %{x: \"%m/%d/%Y}', showlegend=False))\n",
    "fig.add_trace(go.Scatter(x=['2022-01-10','2022-01-10'], \n",
    "                         y=[dmin,dmax], \n",
    "                         mode='lines', \n",
    "                         line=dict(color='green', width=2, dash='dash'),\n",
    "                         legendgroup='Easening of Measures', name='Easening of Measures', \n",
    "                         hovertemplate ='Date: %{x: \"%m/%d/%Y}',showlegend=False))                \n",
    "# fig.update_traces(mode=\"lines\", hovertemplate=None)\n",
    "# fig.update_layout(hovermode=\"x\")\n",
    "\n",
    "fig.update_layout(title='New Covid Cases in the Netherlands', xaxis_title= 'Date', yaxis_title = 'New Cases Smoothed')                                                 \n",
    "fig.update_layout(legend=dict(groupclick=\"toggleitem\"))\n",
    "fig.layout.plot_bgcolor='#f0f5f5'\n",
    "# fig.update_layout(hovermode=\"x unified\")\n",
    "fig.show()"
   ]
  },
  {
   "cell_type": "markdown",
   "metadata": {},
   "source": [
    "#Subquestion 3\n"
   ]
  },
  {
   "cell_type": "code",
   "execution_count": 62,
   "metadata": {},
   "outputs": [
    {
     "data": {
      "text/html": [
       "<div>\n",
       "<style scoped>\n",
       "    .dataframe tbody tr th:only-of-type {\n",
       "        vertical-align: middle;\n",
       "    }\n",
       "\n",
       "    .dataframe tbody tr th {\n",
       "        vertical-align: top;\n",
       "    }\n",
       "\n",
       "    .dataframe thead th {\n",
       "        text-align: right;\n",
       "    }\n",
       "</style>\n",
       "<table border=\"1\" class=\"dataframe\">\n",
       "  <thead>\n",
       "    <tr style=\"text-align: right;\">\n",
       "      <th></th>\n",
       "      <th>Number of Passengers</th>\n",
       "      <th>Airports</th>\n",
       "      <th>Previous number passengers (2018)</th>\n",
       "      <th>Percentage incline/decline</th>\n",
       "    </tr>\n",
       "    <tr>\n",
       "      <th>Periods</th>\n",
       "      <th></th>\n",
       "      <th></th>\n",
       "      <th></th>\n",
       "      <th></th>\n",
       "    </tr>\n",
       "  </thead>\n",
       "  <tbody>\n",
       "    <tr>\n",
       "      <th>2018-01-01</th>\n",
       "      <td>89021</td>\n",
       "      <td>Rotterdam The Hague Airport</td>\n",
       "      <td>89021</td>\n",
       "      <td>0.000000</td>\n",
       "    </tr>\n",
       "    <tr>\n",
       "      <th>2018-02-01</th>\n",
       "      <td>88493</td>\n",
       "      <td>Rotterdam The Hague Airport</td>\n",
       "      <td>88493</td>\n",
       "      <td>0.000000</td>\n",
       "    </tr>\n",
       "    <tr>\n",
       "      <th>2018-03-01</th>\n",
       "      <td>121533</td>\n",
       "      <td>Rotterdam The Hague Airport</td>\n",
       "      <td>121533</td>\n",
       "      <td>0.000000</td>\n",
       "    </tr>\n",
       "    <tr>\n",
       "      <th>2018-04-01</th>\n",
       "      <td>144208</td>\n",
       "      <td>Rotterdam The Hague Airport</td>\n",
       "      <td>144208</td>\n",
       "      <td>0.000000</td>\n",
       "    </tr>\n",
       "    <tr>\n",
       "      <th>2018-05-01</th>\n",
       "      <td>221150</td>\n",
       "      <td>Rotterdam The Hague Airport</td>\n",
       "      <td>221150</td>\n",
       "      <td>0.000000</td>\n",
       "    </tr>\n",
       "    <tr>\n",
       "      <th>2018-06-01</th>\n",
       "      <td>217739</td>\n",
       "      <td>Rotterdam The Hague Airport</td>\n",
       "      <td>217739</td>\n",
       "      <td>0.000000</td>\n",
       "    </tr>\n",
       "    <tr>\n",
       "      <th>2018-07-01</th>\n",
       "      <td>230635</td>\n",
       "      <td>Rotterdam The Hague Airport</td>\n",
       "      <td>230635</td>\n",
       "      <td>0.000000</td>\n",
       "    </tr>\n",
       "    <tr>\n",
       "      <th>2018-08-01</th>\n",
       "      <td>232799</td>\n",
       "      <td>Rotterdam The Hague Airport</td>\n",
       "      <td>232799</td>\n",
       "      <td>0.000000</td>\n",
       "    </tr>\n",
       "    <tr>\n",
       "      <th>2018-09-01</th>\n",
       "      <td>223027</td>\n",
       "      <td>Rotterdam The Hague Airport</td>\n",
       "      <td>223027</td>\n",
       "      <td>0.000000</td>\n",
       "    </tr>\n",
       "    <tr>\n",
       "      <th>2018-10-01</th>\n",
       "      <td>193930</td>\n",
       "      <td>Rotterdam The Hague Airport</td>\n",
       "      <td>193930</td>\n",
       "      <td>0.000000</td>\n",
       "    </tr>\n",
       "    <tr>\n",
       "      <th>2018-11-01</th>\n",
       "      <td>73245</td>\n",
       "      <td>Rotterdam The Hague Airport</td>\n",
       "      <td>73245</td>\n",
       "      <td>0.000000</td>\n",
       "    </tr>\n",
       "    <tr>\n",
       "      <th>2018-12-01</th>\n",
       "      <td>72378</td>\n",
       "      <td>Rotterdam The Hague Airport</td>\n",
       "      <td>72378</td>\n",
       "      <td>0.000000</td>\n",
       "    </tr>\n",
       "    <tr>\n",
       "      <th>2019-01-01</th>\n",
       "      <td>84056</td>\n",
       "      <td>Rotterdam The Hague Airport</td>\n",
       "      <td>89021</td>\n",
       "      <td>-5.577336</td>\n",
       "    </tr>\n",
       "    <tr>\n",
       "      <th>2019-02-01</th>\n",
       "      <td>95420</td>\n",
       "      <td>Rotterdam The Hague Airport</td>\n",
       "      <td>88493</td>\n",
       "      <td>7.827738</td>\n",
       "    </tr>\n",
       "    <tr>\n",
       "      <th>2019-03-01</th>\n",
       "      <td>137683</td>\n",
       "      <td>Rotterdam The Hague Airport</td>\n",
       "      <td>121533</td>\n",
       "      <td>13.288572</td>\n",
       "    </tr>\n",
       "    <tr>\n",
       "      <th>2019-04-01</th>\n",
       "      <td>169142</td>\n",
       "      <td>Rotterdam The Hague Airport</td>\n",
       "      <td>144208</td>\n",
       "      <td>17.290303</td>\n",
       "    </tr>\n",
       "    <tr>\n",
       "      <th>2019-05-01</th>\n",
       "      <td>227437</td>\n",
       "      <td>Rotterdam The Hague Airport</td>\n",
       "      <td>221150</td>\n",
       "      <td>2.842867</td>\n",
       "    </tr>\n",
       "    <tr>\n",
       "      <th>2019-06-01</th>\n",
       "      <td>240069</td>\n",
       "      <td>Rotterdam The Hague Airport</td>\n",
       "      <td>217739</td>\n",
       "      <td>10.255398</td>\n",
       "    </tr>\n",
       "    <tr>\n",
       "      <th>2019-07-01</th>\n",
       "      <td>251074</td>\n",
       "      <td>Rotterdam The Hague Airport</td>\n",
       "      <td>230635</td>\n",
       "      <td>8.862055</td>\n",
       "    </tr>\n",
       "    <tr>\n",
       "      <th>2019-08-01</th>\n",
       "      <td>269858</td>\n",
       "      <td>Rotterdam The Hague Airport</td>\n",
       "      <td>232799</td>\n",
       "      <td>15.918883</td>\n",
       "    </tr>\n",
       "    <tr>\n",
       "      <th>2019-09-01</th>\n",
       "      <td>240606</td>\n",
       "      <td>Rotterdam The Hague Airport</td>\n",
       "      <td>223027</td>\n",
       "      <td>7.882005</td>\n",
       "    </tr>\n",
       "    <tr>\n",
       "      <th>2019-10-01</th>\n",
       "      <td>198592</td>\n",
       "      <td>Rotterdam The Hague Airport</td>\n",
       "      <td>193930</td>\n",
       "      <td>2.403960</td>\n",
       "    </tr>\n",
       "    <tr>\n",
       "      <th>2019-11-01</th>\n",
       "      <td>91748</td>\n",
       "      <td>Rotterdam The Hague Airport</td>\n",
       "      <td>73245</td>\n",
       "      <td>25.261793</td>\n",
       "    </tr>\n",
       "    <tr>\n",
       "      <th>2019-12-01</th>\n",
       "      <td>89113</td>\n",
       "      <td>Rotterdam The Hague Airport</td>\n",
       "      <td>72378</td>\n",
       "      <td>23.121667</td>\n",
       "    </tr>\n",
       "    <tr>\n",
       "      <th>2020-01-01</th>\n",
       "      <td>99080</td>\n",
       "      <td>Rotterdam The Hague Airport</td>\n",
       "      <td>89021</td>\n",
       "      <td>11.299581</td>\n",
       "    </tr>\n",
       "    <tr>\n",
       "      <th>2020-02-01</th>\n",
       "      <td>104062</td>\n",
       "      <td>Rotterdam The Hague Airport</td>\n",
       "      <td>88493</td>\n",
       "      <td>17.593482</td>\n",
       "    </tr>\n",
       "    <tr>\n",
       "      <th>2020-03-01</th>\n",
       "      <td>62870</td>\n",
       "      <td>Rotterdam The Hague Airport</td>\n",
       "      <td>121533</td>\n",
       "      <td>-48.269194</td>\n",
       "    </tr>\n",
       "    <tr>\n",
       "      <th>2020-04-01</th>\n",
       "      <td>0</td>\n",
       "      <td>Rotterdam The Hague Airport</td>\n",
       "      <td>144208</td>\n",
       "      <td>-100.000000</td>\n",
       "    </tr>\n",
       "    <tr>\n",
       "      <th>2020-05-01</th>\n",
       "      <td>134</td>\n",
       "      <td>Rotterdam The Hague Airport</td>\n",
       "      <td>221150</td>\n",
       "      <td>-99.939408</td>\n",
       "    </tr>\n",
       "    <tr>\n",
       "      <th>2020-06-01</th>\n",
       "      <td>7971</td>\n",
       "      <td>Rotterdam The Hague Airport</td>\n",
       "      <td>217739</td>\n",
       "      <td>-96.339195</td>\n",
       "    </tr>\n",
       "    <tr>\n",
       "      <th>2020-07-01</th>\n",
       "      <td>78468</td>\n",
       "      <td>Rotterdam The Hague Airport</td>\n",
       "      <td>230635</td>\n",
       "      <td>-65.977410</td>\n",
       "    </tr>\n",
       "    <tr>\n",
       "      <th>2020-08-01</th>\n",
       "      <td>74047</td>\n",
       "      <td>Rotterdam The Hague Airport</td>\n",
       "      <td>232799</td>\n",
       "      <td>-68.192733</td>\n",
       "    </tr>\n",
       "    <tr>\n",
       "      <th>2020-09-01</th>\n",
       "      <td>32047</td>\n",
       "      <td>Rotterdam The Hague Airport</td>\n",
       "      <td>223027</td>\n",
       "      <td>-85.630888</td>\n",
       "    </tr>\n",
       "    <tr>\n",
       "      <th>2020-10-01</th>\n",
       "      <td>21811</td>\n",
       "      <td>Rotterdam The Hague Airport</td>\n",
       "      <td>193930</td>\n",
       "      <td>-88.753158</td>\n",
       "    </tr>\n",
       "    <tr>\n",
       "      <th>2020-11-01</th>\n",
       "      <td>4761</td>\n",
       "      <td>Rotterdam The Hague Airport</td>\n",
       "      <td>73245</td>\n",
       "      <td>-93.499898</td>\n",
       "    </tr>\n",
       "    <tr>\n",
       "      <th>2020-12-01</th>\n",
       "      <td>4590</td>\n",
       "      <td>Rotterdam The Hague Airport</td>\n",
       "      <td>72378</td>\n",
       "      <td>-93.658294</td>\n",
       "    </tr>\n",
       "    <tr>\n",
       "      <th>2021-01-01</th>\n",
       "      <td>3311</td>\n",
       "      <td>Rotterdam The Hague Airport</td>\n",
       "      <td>89021</td>\n",
       "      <td>-96.280653</td>\n",
       "    </tr>\n",
       "    <tr>\n",
       "      <th>2021-02-01</th>\n",
       "      <td>2871</td>\n",
       "      <td>Rotterdam The Hague Airport</td>\n",
       "      <td>88493</td>\n",
       "      <td>-96.755676</td>\n",
       "    </tr>\n",
       "    <tr>\n",
       "      <th>2021-03-01</th>\n",
       "      <td>98</td>\n",
       "      <td>Rotterdam The Hague Airport</td>\n",
       "      <td>121533</td>\n",
       "      <td>-99.919363</td>\n",
       "    </tr>\n",
       "    <tr>\n",
       "      <th>2021-04-01</th>\n",
       "      <td>1945</td>\n",
       "      <td>Rotterdam The Hague Airport</td>\n",
       "      <td>144208</td>\n",
       "      <td>-98.651254</td>\n",
       "    </tr>\n",
       "    <tr>\n",
       "      <th>2021-05-01</th>\n",
       "      <td>8912</td>\n",
       "      <td>Rotterdam The Hague Airport</td>\n",
       "      <td>221150</td>\n",
       "      <td>-95.970156</td>\n",
       "    </tr>\n",
       "    <tr>\n",
       "      <th>2021-06-01</th>\n",
       "      <td>39309</td>\n",
       "      <td>Rotterdam The Hague Airport</td>\n",
       "      <td>217739</td>\n",
       "      <td>-81.946734</td>\n",
       "    </tr>\n",
       "    <tr>\n",
       "      <th>2021-07-01</th>\n",
       "      <td>113882</td>\n",
       "      <td>Rotterdam The Hague Airport</td>\n",
       "      <td>230635</td>\n",
       "      <td>-50.622412</td>\n",
       "    </tr>\n",
       "    <tr>\n",
       "      <th>2021-08-01</th>\n",
       "      <td>181957</td>\n",
       "      <td>Rotterdam The Hague Airport</td>\n",
       "      <td>232799</td>\n",
       "      <td>-21.839441</td>\n",
       "    </tr>\n",
       "    <tr>\n",
       "      <th>2021-09-01</th>\n",
       "      <td>167169</td>\n",
       "      <td>Rotterdam The Hague Airport</td>\n",
       "      <td>223027</td>\n",
       "      <td>-25.045398</td>\n",
       "    </tr>\n",
       "    <tr>\n",
       "      <th>2021-10-01</th>\n",
       "      <td>147368</td>\n",
       "      <td>Rotterdam The Hague Airport</td>\n",
       "      <td>193930</td>\n",
       "      <td>-24.009694</td>\n",
       "    </tr>\n",
       "    <tr>\n",
       "      <th>2021-11-01</th>\n",
       "      <td>48278</td>\n",
       "      <td>Rotterdam The Hague Airport</td>\n",
       "      <td>73245</td>\n",
       "      <td>-34.086968</td>\n",
       "    </tr>\n",
       "    <tr>\n",
       "      <th>2021-12-01</th>\n",
       "      <td>40295</td>\n",
       "      <td>Rotterdam The Hague Airport</td>\n",
       "      <td>72378</td>\n",
       "      <td>-44.327005</td>\n",
       "    </tr>\n",
       "  </tbody>\n",
       "</table>\n",
       "</div>"
      ],
      "text/plain": [
       "            Number of Passengers                     Airports  \\\n",
       "Periods                                                         \n",
       "2018-01-01                 89021  Rotterdam The Hague Airport   \n",
       "2018-02-01                 88493  Rotterdam The Hague Airport   \n",
       "2018-03-01                121533  Rotterdam The Hague Airport   \n",
       "2018-04-01                144208  Rotterdam The Hague Airport   \n",
       "2018-05-01                221150  Rotterdam The Hague Airport   \n",
       "2018-06-01                217739  Rotterdam The Hague Airport   \n",
       "2018-07-01                230635  Rotterdam The Hague Airport   \n",
       "2018-08-01                232799  Rotterdam The Hague Airport   \n",
       "2018-09-01                223027  Rotterdam The Hague Airport   \n",
       "2018-10-01                193930  Rotterdam The Hague Airport   \n",
       "2018-11-01                 73245  Rotterdam The Hague Airport   \n",
       "2018-12-01                 72378  Rotterdam The Hague Airport   \n",
       "2019-01-01                 84056  Rotterdam The Hague Airport   \n",
       "2019-02-01                 95420  Rotterdam The Hague Airport   \n",
       "2019-03-01                137683  Rotterdam The Hague Airport   \n",
       "2019-04-01                169142  Rotterdam The Hague Airport   \n",
       "2019-05-01                227437  Rotterdam The Hague Airport   \n",
       "2019-06-01                240069  Rotterdam The Hague Airport   \n",
       "2019-07-01                251074  Rotterdam The Hague Airport   \n",
       "2019-08-01                269858  Rotterdam The Hague Airport   \n",
       "2019-09-01                240606  Rotterdam The Hague Airport   \n",
       "2019-10-01                198592  Rotterdam The Hague Airport   \n",
       "2019-11-01                 91748  Rotterdam The Hague Airport   \n",
       "2019-12-01                 89113  Rotterdam The Hague Airport   \n",
       "2020-01-01                 99080  Rotterdam The Hague Airport   \n",
       "2020-02-01                104062  Rotterdam The Hague Airport   \n",
       "2020-03-01                 62870  Rotterdam The Hague Airport   \n",
       "2020-04-01                     0  Rotterdam The Hague Airport   \n",
       "2020-05-01                   134  Rotterdam The Hague Airport   \n",
       "2020-06-01                  7971  Rotterdam The Hague Airport   \n",
       "2020-07-01                 78468  Rotterdam The Hague Airport   \n",
       "2020-08-01                 74047  Rotterdam The Hague Airport   \n",
       "2020-09-01                 32047  Rotterdam The Hague Airport   \n",
       "2020-10-01                 21811  Rotterdam The Hague Airport   \n",
       "2020-11-01                  4761  Rotterdam The Hague Airport   \n",
       "2020-12-01                  4590  Rotterdam The Hague Airport   \n",
       "2021-01-01                  3311  Rotterdam The Hague Airport   \n",
       "2021-02-01                  2871  Rotterdam The Hague Airport   \n",
       "2021-03-01                    98  Rotterdam The Hague Airport   \n",
       "2021-04-01                  1945  Rotterdam The Hague Airport   \n",
       "2021-05-01                  8912  Rotterdam The Hague Airport   \n",
       "2021-06-01                 39309  Rotterdam The Hague Airport   \n",
       "2021-07-01                113882  Rotterdam The Hague Airport   \n",
       "2021-08-01                181957  Rotterdam The Hague Airport   \n",
       "2021-09-01                167169  Rotterdam The Hague Airport   \n",
       "2021-10-01                147368  Rotterdam The Hague Airport   \n",
       "2021-11-01                 48278  Rotterdam The Hague Airport   \n",
       "2021-12-01                 40295  Rotterdam The Hague Airport   \n",
       "\n",
       "            Previous number passengers (2018)  Percentage incline/decline  \n",
       "Periods                                                                    \n",
       "2018-01-01                              89021                    0.000000  \n",
       "2018-02-01                              88493                    0.000000  \n",
       "2018-03-01                             121533                    0.000000  \n",
       "2018-04-01                             144208                    0.000000  \n",
       "2018-05-01                             221150                    0.000000  \n",
       "2018-06-01                             217739                    0.000000  \n",
       "2018-07-01                             230635                    0.000000  \n",
       "2018-08-01                             232799                    0.000000  \n",
       "2018-09-01                             223027                    0.000000  \n",
       "2018-10-01                             193930                    0.000000  \n",
       "2018-11-01                              73245                    0.000000  \n",
       "2018-12-01                              72378                    0.000000  \n",
       "2019-01-01                              89021                   -5.577336  \n",
       "2019-02-01                              88493                    7.827738  \n",
       "2019-03-01                             121533                   13.288572  \n",
       "2019-04-01                             144208                   17.290303  \n",
       "2019-05-01                             221150                    2.842867  \n",
       "2019-06-01                             217739                   10.255398  \n",
       "2019-07-01                             230635                    8.862055  \n",
       "2019-08-01                             232799                   15.918883  \n",
       "2019-09-01                             223027                    7.882005  \n",
       "2019-10-01                             193930                    2.403960  \n",
       "2019-11-01                              73245                   25.261793  \n",
       "2019-12-01                              72378                   23.121667  \n",
       "2020-01-01                              89021                   11.299581  \n",
       "2020-02-01                              88493                   17.593482  \n",
       "2020-03-01                             121533                  -48.269194  \n",
       "2020-04-01                             144208                 -100.000000  \n",
       "2020-05-01                             221150                  -99.939408  \n",
       "2020-06-01                             217739                  -96.339195  \n",
       "2020-07-01                             230635                  -65.977410  \n",
       "2020-08-01                             232799                  -68.192733  \n",
       "2020-09-01                             223027                  -85.630888  \n",
       "2020-10-01                             193930                  -88.753158  \n",
       "2020-11-01                              73245                  -93.499898  \n",
       "2020-12-01                              72378                  -93.658294  \n",
       "2021-01-01                              89021                  -96.280653  \n",
       "2021-02-01                              88493                  -96.755676  \n",
       "2021-03-01                             121533                  -99.919363  \n",
       "2021-04-01                             144208                  -98.651254  \n",
       "2021-05-01                             221150                  -95.970156  \n",
       "2021-06-01                             217739                  -81.946734  \n",
       "2021-07-01                             230635                  -50.622412  \n",
       "2021-08-01                             232799                  -21.839441  \n",
       "2021-09-01                             223027                  -25.045398  \n",
       "2021-10-01                             193930                  -24.009694  \n",
       "2021-11-01                              73245                  -34.086968  \n",
       "2021-12-01                              72378                  -44.327005  "
      ]
     },
     "execution_count": 62,
     "metadata": {},
     "output_type": "execute_result"
    }
   ],
   "source": [
    "#What unique values are in Airports column\n",
    "at_df_timespan['Airports'].unique()\n",
    "\n",
    "#Create 6 dataframes to work with\n",
    "#Extract column: Commercial air traffic/Passengers/Total passengers/Total passengers (number)\n",
    "at_df_total = at_df_timespan[at_df_timespan['Airports'] == 'Total Dutch airports']\n",
    "at_df_total = at_df_total[['Commercial air traffic/Passengers/Total passengers/Total passengers (number)', 'Periods', 'Airports']]\n",
    "\n",
    "at_df_schiphol = at_df_timespan[at_df_timespan['Airports'] == 'Amsterdam Airport Schiphol']\n",
    "at_df_schiphol = at_df_schiphol[['Commercial air traffic/Passengers/Total passengers/Total passengers (number)', 'Periods', 'Airports']]\n",
    "\n",
    "at_df_rotterdam = at_df_timespan[at_df_timespan['Airports'] == 'Rotterdam The Hague Airport']\n",
    "at_df_rotterdam = at_df_rotterdam[['Commercial air traffic/Passengers/Total passengers/Total passengers (number)', 'Periods', 'Airports']]\n",
    "\n",
    "at_df_eindhoven = at_df_timespan[at_df_timespan['Airports'] == 'Eindhoven Airport']\n",
    "at_df_eindhoven = at_df_eindhoven[['Commercial air traffic/Passengers/Total passengers/Total passengers (number)', 'Periods', 'Airports']]\n",
    "\n",
    "at_df_maastricht = at_df_timespan[at_df_timespan['Airports'] == 'Maastricht Aachen Airport']\n",
    "at_df_maastricht = at_df_maastricht[['Commercial air traffic/Passengers/Total passengers/Total passengers (number)', 'Periods', 'Airports']]\n",
    "\n",
    "at_df_groningen = at_df_timespan[at_df_timespan['Airports'] == 'Groningen Airport Eelde']\n",
    "at_df_groningen = at_df_groningen[['Commercial air traffic/Passengers/Total passengers/Total passengers (number)', 'Periods', 'Airports']]\n",
    "\n",
    "\n",
    "#Rename all passenger columns to shorter name \n",
    "at_df_total = at_df_total.rename(columns={'Commercial air traffic/Passengers/Total passengers/Total passengers (number)': 'Number of Passengers'})\n",
    "at_df_schiphol = at_df_schiphol.rename(columns={'Commercial air traffic/Passengers/Total passengers/Total passengers (number)': 'Number of Passengers'})\n",
    "at_df_rotterdam = at_df_rotterdam.rename(columns={'Commercial air traffic/Passengers/Total passengers/Total passengers (number)': 'Number of Passengers'})\n",
    "at_df_eindhoven = at_df_eindhoven.rename(columns={'Commercial air traffic/Passengers/Total passengers/Total passengers (number)': 'Number of Passengers'})\n",
    "at_df_maastricht = at_df_maastricht.rename(columns={'Commercial air traffic/Passengers/Total passengers/Total passengers (number)': 'Number of Passengers'})\n",
    "at_df_groningen = at_df_groningen.rename(columns={'Commercial air traffic/Passengers/Total passengers/Total passengers (number)': 'Number of Passengers'})\n",
    "\n",
    "\n",
    "#CREATE BASE YEAR COLUMN \n",
    "\n",
    "#Create list of 2018 number of passengers\n",
    "total_base_year_2018 = at_df_total['Number of Passengers'].to_list()\n",
    "total_base_year_2018 = total_base_year_2018[0:12]\n",
    "total_base_year = []\n",
    "\n",
    "schiphol_base_year_2018 = at_df_schiphol['Number of Passengers'].to_list()\n",
    "schiphol_base_year_2018 = schiphol_base_year_2018[0:12]\n",
    "schiphol_base_year = []\n",
    "\n",
    "rotterdam_base_year_2018 = at_df_rotterdam['Number of Passengers'].to_list()\n",
    "rotterdam_base_year_2018 = rotterdam_base_year_2018[0:12]\n",
    "rotterdam_base_year = []\n",
    "\n",
    "eindhoven_base_year_2018 = at_df_eindhoven['Number of Passengers'].to_list()\n",
    "eindhoven_base_year_2018 = eindhoven_base_year_2018[0:12]\n",
    "eindhoven_base_year = []\n",
    "\n",
    "maastricht_base_year_2018 = at_df_maastricht['Number of Passengers'].to_list()\n",
    "maastricht_base_year_2018 = maastricht_base_year_2018[0:12]\n",
    "maastricht_base_year = []\n",
    "\n",
    "groningen_base_year_2018 = at_df_groningen['Number of Passengers'].to_list()\n",
    "groningen_base_year_2018 = groningen_base_year_2018[0:12]\n",
    "groningen_base_year = []\n",
    "\n",
    "#Create 5 times base year list\n",
    "total_base_year = total_base_year_2018 * 5\n",
    "schiphol_base_year = schiphol_base_year_2018 * 5\n",
    "rotterdam_base_year = rotterdam_base_year_2018 * 5 \n",
    "eindhoven_base_year = eindhoven_base_year_2018 * 5\n",
    "maastricht_base_year = maastricht_base_year_2018 * 5\n",
    "groningen_base_year = groningen_base_year_2018 * 5\n",
    "\n",
    "#Strip elements from base year\n",
    "#Base year needs to have the same length as dataframe column \n",
    "total_base_year = total_base_year[: len(at_df_total.index)]\n",
    "schiphol_base_year = schiphol_base_year[: len(at_df_schiphol.index)]\n",
    "rotterdam_base_year = rotterdam_base_year[: len(at_df_rotterdam.index)]\n",
    "eindhoven_base_year = eindhoven_base_year[: len(at_df_eindhoven.index)]\n",
    "maastricht_base_year = maastricht_base_year[: len(at_df_maastricht.index)]\n",
    "groningen_base_year = groningen_base_year[: len(at_df_groningen.index)]\n",
    "\n",
    "\n",
    "#Create column in dataframe with this base year\n",
    "at_df_total['Previous number passengers (2018)'] = total_base_year\n",
    "at_df_schiphol['Previous number passengers (2018)'] = schiphol_base_year\n",
    "at_df_rotterdam['Previous number passengers (2018)'] = rotterdam_base_year\n",
    "at_df_eindhoven['Previous number passengers (2018)'] = eindhoven_base_year\n",
    "at_df_maastricht['Previous number passengers (2018)'] = maastricht_base_year\n",
    "at_df_groningen['Previous number passengers (2018)'] = groningen_base_year\n",
    "\n",
    "#Create percentage column \n",
    "at_df_total['Percentage incline/decline'] = ((at_df_total['Number of Passengers'] - at_df_total['Previous number passengers (2018)'])/at_df_total['Previous number passengers (2018)'])*100\n",
    "at_df_schiphol['Percentage incline/decline'] = ((at_df_schiphol['Number of Passengers'] - at_df_schiphol['Previous number passengers (2018)'])/at_df_schiphol['Previous number passengers (2018)'])*100\n",
    "at_df_rotterdam['Percentage incline/decline'] = ((at_df_rotterdam['Number of Passengers'] - at_df_rotterdam['Previous number passengers (2018)'])/at_df_rotterdam['Previous number passengers (2018)'])*100\n",
    "at_df_eindhoven['Percentage incline/decline'] = ((at_df_eindhoven['Number of Passengers'] - at_df_eindhoven['Previous number passengers (2018)'])/at_df_eindhoven['Previous number passengers (2018)'])*100\n",
    "at_df_maastricht['Percentage incline/decline'] = ((at_df_maastricht['Number of Passengers'] - at_df_maastricht['Previous number passengers (2018)'])/at_df_maastricht['Previous number passengers (2018)'])*100\n",
    "at_df_groningen['Percentage incline/decline'] = ((at_df_groningen['Number of Passengers'] - at_df_groningen['Previous number passengers (2018)'])/at_df_groningen['Previous number passengers (2018)'])*100\n",
    "\n",
    "#Set index to periods to make plotting easier\n",
    "at_df_total = at_df_total.set_index('Periods')\n",
    "at_df_schiphol = at_df_schiphol.set_index('Periods')\n",
    "at_df_rotterdam = at_df_rotterdam.set_index('Periods')\n",
    "at_df_eindhoven = at_df_eindhoven.set_index('Periods')\n",
    "at_df_maastricht = at_df_maastricht.set_index('Periods')\n",
    "at_df_groningen = at_df_groningen.set_index('Periods')\n",
    "\n",
    "#at_df_eindhoven.head(56)\n",
    "at_df_rotterdam.head(48)\n",
    "\n",
    "\n",
    "#Concat all 6 dataframes into 1 dataframe\n",
    "#at_df_complete = pd.concat([at_df_total, at_df_schiphol, at_df_rotterdam, at_df_eindhoven, at_df_maastricht, at_df_groningen])\n",
    "#at_df_complete.head(36)"
   ]
  },
  {
   "cell_type": "code",
   "execution_count": 61,
   "metadata": {},
   "outputs": [
    {
     "data": {
      "application/vnd.plotly.v1+json": {
       "config": {
        "plotlyServerURL": "https://plot.ly"
       },
       "data": [
        {
         "hovertemplate": "Airports=Total Dutch airports<br>Periods=%{x}<br>Percentage incline/decline=%{y}<extra></extra>",
         "legendgroup": "Total Dutch airports",
         "line": {
          "color": "#636efa",
          "dash": "solid"
         },
         "marker": {
          "symbol": "circle"
         },
         "mode": "lines",
         "name": "Total Dutch airports",
         "orientation": "v",
         "showlegend": true,
         "type": "scatter",
         "x": [
          "2018-01-01T00:00:00",
          "2018-02-01T00:00:00",
          "2018-03-01T00:00:00",
          "2018-04-01T00:00:00",
          "2018-05-01T00:00:00",
          "2018-06-01T00:00:00",
          "2018-07-01T00:00:00",
          "2018-08-01T00:00:00",
          "2018-09-01T00:00:00",
          "2018-10-01T00:00:00",
          "2018-11-01T00:00:00",
          "2018-12-01T00:00:00",
          "2019-01-01T00:00:00",
          "2019-02-01T00:00:00",
          "2019-03-01T00:00:00",
          "2019-04-01T00:00:00",
          "2019-05-01T00:00:00",
          "2019-06-01T00:00:00",
          "2019-07-01T00:00:00",
          "2019-08-01T00:00:00",
          "2019-09-01T00:00:00",
          "2019-10-01T00:00:00",
          "2019-11-01T00:00:00",
          "2019-12-01T00:00:00",
          "2020-01-01T00:00:00",
          "2020-02-01T00:00:00",
          "2020-03-01T00:00:00",
          "2020-04-01T00:00:00",
          "2020-05-01T00:00:00",
          "2020-06-01T00:00:00",
          "2020-07-01T00:00:00",
          "2020-08-01T00:00:00",
          "2020-09-01T00:00:00",
          "2020-10-01T00:00:00",
          "2020-11-01T00:00:00",
          "2020-12-01T00:00:00",
          "2021-01-01T00:00:00",
          "2021-02-01T00:00:00",
          "2021-03-01T00:00:00",
          "2021-04-01T00:00:00",
          "2021-05-01T00:00:00",
          "2021-06-01T00:00:00",
          "2021-07-01T00:00:00",
          "2021-08-01T00:00:00",
          "2021-09-01T00:00:00",
          "2021-10-01T00:00:00",
          "2021-11-01T00:00:00",
          "2021-12-01T00:00:00",
          "2022-01-01T00:00:00",
          "2022-02-01T00:00:00",
          "2022-03-01T00:00:00",
          "2022-04-01T00:00:00",
          "2022-05-01T00:00:00",
          "2022-06-01T00:00:00",
          "2022-07-01T00:00:00",
          "2022-08-01T00:00:00"
         ],
         "xaxis": "x",
         "y": [
          0,
          0,
          0,
          0,
          0,
          0,
          0,
          0,
          0,
          0,
          0,
          0,
          1.5552498762220475,
          2.195202098167941,
          1.9443564307181687,
          2.9025828684853496,
          1.8631121476652677,
          3.2835826672708666,
          0.501423938416695,
          0.935256612196825,
          2.6325638399815747,
          1.2608534556813584,
          1.4342492298211063,
          3.4105227744316755,
          3.407012402190468,
          0.8452587778011358,
          -54.910263661306345,
          -98.01280551265509,
          -96.96874009783153,
          -92.72106550825389,
          -78.02155441680931,
          -71.19505953343376,
          -78.7883735627693,
          -82.05751544966465,
          -83.36815137074265,
          -77.25764400797678,
          -83.1891705980836,
          -90.07458188149651,
          -88.99973289708149,
          -87.84856541560715,
          -83.89250016559558,
          -74.14459276347748,
          -54.29929293868256,
          -42.47603553422898,
          -44.97873028798765,
          -39.47296207140545,
          -39.80334156649803,
          -44.12241836024649,
          -47.66862216426512,
          -41.95148253948433,
          -31.043179145748617,
          -23.623340531698435,
          -16.106673577843765,
          -15.417596214219733,
          -19.238464343684974,
          -18.07795487471928
         ],
         "yaxis": "y"
        },
        {
         "hovertemplate": "Airports=Amsterdam Airport Schiphol<br>Periods=%{x}<br>Percentage incline/decline=%{y}<extra></extra>",
         "legendgroup": "Amsterdam Airport Schiphol",
         "line": {
          "color": "#EF553B",
          "dash": "solid"
         },
         "marker": {
          "symbol": "circle"
         },
         "mode": "lines",
         "name": "Amsterdam Airport Schiphol",
         "orientation": "v",
         "showlegend": true,
         "type": "scatter",
         "x": [
          "2018-01-01T00:00:00",
          "2018-02-01T00:00:00",
          "2018-03-01T00:00:00",
          "2018-04-01T00:00:00",
          "2018-05-01T00:00:00",
          "2018-06-01T00:00:00",
          "2018-07-01T00:00:00",
          "2018-08-01T00:00:00",
          "2018-09-01T00:00:00",
          "2018-10-01T00:00:00",
          "2018-11-01T00:00:00",
          "2018-12-01T00:00:00",
          "2019-01-01T00:00:00",
          "2019-02-01T00:00:00",
          "2019-03-01T00:00:00",
          "2019-04-01T00:00:00",
          "2019-05-01T00:00:00",
          "2019-06-01T00:00:00",
          "2019-07-01T00:00:00",
          "2019-08-01T00:00:00",
          "2019-09-01T00:00:00",
          "2019-10-01T00:00:00",
          "2019-11-01T00:00:00",
          "2019-12-01T00:00:00",
          "2020-01-01T00:00:00",
          "2020-02-01T00:00:00",
          "2020-03-01T00:00:00",
          "2020-04-01T00:00:00",
          "2020-05-01T00:00:00",
          "2020-06-01T00:00:00",
          "2020-07-01T00:00:00",
          "2020-08-01T00:00:00",
          "2020-09-01T00:00:00",
          "2020-10-01T00:00:00",
          "2020-11-01T00:00:00",
          "2020-12-01T00:00:00",
          "2021-01-01T00:00:00",
          "2021-02-01T00:00:00",
          "2021-03-01T00:00:00",
          "2021-04-01T00:00:00",
          "2021-05-01T00:00:00",
          "2021-06-01T00:00:00",
          "2021-07-01T00:00:00",
          "2021-08-01T00:00:00",
          "2021-09-01T00:00:00",
          "2021-10-01T00:00:00",
          "2021-11-01T00:00:00",
          "2021-12-01T00:00:00",
          "2022-01-01T00:00:00",
          "2022-02-01T00:00:00",
          "2022-03-01T00:00:00",
          "2022-04-01T00:00:00",
          "2022-05-01T00:00:00",
          "2022-06-01T00:00:00",
          "2022-07-01T00:00:00",
          "2022-08-01T00:00:00"
         ],
         "xaxis": "x",
         "y": [
          0,
          0,
          0,
          0,
          0,
          0,
          0,
          0,
          0,
          0,
          0,
          0,
          1.7751516656484663,
          1.9934598758363373,
          1.274549164522572,
          1.4475025823033898,
          0.7434700628845831,
          1.9631062410611986,
          -0.6057793905221638,
          -0.37897115963507366,
          1.5089714769874345,
          0.45033886312553795,
          0.4977021651922628,
          2.394352059805477,
          3.3771515886468677,
          -0.46473854054763103,
          -55.45657704638727,
          -97.90565430955897,
          -96.74962339316502,
          -92.60810804665793,
          -80.20907304711127,
          -72.87002966942376,
          -79.08779822852802,
          -82.13946884630343,
          -83.00087427786178,
          -76.55924980048492,
          -82.29515283085784,
          -89.34595805901802,
          -88.1251690812914,
          -86.92599114330184,
          -82.69078702070212,
          -73.68415275646333,
          -55.21139381440129,
          -44.60791426466811,
          -47.31535703008001,
          -41.48982629652828,
          -41.554534379546844,
          -45.711537883912065,
          -49.31577561082332,
          -43.88897394790086,
          -32.87026644333546,
          -26.297994902703465,
          -18.406518301090284,
          -17.95032860606207,
          -23.43352642511372,
          -22.076646108893982
         ],
         "yaxis": "y"
        },
        {
         "hovertemplate": "Airports=Rotterdam The Hague Airport<br>Periods=%{x}<br>Percentage incline/decline=%{y}<extra></extra>",
         "legendgroup": "Rotterdam The Hague Airport",
         "line": {
          "color": "#00cc96",
          "dash": "solid"
         },
         "marker": {
          "symbol": "circle"
         },
         "mode": "lines",
         "name": "Rotterdam The Hague Airport",
         "orientation": "v",
         "showlegend": true,
         "type": "scatter",
         "x": [
          "2018-01-01T00:00:00",
          "2018-02-01T00:00:00",
          "2018-03-01T00:00:00",
          "2018-04-01T00:00:00",
          "2018-05-01T00:00:00",
          "2018-06-01T00:00:00",
          "2018-07-01T00:00:00",
          "2018-08-01T00:00:00",
          "2018-09-01T00:00:00",
          "2018-10-01T00:00:00",
          "2018-11-01T00:00:00",
          "2018-12-01T00:00:00",
          "2019-01-01T00:00:00",
          "2019-02-01T00:00:00",
          "2019-03-01T00:00:00",
          "2019-04-01T00:00:00",
          "2019-05-01T00:00:00",
          "2019-06-01T00:00:00",
          "2019-07-01T00:00:00",
          "2019-08-01T00:00:00",
          "2019-09-01T00:00:00",
          "2019-10-01T00:00:00",
          "2019-11-01T00:00:00",
          "2019-12-01T00:00:00",
          "2020-01-01T00:00:00",
          "2020-02-01T00:00:00",
          "2020-03-01T00:00:00",
          "2020-04-01T00:00:00",
          "2020-05-01T00:00:00",
          "2020-06-01T00:00:00",
          "2020-07-01T00:00:00",
          "2020-08-01T00:00:00",
          "2020-09-01T00:00:00",
          "2020-10-01T00:00:00",
          "2020-11-01T00:00:00",
          "2020-12-01T00:00:00",
          "2021-01-01T00:00:00",
          "2021-02-01T00:00:00",
          "2021-03-01T00:00:00",
          "2021-04-01T00:00:00",
          "2021-05-01T00:00:00",
          "2021-06-01T00:00:00",
          "2021-07-01T00:00:00",
          "2021-08-01T00:00:00",
          "2021-09-01T00:00:00",
          "2021-10-01T00:00:00",
          "2021-11-01T00:00:00",
          "2021-12-01T00:00:00",
          "2022-01-01T00:00:00",
          "2022-02-01T00:00:00",
          "2022-03-01T00:00:00",
          "2022-04-01T00:00:00",
          "2022-05-01T00:00:00",
          "2022-06-01T00:00:00",
          "2022-07-01T00:00:00",
          "2022-08-01T00:00:00"
         ],
         "xaxis": "x",
         "y": [
          0,
          0,
          0,
          0,
          0,
          0,
          0,
          0,
          0,
          0,
          0,
          0,
          -5.577335684838409,
          7.827737787169607,
          13.288571828227724,
          17.290302895817153,
          2.8428668324666515,
          10.255397517210971,
          8.862054761853145,
          15.918882813070503,
          7.882005317741799,
          2.403960191821791,
          25.2617926138303,
          23.121666804830195,
          11.299580997742106,
          17.593481970325335,
          -48.269194375190274,
          -100,
          -99.93940764187204,
          -96.33919509137087,
          -65.97741019359594,
          -68.19273278665287,
          -85.63088774004942,
          -88.75315835610787,
          -93.49989760393201,
          -93.65829395672718,
          -96.28065287965761,
          -96.75567559015967,
          -99.91936346506711,
          -98.65125374459114,
          -95.9701560027131,
          -81.94673439301182,
          -50.62241203633447,
          -21.83944089106912,
          -25.045398090814118,
          -24.00969421956376,
          -34.086968393747014,
          -44.327005443643095,
          -33.832466496669326,
          -28.231611539895813,
          -16.760879761052554,
          -3.3978697437035397,
          1.6115758534931042,
          2.907150303804096,
          35.48160513365274,
          31.173673426432245
         ],
         "yaxis": "y"
        },
        {
         "hovertemplate": "Airports=Eindhoven Airport<br>Periods=%{x}<br>Percentage incline/decline=%{y}<extra></extra>",
         "legendgroup": "Eindhoven Airport",
         "line": {
          "color": "#ab63fa",
          "dash": "solid"
         },
         "marker": {
          "symbol": "circle"
         },
         "mode": "lines",
         "name": "Eindhoven Airport",
         "orientation": "v",
         "showlegend": true,
         "type": "scatter",
         "x": [
          "2018-01-01T00:00:00",
          "2018-02-01T00:00:00",
          "2018-03-01T00:00:00",
          "2018-04-01T00:00:00",
          "2018-05-01T00:00:00",
          "2018-06-01T00:00:00",
          "2018-07-01T00:00:00",
          "2018-08-01T00:00:00",
          "2018-09-01T00:00:00",
          "2018-10-01T00:00:00",
          "2018-11-01T00:00:00",
          "2018-12-01T00:00:00",
          "2019-01-01T00:00:00",
          "2019-02-01T00:00:00",
          "2019-03-01T00:00:00",
          "2019-04-01T00:00:00",
          "2019-05-01T00:00:00",
          "2019-06-01T00:00:00",
          "2019-07-01T00:00:00",
          "2019-08-01T00:00:00",
          "2019-09-01T00:00:00",
          "2019-10-01T00:00:00",
          "2019-11-01T00:00:00",
          "2019-12-01T00:00:00",
          "2020-01-01T00:00:00",
          "2020-02-01T00:00:00",
          "2020-03-01T00:00:00",
          "2020-04-01T00:00:00",
          "2020-05-01T00:00:00",
          "2020-06-01T00:00:00",
          "2020-07-01T00:00:00",
          "2020-08-01T00:00:00",
          "2020-09-01T00:00:00",
          "2020-10-01T00:00:00",
          "2020-11-01T00:00:00",
          "2020-12-01T00:00:00",
          "2021-01-01T00:00:00",
          "2021-02-01T00:00:00",
          "2021-03-01T00:00:00",
          "2021-04-01T00:00:00",
          "2021-05-01T00:00:00",
          "2021-06-01T00:00:00",
          "2021-07-01T00:00:00",
          "2021-08-01T00:00:00",
          "2021-09-01T00:00:00",
          "2021-10-01T00:00:00",
          "2021-11-01T00:00:00",
          "2021-12-01T00:00:00",
          "2022-01-01T00:00:00",
          "2022-02-01T00:00:00",
          "2022-03-01T00:00:00",
          "2022-04-01T00:00:00",
          "2022-05-01T00:00:00",
          "2022-06-01T00:00:00",
          "2022-07-01T00:00:00",
          "2022-08-01T00:00:00"
         ],
         "xaxis": "x",
         "y": [
          0,
          0,
          0,
          0,
          0,
          0,
          0,
          0,
          0,
          0,
          0,
          0,
          0.600870659576125,
          3.0225399409789357,
          7.575040368068304,
          12.888275061051878,
          12.002997676629901,
          12.659958269521333,
          6.72269715956826,
          7.153442915937724,
          9.290296992365096,
          8.049045121185175,
          9.106311092015194,
          12.762607865372752,
          0.7289827149205328,
          11.638343339778162,
          -50.21544382755646,
          -98.5608136279707,
          -97.93303709368763,
          -91.98726843524409,
          -58.712249963123774,
          -53.58057593797591,
          -72.14325074244027,
          -78.29076284252862,
          -85.9050162586542,
          -82.96578258231814,
          -90.92464247944555,
          -97.12170550524067,
          -96.46088168285077,
          -94.82455030079218,
          -91.15753678384806,
          -74.71365970816073,
          -44.716437820262044,
          -24.235711678602446,
          -26.279866255093864,
          -21.68998458162358,
          -16.59749821789526,
          -21.603792662978787,
          -30.903390950264892,
          -21.31805230487433,
          -11.129421132960251,
          1.701448865328489,
          5.761991986848463,
          8.21487427751111,
          6.242985499624824,
          6.800246686720452
         ],
         "yaxis": "y"
        },
        {
         "hovertemplate": "Airports=Maastricht Aachen Airport<br>Periods=%{x}<br>Percentage incline/decline=%{y}<extra></extra>",
         "legendgroup": "Maastricht Aachen Airport",
         "line": {
          "color": "#FFA15A",
          "dash": "solid"
         },
         "marker": {
          "symbol": "circle"
         },
         "mode": "lines",
         "name": "Maastricht Aachen Airport",
         "orientation": "v",
         "showlegend": true,
         "type": "scatter",
         "x": [
          "2018-01-01T00:00:00",
          "2018-02-01T00:00:00",
          "2018-03-01T00:00:00",
          "2018-04-01T00:00:00",
          "2018-05-01T00:00:00",
          "2018-06-01T00:00:00",
          "2018-07-01T00:00:00",
          "2018-08-01T00:00:00",
          "2018-09-01T00:00:00",
          "2018-10-01T00:00:00",
          "2018-11-01T00:00:00",
          "2018-12-01T00:00:00",
          "2019-01-01T00:00:00",
          "2019-02-01T00:00:00",
          "2019-03-01T00:00:00",
          "2019-04-01T00:00:00",
          "2019-05-01T00:00:00",
          "2019-06-01T00:00:00",
          "2019-07-01T00:00:00",
          "2019-08-01T00:00:00",
          "2019-09-01T00:00:00",
          "2019-10-01T00:00:00",
          "2019-11-01T00:00:00",
          "2019-12-01T00:00:00",
          "2020-01-01T00:00:00",
          "2020-02-01T00:00:00",
          "2020-03-01T00:00:00",
          "2020-04-01T00:00:00",
          "2020-05-01T00:00:00",
          "2020-06-01T00:00:00",
          "2020-07-01T00:00:00",
          "2020-08-01T00:00:00",
          "2020-09-01T00:00:00",
          "2020-10-01T00:00:00",
          "2020-11-01T00:00:00",
          "2020-12-01T00:00:00",
          "2021-01-01T00:00:00",
          "2021-02-01T00:00:00",
          "2021-03-01T00:00:00",
          "2021-04-01T00:00:00",
          "2021-05-01T00:00:00",
          "2021-06-01T00:00:00",
          "2021-07-01T00:00:00",
          "2021-08-01T00:00:00",
          "2021-09-01T00:00:00",
          "2021-10-01T00:00:00",
          "2021-11-01T00:00:00",
          "2021-12-01T00:00:00",
          "2022-01-01T00:00:00",
          "2022-02-01T00:00:00",
          "2022-03-01T00:00:00",
          "2022-04-01T00:00:00",
          "2022-05-01T00:00:00",
          "2022-06-01T00:00:00",
          "2022-07-01T00:00:00",
          "2022-08-01T00:00:00"
         ],
         "xaxis": "x",
         "y": [
          0,
          0,
          0,
          0,
          0,
          0,
          0,
          0,
          0,
          0,
          0,
          0,
          86.85331710286061,
          125.57908669755129,
          25.663395129043987,
          87.64662127367397,
          44.49997094543553,
          59.902872296239494,
          49.487520370529204,
          43.83295625942685,
          69.56646158248677,
          42.28944612161912,
          118.4643995749203,
          184.35794834485267,
          359.98174071819847,
          374.9834546657842,
          31.624863685932386,
          -99.97139097099044,
          -99.98837817421116,
          -98.75714879069619,
          -72.22746376190068,
          -68.29185520361992,
          -84.22950350550865,
          -85.49072761998644,
          -71.58607863974495,
          -66.51509639869043,
          -68.07668898356664,
          -85.17538054268697,
          -93.22064703744093,
          -91.56605824798307,
          -93.54117031785694,
          -85.76951340298412,
          -51.97058066729565,
          -54.37594268476621,
          -53.172127629131495,
          -45.08656275029265,
          -50.265674814027626,
          -43.743179337941065,
          78.94096165550822,
          8.802117802779616,
          -38.73137041075972,
          -11.964295931796075,
          -36.02475448893021,
          -33.77424198856194,
          -1.8397804271378333,
          1.8080693815987936
         ],
         "yaxis": "y"
        },
        {
         "hovertemplate": "Airports=Groningen Airport Eelde<br>Periods=%{x}<br>Percentage incline/decline=%{y}<extra></extra>",
         "legendgroup": "Groningen Airport Eelde",
         "line": {
          "color": "#19d3f3",
          "dash": "solid"
         },
         "marker": {
          "symbol": "circle"
         },
         "mode": "lines",
         "name": "Groningen Airport Eelde",
         "orientation": "v",
         "showlegend": true,
         "type": "scatter",
         "x": [
          "2018-01-01T00:00:00",
          "2018-02-01T00:00:00",
          "2018-03-01T00:00:00",
          "2018-04-01T00:00:00",
          "2018-05-01T00:00:00",
          "2018-06-01T00:00:00",
          "2018-07-01T00:00:00",
          "2018-08-01T00:00:00",
          "2018-09-01T00:00:00",
          "2018-10-01T00:00:00",
          "2018-11-01T00:00:00",
          "2018-12-01T00:00:00",
          "2019-01-01T00:00:00",
          "2019-02-01T00:00:00",
          "2019-03-01T00:00:00",
          "2019-04-01T00:00:00",
          "2019-05-01T00:00:00",
          "2019-06-01T00:00:00",
          "2019-07-01T00:00:00",
          "2019-08-01T00:00:00",
          "2019-09-01T00:00:00",
          "2019-10-01T00:00:00",
          "2019-11-01T00:00:00",
          "2019-12-01T00:00:00",
          "2020-01-01T00:00:00",
          "2020-02-01T00:00:00",
          "2020-03-01T00:00:00",
          "2020-04-01T00:00:00",
          "2020-05-01T00:00:00",
          "2020-06-01T00:00:00",
          "2020-07-01T00:00:00",
          "2020-08-01T00:00:00",
          "2020-09-01T00:00:00",
          "2020-10-01T00:00:00",
          "2020-11-01T00:00:00",
          "2020-12-01T00:00:00",
          "2021-01-01T00:00:00",
          "2021-02-01T00:00:00",
          "2021-03-01T00:00:00",
          "2021-04-01T00:00:00",
          "2021-05-01T00:00:00",
          "2021-06-01T00:00:00",
          "2021-07-01T00:00:00",
          "2021-08-01T00:00:00",
          "2021-09-01T00:00:00",
          "2021-10-01T00:00:00",
          "2021-11-01T00:00:00",
          "2021-12-01T00:00:00",
          "2022-01-01T00:00:00",
          "2022-02-01T00:00:00",
          "2022-03-01T00:00:00",
          "2022-04-01T00:00:00",
          "2022-05-01T00:00:00",
          "2022-06-01T00:00:00",
          "2022-07-01T00:00:00",
          "2022-08-01T00:00:00"
         ],
         "xaxis": "x",
         "y": [
          0,
          0,
          0,
          0,
          0,
          0,
          0,
          0,
          0,
          0,
          0,
          0,
          -28.400208441896822,
          -19.752973467520583,
          -24.313818816436616,
          -8.25082508250825,
          -15.76812253563846,
          -11.206568200093106,
          -22.942594897324206,
          -24.710546628306783,
          -14.573815697411202,
          -23.50887127217818,
          -51.71665351223362,
          -49.11800705594355,
          -54.05593190898037,
          -58.032936870997254,
          -84.14247183880693,
          -100,
          -99.8218077039733,
          -100,
          -89.40961418792782,
          -92.17247912427197,
          -97.57583240729308,
          -99.70743676859192,
          -100,
          -100,
          -100,
          -100,
          -100,
          -100,
          -100,
          -97.06293114393331,
          -83.98024268823896,
          -84.29934741421654,
          -74.43305757912499,
          -77.37825594563986,
          -77.27571691660089,
          -74.72100223198214,
          -68.16050026055237,
          -68.56358645928637,
          -73.7743931461209,
          -66.25580925439482,
          -66.84106763724597,
          -60.21837572474502,
          -55.997199751088985,
          -53.02084064276191
         ],
         "yaxis": "y"
        }
       ],
       "layout": {
        "legend": {
         "title": {
          "text": "Airports"
         },
         "tracegroupgap": 0
        },
        "template": {
         "data": {
          "bar": [
           {
            "error_x": {
             "color": "#2a3f5f"
            },
            "error_y": {
             "color": "#2a3f5f"
            },
            "marker": {
             "line": {
              "color": "#E5ECF6",
              "width": 0.5
             },
             "pattern": {
              "fillmode": "overlay",
              "size": 10,
              "solidity": 0.2
             }
            },
            "type": "bar"
           }
          ],
          "barpolar": [
           {
            "marker": {
             "line": {
              "color": "#E5ECF6",
              "width": 0.5
             },
             "pattern": {
              "fillmode": "overlay",
              "size": 10,
              "solidity": 0.2
             }
            },
            "type": "barpolar"
           }
          ],
          "carpet": [
           {
            "aaxis": {
             "endlinecolor": "#2a3f5f",
             "gridcolor": "white",
             "linecolor": "white",
             "minorgridcolor": "white",
             "startlinecolor": "#2a3f5f"
            },
            "baxis": {
             "endlinecolor": "#2a3f5f",
             "gridcolor": "white",
             "linecolor": "white",
             "minorgridcolor": "white",
             "startlinecolor": "#2a3f5f"
            },
            "type": "carpet"
           }
          ],
          "choropleth": [
           {
            "colorbar": {
             "outlinewidth": 0,
             "ticks": ""
            },
            "type": "choropleth"
           }
          ],
          "contour": [
           {
            "colorbar": {
             "outlinewidth": 0,
             "ticks": ""
            },
            "colorscale": [
             [
              0,
              "#0d0887"
             ],
             [
              0.1111111111111111,
              "#46039f"
             ],
             [
              0.2222222222222222,
              "#7201a8"
             ],
             [
              0.3333333333333333,
              "#9c179e"
             ],
             [
              0.4444444444444444,
              "#bd3786"
             ],
             [
              0.5555555555555556,
              "#d8576b"
             ],
             [
              0.6666666666666666,
              "#ed7953"
             ],
             [
              0.7777777777777778,
              "#fb9f3a"
             ],
             [
              0.8888888888888888,
              "#fdca26"
             ],
             [
              1,
              "#f0f921"
             ]
            ],
            "type": "contour"
           }
          ],
          "contourcarpet": [
           {
            "colorbar": {
             "outlinewidth": 0,
             "ticks": ""
            },
            "type": "contourcarpet"
           }
          ],
          "heatmap": [
           {
            "colorbar": {
             "outlinewidth": 0,
             "ticks": ""
            },
            "colorscale": [
             [
              0,
              "#0d0887"
             ],
             [
              0.1111111111111111,
              "#46039f"
             ],
             [
              0.2222222222222222,
              "#7201a8"
             ],
             [
              0.3333333333333333,
              "#9c179e"
             ],
             [
              0.4444444444444444,
              "#bd3786"
             ],
             [
              0.5555555555555556,
              "#d8576b"
             ],
             [
              0.6666666666666666,
              "#ed7953"
             ],
             [
              0.7777777777777778,
              "#fb9f3a"
             ],
             [
              0.8888888888888888,
              "#fdca26"
             ],
             [
              1,
              "#f0f921"
             ]
            ],
            "type": "heatmap"
           }
          ],
          "heatmapgl": [
           {
            "colorbar": {
             "outlinewidth": 0,
             "ticks": ""
            },
            "colorscale": [
             [
              0,
              "#0d0887"
             ],
             [
              0.1111111111111111,
              "#46039f"
             ],
             [
              0.2222222222222222,
              "#7201a8"
             ],
             [
              0.3333333333333333,
              "#9c179e"
             ],
             [
              0.4444444444444444,
              "#bd3786"
             ],
             [
              0.5555555555555556,
              "#d8576b"
             ],
             [
              0.6666666666666666,
              "#ed7953"
             ],
             [
              0.7777777777777778,
              "#fb9f3a"
             ],
             [
              0.8888888888888888,
              "#fdca26"
             ],
             [
              1,
              "#f0f921"
             ]
            ],
            "type": "heatmapgl"
           }
          ],
          "histogram": [
           {
            "marker": {
             "pattern": {
              "fillmode": "overlay",
              "size": 10,
              "solidity": 0.2
             }
            },
            "type": "histogram"
           }
          ],
          "histogram2d": [
           {
            "colorbar": {
             "outlinewidth": 0,
             "ticks": ""
            },
            "colorscale": [
             [
              0,
              "#0d0887"
             ],
             [
              0.1111111111111111,
              "#46039f"
             ],
             [
              0.2222222222222222,
              "#7201a8"
             ],
             [
              0.3333333333333333,
              "#9c179e"
             ],
             [
              0.4444444444444444,
              "#bd3786"
             ],
             [
              0.5555555555555556,
              "#d8576b"
             ],
             [
              0.6666666666666666,
              "#ed7953"
             ],
             [
              0.7777777777777778,
              "#fb9f3a"
             ],
             [
              0.8888888888888888,
              "#fdca26"
             ],
             [
              1,
              "#f0f921"
             ]
            ],
            "type": "histogram2d"
           }
          ],
          "histogram2dcontour": [
           {
            "colorbar": {
             "outlinewidth": 0,
             "ticks": ""
            },
            "colorscale": [
             [
              0,
              "#0d0887"
             ],
             [
              0.1111111111111111,
              "#46039f"
             ],
             [
              0.2222222222222222,
              "#7201a8"
             ],
             [
              0.3333333333333333,
              "#9c179e"
             ],
             [
              0.4444444444444444,
              "#bd3786"
             ],
             [
              0.5555555555555556,
              "#d8576b"
             ],
             [
              0.6666666666666666,
              "#ed7953"
             ],
             [
              0.7777777777777778,
              "#fb9f3a"
             ],
             [
              0.8888888888888888,
              "#fdca26"
             ],
             [
              1,
              "#f0f921"
             ]
            ],
            "type": "histogram2dcontour"
           }
          ],
          "mesh3d": [
           {
            "colorbar": {
             "outlinewidth": 0,
             "ticks": ""
            },
            "type": "mesh3d"
           }
          ],
          "parcoords": [
           {
            "line": {
             "colorbar": {
              "outlinewidth": 0,
              "ticks": ""
             }
            },
            "type": "parcoords"
           }
          ],
          "pie": [
           {
            "automargin": true,
            "type": "pie"
           }
          ],
          "scatter": [
           {
            "fillpattern": {
             "fillmode": "overlay",
             "size": 10,
             "solidity": 0.2
            },
            "type": "scatter"
           }
          ],
          "scatter3d": [
           {
            "line": {
             "colorbar": {
              "outlinewidth": 0,
              "ticks": ""
             }
            },
            "marker": {
             "colorbar": {
              "outlinewidth": 0,
              "ticks": ""
             }
            },
            "type": "scatter3d"
           }
          ],
          "scattercarpet": [
           {
            "marker": {
             "colorbar": {
              "outlinewidth": 0,
              "ticks": ""
             }
            },
            "type": "scattercarpet"
           }
          ],
          "scattergeo": [
           {
            "marker": {
             "colorbar": {
              "outlinewidth": 0,
              "ticks": ""
             }
            },
            "type": "scattergeo"
           }
          ],
          "scattergl": [
           {
            "marker": {
             "colorbar": {
              "outlinewidth": 0,
              "ticks": ""
             }
            },
            "type": "scattergl"
           }
          ],
          "scattermapbox": [
           {
            "marker": {
             "colorbar": {
              "outlinewidth": 0,
              "ticks": ""
             }
            },
            "type": "scattermapbox"
           }
          ],
          "scatterpolar": [
           {
            "marker": {
             "colorbar": {
              "outlinewidth": 0,
              "ticks": ""
             }
            },
            "type": "scatterpolar"
           }
          ],
          "scatterpolargl": [
           {
            "marker": {
             "colorbar": {
              "outlinewidth": 0,
              "ticks": ""
             }
            },
            "type": "scatterpolargl"
           }
          ],
          "scatterternary": [
           {
            "marker": {
             "colorbar": {
              "outlinewidth": 0,
              "ticks": ""
             }
            },
            "type": "scatterternary"
           }
          ],
          "surface": [
           {
            "colorbar": {
             "outlinewidth": 0,
             "ticks": ""
            },
            "colorscale": [
             [
              0,
              "#0d0887"
             ],
             [
              0.1111111111111111,
              "#46039f"
             ],
             [
              0.2222222222222222,
              "#7201a8"
             ],
             [
              0.3333333333333333,
              "#9c179e"
             ],
             [
              0.4444444444444444,
              "#bd3786"
             ],
             [
              0.5555555555555556,
              "#d8576b"
             ],
             [
              0.6666666666666666,
              "#ed7953"
             ],
             [
              0.7777777777777778,
              "#fb9f3a"
             ],
             [
              0.8888888888888888,
              "#fdca26"
             ],
             [
              1,
              "#f0f921"
             ]
            ],
            "type": "surface"
           }
          ],
          "table": [
           {
            "cells": {
             "fill": {
              "color": "#EBF0F8"
             },
             "line": {
              "color": "white"
             }
            },
            "header": {
             "fill": {
              "color": "#C8D4E3"
             },
             "line": {
              "color": "white"
             }
            },
            "type": "table"
           }
          ]
         },
         "layout": {
          "annotationdefaults": {
           "arrowcolor": "#2a3f5f",
           "arrowhead": 0,
           "arrowwidth": 1
          },
          "autotypenumbers": "strict",
          "coloraxis": {
           "colorbar": {
            "outlinewidth": 0,
            "ticks": ""
           }
          },
          "colorscale": {
           "diverging": [
            [
             0,
             "#8e0152"
            ],
            [
             0.1,
             "#c51b7d"
            ],
            [
             0.2,
             "#de77ae"
            ],
            [
             0.3,
             "#f1b6da"
            ],
            [
             0.4,
             "#fde0ef"
            ],
            [
             0.5,
             "#f7f7f7"
            ],
            [
             0.6,
             "#e6f5d0"
            ],
            [
             0.7,
             "#b8e186"
            ],
            [
             0.8,
             "#7fbc41"
            ],
            [
             0.9,
             "#4d9221"
            ],
            [
             1,
             "#276419"
            ]
           ],
           "sequential": [
            [
             0,
             "#0d0887"
            ],
            [
             0.1111111111111111,
             "#46039f"
            ],
            [
             0.2222222222222222,
             "#7201a8"
            ],
            [
             0.3333333333333333,
             "#9c179e"
            ],
            [
             0.4444444444444444,
             "#bd3786"
            ],
            [
             0.5555555555555556,
             "#d8576b"
            ],
            [
             0.6666666666666666,
             "#ed7953"
            ],
            [
             0.7777777777777778,
             "#fb9f3a"
            ],
            [
             0.8888888888888888,
             "#fdca26"
            ],
            [
             1,
             "#f0f921"
            ]
           ],
           "sequentialminus": [
            [
             0,
             "#0d0887"
            ],
            [
             0.1111111111111111,
             "#46039f"
            ],
            [
             0.2222222222222222,
             "#7201a8"
            ],
            [
             0.3333333333333333,
             "#9c179e"
            ],
            [
             0.4444444444444444,
             "#bd3786"
            ],
            [
             0.5555555555555556,
             "#d8576b"
            ],
            [
             0.6666666666666666,
             "#ed7953"
            ],
            [
             0.7777777777777778,
             "#fb9f3a"
            ],
            [
             0.8888888888888888,
             "#fdca26"
            ],
            [
             1,
             "#f0f921"
            ]
           ]
          },
          "colorway": [
           "#636efa",
           "#EF553B",
           "#00cc96",
           "#ab63fa",
           "#FFA15A",
           "#19d3f3",
           "#FF6692",
           "#B6E880",
           "#FF97FF",
           "#FECB52"
          ],
          "font": {
           "color": "#2a3f5f"
          },
          "geo": {
           "bgcolor": "white",
           "lakecolor": "white",
           "landcolor": "#E5ECF6",
           "showlakes": true,
           "showland": true,
           "subunitcolor": "white"
          },
          "hoverlabel": {
           "align": "left"
          },
          "hovermode": "closest",
          "mapbox": {
           "style": "light"
          },
          "paper_bgcolor": "white",
          "plot_bgcolor": "#E5ECF6",
          "polar": {
           "angularaxis": {
            "gridcolor": "white",
            "linecolor": "white",
            "ticks": ""
           },
           "bgcolor": "#E5ECF6",
           "radialaxis": {
            "gridcolor": "white",
            "linecolor": "white",
            "ticks": ""
           }
          },
          "scene": {
           "xaxis": {
            "backgroundcolor": "#E5ECF6",
            "gridcolor": "white",
            "gridwidth": 2,
            "linecolor": "white",
            "showbackground": true,
            "ticks": "",
            "zerolinecolor": "white"
           },
           "yaxis": {
            "backgroundcolor": "#E5ECF6",
            "gridcolor": "white",
            "gridwidth": 2,
            "linecolor": "white",
            "showbackground": true,
            "ticks": "",
            "zerolinecolor": "white"
           },
           "zaxis": {
            "backgroundcolor": "#E5ECF6",
            "gridcolor": "white",
            "gridwidth": 2,
            "linecolor": "white",
            "showbackground": true,
            "ticks": "",
            "zerolinecolor": "white"
           }
          },
          "shapedefaults": {
           "line": {
            "color": "#2a3f5f"
           }
          },
          "ternary": {
           "aaxis": {
            "gridcolor": "white",
            "linecolor": "white",
            "ticks": ""
           },
           "baxis": {
            "gridcolor": "white",
            "linecolor": "white",
            "ticks": ""
           },
           "bgcolor": "#E5ECF6",
           "caxis": {
            "gridcolor": "white",
            "linecolor": "white",
            "ticks": ""
           }
          },
          "title": {
           "x": 0.05
          },
          "xaxis": {
           "automargin": true,
           "gridcolor": "white",
           "linecolor": "white",
           "ticks": "",
           "title": {
            "standoff": 15
           },
           "zerolinecolor": "white",
           "zerolinewidth": 2
          },
          "yaxis": {
           "automargin": true,
           "gridcolor": "white",
           "linecolor": "white",
           "ticks": "",
           "title": {
            "standoff": 15
           },
           "zerolinecolor": "white",
           "zerolinewidth": 2
          }
         }
        },
        "title": {
         "text": "Amount of air traffic passengers"
        },
        "xaxis": {
         "anchor": "y",
         "domain": [
          0,
          1
         ],
         "title": {
          "text": "Periods"
         }
        },
        "yaxis": {
         "anchor": "x",
         "domain": [
          0,
          1
         ],
         "title": {
          "text": "Percentage incline/decline"
         }
        }
       }
      }
     },
     "metadata": {},
     "output_type": "display_data"
    },
    {
     "data": {
      "text/plain": [
       "<Figure size 72x72 with 0 Axes>"
      ]
     },
     "metadata": {},
     "output_type": "display_data"
    }
   ],
   "source": [
    "\n",
    "\n",
    "fig = px.line(at_df_complete, y='Percentage incline/decline',\n",
    "              color='Airports', title='Amount of air traffic passengers')\n",
    "\n",
    "\n",
    "\n",
    "fig.show()\n"
   ]
  },
  {
   "cell_type": "markdown",
   "metadata": {},
   "source": []
  }
 ],
 "metadata": {
  "kernelspec": {
   "display_name": "Python 3.8.3 ('base')",
   "language": "python",
   "name": "python3"
  },
  "language_info": {
   "codemirror_mode": {
    "name": "ipython",
    "version": 3
   },
   "file_extension": ".py",
   "mimetype": "text/x-python",
   "name": "python",
   "nbconvert_exporter": "python",
   "pygments_lexer": "ipython3",
   "version": "3.8.3"
  },
  "vscode": {
   "interpreter": {
    "hash": "605ff5a4862b76171aee86d7e610aeb6cd24258ab9e9d00d70ae533ebe3d2ed1"
   }
  }
 },
 "nbformat": 4,
 "nbformat_minor": 2
}
