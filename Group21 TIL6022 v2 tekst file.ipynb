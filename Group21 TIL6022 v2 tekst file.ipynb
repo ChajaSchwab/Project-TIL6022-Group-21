{
 "cells": [
  {
   "cell_type": "markdown",
   "id": "dd983a38",
   "metadata": {},
   "source": [
    "# Research Question:\n",
    "**How did Covid-19 affect the passenger air traffic in the Netherlands?**\n",
    "\n",
    "*Time scope:*\n",
    "January 2019 - August 2022\n",
    "(Covid-19 begin datum, toen nog geen meetgegevens, dus nemen data vanaf xx-xx-xxxx)\n",
    "2019 is our base case scenario, the impact of Covid on the number of passenger is measured by comparing a given month in the pandemic with the corresponding month in the base case scenario.\n",
    "\n",
    "*Spatial scope:* \n",
    "All passengers related to the following airports fall inside the scope: Amsterdam Airport Schiphol, Rotterdam The Hague Airport, Eindhoven Airport, Maastricht Aachen Airport and Groningen Airport Eelde. It has been decided to consider the number of passenger instead of flights. The reasoning behind this is that the number of flights might not be representative as airlines operated empty flights in order to keep their airport slot during Covid-19 (https://nos.nl/artikel/2412154-die-duizenden-lege-vluchten-zijn-volgens-luchthavenkoepel-helemaal-niet-nodig). \n",
    "\n",
    "*Definitions:*\n",
    "As stated in the reasearch question, only passenger air traffic is considered; cargo and mail air traffic fall outside the scope of this research. Moreover, our hypothesis is that mail and cargo air traffic have been less affected by Covid-19. Passenger air traffic is measured in number of passenger (not in number of flights). \n",
    "\n",
    "\n",
    "# Subquestions: \n",
    "**Subquestion 1**\n",
    "\n",
    "How has the number of air traffic passengers developed in the considered time and spatial scope?\n",
    "\n",
    "*Hypothesis:* It is expected that the number of passengers is dependent on the governmental regulations in place. In times of strict regulations, it is expected that the number of air passengers is low. When Covid-19 measurements where low, it is expected that the number of passengers is broadly comparable to the number of passengers before Covid-19.  \n",
    "\n",
    "\n",
    "**Subquestion 2**\n",
    "\n",
    "How has the number of new Covid-19 cases developed in the considered time in the Netherlands?\n",
    "\n",
    "*Hypothesis:* It is expected that the number of Covid infections is dependent on seasonality and the regualtions in place. \n",
    "\n",
    "\n",
    "**Subquestion 3**\n",
    "\n",
    "Are there relative differences in the development of air traffic passengers between the considered airports in the Netherlands?\n",
    "\n",
    "*Hypothesis:* Groningen airport is mainly focused on pleasure flights (BRON), therefore it is expected that the number of passengers has been less affected compared to other airports. \n",
    "\n",
    "\n",
    "**Subquestion 4**\n",
    "\n",
    "How has COVID-19 impacted air traffic from and to various regions / continents?\n",
    "\n",
    "*Hypothesis:* It is expected that number of air passengers on intercontinental flights has been more affected than EUROPEAN FLIGHTS?"
   ]
  },
  {
   "cell_type": "markdown",
   "id": "f2150958",
   "metadata": {},
   "source": [
    "# Project Group - \n",
    "\n",
    "Members: Eva Lijnen, Chaja Swab, Willemijn Dietz, Veerle van Citters, Noa Zijlmans\n",
    "\n",
    "Student numbers: 4570812, 4661753, 5868130, 5871026, 4957024 "
   ]
  },
  {
   "cell_type": "markdown",
   "id": "507bf29d",
   "metadata": {},
   "source": [
    "# Research Objective\n",
    "\n",
    "*Requires data modeling and quantitative research in Transport, Infrastructure & Logistics*"
   ]
  },
  {
   "cell_type": "markdown",
   "id": "7ab4a08d",
   "metadata": {},
   "source": [
    "# Discussion:\n",
    "\n",
    "- Covid cases: niet bekend / betrouwbaar in begin van pandemie (definieer tijdsperiode). \n",
    "- Seasonality: take into accoutn\n",
    "- 'Yearly' growth of air traffic not incorporated between 2019-2022\n",
    "- External factors outside the scope: high costs / inflation / recession, fear of Covid, personnel shortages\n",
    "- July misschien niet representative "
   ]
  },
  {
   "cell_type": "markdown",
   "id": "b7029aac",
   "metadata": {},
   "source": [
    "# Contribution Statement\n",
    "\n",
    "*Be specific. Some of the tasks can be coding (expect everyone to do this), background research, conceptualisation, visualisation, data analysis, data modelling*"
   ]
  },
  {
   "cell_type": "markdown",
   "id": "baf1e148",
   "metadata": {},
   "source": [
    "**Author 1**:\n",
    "\n",
    "**Author 2**:\n",
    "\n",
    "**Author 3**:"
   ]
  },
  {
   "cell_type": "markdown",
   "id": "1da43ef7",
   "metadata": {},
   "source": [
    "# Data Used"
   ]
  },
  {
   "cell_type": "markdown",
   "id": "70581250",
   "metadata": {},
   "source": [
    "# Data Pipeline"
   ]
  },
  {
   "cell_type": "markdown",
   "id": "ae5a0e18",
   "metadata": {},
   "source": [
    "# Subquestion 1\n",
    "\n",
    "In this visualisation...\n",
    "\n",
    "call visualisation"
   ]
  },
  {
   "cell_type": "code",
   "execution_count": 1,
   "id": "daff09a9",
   "metadata": {},
   "outputs": [
    {
     "ename": "SyntaxError",
     "evalue": "invalid syntax (<ipython-input-1-e1ce81e6bc81>, line 1)",
     "output_type": "error",
     "traceback": [
      "\u001b[0;36m  File \u001b[0;32m\"<ipython-input-1-e1ce81e6bc81>\"\u001b[0;36m, line \u001b[0;32m1\u001b[0m\n\u001b[0;31m    from /Users/veerlevancitters/Project-TIL6022-Group-21/Group21 TIL6022 v2.ipynb import *\u001b[0m\n\u001b[0m         ^\u001b[0m\n\u001b[0;31mSyntaxError\u001b[0m\u001b[0;31m:\u001b[0m invalid syntax\n"
     ]
    }
   ],
   "source": [
    "from /Users/veerlevancitters/Project-TIL6022-Group-21/Group21 TIL6022 v2.ipynb import *\n",
    "\n",
    "\n",
    "\n",
    "\n",
    "#from  Project-TIL6022-Group-21.Group21_TIL6022_v2 import *\n",
    "\n",
    "#Project-TIL6022-Group-21\n"
   ]
  },
  {
   "cell_type": "markdown",
   "id": "bb14e7da",
   "metadata": {},
   "source": [
    "# Subquestion 2:\n",
    "\n",
    "Filtered and prepared the data. Use of new_cases_smoothed --> justification based on source.\n",
    "Only Covid-19 measurements that have a direct impact on travelling, have been considered in this subquestion."
   ]
  },
  {
   "cell_type": "markdown",
   "id": "ac2e1695",
   "metadata": {},
   "source": [
    "# Subquestion 3\n",
    "\n",
    "In this visualisation...\n",
    "\n",
    "\n",
    "call visualisation"
   ]
  },
  {
   "cell_type": "markdown",
   "id": "4bc443f6",
   "metadata": {},
   "source": [
    "# Subquestion 4\n",
    "\n",
    "In this visualisation...\n",
    "\n",
    "\n",
    "call visualisation"
   ]
  },
  {
   "cell_type": "code",
   "execution_count": null,
   "id": "5fda0e9d",
   "metadata": {},
   "outputs": [],
   "source": []
  }
 ],
 "metadata": {
  "kernelspec": {
   "display_name": "Python 3",
   "language": "python",
   "name": "python3"
  },
  "language_info": {
   "codemirror_mode": {
    "name": "ipython",
    "version": 3
   },
   "file_extension": ".py",
   "mimetype": "text/x-python",
   "name": "python",
   "nbconvert_exporter": "python",
   "pygments_lexer": "ipython3",
   "version": "3.8.8"
  }
 },
 "nbformat": 4,
 "nbformat_minor": 5
}
